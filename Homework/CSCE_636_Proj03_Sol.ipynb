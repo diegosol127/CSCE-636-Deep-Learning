{
  "cells": [
    {
      "cell_type": "markdown",
      "metadata": {
        "id": "t_tfeI-D5ljr"
      },
      "source": [
        "# Project 03\n",
        "\n",
        "**Submitted by: Diego Sol**\n",
        "\n",
        "CSCE 636-600: Deep Learning\n",
        "\n",
        "Professor: Dr. Anxiao Jiang\n",
        "\n",
        "----------------\n",
        "\n",
        "**This project is on language modeling for an artificial language. We want to build a model such that given a \"partial text\" in the artificial language, the model can predict the next word.**\n",
        "\n",
        "**Your task is to design and train a good model, which takes \"partial texts\" as input, and predicts the \"next word\" for each \"partial text\".**\n",
        "\n",
        "**Your trained model will be evaluated using a hold-out testing set. The testing set also consists of a list of \"partial texts\" (as the model's input) and a list of \"next word\" (to be compared to your model's output). In the list of \"partial texts\", each \"partial text\" is a list of words instead of a single string, just like the \"partial texts\" above that we have for the training set. The performance of your model will be measured by its \"accuracy for words\", defined as the fraction of \"next words\" that your model correctly predicts.**"
      ]
    },
    {
      "cell_type": "markdown",
      "metadata": {
        "id": "G5MzwW8qy2rX"
      },
      "source": [
        "# Initialization\n",
        "\n",
        "**This section includes mounting the session to Google Drive, importing necessary libraries to run the file, and downloading and reformatting the training datasets.**"
      ]
    },
    {
      "cell_type": "markdown",
      "metadata": {
        "id": "a3AJEjfnn_cq"
      },
      "source": [
        "## Mount Colab"
      ]
    },
    {
      "cell_type": "code",
      "execution_count": 2,
      "metadata": {
        "colab": {
          "base_uri": "https://localhost:8080/"
        },
        "id": "cULh3hNhoV4r",
        "outputId": "b5d722c3-d9cf-47af-9baf-eb552fb78da2"
      },
      "outputs": [
        {
          "output_type": "stream",
          "name": "stdout",
          "text": [
            "Mounted at /content/drive\n"
          ]
        }
      ],
      "source": [
        "from google.colab import drive\n",
        "drive.mount('/content/drive')"
      ]
    },
    {
      "cell_type": "markdown",
      "metadata": {
        "id": "RJPLra2ZJ1hF"
      },
      "source": [
        "## Import Libraries"
      ]
    },
    {
      "cell_type": "code",
      "execution_count": 61,
      "metadata": {
        "id": "-72cuX2wJzxC"
      },
      "outputs": [],
      "source": [
        "import pickle\n",
        "import tensorflow as tf\n",
        "import numpy as np\n",
        "\n",
        "from tensorflow import keras\n",
        "from tensorflow.keras import layers\n",
        "from matplotlib import pyplot as plt\n",
        "\n",
        "rng = np.random.default_rng()"
      ]
    },
    {
      "cell_type": "markdown",
      "metadata": {
        "id": "unk0YCjqsBO4"
      },
      "source": [
        "## Import Data\n",
        "\n",
        "Download training inputs and outputs."
      ]
    },
    {
      "cell_type": "code",
      "execution_count": 62,
      "metadata": {
        "id": "VWM2jK5GpKxT",
        "colab": {
          "base_uri": "https://localhost:8080/"
        },
        "outputId": "c4421d74-22f5-4423-fbd9-95c19d1cd438"
      },
      "outputs": [
        {
          "output_type": "stream",
          "name": "stderr",
          "text": [
            "/usr/local/lib/python3.7/dist-packages/ipykernel_launcher.py:2: VisibleDeprecationWarning: Creating an ndarray from ragged nested sequences (which is a list-or-tuple of lists-or-tuples-or ndarrays with different lengths or shapes) is deprecated. If you meant to do this, you must specify 'dtype=object' when creating the ndarray.\n",
            "  \n"
          ]
        }
      ],
      "source": [
        "raw_train_input = pickle.load(open('/content/drive/MyDrive/Colab Notebooks/CSCE_636_Project_3/DS_5_train_output', 'rb'))\n",
        "prefix_list = np.asarray(pickle.load(open('/content/drive/MyDrive/Colab Notebooks/CSCE_636_Project_3/DS_5_train_input_prefixList', 'rb')))\n",
        "nextWord_list = np.asarray(pickle.load(open('/content/drive/MyDrive/Colab Notebooks/CSCE_636_Project_3/DS_5_train_input_nextWord', 'rb')))"
      ]
    },
    {
      "cell_type": "markdown",
      "metadata": {
        "id": "MBQGgIxDbYV3"
      },
      "source": [
        "## Pre-process Data"
      ]
    },
    {
      "cell_type": "markdown",
      "source": [
        "Remove spaces from the data the contains complete sentences. We see that the longest complete sentence contains 64 words."
      ],
      "metadata": {
        "id": "rAyCk4k21YvH"
      }
    },
    {
      "cell_type": "code",
      "execution_count": 63,
      "metadata": {
        "id": "EYNqvMk4ZqMH",
        "colab": {
          "base_uri": "https://localhost:8080/"
        },
        "outputId": "d532a33d-f164-494d-8bf4-3b60ee6a4f79"
      },
      "outputs": [
        {
          "output_type": "execute_result",
          "data": {
            "text/plain": [
              "64"
            ]
          },
          "metadata": {},
          "execution_count": 63
        }
      ],
      "source": [
        "s = \" \"\n",
        "vocabulary = []\n",
        "\n",
        "for i, sentence in enumerate(raw_train_input):\n",
        "  vocabulary.append(sentence.replace(s, \"\"))\n",
        "\n",
        "len(max(vocabulary,key=len))"
      ]
    },
    {
      "cell_type": "code",
      "source": [
        "num_outputs = len(set(nextWord_list))\n",
        "print(num_outputs)"
      ],
      "metadata": {
        "id": "3jyUW_-Hv7VQ",
        "outputId": "4b56c7f3-5e37-43bd-eeb6-5086d6cf3a5a",
        "colab": {
          "base_uri": "https://localhost:8080/"
        }
      },
      "execution_count": 64,
      "outputs": [
        {
          "output_type": "stream",
          "name": "stdout",
          "text": [
            "11\n"
          ]
        }
      ]
    },
    {
      "cell_type": "markdown",
      "source": [
        "We also see that the longest string in the training data contains 48 words. Therefore, we only need to pad up to 48 to make all of the sequences equal in length."
      ],
      "metadata": {
        "id": "Hxdy-c8o0Fka"
      }
    },
    {
      "cell_type": "code",
      "source": [
        "len(max(prefix_list,key=len))"
      ],
      "metadata": {
        "colab": {
          "base_uri": "https://localhost:8080/"
        },
        "id": "GlLjRbPPzFHV",
        "outputId": "5d2fa4b3-ef9b-4272-8ed8-30140497333c"
      },
      "execution_count": 65,
      "outputs": [
        {
          "output_type": "execute_result",
          "data": {
            "text/plain": [
              "48"
            ]
          },
          "metadata": {},
          "execution_count": 65
        }
      ]
    },
    {
      "cell_type": "markdown",
      "source": [
        "Convert downloaded data into a list of padded strings of the same length for training."
      ],
      "metadata": {
        "id": "obSwUvxr3ucp"
      }
    },
    {
      "cell_type": "code",
      "source": [
        "train_input = []\n",
        "\n",
        "for i, phrase in enumerate(prefix_list):\n",
        "  train_input.append(s.join(phrase))\n",
        "\n",
        "print(train_input[0])"
      ],
      "metadata": {
        "colab": {
          "base_uri": "https://localhost:8080/"
        },
        "id": "kbWCDOu33nLi",
        "outputId": "d1dffedf-195b-43fc-fb89-0a198db794c7"
      },
      "execution_count": 66,
      "outputs": [
        {
          "output_type": "stream",
          "name": "stdout",
          "text": [
            "a g b f a f a e a k a j c f b f c d a k\n"
          ]
        }
      ]
    },
    {
      "cell_type": "markdown",
      "source": [
        "Pad the input data using the `TextVectorization` layer.\n"
      ],
      "metadata": {
        "id": "RiON5HIC5-WF"
      }
    },
    {
      "cell_type": "code",
      "source": [
        "input_vectorization = layers.TextVectorization(output_sequence_length=100)\n",
        "input_vectorization.adapt(train_input)\n",
        "\n",
        "output_vectorization = layers.TextVectorization(output_sequence_length=1)\n",
        "output_vectorization.adapt(nextWord_list)\n",
        "\n",
        "train_input_vec = input_vectorization(train_input)\n",
        "train_output_vec = output_vectorization(nextWord_list)\n",
        "\n",
        "print(train_input_vec[0])\n",
        "print(train_output_vec[0])"
      ],
      "metadata": {
        "colab": {
          "base_uri": "https://localhost:8080/"
        },
        "id": "At7ipKao6GcV",
        "outputId": "bed23c9d-31a5-482a-d805-25b41c0f6c26"
      },
      "execution_count": 67,
      "outputs": [
        {
          "output_type": "stream",
          "name": "stdout",
          "text": [
            "tf.Tensor(\n",
            "[ 2  8  3  7  2  7  2  5  2  9  2 11  4  7  3  7  4  6  2  9  0  0  0  0\n",
            "  0  0  0  0  0  0  0  0  0  0  0  0  0  0  0  0  0  0  0  0  0  0  0  0\n",
            "  0  0  0  0  0  0  0  0  0  0  0  0  0  0  0  0  0  0  0  0  0  0  0  0\n",
            "  0  0  0  0  0  0  0  0  0  0  0  0  0  0  0  0  0  0  0  0  0  0  0  0\n",
            "  0  0  0  0], shape=(100,), dtype=int64)\n",
            "tf.Tensor([2], shape=(1,), dtype=int64)\n"
          ]
        }
      ]
    },
    {
      "cell_type": "code",
      "source": [
        "input_vectorization.get_vocabulary()"
      ],
      "metadata": {
        "id": "sofWb7Vt5ybU",
        "outputId": "c1086243-691e-4c07-f65a-889bc19ceeb0",
        "colab": {
          "base_uri": "https://localhost:8080/"
        }
      },
      "execution_count": 68,
      "outputs": [
        {
          "output_type": "execute_result",
          "data": {
            "text/plain": [
              "['', '[UNK]', 'a', 'b', 'c', 'e', 'd', 'f', 'g', 'k', 'i', 'j', 'h']"
            ]
          },
          "metadata": {},
          "execution_count": 68
        }
      ]
    },
    {
      "cell_type": "code",
      "source": [
        "output_vectorization.get_vocabulary()"
      ],
      "metadata": {
        "id": "YWvXb-d553m6",
        "outputId": "bf3888b3-4c9e-4a04-bc05-876448969933",
        "colab": {
          "base_uri": "https://localhost:8080/"
        }
      },
      "execution_count": 69,
      "outputs": [
        {
          "output_type": "execute_result",
          "data": {
            "text/plain": [
              "['', '[UNK]', 'a', 'b', 'c', 'e', 'd', 'g', 'f', 'k', 'i', 'j', 'h']"
            ]
          },
          "metadata": {},
          "execution_count": 69
        }
      ]
    },
    {
      "cell_type": "markdown",
      "source": [
        "# Dense Model"
      ],
      "metadata": {
        "id": "D4LdCyH_3waS"
      }
    },
    {
      "cell_type": "markdown",
      "source": [
        "## Network Architecture\n",
        "\n",
        "Consists of two dense layers and a droupout layer. This simple model is able to achieve a validation accuracy of about 31.47%."
      ],
      "metadata": {
        "id": "gpCT5H1J6cgT"
      }
    },
    {
      "cell_type": "code",
      "source": [
        "inputs = keras.Input(shape=(100), name=\"input\")\n",
        "x = layers.Dense(64, activation=\"relu\", name=\"hidden_layer_1\")(inputs)\n",
        "x = layers.Dense(64, activation=\"relu\", name=\"hidden_layer_2\")(x)\n",
        "x = layers.Dropout(0.5, name=\"dropout_layer\")(x)\n",
        "outputs = layers.Dense(13, activation=\"softmax\", name=\"output\")(x)\n",
        "\n",
        "dense_model = keras.Model(inputs, outputs, name=\"Dense_Model\")\n",
        "dense_model.summary()\n",
        "\n",
        "tf.keras.utils.plot_model(dense_model, show_shapes=True)"
      ],
      "metadata": {
        "colab": {
          "base_uri": "https://localhost:8080/",
          "height": 862
        },
        "id": "RRUzr0p28VN4",
        "outputId": "d3931c4e-c737-46ab-fe0d-102a3f8b8eda"
      },
      "execution_count": 139,
      "outputs": [
        {
          "output_type": "stream",
          "name": "stdout",
          "text": [
            "Model: \"Dense_Model\"\n",
            "_________________________________________________________________\n",
            " Layer (type)                Output Shape              Param #   \n",
            "=================================================================\n",
            " input (InputLayer)          [(None, 100)]             0         \n",
            "                                                                 \n",
            " hidden_layer_1 (Dense)      (None, 64)                6464      \n",
            "                                                                 \n",
            " hidden_layer_2 (Dense)      (None, 64)                4160      \n",
            "                                                                 \n",
            " dropout_layer (Dropout)     (None, 64)                0         \n",
            "                                                                 \n",
            " output (Dense)              (None, 13)                845       \n",
            "                                                                 \n",
            "=================================================================\n",
            "Total params: 11,469\n",
            "Trainable params: 11,469\n",
            "Non-trainable params: 0\n",
            "_________________________________________________________________\n"
          ]
        },
        {
          "output_type": "execute_result",
          "data": {
            "text/plain": [
              "<IPython.core.display.Image object>"
            ],
            "image/png": "[encoded data removed]"
          },
          "metadata": {},
          "execution_count": 139
        }
      ]
    },
    {
      "cell_type": "code",
      "source": [
        "dense_model.compile(\n",
        "    optimizer=\"rmsprop\",\n",
        "    loss=\"sparse_categorical_crossentropy\",\n",
        "    metrics=[\"accuracy\"])\n",
        "\n",
        "callbacks = [\n",
        "    keras.callbacks.ModelCheckpoint(\n",
        "        filepath = \"/content/drive/MyDrive/Colab Notebooks/CSCE_636_Project_3/Proj03_dense_model.keras\",\n",
        "        save_best_only=True,\n",
        "        monitor=\"val_loss\"),\n",
        "    keras.callbacks.EarlyStopping(\n",
        "        monitor=\"val_loss\",\n",
        "        patience=10,\n",
        "        verbose=1,\n",
        "        restore_best_weights=True)\n",
        "]"
      ],
      "metadata": {
        "id": "CbNKEISm8X36"
      },
      "execution_count": 140,
      "outputs": []
    },
    {
      "cell_type": "markdown",
      "source": [
        ""
      ],
      "metadata": {
        "id": "aQ6XpxAi3tMm"
      }
    },
    {
      "cell_type": "code",
      "source": [
        "history = dense_model.fit(\n",
        "    train_input_vec,train_output_vec,\n",
        "    validation_split=0.3,\n",
        "    epochs=50,\n",
        "    batch_size=32)"
      ],
      "metadata": {
        "id": "INSoeqwj3qif",
        "outputId": "da7927cf-4e36-4e92-d97f-b59a4e1beef4",
        "colab": {
          "base_uri": "https://localhost:8080/"
        }
      },
      "execution_count": 141,
      "outputs": [
        {
          "output_type": "stream",
          "name": "stdout",
          "text": [
            "Epoch 1/50\n",
            "110/110 [==============================] - 2s 12ms/step - loss: 2.5768 - accuracy: 0.1526 - val_loss: 2.1825 - val_accuracy: 0.1820\n",
            "Epoch 2/50\n",
            "110/110 [==============================] - 0s 3ms/step - loss: 2.2410 - accuracy: 0.1749 - val_loss: 2.1393 - val_accuracy: 0.2000\n",
            "Epoch 3/50\n",
            "110/110 [==============================] - 1s 8ms/step - loss: 2.1757 - accuracy: 0.1854 - val_loss: 2.1191 - val_accuracy: 0.2220\n",
            "Epoch 4/50\n",
            "110/110 [==============================] - 0s 3ms/step - loss: 2.1352 - accuracy: 0.1869 - val_loss: 2.0815 - val_accuracy: 0.2107\n",
            "Epoch 5/50\n",
            "110/110 [==============================] - 0s 3ms/step - loss: 2.0935 - accuracy: 0.2057 - val_loss: 2.0633 - val_accuracy: 0.2173\n",
            "Epoch 6/50\n",
            "110/110 [==============================] - 1s 9ms/step - loss: 2.0483 - accuracy: 0.2186 - val_loss: 2.0160 - val_accuracy: 0.2413\n",
            "Epoch 7/50\n",
            "110/110 [==============================] - 1s 9ms/step - loss: 2.0036 - accuracy: 0.2237 - val_loss: 1.9691 - val_accuracy: 0.2453\n",
            "Epoch 8/50\n",
            "110/110 [==============================] - 1s 8ms/step - loss: 1.9729 - accuracy: 0.2317 - val_loss: 1.9289 - val_accuracy: 0.2573\n",
            "Epoch 9/50\n",
            "110/110 [==============================] - 0s 3ms/step - loss: 1.9220 - accuracy: 0.2531 - val_loss: 1.9238 - val_accuracy: 0.2467\n",
            "Epoch 10/50\n",
            "110/110 [==============================] - 0s 3ms/step - loss: 1.8835 - accuracy: 0.2543 - val_loss: 1.8601 - val_accuracy: 0.2693\n",
            "Epoch 11/50\n",
            "110/110 [==============================] - 0s 4ms/step - loss: 1.8514 - accuracy: 0.2711 - val_loss: 1.8240 - val_accuracy: 0.2773\n",
            "Epoch 12/50\n",
            "110/110 [==============================] - 1s 9ms/step - loss: 1.8191 - accuracy: 0.2700 - val_loss: 1.8142 - val_accuracy: 0.2827\n",
            "Epoch 13/50\n",
            "110/110 [==============================] - 1s 10ms/step - loss: 1.7726 - accuracy: 0.2677 - val_loss: 1.7727 - val_accuracy: 0.2880\n",
            "Epoch 14/50\n",
            "110/110 [==============================] - 0s 3ms/step - loss: 1.7529 - accuracy: 0.2854 - val_loss: 1.8169 - val_accuracy: 0.2647\n",
            "Epoch 15/50\n",
            "110/110 [==============================] - 0s 3ms/step - loss: 1.7392 - accuracy: 0.2926 - val_loss: 1.7366 - val_accuracy: 0.2873\n",
            "Epoch 16/50\n",
            "110/110 [==============================] - 0s 3ms/step - loss: 1.7099 - accuracy: 0.2926 - val_loss: 1.7082 - val_accuracy: 0.2973\n",
            "Epoch 17/50\n",
            "110/110 [==============================] - 0s 3ms/step - loss: 1.6829 - accuracy: 0.2963 - val_loss: 1.7335 - val_accuracy: 0.2927\n",
            "Epoch 18/50\n",
            "110/110 [==============================] - 0s 3ms/step - loss: 1.6655 - accuracy: 0.2974 - val_loss: 1.7009 - val_accuracy: 0.3053\n",
            "Epoch 19/50\n",
            "110/110 [==============================] - 0s 3ms/step - loss: 1.6473 - accuracy: 0.2989 - val_loss: 1.7039 - val_accuracy: 0.2920\n",
            "Epoch 20/50\n",
            "110/110 [==============================] - 0s 3ms/step - loss: 1.6346 - accuracy: 0.3157 - val_loss: 1.7080 - val_accuracy: 0.2860\n",
            "Epoch 21/50\n",
            "110/110 [==============================] - 0s 3ms/step - loss: 1.6118 - accuracy: 0.3149 - val_loss: 1.6523 - val_accuracy: 0.3107\n",
            "Epoch 22/50\n",
            "110/110 [==============================] - 0s 3ms/step - loss: 1.6102 - accuracy: 0.3083 - val_loss: 1.6262 - val_accuracy: 0.3033\n",
            "Epoch 23/50\n",
            "110/110 [==============================] - 0s 3ms/step - loss: 1.5923 - accuracy: 0.3146 - val_loss: 1.7209 - val_accuracy: 0.2960\n",
            "Epoch 24/50\n",
            "110/110 [==============================] - 0s 3ms/step - loss: 1.5853 - accuracy: 0.3131 - val_loss: 1.6394 - val_accuracy: 0.3047\n",
            "Epoch 25/50\n",
            "110/110 [==============================] - 0s 3ms/step - loss: 1.5626 - accuracy: 0.3229 - val_loss: 1.6268 - val_accuracy: 0.3120\n",
            "Epoch 26/50\n",
            "110/110 [==============================] - 0s 3ms/step - loss: 1.5481 - accuracy: 0.3291 - val_loss: 1.5998 - val_accuracy: 0.3120\n",
            "Epoch 27/50\n",
            "110/110 [==============================] - 0s 3ms/step - loss: 1.5411 - accuracy: 0.3220 - val_loss: 1.5998 - val_accuracy: 0.3093\n",
            "Epoch 28/50\n",
            "110/110 [==============================] - 0s 3ms/step - loss: 1.5336 - accuracy: 0.3217 - val_loss: 1.5804 - val_accuracy: 0.3080\n",
            "Epoch 29/50\n",
            "110/110 [==============================] - 0s 3ms/step - loss: 1.5287 - accuracy: 0.3203 - val_loss: 1.6500 - val_accuracy: 0.3153\n",
            "Epoch 30/50\n",
            "110/110 [==============================] - 0s 3ms/step - loss: 1.5133 - accuracy: 0.3286 - val_loss: 1.6463 - val_accuracy: 0.3000\n",
            "Epoch 31/50\n",
            "110/110 [==============================] - 0s 3ms/step - loss: 1.5144 - accuracy: 0.3271 - val_loss: 1.6326 - val_accuracy: 0.3207\n",
            "Epoch 32/50\n",
            "110/110 [==============================] - 0s 3ms/step - loss: 1.5025 - accuracy: 0.3323 - val_loss: 1.5901 - val_accuracy: 0.3093\n",
            "Epoch 33/50\n",
            "110/110 [==============================] - 0s 3ms/step - loss: 1.4997 - accuracy: 0.3323 - val_loss: 1.5948 - val_accuracy: 0.3013\n",
            "Epoch 34/50\n",
            "110/110 [==============================] - 0s 3ms/step - loss: 1.4954 - accuracy: 0.3286 - val_loss: 1.5636 - val_accuracy: 0.3147\n",
            "Epoch 35/50\n",
            "110/110 [==============================] - 0s 3ms/step - loss: 1.4851 - accuracy: 0.3371 - val_loss: 1.8147 - val_accuracy: 0.2820\n",
            "Epoch 36/50\n",
            "110/110 [==============================] - 0s 3ms/step - loss: 1.4821 - accuracy: 0.3411 - val_loss: 1.5903 - val_accuracy: 0.3193\n",
            "Epoch 37/50\n",
            "110/110 [==============================] - 0s 3ms/step - loss: 1.4755 - accuracy: 0.3369 - val_loss: 1.5816 - val_accuracy: 0.3220\n",
            "Epoch 38/50\n",
            "110/110 [==============================] - 0s 3ms/step - loss: 1.4601 - accuracy: 0.3377 - val_loss: 1.6148 - val_accuracy: 0.3247\n",
            "Epoch 39/50\n",
            "110/110 [==============================] - 0s 3ms/step - loss: 1.4613 - accuracy: 0.3414 - val_loss: 1.6362 - val_accuracy: 0.3233\n",
            "Epoch 40/50\n",
            "110/110 [==============================] - 0s 3ms/step - loss: 1.4586 - accuracy: 0.3391 - val_loss: 1.6613 - val_accuracy: 0.3040\n",
            "Epoch 41/50\n",
            "110/110 [==============================] - 0s 3ms/step - loss: 1.4509 - accuracy: 0.3503 - val_loss: 1.6541 - val_accuracy: 0.3073\n",
            "Epoch 42/50\n",
            "110/110 [==============================] - 0s 3ms/step - loss: 1.4443 - accuracy: 0.3451 - val_loss: 1.6165 - val_accuracy: 0.3087\n",
            "Epoch 43/50\n",
            "110/110 [==============================] - 0s 3ms/step - loss: 1.4563 - accuracy: 0.3466 - val_loss: 1.5910 - val_accuracy: 0.3207\n",
            "Epoch 44/50\n",
            "110/110 [==============================] - 0s 3ms/step - loss: 1.4396 - accuracy: 0.3460 - val_loss: 1.5933 - val_accuracy: 0.3060\n",
            "Epoch 45/50\n",
            "110/110 [==============================] - 0s 3ms/step - loss: 1.4433 - accuracy: 0.3474 - val_loss: 1.6173 - val_accuracy: 0.3167\n",
            "Epoch 46/50\n",
            "110/110 [==============================] - 0s 3ms/step - loss: 1.4328 - accuracy: 0.3434 - val_loss: 1.6203 - val_accuracy: 0.3187\n",
            "Epoch 47/50\n",
            "110/110 [==============================] - 0s 3ms/step - loss: 1.4334 - accuracy: 0.3426 - val_loss: 1.5775 - val_accuracy: 0.3180\n",
            "Epoch 48/50\n",
            "110/110 [==============================] - 0s 3ms/step - loss: 1.4294 - accuracy: 0.3477 - val_loss: 1.7852 - val_accuracy: 0.2907\n",
            "Epoch 49/50\n",
            "110/110 [==============================] - 0s 3ms/step - loss: 1.4334 - accuracy: 0.3469 - val_loss: 1.6334 - val_accuracy: 0.3000\n",
            "Epoch 50/50\n",
            "110/110 [==============================] - 0s 3ms/step - loss: 1.4281 - accuracy: 0.3466 - val_loss: 1.6098 - val_accuracy: 0.3120\n"
          ]
        }
      ]
    },
    {
      "cell_type": "markdown",
      "source": [
        "## Training History"
      ],
      "metadata": {
        "id": "uoZ8Mm7i6t3u"
      }
    },
    {
      "cell_type": "markdown",
      "source": [
        "Parse the training history data."
      ],
      "metadata": {
        "id": "thhM4umz7Av_"
      }
    },
    {
      "cell_type": "code",
      "source": [
        "# history data\n",
        "history_dict = history.history\n",
        "\n",
        "# training metric history\n",
        "train_loss_values = history_dict[\"loss\"]\n",
        "train_acc_values = history_dict[\"accuracy\"]\n",
        "\n",
        "# validation metric history\n",
        "val_loss_values = history_dict[\"val_loss\"]\n",
        "val_acc_values = history_dict[\"val_accuracy\"]\n",
        "\n",
        "# epochs\n",
        "epochs = range(1, len(train_loss_values) + 1)\n",
        "\n",
        "# minimum loss location\n",
        "min_loss_pos = val_loss_values.index(min(val_loss_values))"
      ],
      "metadata": {
        "id": "AW94DYUK416c"
      },
      "execution_count": 142,
      "outputs": []
    },
    {
      "cell_type": "markdown",
      "source": [
        "## Loss"
      ],
      "metadata": {
        "id": "hjnKlGtN72Dm"
      }
    },
    {
      "cell_type": "code",
      "source": [
        "# create figure for training and validation loss\n",
        "fig1, ax1 = plt.subplots()\n",
        "\n",
        "# plot\n",
        "ax1.plot(epochs, train_loss_values, \"bo\", label=\"Training Loss\")\n",
        "ax1.plot(epochs, val_loss_values, \"b\", label=\"Validation Loss\")\n",
        "ax1.set_title(\"Training and Validation Loss\")\n",
        "ax1.set_xlabel(\"Epochs\")\n",
        "ax1.set_ylabel(\"Loss\")\n",
        "ax1.legend()\n",
        "plt.show()"
      ],
      "metadata": {
        "id": "Czm2GhM844US",
        "outputId": "5b8647c5-4294-4f20-eef5-78e71fd8277f",
        "colab": {
          "base_uri": "https://localhost:8080/",
          "height": 295
        }
      },
      "execution_count": 143,
      "outputs": [
        {
          "output_type": "display_data",
          "data": {
            "text/plain": [
              "<Figure size 432x288 with 1 Axes>"
            ],
            "image/png": "[encoded data removed]"
          },
          "metadata": {
            "needs_background": "light"
          }
        }
      ]
    },
    {
      "cell_type": "code",
      "source": [
        "print(f\"Loss: {val_loss_values[min_loss_pos]}\")"
      ],
      "metadata": {
        "id": "7I0KPolD84nc",
        "outputId": "8850ab76-f2fd-40c7-b22f-027ff5d21db3",
        "colab": {
          "base_uri": "https://localhost:8080/"
        }
      },
      "execution_count": 144,
      "outputs": [
        {
          "output_type": "stream",
          "name": "stdout",
          "text": [
            "Loss: 1.5636383295059204\n"
          ]
        }
      ]
    },
    {
      "cell_type": "markdown",
      "source": [
        "## Accuracy"
      ],
      "metadata": {
        "id": "inGu0o2T74k3"
      }
    },
    {
      "cell_type": "code",
      "source": [
        "# create figure for training data\n",
        "fig2, ax2 = plt.subplots()\n",
        "\n",
        "# plot\n",
        "ax2.plot(epochs, train_acc_values, \"bo\", label=\"Training Accuracy\")\n",
        "ax2.plot(epochs, val_acc_values, \"b\", label=\"Validation Accuracy\")\n",
        "ax2.set_title(\"Training and Accuracy Loss\")\n",
        "ax2.set_xlabel(\"Epochs\")\n",
        "ax2.set_ylabel(\"Accuracy\")\n",
        "ax2.legend()\n",
        "plt.show()"
      ],
      "metadata": {
        "id": "gqCgYcf246JP",
        "outputId": "c4240406-989f-4bba-f95e-07a5c7072560",
        "colab": {
          "base_uri": "https://localhost:8080/",
          "height": 295
        }
      },
      "execution_count": 145,
      "outputs": [
        {
          "output_type": "display_data",
          "data": {
            "text/plain": [
              "<Figure size 432x288 with 1 Axes>"
            ],
            "image/png": "[encoded data removed]"
          },
          "metadata": {
            "needs_background": "light"
          }
        }
      ]
    },
    {
      "cell_type": "code",
      "source": [
        "print(f\"Accuracy: {val_acc_values[min_loss_pos]}\")"
      ],
      "metadata": {
        "id": "N9yd0lVm-qdf",
        "outputId": "999f7af0-c25c-47be-bfb5-e1cab0b59adf",
        "colab": {
          "base_uri": "https://localhost:8080/"
        }
      },
      "execution_count": 146,
      "outputs": [
        {
          "output_type": "stream",
          "name": "stdout",
          "text": [
            "Accuracy: 0.31466665863990784\n"
          ]
        }
      ]
    },
    {
      "cell_type": "markdown",
      "source": [
        "# LSTM Model"
      ],
      "metadata": {
        "id": "wmthRpE-_q9C"
      }
    }
  ],
  "metadata": {
    "accelerator": "GPU",
    "colab": {
      "machine_shape": "hm",
      "name": "CSCE_636_HW04_Sol.ipynb",
      "provenance": [],
      "toc_visible": true
    },
    "interpreter": {
      "hash": "02de5609ef162b6bcc51dd429fd31b9a1f163c414526741362218fd7f2e354ad"
    },
    "kernelspec": {
      "display_name": "Python 3.9.7 64-bit",
      "language": "python",
      "name": "python3"
    },
    "language_info": {
      "codemirror_mode": {
        "name": "ipython",
        "version": 3
      },
      "file_extension": ".py",
      "mimetype": "text/x-python",
      "name": "python",
      "nbconvert_exporter": "python",
      "pygments_lexer": "ipython3",
      "version": "3.9.7"
    },
    "orig_nbformat": 4
  },
  "nbformat": 4,
  "nbformat_minor": 0
}