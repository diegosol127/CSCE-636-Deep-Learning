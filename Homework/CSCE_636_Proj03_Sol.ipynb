{
  "cells": [
    {
      "cell_type": "markdown",
      "metadata": {
        "id": "t_tfeI-D5ljr"
      },
      "source": [
        "# Project 03\n",
        "\n",
        "**Submitted by: Diego Sol**\n",
        "\n",
        "CSCE 636-600: Deep Learning\n",
        "\n",
        "Professor: Dr. Anxiao Jiang\n",
        "\n",
        "----------------\n",
        "\n",
        "**This project is on language modeling for an artificial language. We want to build a model such that given a \"partial text\" in the artificial language, the model can predict the next word.**\n",
        "\n",
        "**Your task is to design and train a good model, which takes \"partial texts\" as input, and predicts the \"next word\" for each \"partial text\".**\n",
        "\n",
        "**Your trained model will be evaluated using a hold-out testing set. The testing set also consists of a list of \"partial texts\" (as the model's input) and a list of \"next word\" (to be compared to your model's output). In the list of \"partial texts\", each \"partial text\" is a list of words instead of a single string, just like the \"partial texts\" above that we have for the training set. The performance of your model will be measured by its \"accuracy for words\", defined as the fraction of \"next words\" that your model correctly predicts.**"
      ]
    },
    {
      "cell_type": "markdown",
      "metadata": {
        "id": "G5MzwW8qy2rX"
      },
      "source": [
        "# Initialization\n",
        "\n",
        "**This section includes mounting the session to Google Drive, importing necessary libraries to run the file, and downloading and reformatting the training datasets.**"
      ]
    },
    {
      "cell_type": "markdown",
      "metadata": {
        "id": "a3AJEjfnn_cq"
      },
      "source": [
        "## Mount Colab"
      ]
    },
    {
      "cell_type": "code",
      "execution_count": 1,
      "metadata": {
        "colab": {
          "base_uri": "https://localhost:8080/"
        },
        "id": "cULh3hNhoV4r",
        "outputId": "9546ef5f-9b47-48a7-84af-bf972731867f"
      },
      "outputs": [
        {
          "output_type": "stream",
          "name": "stdout",
          "text": [
            "Mounted at /content/drive\n"
          ]
        }
      ],
      "source": [
        "from google.colab import drive\n",
        "drive.mount('/content/drive')"
      ]
    },
    {
      "cell_type": "markdown",
      "metadata": {
        "id": "RJPLra2ZJ1hF"
      },
      "source": [
        "## Import Libraries"
      ]
    },
    {
      "cell_type": "code",
      "execution_count": 2,
      "metadata": {
        "id": "-72cuX2wJzxC"
      },
      "outputs": [],
      "source": [
        "import pickle\n",
        "import tensorflow as tf\n",
        "import numpy as np\n",
        "\n",
        "from tensorflow import keras\n",
        "from tensorflow.keras import layers\n",
        "from matplotlib import pyplot as plt\n",
        "\n",
        "rng = np.random.default_rng()"
      ]
    },
    {
      "cell_type": "markdown",
      "metadata": {
        "id": "unk0YCjqsBO4"
      },
      "source": [
        "## Import Data\n",
        "\n",
        "Download training inputs and outputs."
      ]
    },
    {
      "cell_type": "code",
      "execution_count": 40,
      "metadata": {
        "id": "VWM2jK5GpKxT",
        "outputId": "11a2543b-d9f9-4d68-a699-336742d229d8",
        "colab": {
          "base_uri": "https://localhost:8080/"
        }
      },
      "outputs": [
        {
          "output_type": "stream",
          "name": "stderr",
          "text": [
            "/usr/local/lib/python3.7/dist-packages/ipykernel_launcher.py:2: VisibleDeprecationWarning: Creating an ndarray from ragged nested sequences (which is a list-or-tuple of lists-or-tuples-or ndarrays with different lengths or shapes) is deprecated. If you meant to do this, you must specify 'dtype=object' when creating the ndarray.\n",
            "  \n"
          ]
        }
      ],
      "source": [
        "raw_train_input = pickle.load(open('/content/drive/MyDrive/Colab Notebooks/CSCE_636_Project_3/DS_5_train_output', 'rb'))\n",
        "prefix_list = np.asarray(pickle.load(open('/content/drive/MyDrive/Colab Notebooks/CSCE_636_Project_3/DS_5_train_input_prefixList', 'rb')))\n",
        "nextWord_list = np.asarray(pickle.load(open('/content/drive/MyDrive/Colab Notebooks/CSCE_636_Project_3/DS_5_train_input_nextWord', 'rb')))"
      ]
    },
    {
      "cell_type": "markdown",
      "metadata": {
        "id": "MBQGgIxDbYV3"
      },
      "source": [
        "## Pre-process Data"
      ]
    },
    {
      "cell_type": "markdown",
      "source": [
        "Remove spaces from the data the contains complete sentences. We see that the longest complete sentence contains 64 words."
      ],
      "metadata": {
        "id": "rAyCk4k21YvH"
      }
    },
    {
      "cell_type": "code",
      "execution_count": 57,
      "metadata": {
        "id": "EYNqvMk4ZqMH",
        "outputId": "695f97e5-93fa-4e3a-acc0-18701b99793c",
        "colab": {
          "base_uri": "https://localhost:8080/"
        }
      },
      "outputs": [
        {
          "output_type": "execute_result",
          "data": {
            "text/plain": [
              "64"
            ]
          },
          "metadata": {},
          "execution_count": 57
        }
      ],
      "source": [
        "s = \" \"\n",
        "vocabulary = []\n",
        "\n",
        "for i, sentence in enumerate(raw_train_input):\n",
        "  vocabulary.append(sentence.replace(s, \"\"))\n",
        "\n",
        "len(max(vocabulary,key=len))"
      ]
    },
    {
      "cell_type": "markdown",
      "source": [
        "We also see that the longest string in the training data contains 48 words. Therefore, we only need to pad up to 48 to make all of the sequences equal in length."
      ],
      "metadata": {
        "id": "Hxdy-c8o0Fka"
      }
    },
    {
      "cell_type": "code",
      "source": [
        "len(max(prefix_list,key=len))"
      ],
      "metadata": {
        "id": "GlLjRbPPzFHV",
        "outputId": "812a48ae-2f9d-4a43-fa30-6155773b80da",
        "colab": {
          "base_uri": "https://localhost:8080/"
        }
      },
      "execution_count": 58,
      "outputs": [
        {
          "output_type": "execute_result",
          "data": {
            "text/plain": [
              "48"
            ]
          },
          "metadata": {},
          "execution_count": 58
        }
      ]
    },
    {
      "cell_type": "markdown",
      "source": [
        "Convert downloaded data into a list of padded strings of the same length for training."
      ],
      "metadata": {
        "id": "obSwUvxr3ucp"
      }
    },
    {
      "cell_type": "code",
      "source": [
        "train_input = []\n",
        "\n",
        "for i, phrase in enumerate(prefix_list):\n",
        "  train_input.append(s.join(phrase))\n",
        "\n",
        "print(train_input[0])"
      ],
      "metadata": {
        "id": "kbWCDOu33nLi",
        "outputId": "fed23a58-3497-43dc-ad37-93961ded13cf",
        "colab": {
          "base_uri": "https://localhost:8080/"
        }
      },
      "execution_count": 60,
      "outputs": [
        {
          "output_type": "stream",
          "name": "stdout",
          "text": [
            "a g b f a f a e a k a j c f b f c d a k\n"
          ]
        }
      ]
    },
    {
      "cell_type": "markdown",
      "source": [
        "Pad the input data using the `TextVectorization` layer.\n"
      ],
      "metadata": {
        "id": "RiON5HIC5-WF"
      }
    },
    {
      "cell_type": "code",
      "source": [
        "input_vectorization = layers.TextVectorization(output_sequence_length=100)\n",
        "input_vectorization.adapt(train_input)\n",
        "\n",
        "output_vectorization = layers.TextVectorization(output_sequence_length=1)\n",
        "output_vectorization.adapt(nextWord_list)\n",
        "\n",
        "train_input_vec = input_vectorization(train_input)\n",
        "train_output_vec = output_vectorization(nextWord_list)\n",
        "\n",
        "print(train_input_vec[0])\n",
        "print(train_output_vec[0])"
      ],
      "metadata": {
        "id": "At7ipKao6GcV",
        "outputId": "71763a70-31f5-4b4f-f356-ef5d2b20e571",
        "colab": {
          "base_uri": "https://localhost:8080/"
        }
      },
      "execution_count": 68,
      "outputs": [
        {
          "output_type": "stream",
          "name": "stdout",
          "text": [
            "tf.Tensor(\n",
            "[ 2  8  3  7  2  7  2  5  2  9  2 11  4  7  3  7  4  6  2  9  0  0  0  0\n",
            "  0  0  0  0  0  0  0  0  0  0  0  0  0  0  0  0  0  0  0  0  0  0  0  0\n",
            "  0  0  0  0  0  0  0  0  0  0  0  0  0  0  0  0  0  0  0  0  0  0  0  0\n",
            "  0  0  0  0  0  0  0  0  0  0  0  0  0  0  0  0  0  0  0  0  0  0  0  0\n",
            "  0  0  0  0], shape=(100,), dtype=int64)\n",
            "tf.Tensor([2], shape=(1,), dtype=int64)\n"
          ]
        }
      ]
    },
    {
      "cell_type": "code",
      "source": [
        "inputs = keras.Input(shape=(100), name=\"input\")\n",
        "x = layers.Dense(32, activation=\"relu\")(inputs)\n",
        "x = layers.Dense(32, activation=\"relu\")(x)\n",
        "x = layers.Dense(32, activation=\"relu\")(x)\n",
        "outputs = layers.Dense(13, activation=\"softmax\")(x)\n",
        "\n",
        "model = keras.Model(inputs, outputs)\n",
        "model.summary()\n",
        "\n",
        "tf.keras.utils.plot_model(model, show_shapes=True)"
      ],
      "metadata": {
        "id": "RRUzr0p28VN4",
        "outputId": "03f00cda-39a5-433f-ae09-7334b63fa2fa",
        "colab": {
          "base_uri": "https://localhost:8080/",
          "height": 862
        }
      },
      "execution_count": 71,
      "outputs": [
        {
          "output_type": "stream",
          "name": "stdout",
          "text": [
            "Model: \"model_1\"\n",
            "_________________________________________________________________\n",
            " Layer (type)                Output Shape              Param #   \n",
            "=================================================================\n",
            " input (InputLayer)          [(None, 100)]             0         \n",
            "                                                                 \n",
            " dense_8 (Dense)             (None, 32)                3232      \n",
            "                                                                 \n",
            " dense_9 (Dense)             (None, 32)                1056      \n",
            "                                                                 \n",
            " dense_10 (Dense)            (None, 32)                1056      \n",
            "                                                                 \n",
            " dense_11 (Dense)            (None, 13)                429       \n",
            "                                                                 \n",
            "=================================================================\n",
            "Total params: 5,773\n",
            "Trainable params: 5,773\n",
            "Non-trainable params: 0\n",
            "_________________________________________________________________\n"
          ]
        },
        {
          "output_type": "execute_result",
          "data": {
            "text/plain": [
              "<IPython.core.display.Image object>"
            ],
            "image/png": "[encoded data removed]"
          },
          "metadata": {},
          "execution_count": 71
        }
      ]
    },
    {
      "cell_type": "code",
      "source": [
        "history = model.fit(train_input_vec,train_output_vec,\n",
        "                    validation_split = 0.3,\n",
        "                    epochs = 15,\n",
        "                    batch_size=32)\n",
        "\n"
      ],
      "metadata": {
        "id": "CbNKEISm8X36"
      },
      "execution_count": null,
      "outputs": []
    }
  ],
  "metadata": {
    "accelerator": "GPU",
    "colab": {
      "machine_shape": "hm",
      "name": "CSCE_636_HW04_Sol.ipynb",
      "provenance": []
    },
    "interpreter": {
      "hash": "02de5609ef162b6bcc51dd429fd31b9a1f163c414526741362218fd7f2e354ad"
    },
    "kernelspec": {
      "display_name": "Python 3.9.7 64-bit",
      "language": "python",
      "name": "python3"
    },
    "language_info": {
      "codemirror_mode": {
        "name": "ipython",
        "version": 3
      },
      "file_extension": ".py",
      "mimetype": "text/x-python",
      "name": "python",
      "nbconvert_exporter": "python",
      "pygments_lexer": "ipython3",
      "version": "3.9.7"
    },
    "orig_nbformat": 4
  },
  "nbformat": 4,
  "nbformat_minor": 0
}