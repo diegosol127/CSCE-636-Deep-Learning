{
  "cells": [
    {
      "cell_type": "markdown",
      "metadata": {
        "id": "t_tfeI-D5ljr"
      },
      "source": [
        "# Project 03\n",
        "\n",
        "**Submitted by: Diego Sol**\n",
        "\n",
        "CSCE 636-600: Deep Learning\n",
        "\n",
        "Professor: Dr. Anxiao Jiang\n",
        "\n",
        "----------------\n",
        "\n",
        "**This project is on language modeling for an artificial language. We want to build a model such that given a \"partial text\" in the artificial language, the model can predict the next word.**\n",
        "\n",
        "**Your task is to design and train a good model, which takes \"partial texts\" as input, and predicts the \"next word\" for each \"partial text\".**\n",
        "\n",
        "**Your trained model will be evaluated using a hold-out testing set. The testing set also consists of a list of \"partial texts\" (as the model's input) and a list of \"next word\" (to be compared to your model's output). In the list of \"partial texts\", each \"partial text\" is a list of words instead of a single string, just like the \"partial texts\" above that we have for the training set. The performance of your model will be measured by its \"accuracy for words\", defined as the fraction of \"next words\" that your model correctly predicts.**"
      ]
    },
    {
      "cell_type": "markdown",
      "metadata": {
        "id": "G5MzwW8qy2rX"
      },
      "source": [
        "# Initialization\n",
        "\n",
        "**This section includes mounting the session to Google Drive, importing necessary libraries to run the file, and downloading and reformatting the training datasets.**"
      ]
    },
    {
      "cell_type": "markdown",
      "metadata": {
        "id": "a3AJEjfnn_cq"
      },
      "source": [
        "## Mount Colab"
      ]
    },
    {
      "cell_type": "code",
      "execution_count": 166,
      "metadata": {
        "colab": {
          "base_uri": "https://localhost:8080/"
        },
        "id": "cULh3hNhoV4r",
        "outputId": "4e284b08-08ce-4c46-a644-30839d00b4bc"
      },
      "outputs": [
        {
          "output_type": "stream",
          "name": "stdout",
          "text": [
            "Drive already mounted at /content/drive; to attempt to forcibly remount, call drive.mount(\"/content/drive\", force_remount=True).\n"
          ]
        }
      ],
      "source": [
        "from google.colab import drive\n",
        "drive.mount('/content/drive')"
      ]
    },
    {
      "cell_type": "markdown",
      "metadata": {
        "id": "RJPLra2ZJ1hF"
      },
      "source": [
        "## Import Libraries"
      ]
    },
    {
      "cell_type": "code",
      "execution_count": 194,
      "metadata": {
        "id": "-72cuX2wJzxC"
      },
      "outputs": [],
      "source": [
        "import pickle\n",
        "import tensorflow as tf\n",
        "import numpy as np\n",
        "\n",
        "from tensorflow import keras\n",
        "from tensorflow.keras import layers\n",
        "from matplotlib import pyplot as plt\n",
        "\n",
        "rng = np.random.default_rng()"
      ]
    },
    {
      "cell_type": "markdown",
      "metadata": {
        "id": "unk0YCjqsBO4"
      },
      "source": [
        "## Import Data\n",
        "\n",
        "Download training inputs and outputs."
      ]
    },
    {
      "cell_type": "code",
      "execution_count": 195,
      "metadata": {
        "id": "VWM2jK5GpKxT",
        "colab": {
          "base_uri": "https://localhost:8080/"
        },
        "outputId": "7f1d1524-9209-4567-a85d-ef36089082df"
      },
      "outputs": [
        {
          "output_type": "stream",
          "name": "stderr",
          "text": [
            "/usr/local/lib/python3.7/dist-packages/ipykernel_launcher.py:2: VisibleDeprecationWarning: Creating an ndarray from ragged nested sequences (which is a list-or-tuple of lists-or-tuples-or ndarrays with different lengths or shapes) is deprecated. If you meant to do this, you must specify 'dtype=object' when creating the ndarray.\n",
            "  \n"
          ]
        }
      ],
      "source": [
        "raw_train_input = pickle.load(open('/content/drive/MyDrive/Colab Notebooks/CSCE_636_Project_3/DS_5_train_output', 'rb'))\n",
        "prefix_list = np.asarray(pickle.load(open('/content/drive/MyDrive/Colab Notebooks/CSCE_636_Project_3/DS_5_train_input_prefixList', 'rb')))\n",
        "nextWord_list = np.asarray(pickle.load(open('/content/drive/MyDrive/Colab Notebooks/CSCE_636_Project_3/DS_5_train_input_nextWord', 'rb')))"
      ]
    },
    {
      "cell_type": "markdown",
      "metadata": {
        "id": "MBQGgIxDbYV3"
      },
      "source": [
        "## Pre-process Data"
      ]
    },
    {
      "cell_type": "markdown",
      "source": [
        "Remove spaces from the data the contains complete sentences. We see that the longest complete sentence contains 64 words."
      ],
      "metadata": {
        "id": "rAyCk4k21YvH"
      }
    },
    {
      "cell_type": "code",
      "execution_count": 196,
      "metadata": {
        "id": "EYNqvMk4ZqMH",
        "colab": {
          "base_uri": "https://localhost:8080/"
        },
        "outputId": "d560ad3c-4ba2-43e8-d44b-4b3be16b7817"
      },
      "outputs": [
        {
          "output_type": "execute_result",
          "data": {
            "text/plain": [
              "64"
            ]
          },
          "metadata": {},
          "execution_count": 196
        }
      ],
      "source": [
        "s = \" \"\n",
        "vocabulary = []\n",
        "\n",
        "for i, sentence in enumerate(raw_train_input):\n",
        "  vocabulary.append(sentence.replace(s, \"\"))\n",
        "\n",
        "len(max(vocabulary,key=len))"
      ]
    },
    {
      "cell_type": "markdown",
      "source": [
        "We also see that the longest string in the training set contains 48 words."
      ],
      "metadata": {
        "id": "tUAOzFM9OLnR"
      }
    },
    {
      "cell_type": "code",
      "source": [
        "len(max(prefix_list,key=len))"
      ],
      "metadata": {
        "colab": {
          "base_uri": "https://localhost:8080/"
        },
        "id": "GlLjRbPPzFHV",
        "outputId": "637a155a-2704-4791-e913-ece5d1156e7b"
      },
      "execution_count": 228,
      "outputs": [
        {
          "output_type": "execute_result",
          "data": {
            "text/plain": [
              "48"
            ]
          },
          "metadata": {},
          "execution_count": 228
        }
      ]
    },
    {
      "cell_type": "markdown",
      "source": [
        "Convert downloaded data into a list of padded strings of the same length for training."
      ],
      "metadata": {
        "id": "obSwUvxr3ucp"
      }
    },
    {
      "cell_type": "code",
      "source": [
        "train_input = []\n",
        "\n",
        "for i, phrase in enumerate(prefix_list):\n",
        "  train_input.append(s.join(phrase))\n",
        "\n",
        "print(train_input[0])"
      ],
      "metadata": {
        "colab": {
          "base_uri": "https://localhost:8080/"
        },
        "id": "kbWCDOu33nLi",
        "outputId": "5388a354-716c-4623-9ab8-cd05e0da68a9"
      },
      "execution_count": 199,
      "outputs": [
        {
          "output_type": "stream",
          "name": "stdout",
          "text": [
            "a g b f a f a e a k a j c f b f c d a k\n"
          ]
        }
      ]
    },
    {
      "cell_type": "markdown",
      "source": [
        "Pad the input data using the `TextVectorization` layer.\n"
      ],
      "metadata": {
        "id": "RiON5HIC5-WF"
      }
    },
    {
      "cell_type": "code",
      "source": [
        "input_vectorization = layers.TextVectorization(output_sequence_length=100)\n",
        "input_vectorization.adapt(train_input)\n",
        "\n",
        "output_vectorization = layers.TextVectorization(output_sequence_length=1)\n",
        "output_vectorization.adapt(nextWord_list)\n",
        "\n",
        "train_input_vec = input_vectorization(train_input)\n",
        "train_output_vec = output_vectorization(nextWord_list)\n",
        "\n",
        "print(train_input_vec[0])\n",
        "print(train_output_vec[0])"
      ],
      "metadata": {
        "colab": {
          "base_uri": "https://localhost:8080/"
        },
        "id": "At7ipKao6GcV",
        "outputId": "913cdfd3-2b7b-489e-f523-e1017e2a49ff"
      },
      "execution_count": 200,
      "outputs": [
        {
          "output_type": "stream",
          "name": "stdout",
          "text": [
            "tf.Tensor(\n",
            "[ 2  8  3  7  2  7  2  5  2  9  2 11  4  7  3  7  4  6  2  9  0  0  0  0\n",
            "  0  0  0  0  0  0  0  0  0  0  0  0  0  0  0  0  0  0  0  0  0  0  0  0\n",
            "  0  0  0  0  0  0  0  0  0  0  0  0  0  0  0  0  0  0  0  0  0  0  0  0\n",
            "  0  0  0  0  0  0  0  0  0  0  0  0  0  0  0  0  0  0  0  0  0  0  0  0\n",
            "  0  0  0  0], shape=(100,), dtype=int64)\n",
            "tf.Tensor([2], shape=(1,), dtype=int64)\n"
          ]
        }
      ]
    },
    {
      "cell_type": "code",
      "source": [
        "input_vectorization.get_vocabulary()"
      ],
      "metadata": {
        "colab": {
          "base_uri": "https://localhost:8080/"
        },
        "id": "sofWb7Vt5ybU",
        "outputId": "fb785eb4-4a72-4a88-b91f-4ebbd856b525"
      },
      "execution_count": 201,
      "outputs": [
        {
          "output_type": "execute_result",
          "data": {
            "text/plain": [
              "['', '[UNK]', 'a', 'b', 'c', 'e', 'd', 'f', 'g', 'k', 'i', 'j', 'h']"
            ]
          },
          "metadata": {},
          "execution_count": 201
        }
      ]
    },
    {
      "cell_type": "code",
      "source": [
        "output_vectorization.get_vocabulary()"
      ],
      "metadata": {
        "colab": {
          "base_uri": "https://localhost:8080/"
        },
        "id": "YWvXb-d553m6",
        "outputId": "113ea79f-14ee-45b3-daf7-05022cf9e42b"
      },
      "execution_count": 202,
      "outputs": [
        {
          "output_type": "execute_result",
          "data": {
            "text/plain": [
              "['', '[UNK]', 'a', 'b', 'c', 'e', 'd', 'g', 'f', 'k', 'i', 'j', 'h']"
            ]
          },
          "metadata": {},
          "execution_count": 202
        }
      ]
    },
    {
      "cell_type": "markdown",
      "source": [
        "# Dense Model"
      ],
      "metadata": {
        "id": "D4LdCyH_3waS"
      }
    },
    {
      "cell_type": "markdown",
      "source": [
        "## Network Architecture\n",
        "\n",
        "Consists of two dense layers and a droupout layer. This simple model is able to achieve a validation accuracy of about 30%."
      ],
      "metadata": {
        "id": "gpCT5H1J6cgT"
      }
    },
    {
      "cell_type": "code",
      "source": [
        "inputs = keras.Input(shape=(100), name=\"input\")\n",
        "x = layers.Dense(64, activation=\"relu\", name=\"hidden_layer_1\")(inputs)\n",
        "x = layers.Dense(64, activation=\"relu\", name=\"hidden_layer_2\")(x)\n",
        "x = layers.Dropout(0.5, name=\"dropout_layer\")(x)\n",
        "outputs = layers.Dense(13, activation=\"softmax\", name=\"output\")(x)\n",
        "\n",
        "dense_model = keras.Model(inputs, outputs, name=\"Dense_Model\")\n",
        "dense_model.summary()\n",
        "\n",
        "tf.keras.utils.plot_model(dense_model, show_shapes=True)"
      ],
      "metadata": {
        "colab": {
          "base_uri": "https://localhost:8080/",
          "height": 862
        },
        "id": "RRUzr0p28VN4",
        "outputId": "fdc7c87d-f626-4494-d193-23c23c6e6824"
      },
      "execution_count": 203,
      "outputs": [
        {
          "output_type": "stream",
          "name": "stdout",
          "text": [
            "Model: \"Dense_Model\"\n",
            "_________________________________________________________________\n",
            " Layer (type)                Output Shape              Param #   \n",
            "=================================================================\n",
            " input (InputLayer)          [(None, 100)]             0         \n",
            "                                                                 \n",
            " hidden_layer_1 (Dense)      (None, 64)                6464      \n",
            "                                                                 \n",
            " hidden_layer_2 (Dense)      (None, 64)                4160      \n",
            "                                                                 \n",
            " dropout_layer (Dropout)     (None, 64)                0         \n",
            "                                                                 \n",
            " output (Dense)              (None, 13)                845       \n",
            "                                                                 \n",
            "=================================================================\n",
            "Total params: 11,469\n",
            "Trainable params: 11,469\n",
            "Non-trainable params: 0\n",
            "_________________________________________________________________\n"
          ]
        },
        {
          "output_type": "execute_result",
          "data": {
            "text/plain": [
              "<IPython.core.display.Image object>"
            ],
            "image/png": "[encoded data removed]"
          },
          "metadata": {},
          "execution_count": 203
        }
      ]
    },
    {
      "cell_type": "markdown",
      "source": [
        "## Compile and Train"
      ],
      "metadata": {
        "id": "lr_4DqxjB1v7"
      }
    },
    {
      "cell_type": "code",
      "source": [
        "dense_model.compile(\n",
        "    optimizer=\"rmsprop\",\n",
        "    loss=\"sparse_categorical_crossentropy\",\n",
        "    metrics=[\"accuracy\"])\n",
        "\n",
        "callbacks1 = [\n",
        "    keras.callbacks.ModelCheckpoint(\n",
        "        filepath = \"/content/drive/MyDrive/Colab Notebooks/CSCE_636_Project_3/Proj03_dense_model.keras\",\n",
        "        save_best_only=True,\n",
        "        monitor=\"val_loss\"),\n",
        "    keras.callbacks.EarlyStopping(\n",
        "        monitor=\"val_loss\",\n",
        "        patience=10,\n",
        "        verbose=1,\n",
        "        restore_best_weights=True)\n",
        "]"
      ],
      "metadata": {
        "id": "CbNKEISm8X36"
      },
      "execution_count": 204,
      "outputs": []
    },
    {
      "cell_type": "code",
      "source": [
        "history = dense_model.fit(\n",
        "    train_input_vec,train_output_vec,\n",
        "    validation_split=0.3,\n",
        "    callbacks=callbacks1,\n",
        "    epochs=50,\n",
        "    batch_size=32)"
      ],
      "metadata": {
        "colab": {
          "base_uri": "https://localhost:8080/"
        },
        "id": "INSoeqwj3qif",
        "outputId": "e0f4cd73-580c-4cad-c8a0-102b5d88c29e"
      },
      "execution_count": 205,
      "outputs": [
        {
          "output_type": "stream",
          "name": "stdout",
          "text": [
            "Epoch 1/50\n",
            "110/110 [==============================] - 2s 10ms/step - loss: 2.4609 - accuracy: 0.1543 - val_loss: 2.1802 - val_accuracy: 0.1867\n",
            "Epoch 2/50\n",
            "110/110 [==============================] - 0s 4ms/step - loss: 2.2254 - accuracy: 0.1766 - val_loss: 2.1266 - val_accuracy: 0.2067\n",
            "Epoch 3/50\n",
            "110/110 [==============================] - 0s 4ms/step - loss: 2.1646 - accuracy: 0.1863 - val_loss: 2.1110 - val_accuracy: 0.2153\n",
            "Epoch 4/50\n",
            "110/110 [==============================] - 0s 4ms/step - loss: 2.1357 - accuracy: 0.2017 - val_loss: 2.1056 - val_accuracy: 0.2107\n",
            "Epoch 5/50\n",
            "110/110 [==============================] - 0s 4ms/step - loss: 2.1011 - accuracy: 0.2151 - val_loss: 2.0806 - val_accuracy: 0.1967\n",
            "Epoch 6/50\n",
            "110/110 [==============================] - 0s 4ms/step - loss: 2.0777 - accuracy: 0.2074 - val_loss: 2.0502 - val_accuracy: 0.2333\n",
            "Epoch 7/50\n",
            "110/110 [==============================] - 0s 4ms/step - loss: 2.0467 - accuracy: 0.2269 - val_loss: 2.0194 - val_accuracy: 0.2200\n",
            "Epoch 8/50\n",
            "110/110 [==============================] - 0s 4ms/step - loss: 2.0075 - accuracy: 0.2314 - val_loss: 2.0010 - val_accuracy: 0.2320\n",
            "Epoch 9/50\n",
            "110/110 [==============================] - 0s 4ms/step - loss: 1.9858 - accuracy: 0.2357 - val_loss: 1.9699 - val_accuracy: 0.2447\n",
            "Epoch 10/50\n",
            "110/110 [==============================] - 0s 4ms/step - loss: 1.9460 - accuracy: 0.2543 - val_loss: 1.9425 - val_accuracy: 0.2573\n",
            "Epoch 11/50\n",
            "110/110 [==============================] - 0s 4ms/step - loss: 1.9183 - accuracy: 0.2483 - val_loss: 1.9112 - val_accuracy: 0.2500\n",
            "Epoch 12/50\n",
            "110/110 [==============================] - 0s 4ms/step - loss: 1.9002 - accuracy: 0.2563 - val_loss: 1.8988 - val_accuracy: 0.2527\n",
            "Epoch 13/50\n",
            "110/110 [==============================] - 0s 4ms/step - loss: 1.8724 - accuracy: 0.2474 - val_loss: 1.8598 - val_accuracy: 0.2687\n",
            "Epoch 14/50\n",
            "110/110 [==============================] - 0s 4ms/step - loss: 1.8274 - accuracy: 0.2843 - val_loss: 1.8404 - val_accuracy: 0.2467\n",
            "Epoch 15/50\n",
            "110/110 [==============================] - 0s 4ms/step - loss: 1.8128 - accuracy: 0.2720 - val_loss: 1.8337 - val_accuracy: 0.2740\n",
            "Epoch 16/50\n",
            "110/110 [==============================] - 0s 4ms/step - loss: 1.7892 - accuracy: 0.2863 - val_loss: 1.7786 - val_accuracy: 0.2760\n",
            "Epoch 17/50\n",
            "110/110 [==============================] - 0s 3ms/step - loss: 1.7757 - accuracy: 0.2834 - val_loss: 1.7949 - val_accuracy: 0.2780\n",
            "Epoch 18/50\n",
            "110/110 [==============================] - 0s 3ms/step - loss: 1.7379 - accuracy: 0.2874 - val_loss: 1.7809 - val_accuracy: 0.2680\n",
            "Epoch 19/50\n",
            "110/110 [==============================] - 0s 4ms/step - loss: 1.7357 - accuracy: 0.2909 - val_loss: 1.7434 - val_accuracy: 0.2760\n",
            "Epoch 20/50\n",
            "110/110 [==============================] - 0s 3ms/step - loss: 1.7060 - accuracy: 0.2963 - val_loss: 1.7723 - val_accuracy: 0.2820\n",
            "Epoch 21/50\n",
            "110/110 [==============================] - 0s 3ms/step - loss: 1.6926 - accuracy: 0.2974 - val_loss: 1.7119 - val_accuracy: 0.2953\n",
            "Epoch 22/50\n",
            "110/110 [==============================] - 0s 4ms/step - loss: 1.6666 - accuracy: 0.3054 - val_loss: 1.6808 - val_accuracy: 0.2933\n",
            "Epoch 23/50\n",
            "110/110 [==============================] - 0s 3ms/step - loss: 1.6492 - accuracy: 0.3009 - val_loss: 1.7290 - val_accuracy: 0.2933\n",
            "Epoch 24/50\n",
            "110/110 [==============================] - 0s 4ms/step - loss: 1.6291 - accuracy: 0.3071 - val_loss: 1.6690 - val_accuracy: 0.3040\n",
            "Epoch 25/50\n",
            "110/110 [==============================] - 0s 3ms/step - loss: 1.6270 - accuracy: 0.3129 - val_loss: 1.6710 - val_accuracy: 0.3013\n",
            "Epoch 26/50\n",
            "110/110 [==============================] - 0s 3ms/step - loss: 1.6115 - accuracy: 0.3234 - val_loss: 1.7002 - val_accuracy: 0.2880\n",
            "Epoch 27/50\n",
            "110/110 [==============================] - 0s 3ms/step - loss: 1.5972 - accuracy: 0.3180 - val_loss: 1.6928 - val_accuracy: 0.2980\n",
            "Epoch 28/50\n",
            "110/110 [==============================] - 0s 4ms/step - loss: 1.5922 - accuracy: 0.3177 - val_loss: 1.6529 - val_accuracy: 0.3047\n",
            "Epoch 29/50\n",
            "110/110 [==============================] - 0s 3ms/step - loss: 1.5777 - accuracy: 0.3117 - val_loss: 1.6866 - val_accuracy: 0.2973\n",
            "Epoch 30/50\n",
            "110/110 [==============================] - 0s 4ms/step - loss: 1.5660 - accuracy: 0.3206 - val_loss: 1.6394 - val_accuracy: 0.3020\n",
            "Epoch 31/50\n",
            "110/110 [==============================] - 0s 4ms/step - loss: 1.5703 - accuracy: 0.3266 - val_loss: 1.6322 - val_accuracy: 0.3167\n",
            "Epoch 32/50\n",
            "110/110 [==============================] - 0s 3ms/step - loss: 1.5498 - accuracy: 0.3240 - val_loss: 1.6332 - val_accuracy: 0.3147\n",
            "Epoch 33/50\n",
            "110/110 [==============================] - 0s 3ms/step - loss: 1.5570 - accuracy: 0.3269 - val_loss: 1.6678 - val_accuracy: 0.3020\n",
            "Epoch 34/50\n",
            "110/110 [==============================] - 0s 3ms/step - loss: 1.5303 - accuracy: 0.3300 - val_loss: 1.6990 - val_accuracy: 0.2987\n",
            "Epoch 35/50\n",
            "110/110 [==============================] - 0s 3ms/step - loss: 1.5387 - accuracy: 0.3357 - val_loss: 1.7460 - val_accuracy: 0.2813\n",
            "Epoch 36/50\n",
            "110/110 [==============================] - 0s 3ms/step - loss: 1.5259 - accuracy: 0.3377 - val_loss: 1.6478 - val_accuracy: 0.3080\n",
            "Epoch 37/50\n",
            "110/110 [==============================] - 0s 3ms/step - loss: 1.5192 - accuracy: 0.3329 - val_loss: 1.6881 - val_accuracy: 0.2867\n",
            "Epoch 38/50\n",
            "110/110 [==============================] - 0s 4ms/step - loss: 1.5110 - accuracy: 0.3446 - val_loss: 1.6413 - val_accuracy: 0.3113\n",
            "Epoch 39/50\n",
            "110/110 [==============================] - 0s 3ms/step - loss: 1.5097 - accuracy: 0.3357 - val_loss: 1.6427 - val_accuracy: 0.3040\n",
            "Epoch 40/50\n",
            "110/110 [==============================] - 0s 3ms/step - loss: 1.5082 - accuracy: 0.3349 - val_loss: 1.7101 - val_accuracy: 0.3087\n",
            "Epoch 41/50\n",
            "103/110 [===========================>..] - ETA: 0s - loss: 1.5007 - accuracy: 0.3386Restoring model weights from the end of the best epoch: 31.\n",
            "110/110 [==============================] - 0s 3ms/step - loss: 1.4967 - accuracy: 0.3394 - val_loss: 1.6472 - val_accuracy: 0.2960\n",
            "Epoch 41: early stopping\n"
          ]
        }
      ]
    },
    {
      "cell_type": "markdown",
      "source": [
        "## Training History"
      ],
      "metadata": {
        "id": "uoZ8Mm7i6t3u"
      }
    },
    {
      "cell_type": "markdown",
      "source": [
        "Parse the training history data."
      ],
      "metadata": {
        "id": "thhM4umz7Av_"
      }
    },
    {
      "cell_type": "code",
      "source": [
        "# history data\n",
        "history_dict = history.history\n",
        "\n",
        "# training metric history\n",
        "train_loss_values = history_dict[\"loss\"]\n",
        "train_acc_values = history_dict[\"accuracy\"]\n",
        "\n",
        "# validation metric history\n",
        "val_loss_values = history_dict[\"val_loss\"]\n",
        "val_acc_values = history_dict[\"val_accuracy\"]\n",
        "\n",
        "# epochs\n",
        "epochs = range(1, len(train_loss_values) + 1)\n",
        "\n",
        "# minimum loss location\n",
        "min_loss_pos = val_loss_values.index(min(val_loss_values))"
      ],
      "metadata": {
        "id": "AW94DYUK416c"
      },
      "execution_count": 206,
      "outputs": []
    },
    {
      "cell_type": "markdown",
      "source": [
        "## Loss"
      ],
      "metadata": {
        "id": "hjnKlGtN72Dm"
      }
    },
    {
      "cell_type": "code",
      "source": [
        "# create figure for training and validation loss\n",
        "fig1, ax1 = plt.subplots()\n",
        "\n",
        "# plot\n",
        "ax1.plot(epochs, train_loss_values, \"bo\", label=\"Training Loss\")\n",
        "ax1.plot(epochs, val_loss_values, \"b\", label=\"Validation Loss\")\n",
        "ax1.set_title(\"Training and Validation Loss\")\n",
        "ax1.set_xlabel(\"Epochs\")\n",
        "ax1.set_ylabel(\"Loss\")\n",
        "ax1.legend()\n",
        "plt.show()"
      ],
      "metadata": {
        "colab": {
          "base_uri": "https://localhost:8080/",
          "height": 295
        },
        "id": "Czm2GhM844US",
        "outputId": "d89f4512-981f-44c2-ef1b-a5a608a97d91"
      },
      "execution_count": 207,
      "outputs": [
        {
          "output_type": "display_data",
          "data": {
            "text/plain": [
              "<Figure size 432x288 with 1 Axes>"
            ],
            "image/png": "[encoded data removed]"
          },
          "metadata": {
            "needs_background": "light"
          }
        }
      ]
    },
    {
      "cell_type": "code",
      "source": [
        "print(f\"Loss: {val_loss_values[min_loss_pos]}\")"
      ],
      "metadata": {
        "colab": {
          "base_uri": "https://localhost:8080/"
        },
        "id": "7I0KPolD84nc",
        "outputId": "06874e72-b485-4d29-9ffa-cd32886cfbd8"
      },
      "execution_count": 208,
      "outputs": [
        {
          "output_type": "stream",
          "name": "stdout",
          "text": [
            "Loss: 1.6321566104888916\n"
          ]
        }
      ]
    },
    {
      "cell_type": "markdown",
      "source": [
        "## Accuracy"
      ],
      "metadata": {
        "id": "inGu0o2T74k3"
      }
    },
    {
      "cell_type": "code",
      "source": [
        "# create figure for training data\n",
        "fig2, ax2 = plt.subplots()\n",
        "\n",
        "# plot\n",
        "ax2.plot(epochs, train_acc_values, \"bo\", label=\"Training Accuracy\")\n",
        "ax2.plot(epochs, val_acc_values, \"b\", label=\"Validation Accuracy\")\n",
        "ax2.set_title(\"Training and Accuracy Loss\")\n",
        "ax2.set_xlabel(\"Epochs\")\n",
        "ax2.set_ylabel(\"Accuracy\")\n",
        "ax2.legend()\n",
        "plt.show()"
      ],
      "metadata": {
        "colab": {
          "base_uri": "https://localhost:8080/",
          "height": 295
        },
        "id": "gqCgYcf246JP",
        "outputId": "faefcade-19ca-477d-9686-d880f685dc2e"
      },
      "execution_count": 209,
      "outputs": [
        {
          "output_type": "display_data",
          "data": {
            "text/plain": [
              "<Figure size 432x288 with 1 Axes>"
            ],
            "image/png": "[encoded data removed]"
          },
          "metadata": {
            "needs_background": "light"
          }
        }
      ]
    },
    {
      "cell_type": "code",
      "source": [
        "print(f\"Accuracy: {val_acc_values[min_loss_pos]}\")"
      ],
      "metadata": {
        "colab": {
          "base_uri": "https://localhost:8080/"
        },
        "id": "N9yd0lVm-qdf",
        "outputId": "0803b4bb-3f8c-4dd5-e3e7-fd6d20fcce2d"
      },
      "execution_count": 210,
      "outputs": [
        {
          "output_type": "stream",
          "name": "stdout",
          "text": [
            "Accuracy: 0.3166666626930237\n"
          ]
        }
      ]
    },
    {
      "cell_type": "markdown",
      "source": [
        "# LSTM Model"
      ],
      "metadata": {
        "id": "wmthRpE-_q9C"
      }
    },
    {
      "cell_type": "markdown",
      "source": [
        "## Network Architecture\n",
        "\n",
        "This model consists of an word embedding layer, a bidirectional LSTM, a dense layer, and two dropout layers nested in between. This model is able to achieve a validation accuracy of about 30%."
      ],
      "metadata": {
        "id": "-RWwb7P9AmoK"
      }
    },
    {
      "cell_type": "code",
      "source": [
        "inputs = keras.Input(shape=(None,), dtype=\"int64\", name=\"input\")\n",
        "embedded = layers.Embedding(input_dim=13, output_dim=64, mask_zero=True, name=\"embedding_layer\")(inputs)\n",
        "x = layers.Bidirectional(layers.LSTM(64), name=\"bidirectional_LSTM_layer\")(embedded)\n",
        "x = layers.Dropout(0.25, name=\"dropout_layer_1\")(x)\n",
        "x = layers.Dense(64, activation=\"relu\", name=\"hidden_layer\")(x)\n",
        "x = layers.Dropout(0.5, name=\"dropout_layer_2\")(x)\n",
        "outputs = layers.Dense(13, activation=\"softmax\", name=\"output\")(x)\n",
        "\n",
        "LSTM_model = keras.Model(inputs, outputs, name=\"Dense_Model\")\n",
        "LSTM_model.summary()\n",
        "\n",
        "tf.keras.utils.plot_model(LSTM_model, show_shapes=True)"
      ],
      "metadata": {
        "colab": {
          "base_uri": "https://localhost:8080/",
          "height": 1000
        },
        "id": "EMEGAzlZApfQ",
        "outputId": "7ae3652b-e12d-4a20-eadf-12252d8724ca"
      },
      "execution_count": 219,
      "outputs": [
        {
          "output_type": "stream",
          "name": "stdout",
          "text": [
            "Model: \"Dense_Model\"\n",
            "_________________________________________________________________\n",
            " Layer (type)                Output Shape              Param #   \n",
            "=================================================================\n",
            " input (InputLayer)          [(None, None)]            0         \n",
            "                                                                 \n",
            " embedding_layer (Embedding)  (None, None, 64)         832       \n",
            "                                                                 \n",
            " bidirectional_LSTM_layer (B  (None, 128)              66048     \n",
            " idirectional)                                                   \n",
            "                                                                 \n",
            " dropout_layer_1 (Dropout)   (None, 128)               0         \n",
            "                                                                 \n",
            " hidden_layer (Dense)        (None, 64)                8256      \n",
            "                                                                 \n",
            " dropout_layer_2 (Dropout)   (None, 64)                0         \n",
            "                                                                 \n",
            " output (Dense)              (None, 13)                845       \n",
            "                                                                 \n",
            "=================================================================\n",
            "Total params: 75,981\n",
            "Trainable params: 75,981\n",
            "Non-trainable params: 0\n",
            "_________________________________________________________________\n"
          ]
        },
        {
          "output_type": "execute_result",
          "data": {
            "text/plain": [
              "<IPython.core.display.Image object>"
            ],
            "image/png": "[encoded data removed]"
          },
          "metadata": {},
          "execution_count": 219
        }
      ]
    },
    {
      "cell_type": "markdown",
      "source": [
        "## Compile and Train"
      ],
      "metadata": {
        "id": "edvCcu0ZB8u_"
      }
    },
    {
      "cell_type": "code",
      "source": [
        "LSTM_model.compile(\n",
        "    optimizer=\"rmsprop\",\n",
        "    loss=\"sparse_categorical_crossentropy\",\n",
        "    metrics=[\"accuracy\"])\n",
        "\n",
        "callbacks2 = [\n",
        "    keras.callbacks.ModelCheckpoint(\n",
        "        filepath = \"/content/drive/MyDrive/Colab Notebooks/CSCE_636_Project_3/Proj03_LSTM_model.keras\",\n",
        "        save_best_only=True,\n",
        "        monitor=\"val_loss\"),\n",
        "    keras.callbacks.EarlyStopping(\n",
        "        monitor=\"val_loss\",\n",
        "        patience=10,\n",
        "        verbose=1,\n",
        "        restore_best_weights=True)\n",
        "]"
      ],
      "metadata": {
        "id": "tEuy4KMdBwGU"
      },
      "execution_count": 220,
      "outputs": []
    },
    {
      "cell_type": "code",
      "source": [
        "history = LSTM_model.fit(\n",
        "    train_input_vec,train_output_vec,\n",
        "    validation_split=0.3,\n",
        "    callbacks=callbacks2,\n",
        "    epochs=50,\n",
        "    batch_size=32)"
      ],
      "metadata": {
        "colab": {
          "base_uri": "https://localhost:8080/"
        },
        "id": "kqr8CnZiCLFT",
        "outputId": "b0d931f6-2a7a-4ea7-fe49-41023b1d7a07"
      },
      "execution_count": 221,
      "outputs": [
        {
          "output_type": "stream",
          "name": "stdout",
          "text": [
            "Epoch 1/50\n",
            "110/110 [==============================] - 11s 40ms/step - loss: 2.2766 - accuracy: 0.1660 - val_loss: 2.1196 - val_accuracy: 0.2200\n",
            "Epoch 2/50\n",
            "110/110 [==============================] - 2s 16ms/step - loss: 1.9390 - accuracy: 0.2369 - val_loss: 1.5246 - val_accuracy: 0.2607\n",
            "Epoch 3/50\n",
            "110/110 [==============================] - 2s 15ms/step - loss: 1.5741 - accuracy: 0.2863 - val_loss: 1.4374 - val_accuracy: 0.3287\n",
            "Epoch 4/50\n",
            "110/110 [==============================] - 2s 15ms/step - loss: 1.4947 - accuracy: 0.2971 - val_loss: 1.3986 - val_accuracy: 0.3273\n",
            "Epoch 5/50\n",
            "110/110 [==============================] - 2s 15ms/step - loss: 1.4342 - accuracy: 0.3031 - val_loss: 1.3879 - val_accuracy: 0.3133\n",
            "Epoch 6/50\n",
            "110/110 [==============================] - 2s 15ms/step - loss: 1.3985 - accuracy: 0.3194 - val_loss: 1.3733 - val_accuracy: 0.3367\n",
            "Epoch 7/50\n",
            "110/110 [==============================] - 2s 15ms/step - loss: 1.3844 - accuracy: 0.3343 - val_loss: 1.3597 - val_accuracy: 0.3287\n",
            "Epoch 8/50\n",
            "110/110 [==============================] - 2s 15ms/step - loss: 1.3782 - accuracy: 0.3297 - val_loss: 1.3520 - val_accuracy: 0.3427\n",
            "Epoch 9/50\n",
            "110/110 [==============================] - 2s 14ms/step - loss: 1.3672 - accuracy: 0.3314 - val_loss: 1.3556 - val_accuracy: 0.3280\n",
            "Epoch 10/50\n",
            "110/110 [==============================] - 2s 15ms/step - loss: 1.3608 - accuracy: 0.3397 - val_loss: 1.3429 - val_accuracy: 0.3253\n",
            "Epoch 11/50\n",
            "110/110 [==============================] - 2s 15ms/step - loss: 1.3523 - accuracy: 0.3437 - val_loss: 1.3446 - val_accuracy: 0.3333\n",
            "Epoch 12/50\n",
            "110/110 [==============================] - 2s 15ms/step - loss: 1.3503 - accuracy: 0.3463 - val_loss: 1.3419 - val_accuracy: 0.3327\n",
            "Epoch 13/50\n",
            "110/110 [==============================] - 2s 14ms/step - loss: 1.3445 - accuracy: 0.3397 - val_loss: 1.3458 - val_accuracy: 0.3347\n",
            "Epoch 14/50\n",
            "110/110 [==============================] - 2s 14ms/step - loss: 1.3411 - accuracy: 0.3466 - val_loss: 1.3611 - val_accuracy: 0.3367\n",
            "Epoch 15/50\n",
            "110/110 [==============================] - 2s 14ms/step - loss: 1.3362 - accuracy: 0.3563 - val_loss: 1.3540 - val_accuracy: 0.3353\n",
            "Epoch 16/50\n",
            "110/110 [==============================] - 2s 14ms/step - loss: 1.3358 - accuracy: 0.3543 - val_loss: 1.3458 - val_accuracy: 0.3307\n",
            "Epoch 17/50\n",
            "110/110 [==============================] - 2s 15ms/step - loss: 1.3362 - accuracy: 0.3440 - val_loss: 1.3790 - val_accuracy: 0.3133\n",
            "Epoch 18/50\n",
            "110/110 [==============================] - 2s 22ms/step - loss: 1.3297 - accuracy: 0.3597 - val_loss: 1.3409 - val_accuracy: 0.3247\n",
            "Epoch 19/50\n",
            "110/110 [==============================] - 2s 15ms/step - loss: 1.3319 - accuracy: 0.3606 - val_loss: 1.3415 - val_accuracy: 0.3353\n",
            "Epoch 20/50\n",
            "110/110 [==============================] - 2s 14ms/step - loss: 1.3289 - accuracy: 0.3514 - val_loss: 1.3482 - val_accuracy: 0.3180\n",
            "Epoch 21/50\n",
            "110/110 [==============================] - 2s 15ms/step - loss: 1.3280 - accuracy: 0.3586 - val_loss: 1.3514 - val_accuracy: 0.3213\n",
            "Epoch 22/50\n",
            "110/110 [==============================] - 2s 21ms/step - loss: 1.3197 - accuracy: 0.3614 - val_loss: 1.3383 - val_accuracy: 0.3447\n",
            "Epoch 23/50\n",
            "110/110 [==============================] - 2s 15ms/step - loss: 1.3212 - accuracy: 0.3654 - val_loss: 1.3400 - val_accuracy: 0.3227\n",
            "Epoch 24/50\n",
            "110/110 [==============================] - 2s 15ms/step - loss: 1.3185 - accuracy: 0.3631 - val_loss: 1.3414 - val_accuracy: 0.3300\n",
            "Epoch 25/50\n",
            "110/110 [==============================] - 2s 15ms/step - loss: 1.3124 - accuracy: 0.3669 - val_loss: 1.3446 - val_accuracy: 0.3333\n",
            "Epoch 26/50\n",
            "110/110 [==============================] - 2s 15ms/step - loss: 1.3091 - accuracy: 0.3754 - val_loss: 1.3598 - val_accuracy: 0.3367\n",
            "Epoch 27/50\n",
            "110/110 [==============================] - 2s 15ms/step - loss: 1.3106 - accuracy: 0.3737 - val_loss: 1.3541 - val_accuracy: 0.3213\n",
            "Epoch 28/50\n",
            "110/110 [==============================] - 2s 15ms/step - loss: 1.3105 - accuracy: 0.3703 - val_loss: 1.3392 - val_accuracy: 0.3407\n",
            "Epoch 29/50\n",
            "110/110 [==============================] - 2s 15ms/step - loss: 1.3044 - accuracy: 0.3783 - val_loss: 1.3513 - val_accuracy: 0.3240\n",
            "Epoch 30/50\n",
            "110/110 [==============================] - 2s 15ms/step - loss: 1.3016 - accuracy: 0.3677 - val_loss: 1.3531 - val_accuracy: 0.3327\n",
            "Epoch 31/50\n",
            "110/110 [==============================] - 2s 14ms/step - loss: 1.3010 - accuracy: 0.3783 - val_loss: 1.3706 - val_accuracy: 0.3187\n",
            "Epoch 32/50\n",
            "107/110 [============================>.] - ETA: 0s - loss: 1.2958 - accuracy: 0.3849Restoring model weights from the end of the best epoch: 22.\n",
            "110/110 [==============================] - 2s 15ms/step - loss: 1.2960 - accuracy: 0.3837 - val_loss: 1.3580 - val_accuracy: 0.3227\n",
            "Epoch 32: early stopping\n"
          ]
        }
      ]
    },
    {
      "cell_type": "markdown",
      "source": [
        "## Training History"
      ],
      "metadata": {
        "id": "2uVc2ufYBsot"
      }
    },
    {
      "cell_type": "markdown",
      "source": [
        "Parse the training history data."
      ],
      "metadata": {
        "id": "GZlZkgp-Oiv6"
      }
    },
    {
      "cell_type": "code",
      "source": [
        "# history data\n",
        "history_dict = history.history\n",
        "\n",
        "# training metric history\n",
        "train_loss_values = history_dict[\"loss\"]\n",
        "train_acc_values = history_dict[\"accuracy\"]\n",
        "\n",
        "# validation metric history\n",
        "val_loss_values = history_dict[\"val_loss\"]\n",
        "val_acc_values = history_dict[\"val_accuracy\"]\n",
        "\n",
        "# epochs\n",
        "epochs = range(1, len(train_loss_values) + 1)\n",
        "\n",
        "# minimum loss location\n",
        "min_loss_pos = val_loss_values.index(min(val_loss_values))"
      ],
      "metadata": {
        "id": "Yw7syWAnCeG8"
      },
      "execution_count": 222,
      "outputs": []
    },
    {
      "cell_type": "markdown",
      "source": [
        "## Loss"
      ],
      "metadata": {
        "id": "NGgDX2TNCnTr"
      }
    },
    {
      "cell_type": "code",
      "source": [
        "# create figure for training and validation loss\n",
        "fig1, ax1 = plt.subplots()\n",
        "\n",
        "# plot\n",
        "ax1.plot(epochs, train_loss_values, \"bo\", label=\"Training Loss\")\n",
        "ax1.plot(epochs, val_loss_values, \"b\", label=\"Validation Loss\")\n",
        "ax1.set_title(\"Training and Validation Loss\")\n",
        "ax1.set_xlabel(\"Epochs\")\n",
        "ax1.set_ylabel(\"Loss\")\n",
        "ax1.legend()\n",
        "plt.show()"
      ],
      "metadata": {
        "colab": {
          "base_uri": "https://localhost:8080/",
          "height": 295
        },
        "id": "kYDn-AUjCotL",
        "outputId": "a8acc4af-5671-431c-dea5-0a8a506afa68"
      },
      "execution_count": 223,
      "outputs": [
        {
          "output_type": "display_data",
          "data": {
            "text/plain": [
              "<Figure size 432x288 with 1 Axes>"
            ],
            "image/png": "[encoded data removed]"
          },
          "metadata": {
            "needs_background": "light"
          }
        }
      ]
    },
    {
      "cell_type": "code",
      "source": [
        "print(f\"Loss: {val_loss_values[min_loss_pos]}\")"
      ],
      "metadata": {
        "colab": {
          "base_uri": "https://localhost:8080/"
        },
        "id": "jAI5EkZvCpuZ",
        "outputId": "dc437c70-2d28-4d3a-ad53-04e2685d9a05"
      },
      "execution_count": 224,
      "outputs": [
        {
          "output_type": "stream",
          "name": "stdout",
          "text": [
            "Loss: 1.3382759094238281\n"
          ]
        }
      ]
    },
    {
      "cell_type": "markdown",
      "source": [
        "## Accuracy"
      ],
      "metadata": {
        "id": "fQRg2WuKCyDn"
      }
    },
    {
      "cell_type": "code",
      "source": [
        "# create figure for training data\n",
        "fig2, ax2 = plt.subplots()\n",
        "\n",
        "# plot\n",
        "ax2.plot(epochs, train_acc_values, \"bo\", label=\"Training Accuracy\")\n",
        "ax2.plot(epochs, val_acc_values, \"b\", label=\"Validation Accuracy\")\n",
        "ax2.set_title(\"Training and Accuracy Loss\")\n",
        "ax2.set_xlabel(\"Epochs\")\n",
        "ax2.set_ylabel(\"Accuracy\")\n",
        "ax2.legend()\n",
        "plt.show()"
      ],
      "metadata": {
        "colab": {
          "base_uri": "https://localhost:8080/",
          "height": 295
        },
        "id": "Yu7QSQttCwIK",
        "outputId": "6713152a-8fec-426e-a44b-7d8984a58e45"
      },
      "execution_count": 225,
      "outputs": [
        {
          "output_type": "display_data",
          "data": {
            "text/plain": [
              "<Figure size 432x288 with 1 Axes>"
            ],
            "image/png": "[encoded data removed]"
          },
          "metadata": {
            "needs_background": "light"
          }
        }
      ]
    },
    {
      "cell_type": "code",
      "source": [
        "print(f\"Accuracy: {val_acc_values[min_loss_pos]}\")"
      ],
      "metadata": {
        "colab": {
          "base_uri": "https://localhost:8080/"
        },
        "id": "Teh92rIPC1k1",
        "outputId": "3f6870db-a307-4217-d397-9e5ee17f43d4"
      },
      "execution_count": 226,
      "outputs": [
        {
          "output_type": "stream",
          "name": "stdout",
          "text": [
            "Accuracy: 0.34466665983200073\n"
          ]
        }
      ]
    }
  ],
  "metadata": {
    "accelerator": "GPU",
    "colab": {
      "machine_shape": "hm",
      "name": "CSCE_636_HW04_Sol.ipynb",
      "provenance": [],
      "toc_visible": true
    },
    "interpreter": {
      "hash": "02de5609ef162b6bcc51dd429fd31b9a1f163c414526741362218fd7f2e354ad"
    },
    "kernelspec": {
      "display_name": "Python 3.9.7 64-bit",
      "language": "python",
      "name": "python3"
    },
    "language_info": {
      "codemirror_mode": {
        "name": "ipython",
        "version": 3
      },
      "file_extension": ".py",
      "mimetype": "text/x-python",
      "name": "python",
      "nbconvert_exporter": "python",
      "pygments_lexer": "ipython3",
      "version": "3.9.7"
    },
    "orig_nbformat": 4
  },
  "nbformat": 4,
  "nbformat_minor": 0
}