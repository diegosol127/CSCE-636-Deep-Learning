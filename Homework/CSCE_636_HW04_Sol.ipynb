{
  "cells": [
    {
      "cell_type": "markdown",
      "metadata": {
        "id": "t_tfeI-D5ljr"
      },
      "source": [
        "# HOMEWORK 04\n",
        "\n",
        "**Submitted by: Diego Sol**\n",
        "\n",
        "CSCE 636-600: Deep Learning\n",
        "\n",
        "Professor: Dr. Anxiao Jiang"
      ]
    },
    {
      "cell_type": "markdown",
      "metadata": {
        "id": "fEuGEd-l5ljt"
      },
      "source": [
        "## Task 1\n",
        "\n",
        "**Check out the Jupyter notebook for Chapter 7 at https://github.com/fchollet/deep-learning-with-python-notebooks/blob/master/chapter07_working-with-keras.ipynb . Answer the questions: (1) What is the advantage of using  Sequential Models? (2) What is the advantage of using Functional API? (3) What is the advantage of using Subclassing? (5 points)**"
      ]
    },
    {
      "cell_type": "markdown",
      "metadata": {
        "id": "RVrLVkuX5ljt"
      },
      "source": [
        "###Advantages of using Sequential Models:\n",
        "- it is simplest and easiest model to use\n",
        "- many problems are readily solved without having to define any methods or classes\n",
        "- it automatically matches input and ouptut sizes between layers\n",
        "- the `summary()` method can be used to depict an easily interpretable summary of the model"
      ]
    },
    {
      "cell_type": "markdown",
      "metadata": {
        "id": "K26JbekR5veL"
      },
      "source": [
        "###Advantages of using Functional API:\n",
        "- it provides more control over the model than when using a Sequential Model\n",
        "- unlike Sequential Models, it can be used to create layers with multiple inputs and outputs\n",
        "- it represents a good midpoint between usability and flexibility\n",
        "- the `plot_model()` method can be used to draw a plot that depicts the inputs and outputs to all the layers in the model"
      ]
    },
    {
      "cell_type": "markdown",
      "metadata": {
        "id": "8KJ7GR-K52py"
      },
      "source": [
        "###Advantages of using Subclassing:\n",
        "- of all the listed model-developing options, this one provides that highest degree control and accessibility\n",
        "- it allows for user-defined metrics such as loss\n",
        "- the new class automatically inherits methods and variables from the `keras.model` class\n",
        "- it allows for precise customization of steps throughout the training process"
      ]
    },
    {
      "cell_type": "markdown",
      "metadata": {
        "id": "TdVqODyk5lju"
      },
      "source": [
        "## Task 2\n",
        "\n",
        "**For the MNIST Dataset (for handwritten digit recognition), in the past, we built a one-input-one-output model, where the input is an image, and the output is a length-10 vector that represents a probability vector for the 10 classes (from class 0 to class 9). Today, let's build a one-input-multiple-output model, which has 10 outputs y_0, y_1, y_2, ..., y_9, where each y_i (for i between 0 and 9) is a real number between 0 and 1 that represents the probability for the input image to belong to class i. (That is, the probability that the input image does not belong to class i is 1 - y_i.) In other words, this new model is a combination of 10 binary classifiers (that is, one binary classifier for each class). The loss function for each y_i is the binary cross-entropy function, and the overall loss for the model is the summation of the 10 binary cross-entropies.**\n",
        "\n",
        "**Let's define a new performance metric \"aggregateAccuracy\" as follows. First, we pick y_i\\* to be the maximum value among y_0, y_1, y_2, ..., y_9. Then, we let i\\* be the label that our model predicts for the input image. Then, \"aggregateAccuracy\" is simply the \"accuracy\" that we usually talk about: it is the fraction of images whose predicted label equals the true label.**\n",
        "\n",
        "**Now compile your model and train it (with the loss function and performance metric defined above), and test the trained model's performance on the testing data.** \n",
        "\n",
        "**What you need to submit: (1) the complete code; (2) the training performance for training data and validation data (for both loss and aggregationAccuracy) shown in figures, where the x-axis is the number of epochs, and the y-axis is the loss or aggregateAccuracy; (3) show the test performance (loss and aggregateAccuracy) as two numbers. (15 points)**"
      ]
    },
    {
      "cell_type": "markdown",
      "metadata": {
        "id": "pfC7yIdp6d0x"
      },
      "source": [
        "Import packages and load MNIST data"
      ]
    },
    {
      "cell_type": "code",
      "execution_count": 1,
      "metadata": {
        "id": "CbV44liN6cqm",
        "colab": {
          "base_uri": "https://localhost:8080/"
        },
        "outputId": "e6f5d436-ea1e-47b2-8907-0bf311816134"
      },
      "outputs": [
        {
          "output_type": "stream",
          "name": "stdout",
          "text": [
            "Downloading data from https://storage.googleapis.com/tensorflow/tf-keras-datasets/mnist.npz\n",
            "11493376/11490434 [==============================] - 1s 0us/step\n",
            "11501568/11490434 [==============================] - 1s 0us/step\n"
          ]
        }
      ],
      "source": [
        "import tensorflow as tf\n",
        "import numpy as np\n",
        "import matplotlib.pyplot as plt\n",
        "\n",
        "from tensorflow import keras\n",
        "from tensorflow.keras import layers\n",
        "from tensorflow.keras.datasets import mnist\n",
        "\n",
        "# load data\n",
        "(train_images, train_labels), (test_images, test_labels) = mnist.load_data()\n",
        "\n",
        "# prepare image data (reshape and normalize)\n",
        "train_images = train_images.reshape((60000, 28 * 28))\n",
        "train_images = train_images.astype(\"float32\") / 255\n",
        "test_images = test_images.reshape((10000, 28 * 28))\n",
        "test_images = test_images.astype(\"float32\") / 255\n",
        "\n",
        "# number of labels\n",
        "num_labels = len(np.unique(train_labels))\n",
        "\n",
        "# prepare label data to meet task requirements\n",
        "for ii in range(num_labels):\n",
        "  exec(f\"train_labels_{ii} = np.zeros(train_labels.shape)\")\n",
        "  exec(f\"test_labels_{ii} = np.zeros(test_labels.shape)\")\n",
        "\n",
        "  idx_train = np.where(train_labels == ii)\n",
        "  idx_test = np.where(test_labels == ii)\n",
        "\n",
        "  for jj in idx_train[0]:\n",
        "    exec(f\"train_labels_{ii}[{jj}] = 1\")\n",
        "  \n",
        "  for kk in idx_test[0]:\n",
        "    exec(f\"test_labels_{ii}[{kk}] = 1\")\n",
        "\n",
        "# each array in the list is a multi-hot encode that depicts\n",
        "train_labels_list = [train_labels_0, train_labels_1, train_labels_2, train_labels_3,\\\n",
        "                     train_labels_4, train_labels_5, train_labels_6, train_labels_7,\\\n",
        "                     train_labels_8, train_labels_9]\n",
        "\n",
        "test_labels_list = [test_labels_0, test_labels_1, test_labels_2, test_labels_3,\\\n",
        "                    test_labels_4, test_labels_5, test_labels_6, test_labels_7,\\\n",
        "                    test_labels_8, test_labels_9]"
      ]
    },
    {
      "cell_type": "code",
      "source": [
        "train_labels"
      ],
      "metadata": {
        "colab": {
          "base_uri": "https://localhost:8080/"
        },
        "id": "9TJDBnSR8qHz",
        "outputId": "987fb93e-a2ab-46e6-ddf3-39b7015035a1"
      },
      "execution_count": 2,
      "outputs": [
        {
          "output_type": "execute_result",
          "data": {
            "text/plain": [
              "array([5, 0, 4, ..., 5, 6, 8], dtype=uint8)"
            ]
          },
          "metadata": {},
          "execution_count": 2
        }
      ]
    },
    {
      "cell_type": "markdown",
      "metadata": {
        "id": "kat_o1DAlMBN"
      },
      "source": [
        "Write a new performance metric"
      ]
    },
    {
      "cell_type": "code",
      "execution_count": 3,
      "metadata": {
        "id": "Fc03kMfElMBO"
      },
      "outputs": [],
      "source": [
        "class Aggregate_Accuracy(keras.metrics.Metric):    \n",
        "    def __init__(self, name=\"aggregateAccuracy\", **kwargs):\n",
        "        super().__init__(name=name, **kwargs)\n",
        "        self.num_total = self.add_weight(name=\"num_total\", initializer=\"zeros\", dtype=\"int32\")\n",
        "        self.num_accurate = self.add_weight(name=\"num_accurate\", initializer=\"zeros\", dtype=\"int32\")\n",
        "\n",
        "    def update_state(self, y_true, y_pred, sample_weight=None):\n",
        "      self.num_total = tf.cast(tf.shape(y_pred,0), \"int32\")\n",
        "      y_pred = tf.reshape(tf.argmax(y_pred, axis=0), shape=(-1, 1))\n",
        "      y_true = tf.reshape(tf.argmax(y_true, axis=0), shape=(-1, 1))\n",
        "      values = tf.cast(y_true, \"int32\") == tf.cast(y_pred, \"int32\")\n",
        "      values = tf.cast(values, \"int32\")\n",
        "      self.num_accurate.assign(tf.reduce_sum(values))\n",
        "\n",
        "    def result(self):\n",
        "      return tf.cast(self.num_accurate / self.num_total, \"float32\")\n",
        "\n",
        "    def reset(self):\n",
        "      self.num_total.assign(0.)\n",
        "      self.num_accurate.assign(0.)"
      ]
    },
    {
      "cell_type": "markdown",
      "metadata": {
        "id": "eeDLGu2zlMBO"
      },
      "source": [
        "Create a single-input multiple-output network by using the Functional API"
      ]
    },
    {
      "cell_type": "code",
      "execution_count": 4,
      "metadata": {
        "colab": {
          "base_uri": "https://localhost:8080/"
        },
        "id": "S9acnp5VlMBP",
        "outputId": "ecbd8888-33db-450f-f15a-586ee2181a5d"
      },
      "outputs": [
        {
          "output_type": "stream",
          "name": "stdout",
          "text": [
            "Epoch 1/15\n",
            "282/282 [==============================] - 23s 48ms/step - loss: 1.1433 - y_0_loss: 0.0778 - y_1_loss: 0.0717 - y_2_loss: 0.1175 - y_3_loss: 0.1272 - y_4_loss: 0.1131 - y_5_loss: 0.1391 - y_6_loss: 0.0860 - y_7_loss: 0.0947 - y_8_loss: 0.1678 - y_9_loss: 0.1483 - y_0_accuracy: 0.9778 - y_1_accuracy: 0.9782 - y_2_accuracy: 0.9623 - y_3_accuracy: 0.9601 - y_4_accuracy: 0.9614 - y_5_accuracy: 0.9531 - y_6_accuracy: 0.9724 - y_7_accuracy: 0.9685 - y_8_accuracy: 0.9401 - y_9_accuracy: 0.9507 - val_loss: 0.5937 - val_y_0_loss: 0.0329 - val_y_1_loss: 0.0320 - val_y_2_loss: 0.0811 - val_y_3_loss: 0.0720 - val_y_4_loss: 0.0518 - val_y_5_loss: 0.0813 - val_y_6_loss: 0.0327 - val_y_7_loss: 0.0504 - val_y_8_loss: 0.0837 - val_y_9_loss: 0.0757 - val_y_0_accuracy: 0.9905 - val_y_1_accuracy: 0.9905 - val_y_2_accuracy: 0.9766 - val_y_3_accuracy: 0.9776 - val_y_4_accuracy: 0.9827 - val_y_5_accuracy: 0.9707 - val_y_6_accuracy: 0.9897 - val_y_7_accuracy: 0.9829 - val_y_8_accuracy: 0.9723 - val_y_9_accuracy: 0.9767\n",
            "Epoch 2/15\n",
            "282/282 [==============================] - 11s 40ms/step - loss: 0.4612 - y_0_loss: 0.0247 - y_1_loss: 0.0285 - y_2_loss: 0.0515 - y_3_loss: 0.0607 - y_4_loss: 0.0469 - y_5_loss: 0.0516 - y_6_loss: 0.0311 - y_7_loss: 0.0383 - y_8_loss: 0.0642 - y_9_loss: 0.0637 - y_0_accuracy: 0.9929 - y_1_accuracy: 0.9924 - y_2_accuracy: 0.9841 - y_3_accuracy: 0.9810 - y_4_accuracy: 0.9850 - y_5_accuracy: 0.9837 - y_6_accuracy: 0.9904 - y_7_accuracy: 0.9881 - y_8_accuracy: 0.9787 - y_9_accuracy: 0.9806 - val_loss: 0.4437 - val_y_0_loss: 0.0225 - val_y_1_loss: 0.0251 - val_y_2_loss: 0.0537 - val_y_3_loss: 0.0566 - val_y_4_loss: 0.0376 - val_y_5_loss: 0.0495 - val_y_6_loss: 0.0272 - val_y_7_loss: 0.0361 - val_y_8_loss: 0.0778 - val_y_9_loss: 0.0577 - val_y_0_accuracy: 0.9933 - val_y_1_accuracy: 0.9920 - val_y_2_accuracy: 0.9841 - val_y_3_accuracy: 0.9811 - val_y_4_accuracy: 0.9875 - val_y_5_accuracy: 0.9836 - val_y_6_accuracy: 0.9913 - val_y_7_accuracy: 0.9885 - val_y_8_accuracy: 0.9727 - val_y_9_accuracy: 0.9815\n",
            "Epoch 3/15\n",
            "282/282 [==============================] - 12s 44ms/step - loss: 0.3423 - y_0_loss: 0.0188 - y_1_loss: 0.0224 - y_2_loss: 0.0375 - y_3_loss: 0.0483 - y_4_loss: 0.0357 - y_5_loss: 0.0353 - y_6_loss: 0.0236 - y_7_loss: 0.0286 - y_8_loss: 0.0442 - y_9_loss: 0.0480 - y_0_accuracy: 0.9944 - y_1_accuracy: 0.9937 - y_2_accuracy: 0.9884 - y_3_accuracy: 0.9847 - y_4_accuracy: 0.9886 - y_5_accuracy: 0.9889 - y_6_accuracy: 0.9925 - y_7_accuracy: 0.9908 - y_8_accuracy: 0.9852 - y_9_accuracy: 0.9850 - val_loss: 0.3427 - val_y_0_loss: 0.0215 - val_y_1_loss: 0.0182 - val_y_2_loss: 0.0362 - val_y_3_loss: 0.0484 - val_y_4_loss: 0.0321 - val_y_5_loss: 0.0397 - val_y_6_loss: 0.0231 - val_y_7_loss: 0.0313 - val_y_8_loss: 0.0463 - val_y_9_loss: 0.0459 - val_y_0_accuracy: 0.9931 - val_y_1_accuracy: 0.9946 - val_y_2_accuracy: 0.9894 - val_y_3_accuracy: 0.9845 - val_y_4_accuracy: 0.9888 - val_y_5_accuracy: 0.9876 - val_y_6_accuracy: 0.9926 - val_y_7_accuracy: 0.9902 - val_y_8_accuracy: 0.9849 - val_y_9_accuracy: 0.9852\n",
            "Epoch 4/15\n",
            "282/282 [==============================] - 13s 47ms/step - loss: 0.2762 - y_0_loss: 0.0150 - y_1_loss: 0.0186 - y_2_loss: 0.0302 - y_3_loss: 0.0400 - y_4_loss: 0.0282 - y_5_loss: 0.0270 - y_6_loss: 0.0189 - y_7_loss: 0.0245 - y_8_loss: 0.0350 - y_9_loss: 0.0388 - y_0_accuracy: 0.9953 - y_1_accuracy: 0.9946 - y_2_accuracy: 0.9909 - y_3_accuracy: 0.9872 - y_4_accuracy: 0.9914 - y_5_accuracy: 0.9913 - y_6_accuracy: 0.9938 - y_7_accuracy: 0.9925 - y_8_accuracy: 0.9883 - y_9_accuracy: 0.9881 - val_loss: 0.3018 - val_y_0_loss: 0.0159 - val_y_1_loss: 0.0167 - val_y_2_loss: 0.0341 - val_y_3_loss: 0.0413 - val_y_4_loss: 0.0294 - val_y_5_loss: 0.0353 - val_y_6_loss: 0.0179 - val_y_7_loss: 0.0271 - val_y_8_loss: 0.0446 - val_y_9_loss: 0.0393 - val_y_0_accuracy: 0.9948 - val_y_1_accuracy: 0.9950 - val_y_2_accuracy: 0.9893 - val_y_3_accuracy: 0.9869 - val_y_4_accuracy: 0.9903 - val_y_5_accuracy: 0.9897 - val_y_6_accuracy: 0.9946 - val_y_7_accuracy: 0.9916 - val_y_8_accuracy: 0.9860 - val_y_9_accuracy: 0.9872\n",
            "Epoch 5/15\n",
            "282/282 [==============================] - 12s 43ms/step - loss: 0.2312 - y_0_loss: 0.0126 - y_1_loss: 0.0161 - y_2_loss: 0.0253 - y_3_loss: 0.0340 - y_4_loss: 0.0238 - y_5_loss: 0.0221 - y_6_loss: 0.0153 - y_7_loss: 0.0213 - y_8_loss: 0.0286 - y_9_loss: 0.0322 - y_0_accuracy: 0.9960 - y_1_accuracy: 0.9952 - y_2_accuracy: 0.9920 - y_3_accuracy: 0.9895 - y_4_accuracy: 0.9920 - y_5_accuracy: 0.9927 - y_6_accuracy: 0.9950 - y_7_accuracy: 0.9936 - y_8_accuracy: 0.9904 - y_9_accuracy: 0.9894 - val_loss: 0.2700 - val_y_0_loss: 0.0141 - val_y_1_loss: 0.0151 - val_y_2_loss: 0.0289 - val_y_3_loss: 0.0379 - val_y_4_loss: 0.0251 - val_y_5_loss: 0.0336 - val_y_6_loss: 0.0176 - val_y_7_loss: 0.0256 - val_y_8_loss: 0.0361 - val_y_9_loss: 0.0360 - val_y_0_accuracy: 0.9958 - val_y_1_accuracy: 0.9956 - val_y_2_accuracy: 0.9910 - val_y_3_accuracy: 0.9881 - val_y_4_accuracy: 0.9909 - val_y_5_accuracy: 0.9898 - val_y_6_accuracy: 0.9942 - val_y_7_accuracy: 0.9920 - val_y_8_accuracy: 0.9887 - val_y_9_accuracy: 0.9884\n",
            "Epoch 6/15\n",
            "282/282 [==============================] - 13s 47ms/step - loss: 0.1993 - y_0_loss: 0.0107 - y_1_loss: 0.0138 - y_2_loss: 0.0215 - y_3_loss: 0.0300 - y_4_loss: 0.0200 - y_5_loss: 0.0186 - y_6_loss: 0.0130 - y_7_loss: 0.0188 - y_8_loss: 0.0249 - y_9_loss: 0.0280 - y_0_accuracy: 0.9965 - y_1_accuracy: 0.9956 - y_2_accuracy: 0.9933 - y_3_accuracy: 0.9908 - y_4_accuracy: 0.9937 - y_5_accuracy: 0.9936 - y_6_accuracy: 0.9954 - y_7_accuracy: 0.9943 - y_8_accuracy: 0.9914 - y_9_accuracy: 0.9910 - val_loss: 0.2712 - val_y_0_loss: 0.0146 - val_y_1_loss: 0.0150 - val_y_2_loss: 0.0272 - val_y_3_loss: 0.0380 - val_y_4_loss: 0.0276 - val_y_5_loss: 0.0364 - val_y_6_loss: 0.0181 - val_y_7_loss: 0.0239 - val_y_8_loss: 0.0364 - val_y_9_loss: 0.0338 - val_y_0_accuracy: 0.9950 - val_y_1_accuracy: 0.9957 - val_y_2_accuracy: 0.9906 - val_y_3_accuracy: 0.9881 - val_y_4_accuracy: 0.9902 - val_y_5_accuracy: 0.9892 - val_y_6_accuracy: 0.9942 - val_y_7_accuracy: 0.9928 - val_y_8_accuracy: 0.9887 - val_y_9_accuracy: 0.9884\n",
            "Epoch 7/15\n",
            "282/282 [==============================] - 11s 39ms/step - loss: 0.1740 - y_0_loss: 0.0094 - y_1_loss: 0.0123 - y_2_loss: 0.0187 - y_3_loss: 0.0265 - y_4_loss: 0.0170 - y_5_loss: 0.0163 - y_6_loss: 0.0111 - y_7_loss: 0.0173 - y_8_loss: 0.0213 - y_9_loss: 0.0243 - y_0_accuracy: 0.9970 - y_1_accuracy: 0.9961 - y_2_accuracy: 0.9941 - y_3_accuracy: 0.9917 - y_4_accuracy: 0.9948 - y_5_accuracy: 0.9942 - y_6_accuracy: 0.9965 - y_7_accuracy: 0.9949 - y_8_accuracy: 0.9927 - y_9_accuracy: 0.9926 - val_loss: 0.2511 - val_y_0_loss: 0.0164 - val_y_1_loss: 0.0132 - val_y_2_loss: 0.0244 - val_y_3_loss: 0.0353 - val_y_4_loss: 0.0221 - val_y_5_loss: 0.0324 - val_y_6_loss: 0.0155 - val_y_7_loss: 0.0234 - val_y_8_loss: 0.0327 - val_y_9_loss: 0.0356 - val_y_0_accuracy: 0.9952 - val_y_1_accuracy: 0.9958 - val_y_2_accuracy: 0.9920 - val_y_3_accuracy: 0.9888 - val_y_4_accuracy: 0.9928 - val_y_5_accuracy: 0.9905 - val_y_6_accuracy: 0.9955 - val_y_7_accuracy: 0.9930 - val_y_8_accuracy: 0.9897 - val_y_9_accuracy: 0.9886\n",
            "Epoch 8/15\n",
            "282/282 [==============================] - 10s 34ms/step - loss: 0.1549 - y_0_loss: 0.0085 - y_1_loss: 0.0108 - y_2_loss: 0.0167 - y_3_loss: 0.0233 - y_4_loss: 0.0153 - y_5_loss: 0.0141 - y_6_loss: 0.0099 - y_7_loss: 0.0154 - y_8_loss: 0.0192 - y_9_loss: 0.0218 - y_0_accuracy: 0.9973 - y_1_accuracy: 0.9967 - y_2_accuracy: 0.9949 - y_3_accuracy: 0.9929 - y_4_accuracy: 0.9952 - y_5_accuracy: 0.9954 - y_6_accuracy: 0.9970 - y_7_accuracy: 0.9953 - y_8_accuracy: 0.9935 - y_9_accuracy: 0.9930 - val_loss: 0.2420 - val_y_0_loss: 0.0121 - val_y_1_loss: 0.0146 - val_y_2_loss: 0.0233 - val_y_3_loss: 0.0302 - val_y_4_loss: 0.0244 - val_y_5_loss: 0.0325 - val_y_6_loss: 0.0140 - val_y_7_loss: 0.0245 - val_y_8_loss: 0.0329 - val_y_9_loss: 0.0336 - val_y_0_accuracy: 0.9962 - val_y_1_accuracy: 0.9959 - val_y_2_accuracy: 0.9926 - val_y_3_accuracy: 0.9902 - val_y_4_accuracy: 0.9916 - val_y_5_accuracy: 0.9906 - val_y_6_accuracy: 0.9955 - val_y_7_accuracy: 0.9925 - val_y_8_accuracy: 0.9902 - val_y_9_accuracy: 0.9888\n",
            "Epoch 9/15\n",
            "282/282 [==============================] - 12s 44ms/step - loss: 0.1369 - y_0_loss: 0.0072 - y_1_loss: 0.0094 - y_2_loss: 0.0148 - y_3_loss: 0.0209 - y_4_loss: 0.0128 - y_5_loss: 0.0125 - y_6_loss: 0.0086 - y_7_loss: 0.0144 - y_8_loss: 0.0171 - y_9_loss: 0.0193 - y_0_accuracy: 0.9977 - y_1_accuracy: 0.9971 - y_2_accuracy: 0.9953 - y_3_accuracy: 0.9937 - y_4_accuracy: 0.9958 - y_5_accuracy: 0.9958 - y_6_accuracy: 0.9973 - y_7_accuracy: 0.9957 - y_8_accuracy: 0.9944 - y_9_accuracy: 0.9942 - val_loss: 0.2268 - val_y_0_loss: 0.0119 - val_y_1_loss: 0.0119 - val_y_2_loss: 0.0227 - val_y_3_loss: 0.0307 - val_y_4_loss: 0.0199 - val_y_5_loss: 0.0305 - val_y_6_loss: 0.0153 - val_y_7_loss: 0.0221 - val_y_8_loss: 0.0321 - val_y_9_loss: 0.0295 - val_y_0_accuracy: 0.9966 - val_y_1_accuracy: 0.9960 - val_y_2_accuracy: 0.9925 - val_y_3_accuracy: 0.9901 - val_y_4_accuracy: 0.9933 - val_y_5_accuracy: 0.9911 - val_y_6_accuracy: 0.9952 - val_y_7_accuracy: 0.9935 - val_y_8_accuracy: 0.9902 - val_y_9_accuracy: 0.9907\n",
            "Epoch 10/15\n",
            "282/282 [==============================] - 13s 48ms/step - loss: 0.1234 - y_0_loss: 0.0066 - y_1_loss: 0.0086 - y_2_loss: 0.0134 - y_3_loss: 0.0190 - y_4_loss: 0.0116 - y_5_loss: 0.0110 - y_6_loss: 0.0079 - y_7_loss: 0.0129 - y_8_loss: 0.0151 - y_9_loss: 0.0174 - y_0_accuracy: 0.9980 - y_1_accuracy: 0.9973 - y_2_accuracy: 0.9959 - y_3_accuracy: 0.9941 - y_4_accuracy: 0.9962 - y_5_accuracy: 0.9962 - y_6_accuracy: 0.9974 - y_7_accuracy: 0.9962 - y_8_accuracy: 0.9950 - y_9_accuracy: 0.9946 - val_loss: 0.2268 - val_y_0_loss: 0.0123 - val_y_1_loss: 0.0124 - val_y_2_loss: 0.0233 - val_y_3_loss: 0.0301 - val_y_4_loss: 0.0184 - val_y_5_loss: 0.0318 - val_y_6_loss: 0.0143 - val_y_7_loss: 0.0223 - val_y_8_loss: 0.0338 - val_y_9_loss: 0.0281 - val_y_0_accuracy: 0.9962 - val_y_1_accuracy: 0.9961 - val_y_2_accuracy: 0.9923 - val_y_3_accuracy: 0.9905 - val_y_4_accuracy: 0.9935 - val_y_5_accuracy: 0.9917 - val_y_6_accuracy: 0.9958 - val_y_7_accuracy: 0.9932 - val_y_8_accuracy: 0.9903 - val_y_9_accuracy: 0.9913\n",
            "Epoch 11/15\n",
            "282/282 [==============================] - 11s 40ms/step - loss: 0.1111 - y_0_loss: 0.0056 - y_1_loss: 0.0079 - y_2_loss: 0.0120 - y_3_loss: 0.0171 - y_4_loss: 0.0097 - y_5_loss: 0.0099 - y_6_loss: 0.0069 - y_7_loss: 0.0119 - y_8_loss: 0.0140 - y_9_loss: 0.0160 - y_0_accuracy: 0.9981 - y_1_accuracy: 0.9974 - y_2_accuracy: 0.9964 - y_3_accuracy: 0.9947 - y_4_accuracy: 0.9969 - y_5_accuracy: 0.9963 - y_6_accuracy: 0.9979 - y_7_accuracy: 0.9965 - y_8_accuracy: 0.9955 - y_9_accuracy: 0.9947 - val_loss: 0.2405 - val_y_0_loss: 0.0113 - val_y_1_loss: 0.0187 - val_y_2_loss: 0.0225 - val_y_3_loss: 0.0281 - val_y_4_loss: 0.0208 - val_y_5_loss: 0.0357 - val_y_6_loss: 0.0131 - val_y_7_loss: 0.0213 - val_y_8_loss: 0.0424 - val_y_9_loss: 0.0267 - val_y_0_accuracy: 0.9965 - val_y_1_accuracy: 0.9947 - val_y_2_accuracy: 0.9927 - val_y_3_accuracy: 0.9913 - val_y_4_accuracy: 0.9930 - val_y_5_accuracy: 0.9905 - val_y_6_accuracy: 0.9957 - val_y_7_accuracy: 0.9937 - val_y_8_accuracy: 0.9882 - val_y_9_accuracy: 0.9916\n",
            "Epoch 12/15\n",
            "282/282 [==============================] - 11s 38ms/step - loss: 0.0991 - y_0_loss: 0.0054 - y_1_loss: 0.0072 - y_2_loss: 0.0107 - y_3_loss: 0.0151 - y_4_loss: 0.0087 - y_5_loss: 0.0087 - y_6_loss: 0.0062 - y_7_loss: 0.0109 - y_8_loss: 0.0123 - y_9_loss: 0.0139 - y_0_accuracy: 0.9981 - y_1_accuracy: 0.9977 - y_2_accuracy: 0.9969 - y_3_accuracy: 0.9956 - y_4_accuracy: 0.9971 - y_5_accuracy: 0.9970 - y_6_accuracy: 0.9979 - y_7_accuracy: 0.9970 - y_8_accuracy: 0.9959 - y_9_accuracy: 0.9958 - val_loss: 0.2162 - val_y_0_loss: 0.0118 - val_y_1_loss: 0.0117 - val_y_2_loss: 0.0224 - val_y_3_loss: 0.0283 - val_y_4_loss: 0.0180 - val_y_5_loss: 0.0310 - val_y_6_loss: 0.0140 - val_y_7_loss: 0.0213 - val_y_8_loss: 0.0312 - val_y_9_loss: 0.0264 - val_y_0_accuracy: 0.9962 - val_y_1_accuracy: 0.9965 - val_y_2_accuracy: 0.9932 - val_y_3_accuracy: 0.9914 - val_y_4_accuracy: 0.9944 - val_y_5_accuracy: 0.9922 - val_y_6_accuracy: 0.9955 - val_y_7_accuracy: 0.9933 - val_y_8_accuracy: 0.9909 - val_y_9_accuracy: 0.9916\n",
            "Epoch 13/15\n",
            "282/282 [==============================] - 13s 47ms/step - loss: 0.0896 - y_0_loss: 0.0046 - y_1_loss: 0.0065 - y_2_loss: 0.0098 - y_3_loss: 0.0138 - y_4_loss: 0.0077 - y_5_loss: 0.0076 - y_6_loss: 0.0055 - y_7_loss: 0.0095 - y_8_loss: 0.0118 - y_9_loss: 0.0128 - y_0_accuracy: 0.9984 - y_1_accuracy: 0.9979 - y_2_accuracy: 0.9971 - y_3_accuracy: 0.9959 - y_4_accuracy: 0.9976 - y_5_accuracy: 0.9973 - y_6_accuracy: 0.9982 - y_7_accuracy: 0.9971 - y_8_accuracy: 0.9962 - y_9_accuracy: 0.9960 - val_loss: 0.2186 - val_y_0_loss: 0.0131 - val_y_1_loss: 0.0122 - val_y_2_loss: 0.0218 - val_y_3_loss: 0.0286 - val_y_4_loss: 0.0183 - val_y_5_loss: 0.0304 - val_y_6_loss: 0.0149 - val_y_7_loss: 0.0217 - val_y_8_loss: 0.0320 - val_y_9_loss: 0.0256 - val_y_0_accuracy: 0.9963 - val_y_1_accuracy: 0.9966 - val_y_2_accuracy: 0.9925 - val_y_3_accuracy: 0.9907 - val_y_4_accuracy: 0.9944 - val_y_5_accuracy: 0.9923 - val_y_6_accuracy: 0.9954 - val_y_7_accuracy: 0.9935 - val_y_8_accuracy: 0.9906 - val_y_9_accuracy: 0.9925\n",
            "Epoch 14/15\n",
            "282/282 [==============================] - 12s 44ms/step - loss: 0.0804 - y_0_loss: 0.0043 - y_1_loss: 0.0060 - y_2_loss: 0.0086 - y_3_loss: 0.0125 - y_4_loss: 0.0065 - y_5_loss: 0.0070 - y_6_loss: 0.0049 - y_7_loss: 0.0089 - y_8_loss: 0.0103 - y_9_loss: 0.0115 - y_0_accuracy: 0.9984 - y_1_accuracy: 0.9979 - y_2_accuracy: 0.9975 - y_3_accuracy: 0.9964 - y_4_accuracy: 0.9979 - y_5_accuracy: 0.9977 - y_6_accuracy: 0.9986 - y_7_accuracy: 0.9973 - y_8_accuracy: 0.9969 - y_9_accuracy: 0.9961 - val_loss: 0.2213 - val_y_0_loss: 0.0127 - val_y_1_loss: 0.0129 - val_y_2_loss: 0.0226 - val_y_3_loss: 0.0292 - val_y_4_loss: 0.0201 - val_y_5_loss: 0.0309 - val_y_6_loss: 0.0137 - val_y_7_loss: 0.0207 - val_y_8_loss: 0.0317 - val_y_9_loss: 0.0268 - val_y_0_accuracy: 0.9964 - val_y_1_accuracy: 0.9961 - val_y_2_accuracy: 0.9927 - val_y_3_accuracy: 0.9915 - val_y_4_accuracy: 0.9933 - val_y_5_accuracy: 0.9923 - val_y_6_accuracy: 0.9959 - val_y_7_accuracy: 0.9934 - val_y_8_accuracy: 0.9917 - val_y_9_accuracy: 0.9918\n",
            "Epoch 15/15\n",
            "282/282 [==============================] - 12s 43ms/step - loss: 0.0719 - y_0_loss: 0.0037 - y_1_loss: 0.0056 - y_2_loss: 0.0080 - y_3_loss: 0.0112 - y_4_loss: 0.0058 - y_5_loss: 0.0059 - y_6_loss: 0.0046 - y_7_loss: 0.0082 - y_8_loss: 0.0093 - y_9_loss: 0.0097 - y_0_accuracy: 0.9987 - y_1_accuracy: 0.9982 - y_2_accuracy: 0.9979 - y_3_accuracy: 0.9967 - y_4_accuracy: 0.9981 - y_5_accuracy: 0.9980 - y_6_accuracy: 0.9986 - y_7_accuracy: 0.9976 - y_8_accuracy: 0.9970 - y_9_accuracy: 0.9971 - val_loss: 0.2226 - val_y_0_loss: 0.0119 - val_y_1_loss: 0.0114 - val_y_2_loss: 0.0222 - val_y_3_loss: 0.0316 - val_y_4_loss: 0.0191 - val_y_5_loss: 0.0327 - val_y_6_loss: 0.0141 - val_y_7_loss: 0.0209 - val_y_8_loss: 0.0310 - val_y_9_loss: 0.0277 - val_y_0_accuracy: 0.9965 - val_y_1_accuracy: 0.9966 - val_y_2_accuracy: 0.9925 - val_y_3_accuracy: 0.9895 - val_y_4_accuracy: 0.9943 - val_y_5_accuracy: 0.9918 - val_y_6_accuracy: 0.9961 - val_y_7_accuracy: 0.9937 - val_y_8_accuracy: 0.9917 - val_y_9_accuracy: 0.9918\n"
          ]
        }
      ],
      "source": [
        "# input size\n",
        "image_shape = train_images.shape[1]\n",
        "\n",
        "# single input\n",
        "inputs = keras.Input(shape=(image_shape,), name=\"input\")\n",
        "\n",
        "# 2 hidden layers \n",
        "layer_1 = layers.Dense(64, activation=\"relu\", name=\"layer_1\")(inputs)\n",
        "layer_2 = layers.Dense(64, activation=\"relu\", name=\"layer_2\")(layer_1)\n",
        "\n",
        "# 10 output layers\n",
        "y_list = []\n",
        "loss_list = []\n",
        "metrics_list = []\n",
        "\n",
        "for ii in range(num_labels):\n",
        "  exec(f\"y_{ii} = layers.Dense(1, activation=\\\"sigmoid\\\", name=\\\"y_{ii}\\\")(layer_2)\")\n",
        "  exec(f\"y_list.append(y_{ii})\")\n",
        "  loss_list.append(\"binary_crossentropy\")\n",
        "  metrics_list.append([\"accuracy\"])\n",
        "\n",
        "# create model\n",
        "model = keras.Model(inputs=inputs, outputs=y_list)\n",
        "\n",
        "# compilation\n",
        "model.compile(optimizer=\"rmsprop\",\n",
        "              loss=loss_list,\n",
        "              metrics=metrics_list)#Aggregate_Accuracy())\n",
        "\n",
        "# train the model\n",
        "history = model.fit(train_images, train_labels_list,\n",
        "                    epochs=15,\n",
        "                    batch_size=128,\n",
        "                    validation_split=0.4)"
      ]
    },
    {
      "cell_type": "markdown",
      "source": [
        "Plot the model"
      ],
      "metadata": {
        "id": "cUKZ5LJfIOvB"
      }
    },
    {
      "cell_type": "code",
      "execution_count": 5,
      "metadata": {
        "colab": {
          "base_uri": "https://localhost:8080/",
          "height": 350
        },
        "id": "gEmP4my8lMBQ",
        "outputId": "55d70f8b-882d-4f35-eedf-d16ac468a238"
      },
      "outputs": [
        {
          "output_type": "execute_result",
          "data": {
            "image/png": "[encoded data removed]",
            "text/plain": [
              "<IPython.core.display.Image object>"
            ]
          },
          "metadata": {},
          "execution_count": 5
        }
      ],
      "source": [
        "keras.utils.plot_model(model)"
      ]
    },
    {
      "cell_type": "code",
      "execution_count": 8,
      "metadata": {
        "id": "jy3-n60tlMBQ"
      },
      "outputs": [],
      "source": [
        "# history data\n",
        "history_dict = history.history\n",
        "\n",
        "# training metric history\n",
        "train_loss_values = history_dict[\"loss\"]\n",
        "train_acc_values = history_dict[\"y_0_accuracy\"]\n",
        "\n",
        "# validation metric history\n",
        "val_loss_values = history_dict[\"val_loss\"]\n",
        "val_acc_values = history_dict[\"val_y_0_accuracy\"]\n",
        "\n",
        "# epochs\n",
        "epochs = range(1, len(train_loss_values) + 1)"
      ]
    },
    {
      "cell_type": "code",
      "execution_count": 9,
      "metadata": {
        "colab": {
          "base_uri": "https://localhost:8080/",
          "height": 295
        },
        "id": "CVJhbmDdlMBR",
        "outputId": "53080567-2c3f-45c4-e177-56e9efcccc7d"
      },
      "outputs": [
        {
          "output_type": "display_data",
          "data": {
            "image/png": "[encoded data removed]",
            "text/plain": [
              "<Figure size 432x288 with 1 Axes>"
            ]
          },
          "metadata": {
            "needs_background": "light"
          }
        }
      ],
      "source": [
        "# create figure for training data\n",
        "fig1, ax1 = plt.subplots()\n",
        "\n",
        "# plot\n",
        "ax1.plot(epochs, train_loss_values, \"bo\", label=\"Training Loss\")\n",
        "ax1.plot(epochs, val_loss_values, \"b\", label=\"Validation Loss\")\n",
        "ax1.set_title(\"Training and Validation Loss\")\n",
        "ax1.set_xlabel(\"Epochs\")\n",
        "ax1.set_ylabel(\"Loss\")\n",
        "ax1.legend()\n",
        "plt.show()"
      ]
    },
    {
      "cell_type": "code",
      "execution_count": 10,
      "metadata": {
        "colab": {
          "base_uri": "https://localhost:8080/",
          "height": 295
        },
        "id": "Z31VUJkHlMBR",
        "outputId": "afcf96dd-3597-452a-d70a-1bc8fc0ad5bb"
      },
      "outputs": [
        {
          "output_type": "display_data",
          "data": {
            "image/png": "[encoded data removed]",
            "text/plain": [
              "<Figure size 432x288 with 1 Axes>"
            ]
          },
          "metadata": {
            "needs_background": "light"
          }
        }
      ],
      "source": [
        "# create figure for training data\n",
        "fig2, ax2 = plt.subplots()\n",
        "\n",
        "# plot\n",
        "ax2.plot(epochs, train_acc_values, \"bo\", label=\"Training Accuracy\")\n",
        "ax2.plot(epochs, val_acc_values, \"b\", label=\"Validation Accuracy\")\n",
        "ax2.set_title(\"Training and Accuracy Loss\")\n",
        "ax2.set_xlabel(\"Epochs\")\n",
        "ax2.set_ylabel(\"Accuracy\")\n",
        "ax2.legend()\n",
        "plt.show()"
      ]
    },
    {
      "cell_type": "markdown",
      "source": [
        "Evaluate on the test set"
      ],
      "metadata": {
        "id": "FvhdiX8zLGG6"
      }
    },
    {
      "cell_type": "code",
      "source": [
        "results = model.evaluate(test_images,test_labels_list)"
      ],
      "metadata": {
        "id": "HEaJQs2FIu1A",
        "outputId": "c640c1bb-6836-4a7d-91d0-02950ac8f25f",
        "colab": {
          "base_uri": "https://localhost:8080/"
        }
      },
      "execution_count": 11,
      "outputs": [
        {
          "output_type": "stream",
          "name": "stdout",
          "text": [
            "313/313 [==============================] - 8s 26ms/step - loss: 0.1857 - y_0_loss: 0.0135 - y_1_loss: 0.0105 - y_2_loss: 0.0193 - y_3_loss: 0.0257 - y_4_loss: 0.0163 - y_5_loss: 0.0169 - y_6_loss: 0.0170 - y_7_loss: 0.0213 - y_8_loss: 0.0209 - y_9_loss: 0.0242 - y_0_accuracy: 0.9964 - y_1_accuracy: 0.9972 - y_2_accuracy: 0.9940 - y_3_accuracy: 0.9919 - y_4_accuracy: 0.9946 - y_5_accuracy: 0.9947 - y_6_accuracy: 0.9944 - y_7_accuracy: 0.9925 - y_8_accuracy: 0.9937 - y_9_accuracy: 0.9925\n"
          ]
        }
      ]
    },
    {
      "cell_type": "markdown",
      "source": [
        "Separate losses and accuracies, then average them out"
      ],
      "metadata": {
        "id": "b1TtsVxGLIxP"
      }
    },
    {
      "cell_type": "code",
      "source": [
        "indiv_loss = results[:10]\n",
        "indiv_accuracy = results[10:]\n",
        "\n",
        "avg_loss = np.mean(indiv_loss)\n",
        "avg_accuracy = np.mean(indiv_accuracy)\n",
        "\n",
        "print(f\"Network loss: {avg_loss}\")\n",
        "print(f\"Network accuracy: {avg_accuracy}\")"
      ],
      "metadata": {
        "id": "K2KZ5vS3KyCx",
        "outputId": "1e7012ca-0a36-403c-9f8c-4979bdec4cf9",
        "colab": {
          "base_uri": "https://localhost:8080/"
        }
      },
      "execution_count": 12,
      "outputs": [
        {
          "output_type": "stream",
          "name": "stdout",
          "text": [
            "Network loss: 0.034725184086710215\n",
            "Network accuracy: 0.9060119446367025\n"
          ]
        }
      ]
    }
  ],
  "metadata": {
    "colab": {
      "name": "CSCE_636_HW04_Sol.ipynb",
      "provenance": []
    },
    "interpreter": {
      "hash": "02de5609ef162b6bcc51dd429fd31b9a1f163c414526741362218fd7f2e354ad"
    },
    "kernelspec": {
      "display_name": "Python 3.9.7 64-bit",
      "language": "python",
      "name": "python3"
    },
    "language_info": {
      "codemirror_mode": {
        "name": "ipython",
        "version": 3
      },
      "file_extension": ".py",
      "mimetype": "text/x-python",
      "name": "python",
      "nbconvert_exporter": "python",
      "pygments_lexer": "ipython3",
      "version": "3.9.7"
    },
    "orig_nbformat": 4,
    "accelerator": "GPU"
  },
  "nbformat": 4,
  "nbformat_minor": 0
}