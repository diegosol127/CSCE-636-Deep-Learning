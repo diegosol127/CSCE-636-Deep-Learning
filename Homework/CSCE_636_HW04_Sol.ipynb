{
  "cells": [
    {
      "cell_type": "markdown",
      "metadata": {
        "id": "t_tfeI-D5ljr"
      },
      "source": [
        "# HOMEWORK 04\n",
        "\n",
        "**Submitted by: Diego Sol**\n",
        "\n",
        "CSCE 636-600: Deep Learning\n",
        "\n",
        "Professor: Dr. Anxiao Jiang"
      ]
    },
    {
      "cell_type": "markdown",
      "metadata": {
        "id": "fEuGEd-l5ljt"
      },
      "source": [
        "## Task 1\n",
        "\n",
        "**Check out the Jupyter notebook for Chapter 7 at https://github.com/fchollet/deep-learning-with-python-notebooks/blob/master/chapter07_working-with-keras.ipynb . Answer the questions: (1) What is the advantage of using  Sequential Models? (2) What is the advantage of using Functional API? (3) What is the advantage of using Subclassing? (5 points)**"
      ]
    },
    {
      "cell_type": "markdown",
      "metadata": {
        "id": "RVrLVkuX5ljt"
      },
      "source": [
        "###Advantages of using Sequential Models:\n",
        "- it is simplest and easiest model to use\n",
        "- many problems are readily solved without having to define any methods or classes\n",
        "- it automatically matches input and ouptut sizes between layers\n",
        "- the `summary()` method can be used to depict an easily interpretable summary of the model"
      ]
    },
    {
      "cell_type": "markdown",
      "metadata": {
        "id": "K26JbekR5veL"
      },
      "source": [
        "###Advantages of using Functional API:\n",
        "- it provides more control over the model than when using a Sequential Model\n",
        "- unlike Sequential Models, it can be used to create layers with multiple inputs and outputs\n",
        "- it represents a good midpoint between usability and flexibility\n",
        "- the `plot_model()` method can be used to draw a plot that depicts the inputs and outputs to all the layers in the model"
      ]
    },
    {
      "cell_type": "markdown",
      "metadata": {
        "id": "8KJ7GR-K52py"
      },
      "source": [
        "###Advantages of using Subclassing:\n",
        "- of all the listed model-developing options, this one provides that highest degree control and accessibility\n",
        "- it allows for user-defined metrics such as loss\n",
        "- the new class automatically inherits methods and variables from the `keras.model` class\n",
        "- it allows for precise customization of steps throughout the training process"
      ]
    },
    {
      "cell_type": "markdown",
      "metadata": {
        "id": "TdVqODyk5lju"
      },
      "source": [
        "## Task 2\n",
        "\n",
        "**For the MNIST Dataset (for handwritten digit recognition), in the past, we built a one-input-one-output model, where the input is an image, and the output is a length-10 vector that represents a probability vector for the 10 classes (from class 0 to class 9). Today, let's build a one-input-multiple-output model, which has 10 outputs y_0, y_1, y_2, ..., y_9, where each y_i (for i between 0 and 9) is a real number between 0 and 1 that represents the probability for the input image to belong to class i. (That is, the probability that the input image does not belong to class i is 1 - y_i.) In other words, this new model is a combination of 10 binary classifiers (that is, one binary classifier for each class). The loss function for each y_i is the binary cross-entropy function, and the overall loss for the model is the summation of the 10 binary cross-entropies.**\n",
        "\n",
        "**Let's define a new performance metric \"aggregateAccuracy\" as follows. First, we pick y_i\\* to be the maximum value among y_0, y_1, y_2, ..., y_9. Then, we let i\\* be the label that our model predicts for the input image. Then, \"aggregateAccuracy\" is simply the \"accuracy\" that we usually talk about: it is the fraction of images whose predicted label equals the true label.**\n",
        "\n",
        "**Now compile your model and train it (with the loss function and performance metric defined above), and test the trained model's performance on the testing data.** \n",
        "\n",
        "**What you need to submit: (1) the complete code; (2) the training performance for training data and validation data (for both loss and aggregationAccuracy) shown in figures, where the x-axis is the number of epochs, and the y-axis is the loss or aggregateAccuracy; (3) show the test performance (loss and aggregateAccuracy) as two numbers. (15 points)**"
      ]
    },
    {
      "cell_type": "markdown",
      "metadata": {
        "id": "pfC7yIdp6d0x"
      },
      "source": [
        "Import packages and load MNIST data"
      ]
    },
    {
      "cell_type": "code",
      "execution_count": 1,
      "metadata": {
        "id": "CbV44liN6cqm"
      },
      "outputs": [],
      "source": [
        "import tensorflow as tf\n",
        "import numpy as np\n",
        "import matplotlib.pyplot as plt\n",
        "\n",
        "from tensorflow import keras\n",
        "from tensorflow.keras import layers\n",
        "from tensorflow.keras.datasets import mnist\n",
        "\n",
        "# load data\n",
        "(train_images, train_labels), (test_images, test_labels) = mnist.load_data()\n",
        "\n",
        "# prepare image data (reshape and normalize)\n",
        "train_images = train_images.reshape((60000, 28 * 28))\n",
        "train_images = train_images.astype(\"float32\") / 255\n",
        "test_images = test_images.reshape((10000, 28 * 28))\n",
        "test_images = test_images.astype(\"float32\") / 255\n",
        "\n",
        "# number of labels\n",
        "num_labels = len(np.unique(train_labels))\n",
        "\n",
        "# prepare label data to meet task requirements\n",
        "for ii in range(num_labels):\n",
        "  exec(f\"train_labels_{ii} = np.zeros(train_labels.shape)\")\n",
        "  idx = np.where(train_labels == ii)\n",
        "  for jj in idx[0]:\n",
        "    exec(f\"train_labels_{ii}[{jj}] = 1\")\n",
        "\n",
        "# each array in the list is a multi-hot encode that depicts\n",
        "train_labels_list = [train_labels_0, train_labels_1, train_labels_2, train_labels_3,\\\n",
        "                     train_labels_4, train_labels_5, train_labels_6, train_labels_7,\\\n",
        "                     train_labels_8, train_labels_9]\n",
        "\n",
        "# train_labels = tf.keras.utils.to_categorical(train_labels, num_classes=num_labels)\n",
        "# test_labels = tf.keras.utils.to_categorical(test_labels, num_classes=num_labels)"
      ]
    },
    {
      "cell_type": "code",
      "source": [
        "train_labels"
      ],
      "metadata": {
        "id": "9TJDBnSR8qHz",
        "outputId": "e34b84ec-64f2-471f-8d99-d48b48301309",
        "colab": {
          "base_uri": "https://localhost:8080/"
        }
      },
      "execution_count": 2,
      "outputs": [
        {
          "output_type": "execute_result",
          "data": {
            "text/plain": [
              "array([5, 0, 4, ..., 5, 6, 8], dtype=uint8)"
            ]
          },
          "metadata": {},
          "execution_count": 2
        }
      ]
    },
    {
      "cell_type": "markdown",
      "metadata": {
        "id": "kat_o1DAlMBN"
      },
      "source": [
        "Write a new performance metric"
      ]
    },
    {
      "cell_type": "code",
      "execution_count": 8,
      "metadata": {
        "id": "Fc03kMfElMBO"
      },
      "outputs": [],
      "source": [
        "class Aggregate_Accuracy(keras.metrics.Metric):    \n",
        "    def __init__(self, name=\"aggregateAccuracy\", **kwargs):\n",
        "        super().__init__(name=name, **kwargs)\n",
        "        self.num_total = self.add_weight(name=\"num_total\", initializer=\"zeros\", dtype=\"int32\")\n",
        "        self.num_accurate = self.add_weight(name=\"num_accurate\", initializer=\"zeros\", dtype=\"int32\")\n",
        "\n",
        "    def update_state(self, y_true, y_pred, sample_weight=None):\n",
        "      self.num_total = tf.cast(tf.shape(y_pred,0), \"int32\")\n",
        "      y_pred = tf.reshape(tf.argmax(y_pred, axis=0), shape=(-1, 1))\n",
        "      y_true = tf.reshape(tf.argmax(y_true, axis=0), shape=(-1, 1))\n",
        "      values = tf.cast(y_true, \"int32\") == tf.cast(y_pred, \"int32\")\n",
        "      values = tf.cast(values, \"int32\")\n",
        "      self.num_accurate.assign(tf.reduce_sum(values))\n",
        "\n",
        "    def result(self):\n",
        "      return tf.cast(self.num_accurate / self.num_total, \"float32\")\n",
        "\n",
        "    def reset(self):\n",
        "      self.num_total.assign(0.)\n",
        "      self.num_accurate.assign(0.)"
      ]
    },
    {
      "cell_type": "markdown",
      "metadata": {
        "id": "eeDLGu2zlMBO"
      },
      "source": [
        "Create a single-input multiple-output network by using the Functional API"
      ]
    },
    {
      "cell_type": "code",
      "execution_count": 10,
      "metadata": {
        "colab": {
          "base_uri": "https://localhost:8080/"
        },
        "id": "S9acnp5VlMBP",
        "outputId": "4bb0182e-0a53-42b0-b4a5-c28cee5066d2"
      },
      "outputs": [
        {
          "output_type": "stream",
          "name": "stdout",
          "text": [
            "Epoch 1/5\n",
            "282/282 [==============================] - 10s 16ms/step - loss: 1.1124 - y_0_loss: 0.0771 - y_1_loss: 0.0722 - y_2_loss: 0.1159 - y_3_loss: 0.1294 - y_4_loss: 0.1102 - y_5_loss: 0.1317 - y_6_loss: 0.0794 - y_7_loss: 0.0859 - y_8_loss: 0.1684 - y_9_loss: 0.1422 - y_0_accuracy: 0.9777 - y_1_accuracy: 0.9763 - y_2_accuracy: 0.9611 - y_3_accuracy: 0.9570 - y_4_accuracy: 0.9634 - y_5_accuracy: 0.9541 - y_6_accuracy: 0.9736 - y_7_accuracy: 0.9732 - y_8_accuracy: 0.9419 - y_9_accuracy: 0.9511 - val_loss: 0.5804 - val_y_0_loss: 0.0362 - val_y_1_loss: 0.0320 - val_y_2_loss: 0.0597 - val_y_3_loss: 0.0730 - val_y_4_loss: 0.0597 - val_y_5_loss: 0.0750 - val_y_6_loss: 0.0304 - val_y_7_loss: 0.0478 - val_y_8_loss: 0.0910 - val_y_9_loss: 0.0757 - val_y_0_accuracy: 0.9896 - val_y_1_accuracy: 0.9909 - val_y_2_accuracy: 0.9833 - val_y_3_accuracy: 0.9757 - val_y_4_accuracy: 0.9796 - val_y_5_accuracy: 0.9737 - val_y_6_accuracy: 0.9900 - val_y_7_accuracy: 0.9840 - val_y_8_accuracy: 0.9684 - val_y_9_accuracy: 0.9759\n",
            "Epoch 2/5\n",
            "282/282 [==============================] - 3s 10ms/step - loss: 0.4623 - y_0_loss: 0.0240 - y_1_loss: 0.0285 - y_2_loss: 0.0534 - y_3_loss: 0.0617 - y_4_loss: 0.0472 - y_5_loss: 0.0548 - y_6_loss: 0.0286 - y_7_loss: 0.0385 - y_8_loss: 0.0628 - y_9_loss: 0.0626 - y_0_accuracy: 0.9932 - y_1_accuracy: 0.9921 - y_2_accuracy: 0.9839 - y_3_accuracy: 0.9792 - y_4_accuracy: 0.9847 - y_5_accuracy: 0.9824 - y_6_accuracy: 0.9910 - y_7_accuracy: 0.9872 - y_8_accuracy: 0.9795 - y_9_accuracy: 0.9804 - val_loss: 0.4303 - val_y_0_loss: 0.0226 - val_y_1_loss: 0.0216 - val_y_2_loss: 0.0435 - val_y_3_loss: 0.0651 - val_y_4_loss: 0.0415 - val_y_5_loss: 0.0534 - val_y_6_loss: 0.0226 - val_y_7_loss: 0.0410 - val_y_8_loss: 0.0522 - val_y_9_loss: 0.0669 - val_y_0_accuracy: 0.9930 - val_y_1_accuracy: 0.9933 - val_y_2_accuracy: 0.9878 - val_y_3_accuracy: 0.9785 - val_y_4_accuracy: 0.9859 - val_y_5_accuracy: 0.9824 - val_y_6_accuracy: 0.9927 - val_y_7_accuracy: 0.9867 - val_y_8_accuracy: 0.9831 - val_y_9_accuracy: 0.9784\n",
            "Epoch 3/5\n",
            "282/282 [==============================] - 3s 11ms/step - loss: 0.3406 - y_0_loss: 0.0184 - y_1_loss: 0.0217 - y_2_loss: 0.0383 - y_3_loss: 0.0480 - y_4_loss: 0.0357 - y_5_loss: 0.0377 - y_6_loss: 0.0217 - y_7_loss: 0.0298 - y_8_loss: 0.0427 - y_9_loss: 0.0467 - y_0_accuracy: 0.9945 - y_1_accuracy: 0.9939 - y_2_accuracy: 0.9886 - y_3_accuracy: 0.9843 - y_4_accuracy: 0.9883 - y_5_accuracy: 0.9874 - y_6_accuracy: 0.9929 - y_7_accuracy: 0.9901 - y_8_accuracy: 0.9858 - y_9_accuracy: 0.9846 - val_loss: 0.3395 - val_y_0_loss: 0.0193 - val_y_1_loss: 0.0177 - val_y_2_loss: 0.0352 - val_y_3_loss: 0.0527 - val_y_4_loss: 0.0318 - val_y_5_loss: 0.0428 - val_y_6_loss: 0.0180 - val_y_7_loss: 0.0296 - val_y_8_loss: 0.0438 - val_y_9_loss: 0.0487 - val_y_0_accuracy: 0.9935 - val_y_1_accuracy: 0.9946 - val_y_2_accuracy: 0.9893 - val_y_3_accuracy: 0.9820 - val_y_4_accuracy: 0.9895 - val_y_5_accuracy: 0.9861 - val_y_6_accuracy: 0.9941 - val_y_7_accuracy: 0.9906 - val_y_8_accuracy: 0.9858 - val_y_9_accuracy: 0.9841\n",
            "Epoch 4/5\n",
            "282/282 [==============================] - 4s 14ms/step - loss: 0.2740 - y_0_loss: 0.0150 - y_1_loss: 0.0182 - y_2_loss: 0.0297 - y_3_loss: 0.0397 - y_4_loss: 0.0290 - y_5_loss: 0.0294 - y_6_loss: 0.0166 - y_7_loss: 0.0251 - y_8_loss: 0.0341 - y_9_loss: 0.0373 - y_0_accuracy: 0.9953 - y_1_accuracy: 0.9948 - y_2_accuracy: 0.9909 - y_3_accuracy: 0.9870 - y_4_accuracy: 0.9903 - y_5_accuracy: 0.9903 - y_6_accuracy: 0.9945 - y_7_accuracy: 0.9923 - y_8_accuracy: 0.9886 - y_9_accuracy: 0.9875 - val_loss: 0.3213 - val_y_0_loss: 0.0189 - val_y_1_loss: 0.0171 - val_y_2_loss: 0.0295 - val_y_3_loss: 0.0425 - val_y_4_loss: 0.0397 - val_y_5_loss: 0.0359 - val_y_6_loss: 0.0154 - val_y_7_loss: 0.0282 - val_y_8_loss: 0.0389 - val_y_9_loss: 0.0552 - val_y_0_accuracy: 0.9942 - val_y_1_accuracy: 0.9946 - val_y_2_accuracy: 0.9910 - val_y_3_accuracy: 0.9858 - val_y_4_accuracy: 0.9858 - val_y_5_accuracy: 0.9885 - val_y_6_accuracy: 0.9952 - val_y_7_accuracy: 0.9912 - val_y_8_accuracy: 0.9875 - val_y_9_accuracy: 0.9803\n",
            "Epoch 5/5\n",
            "282/282 [==============================] - 4s 16ms/step - loss: 0.2270 - y_0_loss: 0.0128 - y_1_loss: 0.0154 - y_2_loss: 0.0244 - y_3_loss: 0.0327 - y_4_loss: 0.0234 - y_5_loss: 0.0242 - y_6_loss: 0.0136 - y_7_loss: 0.0211 - y_8_loss: 0.0286 - y_9_loss: 0.0310 - y_0_accuracy: 0.9963 - y_1_accuracy: 0.9954 - y_2_accuracy: 0.9923 - y_3_accuracy: 0.9894 - y_4_accuracy: 0.9918 - y_5_accuracy: 0.9921 - y_6_accuracy: 0.9954 - y_7_accuracy: 0.9935 - y_8_accuracy: 0.9896 - y_9_accuracy: 0.9897 - val_loss: 0.2733 - val_y_0_loss: 0.0159 - val_y_1_loss: 0.0153 - val_y_2_loss: 0.0261 - val_y_3_loss: 0.0374 - val_y_4_loss: 0.0278 - val_y_5_loss: 0.0325 - val_y_6_loss: 0.0140 - val_y_7_loss: 0.0304 - val_y_8_loss: 0.0362 - val_y_9_loss: 0.0377 - val_y_0_accuracy: 0.9952 - val_y_1_accuracy: 0.9955 - val_y_2_accuracy: 0.9916 - val_y_3_accuracy: 0.9883 - val_y_4_accuracy: 0.9910 - val_y_5_accuracy: 0.9902 - val_y_6_accuracy: 0.9956 - val_y_7_accuracy: 0.9904 - val_y_8_accuracy: 0.9875 - val_y_9_accuracy: 0.9872\n"
          ]
        }
      ],
      "source": [
        "# input size\n",
        "image_shape = train_images.shape[1]\n",
        "\n",
        "# single input\n",
        "inputs = keras.Input(shape=(image_shape,), name=\"input\")\n",
        "\n",
        "# 2 hidden layers \n",
        "layer_1 = layers.Dense(64, activation=\"relu\", name=\"layer_1\")(inputs)\n",
        "layer_2 = layers.Dense(64, activation=\"relu\", name=\"layer_2\")(layer_1)\n",
        "\n",
        "# 10 output layers\n",
        "y_list = []\n",
        "loss_list = []\n",
        "metrics_list = []\n",
        "\n",
        "for ii in range(num_labels):\n",
        "  exec(f\"y_{ii} = layers.Dense(1, activation=\\\"sigmoid\\\", name=\\\"y_{ii}\\\")(layer_2)\")\n",
        "  exec(f\"y_list.append(y_{ii})\")\n",
        "  loss_list.append(\"binary_crossentropy\")\n",
        "  metrics_list.append([\"accuracy\"])\n",
        "\n",
        "# create model\n",
        "model = keras.Model(inputs=inputs, outputs=y_list)\n",
        "\n",
        "# compilation\n",
        "model.compile(optimizer=\"rmsprop\",\n",
        "              loss=loss_list,\n",
        "              metrics=metrics_list)#Aggregate_Accuracy())\n",
        "\n",
        "# train the model\n",
        "history = model.fit(train_images, train_labels_list,\n",
        "                    epochs=5,\n",
        "                    batch_size=128,\n",
        "                    validation_split=0.4)"
      ]
    },
    {
      "cell_type": "code",
      "execution_count": 11,
      "metadata": {
        "colab": {
          "base_uri": "https://localhost:8080/"
        },
        "id": "cPYPLbKPlMBP",
        "outputId": "a305411e-f813-48aa-85e1-5d9b42f73f06"
      },
      "outputs": [
        {
          "output_type": "stream",
          "name": "stdout",
          "text": [
            "[7 2 1 0 4 1 4 9 5 9]\n"
          ]
        },
        {
          "output_type": "execute_result",
          "data": {
            "text/plain": [
              "array([[1.0018317e-04],\n",
              "       [9.9453050e-01],\n",
              "       [3.0092001e-03],\n",
              "       [6.4224565e-05],\n",
              "       [3.6188662e-03],\n",
              "       [1.8054247e-04],\n",
              "       [7.2727125e-05],\n",
              "       [1.9986629e-03],\n",
              "       [1.4629960e-04],\n",
              "       [1.9529775e-08]], dtype=float32)"
            ]
          },
          "metadata": {},
          "execution_count": 11
        }
      ],
      "source": [
        "# evaluate the model\n",
        "results = model.predict(test_images)\n",
        "print(test_labels[:10])\n",
        "results[2][:10]"
      ]
    },
    {
      "cell_type": "code",
      "execution_count": 12,
      "metadata": {
        "colab": {
          "base_uri": "https://localhost:8080/",
          "height": 956
        },
        "id": "gEmP4my8lMBQ",
        "outputId": "74604701-743b-4b03-e528-9c04ab5928c6"
      },
      "outputs": [
        {
          "output_type": "stream",
          "name": "stdout",
          "text": [
            "Model: \"model_4\"\n",
            "__________________________________________________________________________________________________\n",
            " Layer (type)                   Output Shape         Param #     Connected to                     \n",
            "==================================================================================================\n",
            " input (InputLayer)             [(None, 784)]        0           []                               \n",
            "                                                                                                  \n",
            " layer_1 (Dense)                (None, 64)           50240       ['input[0][0]']                  \n",
            "                                                                                                  \n",
            " layer_2 (Dense)                (None, 64)           4160        ['layer_1[0][0]']                \n",
            "                                                                                                  \n",
            " y_0 (Dense)                    (None, 1)            65          ['layer_2[0][0]']                \n",
            "                                                                                                  \n",
            " y_1 (Dense)                    (None, 1)            65          ['layer_2[0][0]']                \n",
            "                                                                                                  \n",
            " y_2 (Dense)                    (None, 1)            65          ['layer_2[0][0]']                \n",
            "                                                                                                  \n",
            " y_3 (Dense)                    (None, 1)            65          ['layer_2[0][0]']                \n",
            "                                                                                                  \n",
            " y_4 (Dense)                    (None, 1)            65          ['layer_2[0][0]']                \n",
            "                                                                                                  \n",
            " y_5 (Dense)                    (None, 1)            65          ['layer_2[0][0]']                \n",
            "                                                                                                  \n",
            " y_6 (Dense)                    (None, 1)            65          ['layer_2[0][0]']                \n",
            "                                                                                                  \n",
            " y_7 (Dense)                    (None, 1)            65          ['layer_2[0][0]']                \n",
            "                                                                                                  \n",
            " y_8 (Dense)                    (None, 1)            65          ['layer_2[0][0]']                \n",
            "                                                                                                  \n",
            " y_9 (Dense)                    (None, 1)            65          ['layer_2[0][0]']                \n",
            "                                                                                                  \n",
            "==================================================================================================\n",
            "Total params: 55,050\n",
            "Trainable params: 55,050\n",
            "Non-trainable params: 0\n",
            "__________________________________________________________________________________________________\n"
          ]
        },
        {
          "output_type": "execute_result",
          "data": {
            "image/png": "[encoded data removed]",
            "text/plain": [
              "<IPython.core.display.Image object>"
            ]
          },
          "metadata": {},
          "execution_count": 12
        }
      ],
      "source": [
        "model.summary()\n",
        "keras.utils.plot_model(model)"
      ]
    },
    {
      "cell_type": "code",
      "execution_count": 13,
      "metadata": {
        "colab": {
          "base_uri": "https://localhost:8080/",
          "height": 236
        },
        "id": "jy3-n60tlMBQ",
        "outputId": "d8ba1454-9b3a-4377-de44-97928fff428d"
      },
      "outputs": [
        {
          "output_type": "error",
          "ename": "KeyError",
          "evalue": "ignored",
          "traceback": [
            "\u001b[0;31m---------------------------------------------------------------------------\u001b[0m",
            "\u001b[0;31mKeyError\u001b[0m                                  Traceback (most recent call last)",
            "\u001b[0;32m<ipython-input-13-cf19feaed4ba>\u001b[0m in \u001b[0;36m<module>\u001b[0;34m()\u001b[0m\n\u001b[1;32m      4\u001b[0m \u001b[0;31m# training metric history\u001b[0m\u001b[0;34m\u001b[0m\u001b[0;34m\u001b[0m\u001b[0;34m\u001b[0m\u001b[0m\n\u001b[1;32m      5\u001b[0m \u001b[0mtrain_loss_values\u001b[0m \u001b[0;34m=\u001b[0m \u001b[0mhistory_dict\u001b[0m\u001b[0;34m[\u001b[0m\u001b[0;34m\"loss\"\u001b[0m\u001b[0;34m]\u001b[0m\u001b[0;34m\u001b[0m\u001b[0;34m\u001b[0m\u001b[0m\n\u001b[0;32m----> 6\u001b[0;31m \u001b[0mtrain_acc_values\u001b[0m \u001b[0;34m=\u001b[0m \u001b[0mhistory_dict\u001b[0m\u001b[0;34m[\u001b[0m\u001b[0;34m\"accuracy\"\u001b[0m\u001b[0;34m]\u001b[0m\u001b[0;34m\u001b[0m\u001b[0;34m\u001b[0m\u001b[0m\n\u001b[0m\u001b[1;32m      7\u001b[0m \u001b[0;34m\u001b[0m\u001b[0m\n\u001b[1;32m      8\u001b[0m \u001b[0;31m# validation metric history\u001b[0m\u001b[0;34m\u001b[0m\u001b[0;34m\u001b[0m\u001b[0;34m\u001b[0m\u001b[0m\n",
            "\u001b[0;31mKeyError\u001b[0m: 'accuracy'"
          ]
        }
      ],
      "source": [
        "# history data\n",
        "history_dict = history.history\n",
        "\n",
        "# training metric history\n",
        "train_loss_values = history_dict[\"loss\"]\n",
        "train_acc_values = history_dict[\"accuracy\"]\n",
        "\n",
        "# validation metric history\n",
        "val_loss_values = history_dict[\"val_loss\"]\n",
        "val_acc_values = history_dict[\"val_accuracy\"]\n",
        "\n",
        "# epochs\n",
        "epochs = range(1, len(train_loss_values) + 1)"
      ]
    },
    {
      "cell_type": "code",
      "execution_count": null,
      "metadata": {
        "id": "CVJhbmDdlMBR"
      },
      "outputs": [],
      "source": [
        "# create figure for training data\n",
        "fig1, ax1 = plt.subplots()\n",
        "\n",
        "# plot\n",
        "ax1.plot(epochs, train_loss_values, \"bo\", label=\"Training Loss\")\n",
        "ax1.plot(epochs, val_loss_values, \"b\", label=\"Validation Loss\")\n",
        "ax1.set_title(\"Training and Validation Loss\")\n",
        "ax1.set_xlabel(\"Epochs\")\n",
        "ax1.set_ylabel(\"Loss\")\n",
        "ax1.legend()\n",
        "plt.show()"
      ]
    },
    {
      "cell_type": "code",
      "execution_count": null,
      "metadata": {
        "id": "Z31VUJkHlMBR"
      },
      "outputs": [],
      "source": [
        "# create figure for training data\n",
        "fig2, ax2 = plt.subplots()\n",
        "\n",
        "# plot\n",
        "ax2.plot(epochs, train_acc_values, \"bo\", label=\"Training Accuracy\")\n",
        "ax2.plot(epochs, val_acc_values, \"b\", label=\"Validation Accuracy\")\n",
        "ax2.set_title(\"Training and Accuracy Loss\")\n",
        "ax2.set_xlabel(\"Epochs\")\n",
        "ax2.set_ylabel(\"Accuracy\")\n",
        "ax2.legend()\n",
        "plt.show()"
      ]
    }
  ],
  "metadata": {
    "colab": {
      "name": "CSCE_636_HW04_Sol.ipynb",
      "provenance": []
    },
    "interpreter": {
      "hash": "02de5609ef162b6bcc51dd429fd31b9a1f163c414526741362218fd7f2e354ad"
    },
    "kernelspec": {
      "display_name": "Python 3.9.7 64-bit",
      "language": "python",
      "name": "python3"
    },
    "language_info": {
      "codemirror_mode": {
        "name": "ipython",
        "version": 3
      },
      "file_extension": ".py",
      "mimetype": "text/x-python",
      "name": "python",
      "nbconvert_exporter": "python",
      "pygments_lexer": "ipython3",
      "version": "3.9.7"
    },
    "orig_nbformat": 4
  },
  "nbformat": 4,
  "nbformat_minor": 0
}