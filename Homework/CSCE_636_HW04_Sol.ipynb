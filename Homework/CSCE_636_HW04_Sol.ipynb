{
  "cells": [
    {
      "cell_type": "markdown",
      "metadata": {
        "id": "t_tfeI-D5ljr"
      },
      "source": [
        "# HOMEWORK 04\n",
        "\n",
        "**Submitted by: Diego Sol**\n",
        "\n",
        "CSCE 636-600: Deep Learning\n",
        "\n",
        "Professor: Dr. Anxiao Jiang"
      ]
    },
    {
      "cell_type": "markdown",
      "metadata": {
        "id": "fEuGEd-l5ljt"
      },
      "source": [
        "## Task 1\n",
        "\n",
        "**Check out the Jupyter notebook for Chapter 7 at https://github.com/fchollet/deep-learning-with-python-notebooks/blob/master/chapter07_working-with-keras.ipynb . Answer the questions: (1) What is the advantage of using  Sequential Models? (2) What is the advantage of using Functional API? (3) What is the advantage of using Subclassing? (5 points)**"
      ]
    },
    {
      "cell_type": "markdown",
      "metadata": {
        "id": "RVrLVkuX5ljt"
      },
      "source": [
        "###Advantages of using Sequential Models:\n",
        "- it is simplest and easiest model to use\n",
        "- many problems are readily solved without having to define any methods or classes\n",
        "- it automatically matches input and ouptut sizes between layers\n",
        "- the `summary()` method can be used to depict an easily interpretable summary of the model"
      ]
    },
    {
      "cell_type": "markdown",
      "source": [
        "###Advantages of using Functional API:\n",
        "- it provides more control over the model than when using a Sequential Model\n",
        "- unlike Sequential Models, it can be used to create layers with multiple inputs and outputs\n",
        "- it represents a good midpoint between usability and flexibility\n",
        "- the `plot_model()` method can be used to draw a plot that depicts the inputs and outputs to all the layers in the model"
      ],
      "metadata": {
        "id": "K26JbekR5veL"
      }
    },
    {
      "cell_type": "markdown",
      "source": [
        "###Advantages of using Subclassing:\n",
        "- of all the listed model-developing options, this one provides that highest degree control and accessibility\n",
        "- it allows for user-defined metrics such as loss\n",
        "- the new class automatically inherits methods and variables from the `keras.model` class\n",
        "- it allows for precise customization of steps throughout the training process"
      ],
      "metadata": {
        "id": "8KJ7GR-K52py"
      }
    },
    {
      "cell_type": "markdown",
      "metadata": {
        "id": "TdVqODyk5lju"
      },
      "source": [
        "## Task 2\n",
        "\n",
        "**For the MNIST Dataset (for handwritten digit recognition), in the past, we built a one-input-one-output model, where the input is an image, and the output is a length-10 vector that represents a probability vector for the 10 classes (from class 0 to class 9). Today, let's build a one-input-multiple-output model, which has 10 outputs y_0, y_1, y_2, ..., y_9, where each y_i (for i between 0 and 9) is a real number between 0 and 1 that represents the probability for the input image to belong to class i. (That is, the probability that the input image does not belong to class i is 1 - y_i.) In other words, this new model is a combination of 10 binary classifiers (that is, one binary classifier for each class). The loss function for each y_i is the binary cross-entropy function, and the overall loss for the model is the summation of the 10 binary cross-entropies.**\n",
        "\n",
        "**Let's define a new performance metric \"aggregateAccuracy\" as follows. First, we pick y_i\\* to be the maximum value among y_0, y_1, y_2, ..., y_9. Then, we let i\\* be the label that our model predicts for the input image. Then, \"aggregateAccuracy\" is simply the \"accuracy\" that we usually talk about: it is the fraction of images whose predicted label equals the true label.**\n",
        "\n",
        "**Now compile your model and train it (with the loss function and performance metric defined above), and test the trained model's performance on the testing data.** \n",
        "\n",
        "**What you need to submit: (1) the complete code; (2) the training performance for training data and validation data (for both loss and aggregationAccuracy) shown in figures, where the x-axis is the number of epochs, and the y-axis is the loss or aggregateAccuracy; (3) show the test performance (loss and aggregateAccuracy) as two numbers. (15 points)**"
      ]
    }
  ],
  "metadata": {
    "interpreter": {
      "hash": "02de5609ef162b6bcc51dd429fd31b9a1f163c414526741362218fd7f2e354ad"
    },
    "kernelspec": {
      "display_name": "Python 3.9.7 64-bit",
      "language": "python",
      "name": "python3"
    },
    "language_info": {
      "name": "python",
      "version": "3.9.7"
    },
    "orig_nbformat": 4,
    "colab": {
      "name": "CSCE_636_HW04_Sol.ipynb",
      "provenance": []
    }
  },
  "nbformat": 4,
  "nbformat_minor": 0
}