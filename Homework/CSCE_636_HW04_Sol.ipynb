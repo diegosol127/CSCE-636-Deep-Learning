{
  "cells": [
    {
      "cell_type": "markdown",
      "metadata": {
        "id": "t_tfeI-D5ljr"
      },
      "source": [
        "# HOMEWORK 04\n",
        "\n",
        "**Submitted by: Diego Sol**\n",
        "\n",
        "CSCE 636-600: Deep Learning\n",
        "\n",
        "Professor: Dr. Anxiao Jiang"
      ]
    },
    {
      "cell_type": "markdown",
      "metadata": {
        "id": "fEuGEd-l5ljt"
      },
      "source": [
        "## Task 1\n",
        "\n",
        "**Check out the Jupyter notebook for Chapter 7 at https://github.com/fchollet/deep-learning-with-python-notebooks/blob/master/chapter07_working-with-keras.ipynb . Answer the questions: (1) What is the advantage of using  Sequential Models? (2) What is the advantage of using Functional API? (3) What is the advantage of using Subclassing? (5 points)**"
      ]
    },
    {
      "cell_type": "markdown",
      "metadata": {
        "id": "RVrLVkuX5ljt"
      },
      "source": [
        "###Advantages of using Sequential Models:\n",
        "- it is simplest and easiest model to use\n",
        "- many problems are readily solved without having to define any methods or classes\n",
        "- it automatically matches input and ouptut sizes between layers\n",
        "- the `summary()` method can be used to depict an easily interpretable summary of the model"
      ]
    },
    {
      "cell_type": "markdown",
      "metadata": {
        "id": "K26JbekR5veL"
      },
      "source": [
        "###Advantages of using Functional API:\n",
        "- it provides more control over the model than when using a Sequential Model\n",
        "- unlike Sequential Models, it can be used to create layers with multiple inputs and outputs\n",
        "- it represents a good midpoint between usability and flexibility\n",
        "- the `plot_model()` method can be used to draw a plot that depicts the inputs and outputs to all the layers in the model"
      ]
    },
    {
      "cell_type": "markdown",
      "metadata": {
        "id": "8KJ7GR-K52py"
      },
      "source": [
        "###Advantages of using Subclassing:\n",
        "- of all the listed model-developing options, this one provides that highest degree control and accessibility\n",
        "- it allows for user-defined metrics such as loss\n",
        "- the new class automatically inherits methods and variables from the `keras.model` class\n",
        "- it allows for precise customization of steps throughout the training process"
      ]
    },
    {
      "cell_type": "markdown",
      "metadata": {
        "id": "TdVqODyk5lju"
      },
      "source": [
        "## Task 2\n",
        "\n",
        "**For the MNIST Dataset (for handwritten digit recognition), in the past, we built a one-input-one-output model, where the input is an image, and the output is a length-10 vector that represents a probability vector for the 10 classes (from class 0 to class 9). Today, let's build a one-input-multiple-output model, which has 10 outputs y_0, y_1, y_2, ..., y_9, where each y_i (for i between 0 and 9) is a real number between 0 and 1 that represents the probability for the input image to belong to class i. (That is, the probability that the input image does not belong to class i is 1 - y_i.) In other words, this new model is a combination of 10 binary classifiers (that is, one binary classifier for each class). The loss function for each y_i is the binary cross-entropy function, and the overall loss for the model is the summation of the 10 binary cross-entropies.**\n",
        "\n",
        "**Let's define a new performance metric \"aggregateAccuracy\" as follows. First, we pick y_i\\* to be the maximum value among y_0, y_1, y_2, ..., y_9. Then, we let i\\* be the label that our model predicts for the input image. Then, \"aggregateAccuracy\" is simply the \"accuracy\" that we usually talk about: it is the fraction of images whose predicted label equals the true label.**\n",
        "\n",
        "**Now compile your model and train it (with the loss function and performance metric defined above), and test the trained model's performance on the testing data.** \n",
        "\n",
        "**What you need to submit: (1) the complete code; (2) the training performance for training data and validation data (for both loss and aggregationAccuracy) shown in figures, where the x-axis is the number of epochs, and the y-axis is the loss or aggregateAccuracy; (3) show the test performance (loss and aggregateAccuracy) as two numbers. (15 points)**"
      ]
    },
    {
      "cell_type": "markdown",
      "metadata": {
        "id": "pfC7yIdp6d0x"
      },
      "source": [
        "Import packages and load MNIST data"
      ]
    },
    {
      "cell_type": "code",
      "execution_count": 97,
      "metadata": {
        "id": "CbV44liN6cqm"
      },
      "outputs": [],
      "source": [
        "import tensorflow as tf\n",
        "import numpy as np\n",
        "import matplotlib.pyplot as plt\n",
        "\n",
        "from tensorflow import keras\n",
        "from tensorflow.keras import layers\n",
        "from tensorflow.keras.datasets import mnist\n",
        "\n",
        "# load data\n",
        "(train_images, train_labels), (test_images, test_labels) = mnist.load_data()\n",
        "\n",
        "# prepare image data (reshape and normalize)\n",
        "train_images = train_images.reshape((60000, 28 * 28))\n",
        "train_images = train_images.astype(\"float32\") / 255\n",
        "test_images = test_images.reshape((10000, 28 * 28))\n",
        "test_images = test_images.astype(\"float32\") / 255\n",
        "\n",
        "# number of labels\n",
        "num_labels = len(np.unique(train_labels))\n",
        "\n",
        "# prepare label data to meet task requirements\n",
        "for ii in range(num_labels):\n",
        "  exec(f\"train_labels_{ii} = np.zeros(train_labels.shape)\")\n",
        "  idx = np.where(train_labels == ii)\n",
        "  for jj in idx[0]:\n",
        "    exec(f\"train_labels_{ii}[{jj}] = 1\")\n",
        "\n",
        "train_labels_list = [train_labels_0, train_labels_1, train_labels_2, train_labels_3,\\\n",
        "                     train_labels_4, train_labels_5, train_labels_6, train_labels_7,\\\n",
        "                     train_labels_8, train_labels_9]"
      ]
    },
    {
      "cell_type": "markdown",
      "metadata": {
        "id": "kat_o1DAlMBN"
      },
      "source": [
        "Write a new performance metric"
      ]
    },
    {
      "cell_type": "code",
      "execution_count": 11,
      "metadata": {
        "id": "Fc03kMfElMBO"
      },
      "outputs": [],
      "source": [
        "class aggregateAccuracy(keras.metrics.Metric):\n",
        "    def __init__(self, name=\"aggAcc\", **kwargs):\n",
        "        super().__init__(name=name, **kwargs)\n",
        "        self.y_i = np.argmax()\n"
      ]
    },
    {
      "cell_type": "markdown",
      "metadata": {
        "id": "eeDLGu2zlMBO"
      },
      "source": [
        "Create a single-input multiple-output network by using the Functional API"
      ]
    },
    {
      "cell_type": "code",
      "execution_count": 121,
      "metadata": {
        "id": "S9acnp5VlMBP",
        "outputId": "38e90ba7-6681-442c-bbb8-b27e854f46d0",
        "colab": {
          "base_uri": "https://localhost:8080/"
        }
      },
      "outputs": [
        {
          "output_type": "stream",
          "name": "stdout",
          "text": [
            "Epoch 1/5\n",
            "282/282 [==============================] - 7s 12ms/step - loss: 1.1117 - output0_loss: 0.0750 - output1_loss: 0.0669 - output2_loss: 0.1109 - output3_loss: 0.1284 - output4_loss: 0.1075 - output5_loss: 0.1434 - output6_loss: 0.0795 - output7_loss: 0.0889 - output8_loss: 0.1628 - output9_loss: 0.1483 - output0_accuracy: 0.9772 - output1_accuracy: 0.9768 - output2_accuracy: 0.9633 - output3_accuracy: 0.9566 - output4_accuracy: 0.9638 - output5_accuracy: 0.9517 - output6_accuracy: 0.9747 - output7_accuracy: 0.9716 - output8_accuracy: 0.9441 - output9_accuracy: 0.9446 - val_loss: 0.6190 - val_output0_loss: 0.0292 - val_output1_loss: 0.0274 - val_output2_loss: 0.0567 - val_output3_loss: 0.0919 - val_output4_loss: 0.0542 - val_output5_loss: 0.0771 - val_output6_loss: 0.0537 - val_output7_loss: 0.0491 - val_output8_loss: 0.0884 - val_output9_loss: 0.0913 - val_output0_accuracy: 0.9920 - val_output1_accuracy: 0.9923 - val_output2_accuracy: 0.9838 - val_output3_accuracy: 0.9698 - val_output4_accuracy: 0.9805 - val_output5_accuracy: 0.9748 - val_output6_accuracy: 0.9810 - val_output7_accuracy: 0.9847 - val_output8_accuracy: 0.9700 - val_output9_accuracy: 0.9680\n",
            "Epoch 2/5\n",
            "282/282 [==============================] - 2s 9ms/step - loss: 0.4698 - output0_loss: 0.0233 - output1_loss: 0.0280 - output2_loss: 0.0518 - output3_loss: 0.0652 - output4_loss: 0.0451 - output5_loss: 0.0562 - output6_loss: 0.0323 - output7_loss: 0.0398 - output8_loss: 0.0631 - output9_loss: 0.0649 - output0_accuracy: 0.9931 - output1_accuracy: 0.9921 - output2_accuracy: 0.9843 - output3_accuracy: 0.9795 - output4_accuracy: 0.9856 - output5_accuracy: 0.9815 - output6_accuracy: 0.9900 - output7_accuracy: 0.9872 - output8_accuracy: 0.9796 - output9_accuracy: 0.9804 - val_loss: 0.4543 - val_output0_loss: 0.0265 - val_output1_loss: 0.0209 - val_output2_loss: 0.0423 - val_output3_loss: 0.0820 - val_output4_loss: 0.0376 - val_output5_loss: 0.0545 - val_output6_loss: 0.0367 - val_output7_loss: 0.0418 - val_output8_loss: 0.0539 - val_output9_loss: 0.0583 - val_output0_accuracy: 0.9910 - val_output1_accuracy: 0.9938 - val_output2_accuracy: 0.9883 - val_output3_accuracy: 0.9722 - val_output4_accuracy: 0.9876 - val_output5_accuracy: 0.9826 - val_output6_accuracy: 0.9878 - val_output7_accuracy: 0.9856 - val_output8_accuracy: 0.9833 - val_output9_accuracy: 0.9815\n",
            "Epoch 3/5\n",
            "282/282 [==============================] - 2s 9ms/step - loss: 0.3560 - output0_loss: 0.0176 - output1_loss: 0.0216 - output2_loss: 0.0381 - output3_loss: 0.0522 - output4_loss: 0.0353 - output5_loss: 0.0403 - output6_loss: 0.0234 - output7_loss: 0.0318 - output8_loss: 0.0461 - output9_loss: 0.0496 - output0_accuracy: 0.9948 - output1_accuracy: 0.9937 - output2_accuracy: 0.9879 - output3_accuracy: 0.9837 - output4_accuracy: 0.9890 - output5_accuracy: 0.9868 - output6_accuracy: 0.9924 - output7_accuracy: 0.9900 - output8_accuracy: 0.9848 - output9_accuracy: 0.9844 - val_loss: 0.3678 - val_output0_loss: 0.0197 - val_output1_loss: 0.0186 - val_output2_loss: 0.0357 - val_output3_loss: 0.0533 - val_output4_loss: 0.0400 - val_output5_loss: 0.0474 - val_output6_loss: 0.0206 - val_output7_loss: 0.0424 - val_output8_loss: 0.0438 - val_output9_loss: 0.0464 - val_output0_accuracy: 0.9941 - val_output1_accuracy: 0.9945 - val_output2_accuracy: 0.9896 - val_output3_accuracy: 0.9831 - val_output4_accuracy: 0.9851 - val_output5_accuracy: 0.9846 - val_output6_accuracy: 0.9934 - val_output7_accuracy: 0.9860 - val_output8_accuracy: 0.9855 - val_output9_accuracy: 0.9846\n",
            "Epoch 4/5\n",
            "282/282 [==============================] - 3s 9ms/step - loss: 0.2902 - output0_loss: 0.0145 - output1_loss: 0.0186 - output2_loss: 0.0312 - output3_loss: 0.0429 - output4_loss: 0.0280 - output5_loss: 0.0320 - output6_loss: 0.0188 - output7_loss: 0.0267 - output8_loss: 0.0372 - output9_loss: 0.0404 - output0_accuracy: 0.9956 - output1_accuracy: 0.9944 - output2_accuracy: 0.9905 - output3_accuracy: 0.9872 - output4_accuracy: 0.9915 - output5_accuracy: 0.9897 - output6_accuracy: 0.9939 - output7_accuracy: 0.9920 - output8_accuracy: 0.9882 - output9_accuracy: 0.9866 - val_loss: 0.3374 - val_output0_loss: 0.0165 - val_output1_loss: 0.0162 - val_output2_loss: 0.0319 - val_output3_loss: 0.0477 - val_output4_loss: 0.0434 - val_output5_loss: 0.0408 - val_output6_loss: 0.0180 - val_output7_loss: 0.0359 - val_output8_loss: 0.0431 - val_output9_loss: 0.0439 - val_output0_accuracy: 0.9949 - val_output1_accuracy: 0.9954 - val_output2_accuracy: 0.9898 - val_output3_accuracy: 0.9850 - val_output4_accuracy: 0.9835 - val_output5_accuracy: 0.9872 - val_output6_accuracy: 0.9936 - val_output7_accuracy: 0.9886 - val_output8_accuracy: 0.9861 - val_output9_accuracy: 0.9859\n",
            "Epoch 5/5\n",
            "282/282 [==============================] - 3s 9ms/step - loss: 0.2474 - output0_loss: 0.0122 - output1_loss: 0.0162 - output2_loss: 0.0254 - output3_loss: 0.0368 - output4_loss: 0.0242 - output5_loss: 0.0276 - output6_loss: 0.0152 - output7_loss: 0.0232 - output8_loss: 0.0319 - output9_loss: 0.0348 - output0_accuracy: 0.9962 - output1_accuracy: 0.9948 - output2_accuracy: 0.9917 - output3_accuracy: 0.9887 - output4_accuracy: 0.9923 - output5_accuracy: 0.9906 - output6_accuracy: 0.9951 - output7_accuracy: 0.9930 - output8_accuracy: 0.9894 - output9_accuracy: 0.9889 - val_loss: 0.2830 - val_output0_loss: 0.0148 - val_output1_loss: 0.0145 - val_output2_loss: 0.0270 - val_output3_loss: 0.0422 - val_output4_loss: 0.0248 - val_output5_loss: 0.0368 - val_output6_loss: 0.0164 - val_output7_loss: 0.0312 - val_output8_loss: 0.0390 - val_output9_loss: 0.0364 - val_output0_accuracy: 0.9953 - val_output1_accuracy: 0.9958 - val_output2_accuracy: 0.9921 - val_output3_accuracy: 0.9865 - val_output4_accuracy: 0.9918 - val_output5_accuracy: 0.9880 - val_output6_accuracy: 0.9945 - val_output7_accuracy: 0.9896 - val_output8_accuracy: 0.9878 - val_output9_accuracy: 0.9883\n"
          ]
        }
      ],
      "source": [
        "# input size\n",
        "image_shape = train_images.shape[1]\n",
        "\n",
        "# single input\n",
        "inputs = keras.Input(shape=(image_shape,), name=\"input\")\n",
        "\n",
        "# 2 hidden layers\n",
        "layer_1 = layers.Dense(64, activation=\"relu\", name=\"layer_1\")(inputs)\n",
        "layer_2 = layers.Dense(64, activation=\"relu\", name=\"layer_2\")(layer_1)\n",
        "\n",
        "# 10 output layers\n",
        "output0 = layers.Dense(1, activation=\"sigmoid\", name=\"output0\")(layer_2)\n",
        "outputs = [output0]\n",
        "loss_list = [\"binary_crossentropy\"]\n",
        "metrics_list = [[\"accuracy\"]]\n",
        "for ii in range(num_labels-1):\n",
        "  exec(f\"output{ii+1} = layers.Dense(1, activation=\\\"sigmoid\\\", name=\\\"output{ii+1}\\\")(layer_2)\")\n",
        "  exec(f\"outputs.append(output{ii+1})\")\n",
        "  loss_list.append(\"binary_crossentropy\")\n",
        "  metrics_list.append([\"accuracy\"])\n",
        "\n",
        "# create model\n",
        "model = keras.Model(inputs=inputs, outputs=outputs)\n",
        "\n",
        "# compilation\n",
        "model.compile(optimizer=\"rmsprop\",\n",
        "              loss=loss_list,\n",
        "              metrics=metrics_list)\n",
        "\n",
        "# train the model\n",
        "history = model.fit(train_images, train_labels_list,\n",
        "                    epochs=5,\n",
        "                    batch_size=128,\n",
        "                    validation_split=0.4)"
      ]
    },
    {
      "cell_type": "code",
      "execution_count": 116,
      "metadata": {
        "id": "cPYPLbKPlMBP",
        "outputId": "572ffa39-9a29-4cd6-a88e-fd5ba27eb8cb",
        "colab": {
          "base_uri": "https://localhost:8080/"
        }
      },
      "outputs": [
        {
          "output_type": "stream",
          "name": "stdout",
          "text": [
            "[7 2 1 0 4 1 4 9 5 9]\n"
          ]
        },
        {
          "output_type": "execute_result",
          "data": {
            "text/plain": [
              "array([[1.4516711e-04],\n",
              "       [9.9947536e-01],\n",
              "       [2.3547113e-03],\n",
              "       [2.1058321e-04],\n",
              "       [9.1369220e-05],\n",
              "       [1.4522672e-04],\n",
              "       [2.2177450e-07],\n",
              "       [5.6639612e-03],\n",
              "       [6.1206818e-03],\n",
              "       [1.5411374e-06]], dtype=float32)"
            ]
          },
          "metadata": {},
          "execution_count": 116
        }
      ],
      "source": [
        "# evaluate the model\n",
        "results = model.predict(test_images)\n",
        "print(test_labels[:10])\n",
        "results[2][:10]"
      ]
    },
    {
      "cell_type": "code",
      "execution_count": 99,
      "metadata": {
        "id": "gEmP4my8lMBQ",
        "outputId": "836749ae-ada4-419b-f7f2-de204690100f",
        "colab": {
          "base_uri": "https://localhost:8080/",
          "height": 801
        }
      },
      "outputs": [
        {
          "output_type": "stream",
          "name": "stdout",
          "text": [
            "Model: \"model_19\"\n",
            "__________________________________________________________________________________________________\n",
            " Layer (type)                   Output Shape         Param #     Connected to                     \n",
            "==================================================================================================\n",
            " input (InputLayer)             [(None, 784)]        0           []                               \n",
            "                                                                                                  \n",
            " layer_1 (Dense)                (None, 64)           50240       ['input[0][0]']                  \n",
            "                                                                                                  \n",
            " layer_2 (Dense)                (None, 64)           4160        ['layer_1[0][0]']                \n",
            "                                                                                                  \n",
            " output0 (Dense)                (None, 1)            65          ['layer_2[0][0]']                \n",
            "                                                                                                  \n",
            " output1 (Dense)                (None, 1)            65          ['layer_2[0][0]']                \n",
            "                                                                                                  \n",
            " output2 (Dense)                (None, 1)            65          ['layer_2[0][0]']                \n",
            "                                                                                                  \n",
            " output3 (Dense)                (None, 1)            65          ['layer_2[0][0]']                \n",
            "                                                                                                  \n",
            " output4 (Dense)                (None, 1)            65          ['layer_2[0][0]']                \n",
            "                                                                                                  \n",
            " output5 (Dense)                (None, 1)            65          ['layer_2[0][0]']                \n",
            "                                                                                                  \n",
            " output6 (Dense)                (None, 1)            65          ['layer_2[0][0]']                \n",
            "                                                                                                  \n",
            " output7 (Dense)                (None, 1)            65          ['layer_2[0][0]']                \n",
            "                                                                                                  \n",
            " output8 (Dense)                (None, 1)            65          ['layer_2[0][0]']                \n",
            "                                                                                                  \n",
            " output9 (Dense)                (None, 1)            65          ['layer_2[0][0]']                \n",
            "                                                                                                  \n",
            "==================================================================================================\n",
            "Total params: 55,050\n",
            "Trainable params: 55,050\n",
            "Non-trainable params: 0\n",
            "__________________________________________________________________________________________________\n"
          ]
        },
        {
          "output_type": "execute_result",
          "data": {
            "image/png": "[encoded data removed]",
            "text/plain": [
              "<IPython.core.display.Image object>"
            ]
          },
          "metadata": {},
          "execution_count": 99
        }
      ],
      "source": [
        "model.summary()\n",
        "keras.utils.plot_model(model)"
      ]
    },
    {
      "cell_type": "code",
      "execution_count": 15,
      "metadata": {
        "id": "jy3-n60tlMBQ",
        "outputId": "bc11971e-5a44-43b9-c067-bbb5d93a5ca4",
        "colab": {
          "base_uri": "https://localhost:8080/",
          "height": 235
        }
      },
      "outputs": [
        {
          "output_type": "error",
          "ename": "NameError",
          "evalue": "ignored",
          "traceback": [
            "\u001b[0;31m---------------------------------------------------------------------------\u001b[0m",
            "\u001b[0;31mNameError\u001b[0m                                 Traceback (most recent call last)",
            "\u001b[0;32m<ipython-input-15-cf19feaed4ba>\u001b[0m in \u001b[0;36m<module>\u001b[0;34m()\u001b[0m\n\u001b[1;32m      1\u001b[0m \u001b[0;31m# history data\u001b[0m\u001b[0;34m\u001b[0m\u001b[0;34m\u001b[0m\u001b[0;34m\u001b[0m\u001b[0m\n\u001b[0;32m----> 2\u001b[0;31m \u001b[0mhistory_dict\u001b[0m \u001b[0;34m=\u001b[0m \u001b[0mhistory\u001b[0m\u001b[0;34m.\u001b[0m\u001b[0mhistory\u001b[0m\u001b[0;34m\u001b[0m\u001b[0;34m\u001b[0m\u001b[0m\n\u001b[0m\u001b[1;32m      3\u001b[0m \u001b[0;34m\u001b[0m\u001b[0m\n\u001b[1;32m      4\u001b[0m \u001b[0;31m# training metric history\u001b[0m\u001b[0;34m\u001b[0m\u001b[0;34m\u001b[0m\u001b[0;34m\u001b[0m\u001b[0m\n\u001b[1;32m      5\u001b[0m \u001b[0mtrain_loss_values\u001b[0m \u001b[0;34m=\u001b[0m \u001b[0mhistory_dict\u001b[0m\u001b[0;34m[\u001b[0m\u001b[0;34m\"loss\"\u001b[0m\u001b[0;34m]\u001b[0m\u001b[0;34m\u001b[0m\u001b[0;34m\u001b[0m\u001b[0m\n",
            "\u001b[0;31mNameError\u001b[0m: name 'history' is not defined"
          ]
        }
      ],
      "source": [
        "# history data\n",
        "history_dict = history.history\n",
        "\n",
        "# training metric history\n",
        "train_loss_values = history_dict[\"loss\"]\n",
        "train_acc_values = history_dict[\"accuracy\"]\n",
        "\n",
        "# validation metric history\n",
        "val_loss_values = history_dict[\"val_loss\"]\n",
        "val_acc_values = history_dict[\"val_accuracy\"]\n",
        "\n",
        "# epochs\n",
        "epochs = range(1, len(train_loss_values) + 1)"
      ]
    },
    {
      "cell_type": "code",
      "execution_count": null,
      "metadata": {
        "id": "CVJhbmDdlMBR"
      },
      "outputs": [],
      "source": [
        "# create figure for training data\n",
        "fig1, ax1 = plt.subplots()\n",
        "\n",
        "# plot\n",
        "ax1.plot(epochs, train_loss_values, \"bo\", label=\"Training Loss\")\n",
        "ax1.plot(epochs, val_loss_values, \"b\", label=\"Validation Loss\")\n",
        "ax1.set_title(\"Training and Validation Loss\")\n",
        "ax1.set_xlabel(\"Epochs\")\n",
        "ax1.set_ylabel(\"Loss\")\n",
        "ax1.legend()\n",
        "plt.show()"
      ]
    },
    {
      "cell_type": "code",
      "execution_count": null,
      "metadata": {
        "id": "Z31VUJkHlMBR"
      },
      "outputs": [],
      "source": [
        "# create figure for training data\n",
        "fig2, ax2 = plt.subplots()\n",
        "\n",
        "# plot\n",
        "ax2.plot(epochs, train_acc_values, \"bo\", label=\"Training Accuracy\")\n",
        "ax2.plot(epochs, val_acc_values, \"b\", label=\"Validation Accuracy\")\n",
        "ax2.set_title(\"Training and Accuracy Loss\")\n",
        "ax2.set_xlabel(\"Epochs\")\n",
        "ax2.set_ylabel(\"Accuracy\")\n",
        "ax2.legend()\n",
        "plt.show()"
      ]
    }
  ],
  "metadata": {
    "colab": {
      "name": "CSCE_636_HW04_Sol.ipynb",
      "provenance": []
    },
    "interpreter": {
      "hash": "02de5609ef162b6bcc51dd429fd31b9a1f163c414526741362218fd7f2e354ad"
    },
    "kernelspec": {
      "display_name": "Python 3.9.7 64-bit",
      "language": "python",
      "name": "python3"
    },
    "language_info": {
      "codemirror_mode": {
        "name": "ipython",
        "version": 3
      },
      "file_extension": ".py",
      "mimetype": "text/x-python",
      "name": "python",
      "nbconvert_exporter": "python",
      "pygments_lexer": "ipython3",
      "version": "3.9.7"
    },
    "orig_nbformat": 4
  },
  "nbformat": 4,
  "nbformat_minor": 0
}