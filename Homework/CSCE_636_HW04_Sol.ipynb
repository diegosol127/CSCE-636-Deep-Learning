{
  "cells": [
    {
      "cell_type": "markdown",
      "metadata": {
        "id": "t_tfeI-D5ljr"
      },
      "source": [
        "# HOMEWORK 04\n",
        "\n",
        "**Submitted by: Diego Sol**\n",
        "\n",
        "CSCE 636-600: Deep Learning\n",
        "\n",
        "Professor: Dr. Anxiao Jiang"
      ]
    },
    {
      "cell_type": "markdown",
      "metadata": {
        "id": "fEuGEd-l5ljt"
      },
      "source": [
        "## Task 1\n",
        "\n",
        "**Check out the Jupyter notebook for Chapter 7 at https://github.com/fchollet/deep-learning-with-python-notebooks/blob/master/chapter07_working-with-keras.ipynb . Answer the questions: (1) What is the advantage of using  Sequential Models? (2) What is the advantage of using Functional API? (3) What is the advantage of using Subclassing? (5 points)**"
      ]
    },
    {
      "cell_type": "markdown",
      "metadata": {
        "id": "RVrLVkuX5ljt"
      },
      "source": [
        "###Advantages of using Sequential Models:\n",
        "- it is simplest and easiest model to use\n",
        "- many problems are readily solved without having to define any methods or classes\n",
        "- it automatically matches input and ouptut sizes between layers\n",
        "- the `summary()` method can be used to depict an easily interpretable summary of the model"
      ]
    },
    {
      "cell_type": "markdown",
      "metadata": {
        "id": "K26JbekR5veL"
      },
      "source": [
        "###Advantages of using Functional API:\n",
        "- it provides more control over the model than when using a Sequential Model\n",
        "- unlike Sequential Models, it can be used to create layers with multiple inputs and outputs\n",
        "- it represents a good midpoint between usability and flexibility\n",
        "- the `plot_model()` method can be used to draw a plot that depicts the inputs and outputs to all the layers in the model"
      ]
    },
    {
      "cell_type": "markdown",
      "metadata": {
        "id": "8KJ7GR-K52py"
      },
      "source": [
        "###Advantages of using Subclassing:\n",
        "- of all the listed model-developing options, this one provides that highest degree control and accessibility\n",
        "- it allows for user-defined metrics such as loss\n",
        "- the new class automatically inherits methods and variables from the `keras.model` class\n",
        "- it allows for precise customization of steps throughout the training process"
      ]
    },
    {
      "cell_type": "markdown",
      "metadata": {
        "id": "TdVqODyk5lju"
      },
      "source": [
        "## Task 2\n",
        "\n",
        "**For the MNIST Dataset (for handwritten digit recognition), in the past, we built a one-input-one-output model, where the input is an image, and the output is a length-10 vector that represents a probability vector for the 10 classes (from class 0 to class 9). Today, let's build a one-input-multiple-output model, which has 10 outputs y_0, y_1, y_2, ..., y_9, where each y_i (for i between 0 and 9) is a real number between 0 and 1 that represents the probability for the input image to belong to class i. (That is, the probability that the input image does not belong to class i is 1 - y_i.) In other words, this new model is a combination of 10 binary classifiers (that is, one binary classifier for each class). The loss function for each y_i is the binary cross-entropy function, and the overall loss for the model is the summation of the 10 binary cross-entropies.**\n",
        "\n",
        "**Let's define a new performance metric \"aggregateAccuracy\" as follows. First, we pick y_i\\* to be the maximum value among y_0, y_1, y_2, ..., y_9. Then, we let i\\* be the label that our model predicts for the input image. Then, \"aggregateAccuracy\" is simply the \"accuracy\" that we usually talk about: it is the fraction of images whose predicted label equals the true label.**\n",
        "\n",
        "**Now compile your model and train it (with the loss function and performance metric defined above), and test the trained model's performance on the testing data.** \n",
        "\n",
        "**What you need to submit: (1) the complete code; (2) the training performance for training data and validation data (for both loss and aggregationAccuracy) shown in figures, where the x-axis is the number of epochs, and the y-axis is the loss or aggregateAccuracy; (3) show the test performance (loss and aggregateAccuracy) as two numbers. (15 points)**"
      ]
    },
    {
      "cell_type": "markdown",
      "metadata": {
        "id": "pfC7yIdp6d0x"
      },
      "source": [
        "Import packages and load MNIST data"
      ]
    },
    {
      "cell_type": "code",
      "execution_count": 51,
      "metadata": {
        "id": "CbV44liN6cqm"
      },
      "outputs": [],
      "source": [
        "import tensorflow as tf\n",
        "import numpy as np\n",
        "import matplotlib.pyplot as plt\n",
        "\n",
        "from tensorflow import keras\n",
        "from tensorflow.keras import layers\n",
        "from tensorflow.keras.datasets import mnist\n",
        "\n",
        "# load data\n",
        "(train_images, train_labels), (test_images, test_labels) = mnist.load_data()\n",
        "\n",
        "# prepare image data (reshape and normalize)\n",
        "train_images = train_images.reshape((60000, 28 * 28))\n",
        "train_images = train_images.astype(\"float32\") / 255\n",
        "test_images = test_images.reshape((10000, 28 * 28))\n",
        "test_images = test_images.astype(\"float32\") / 255\n",
        "\n",
        "# prepare label data to meet task requirements\n",
        "train_labels = tf.one_hot(train_labels, 10)\n",
        "test_labels = tf.one_hot(test_labels, 10)"
      ]
    },
    {
      "cell_type": "markdown",
      "metadata": {},
      "source": [
        "Write a new performance metric"
      ]
    },
    {
      "cell_type": "code",
      "execution_count": 41,
      "metadata": {},
      "outputs": [],
      "source": [
        "class aggregateAccuracy(keras.metrics.Metric):\n",
        "    def __init__(self, name=\"aggAcc\", **kwargs):\n",
        "        super().__init__(name=name, **kwargs)\n",
        "        self.y_i = np.argmax()\n"
      ]
    },
    {
      "cell_type": "markdown",
      "metadata": {},
      "source": [
        "Create a single-input multiple-output network by using the Functional API"
      ]
    },
    {
      "cell_type": "code",
      "execution_count": 60,
      "metadata": {},
      "outputs": [],
      "source": [
        "# input size\n",
        "image_shape = train_images.shape[1]\n",
        "\n",
        "# network with single input and multiple outputs\n",
        "inputs = keras.Input(shape=(image_shape,), name=\"input\")\n",
        "\n",
        "layer_1 = layers.Dense(64, activation=\"relu\", name=\"layer_1\")(inputs)\n",
        "layer_2 = layers.Dense(64, activation=\"relu\", name=\"layer_2\")(layer_1)\n",
        "\n",
        "output0 = layers.Dense(1, activation=\"sigmoid\", name=\"output0\")(layer_2)\n",
        "output1 = layers.Dense(1, activation=\"sigmoid\", name=\"output1\")(layer_2)\n",
        "output2 = layers.Dense(1, activation=\"sigmoid\", name=\"output2\")(layer_2)\n",
        "output3 = layers.Dense(1, activation=\"sigmoid\", name=\"output3\")(layer_2)\n",
        "output4 = layers.Dense(1, activation=\"sigmoid\", name=\"output4\")(layer_2)\n",
        "output5 = layers.Dense(1, activation=\"sigmoid\", name=\"output5\")(layer_2)\n",
        "output6 = layers.Dense(1, activation=\"sigmoid\", name=\"output6\")(layer_2)\n",
        "output7 = layers.Dense(1, activation=\"sigmoid\", name=\"output7\")(layer_2)\n",
        "output8 = layers.Dense(1, activation=\"sigmoid\", name=\"output8\")(layer_2)\n",
        "output9 = layers.Dense(1, activation=\"sigmoid\", name=\"output9\")(layer_2)\n",
        "\n",
        "outputs = [output0,output1,output2,output3,output4,output5,output6,output7,output8,output9]\n",
        "model = keras.Model(inputs=inputs, outputs=outputs)#[output0,output1,output2,output3,output4,output5,output6,output7,output8,output9])\n",
        "\n",
        "# compilation\n",
        "model.compile(optimizer=\"rmsprop\",\n",
        "              loss=[\"binary_crossentropy\"],\n",
        "              metrics=[\"accuracy\"])\n",
        "\n",
        "# # train the model\n",
        "# history = model.fit(train_images, train_labels,\n",
        "#                     epochs=1,\n",
        "#                     batch_size=128,\n",
        "#                     validation_split=0.4)\n",
        "\n",
        "# # evaluate the model\n",
        "# results = model.predict(test_images)"
      ]
    },
    {
      "cell_type": "code",
      "execution_count": 58,
      "metadata": {},
      "outputs": [
        {
          "data": {
            "text/plain": [
              "array([6.9119560e-06, 7.3511916e-07, 7.2428934e-06, 1.0745190e-04,\n",
              "       2.5071037e-07, 4.3486530e-06, 5.0141380e-09, 9.9986219e-01,\n",
              "       2.0467664e-06, 8.8436545e-06], dtype=float32)"
            ]
          },
          "execution_count": 58,
          "metadata": {},
          "output_type": "execute_result"
        }
      ],
      "source": [
        "results[0]"
      ]
    },
    {
      "cell_type": "code",
      "execution_count": 62,
      "metadata": {},
      "outputs": [
        {
          "name": "stdout",
          "output_type": "stream",
          "text": [
            "Model: \"model_23\"\n",
            "__________________________________________________________________________________________________\n",
            " Layer (type)                   Output Shape         Param #     Connected to                     \n",
            "==================================================================================================\n",
            " input (InputLayer)             [(None, 784)]        0           []                               \n",
            "                                                                                                  \n",
            " layer_1 (Dense)                (None, 64)           50240       ['input[0][0]']                  \n",
            "                                                                                                  \n",
            " layer_2 (Dense)                (None, 64)           4160        ['layer_1[0][0]']                \n",
            "                                                                                                  \n",
            " output0 (Dense)                (None, 1)            65          ['layer_2[0][0]']                \n",
            "                                                                                                  \n",
            " output1 (Dense)                (None, 1)            65          ['layer_2[0][0]']                \n",
            "                                                                                                  \n",
            " output2 (Dense)                (None, 1)            65          ['layer_2[0][0]']                \n",
            "                                                                                                  \n",
            " output3 (Dense)                (None, 1)            65          ['layer_2[0][0]']                \n",
            "                                                                                                  \n",
            " output4 (Dense)                (None, 1)            65          ['layer_2[0][0]']                \n",
            "                                                                                                  \n",
            " output5 (Dense)                (None, 1)            65          ['layer_2[0][0]']                \n",
            "                                                                                                  \n",
            " output6 (Dense)                (None, 1)            65          ['layer_2[0][0]']                \n",
            "                                                                                                  \n",
            " output7 (Dense)                (None, 1)            65          ['layer_2[0][0]']                \n",
            "                                                                                                  \n",
            " output8 (Dense)                (None, 1)            65          ['layer_2[0][0]']                \n",
            "                                                                                                  \n",
            " output9 (Dense)                (None, 1)            65          ['layer_2[0][0]']                \n",
            "                                                                                                  \n",
            "==================================================================================================\n",
            "Total params: 55,050\n",
            "Trainable params: 55,050\n",
            "Non-trainable params: 0\n",
            "__________________________________________________________________________________________________\n",
            "('You must install pydot (`pip install pydot`) and install graphviz (see instructions at https://graphviz.gitlab.io/download/) ', 'for plot_model/model_to_dot to work.')\n"
          ]
        }
      ],
      "source": [
        "model.summary()\n",
        "keras.utils.plot_model(model)"
      ]
    },
    {
      "cell_type": "code",
      "execution_count": 32,
      "metadata": {},
      "outputs": [],
      "source": [
        "# history data\n",
        "history_dict = history.history\n",
        "\n",
        "# training metric history\n",
        "train_loss_values = history_dict[\"loss\"]\n",
        "train_acc_values = history_dict[\"accuracy\"]\n",
        "\n",
        "# validation metric history\n",
        "val_loss_values = history_dict[\"val_loss\"]\n",
        "val_acc_values = history_dict[\"val_accuracy\"]\n",
        "\n",
        "# epochs\n",
        "epochs = range(1, len(train_loss_values) + 1)"
      ]
    },
    {
      "cell_type": "code",
      "execution_count": 35,
      "metadata": {},
      "outputs": [
        {
          "data": {
            "image/png": "[encoded data removed]",
            "text/plain": [
              "<Figure size 432x288 with 1 Axes>"
            ]
          },
          "metadata": {
            "needs_background": "light"
          },
          "output_type": "display_data"
        }
      ],
      "source": [
        "# create figure for training data\n",
        "fig1, ax1 = plt.subplots()\n",
        "\n",
        "# plot\n",
        "ax1.plot(epochs, train_loss_values, \"bo\", label=\"Training Loss\")\n",
        "ax1.plot(epochs, val_loss_values, \"b\", label=\"Validation Loss\")\n",
        "ax1.set_title(\"Training and Validation Loss\")\n",
        "ax1.set_xlabel(\"Epochs\")\n",
        "ax1.set_ylabel(\"Loss\")\n",
        "ax1.legend()\n",
        "plt.show()"
      ]
    },
    {
      "cell_type": "code",
      "execution_count": 36,
      "metadata": {},
      "outputs": [
        {
          "data": {
            "image/png": "[encoded data removed]",
            "text/plain": [
              "<Figure size 432x288 with 1 Axes>"
            ]
          },
          "metadata": {
            "needs_background": "light"
          },
          "output_type": "display_data"
        }
      ],
      "source": [
        "# create figure for training data\n",
        "fig2, ax2 = plt.subplots()\n",
        "\n",
        "# plot\n",
        "ax2.plot(epochs, train_acc_values, \"bo\", label=\"Training Accuracy\")\n",
        "ax2.plot(epochs, val_acc_values, \"b\", label=\"Validation Accuracy\")\n",
        "ax2.set_title(\"Training and Accuracy Loss\")\n",
        "ax2.set_xlabel(\"Epochs\")\n",
        "ax2.set_ylabel(\"Accuracy\")\n",
        "ax2.legend()\n",
        "plt.show()"
      ]
    }
  ],
  "metadata": {
    "colab": {
      "name": "CSCE_636_HW04_Sol.ipynb",
      "provenance": []
    },
    "interpreter": {
      "hash": "02de5609ef162b6bcc51dd429fd31b9a1f163c414526741362218fd7f2e354ad"
    },
    "kernelspec": {
      "display_name": "Python 3.9.7 64-bit",
      "language": "python",
      "name": "python3"
    },
    "language_info": {
      "codemirror_mode": {
        "name": "ipython",
        "version": 3
      },
      "file_extension": ".py",
      "mimetype": "text/x-python",
      "name": "python",
      "nbconvert_exporter": "python",
      "pygments_lexer": "ipython3",
      "version": "3.9.7"
    },
    "orig_nbformat": 4
  },
  "nbformat": 4,
  "nbformat_minor": 0
}
