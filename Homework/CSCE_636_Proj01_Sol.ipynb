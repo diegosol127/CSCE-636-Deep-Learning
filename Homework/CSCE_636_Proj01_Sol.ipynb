{
  "cells": [
    {
      "cell_type": "markdown",
      "metadata": {
        "id": "t_tfeI-D5ljr"
      },
      "source": [
        "# Project 01\n",
        "\n",
        "**Submitted by: Diego Sol**\n",
        "\n",
        "CSCE 636-600: Deep Learning\n",
        "\n",
        "Professor: Dr. Anxiao Jiang"
      ]
    },
    {
      "cell_type": "markdown",
      "source": [
        "Mount Google Drive to this notebook to easily access training data"
      ],
      "metadata": {
        "id": "a3AJEjfnn_cq"
      }
    },
    {
      "cell_type": "code",
      "source": [
        "from google.colab import drive\n",
        "drive.mount('/content/drive')"
      ],
      "metadata": {
        "colab": {
          "base_uri": "https://localhost:8080/"
        },
        "id": "cULh3hNhoV4r",
        "outputId": "40f0babe-4f4c-4d03-8689-2920d8545bea"
      },
      "execution_count": 15,
      "outputs": [
        {
          "output_type": "stream",
          "name": "stdout",
          "text": [
            "Drive already mounted at /content/drive; to attempt to forcibly remount, call drive.mount(\"/content/drive\", force_remount=True).\n"
          ]
        }
      ]
    },
    {
      "cell_type": "markdown",
      "source": [
        "Import packages"
      ],
      "metadata": {
        "id": "2ZwMor6bxxKT"
      }
    },
    {
      "cell_type": "code",
      "source": [
        "import pickle\n",
        "import numpy as np\n",
        "import matplotlib.pyplot as plt\n",
        "import tensorflow as tf\n",
        "from tensorflow import keras\n",
        "from tensorflow.keras import layers"
      ],
      "metadata": {
        "id": "sPSZWX3qx74Y"
      },
      "execution_count": 28,
      "outputs": []
    },
    {
      "cell_type": "markdown",
      "source": [
        "Download training images and labels"
      ],
      "metadata": {
        "id": "unk0YCjqsBO4"
      }
    },
    {
      "cell_type": "code",
      "source": [
        "all_images = pickle.load(open('/content/drive/MyDrive/Colab Notebooks/CSCE_636_Project_1/636_project1_train_images', 'rb'))\n",
        "all_labels = pickle.load(open('/content/drive/MyDrive/Colab Notebooks/CSCE_636_Project_1/636_project1_train_labels', 'rb'))"
      ],
      "metadata": {
        "id": "VWM2jK5GpKxT"
      },
      "execution_count": 29,
      "outputs": []
    },
    {
      "cell_type": "markdown",
      "source": [
        "Split the data into training and validation sets"
      ],
      "metadata": {
        "id": "vVzKRyvwu-KL"
      }
    },
    {
      "cell_type": "code",
      "source": [
        "data_split = 50000\n",
        "\n",
        "train_images = all_images[:data_split,:,:]\n",
        "train_labels = all_labels[:data_split,]\n",
        "\n",
        "test_images = all_images[data_split:,:,:]\n",
        "test_labels = all_labels[data_split:,]"
      ],
      "metadata": {
        "id": "zoV8Kv7WtgyK"
      },
      "execution_count": 30,
      "outputs": []
    },
    {
      "cell_type": "code",
      "source": [
        "train_images[1].shape"
      ],
      "metadata": {
        "colab": {
          "base_uri": "https://localhost:8080/"
        },
        "id": "UjYaL1kMGSpc",
        "outputId": "7add183b-6d59-4d1f-b229-2b49f66a4936"
      },
      "execution_count": 31,
      "outputs": [
        {
          "output_type": "execute_result",
          "data": {
            "text/plain": [
              "TensorShape([28, 28])"
            ]
          },
          "metadata": {},
          "execution_count": 31
        }
      ]
    },
    {
      "cell_type": "code",
      "source": [
        "# all_images.shape\n",
        "digit = all_images[3]\n",
        "plt.imshow(digit, cmap=plt.cm.binary)\n",
        "plt.show()"
      ],
      "metadata": {
        "colab": {
          "base_uri": "https://localhost:8080/",
          "height": 265
        },
        "id": "nIc2jgLrvDQZ",
        "outputId": "23023ab4-f4fe-400e-c045-2794f39b904e"
      },
      "execution_count": 32,
      "outputs": [
        {
          "output_type": "display_data",
          "data": {
            "text/plain": [
              "<Figure size 432x288 with 1 Axes>"
            ],
            "image/png": "[encoded data removed]"
          },
          "metadata": {
            "needs_background": "light"
          }
        }
      ]
    },
    {
      "cell_type": "code",
      "source": [
        "def build_model():\n",
        "  inputs = keras.Input(shape=(28, 28, 1))\n",
        "  x = layers.Rescaling(1./255)(inputs)\n",
        "\n",
        "  # convolutional layers\n",
        "  x = layers.Conv2D(filters=32, kernel_size=(3, 3), activation=\"relu\")(x)\n",
        "  x = layers.MaxPooling2D(pool_size=(2, 2))(x)\n",
        "  x = layers.Conv2D(filters=64, kernel_size=(3, 3), activation=\"relu\")(x)\n",
        "  x = layers.MaxPooling2D(pool_size=(2, 2))(x)\n",
        "\n",
        "  x = layers.Flatten()(x)\n",
        "  x = layers.Dropout(0.5)(x)\n",
        "\n",
        "  outputs = layers.Dense(10, activation=\"softmax\")(x)\n",
        "\n",
        "  model = keras.Model(inputs=inputs, outputs=outputs)\n",
        "\n",
        "  model.compile(optimizer=\"rmsprop\",\n",
        "              loss=\"sparse_categorical_crossentropy\",\n",
        "              metrics=[\"accuracy\"])\n",
        "\n",
        "  return model\n",
        "\n",
        "  # keras.utils.plot_model(model, show_shapes=True, to_file=\"simple_convnet.png\")"
      ],
      "metadata": {
        "id": "tT3ItH8w_eY_"
      },
      "execution_count": 33,
      "outputs": []
    },
    {
      "cell_type": "markdown",
      "source": [
        "Use callbacks to save the best model"
      ],
      "metadata": {
        "id": "_orMkl6OzKal"
      }
    },
    {
      "cell_type": "code",
      "source": [
        "callbacks_list = [\n",
        "                  keras.callbacks.ModelCheckpoint(\n",
        "                      filepath=\"noisy_MNIST_convnet.keras\",\n",
        "                      monitor=\"val_loss\",\n",
        "                      save_best_only=True\n",
        "                  )]"
      ],
      "metadata": {
        "id": "G5c5j-LXzCL-"
      },
      "execution_count": 36,
      "outputs": []
    },
    {
      "cell_type": "markdown",
      "source": [
        "Fit model with K-fold validation"
      ],
      "metadata": {
        "id": "Msp5gEQNxUS3"
      }
    },
    {
      "cell_type": "code",
      "source": [
        "k = 4\n",
        "num_val_samples = len(train_images) // k\n",
        "num_epochs = 30\n",
        "all_scores = []\n",
        "\n",
        "for i in range(k):\n",
        "    print(f\"Processing fold #{i}\")\n",
        "\n",
        "    val_data = train_images[i * num_val_samples: (i + 1) * num_val_samples]\n",
        "    val_targets = train_labels[i * num_val_samples: (i + 1) * num_val_samples]\n",
        "\n",
        "    partial_train_data = np.concatenate(\n",
        "        [train_images[:i * num_val_samples],\n",
        "         train_images[(i + 1) * num_val_samples:]],\n",
        "        axis=0)\n",
        "    \n",
        "    partial_train_targets = np.concatenate(\n",
        "        [train_labels[:i * num_val_samples],\n",
        "         train_labels[(i + 1) * num_val_samples:]],\n",
        "        axis=0)\n",
        "    \n",
        "    # build the model\n",
        "    model = build_model()\n",
        "\n",
        "    # train the model\n",
        "    model.fit(partial_train_data,\n",
        "              partial_train_targets,\n",
        "              epochs=num_epochs,\n",
        "              batch_size=32,\n",
        "              callbacks=callbacks_list,\n",
        "              # verbose=0\n",
        "              )\n",
        "    \n",
        "    val_mse, val_mae = model.evaluate(val_data, val_targets, verbose=0)\n",
        "    all_scores.append(val_mae)\n",
        "\n",
        "# history = model.fit(train_images, train_labels,\n",
        "#           epochs=50,\n",
        "#           validation_split=0.4,\n",
        "#           batch_size=32,\n",
        "#           callbacks=callbacks_list)"
      ],
      "metadata": {
        "colab": {
          "base_uri": "https://localhost:8080/"
        },
        "id": "B67g7SluF28O",
        "outputId": "42a61111-d4bd-4add-8cea-05911587036e"
      },
      "execution_count": null,
      "outputs": [
        {
          "output_type": "stream",
          "name": "stdout",
          "text": [
            "Processing fold #0\n",
            "Epoch 1/30\n",
            "1166/1172 [============================>.] - ETA: 0s - loss: 2.1458 - accuracy: 0.2158WARNING:tensorflow:Can save best model only with val_loss available, skipping.\n",
            "1172/1172 [==============================] - 5s 4ms/step - loss: 2.1452 - accuracy: 0.2163\n",
            "Epoch 2/30\n",
            "1168/1172 [============================>.] - ETA: 0s - loss: 1.8117 - accuracy: 0.3656WARNING:tensorflow:Can save best model only with val_loss available, skipping.\n",
            "1172/1172 [==============================] - 5s 4ms/step - loss: 1.8114 - accuracy: 0.3658\n",
            "Epoch 3/30\n",
            "1172/1172 [==============================] - ETA: 0s - loss: 1.5855 - accuracy: 0.4543WARNING:tensorflow:Can save best model only with val_loss available, skipping.\n",
            "1172/1172 [==============================] - 5s 4ms/step - loss: 1.5855 - accuracy: 0.4543\n",
            "Epoch 4/30\n",
            "1163/1172 [============================>.] - ETA: 0s - loss: 1.4877 - accuracy: 0.4895WARNING:tensorflow:Can save best model only with val_loss available, skipping.\n",
            "1172/1172 [==============================] - 5s 4ms/step - loss: 1.4874 - accuracy: 0.4898\n",
            "Epoch 5/30\n",
            "1162/1172 [============================>.] - ETA: 0s - loss: 1.4265 - accuracy: 0.5120WARNING:tensorflow:Can save best model only with val_loss available, skipping.\n",
            "1172/1172 [==============================] - 5s 4ms/step - loss: 1.4267 - accuracy: 0.5119\n",
            "Epoch 6/30\n",
            "1162/1172 [============================>.] - ETA: 0s - loss: 1.3865 - accuracy: 0.5280WARNING:tensorflow:Can save best model only with val_loss available, skipping.\n",
            "1172/1172 [==============================] - 5s 4ms/step - loss: 1.3873 - accuracy: 0.5275\n",
            "Epoch 7/30\n",
            "1162/1172 [============================>.] - ETA: 0s - loss: 1.3551 - accuracy: 0.5395WARNING:tensorflow:Can save best model only with val_loss available, skipping.\n",
            "1172/1172 [==============================] - 5s 4ms/step - loss: 1.3549 - accuracy: 0.5396\n",
            "Epoch 8/30\n",
            "1166/1172 [============================>.] - ETA: 0s - loss: 1.3282 - accuracy: 0.5494WARNING:tensorflow:Can save best model only with val_loss available, skipping.\n",
            "1172/1172 [==============================] - 5s 4ms/step - loss: 1.3279 - accuracy: 0.5494\n",
            "Epoch 9/30\n",
            "1172/1172 [==============================] - ETA: 0s - loss: 1.3087 - accuracy: 0.5522WARNING:tensorflow:Can save best model only with val_loss available, skipping.\n",
            "1172/1172 [==============================] - 5s 4ms/step - loss: 1.3087 - accuracy: 0.5522\n",
            "Epoch 10/30\n",
            "1160/1172 [============================>.] - ETA: 0s - loss: 1.2879 - accuracy: 0.5629WARNING:tensorflow:Can save best model only with val_loss available, skipping.\n",
            "1172/1172 [==============================] - 5s 4ms/step - loss: 1.2880 - accuracy: 0.5631\n",
            "Epoch 11/30\n",
            "1160/1172 [============================>.] - ETA: 0s - loss: 1.2720 - accuracy: 0.5662WARNING:tensorflow:Can save best model only with val_loss available, skipping.\n",
            "1172/1172 [==============================] - 5s 4ms/step - loss: 1.2718 - accuracy: 0.5662\n",
            "Epoch 12/30\n",
            "1166/1172 [============================>.] - ETA: 0s - loss: 1.2540 - accuracy: 0.5754WARNING:tensorflow:Can save best model only with val_loss available, skipping.\n",
            "1172/1172 [==============================] - 5s 4ms/step - loss: 1.2544 - accuracy: 0.5754\n",
            "Epoch 13/30\n",
            "1168/1172 [============================>.] - ETA: 0s - loss: 1.2359 - accuracy: 0.5793WARNING:tensorflow:Can save best model only with val_loss available, skipping.\n",
            "1172/1172 [==============================] - 5s 4ms/step - loss: 1.2358 - accuracy: 0.5792\n",
            "Epoch 14/30\n",
            "1165/1172 [============================>.] - ETA: 0s - loss: 1.2270 - accuracy: 0.5836WARNING:tensorflow:Can save best model only with val_loss available, skipping.\n",
            "1172/1172 [==============================] - 5s 4ms/step - loss: 1.2274 - accuracy: 0.5836\n",
            "Epoch 15/30\n",
            "1167/1172 [============================>.] - ETA: 0s - loss: 1.2097 - accuracy: 0.5901WARNING:tensorflow:Can save best model only with val_loss available, skipping.\n",
            "1172/1172 [==============================] - 5s 4ms/step - loss: 1.2093 - accuracy: 0.5904\n",
            "Epoch 16/30\n",
            "1160/1172 [============================>.] - ETA: 0s - loss: 1.2022 - accuracy: 0.5928WARNING:tensorflow:Can save best model only with val_loss available, skipping.\n",
            "1172/1172 [==============================] - 5s 4ms/step - loss: 1.2014 - accuracy: 0.5927\n",
            "Epoch 17/30\n",
            "1169/1172 [============================>.] - ETA: 0s - loss: 1.1907 - accuracy: 0.5952WARNING:tensorflow:Can save best model only with val_loss available, skipping.\n",
            "1172/1172 [==============================] - 5s 4ms/step - loss: 1.1911 - accuracy: 0.5950\n",
            "Epoch 18/30\n",
            "1170/1172 [============================>.] - ETA: 0s - loss: 1.1862 - accuracy: 0.5978WARNING:tensorflow:Can save best model only with val_loss available, skipping.\n",
            "1172/1172 [==============================] - 5s 4ms/step - loss: 1.1862 - accuracy: 0.5977\n",
            "Epoch 19/30\n",
            "1169/1172 [============================>.] - ETA: 0s - loss: 1.1746 - accuracy: 0.6034WARNING:tensorflow:Can save best model only with val_loss available, skipping.\n",
            "1172/1172 [==============================] - 5s 4ms/step - loss: 1.1741 - accuracy: 0.6036\n",
            "Epoch 20/30\n",
            "1172/1172 [==============================] - ETA: 0s - loss: 1.1661 - accuracy: 0.6061WARNING:tensorflow:Can save best model only with val_loss available, skipping.\n",
            "1172/1172 [==============================] - 5s 4ms/step - loss: 1.1661 - accuracy: 0.6061\n",
            "Epoch 21/30\n",
            "1165/1172 [============================>.] - ETA: 0s - loss: 1.1565 - accuracy: 0.6076WARNING:tensorflow:Can save best model only with val_loss available, skipping.\n",
            "1172/1172 [==============================] - 5s 4ms/step - loss: 1.1562 - accuracy: 0.6076\n",
            "Epoch 22/30\n",
            "1166/1172 [============================>.] - ETA: 0s - loss: 1.1504 - accuracy: 0.6095WARNING:tensorflow:Can save best model only with val_loss available, skipping.\n",
            "1172/1172 [==============================] - 5s 4ms/step - loss: 1.1505 - accuracy: 0.6097\n",
            "Epoch 23/30\n",
            "1170/1172 [============================>.] - ETA: 0s - loss: 1.1461 - accuracy: 0.6136WARNING:tensorflow:Can save best model only with val_loss available, skipping.\n",
            "1172/1172 [==============================] - 5s 4ms/step - loss: 1.1459 - accuracy: 0.6137\n",
            "Epoch 24/30\n",
            "1161/1172 [============================>.] - ETA: 0s - loss: 1.1329 - accuracy: 0.6155WARNING:tensorflow:Can save best model only with val_loss available, skipping.\n",
            "1172/1172 [==============================] - 5s 4ms/step - loss: 1.1334 - accuracy: 0.6153\n",
            "Epoch 25/30\n",
            "1167/1172 [============================>.] - ETA: 0s - loss: 1.1292 - accuracy: 0.6165WARNING:tensorflow:Can save best model only with val_loss available, skipping.\n",
            "1172/1172 [==============================] - 5s 4ms/step - loss: 1.1290 - accuracy: 0.6166\n",
            "Epoch 26/30\n",
            "1164/1172 [============================>.] - ETA: 0s - loss: 1.1238 - accuracy: 0.6173WARNING:tensorflow:Can save best model only with val_loss available, skipping.\n",
            "1172/1172 [==============================] - 5s 4ms/step - loss: 1.1241 - accuracy: 0.6172\n",
            "Epoch 27/30\n",
            "1160/1172 [============================>.] - ETA: 0s - loss: 1.1170 - accuracy: 0.6222WARNING:tensorflow:Can save best model only with val_loss available, skipping.\n",
            "1172/1172 [==============================] - 5s 4ms/step - loss: 1.1169 - accuracy: 0.6222\n",
            "Epoch 28/30\n",
            "1167/1172 [============================>.] - ETA: 0s - loss: 1.1165 - accuracy: 0.6236WARNING:tensorflow:Can save best model only with val_loss available, skipping.\n",
            "1172/1172 [==============================] - 5s 4ms/step - loss: 1.1160 - accuracy: 0.6238\n",
            "Epoch 29/30\n",
            "1167/1172 [============================>.] - ETA: 0s - loss: 1.1030 - accuracy: 0.6255WARNING:tensorflow:Can save best model only with val_loss available, skipping.\n",
            "1172/1172 [==============================] - 5s 4ms/step - loss: 1.1032 - accuracy: 0.6253\n",
            "Epoch 30/30\n",
            "1172/1172 [==============================] - ETA: 0s - loss: 1.1046 - accuracy: 0.6246WARNING:tensorflow:Can save best model only with val_loss available, skipping.\n",
            "1172/1172 [==============================] - 5s 4ms/step - loss: 1.1046 - accuracy: 0.6246\n",
            "Processing fold #1\n",
            "Epoch 1/30\n",
            "1166/1172 [============================>.] - ETA: 0s - loss: 2.1519 - accuracy: 0.2107WARNING:tensorflow:Can save best model only with val_loss available, skipping.\n",
            "1172/1172 [==============================] - 6s 4ms/step - loss: 2.1511 - accuracy: 0.2111\n",
            "Epoch 2/30\n",
            "1160/1172 [============================>.] - ETA: 0s - loss: 1.8184 - accuracy: 0.3647WARNING:tensorflow:Can save best model only with val_loss available, skipping.\n",
            "1172/1172 [==============================] - 5s 4ms/step - loss: 1.8177 - accuracy: 0.3648\n",
            "Epoch 3/30\n",
            "1161/1172 [============================>.] - ETA: 0s - loss: 1.5959 - accuracy: 0.4531WARNING:tensorflow:Can save best model only with val_loss available, skipping.\n",
            "1172/1172 [==============================] - 5s 4ms/step - loss: 1.5951 - accuracy: 0.4534\n",
            "Epoch 4/30\n",
            "1171/1172 [============================>.] - ETA: 0s - loss: 1.4847 - accuracy: 0.4935WARNING:tensorflow:Can save best model only with val_loss available, skipping.\n",
            "1172/1172 [==============================] - 5s 4ms/step - loss: 1.4847 - accuracy: 0.4934\n",
            "Epoch 5/30\n",
            "1170/1172 [============================>.] - ETA: 0s - loss: 1.4259 - accuracy: 0.5139WARNING:tensorflow:Can save best model only with val_loss available, skipping.\n",
            "1172/1172 [==============================] - 5s 4ms/step - loss: 1.4258 - accuracy: 0.5140\n",
            "Epoch 6/30\n",
            "1166/1172 [============================>.] - ETA: 0s - loss: 1.3808 - accuracy: 0.5291WARNING:tensorflow:Can save best model only with val_loss available, skipping.\n",
            "1172/1172 [==============================] - 5s 4ms/step - loss: 1.3806 - accuracy: 0.5293\n",
            "Epoch 7/30\n",
            "1172/1172 [==============================] - ETA: 0s - loss: 1.3479 - accuracy: 0.5385WARNING:tensorflow:Can save best model only with val_loss available, skipping.\n",
            "1172/1172 [==============================] - 5s 4ms/step - loss: 1.3479 - accuracy: 0.5385\n",
            "Epoch 8/30\n",
            "1163/1172 [============================>.] - ETA: 0s - loss: 1.3164 - accuracy: 0.5527WARNING:tensorflow:Can save best model only with val_loss available, skipping.\n",
            "1172/1172 [==============================] - 5s 4ms/step - loss: 1.3161 - accuracy: 0.5526\n",
            "Epoch 9/30\n",
            "1160/1172 [============================>.] - ETA: 0s - loss: 1.2881 - accuracy: 0.5609WARNING:tensorflow:Can save best model only with val_loss available, skipping.\n",
            "1172/1172 [==============================] - 5s 4ms/step - loss: 1.2883 - accuracy: 0.5609\n",
            "Epoch 10/30\n",
            "1167/1172 [============================>.] - ETA: 0s - loss: 1.2644 - accuracy: 0.5696WARNING:tensorflow:Can save best model only with val_loss available, skipping.\n",
            "1172/1172 [==============================] - 5s 4ms/step - loss: 1.2646 - accuracy: 0.5696\n",
            "Epoch 11/30\n",
            "1168/1172 [============================>.] - ETA: 0s - loss: 1.2423 - accuracy: 0.5770WARNING:tensorflow:Can save best model only with val_loss available, skipping.\n",
            "1172/1172 [==============================] - 5s 4ms/step - loss: 1.2431 - accuracy: 0.5767\n",
            "Epoch 12/30\n",
            "1171/1172 [============================>.] - ETA: 0s - loss: 1.2213 - accuracy: 0.5855WARNING:tensorflow:Can save best model only with val_loss available, skipping.\n",
            "1172/1172 [==============================] - 5s 4ms/step - loss: 1.2217 - accuracy: 0.5854\n",
            "Epoch 13/30\n",
            "1166/1172 [============================>.] - ETA: 0s - loss: 1.2038 - accuracy: 0.5914WARNING:tensorflow:Can save best model only with val_loss available, skipping.\n",
            "1172/1172 [==============================] - 5s 4ms/step - loss: 1.2043 - accuracy: 0.5911\n",
            "Epoch 14/30\n",
            "1164/1172 [============================>.] - ETA: 0s - loss: 1.1958 - accuracy: 0.5944WARNING:tensorflow:Can save best model only with val_loss available, skipping.\n",
            "1172/1172 [==============================] - 5s 4ms/step - loss: 1.1957 - accuracy: 0.5946\n",
            "Epoch 15/30\n",
            "1167/1172 [============================>.] - ETA: 0s - loss: 1.1765 - accuracy: 0.6017WARNING:tensorflow:Can save best model only with val_loss available, skipping.\n",
            "1172/1172 [==============================] - 5s 4ms/step - loss: 1.1763 - accuracy: 0.6020\n",
            "Epoch 16/30\n",
            "1170/1172 [============================>.] - ETA: 0s - loss: 1.1565 - accuracy: 0.6071WARNING:tensorflow:Can save best model only with val_loss available, skipping.\n",
            "1172/1172 [==============================] - 5s 4ms/step - loss: 1.1564 - accuracy: 0.6072\n",
            "Epoch 17/30\n",
            "1162/1172 [============================>.] - ETA: 0s - loss: 1.1586 - accuracy: 0.6042WARNING:tensorflow:Can save best model only with val_loss available, skipping.\n",
            "1172/1172 [==============================] - 5s 4ms/step - loss: 1.1583 - accuracy: 0.6041\n",
            "Epoch 18/30\n",
            "1169/1172 [============================>.] - ETA: 0s - loss: 1.1448 - accuracy: 0.6109WARNING:tensorflow:Can save best model only with val_loss available, skipping.\n",
            "1172/1172 [==============================] - 5s 4ms/step - loss: 1.1445 - accuracy: 0.6110\n",
            "Epoch 19/30\n",
            "1160/1172 [============================>.] - ETA: 0s - loss: 1.1406 - accuracy: 0.6132WARNING:tensorflow:Can save best model only with val_loss available, skipping.\n",
            "1172/1172 [==============================] - 5s 4ms/step - loss: 1.1413 - accuracy: 0.6132\n",
            "Epoch 20/30\n",
            "1161/1172 [============================>.] - ETA: 0s - loss: 1.1318 - accuracy: 0.6164WARNING:tensorflow:Can save best model only with val_loss available, skipping.\n",
            "1172/1172 [==============================] - 5s 4ms/step - loss: 1.1315 - accuracy: 0.6165\n",
            "Epoch 21/30\n",
            "1172/1172 [==============================] - ETA: 0s - loss: 1.1182 - accuracy: 0.6213WARNING:tensorflow:Can save best model only with val_loss available, skipping.\n",
            "1172/1172 [==============================] - 5s 4ms/step - loss: 1.1182 - accuracy: 0.6213\n",
            "Epoch 22/30\n",
            "1168/1172 [============================>.] - ETA: 0s - loss: 1.1177 - accuracy: 0.6225WARNING:tensorflow:Can save best model only with val_loss available, skipping.\n",
            "1172/1172 [==============================] - 5s 4ms/step - loss: 1.1179 - accuracy: 0.6224\n",
            "Epoch 23/30\n",
            "1169/1172 [============================>.] - ETA: 0s - loss: 1.1122 - accuracy: 0.6230WARNING:tensorflow:Can save best model only with val_loss available, skipping.\n",
            "1172/1172 [==============================] - 5s 4ms/step - loss: 1.1114 - accuracy: 0.6234\n",
            "Epoch 24/30\n",
            "1166/1172 [============================>.] - ETA: 0s - loss: 1.1052 - accuracy: 0.6240WARNING:tensorflow:Can save best model only with val_loss available, skipping.\n",
            "1172/1172 [==============================] - 5s 4ms/step - loss: 1.1058 - accuracy: 0.6238\n",
            "Epoch 25/30\n",
            "1161/1172 [============================>.] - ETA: 0s - loss: 1.1048 - accuracy: 0.6248WARNING:tensorflow:Can save best model only with val_loss available, skipping.\n",
            "1172/1172 [==============================] - 5s 4ms/step - loss: 1.1052 - accuracy: 0.6247\n",
            "Epoch 26/30\n",
            "1162/1172 [============================>.] - ETA: 0s - loss: 1.0999 - accuracy: 0.6268WARNING:tensorflow:Can save best model only with val_loss available, skipping.\n",
            "1172/1172 [==============================] - 5s 4ms/step - loss: 1.0993 - accuracy: 0.6271\n",
            "Epoch 27/30\n",
            "1161/1172 [============================>.] - ETA: 0s - loss: 1.0909 - accuracy: 0.6276WARNING:tensorflow:Can save best model only with val_loss available, skipping.\n",
            "1172/1172 [==============================] - 5s 4ms/step - loss: 1.0903 - accuracy: 0.6278\n",
            "Epoch 28/30\n",
            "1161/1172 [============================>.] - ETA: 0s - loss: 1.0853 - accuracy: 0.6324WARNING:tensorflow:Can save best model only with val_loss available, skipping.\n",
            "1172/1172 [==============================] - 5s 4ms/step - loss: 1.0862 - accuracy: 0.6320\n",
            "Epoch 29/30\n",
            "1168/1172 [============================>.] - ETA: 0s - loss: 1.0827 - accuracy: 0.6318WARNING:tensorflow:Can save best model only with val_loss available, skipping.\n",
            "1172/1172 [==============================] - 5s 4ms/step - loss: 1.0824 - accuracy: 0.6318\n",
            "Epoch 30/30\n",
            "1169/1172 [============================>.] - ETA: 0s - loss: 1.0780 - accuracy: 0.6332WARNING:tensorflow:Can save best model only with val_loss available, skipping.\n",
            "1172/1172 [==============================] - 5s 4ms/step - loss: 1.0781 - accuracy: 0.6333\n",
            "Processing fold #2\n",
            "Epoch 1/30\n",
            "1172/1172 [==============================] - ETA: 0s - loss: 2.1331 - accuracy: 0.2247WARNING:tensorflow:Can save best model only with val_loss available, skipping.\n",
            "1172/1172 [==============================] - 6s 4ms/step - loss: 2.1331 - accuracy: 0.2247\n",
            "Epoch 2/30\n",
            "1164/1172 [============================>.] - ETA: 0s - loss: 1.7956 - accuracy: 0.3708WARNING:tensorflow:Can save best model only with val_loss available, skipping.\n",
            "1172/1172 [==============================] - 5s 4ms/step - loss: 1.7941 - accuracy: 0.3715\n",
            "Epoch 3/30\n",
            "1164/1172 [============================>.] - ETA: 0s - loss: 1.5750 - accuracy: 0.4569WARNING:tensorflow:Can save best model only with val_loss available, skipping.\n",
            "1172/1172 [==============================] - 5s 4ms/step - loss: 1.5742 - accuracy: 0.4573\n",
            "Epoch 4/30\n",
            "1164/1172 [============================>.] - ETA: 0s - loss: 1.4738 - accuracy: 0.4944WARNING:tensorflow:Can save best model only with val_loss available, skipping.\n",
            "1172/1172 [==============================] - 5s 4ms/step - loss: 1.4737 - accuracy: 0.4945\n",
            "Epoch 5/30\n",
            "1167/1172 [============================>.] - ETA: 0s - loss: 1.4187 - accuracy: 0.5161WARNING:tensorflow:Can save best model only with val_loss available, skipping.\n",
            "1172/1172 [==============================] - 5s 4ms/step - loss: 1.4182 - accuracy: 0.5162\n",
            "Epoch 6/30\n",
            "1161/1172 [============================>.] - ETA: 0s - loss: 1.3787 - accuracy: 0.5309WARNING:tensorflow:Can save best model only with val_loss available, skipping.\n",
            "1172/1172 [==============================] - 5s 4ms/step - loss: 1.3778 - accuracy: 0.5311\n",
            "Epoch 7/30\n",
            "1164/1172 [============================>.] - ETA: 0s - loss: 1.3411 - accuracy: 0.5399WARNING:tensorflow:Can save best model only with val_loss available, skipping.\n",
            "1172/1172 [==============================] - 5s 4ms/step - loss: 1.3408 - accuracy: 0.5400\n",
            "Epoch 8/30\n",
            "1168/1172 [============================>.] - ETA: 0s - loss: 1.3140 - accuracy: 0.5532WARNING:tensorflow:Can save best model only with val_loss available, skipping.\n",
            "1172/1172 [==============================] - 5s 4ms/step - loss: 1.3143 - accuracy: 0.5531\n",
            "Epoch 9/30\n",
            "1167/1172 [============================>.] - ETA: 0s - loss: 1.2858 - accuracy: 0.5628WARNING:tensorflow:Can save best model only with val_loss available, skipping.\n",
            "1172/1172 [==============================] - 5s 4ms/step - loss: 1.2854 - accuracy: 0.5629\n",
            "Epoch 10/30\n",
            "1168/1172 [============================>.] - ETA: 0s - loss: 1.2651 - accuracy: 0.5704WARNING:tensorflow:Can save best model only with val_loss available, skipping.\n",
            "1172/1172 [==============================] - 5s 4ms/step - loss: 1.2651 - accuracy: 0.5705\n",
            "Epoch 11/30\n",
            "1170/1172 [============================>.] - ETA: 0s - loss: 1.2407 - accuracy: 0.5795WARNING:tensorflow:Can save best model only with val_loss available, skipping.\n",
            "1172/1172 [==============================] - 5s 4ms/step - loss: 1.2406 - accuracy: 0.5795\n",
            "Epoch 12/30\n",
            "1168/1172 [============================>.] - ETA: 0s - loss: 1.2223 - accuracy: 0.5838WARNING:tensorflow:Can save best model only with val_loss available, skipping.\n",
            "1172/1172 [==============================] - 5s 4ms/step - loss: 1.2221 - accuracy: 0.5839\n",
            "Epoch 13/30\n",
            "1171/1172 [============================>.] - ETA: 0s - loss: 1.2045 - accuracy: 0.5884WARNING:tensorflow:Can save best model only with val_loss available, skipping.\n",
            "1172/1172 [==============================] - 5s 4ms/step - loss: 1.2043 - accuracy: 0.5884\n",
            "Epoch 14/30\n",
            "1170/1172 [============================>.] - ETA: 0s - loss: 1.1934 - accuracy: 0.5924WARNING:tensorflow:Can save best model only with val_loss available, skipping.\n",
            "1172/1172 [==============================] - 5s 4ms/step - loss: 1.1934 - accuracy: 0.5924\n",
            "Epoch 15/30\n",
            "1161/1172 [============================>.] - ETA: 0s - loss: 1.1773 - accuracy: 0.6016WARNING:tensorflow:Can save best model only with val_loss available, skipping.\n",
            "1172/1172 [==============================] - 5s 4ms/step - loss: 1.1768 - accuracy: 0.6016\n",
            "Epoch 16/30\n",
            "1166/1172 [============================>.] - ETA: 0s - loss: 1.1707 - accuracy: 0.6018WARNING:tensorflow:Can save best model only with val_loss available, skipping.\n",
            "1172/1172 [==============================] - 5s 4ms/step - loss: 1.1710 - accuracy: 0.6017\n",
            "Epoch 17/30\n",
            "1165/1172 [============================>.] - ETA: 0s - loss: 1.1569 - accuracy: 0.6079WARNING:tensorflow:Can save best model only with val_loss available, skipping.\n",
            "1172/1172 [==============================] - 5s 4ms/step - loss: 1.1573 - accuracy: 0.6078\n",
            "Epoch 18/30\n",
            "1166/1172 [============================>.] - ETA: 0s - loss: 1.1489 - accuracy: 0.6115WARNING:tensorflow:Can save best model only with val_loss available, skipping.\n",
            "1172/1172 [==============================] - 5s 4ms/step - loss: 1.1487 - accuracy: 0.6115\n",
            "Epoch 19/30\n",
            "1168/1172 [============================>.] - ETA: 0s - loss: 1.1386 - accuracy: 0.6118WARNING:tensorflow:Can save best model only with val_loss available, skipping.\n",
            "1172/1172 [==============================] - 5s 4ms/step - loss: 1.1391 - accuracy: 0.6116\n",
            "Epoch 20/30\n",
            "1170/1172 [============================>.] - ETA: 0s - loss: 1.1355 - accuracy: 0.6163WARNING:tensorflow:Can save best model only with val_loss available, skipping.\n",
            "1172/1172 [==============================] - 5s 4ms/step - loss: 1.1351 - accuracy: 0.6164\n",
            "Epoch 21/30\n",
            "1162/1172 [============================>.] - ETA: 0s - loss: 1.1270 - accuracy: 0.6166WARNING:tensorflow:Can save best model only with val_loss available, skipping.\n",
            "1172/1172 [==============================] - 5s 4ms/step - loss: 1.1273 - accuracy: 0.6166\n",
            "Epoch 22/30\n",
            "1169/1172 [============================>.] - ETA: 0s - loss: 1.1206 - accuracy: 0.6171WARNING:tensorflow:Can save best model only with val_loss available, skipping.\n",
            "1172/1172 [==============================] - 5s 4ms/step - loss: 1.1208 - accuracy: 0.6171\n",
            "Epoch 23/30\n",
            "1168/1172 [============================>.] - ETA: 0s - loss: 1.1121 - accuracy: 0.6238WARNING:tensorflow:Can save best model only with val_loss available, skipping.\n",
            "1172/1172 [==============================] - 5s 4ms/step - loss: 1.1119 - accuracy: 0.6238\n",
            "Epoch 24/30\n",
            "1169/1172 [============================>.] - ETA: 0s - loss: 1.1125 - accuracy: 0.6239WARNING:tensorflow:Can save best model only with val_loss available, skipping.\n",
            "1172/1172 [==============================] - 5s 4ms/step - loss: 1.1128 - accuracy: 0.6239\n",
            "Epoch 25/30\n",
            "1167/1172 [============================>.] - ETA: 0s - loss: 1.1075 - accuracy: 0.6242WARNING:tensorflow:Can save best model only with val_loss available, skipping.\n",
            "1172/1172 [==============================] - 5s 4ms/step - loss: 1.1073 - accuracy: 0.6242\n",
            "Epoch 26/30\n",
            "1161/1172 [============================>.] - ETA: 0s - loss: 1.1071 - accuracy: 0.6234WARNING:tensorflow:Can save best model only with val_loss available, skipping.\n",
            "1172/1172 [==============================] - 6s 5ms/step - loss: 1.1066 - accuracy: 0.6239\n",
            "Epoch 27/30\n",
            "1172/1172 [==============================] - ETA: 0s - loss: 1.1019 - accuracy: 0.6249WARNING:tensorflow:Can save best model only with val_loss available, skipping.\n",
            "1172/1172 [==============================] - 5s 4ms/step - loss: 1.1019 - accuracy: 0.6249\n",
            "Epoch 28/30\n",
            "1169/1172 [============================>.] - ETA: 0s - loss: 1.0975 - accuracy: 0.6280WARNING:tensorflow:Can save best model only with val_loss available, skipping.\n",
            "1172/1172 [==============================] - 5s 4ms/step - loss: 1.0978 - accuracy: 0.6280\n",
            "Epoch 29/30\n",
            "1169/1172 [============================>.] - ETA: 0s - loss: 1.0944 - accuracy: 0.6288WARNING:tensorflow:Can save best model only with val_loss available, skipping.\n",
            "1172/1172 [==============================] - 5s 4ms/step - loss: 1.0945 - accuracy: 0.6288\n",
            "Epoch 30/30\n",
            "1167/1172 [============================>.] - ETA: 0s - loss: 1.0944 - accuracy: 0.6283WARNING:tensorflow:Can save best model only with val_loss available, skipping.\n",
            "1172/1172 [==============================] - 5s 4ms/step - loss: 1.0945 - accuracy: 0.6284\n",
            "Processing fold #3\n",
            "Epoch 1/30\n",
            "1168/1172 [============================>.] - ETA: 0s - loss: 2.1419 - accuracy: 0.2179WARNING:tensorflow:Can save best model only with val_loss available, skipping.\n",
            "1172/1172 [==============================] - 6s 4ms/step - loss: 2.1411 - accuracy: 0.2183\n",
            "Epoch 2/30\n",
            "1168/1172 [============================>.] - ETA: 0s - loss: 1.7884 - accuracy: 0.3761WARNING:tensorflow:Can save best model only with val_loss available, skipping.\n",
            "1172/1172 [==============================] - 5s 4ms/step - loss: 1.7877 - accuracy: 0.3766\n",
            "Epoch 3/30\n",
            "1166/1172 [============================>.] - ETA: 0s - loss: 1.5687 - accuracy: 0.4633WARNING:tensorflow:Can save best model only with val_loss available, skipping.\n",
            "1172/1172 [==============================] - 5s 4ms/step - loss: 1.5683 - accuracy: 0.4633\n",
            "Epoch 4/30\n",
            "1162/1172 [============================>.] - ETA: 0s - loss: 1.4733 - accuracy: 0.4951WARNING:tensorflow:Can save best model only with val_loss available, skipping.\n",
            "1172/1172 [==============================] - 5s 4ms/step - loss: 1.4725 - accuracy: 0.4954\n",
            "Epoch 5/30\n",
            "1172/1172 [==============================] - ETA: 0s - loss: 1.4160 - accuracy: 0.5132WARNING:tensorflow:Can save best model only with val_loss available, skipping.\n",
            "1172/1172 [==============================] - 5s 4ms/step - loss: 1.4160 - accuracy: 0.5132\n",
            "Epoch 6/30\n",
            "1172/1172 [==============================] - ETA: 0s - loss: 1.3767 - accuracy: 0.5289WARNING:tensorflow:Can save best model only with val_loss available, skipping.\n",
            "1172/1172 [==============================] - 5s 4ms/step - loss: 1.3767 - accuracy: 0.5289\n",
            "Epoch 7/30\n",
            "1162/1172 [============================>.] - ETA: 0s - loss: 1.3383 - accuracy: 0.5440WARNING:tensorflow:Can save best model only with val_loss available, skipping.\n",
            "1172/1172 [==============================] - 5s 4ms/step - loss: 1.3388 - accuracy: 0.5441\n",
            "Epoch 8/30\n",
            "1169/1172 [============================>.] - ETA: 0s - loss: 1.3133 - accuracy: 0.5518WARNING:tensorflow:Can save best model only with val_loss available, skipping.\n",
            "1172/1172 [==============================] - 5s 4ms/step - loss: 1.3128 - accuracy: 0.5520\n",
            "Epoch 9/30\n",
            "1172/1172 [==============================] - ETA: 0s - loss: 1.2871 - accuracy: 0.5613WARNING:tensorflow:Can save best model only with val_loss available, skipping.\n",
            "1172/1172 [==============================] - 5s 4ms/step - loss: 1.2871 - accuracy: 0.5613\n",
            "Epoch 10/30\n",
            "1167/1172 [============================>.] - ETA: 0s - loss: 1.2684 - accuracy: 0.5702WARNING:tensorflow:Can save best model only with val_loss available, skipping.\n",
            "1172/1172 [==============================] - 5s 4ms/step - loss: 1.2679 - accuracy: 0.5706\n",
            "Epoch 11/30\n",
            "1163/1172 [============================>.] - ETA: 0s - loss: 1.2505 - accuracy: 0.5735WARNING:tensorflow:Can save best model only with val_loss available, skipping.\n",
            "1172/1172 [==============================] - 5s 4ms/step - loss: 1.2500 - accuracy: 0.5738\n",
            "Epoch 12/30\n",
            "1167/1172 [============================>.] - ETA: 0s - loss: 1.2346 - accuracy: 0.5799WARNING:tensorflow:Can save best model only with val_loss available, skipping.\n",
            "1172/1172 [==============================] - 5s 4ms/step - loss: 1.2349 - accuracy: 0.5798\n",
            "Epoch 13/30\n",
            "1163/1172 [============================>.] - ETA: 0s - loss: 1.2168 - accuracy: 0.5880WARNING:tensorflow:Can save best model only with val_loss available, skipping.\n",
            "1172/1172 [==============================] - 5s 4ms/step - loss: 1.2171 - accuracy: 0.5878\n",
            "Epoch 14/30\n",
            "1168/1172 [============================>.] - ETA: 0s - loss: 1.2024 - accuracy: 0.5892WARNING:tensorflow:Can save best model only with val_loss available, skipping.\n",
            "1172/1172 [==============================] - 5s 4ms/step - loss: 1.2019 - accuracy: 0.5893\n",
            "Epoch 15/30\n",
            "1164/1172 [============================>.] - ETA: 0s - loss: 1.1959 - accuracy: 0.5957WARNING:tensorflow:Can save best model only with val_loss available, skipping.\n",
            "1172/1172 [==============================] - 5s 4ms/step - loss: 1.1961 - accuracy: 0.5958\n",
            "Epoch 16/30\n",
            "1165/1172 [============================>.] - ETA: 0s - loss: 1.1888 - accuracy: 0.5954WARNING:tensorflow:Can save best model only with val_loss available, skipping.\n",
            "1172/1172 [==============================] - 5s 4ms/step - loss: 1.1886 - accuracy: 0.5955\n",
            "Epoch 17/30\n",
            "1166/1172 [============================>.] - ETA: 0s - loss: 1.1811 - accuracy: 0.6014WARNING:tensorflow:Can save best model only with val_loss available, skipping.\n",
            "1172/1172 [==============================] - 5s 4ms/step - loss: 1.1803 - accuracy: 0.6014\n",
            "Epoch 18/30\n",
            "1172/1172 [==============================] - ETA: 0s - loss: 1.1642 - accuracy: 0.6056WARNING:tensorflow:Can save best model only with val_loss available, skipping.\n",
            "1172/1172 [==============================] - 5s 4ms/step - loss: 1.1642 - accuracy: 0.6056\n",
            "Epoch 19/30\n",
            "1166/1172 [============================>.] - ETA: 0s - loss: 1.1619 - accuracy: 0.6072WARNING:tensorflow:Can save best model only with val_loss available, skipping.\n",
            "1172/1172 [==============================] - 5s 4ms/step - loss: 1.1619 - accuracy: 0.6071\n",
            "Epoch 20/30\n",
            "1163/1172 [============================>.] - ETA: 0s - loss: 1.1542 - accuracy: 0.6075WARNING:tensorflow:Can save best model only with val_loss available, skipping.\n",
            "1172/1172 [==============================] - 5s 4ms/step - loss: 1.1542 - accuracy: 0.6074\n",
            "Epoch 21/30\n",
            "1169/1172 [============================>.] - ETA: 0s - loss: 1.1489 - accuracy: 0.6072WARNING:tensorflow:Can save best model only with val_loss available, skipping.\n",
            "1172/1172 [==============================] - 5s 4ms/step - loss: 1.1491 - accuracy: 0.6070\n",
            "Epoch 22/30\n",
            "1170/1172 [============================>.] - ETA: 0s - loss: 1.1452 - accuracy: 0.6102WARNING:tensorflow:Can save best model only with val_loss available, skipping.\n",
            "1172/1172 [==============================] - 5s 4ms/step - loss: 1.1448 - accuracy: 0.6103\n",
            "Epoch 23/30\n",
            "1168/1172 [============================>.] - ETA: 0s - loss: 1.1386 - accuracy: 0.6126WARNING:tensorflow:Can save best model only with val_loss available, skipping.\n",
            "1172/1172 [==============================] - 5s 4ms/step - loss: 1.1382 - accuracy: 0.6127\n",
            "Epoch 24/30\n",
            "1172/1172 [==============================] - ETA: 0s - loss: 1.1314 - accuracy: 0.6163WARNING:tensorflow:Can save best model only with val_loss available, skipping.\n",
            "1172/1172 [==============================] - 5s 4ms/step - loss: 1.1314 - accuracy: 0.6163\n",
            "Epoch 25/30\n",
            "1171/1172 [============================>.] - ETA: 0s - loss: 1.1323 - accuracy: 0.6161WARNING:tensorflow:Can save best model only with val_loss available, skipping.\n",
            "1172/1172 [==============================] - 5s 4ms/step - loss: 1.1321 - accuracy: 0.6162\n",
            "Epoch 26/30\n",
            "1172/1172 [==============================] - ETA: 0s - loss: 1.1261 - accuracy: 0.6182WARNING:tensorflow:Can save best model only with val_loss available, skipping.\n",
            "1172/1172 [==============================] - 5s 4ms/step - loss: 1.1261 - accuracy: 0.6182\n",
            "Epoch 27/30\n",
            "1161/1172 [============================>.] - ETA: 0s - loss: 1.1213 - accuracy: 0.6219WARNING:tensorflow:Can save best model only with val_loss available, skipping.\n",
            "1172/1172 [==============================] - 5s 4ms/step - loss: 1.1207 - accuracy: 0.6218\n",
            "Epoch 28/30\n",
            "1169/1172 [============================>.] - ETA: 0s - loss: 1.1183 - accuracy: 0.6185WARNING:tensorflow:Can save best model only with val_loss available, skipping.\n",
            "1172/1172 [==============================] - 5s 4ms/step - loss: 1.1187 - accuracy: 0.6184\n",
            "Epoch 29/30\n",
            "1165/1172 [============================>.] - ETA: 0s - loss: 1.1106 - accuracy: 0.6233WARNING:tensorflow:Can save best model only with val_loss available, skipping.\n",
            "1172/1172 [==============================] - 5s 4ms/step - loss: 1.1113 - accuracy: 0.6228\n",
            "Epoch 30/30\n",
            "1165/1172 [============================>.] - ETA: 0s - loss: 1.1105 - accuracy: 0.6233WARNING:tensorflow:Can save best model only with val_loss available, skipping.\n",
            "1172/1172 [==============================] - 5s 4ms/step - loss: 1.1106 - accuracy: 0.6233\n"
          ]
        }
      ]
    },
    {
      "cell_type": "code",
      "source": [
        "average_mae_history = [\n",
        "    np.mean([x[i] for x in all_mae_histories]) for i in range(num_epochs)]\n",
        "\n",
        "truncated_mae_history = average_mae_history[10:]\n",
        "plt.plot(range(1, len(truncated_mae_history) + 1), truncated_mae_history)\n",
        "plt.xlabel(\"Epochs\")\n",
        "plt.ylabel(\"Validation MAE\")\n",
        "plt.show()"
      ],
      "metadata": {
        "id": "dTcOsP013Q9k"
      },
      "execution_count": null,
      "outputs": []
    },
    {
      "cell_type": "code",
      "source": [
        "# history data\n",
        "history_dict = history.history\n",
        "\n",
        "# training metric history\n",
        "train_loss_values = history_dict[\"loss\"]\n",
        "train_acc_values = history_dict[\"accuracy\"]\n",
        "\n",
        "# validation metric history\n",
        "val_loss_values = history_dict[\"val_loss\"]\n",
        "val_acc_values = history_dict[\"val_accuracy\"]\n",
        "\n",
        "# epochs\n",
        "epochs = range(1, len(train_loss_values) + 1)"
      ],
      "metadata": {
        "id": "KTRInr0RNl5o"
      },
      "execution_count": null,
      "outputs": []
    },
    {
      "cell_type": "code",
      "source": [
        "# history data\n",
        "history_dict = history.history\n",
        "\n",
        "# training metric history\n",
        "train_loss_values = history_dict[\"loss\"]\n",
        "train_acc_values = history_dict[\"accuracy\"]\n",
        "\n",
        "# validation metric history\n",
        "val_loss_values = history_dict[\"val_loss\"]\n",
        "val_acc_values = history_dict[\"val_accuracy\"]\n",
        "\n",
        "# epochs\n",
        "epochs = range(1, len(train_loss_values) + 1)"
      ],
      "metadata": {
        "id": "zS-fdu_aOUI2"
      },
      "execution_count": null,
      "outputs": []
    },
    {
      "cell_type": "code",
      "source": [
        "# create figure for training data\n",
        "fig3, ax3 = plt.subplots()\n",
        "\n",
        "# plot\n",
        "ax3.plot(epochs, train_loss_values, \"bo\", label=\"Training Loss\")\n",
        "ax3.plot(epochs, val_loss_values, \"b\", label=\"Validation Loss\")\n",
        "ax3.set_title(\"Training and Validation Loss\")\n",
        "ax3.set_xlabel(\"Epochs\")\n",
        "ax3.set_ylabel(\"Loss\")\n",
        "ax3.legend()\n",
        "plt.show()"
      ],
      "metadata": {
        "colab": {
          "base_uri": "https://localhost:8080/",
          "height": 295
        },
        "id": "TINBbExAOV0P",
        "outputId": "b702ee19-53a9-4dc9-9e66-6cdbc2119a3f"
      },
      "execution_count": null,
      "outputs": [
        {
          "output_type": "display_data",
          "data": {
            "text/plain": [
              "<Figure size 432x288 with 1 Axes>"
            ],
            "image/png": "[encoded data removed]"
          },
          "metadata": {
            "needs_background": "light"
          }
        }
      ]
    },
    {
      "cell_type": "code",
      "source": [
        "# create figure for training data\n",
        "fig4, ax4 = plt.subplots()\n",
        "\n",
        "# plot\n",
        "ax4.plot(epochs, train_acc_values, \"bo\", label=\"Training Accuracy\")\n",
        "ax4.plot(epochs, val_acc_values, \"b\", label=\"Validation Accuracy\")\n",
        "ax4.set_title(\"Training and Accuracy Loss\")\n",
        "ax4.set_xlabel(\"Epochs\")\n",
        "ax4.set_ylabel(\"Accuracy\")\n",
        "ax4.legend()\n",
        "plt.show()"
      ],
      "metadata": {
        "colab": {
          "base_uri": "https://localhost:8080/",
          "height": 295
        },
        "id": "4Hof-UfuOZn2",
        "outputId": "176a98c4-36d7-461f-9642-2621faefa605"
      },
      "execution_count": null,
      "outputs": [
        {
          "output_type": "display_data",
          "data": {
            "text/plain": [
              "<Figure size 432x288 with 1 Axes>"
            ],
            "image/png": "[encoded data removed]"
          },
          "metadata": {
            "needs_background": "light"
          }
        }
      ]
    },
    {
      "cell_type": "code",
      "source": [
        "# print final results\n",
        "results = model.evaluate(test_images, test_labels)\n",
        "print(f'Network loss:     {results[0]}')\n",
        "print(f'Network accuracy: {results[1]}')"
      ],
      "metadata": {
        "id": "I6DFduLJPsOU",
        "outputId": "715b0075-d09e-4faf-f400-37e6a61ee2c5",
        "colab": {
          "base_uri": "https://localhost:8080/"
        }
      },
      "execution_count": null,
      "outputs": [
        {
          "output_type": "stream",
          "name": "stdout",
          "text": [
            "313/313 [==============================] - 1s 2ms/step - loss: 1.1488 - accuracy: 0.6064\n",
            "Network loss:     1.1488090753555298\n",
            "Network accuracy: 0.6064000129699707\n"
          ]
        }
      ]
    },
    {
      "cell_type": "code",
      "source": [
        "predictions = model.predict(test_images)"
      ],
      "metadata": {
        "id": "AA4sk0F9QGOH"
      },
      "execution_count": null,
      "outputs": []
    },
    {
      "cell_type": "code",
      "source": [
        "idx = 9\n",
        "\n",
        "print('Prediction: %i' % predictions[idx].argmax())\n",
        "print(predictions[idx][predictions[idx].argmax()]*100)\n",
        "\n",
        "tf.print('Truth: %i' % test_labels[idx])"
      ],
      "metadata": {
        "id": "VMyCCZmXQYm9",
        "outputId": "7fb4bdb8-3b90-46ae-a355-45018e6ae73b",
        "colab": {
          "base_uri": "https://localhost:8080/"
        }
      },
      "execution_count": null,
      "outputs": [
        {
          "output_type": "stream",
          "name": "stdout",
          "text": [
            "Prediction: 9\n",
            "44.959813356399536\n",
            "Truth: 9\n"
          ]
        }
      ]
    }
  ],
  "metadata": {
    "accelerator": "GPU",
    "colab": {
      "machine_shape": "hm",
      "name": "CSCE_636_HW04_Sol.ipynb",
      "provenance": []
    },
    "interpreter": {
      "hash": "02de5609ef162b6bcc51dd429fd31b9a1f163c414526741362218fd7f2e354ad"
    },
    "kernelspec": {
      "display_name": "Python 3.9.7 64-bit",
      "language": "python",
      "name": "python3"
    },
    "language_info": {
      "codemirror_mode": {
        "name": "ipython",
        "version": 3
      },
      "file_extension": ".py",
      "mimetype": "text/x-python",
      "name": "python",
      "nbconvert_exporter": "python",
      "pygments_lexer": "ipython3",
      "version": "3.9.7"
    },
    "orig_nbformat": 4
  },
  "nbformat": 4,
  "nbformat_minor": 0
}