{
  "cells": [
    {
      "cell_type": "markdown",
      "metadata": {
        "id": "t_tfeI-D5ljr"
      },
      "source": [
        "# Project 01\n",
        "\n",
        "**Submitted by: Diego Sol**\n",
        "\n",
        "CSCE 636-600: Deep Learning\n",
        "\n",
        "Professor: Dr. Anxiao Jiang"
      ]
    },
    {
      "cell_type": "markdown",
      "source": [
        "Mount Google Drive to this notebook to easily access training data"
      ],
      "metadata": {
        "id": "a3AJEjfnn_cq"
      }
    },
    {
      "cell_type": "code",
      "source": [
        "from google.colab import drive\n",
        "drive.mount('/content/drive')"
      ],
      "metadata": {
        "colab": {
          "base_uri": "https://localhost:8080/"
        },
        "id": "cULh3hNhoV4r",
        "outputId": "78ee76a6-e03d-46cc-de0e-d7cd453f41a1"
      },
      "execution_count": 1,
      "outputs": [
        {
          "output_type": "stream",
          "name": "stdout",
          "text": [
            "Mounted at /content/drive\n"
          ]
        }
      ]
    },
    {
      "cell_type": "markdown",
      "source": [
        "Import packages"
      ],
      "metadata": {
        "id": "2ZwMor6bxxKT"
      }
    },
    {
      "cell_type": "code",
      "source": [
        "import pickle\n",
        "import numpy as np\n",
        "import matplotlib.pyplot as plt\n",
        "import tensorflow as tf\n",
        "from tensorflow import keras\n",
        "from tensorflow.keras import layers"
      ],
      "metadata": {
        "id": "sPSZWX3qx74Y"
      },
      "execution_count": 2,
      "outputs": []
    },
    {
      "cell_type": "markdown",
      "source": [
        "Download training images and labels"
      ],
      "metadata": {
        "id": "unk0YCjqsBO4"
      }
    },
    {
      "cell_type": "code",
      "source": [
        "all_images = pickle.load(open('/content/drive/MyDrive/Colab Notebooks/CSCE_636_Project_1/636_project1_train_images', 'rb'))\n",
        "all_labels = pickle.load(open('/content/drive/MyDrive/Colab Notebooks/CSCE_636_Project_1/636_project1_train_labels', 'rb'))"
      ],
      "metadata": {
        "id": "VWM2jK5GpKxT"
      },
      "execution_count": 3,
      "outputs": []
    },
    {
      "cell_type": "markdown",
      "source": [
        "Split the data into training and validation sets"
      ],
      "metadata": {
        "id": "vVzKRyvwu-KL"
      }
    },
    {
      "cell_type": "code",
      "source": [
        "data_split = 50000\n",
        "\n",
        "train_images = all_images[:data_split,:,:]\n",
        "train_labels = all_labels[:data_split,]\n",
        "\n",
        "test_images = all_images[data_split:,:,:]\n",
        "test_labels = all_labels[data_split:,]"
      ],
      "metadata": {
        "id": "zoV8Kv7WtgyK"
      },
      "execution_count": 4,
      "outputs": []
    },
    {
      "cell_type": "code",
      "source": [
        "train_images[1].shape"
      ],
      "metadata": {
        "colab": {
          "base_uri": "https://localhost:8080/"
        },
        "id": "UjYaL1kMGSpc",
        "outputId": "6ce7cbd1-3b69-4fcc-edb3-be2979ddd13f"
      },
      "execution_count": 5,
      "outputs": [
        {
          "output_type": "execute_result",
          "data": {
            "text/plain": [
              "TensorShape([28, 28])"
            ]
          },
          "metadata": {},
          "execution_count": 5
        }
      ]
    },
    {
      "cell_type": "code",
      "source": [
        "# all_images.shape\n",
        "digit = all_images[3]\n",
        "plt.imshow(digit, cmap=plt.cm.binary)\n",
        "plt.show()"
      ],
      "metadata": {
        "colab": {
          "base_uri": "https://localhost:8080/",
          "height": 265
        },
        "id": "nIc2jgLrvDQZ",
        "outputId": "f5952ba6-788f-432c-cb8c-53b51ebf4475"
      },
      "execution_count": 6,
      "outputs": [
        {
          "output_type": "display_data",
          "data": {
            "text/plain": [
              "<Figure size 432x288 with 1 Axes>"
            ],
            "image/png": "[encoded data removed]"
          },
          "metadata": {
            "needs_background": "light"
          }
        }
      ]
    },
    {
      "cell_type": "code",
      "source": [
        "def build_model():\n",
        "  inputs = keras.Input(shape=(28, 28, 1))\n",
        "  x = layers.Rescaling(1./255)(inputs)\n",
        "\n",
        "  # convolutional layers\n",
        "  x = layers.Conv2D(filters=32, kernel_size=(3, 3), activation=\"relu\")(x)\n",
        "  x = layers.MaxPooling2D(pool_size=(2, 2))(x)\n",
        "  x = layers.Conv2D(filters=64, kernel_size=(3, 3), activation=\"relu\")(x)\n",
        "  x = layers.MaxPooling2D(pool_size=(2, 2))(x)\n",
        "\n",
        "  x = layers.Flatten()(x)\n",
        "  x = layers.Dropout(0.5)(x)\n",
        "\n",
        "  outputs = layers.Dense(10, activation=\"softmax\")(x)\n",
        "\n",
        "  model = keras.Model(inputs=inputs, outputs=outputs)\n",
        "\n",
        "  model.compile(optimizer=\"rmsprop\",\n",
        "              loss=\"sparse_categorical_crossentropy\",\n",
        "              metrics=[\"accuracy\"])\n",
        "\n",
        "  return model\n",
        "\n",
        "  # keras.utils.plot_model(model, show_shapes=True, to_file=\"simple_convnet.png\")"
      ],
      "metadata": {
        "id": "tT3ItH8w_eY_"
      },
      "execution_count": 7,
      "outputs": []
    },
    {
      "cell_type": "markdown",
      "source": [
        "Use callbacks to save the best model"
      ],
      "metadata": {
        "id": "_orMkl6OzKal"
      }
    },
    {
      "cell_type": "code",
      "source": [
        "callbacks_list = [\n",
        "                  keras.callbacks.ModelCheckpoint(\n",
        "                      filepath=\"noisy_MNIST_convnet.keras\",\n",
        "                      monitor=\"val_loss\",\n",
        "                      save_best_only=True\n",
        "                  )]"
      ],
      "metadata": {
        "id": "G5c5j-LXzCL-"
      },
      "execution_count": 8,
      "outputs": []
    },
    {
      "cell_type": "markdown",
      "source": [
        "Fit model with K-fold validation"
      ],
      "metadata": {
        "id": "Msp5gEQNxUS3"
      }
    },
    {
      "cell_type": "code",
      "source": [
        "k = 4\n",
        "num_val_samples = len(train_images) // k\n",
        "num_epochs = 30\n",
        "all_loss_histories = []\n",
        "\n",
        "for i in range(k):\n",
        "    print(f\"Processing fold #{i}\")\n",
        "\n",
        "    val_data = train_images[i * num_val_samples: (i + 1) * num_val_samples]\n",
        "    val_targets = train_labels[i * num_val_samples: (i + 1) * num_val_samples]\n",
        "\n",
        "    partial_train_data = np.concatenate(\n",
        "        [train_images[:i * num_val_samples],\n",
        "         train_images[(i + 1) * num_val_samples:]],\n",
        "        axis=0)\n",
        "    \n",
        "    partial_train_targets = np.concatenate(\n",
        "        [train_labels[:i * num_val_samples],\n",
        "         train_labels[(i + 1) * num_val_samples:]],\n",
        "        axis=0)\n",
        "    \n",
        "    # build the model\n",
        "    model = build_model()\n",
        "\n",
        "    # train the model\n",
        "    history = model.fit(partial_train_data,\n",
        "                        partial_train_targets,\n",
        "                        validation_data=(val_data, val_targets),\n",
        "                        epochs=num_epochs,\n",
        "                        batch_size=32,\n",
        "                        callbacks=callbacks_list,\n",
        "                        # verbose=0\n",
        "                        )\n",
        "\n",
        "    loss_history = history.history[\"val_loss\"]\n",
        "    all_loss_histories.append(loss_history)\n",
        "\n",
        "# history = model.fit(train_images, train_labels,\n",
        "#           epochs=50,\n",
        "#           validation_split=0.4,\n",
        "#           batch_size=32,\n",
        "#           callbacks=callbacks_list)"
      ],
      "metadata": {
        "colab": {
          "base_uri": "https://localhost:8080/"
        },
        "id": "B67g7SluF28O",
        "outputId": "b803923f-9b8f-4b43-99fa-98ae0c293522"
      },
      "execution_count": 10,
      "outputs": [
        {
          "output_type": "stream",
          "name": "stdout",
          "text": [
            "Processing fold #0\n",
            "Epoch 1/30\n",
            "1172/1172 [==============================] - 6s 5ms/step - loss: 2.1205 - accuracy: 0.2300 - val_loss: 1.8728 - val_accuracy: 0.3480\n",
            "Epoch 2/30\n",
            "1172/1172 [==============================] - 6s 5ms/step - loss: 1.7790 - accuracy: 0.3813 - val_loss: 1.5799 - val_accuracy: 0.4629\n",
            "Epoch 3/30\n",
            "1172/1172 [==============================] - 5s 5ms/step - loss: 1.5533 - accuracy: 0.4654 - val_loss: 1.4212 - val_accuracy: 0.5110\n",
            "Epoch 4/30\n",
            "1172/1172 [==============================] - 6s 5ms/step - loss: 1.4507 - accuracy: 0.5052 - val_loss: 1.4551 - val_accuracy: 0.5006\n",
            "Epoch 5/30\n",
            "1172/1172 [==============================] - 6s 5ms/step - loss: 1.3996 - accuracy: 0.5227 - val_loss: 1.3044 - val_accuracy: 0.5548\n",
            "Epoch 6/30\n",
            "1172/1172 [==============================] - 5s 5ms/step - loss: 1.3549 - accuracy: 0.5380 - val_loss: 1.2844 - val_accuracy: 0.5666\n",
            "Epoch 7/30\n",
            "1172/1172 [==============================] - 6s 5ms/step - loss: 1.3255 - accuracy: 0.5474 - val_loss: 1.2545 - val_accuracy: 0.5820\n",
            "Epoch 8/30\n",
            "1172/1172 [==============================] - 6s 5ms/step - loss: 1.2977 - accuracy: 0.5597 - val_loss: 1.2388 - val_accuracy: 0.5814\n",
            "Epoch 9/30\n",
            "1172/1172 [==============================] - 6s 5ms/step - loss: 1.2771 - accuracy: 0.5651 - val_loss: 1.2361 - val_accuracy: 0.5890\n",
            "Epoch 10/30\n",
            "1172/1172 [==============================] - 6s 5ms/step - loss: 1.2644 - accuracy: 0.5688 - val_loss: 1.2049 - val_accuracy: 0.6013\n",
            "Epoch 11/30\n",
            "1172/1172 [==============================] - 6s 5ms/step - loss: 1.2438 - accuracy: 0.5761 - val_loss: 1.1814 - val_accuracy: 0.6004\n",
            "Epoch 12/30\n",
            "1172/1172 [==============================] - 6s 5ms/step - loss: 1.2343 - accuracy: 0.5815 - val_loss: 1.1811 - val_accuracy: 0.6080\n",
            "Epoch 13/30\n",
            "1172/1172 [==============================] - 6s 5ms/step - loss: 1.2145 - accuracy: 0.5855 - val_loss: 1.1534 - val_accuracy: 0.6093\n",
            "Epoch 14/30\n",
            "1172/1172 [==============================] - 6s 5ms/step - loss: 1.2069 - accuracy: 0.5923 - val_loss: 1.1439 - val_accuracy: 0.6118\n",
            "Epoch 15/30\n",
            "1172/1172 [==============================] - 5s 5ms/step - loss: 1.1935 - accuracy: 0.5948 - val_loss: 1.1474 - val_accuracy: 0.6124\n",
            "Epoch 16/30\n",
            "1172/1172 [==============================] - 6s 5ms/step - loss: 1.1874 - accuracy: 0.5967 - val_loss: 1.1262 - val_accuracy: 0.6189\n",
            "Epoch 17/30\n",
            "1172/1172 [==============================] - 6s 5ms/step - loss: 1.1714 - accuracy: 0.6042 - val_loss: 1.1341 - val_accuracy: 0.6183\n",
            "Epoch 18/30\n",
            "1172/1172 [==============================] - 6s 5ms/step - loss: 1.1597 - accuracy: 0.6041 - val_loss: 1.1268 - val_accuracy: 0.6225\n",
            "Epoch 19/30\n",
            "1172/1172 [==============================] - 5s 5ms/step - loss: 1.1568 - accuracy: 0.6091 - val_loss: 1.1568 - val_accuracy: 0.6120\n",
            "Epoch 20/30\n",
            "1172/1172 [==============================] - 5s 5ms/step - loss: 1.1516 - accuracy: 0.6106 - val_loss: 1.1245 - val_accuracy: 0.6218\n",
            "Epoch 21/30\n",
            "1172/1172 [==============================] - 5s 5ms/step - loss: 1.1440 - accuracy: 0.6111 - val_loss: 1.1215 - val_accuracy: 0.6240\n",
            "Epoch 22/30\n",
            "1172/1172 [==============================] - 5s 5ms/step - loss: 1.1434 - accuracy: 0.6135 - val_loss: 1.1333 - val_accuracy: 0.6170\n",
            "Epoch 23/30\n",
            "1172/1172 [==============================] - 5s 5ms/step - loss: 1.1300 - accuracy: 0.6144 - val_loss: 1.1020 - val_accuracy: 0.6290\n",
            "Epoch 24/30\n",
            "1172/1172 [==============================] - 5s 5ms/step - loss: 1.1298 - accuracy: 0.6167 - val_loss: 1.1264 - val_accuracy: 0.6287\n",
            "Epoch 25/30\n",
            "1172/1172 [==============================] - 5s 5ms/step - loss: 1.1240 - accuracy: 0.6180 - val_loss: 1.1500 - val_accuracy: 0.6260\n",
            "Epoch 26/30\n",
            "1172/1172 [==============================] - 5s 5ms/step - loss: 1.1194 - accuracy: 0.6171 - val_loss: 1.1391 - val_accuracy: 0.6146\n",
            "Epoch 27/30\n",
            "1172/1172 [==============================] - 5s 5ms/step - loss: 1.1119 - accuracy: 0.6210 - val_loss: 1.1154 - val_accuracy: 0.6244\n",
            "Epoch 28/30\n",
            "1172/1172 [==============================] - 5s 5ms/step - loss: 1.1116 - accuracy: 0.6198 - val_loss: 1.0988 - val_accuracy: 0.6308\n",
            "Epoch 29/30\n",
            "1172/1172 [==============================] - 5s 5ms/step - loss: 1.1068 - accuracy: 0.6265 - val_loss: 1.1013 - val_accuracy: 0.6299\n",
            "Epoch 30/30\n",
            "1172/1172 [==============================] - 5s 5ms/step - loss: 1.0996 - accuracy: 0.6275 - val_loss: 1.0967 - val_accuracy: 0.6306\n",
            "Processing fold #1\n",
            "Epoch 1/30\n",
            "1172/1172 [==============================] - 6s 5ms/step - loss: 2.1551 - accuracy: 0.2111 - val_loss: 1.9200 - val_accuracy: 0.3258\n",
            "Epoch 2/30\n",
            "1172/1172 [==============================] - 5s 5ms/step - loss: 1.8015 - accuracy: 0.3725 - val_loss: 1.6765 - val_accuracy: 0.4207\n",
            "Epoch 3/30\n",
            "1172/1172 [==============================] - 6s 5ms/step - loss: 1.5723 - accuracy: 0.4585 - val_loss: 1.4459 - val_accuracy: 0.5085\n",
            "Epoch 4/30\n",
            "1172/1172 [==============================] - 5s 5ms/step - loss: 1.4688 - accuracy: 0.5013 - val_loss: 1.3637 - val_accuracy: 0.5374\n",
            "Epoch 5/30\n",
            "1172/1172 [==============================] - 5s 5ms/step - loss: 1.4074 - accuracy: 0.5216 - val_loss: 1.3147 - val_accuracy: 0.5519\n",
            "Epoch 6/30\n",
            "1172/1172 [==============================] - 6s 5ms/step - loss: 1.3694 - accuracy: 0.5310 - val_loss: 1.2792 - val_accuracy: 0.5673\n",
            "Epoch 7/30\n",
            "1172/1172 [==============================] - 6s 5ms/step - loss: 1.3304 - accuracy: 0.5454 - val_loss: 1.2610 - val_accuracy: 0.5705\n",
            "Epoch 8/30\n",
            "1172/1172 [==============================] - 6s 5ms/step - loss: 1.3015 - accuracy: 0.5569 - val_loss: 1.2401 - val_accuracy: 0.5783\n",
            "Epoch 9/30\n",
            "1172/1172 [==============================] - 6s 5ms/step - loss: 1.2798 - accuracy: 0.5657 - val_loss: 1.2554 - val_accuracy: 0.5725\n",
            "Epoch 10/30\n",
            "1172/1172 [==============================] - 6s 5ms/step - loss: 1.2618 - accuracy: 0.5707 - val_loss: 1.2084 - val_accuracy: 0.5885\n",
            "Epoch 11/30\n",
            "1172/1172 [==============================] - 6s 5ms/step - loss: 1.2454 - accuracy: 0.5761 - val_loss: 1.1949 - val_accuracy: 0.5948\n",
            "Epoch 12/30\n",
            "1172/1172 [==============================] - 6s 5ms/step - loss: 1.2303 - accuracy: 0.5838 - val_loss: 1.1745 - val_accuracy: 0.5955\n",
            "Epoch 13/30\n",
            "1172/1172 [==============================] - 6s 5ms/step - loss: 1.2141 - accuracy: 0.5887 - val_loss: 1.1649 - val_accuracy: 0.6042\n",
            "Epoch 14/30\n",
            "1172/1172 [==============================] - 6s 5ms/step - loss: 1.2080 - accuracy: 0.5906 - val_loss: 1.1682 - val_accuracy: 0.6021\n",
            "Epoch 15/30\n",
            "1172/1172 [==============================] - 5s 5ms/step - loss: 1.1867 - accuracy: 0.5980 - val_loss: 1.1770 - val_accuracy: 0.6014\n",
            "Epoch 16/30\n",
            "1172/1172 [==============================] - 6s 5ms/step - loss: 1.1783 - accuracy: 0.6012 - val_loss: 1.1387 - val_accuracy: 0.6095\n",
            "Epoch 17/30\n",
            "1172/1172 [==============================] - 6s 5ms/step - loss: 1.1727 - accuracy: 0.6029 - val_loss: 1.1594 - val_accuracy: 0.6124\n",
            "Epoch 18/30\n",
            "1172/1172 [==============================] - 5s 5ms/step - loss: 1.1704 - accuracy: 0.6037 - val_loss: 1.1306 - val_accuracy: 0.6114\n",
            "Epoch 19/30\n",
            "1172/1172 [==============================] - 6s 5ms/step - loss: 1.1577 - accuracy: 0.6081 - val_loss: 1.1623 - val_accuracy: 0.6135\n",
            "Epoch 20/30\n",
            "1172/1172 [==============================] - 6s 5ms/step - loss: 1.1511 - accuracy: 0.6112 - val_loss: 1.1388 - val_accuracy: 0.6138\n",
            "Epoch 21/30\n",
            "1172/1172 [==============================] - 5s 5ms/step - loss: 1.1477 - accuracy: 0.6142 - val_loss: 1.1372 - val_accuracy: 0.6147\n",
            "Epoch 22/30\n",
            "1172/1172 [==============================] - 5s 5ms/step - loss: 1.1429 - accuracy: 0.6126 - val_loss: 1.1316 - val_accuracy: 0.6141\n",
            "Epoch 23/30\n",
            "1172/1172 [==============================] - 5s 5ms/step - loss: 1.1397 - accuracy: 0.6144 - val_loss: 1.1281 - val_accuracy: 0.6187\n",
            "Epoch 24/30\n",
            "1172/1172 [==============================] - 5s 5ms/step - loss: 1.1348 - accuracy: 0.6155 - val_loss: 1.1227 - val_accuracy: 0.6134\n",
            "Epoch 25/30\n",
            "1172/1172 [==============================] - 5s 5ms/step - loss: 1.1337 - accuracy: 0.6160 - val_loss: 1.1156 - val_accuracy: 0.6179\n",
            "Epoch 26/30\n",
            "1172/1172 [==============================] - 5s 5ms/step - loss: 1.1248 - accuracy: 0.6199 - val_loss: 1.1275 - val_accuracy: 0.6148\n",
            "Epoch 27/30\n",
            "1172/1172 [==============================] - 5s 5ms/step - loss: 1.1219 - accuracy: 0.6235 - val_loss: 1.1388 - val_accuracy: 0.6125\n",
            "Epoch 28/30\n",
            "1172/1172 [==============================] - 6s 5ms/step - loss: 1.1165 - accuracy: 0.6229 - val_loss: 1.1077 - val_accuracy: 0.6215\n",
            "Epoch 29/30\n",
            "1172/1172 [==============================] - 5s 5ms/step - loss: 1.1199 - accuracy: 0.6219 - val_loss: 1.1366 - val_accuracy: 0.6178\n",
            "Epoch 30/30\n",
            "1172/1172 [==============================] - 5s 5ms/step - loss: 1.1099 - accuracy: 0.6249 - val_loss: 1.1664 - val_accuracy: 0.6049\n",
            "Processing fold #2\n",
            "Epoch 1/30\n",
            "1172/1172 [==============================] - 6s 5ms/step - loss: 2.1733 - accuracy: 0.2026 - val_loss: 1.9538 - val_accuracy: 0.3126\n",
            "Epoch 2/30\n",
            "1172/1172 [==============================] - 5s 5ms/step - loss: 1.8827 - accuracy: 0.3384 - val_loss: 1.6649 - val_accuracy: 0.4302\n",
            "Epoch 3/30\n",
            "1172/1172 [==============================] - 6s 5ms/step - loss: 1.6644 - accuracy: 0.4260 - val_loss: 1.5086 - val_accuracy: 0.4909\n",
            "Epoch 4/30\n",
            "1172/1172 [==============================] - 6s 5ms/step - loss: 1.5462 - accuracy: 0.4691 - val_loss: 1.4435 - val_accuracy: 0.5032\n",
            "Epoch 5/30\n",
            "1172/1172 [==============================] - 6s 5ms/step - loss: 1.4796 - accuracy: 0.4950 - val_loss: 1.3791 - val_accuracy: 0.5357\n",
            "Epoch 6/30\n",
            "1172/1172 [==============================] - 6s 5ms/step - loss: 1.4336 - accuracy: 0.5087 - val_loss: 1.3141 - val_accuracy: 0.5561\n",
            "Epoch 7/30\n",
            "1172/1172 [==============================] - 6s 5ms/step - loss: 1.3996 - accuracy: 0.5214 - val_loss: 1.3099 - val_accuracy: 0.5485\n",
            "Epoch 8/30\n",
            "1172/1172 [==============================] - 6s 5ms/step - loss: 1.3690 - accuracy: 0.5323 - val_loss: 1.2695 - val_accuracy: 0.5766\n",
            "Epoch 9/30\n",
            "1172/1172 [==============================] - 6s 5ms/step - loss: 1.3312 - accuracy: 0.5435 - val_loss: 1.2296 - val_accuracy: 0.5776\n",
            "Epoch 10/30\n",
            "1172/1172 [==============================] - 6s 5ms/step - loss: 1.3056 - accuracy: 0.5550 - val_loss: 1.2626 - val_accuracy: 0.5834\n",
            "Epoch 11/30\n",
            "1172/1172 [==============================] - 6s 5ms/step - loss: 1.2789 - accuracy: 0.5631 - val_loss: 1.2317 - val_accuracy: 0.5846\n",
            "Epoch 12/30\n",
            "1172/1172 [==============================] - 6s 5ms/step - loss: 1.2569 - accuracy: 0.5739 - val_loss: 1.1942 - val_accuracy: 0.5917\n",
            "Epoch 13/30\n",
            "1172/1172 [==============================] - 5s 5ms/step - loss: 1.2386 - accuracy: 0.5785 - val_loss: 1.1545 - val_accuracy: 0.6046\n",
            "Epoch 14/30\n",
            "1172/1172 [==============================] - 6s 5ms/step - loss: 1.2149 - accuracy: 0.5872 - val_loss: 1.2001 - val_accuracy: 0.6058\n",
            "Epoch 15/30\n",
            "1172/1172 [==============================] - 6s 5ms/step - loss: 1.2022 - accuracy: 0.5911 - val_loss: 1.1292 - val_accuracy: 0.6118\n",
            "Epoch 16/30\n",
            "1172/1172 [==============================] - 6s 5ms/step - loss: 1.1913 - accuracy: 0.5952 - val_loss: 1.1331 - val_accuracy: 0.6158\n",
            "Epoch 17/30\n",
            "1172/1172 [==============================] - 6s 5ms/step - loss: 1.1803 - accuracy: 0.5977 - val_loss: 1.1725 - val_accuracy: 0.6013\n",
            "Epoch 18/30\n",
            "1172/1172 [==============================] - 6s 5ms/step - loss: 1.1718 - accuracy: 0.5992 - val_loss: 1.1202 - val_accuracy: 0.6170\n",
            "Epoch 19/30\n",
            "1172/1172 [==============================] - 6s 5ms/step - loss: 1.1652 - accuracy: 0.6041 - val_loss: 1.1153 - val_accuracy: 0.6207\n",
            "Epoch 20/30\n",
            "1172/1172 [==============================] - 6s 5ms/step - loss: 1.1591 - accuracy: 0.6069 - val_loss: 1.1698 - val_accuracy: 0.6054\n",
            "Epoch 21/30\n",
            "1172/1172 [==============================] - 5s 5ms/step - loss: 1.1467 - accuracy: 0.6084 - val_loss: 1.0971 - val_accuracy: 0.6266\n",
            "Epoch 22/30\n",
            "1172/1172 [==============================] - 5s 5ms/step - loss: 1.1399 - accuracy: 0.6139 - val_loss: 1.1399 - val_accuracy: 0.6165\n",
            "Epoch 23/30\n",
            "1172/1172 [==============================] - 5s 5ms/step - loss: 1.1341 - accuracy: 0.6131 - val_loss: 1.1037 - val_accuracy: 0.6242\n",
            "Epoch 24/30\n",
            "1172/1172 [==============================] - 5s 5ms/step - loss: 1.1272 - accuracy: 0.6155 - val_loss: 1.1176 - val_accuracy: 0.6264\n",
            "Epoch 25/30\n",
            "1172/1172 [==============================] - 5s 5ms/step - loss: 1.1265 - accuracy: 0.6171 - val_loss: 1.1311 - val_accuracy: 0.6206\n",
            "Epoch 26/30\n",
            "1172/1172 [==============================] - 5s 5ms/step - loss: 1.1205 - accuracy: 0.6213 - val_loss: 1.1026 - val_accuracy: 0.6280\n",
            "Epoch 27/30\n",
            "1172/1172 [==============================] - 6s 5ms/step - loss: 1.1158 - accuracy: 0.6215 - val_loss: 1.0852 - val_accuracy: 0.6312\n",
            "Epoch 28/30\n",
            "1172/1172 [==============================] - 6s 5ms/step - loss: 1.1128 - accuracy: 0.6210 - val_loss: 1.0879 - val_accuracy: 0.6304\n",
            "Epoch 29/30\n",
            "1172/1172 [==============================] - 5s 5ms/step - loss: 1.1113 - accuracy: 0.6219 - val_loss: 1.1357 - val_accuracy: 0.6212\n",
            "Epoch 30/30\n",
            "1172/1172 [==============================] - 5s 5ms/step - loss: 1.1024 - accuracy: 0.6243 - val_loss: 1.1011 - val_accuracy: 0.6237\n",
            "Processing fold #3\n",
            "Epoch 1/30\n",
            "1172/1172 [==============================] - 6s 5ms/step - loss: 2.1754 - accuracy: 0.1996 - val_loss: 1.9592 - val_accuracy: 0.3179\n",
            "Epoch 2/30\n",
            "1172/1172 [==============================] - 6s 5ms/step - loss: 1.8720 - accuracy: 0.3439 - val_loss: 1.6542 - val_accuracy: 0.4418\n",
            "Epoch 3/30\n",
            "1172/1172 [==============================] - 5s 5ms/step - loss: 1.6361 - accuracy: 0.4367 - val_loss: 1.4942 - val_accuracy: 0.5058\n",
            "Epoch 4/30\n",
            "1172/1172 [==============================] - 5s 5ms/step - loss: 1.5175 - accuracy: 0.4764 - val_loss: 1.4521 - val_accuracy: 0.5119\n",
            "Epoch 5/30\n",
            "1172/1172 [==============================] - 5s 5ms/step - loss: 1.4474 - accuracy: 0.5070 - val_loss: 1.3481 - val_accuracy: 0.5417\n",
            "Epoch 6/30\n",
            "1172/1172 [==============================] - 5s 5ms/step - loss: 1.4052 - accuracy: 0.5201 - val_loss: 1.2831 - val_accuracy: 0.5668\n",
            "Epoch 7/30\n",
            "1172/1172 [==============================] - 6s 5ms/step - loss: 1.3646 - accuracy: 0.5345 - val_loss: 1.2617 - val_accuracy: 0.5757\n",
            "Epoch 8/30\n",
            "1172/1172 [==============================] - 6s 5ms/step - loss: 1.3446 - accuracy: 0.5406 - val_loss: 1.2391 - val_accuracy: 0.5790\n",
            "Epoch 9/30\n",
            "1172/1172 [==============================] - 6s 5ms/step - loss: 1.3161 - accuracy: 0.5494 - val_loss: 1.2182 - val_accuracy: 0.5869\n",
            "Epoch 10/30\n",
            "1172/1172 [==============================] - 5s 5ms/step - loss: 1.2961 - accuracy: 0.5580 - val_loss: 1.1974 - val_accuracy: 0.5918\n",
            "Epoch 11/30\n",
            "1172/1172 [==============================] - 5s 5ms/step - loss: 1.2775 - accuracy: 0.5650 - val_loss: 1.1955 - val_accuracy: 0.5941\n",
            "Epoch 12/30\n",
            "1172/1172 [==============================] - 6s 5ms/step - loss: 1.2607 - accuracy: 0.5708 - val_loss: 1.1752 - val_accuracy: 0.6002\n",
            "Epoch 13/30\n",
            "1172/1172 [==============================] - 6s 5ms/step - loss: 1.2454 - accuracy: 0.5767 - val_loss: 1.1506 - val_accuracy: 0.6059\n",
            "Epoch 14/30\n",
            "1172/1172 [==============================] - 6s 5ms/step - loss: 1.2261 - accuracy: 0.5829 - val_loss: 1.1452 - val_accuracy: 0.6096\n",
            "Epoch 15/30\n",
            "1172/1172 [==============================] - 6s 5ms/step - loss: 1.2149 - accuracy: 0.5878 - val_loss: 1.1562 - val_accuracy: 0.6160\n",
            "Epoch 16/30\n",
            "1172/1172 [==============================] - 6s 5ms/step - loss: 1.2059 - accuracy: 0.5881 - val_loss: 1.2151 - val_accuracy: 0.6130\n",
            "Epoch 17/30\n",
            "1172/1172 [==============================] - 6s 5ms/step - loss: 1.2006 - accuracy: 0.5939 - val_loss: 1.1508 - val_accuracy: 0.6095\n",
            "Epoch 18/30\n",
            "1172/1172 [==============================] - 6s 5ms/step - loss: 1.1908 - accuracy: 0.5967 - val_loss: 1.1231 - val_accuracy: 0.6163\n",
            "Epoch 19/30\n",
            "1172/1172 [==============================] - 6s 5ms/step - loss: 1.1832 - accuracy: 0.6009 - val_loss: 1.1270 - val_accuracy: 0.6139\n",
            "Epoch 20/30\n",
            "1172/1172 [==============================] - 5s 5ms/step - loss: 1.1759 - accuracy: 0.6018 - val_loss: 1.1037 - val_accuracy: 0.6254\n",
            "Epoch 21/30\n",
            "1172/1172 [==============================] - 6s 5ms/step - loss: 1.1683 - accuracy: 0.6047 - val_loss: 1.1202 - val_accuracy: 0.6203\n",
            "Epoch 22/30\n",
            "1172/1172 [==============================] - 6s 5ms/step - loss: 1.1686 - accuracy: 0.6054 - val_loss: 1.1126 - val_accuracy: 0.6268\n",
            "Epoch 23/30\n",
            "1172/1172 [==============================] - 6s 5ms/step - loss: 1.1585 - accuracy: 0.6073 - val_loss: 1.0968 - val_accuracy: 0.6228\n",
            "Epoch 24/30\n",
            "1172/1172 [==============================] - 5s 5ms/step - loss: 1.1492 - accuracy: 0.6105 - val_loss: 1.1020 - val_accuracy: 0.6213\n",
            "Epoch 25/30\n",
            "1172/1172 [==============================] - 6s 5ms/step - loss: 1.1456 - accuracy: 0.6110 - val_loss: 1.1132 - val_accuracy: 0.6203\n",
            "Epoch 26/30\n",
            "1172/1172 [==============================] - 6s 5ms/step - loss: 1.1452 - accuracy: 0.6102 - val_loss: 1.0898 - val_accuracy: 0.6281\n",
            "Epoch 27/30\n",
            "1172/1172 [==============================] - 6s 5ms/step - loss: 1.1371 - accuracy: 0.6148 - val_loss: 1.0839 - val_accuracy: 0.6292\n",
            "Epoch 28/30\n",
            "1172/1172 [==============================] - 6s 5ms/step - loss: 1.1331 - accuracy: 0.6143 - val_loss: 1.0868 - val_accuracy: 0.6293\n",
            "Epoch 29/30\n",
            "1172/1172 [==============================] - 6s 5ms/step - loss: 1.1330 - accuracy: 0.6190 - val_loss: 1.1266 - val_accuracy: 0.6158\n",
            "Epoch 30/30\n",
            "1172/1172 [==============================] - 6s 5ms/step - loss: 1.1339 - accuracy: 0.6152 - val_loss: 1.1023 - val_accuracy: 0.6237\n"
          ]
        }
      ]
    },
    {
      "cell_type": "code",
      "source": [
        "average_loss_history = [\n",
        "    np.mean([x[i] for x in all_loss_histories]) for i in range(num_epochs)]\n",
        "\n",
        "truncated_loss_history = average_loss_history[10:]\n",
        "plt.plot(range(1, len(truncated_loss_history) + 1), truncated_loss_history)\n",
        "plt.xlabel(\"Epochs\")\n",
        "plt.ylabel(\"Validation Loss\")\n",
        "plt.show()"
      ],
      "metadata": {
        "id": "dTcOsP013Q9k",
        "outputId": "4d8d4f22-ca08-4180-b604-8c2c0ee043fd",
        "colab": {
          "base_uri": "https://localhost:8080/",
          "height": 278
        }
      },
      "execution_count": 14,
      "outputs": [
        {
          "output_type": "display_data",
          "data": {
            "text/plain": [
              "<Figure size 432x288 with 1 Axes>"
            ],
            "image/png": "[encoded data removed]"
          },
          "metadata": {
            "needs_background": "light"
          }
        }
      ]
    },
    {
      "cell_type": "code",
      "source": [
        "# history data\n",
        "history_dict = history.history\n",
        "\n",
        "# training metric history\n",
        "train_loss_values = history_dict[\"loss\"]\n",
        "train_acc_values = history_dict[\"accuracy\"]\n",
        "\n",
        "# validation metric history\n",
        "val_loss_values = history_dict[\"val_loss\"]\n",
        "val_acc_values = history_dict[\"val_accuracy\"]\n",
        "\n",
        "# epochs\n",
        "epochs = range(1, len(train_loss_values) + 1)"
      ],
      "metadata": {
        "id": "KTRInr0RNl5o"
      },
      "execution_count": 15,
      "outputs": []
    },
    {
      "cell_type": "code",
      "source": [
        "# history data\n",
        "history_dict = history.history\n",
        "\n",
        "# training metric history\n",
        "train_loss_values = history_dict[\"loss\"]\n",
        "train_acc_values = history_dict[\"accuracy\"]\n",
        "\n",
        "# validation metric history\n",
        "val_loss_values = history_dict[\"val_loss\"]\n",
        "val_acc_values = history_dict[\"val_accuracy\"]\n",
        "\n",
        "# epochs\n",
        "epochs = range(1, len(train_loss_values) + 1)"
      ],
      "metadata": {
        "id": "zS-fdu_aOUI2"
      },
      "execution_count": 16,
      "outputs": []
    },
    {
      "cell_type": "code",
      "source": [
        "# create figure for training data\n",
        "fig3, ax3 = plt.subplots()\n",
        "\n",
        "# plot\n",
        "ax3.plot(epochs, train_loss_values, \"bo\", label=\"Training Loss\")\n",
        "ax3.plot(epochs, val_loss_values, \"b\", label=\"Validation Loss\")\n",
        "ax3.set_title(\"Training and Validation Loss\")\n",
        "ax3.set_xlabel(\"Epochs\")\n",
        "ax3.set_ylabel(\"Loss\")\n",
        "ax3.legend()\n",
        "plt.show()"
      ],
      "metadata": {
        "colab": {
          "base_uri": "https://localhost:8080/",
          "height": 295
        },
        "id": "TINBbExAOV0P",
        "outputId": "29b2c798-e806-4a1e-980d-223a1109b98b"
      },
      "execution_count": 17,
      "outputs": [
        {
          "output_type": "display_data",
          "data": {
            "text/plain": [
              "<Figure size 432x288 with 1 Axes>"
            ],
            "image/png": "[encoded data removed]"
          },
          "metadata": {
            "needs_background": "light"
          }
        }
      ]
    },
    {
      "cell_type": "code",
      "source": [
        "# create figure for training data\n",
        "fig4, ax4 = plt.subplots()\n",
        "\n",
        "# plot\n",
        "ax4.plot(epochs, train_acc_values, \"bo\", label=\"Training Accuracy\")\n",
        "ax4.plot(epochs, val_acc_values, \"b\", label=\"Validation Accuracy\")\n",
        "ax4.set_title(\"Training and Accuracy Loss\")\n",
        "ax4.set_xlabel(\"Epochs\")\n",
        "ax4.set_ylabel(\"Accuracy\")\n",
        "ax4.legend()\n",
        "plt.show()"
      ],
      "metadata": {
        "colab": {
          "base_uri": "https://localhost:8080/",
          "height": 295
        },
        "id": "4Hof-UfuOZn2",
        "outputId": "55ea2b06-c138-461a-a229-9801e0707c06"
      },
      "execution_count": 18,
      "outputs": [
        {
          "output_type": "display_data",
          "data": {
            "text/plain": [
              "<Figure size 432x288 with 1 Axes>"
            ],
            "image/png": "[encoded data removed]"
          },
          "metadata": {
            "needs_background": "light"
          }
        }
      ]
    },
    {
      "cell_type": "code",
      "source": [
        "# print final results\n",
        "results = model.evaluate(test_images, test_labels)\n",
        "print(f'Network loss:     {results[0]}')\n",
        "print(f'Network accuracy: {results[1]}')"
      ],
      "metadata": {
        "id": "I6DFduLJPsOU",
        "outputId": "4387ed9e-1c52-49bd-a687-bd767c8bdd9d",
        "colab": {
          "base_uri": "https://localhost:8080/"
        }
      },
      "execution_count": 19,
      "outputs": [
        {
          "output_type": "stream",
          "name": "stdout",
          "text": [
            "313/313 [==============================] - 1s 3ms/step - loss: 1.1050 - accuracy: 0.6166\n",
            "Network loss:     1.1050165891647339\n",
            "Network accuracy: 0.616599977016449\n"
          ]
        }
      ]
    },
    {
      "cell_type": "code",
      "source": [
        "predictions = model.predict(test_images)"
      ],
      "metadata": {
        "id": "AA4sk0F9QGOH"
      },
      "execution_count": 20,
      "outputs": []
    },
    {
      "cell_type": "code",
      "source": [
        "idx = 9\n",
        "\n",
        "print('Prediction: %i' % predictions[idx].argmax())\n",
        "print(predictions[idx][predictions[idx].argmax()]*100)\n",
        "\n",
        "tf.print('Truth: %i' % test_labels[idx])"
      ],
      "metadata": {
        "id": "VMyCCZmXQYm9",
        "outputId": "3d53f52b-6279-4620-932c-e9381d9421f5",
        "colab": {
          "base_uri": "https://localhost:8080/"
        }
      },
      "execution_count": 21,
      "outputs": [
        {
          "output_type": "stream",
          "name": "stdout",
          "text": [
            "Prediction: 9\n",
            "35.19352078437805\n",
            "Truth: 9\n"
          ]
        }
      ]
    }
  ],
  "metadata": {
    "accelerator": "GPU",
    "colab": {
      "machine_shape": "hm",
      "name": "CSCE_636_HW04_Sol.ipynb",
      "provenance": []
    },
    "interpreter": {
      "hash": "02de5609ef162b6bcc51dd429fd31b9a1f163c414526741362218fd7f2e354ad"
    },
    "kernelspec": {
      "display_name": "Python 3.9.7 64-bit",
      "language": "python",
      "name": "python3"
    },
    "language_info": {
      "codemirror_mode": {
        "name": "ipython",
        "version": 3
      },
      "file_extension": ".py",
      "mimetype": "text/x-python",
      "name": "python",
      "nbconvert_exporter": "python",
      "pygments_lexer": "ipython3",
      "version": "3.9.7"
    },
    "orig_nbformat": 4
  },
  "nbformat": 4,
  "nbformat_minor": 0
}