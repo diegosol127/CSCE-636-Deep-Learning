{
  "cells": [
    {
      "cell_type": "markdown",
      "metadata": {
        "id": "t_tfeI-D5ljr"
      },
      "source": [
        "# Project 01\n",
        "\n",
        "**Submitted by: Diego Sol**\n",
        "\n",
        "CSCE 636-600: Deep Learning\n",
        "\n",
        "Professor: Dr. Anxiao Jiang"
      ]
    },
    {
      "cell_type": "markdown",
      "source": [
        "Mount Google Drive to this notebook to easily access training data"
      ],
      "metadata": {
        "id": "a3AJEjfnn_cq"
      }
    },
    {
      "cell_type": "code",
      "source": [
        "from google.colab import drive\n",
        "drive.mount('/content/drive')"
      ],
      "metadata": {
        "colab": {
          "base_uri": "https://localhost:8080/"
        },
        "id": "cULh3hNhoV4r",
        "outputId": "2241078f-e122-4754-83f2-d963d3df6885"
      },
      "execution_count": 1,
      "outputs": [
        {
          "output_type": "stream",
          "name": "stdout",
          "text": [
            "Mounted at /content/drive\n"
          ]
        }
      ]
    },
    {
      "cell_type": "markdown",
      "source": [
        "Import packages"
      ],
      "metadata": {
        "id": "RJPLra2ZJ1hF"
      }
    },
    {
      "cell_type": "code",
      "source": [
        "import pickle\n",
        "import numpy as np\n",
        "import matplotlib.pyplot as plt\n",
        "import tensorflow as tf\n",
        "from tensorflow import keras\n",
        "from tensorflow.keras import layers"
      ],
      "metadata": {
        "id": "-72cuX2wJzxC"
      },
      "execution_count": 2,
      "outputs": []
    },
    {
      "cell_type": "markdown",
      "source": [
        "Download training images and labels"
      ],
      "metadata": {
        "id": "unk0YCjqsBO4"
      }
    },
    {
      "cell_type": "code",
      "source": [
        "all_images = pickle.load(open('/content/drive/MyDrive/Colab Notebooks/CSCE_636_Project_1/636_project1_train_images', 'rb'))\n",
        "all_labels = pickle.load(open('/content/drive/MyDrive/Colab Notebooks/CSCE_636_Project_1/636_project1_train_labels', 'rb'))"
      ],
      "metadata": {
        "id": "VWM2jK5GpKxT"
      },
      "execution_count": 3,
      "outputs": []
    },
    {
      "cell_type": "markdown",
      "source": [
        "Split the data into training and validation sets"
      ],
      "metadata": {
        "id": "vVzKRyvwu-KL"
      }
    },
    {
      "cell_type": "code",
      "source": [
        "data_split = 50000\n",
        "\n",
        "train_images = all_images[:data_split,:,:]\n",
        "train_labels = all_labels[:data_split,]\n",
        "\n",
        "test_images = all_images[data_split:,:,:]\n",
        "test_labels = all_labels[data_split:,]"
      ],
      "metadata": {
        "id": "zoV8Kv7WtgyK"
      },
      "execution_count": 4,
      "outputs": []
    },
    {
      "cell_type": "code",
      "source": [
        "data_augmentation = keras.Sequential(\n",
        "    [\n",
        "        layers.RandomRotation(0.1),\n",
        "        layers.RandomZoom(0.2),\n",
        "    ]\n",
        ")\n",
        "\n",
        "data_augmentation.build(input_shape=(28,28))\n",
        "data_augmentation.summary()"
      ],
      "metadata": {
        "id": "wS_3D4cfontg",
        "outputId": "77f1a7cb-d472-4590-f6dc-a5f1ff4592d1",
        "colab": {
          "base_uri": "https://localhost:8080/"
        }
      },
      "execution_count": 219,
      "outputs": [
        {
          "output_type": "stream",
          "name": "stdout",
          "text": [
            "Model: \"sequential_22\"\n",
            "_________________________________________________________________\n",
            " Layer (type)                Output Shape              Param #   \n",
            "=================================================================\n",
            " random_rotation_16 (RandomR  (28, 28)                 0         \n",
            " otation)                                                        \n",
            "                                                                 \n",
            " random_zoom_16 (RandomZoom)  (28, 28)                 0         \n",
            "                                                                 \n",
            "=================================================================\n",
            "Total params: 0\n",
            "Trainable params: 0\n",
            "Non-trainable params: 0\n",
            "_________________________________________________________________\n"
          ]
        }
      ]
    },
    {
      "cell_type": "markdown",
      "source": [
        "Create a function to build the mask model and predictive model"
      ],
      "metadata": {
        "id": "ryOnmJnukTZp"
      }
    },
    {
      "cell_type": "code",
      "source": [
        "def build_model():\n",
        "  inputs = keras.Input(shape=(28, 28, 1))\n",
        "  x = data_augmentation(inputs)\n",
        "  x = layers.Rescaling(1./255)(inputs)\n",
        "\n",
        "  # convolutional and  max pooling layers\n",
        "  x = layers.Conv2D(32, 3, activation=\"relu\")(x)\n",
        "  x = layers.MaxPooling2D(pool_size=2)(x)\n",
        "  x = layers.Conv2D(64, 3, activation=\"relu\")(x)\n",
        "  x = layers.MaxPooling2D(pool_size=2)(x)\n",
        "\n",
        "  x = layers.Flatten()(x)\n",
        "  x = layers.Dropout(0.5)(x)\n",
        "\n",
        "  outputs = layers.Dense(10, activation=\"softmax\")(x)\n",
        "\n",
        "  model = keras.Model(inputs=inputs, outputs=outputs)\n",
        "\n",
        "  model.compile(optimizer=\"rmsprop\",\n",
        "              loss=\"sparse_categorical_crossentropy\",\n",
        "              metrics=[\"accuracy\"])\n",
        "\n",
        "  return model"
      ],
      "metadata": {
        "id": "tT3ItH8w_eY_"
      },
      "execution_count": 221,
      "outputs": []
    },
    {
      "cell_type": "code",
      "source": [
        "model = build_model()\n",
        "model.summary()\n",
        "# keras.utils.plot_model(model, show_shapes=True, to_file=\"simple_convnet.png\")"
      ],
      "metadata": {
        "id": "xhFjGo7Zf-RY",
        "outputId": "9e0ee788-59fa-4834-eedf-325bcff08fce",
        "colab": {
          "base_uri": "https://localhost:8080/"
        }
      },
      "execution_count": 222,
      "outputs": [
        {
          "output_type": "stream",
          "name": "stdout",
          "text": [
            "WARNING:tensorflow:Model was constructed with shape (28, 28) for input KerasTensor(type_spec=TensorSpec(shape=(28, 28), dtype=tf.float32, name='random_rotation_16_input'), name='random_rotation_16_input', description=\"created by layer 'random_rotation_16_input'\"), but it was called on an input with incompatible shape (None, 28, 28, 1).\n",
            "Model: \"model_28\"\n",
            "_________________________________________________________________\n",
            " Layer (type)                Output Shape              Param #   \n",
            "=================================================================\n",
            " input_32 (InputLayer)       [(None, 28, 28, 1)]       0         \n",
            "                                                                 \n",
            " rescaling_31 (Rescaling)    (None, 28, 28, 1)         0         \n",
            "                                                                 \n",
            " conv2d_112 (Conv2D)         (None, 26, 26, 32)        320       \n",
            "                                                                 \n",
            " max_pooling2d_40 (MaxPoolin  (None, 13, 13, 32)       0         \n",
            " g2D)                                                            \n",
            "                                                                 \n",
            " conv2d_113 (Conv2D)         (None, 11, 11, 64)        18496     \n",
            "                                                                 \n",
            " max_pooling2d_41 (MaxPoolin  (None, 5, 5, 64)         0         \n",
            " g2D)                                                            \n",
            "                                                                 \n",
            " flatten_22 (Flatten)        (None, 1600)              0         \n",
            "                                                                 \n",
            " dropout_22 (Dropout)        (None, 1600)              0         \n",
            "                                                                 \n",
            " dense_27 (Dense)            (None, 10)                16010     \n",
            "                                                                 \n",
            "=================================================================\n",
            "Total params: 34,826\n",
            "Trainable params: 34,826\n",
            "Non-trainable params: 0\n",
            "_________________________________________________________________\n"
          ]
        }
      ]
    },
    {
      "cell_type": "code",
      "source": [
        "original_image = train_images[0]\n",
        "augmented_image = data_augmentation(original_image)\n",
        "\n",
        "plt.figure()\n",
        "plt.imshow(original_image.numpy().astype(\"uint8\"))\n",
        "\n",
        "plt.figure()\n",
        "plt.imshow(augmented_image.numpy().astype(\"uint8\"))"
      ],
      "metadata": {
        "id": "WAQOaLXf4yyi",
        "outputId": "04c8b011-f163-414d-c411-f571d74f784c",
        "colab": {
          "base_uri": "https://localhost:8080/",
          "height": 530
        }
      },
      "execution_count": 223,
      "outputs": [
        {
          "output_type": "execute_result",
          "data": {
            "text/plain": [
              "<matplotlib.image.AxesImage at 0x7f8f21064550>"
            ]
          },
          "metadata": {},
          "execution_count": 223
        },
        {
          "output_type": "display_data",
          "data": {
            "text/plain": [
              "<Figure size 432x288 with 1 Axes>"
            ],
            "image/png": "[encoded data removed]"
          },
          "metadata": {
            "needs_background": "light"
          }
        },
        {
          "output_type": "display_data",
          "data": {
            "text/plain": [
              "<Figure size 432x288 with 1 Axes>"
            ],
            "image/png": "[encoded data removed]"
          },
          "metadata": {
            "needs_background": "light"
          }
        }
      ]
    },
    {
      "cell_type": "code",
      "source": [
        "callbacks_list = [\n",
        "                  keras.callbacks.ModelCheckpoint(\n",
        "                      filepath=\"noisy_MNIST_convnet.keras\",\n",
        "                      monitor=\"val_loss\",\n",
        "                      save_best_only=True\n",
        "                  )]"
      ],
      "metadata": {
        "id": "B67g7SluF28O"
      },
      "execution_count": 224,
      "outputs": []
    },
    {
      "cell_type": "code",
      "source": [
        "history = model.fit(train_images,\n",
        "                    train_labels,\n",
        "                    epochs=50,\n",
        "                    validation_split=0.4,\n",
        "                    batch_size=32,\n",
        "                    callbacks=callbacks_list)"
      ],
      "metadata": {
        "id": "9pQhN5nhdMmQ",
        "outputId": "ff57896e-8431-44a5-dbcf-a4969e8309af",
        "colab": {
          "base_uri": "https://localhost:8080/"
        }
      },
      "execution_count": 225,
      "outputs": [
        {
          "output_type": "stream",
          "name": "stdout",
          "text": [
            "Epoch 1/50\n",
            "938/938 [==============================] - 13s 12ms/step - loss: 2.1779 - accuracy: 0.1988 - val_loss: 1.9746 - val_accuracy: 0.2952\n",
            "Epoch 2/50\n",
            "938/938 [==============================] - 11s 12ms/step - loss: 1.8817 - accuracy: 0.3389 - val_loss: 1.6891 - val_accuracy: 0.4240\n",
            "Epoch 3/50\n",
            "938/938 [==============================] - 11s 11ms/step - loss: 1.6519 - accuracy: 0.4274 - val_loss: 1.4996 - val_accuracy: 0.4877\n",
            "Epoch 4/50\n",
            "938/938 [==============================] - 11s 12ms/step - loss: 1.5238 - accuracy: 0.4773 - val_loss: 1.4271 - val_accuracy: 0.5166\n",
            "Epoch 5/50\n",
            "938/938 [==============================] - 10s 11ms/step - loss: 1.4511 - accuracy: 0.5040 - val_loss: 1.3470 - val_accuracy: 0.5417\n",
            "Epoch 6/50\n",
            "938/938 [==============================] - 9s 10ms/step - loss: 1.4051 - accuracy: 0.5170 - val_loss: 1.3432 - val_accuracy: 0.5469\n",
            "Epoch 7/50\n",
            "938/938 [==============================] - 8s 9ms/step - loss: 1.3728 - accuracy: 0.5290 - val_loss: 1.2717 - val_accuracy: 0.5613\n",
            "Epoch 8/50\n",
            "938/938 [==============================] - 11s 11ms/step - loss: 1.3397 - accuracy: 0.5440 - val_loss: 1.2691 - val_accuracy: 0.5771\n",
            "Epoch 9/50\n",
            "938/938 [==============================] - 10s 10ms/step - loss: 1.3189 - accuracy: 0.5497 - val_loss: 1.2599 - val_accuracy: 0.5788\n",
            "Epoch 10/50\n",
            "938/938 [==============================] - 10s 10ms/step - loss: 1.2910 - accuracy: 0.5606 - val_loss: 1.2346 - val_accuracy: 0.5839\n",
            "Epoch 11/50\n",
            "938/938 [==============================] - 10s 10ms/step - loss: 1.2673 - accuracy: 0.5693 - val_loss: 1.2029 - val_accuracy: 0.5908\n",
            "Epoch 12/50\n",
            "938/938 [==============================] - 10s 10ms/step - loss: 1.2499 - accuracy: 0.5750 - val_loss: 1.1962 - val_accuracy: 0.5979\n",
            "Epoch 13/50\n",
            "938/938 [==============================] - 9s 10ms/step - loss: 1.2382 - accuracy: 0.5807 - val_loss: 1.2069 - val_accuracy: 0.6084\n",
            "Epoch 14/50\n",
            "938/938 [==============================] - 9s 9ms/step - loss: 1.2192 - accuracy: 0.5850 - val_loss: 1.2255 - val_accuracy: 0.5818\n",
            "Epoch 15/50\n",
            "938/938 [==============================] - 10s 11ms/step - loss: 1.2061 - accuracy: 0.5891 - val_loss: 1.1485 - val_accuracy: 0.6074\n",
            "Epoch 16/50\n",
            "938/938 [==============================] - 8s 8ms/step - loss: 1.1982 - accuracy: 0.5906 - val_loss: 1.1628 - val_accuracy: 0.6126\n",
            "Epoch 17/50\n",
            "938/938 [==============================] - 11s 11ms/step - loss: 1.1870 - accuracy: 0.5986 - val_loss: 1.1754 - val_accuracy: 0.6019\n",
            "Epoch 18/50\n",
            "938/938 [==============================] - 9s 9ms/step - loss: 1.1765 - accuracy: 0.6008 - val_loss: 1.1413 - val_accuracy: 0.6136\n",
            "Epoch 19/50\n",
            "938/938 [==============================] - 9s 10ms/step - loss: 1.1692 - accuracy: 0.6030 - val_loss: 1.1835 - val_accuracy: 0.5987\n",
            "Epoch 20/50\n",
            "938/938 [==============================] - 11s 11ms/step - loss: 1.1577 - accuracy: 0.6090 - val_loss: 1.1119 - val_accuracy: 0.6190\n",
            "Epoch 21/50\n",
            "938/938 [==============================] - 9s 10ms/step - loss: 1.1497 - accuracy: 0.6078 - val_loss: 1.1263 - val_accuracy: 0.6178\n",
            "Epoch 22/50\n",
            "938/938 [==============================] - 11s 11ms/step - loss: 1.1442 - accuracy: 0.6116 - val_loss: 1.1379 - val_accuracy: 0.6209\n",
            "Epoch 23/50\n",
            "938/938 [==============================] - 10s 10ms/step - loss: 1.1374 - accuracy: 0.6137 - val_loss: 1.1487 - val_accuracy: 0.6166\n",
            "Epoch 24/50\n",
            "938/938 [==============================] - 9s 9ms/step - loss: 1.1273 - accuracy: 0.6142 - val_loss: 1.1088 - val_accuracy: 0.6215\n",
            "Epoch 25/50\n",
            "938/938 [==============================] - 10s 11ms/step - loss: 1.1210 - accuracy: 0.6193 - val_loss: 1.1230 - val_accuracy: 0.6195\n",
            "Epoch 26/50\n",
            "938/938 [==============================] - 10s 10ms/step - loss: 1.1162 - accuracy: 0.6214 - val_loss: 1.1155 - val_accuracy: 0.6223\n",
            "Epoch 27/50\n",
            "938/938 [==============================] - 11s 11ms/step - loss: 1.1065 - accuracy: 0.6220 - val_loss: 1.1165 - val_accuracy: 0.6191\n",
            "Epoch 28/50\n",
            "938/938 [==============================] - 10s 10ms/step - loss: 1.1002 - accuracy: 0.6255 - val_loss: 1.0960 - val_accuracy: 0.6265\n",
            "Epoch 29/50\n",
            "938/938 [==============================] - 11s 12ms/step - loss: 1.0948 - accuracy: 0.6292 - val_loss: 1.1584 - val_accuracy: 0.6140\n",
            "Epoch 30/50\n",
            "938/938 [==============================] - 11s 12ms/step - loss: 1.0946 - accuracy: 0.6301 - val_loss: 1.1002 - val_accuracy: 0.6248\n",
            "Epoch 31/50\n",
            "938/938 [==============================] - 11s 12ms/step - loss: 1.0872 - accuracy: 0.6310 - val_loss: 1.1068 - val_accuracy: 0.6236\n",
            "Epoch 32/50\n",
            "938/938 [==============================] - 9s 9ms/step - loss: 1.0880 - accuracy: 0.6289 - val_loss: 1.1294 - val_accuracy: 0.6151\n",
            "Epoch 33/50\n",
            "938/938 [==============================] - 9s 10ms/step - loss: 1.0773 - accuracy: 0.6334 - val_loss: 1.1088 - val_accuracy: 0.6269\n",
            "Epoch 34/50\n",
            "938/938 [==============================] - 11s 11ms/step - loss: 1.0717 - accuracy: 0.6336 - val_loss: 1.1045 - val_accuracy: 0.6245\n",
            "Epoch 35/50\n",
            "938/938 [==============================] - 11s 12ms/step - loss: 1.0650 - accuracy: 0.6377 - val_loss: 1.1042 - val_accuracy: 0.6240\n",
            "Epoch 36/50\n",
            "938/938 [==============================] - 10s 10ms/step - loss: 1.0589 - accuracy: 0.6428 - val_loss: 1.1070 - val_accuracy: 0.6227\n",
            "Epoch 37/50\n",
            "938/938 [==============================] - 11s 11ms/step - loss: 1.0615 - accuracy: 0.6407 - val_loss: 1.1049 - val_accuracy: 0.6216\n",
            "Epoch 38/50\n",
            "938/938 [==============================] - 9s 9ms/step - loss: 1.0555 - accuracy: 0.6389 - val_loss: 1.0966 - val_accuracy: 0.6284\n",
            "Epoch 39/50\n",
            "938/938 [==============================] - 10s 10ms/step - loss: 1.0440 - accuracy: 0.6440 - val_loss: 1.1155 - val_accuracy: 0.6205\n",
            "Epoch 40/50\n",
            "938/938 [==============================] - 10s 10ms/step - loss: 1.0396 - accuracy: 0.6463 - val_loss: 1.1265 - val_accuracy: 0.6215\n",
            "Epoch 41/50\n",
            "938/938 [==============================] - 10s 11ms/step - loss: 1.0399 - accuracy: 0.6478 - val_loss: 1.1177 - val_accuracy: 0.6249\n",
            "Epoch 42/50\n",
            "938/938 [==============================] - 9s 10ms/step - loss: 1.0296 - accuracy: 0.6483 - val_loss: 1.1101 - val_accuracy: 0.6212\n",
            "Epoch 43/50\n",
            "938/938 [==============================] - 8s 9ms/step - loss: 1.0353 - accuracy: 0.6454 - val_loss: 1.1128 - val_accuracy: 0.6207\n",
            "Epoch 44/50\n",
            "938/938 [==============================] - 10s 11ms/step - loss: 1.0318 - accuracy: 0.6493 - val_loss: 1.1299 - val_accuracy: 0.6231\n",
            "Epoch 45/50\n",
            "938/938 [==============================] - 7s 7ms/step - loss: 1.0321 - accuracy: 0.6491 - val_loss: 1.1432 - val_accuracy: 0.6130\n",
            "Epoch 46/50\n",
            "938/938 [==============================] - 10s 11ms/step - loss: 1.0217 - accuracy: 0.6526 - val_loss: 1.1253 - val_accuracy: 0.6273\n",
            "Epoch 47/50\n",
            "938/938 [==============================] - 10s 10ms/step - loss: 1.0227 - accuracy: 0.6530 - val_loss: 1.1181 - val_accuracy: 0.6241\n",
            "Epoch 48/50\n",
            "938/938 [==============================] - 10s 10ms/step - loss: 1.0225 - accuracy: 0.6514 - val_loss: 1.1049 - val_accuracy: 0.6223\n",
            "Epoch 49/50\n",
            "938/938 [==============================] - 10s 11ms/step - loss: 1.0131 - accuracy: 0.6568 - val_loss: 1.1431 - val_accuracy: 0.6205\n",
            "Epoch 50/50\n",
            "938/938 [==============================] - 8s 9ms/step - loss: 1.0126 - accuracy: 0.6536 - val_loss: 1.1209 - val_accuracy: 0.6248\n"
          ]
        }
      ]
    },
    {
      "cell_type": "code",
      "source": [
        "# history data\n",
        "history_dict = history.history\n",
        "\n",
        "# training metric history\n",
        "train_loss_values = history_dict[\"loss\"]\n",
        "train_acc_values = history_dict[\"accuracy\"]\n",
        "\n",
        "# validation metric history\n",
        "val_loss_values = history_dict[\"val_loss\"]\n",
        "val_acc_values = history_dict[\"val_accuracy\"]\n",
        "\n",
        "# epochs\n",
        "epochs = range(1, len(train_loss_values) + 1)"
      ],
      "metadata": {
        "id": "KTRInr0RNl5o"
      },
      "execution_count": 226,
      "outputs": []
    },
    {
      "cell_type": "code",
      "source": [
        "# create figure for training data\n",
        "fig3, ax3 = plt.subplots()\n",
        "\n",
        "# plot\n",
        "ax3.plot(epochs, train_loss_values, \"bo\", label=\"Training Loss\")\n",
        "ax3.plot(epochs, val_loss_values, \"b\", label=\"Validation Loss\")\n",
        "ax3.set_title(\"Training and Validation Loss\")\n",
        "ax3.set_xlabel(\"Epochs\")\n",
        "ax3.set_ylabel(\"Loss\")\n",
        "ax3.legend()\n",
        "plt.show()"
      ],
      "metadata": {
        "colab": {
          "base_uri": "https://localhost:8080/",
          "height": 295
        },
        "id": "TINBbExAOV0P",
        "outputId": "9ce45506-05aa-4efd-d9db-faf0556846ed"
      },
      "execution_count": 227,
      "outputs": [
        {
          "output_type": "display_data",
          "data": {
            "text/plain": [
              "<Figure size 432x288 with 1 Axes>"
            ],
            "image/png": "[encoded data removed]"
          },
          "metadata": {
            "needs_background": "light"
          }
        }
      ]
    },
    {
      "cell_type": "code",
      "source": [
        "# create figure for training data\n",
        "fig4, ax4 = plt.subplots()\n",
        "\n",
        "# plot\n",
        "ax4.plot(epochs, train_acc_values, \"bo\", label=\"Training Accuracy\")\n",
        "ax4.plot(epochs, val_acc_values, \"b\", label=\"Validation Accuracy\")\n",
        "ax4.set_title(\"Training and Accuracy Loss\")\n",
        "ax4.set_xlabel(\"Epochs\")\n",
        "ax4.set_ylabel(\"Accuracy\")\n",
        "ax4.legend()\n",
        "plt.show()"
      ],
      "metadata": {
        "colab": {
          "base_uri": "https://localhost:8080/",
          "height": 295
        },
        "id": "4Hof-UfuOZn2",
        "outputId": "1eafc10c-5ea2-4c04-9ce1-5bf2ce40dae7"
      },
      "execution_count": 228,
      "outputs": [
        {
          "output_type": "display_data",
          "data": {
            "text/plain": [
              "<Figure size 432x288 with 1 Axes>"
            ],
            "image/png": "[encoded data removed]"
          },
          "metadata": {
            "needs_background": "light"
          }
        }
      ]
    },
    {
      "cell_type": "code",
      "source": [
        "# print final results\n",
        "results = model.evaluate(test_images, test_labels)\n",
        "print(f'Network loss:     {results[0]}')\n",
        "print(f'Network accuracy: {results[1]}')"
      ],
      "metadata": {
        "id": "I6DFduLJPsOU",
        "outputId": "c08f4db0-2d6a-4d80-b0cd-d67e44dac3f5",
        "colab": {
          "base_uri": "https://localhost:8080/"
        }
      },
      "execution_count": 229,
      "outputs": [
        {
          "output_type": "stream",
          "name": "stdout",
          "text": [
            "313/313 [==============================] - 2s 5ms/step - loss: 1.1298 - accuracy: 0.6144\n",
            "Network loss:     1.1298027038574219\n",
            "Network accuracy: 0.6144000291824341\n"
          ]
        }
      ]
    },
    {
      "cell_type": "code",
      "source": [
        "predictions = model.predict(test_images)"
      ],
      "metadata": {
        "id": "AA4sk0F9QGOH"
      },
      "execution_count": 230,
      "outputs": []
    },
    {
      "cell_type": "code",
      "source": [
        "for idx in range(10):\n",
        "\n",
        "  print('Prediction: %i' % predictions[idx].argmax())\n",
        "  print(predictions[idx][predictions[idx].argmax()]*100)\n",
        "\n",
        "  tf.print('Truth: %i\\n' % test_labels[idx])"
      ],
      "metadata": {
        "id": "VMyCCZmXQYm9",
        "outputId": "701d803e-d29d-4b00-97ff-63144d2b48eb",
        "colab": {
          "base_uri": "https://localhost:8080/"
        }
      },
      "execution_count": 231,
      "outputs": [
        {
          "output_type": "stream",
          "name": "stdout",
          "text": [
            "Prediction: 1\n",
            "70.19960284233093\n",
            "Truth: 9\n",
            "\n",
            "Prediction: 5\n",
            "22.568653523921967\n",
            "Truth: 1\n",
            "\n",
            "Prediction: 1\n",
            "51.696908473968506\n",
            "Truth: 9\n",
            "\n",
            "Prediction: 0\n",
            "83.13740491867065\n",
            "Truth: 0\n",
            "\n",
            "Prediction: 0\n",
            "76.10774636268616\n",
            "Truth: 4\n",
            "\n",
            "Prediction: 9\n",
            "49.634477496147156\n",
            "Truth: 4\n",
            "\n",
            "Prediction: 0\n",
            "99.832683801651\n",
            "Truth: 2\n",
            "\n",
            "Prediction: 2\n",
            "51.832592487335205\n",
            "Truth: 5\n",
            "\n",
            "Prediction: 3\n",
            "59.31263566017151\n",
            "Truth: 3\n",
            "\n",
            "Prediction: 7\n",
            "49.120694398880005\n",
            "Truth: 9\n",
            "\n"
          ]
        }
      ]
    }
  ],
  "metadata": {
    "accelerator": "GPU",
    "colab": {
      "machine_shape": "hm",
      "name": "CSCE_636_HW04_Sol.ipynb",
      "provenance": []
    },
    "interpreter": {
      "hash": "02de5609ef162b6bcc51dd429fd31b9a1f163c414526741362218fd7f2e354ad"
    },
    "kernelspec": {
      "display_name": "Python 3.9.7 64-bit",
      "language": "python",
      "name": "python3"
    },
    "language_info": {
      "codemirror_mode": {
        "name": "ipython",
        "version": 3
      },
      "file_extension": ".py",
      "mimetype": "text/x-python",
      "name": "python",
      "nbconvert_exporter": "python",
      "pygments_lexer": "ipython3",
      "version": "3.9.7"
    },
    "orig_nbformat": 4
  },
  "nbformat": 4,
  "nbformat_minor": 0
}