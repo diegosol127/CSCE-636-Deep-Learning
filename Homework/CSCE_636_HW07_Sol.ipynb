{
  "cells": [
    {
      "cell_type": "markdown",
      "metadata": {
        "id": "t_tfeI-D5ljr"
      },
      "source": [
        "# Project 02\n",
        "\n",
        "**Submitted by: Diego Sol**\n",
        "\n",
        "CSCE 636-600: Deep Learning\n",
        "\n",
        "Professor: Dr. Anxiao Jiang\n",
        "\n",
        "----------------\n",
        "\n",
        "**This project is on machine translation for two \"artificial\" languages: an \"Input Language\" and an \"Output Language\". We want to build a model to translate the texts in the \"Input Language\" to texts in the \"Output Language\". For example, a text in the \"Input Language\" can be \"a g b f a f a e a k a j c f b f c d a k a k c e b g a h a k b d b f b f b d c d \" , and its translation to the \"Output Language\" is \"b f c f b f c d a j e f g c e b g a k i j b d b f a k l m b f b d a h ed ee ef a k k eg a k h eh a e ei c d a f ej ek a g d el\".**"
      ]
    },
    {
      "cell_type": "markdown",
      "metadata": {
        "id": "G5MzwW8qy2rX"
      },
      "source": [
        "# Initialization\n",
        "\n",
        "**This section includes mounting the session to Google Drive, importing necessary libraries to run the file, and downloading and reformatting the training datasets.**"
      ]
    },
    {
      "cell_type": "markdown",
      "metadata": {
        "id": "a3AJEjfnn_cq"
      },
      "source": [
        "## Mount Colab"
      ]
    },
    {
      "cell_type": "code",
      "execution_count": 1,
      "metadata": {
        "colab": {
          "base_uri": "https://localhost:8080/"
        },
        "id": "cULh3hNhoV4r",
        "outputId": "25840d7e-5504-4a55-fb2a-7af0a3136cf7"
      },
      "outputs": [
        {
          "output_type": "stream",
          "name": "stdout",
          "text": [
            "Mounted at /content/drive\n"
          ]
        }
      ],
      "source": [
        "from google.colab import drive\n",
        "drive.mount('/content/drive')"
      ]
    },
    {
      "cell_type": "markdown",
      "metadata": {
        "id": "RJPLra2ZJ1hF"
      },
      "source": [
        "## Import Libraries"
      ]
    },
    {
      "cell_type": "code",
      "execution_count": 2,
      "metadata": {
        "id": "-72cuX2wJzxC"
      },
      "outputs": [],
      "source": [
        "import pickle\n",
        "import tensorflow as tf\n",
        "import numpy as np\n",
        "\n",
        "from tensorflow import keras\n",
        "from tensorflow.keras import layers\n",
        "from matplotlib import pyplot as plt\n",
        "\n",
        "rng = np.random.default_rng()"
      ]
    },
    {
      "cell_type": "markdown",
      "metadata": {
        "id": "unk0YCjqsBO4"
      },
      "source": [
        "## Import Data\n",
        "\n",
        "Download training inputs and outputs."
      ]
    },
    {
      "cell_type": "code",
      "execution_count": 3,
      "metadata": {
        "id": "VWM2jK5GpKxT"
      },
      "outputs": [],
      "source": [
        "train_input = pickle.load(open('/content/drive/MyDrive/Colab Notebooks/CSCE_636_Project_2/DS_5_train_input', 'rb'))\n",
        "train_output = pickle.load(open('/content/drive/MyDrive/Colab Notebooks/CSCE_636_Project_2/DS_5_train_output', 'rb'))"
      ]
    },
    {
      "cell_type": "markdown",
      "source": [
        "## Vectorize Data\n",
        "\n",
        "Convert strings of word elements into an integer token vector that indexes the word elements from the defined library of words."
      ],
      "metadata": {
        "id": "MBQGgIxDbYV3"
      }
    },
    {
      "cell_type": "code",
      "source": [
        "def vectorize_data(train_input,train_output):\n",
        "\n",
        "  train_output_start = []\n",
        "  train_output_end = []\n",
        "\n",
        "  for i in range(0,len(train_output)):\n",
        "    train_output_start.append(\"start \" + train_output[i])\n",
        "    train_output_end.append(train_output[i]+\"end\")\n",
        "    train_output[i] = \"start \" + train_output[i] + \"end\"\n",
        "\n",
        "  source_vectorization = layers.TextVectorization(output_sequence_length=200)\n",
        "  target_vectorization = layers.TextVectorization(output_sequence_length=200)\n",
        "  source_vectorization.adapt(train_input)\n",
        "  target_vectorization.adapt(train_output)\n",
        "\n",
        "  train_input = source_vectorization(train_input)\n",
        "  train_output = target_vectorization(train_output)\n",
        "  train_output_end = target_vectorization(train_output_end)\n",
        "  train_output_start = target_vectorization(train_output_start)\n",
        "\n",
        "  return train_input, train_output, train_output_end, train_output_start"
      ],
      "metadata": {
        "id": "EYNqvMk4ZqMH"
      },
      "execution_count": 4,
      "outputs": []
    },
    {
      "cell_type": "code",
      "source": [
        "train_input, train_output, train_output_end, train_output_start = vectorize_data(train_input,train_output)"
      ],
      "metadata": {
        "id": "jDlqmJwgZv7j"
      },
      "execution_count": 5,
      "outputs": []
    },
    {
      "cell_type": "markdown",
      "source": [
        "# Transformer Model"
      ],
      "metadata": {
        "id": "P-C8-3sTbj_e"
      }
    },
    {
      "cell_type": "markdown",
      "source": [
        "## Encoder"
      ],
      "metadata": {
        "id": "BdoFpTW4Fqm5"
      }
    },
    {
      "cell_type": "code",
      "source": [
        "class TransformerEncoder(layers.Layer):\n",
        "    def __init__(self, embed_dim, dense_dim, num_heads, **kwargs):\n",
        "        super().__init__(**kwargs)\n",
        "        self.embed_dim = embed_dim\n",
        "        self.dense_dim = dense_dim\n",
        "        self.num_heads = num_heads\n",
        "        self.attention = layers.MultiHeadAttention(\n",
        "            num_heads=num_heads, key_dim=embed_dim)\n",
        "        self.dense_proj = keras.Sequential(\n",
        "            [layers.Dense(dense_dim, activation=\"relu\"),\n",
        "             layers.Dense(embed_dim),]\n",
        "        )\n",
        "        self.layernorm_1 = layers.LayerNormalization()\n",
        "        self.layernorm_2 = layers.LayerNormalization()\n",
        "\n",
        "    def call(self, inputs, mask=None):\n",
        "        if mask is not None:\n",
        "            mask = mask[:, tf.newaxis, :]\n",
        "        attention_output = self.attention(\n",
        "            inputs, inputs, attention_mask=mask)\n",
        "        proj_input = self.layernorm_1(inputs + attention_output)\n",
        "        proj_output = self.dense_proj(proj_input)\n",
        "        return self.layernorm_2(proj_input + proj_output)\n",
        "\n",
        "    def get_config(self):\n",
        "        config = super().get_config()\n",
        "        config.update({\n",
        "            \"embed_dim\": self.embed_dim,\n",
        "            \"num_heads\": self.num_heads,\n",
        "            \"dense_dim\": self.dense_dim,\n",
        "        })\n",
        "        return config"
      ],
      "metadata": {
        "id": "EpiKXUN7EzNY"
      },
      "execution_count": 6,
      "outputs": []
    },
    {
      "cell_type": "markdown",
      "source": [
        "## Decoder"
      ],
      "metadata": {
        "id": "m3nDrGToSRQc"
      }
    },
    {
      "cell_type": "code",
      "source": [
        "class TransformerDecoder(layers.Layer):\n",
        "    def __init__(self, embed_dim, dense_dim, num_heads, **kwargs):\n",
        "        super().__init__(**kwargs)\n",
        "        self.embed_dim = embed_dim\n",
        "        self.dense_dim = dense_dim\n",
        "        self.num_heads = num_heads\n",
        "        self.attention_1 = layers.MultiHeadAttention(\n",
        "            num_heads=num_heads, key_dim=embed_dim)\n",
        "        self.attention_2 = layers.MultiHeadAttention(\n",
        "            num_heads=num_heads, key_dim=embed_dim)\n",
        "        self.dense_proj = keras.Sequential(\n",
        "            [layers.Dense(dense_dim, activation=\"relu\"),\n",
        "             layers.Dense(embed_dim),]\n",
        "        )\n",
        "        self.layernorm_1 = layers.LayerNormalization()\n",
        "        self.layernorm_2 = layers.LayerNormalization()\n",
        "        self.layernorm_3 = layers.LayerNormalization()\n",
        "        self.supports_masking = True\n",
        "\n",
        "    def get_config(self):\n",
        "        config = super().get_config()\n",
        "        config.update({\n",
        "            \"embed_dim\": self.embed_dim,\n",
        "            \"num_heads\": self.num_heads,\n",
        "            \"dense_dim\": self.dense_dim,\n",
        "        })\n",
        "        return config\n",
        "\n",
        "    def get_causal_attention_mask(self, inputs):\n",
        "        input_shape = tf.shape(inputs)\n",
        "        batch_size, sequence_length = input_shape[0], input_shape[1]\n",
        "        i = tf.range(sequence_length)[:, tf.newaxis]\n",
        "        j = tf.range(sequence_length)\n",
        "        mask = tf.cast(i >= j, dtype=\"int32\")\n",
        "        mask = tf.reshape(mask, (1, input_shape[1], input_shape[1]))\n",
        "        mult = tf.concat(\n",
        "            [tf.expand_dims(batch_size, -1),\n",
        "             tf.constant([1, 1], dtype=tf.int32)], axis=0)\n",
        "        return tf.tile(mask, mult)\n",
        "\n",
        "    def call(self, inputs, encoder_outputs, mask=None):\n",
        "        causal_mask = self.get_causal_attention_mask(inputs)\n",
        "        if mask is not None:\n",
        "            padding_mask = tf.cast(\n",
        "                mask[:, tf.newaxis, :], dtype=\"int32\")\n",
        "            padding_mask = tf.minimum(padding_mask, causal_mask)\n",
        "        attention_output_1 = self.attention_1(\n",
        "            query=inputs,\n",
        "            value=inputs,\n",
        "            key=inputs,\n",
        "            attention_mask=causal_mask)\n",
        "        attention_output_1 = self.layernorm_1(inputs + attention_output_1)\n",
        "        attention_output_2 = self.attention_2(\n",
        "            query=attention_output_1,\n",
        "            value=encoder_outputs,\n",
        "            key=encoder_outputs,\n",
        "            attention_mask=padding_mask,\n",
        "        )\n",
        "        attention_output_2 = self.layernorm_2(\n",
        "            attention_output_1 + attention_output_2)\n",
        "        proj_output = self.dense_proj(attention_output_2)\n",
        "        return self.layernorm_3(attention_output_2 + proj_output)"
      ],
      "metadata": {
        "id": "QVUFNr-kSHSd"
      },
      "execution_count": 7,
      "outputs": []
    },
    {
      "cell_type": "markdown",
      "source": [
        "## Positional Embedding"
      ],
      "metadata": {
        "id": "oPzBDP2qSTQV"
      }
    },
    {
      "cell_type": "code",
      "source": [
        "class PositionalEmbedding(layers.Layer):\n",
        "    def __init__(self, sequence_length, input_dim, output_dim, **kwargs):\n",
        "        super().__init__(**kwargs)\n",
        "        self.token_embeddings = layers.Embedding(\n",
        "            input_dim=input_dim, output_dim=output_dim)\n",
        "        self.position_embeddings = layers.Embedding(\n",
        "            input_dim=sequence_length, output_dim=output_dim)\n",
        "        self.sequence_length = sequence_length\n",
        "        self.input_dim = input_dim\n",
        "        self.output_dim = output_dim\n",
        "\n",
        "    def call(self, inputs):\n",
        "        length = tf.shape(inputs)[-1]\n",
        "        positions = tf.range(start=0, limit=length, delta=1)\n",
        "        embedded_tokens = self.token_embeddings(inputs)\n",
        "        embedded_positions = self.position_embeddings(positions)\n",
        "        return embedded_tokens + embedded_positions\n",
        "\n",
        "    def compute_mask(self, inputs, mask=None):\n",
        "        return tf.math.not_equal(inputs, 0)\n",
        "\n",
        "    def get_config(self):\n",
        "        config = super(PositionalEmbedding, self).get_config()\n",
        "        config.update({\n",
        "            \"output_dim\": self.output_dim,\n",
        "            \"sequence_length\": self.sequence_length,\n",
        "            \"input_dim\": self.input_dim,\n",
        "        })\n",
        "        return config"
      ],
      "metadata": {
        "id": "XU2AP3HsStEX"
      },
      "execution_count": 8,
      "outputs": []
    },
    {
      "cell_type": "markdown",
      "source": [
        "## Network Architecture"
      ],
      "metadata": {
        "id": "R08algqMWDUP"
      }
    },
    {
      "cell_type": "code",
      "source": [
        "embed_dim = 256\n",
        "num_heads = 8\n",
        "dense_dim = 1000\n",
        "\n",
        "vocab_size_source = 13\n",
        "vocab_size_output = 38\n",
        "sequence_length = 200\n",
        "\n",
        "encoder_inputs = keras.Input(shape=(None,))\n",
        "x = PositionalEmbedding(sequence_length, vocab_size_source, embed_dim)(encoder_inputs)\n",
        "encoder_outputs = TransformerEncoder(embed_dim, dense_dim, num_heads)(x)\n",
        "\n",
        "decoder_inputs = keras.Input(shape=(None,))\n",
        "x = PositionalEmbedding(sequence_length, vocab_size_output, embed_dim)(decoder_inputs)\n",
        "x = TransformerDecoder(embed_dim, dense_dim, num_heads)(x, encoder_outputs)\n",
        "\n",
        "x = layers.Dropout(0.5)(x)\n",
        "decoder_outputs = layers.Dense(vocab_size_output, activation=\"softmax\")(x)\n",
        "transformer = keras.Model([encoder_inputs, decoder_inputs], decoder_outputs)"
      ],
      "metadata": {
        "id": "QEK4_EcJWC94"
      },
      "execution_count": 9,
      "outputs": []
    },
    {
      "cell_type": "code",
      "source": [
        "transformer.summary()\n",
        "tf.keras.utils.plot_model(transformer, show_shapes=True)"
      ],
      "metadata": {
        "colab": {
          "base_uri": "https://localhost:8080/",
          "height": 1000
        },
        "id": "LAC96WtOyS5u",
        "outputId": "b95b6c8e-f48d-458c-d5de-71b06e63c035"
      },
      "execution_count": 10,
      "outputs": [
        {
          "output_type": "stream",
          "name": "stdout",
          "text": [
            "Model: \"model\"\n",
            "__________________________________________________________________________________________________\n",
            " Layer (type)                   Output Shape         Param #     Connected to                     \n",
            "==================================================================================================\n",
            " input_1 (InputLayer)           [(None, None)]       0           []                               \n",
            "                                                                                                  \n",
            " input_2 (InputLayer)           [(None, None)]       0           []                               \n",
            "                                                                                                  \n",
            " positional_embedding (Position  (None, None, 256)   54528       ['input_1[0][0]']                \n",
            " alEmbedding)                                                                                     \n",
            "                                                                                                  \n",
            " positional_embedding_1 (Positi  (None, None, 256)   60928       ['input_2[0][0]']                \n",
            " onalEmbedding)                                                                                   \n",
            "                                                                                                  \n",
            " transformer_encoder (Transform  (None, None, 256)   2617832     ['positional_embedding[0][0]']   \n",
            " erEncoder)                                                                                       \n",
            "                                                                                                  \n",
            " transformer_decoder (Transform  (None, None, 256)   4721896     ['positional_embedding_1[0][0]', \n",
            " erDecoder)                                                       'transformer_encoder[0][0]']    \n",
            "                                                                                                  \n",
            " dropout (Dropout)              (None, None, 256)    0           ['transformer_decoder[0][0]']    \n",
            "                                                                                                  \n",
            " dense_4 (Dense)                (None, None, 38)     9766        ['dropout[0][0]']                \n",
            "                                                                                                  \n",
            "==================================================================================================\n",
            "Total params: 7,464,950\n",
            "Trainable params: 7,464,950\n",
            "Non-trainable params: 0\n",
            "__________________________________________________________________________________________________\n"
          ]
        },
        {
          "output_type": "execute_result",
          "data": {
            "text/plain": [
              "<IPython.core.display.Image object>"
            ],
            "image/png": "[encoded data removed]"
          },
          "metadata": {},
          "execution_count": 10
        }
      ]
    },
    {
      "cell_type": "markdown",
      "source": [
        "## Compilation"
      ],
      "metadata": {
        "id": "UYGGS46cyZ3l"
      }
    },
    {
      "cell_type": "code",
      "source": [
        "transformer.compile(\n",
        "    optimizer=\"rmsprop\",\n",
        "    loss=\"sparse_categorical_crossentropy\",\n",
        "    metrics=[\"accuracy\"])\n",
        "\n",
        "callbacks = [\n",
        "    keras.callbacks.ModelCheckpoint(\n",
        "        filepath=\"/content/drive/MyDrive/Colab Notebooks/CSCE_636_Project_2/transformer.keras\",\n",
        "        save_best_only=True,\n",
        "        monitor=\"val_loss\"),\n",
        "    keras.callbacks.EarlyStopping(\n",
        "        monitor=\"val_loss\",\n",
        "        patience=10,\n",
        "        verbose=1,\n",
        "        restore_best_weights=True)\n",
        "]\n",
        "\n",
        "history = transformer.fit(x=[train_input,train_output_start],y=train_output_end,epochs=100,batch_size=64,validation_split=.2,callbacks=callbacks)"
      ],
      "metadata": {
        "colab": {
          "base_uri": "https://localhost:8080/"
        },
        "id": "UdsJ9BibyUxa",
        "outputId": "57ec1133-4330-4e95-bce9-8c1f3b181019"
      },
      "execution_count": 11,
      "outputs": [
        {
          "output_type": "stream",
          "name": "stdout",
          "text": [
            "Epoch 1/100\n",
            "63/63 [==============================] - 23s 258ms/step - loss: 1.2153 - accuracy: 0.1146 - val_loss: 0.8381 - val_accuracy: 0.1655\n",
            "Epoch 2/100\n",
            "63/63 [==============================] - 15s 231ms/step - loss: 0.7304 - accuracy: 0.2528 - val_loss: 0.5703 - val_accuracy: 0.3449\n",
            "Epoch 3/100\n",
            "63/63 [==============================] - 15s 232ms/step - loss: 0.6077 - accuracy: 0.3084 - val_loss: 0.5437 - val_accuracy: 0.3362\n",
            "Epoch 4/100\n",
            "63/63 [==============================] - 14s 230ms/step - loss: 0.5568 - accuracy: 0.3445 - val_loss: 0.5143 - val_accuracy: 0.3745\n",
            "Epoch 5/100\n",
            "63/63 [==============================] - 14s 230ms/step - loss: 0.5318 - accuracy: 0.3636 - val_loss: 0.4823 - val_accuracy: 0.4043\n",
            "Epoch 6/100\n",
            "63/63 [==============================] - 14s 220ms/step - loss: 0.5071 - accuracy: 0.3799 - val_loss: 0.4835 - val_accuracy: 0.3940\n",
            "Epoch 7/100\n",
            "63/63 [==============================] - 14s 220ms/step - loss: 0.4932 - accuracy: 0.3924 - val_loss: 0.4833 - val_accuracy: 0.3987\n",
            "Epoch 8/100\n",
            "63/63 [==============================] - 15s 232ms/step - loss: 0.4743 - accuracy: 0.4099 - val_loss: 0.4376 - val_accuracy: 0.4366\n",
            "Epoch 9/100\n",
            "63/63 [==============================] - 14s 221ms/step - loss: 0.4617 - accuracy: 0.4196 - val_loss: 0.4522 - val_accuracy: 0.4336\n",
            "Epoch 10/100\n",
            "63/63 [==============================] - 15s 234ms/step - loss: 0.4479 - accuracy: 0.4307 - val_loss: 0.4170 - val_accuracy: 0.4501\n",
            "Epoch 11/100\n",
            "63/63 [==============================] - 14s 220ms/step - loss: 0.4387 - accuracy: 0.4379 - val_loss: 0.4222 - val_accuracy: 0.4502\n",
            "Epoch 12/100\n",
            "63/63 [==============================] - 14s 222ms/step - loss: 0.4295 - accuracy: 0.4465 - val_loss: 0.4291 - val_accuracy: 0.4398\n",
            "Epoch 13/100\n",
            "63/63 [==============================] - 15s 232ms/step - loss: 0.4142 - accuracy: 0.4602 - val_loss: 0.3773 - val_accuracy: 0.4892\n",
            "Epoch 14/100\n",
            "63/63 [==============================] - 14s 220ms/step - loss: 0.4087 - accuracy: 0.4630 - val_loss: 0.3991 - val_accuracy: 0.4692\n",
            "Epoch 15/100\n",
            "63/63 [==============================] - 14s 220ms/step - loss: 0.3968 - accuracy: 0.4746 - val_loss: 0.4177 - val_accuracy: 0.4521\n",
            "Epoch 16/100\n",
            "63/63 [==============================] - 14s 220ms/step - loss: 0.3942 - accuracy: 0.4801 - val_loss: 0.3798 - val_accuracy: 0.4855\n",
            "Epoch 17/100\n",
            "63/63 [==============================] - 14s 219ms/step - loss: 0.3746 - accuracy: 0.4948 - val_loss: 0.4222 - val_accuracy: 0.4632\n",
            "Epoch 18/100\n",
            "63/63 [==============================] - 14s 230ms/step - loss: 0.3734 - accuracy: 0.4987 - val_loss: 0.3373 - val_accuracy: 0.5320\n",
            "Epoch 19/100\n",
            "63/63 [==============================] - 14s 220ms/step - loss: 0.3594 - accuracy: 0.5126 - val_loss: 0.3560 - val_accuracy: 0.5151\n",
            "Epoch 20/100\n",
            "63/63 [==============================] - 14s 220ms/step - loss: 0.3544 - accuracy: 0.5190 - val_loss: 0.3500 - val_accuracy: 0.5134\n",
            "Epoch 21/100\n",
            "63/63 [==============================] - 15s 232ms/step - loss: 0.3466 - accuracy: 0.5260 - val_loss: 0.3316 - val_accuracy: 0.5371\n",
            "Epoch 22/100\n",
            "63/63 [==============================] - 14s 220ms/step - loss: 0.3362 - accuracy: 0.5363 - val_loss: 0.3407 - val_accuracy: 0.5406\n",
            "Epoch 23/100\n",
            "63/63 [==============================] - 14s 230ms/step - loss: 0.3357 - accuracy: 0.5372 - val_loss: 0.3294 - val_accuracy: 0.5409\n",
            "Epoch 24/100\n",
            "63/63 [==============================] - 14s 220ms/step - loss: 0.3276 - accuracy: 0.5481 - val_loss: 0.3591 - val_accuracy: 0.5217\n",
            "Epoch 25/100\n",
            "63/63 [==============================] - 15s 231ms/step - loss: 0.3222 - accuracy: 0.5557 - val_loss: 0.3014 - val_accuracy: 0.5717\n",
            "Epoch 26/100\n",
            "63/63 [==============================] - 14s 220ms/step - loss: 0.3171 - accuracy: 0.5648 - val_loss: 0.4032 - val_accuracy: 0.4734\n",
            "Epoch 27/100\n",
            "63/63 [==============================] - 14s 220ms/step - loss: 0.3102 - accuracy: 0.5722 - val_loss: 0.3309 - val_accuracy: 0.5557\n",
            "Epoch 28/100\n",
            "63/63 [==============================] - 15s 231ms/step - loss: 0.3037 - accuracy: 0.5796 - val_loss: 0.2995 - val_accuracy: 0.5877\n",
            "Epoch 29/100\n",
            "63/63 [==============================] - 14s 219ms/step - loss: 0.2995 - accuracy: 0.5863 - val_loss: 0.3053 - val_accuracy: 0.5731\n",
            "Epoch 30/100\n",
            "63/63 [==============================] - 15s 231ms/step - loss: 0.2931 - accuracy: 0.5929 - val_loss: 0.2792 - val_accuracy: 0.6060\n",
            "Epoch 31/100\n",
            "63/63 [==============================] - 14s 220ms/step - loss: 0.2906 - accuracy: 0.5990 - val_loss: 0.2987 - val_accuracy: 0.5986\n",
            "Epoch 32/100\n",
            "63/63 [==============================] - 14s 220ms/step - loss: 0.2871 - accuracy: 0.6053 - val_loss: 0.2898 - val_accuracy: 0.6015\n",
            "Epoch 33/100\n",
            "63/63 [==============================] - 15s 232ms/step - loss: 0.2818 - accuracy: 0.6120 - val_loss: 0.2760 - val_accuracy: 0.6090\n",
            "Epoch 34/100\n",
            "63/63 [==============================] - 14s 229ms/step - loss: 0.2769 - accuracy: 0.6213 - val_loss: 0.2733 - val_accuracy: 0.6232\n",
            "Epoch 35/100\n",
            "63/63 [==============================] - 14s 230ms/step - loss: 0.2711 - accuracy: 0.6324 - val_loss: 0.2585 - val_accuracy: 0.6501\n",
            "Epoch 36/100\n",
            "63/63 [==============================] - 14s 220ms/step - loss: 0.2634 - accuracy: 0.6454 - val_loss: 0.2619 - val_accuracy: 0.6495\n",
            "Epoch 37/100\n",
            "63/63 [==============================] - 15s 233ms/step - loss: 0.2604 - accuracy: 0.6551 - val_loss: 0.2468 - val_accuracy: 0.6699\n",
            "Epoch 38/100\n",
            "63/63 [==============================] - 15s 231ms/step - loss: 0.2481 - accuracy: 0.6730 - val_loss: 0.2426 - val_accuracy: 0.6748\n",
            "Epoch 39/100\n",
            "63/63 [==============================] - 14s 220ms/step - loss: 0.2389 - accuracy: 0.6847 - val_loss: 0.2725 - val_accuracy: 0.6510\n",
            "Epoch 40/100\n",
            "63/63 [==============================] - 15s 232ms/step - loss: 0.2359 - accuracy: 0.6912 - val_loss: 0.2216 - val_accuracy: 0.7086\n",
            "Epoch 41/100\n",
            "63/63 [==============================] - 14s 229ms/step - loss: 0.2272 - accuracy: 0.7026 - val_loss: 0.2208 - val_accuracy: 0.7087\n",
            "Epoch 42/100\n",
            "63/63 [==============================] - 14s 229ms/step - loss: 0.2236 - accuracy: 0.7083 - val_loss: 0.2152 - val_accuracy: 0.7137\n",
            "Epoch 43/100\n",
            "63/63 [==============================] - 14s 230ms/step - loss: 0.2131 - accuracy: 0.7201 - val_loss: 0.2132 - val_accuracy: 0.7245\n",
            "Epoch 44/100\n",
            "63/63 [==============================] - 14s 220ms/step - loss: 0.2123 - accuracy: 0.7236 - val_loss: 0.2193 - val_accuracy: 0.7153\n",
            "Epoch 45/100\n",
            "63/63 [==============================] - 15s 232ms/step - loss: 0.2072 - accuracy: 0.7301 - val_loss: 0.2019 - val_accuracy: 0.7330\n",
            "Epoch 46/100\n",
            "63/63 [==============================] - 14s 221ms/step - loss: 0.2010 - accuracy: 0.7366 - val_loss: 0.2045 - val_accuracy: 0.7371\n",
            "Epoch 47/100\n",
            "63/63 [==============================] - 14s 221ms/step - loss: 0.1968 - accuracy: 0.7462 - val_loss: 0.2164 - val_accuracy: 0.7245\n",
            "Epoch 48/100\n",
            "63/63 [==============================] - 15s 232ms/step - loss: 0.1936 - accuracy: 0.7497 - val_loss: 0.1948 - val_accuracy: 0.7432\n",
            "Epoch 49/100\n",
            "63/63 [==============================] - 14s 230ms/step - loss: 0.1876 - accuracy: 0.7572 - val_loss: 0.1825 - val_accuracy: 0.7622\n",
            "Epoch 50/100\n",
            "63/63 [==============================] - 14s 231ms/step - loss: 0.1842 - accuracy: 0.7624 - val_loss: 0.1736 - val_accuracy: 0.7757\n",
            "Epoch 51/100\n",
            "63/63 [==============================] - 14s 220ms/step - loss: 0.1793 - accuracy: 0.7686 - val_loss: 0.1828 - val_accuracy: 0.7620\n",
            "Epoch 52/100\n",
            "63/63 [==============================] - 14s 220ms/step - loss: 0.1764 - accuracy: 0.7740 - val_loss: 0.1950 - val_accuracy: 0.7390\n",
            "Epoch 53/100\n",
            "63/63 [==============================] - 14s 220ms/step - loss: 0.1741 - accuracy: 0.7767 - val_loss: 0.1764 - val_accuracy: 0.7722\n",
            "Epoch 54/100\n",
            "63/63 [==============================] - 14s 220ms/step - loss: 0.1663 - accuracy: 0.7863 - val_loss: 0.1930 - val_accuracy: 0.7586\n",
            "Epoch 55/100\n",
            "63/63 [==============================] - 15s 231ms/step - loss: 0.1673 - accuracy: 0.7883 - val_loss: 0.1576 - val_accuracy: 0.7985\n",
            "Epoch 56/100\n",
            "63/63 [==============================] - 14s 220ms/step - loss: 0.1583 - accuracy: 0.7987 - val_loss: 0.1737 - val_accuracy: 0.7816\n",
            "Epoch 57/100\n",
            "63/63 [==============================] - 14s 220ms/step - loss: 0.1571 - accuracy: 0.8019 - val_loss: 0.1808 - val_accuracy: 0.7702\n",
            "Epoch 58/100\n",
            "63/63 [==============================] - 15s 231ms/step - loss: 0.1528 - accuracy: 0.8074 - val_loss: 0.1540 - val_accuracy: 0.8054\n",
            "Epoch 59/100\n",
            "63/63 [==============================] - 14s 220ms/step - loss: 0.1456 - accuracy: 0.8163 - val_loss: 0.1590 - val_accuracy: 0.8022\n",
            "Epoch 60/100\n",
            "63/63 [==============================] - 14s 220ms/step - loss: 0.1440 - accuracy: 0.8217 - val_loss: 0.1734 - val_accuracy: 0.7865\n",
            "Epoch 61/100\n",
            "63/63 [==============================] - 15s 231ms/step - loss: 0.1405 - accuracy: 0.8257 - val_loss: 0.1448 - val_accuracy: 0.8196\n",
            "Epoch 62/100\n",
            "63/63 [==============================] - 14s 220ms/step - loss: 0.1387 - accuracy: 0.8305 - val_loss: 0.1555 - val_accuracy: 0.8176\n",
            "Epoch 63/100\n",
            "63/63 [==============================] - 14s 220ms/step - loss: 0.1320 - accuracy: 0.8370 - val_loss: 0.1545 - val_accuracy: 0.8150\n",
            "Epoch 64/100\n",
            "63/63 [==============================] - 14s 220ms/step - loss: 0.1273 - accuracy: 0.8437 - val_loss: 0.1454 - val_accuracy: 0.8220\n",
            "Epoch 65/100\n",
            "63/63 [==============================] - 15s 232ms/step - loss: 0.1255 - accuracy: 0.8479 - val_loss: 0.1389 - val_accuracy: 0.8320\n",
            "Epoch 66/100\n",
            "63/63 [==============================] - 14s 230ms/step - loss: 0.1213 - accuracy: 0.8527 - val_loss: 0.1290 - val_accuracy: 0.8439\n",
            "Epoch 67/100\n",
            "63/63 [==============================] - 14s 220ms/step - loss: 0.1163 - accuracy: 0.8589 - val_loss: 0.1335 - val_accuracy: 0.8428\n",
            "Epoch 68/100\n",
            "63/63 [==============================] - 14s 220ms/step - loss: 0.1126 - accuracy: 0.8640 - val_loss: 0.1582 - val_accuracy: 0.8159\n",
            "Epoch 69/100\n",
            "63/63 [==============================] - 15s 233ms/step - loss: 0.1081 - accuracy: 0.8699 - val_loss: 0.1122 - val_accuracy: 0.8667\n",
            "Epoch 70/100\n",
            "63/63 [==============================] - 14s 220ms/step - loss: 0.1047 - accuracy: 0.8737 - val_loss: 0.1313 - val_accuracy: 0.8495\n",
            "Epoch 71/100\n",
            "63/63 [==============================] - 14s 220ms/step - loss: 0.1013 - accuracy: 0.8788 - val_loss: 0.1431 - val_accuracy: 0.8321\n",
            "Epoch 72/100\n",
            "63/63 [==============================] - 14s 220ms/step - loss: 0.0988 - accuracy: 0.8822 - val_loss: 0.1155 - val_accuracy: 0.8629\n",
            "Epoch 73/100\n",
            "63/63 [==============================] - 14s 220ms/step - loss: 0.0944 - accuracy: 0.8864 - val_loss: 0.1381 - val_accuracy: 0.8461\n",
            "Epoch 74/100\n",
            "63/63 [==============================] - 15s 232ms/step - loss: 0.0907 - accuracy: 0.8909 - val_loss: 0.1065 - val_accuracy: 0.8782\n",
            "Epoch 75/100\n",
            "63/63 [==============================] - 14s 220ms/step - loss: 0.0876 - accuracy: 0.8953 - val_loss: 0.1547 - val_accuracy: 0.8317\n",
            "Epoch 76/100\n",
            "63/63 [==============================] - 14s 220ms/step - loss: 0.0869 - accuracy: 0.8968 - val_loss: 0.1287 - val_accuracy: 0.8520\n",
            "Epoch 77/100\n",
            "63/63 [==============================] - 14s 220ms/step - loss: 0.0840 - accuracy: 0.9002 - val_loss: 0.1374 - val_accuracy: 0.8470\n",
            "Epoch 78/100\n",
            "63/63 [==============================] - 15s 232ms/step - loss: 0.0824 - accuracy: 0.9037 - val_loss: 0.1002 - val_accuracy: 0.8820\n",
            "Epoch 79/100\n",
            "63/63 [==============================] - 14s 230ms/step - loss: 0.0778 - accuracy: 0.9080 - val_loss: 0.0865 - val_accuracy: 0.8997\n",
            "Epoch 80/100\n",
            "63/63 [==============================] - 14s 220ms/step - loss: 0.0751 - accuracy: 0.9113 - val_loss: 0.0913 - val_accuracy: 0.8946\n",
            "Epoch 81/100\n",
            "63/63 [==============================] - 14s 220ms/step - loss: 0.0730 - accuracy: 0.9142 - val_loss: 0.1643 - val_accuracy: 0.8272\n",
            "Epoch 82/100\n",
            "63/63 [==============================] - 14s 220ms/step - loss: 0.0719 - accuracy: 0.9163 - val_loss: 0.0957 - val_accuracy: 0.8925\n",
            "Epoch 83/100\n",
            "63/63 [==============================] - 14s 220ms/step - loss: 0.0685 - accuracy: 0.9201 - val_loss: 0.1076 - val_accuracy: 0.8800\n",
            "Epoch 84/100\n",
            "63/63 [==============================] - 14s 220ms/step - loss: 0.0659 - accuracy: 0.9231 - val_loss: 0.1161 - val_accuracy: 0.8772\n",
            "Epoch 85/100\n",
            "63/63 [==============================] - 14s 220ms/step - loss: 0.0651 - accuracy: 0.9244 - val_loss: 0.1017 - val_accuracy: 0.8915\n",
            "Epoch 86/100\n",
            "63/63 [==============================] - 14s 220ms/step - loss: 0.0638 - accuracy: 0.9258 - val_loss: 0.1453 - val_accuracy: 0.8537\n",
            "Epoch 87/100\n",
            "63/63 [==============================] - 14s 220ms/step - loss: 0.0603 - accuracy: 0.9303 - val_loss: 0.0911 - val_accuracy: 0.9003\n",
            "Epoch 88/100\n",
            "63/63 [==============================] - 14s 221ms/step - loss: 0.0606 - accuracy: 0.9321 - val_loss: 0.1024 - val_accuracy: 0.8920\n",
            "Epoch 89/100\n",
            "63/63 [==============================] - ETA: 0s - loss: 0.0591 - accuracy: 0.9322Restoring model weights from the end of the best epoch: 79.\n",
            "63/63 [==============================] - 14s 221ms/step - loss: 0.0591 - accuracy: 0.9322 - val_loss: 0.0941 - val_accuracy: 0.8997\n",
            "Epoch 89: early stopping\n"
          ]
        }
      ]
    },
    {
      "cell_type": "markdown",
      "source": [
        "## Vizualize Loss"
      ],
      "metadata": {
        "id": "tQ-oeo2zykP3"
      }
    },
    {
      "cell_type": "code",
      "source": [
        "loss = history.history[\"loss\"]\n",
        "val_loss = history.history[\"val_loss\"]\n",
        "epochs = range(1, len(loss) + 1)\n",
        "plt.figure()\n",
        "plt.plot(epochs, loss, \"bo\", label=\"Training loss\")\n",
        "plt.plot(epochs, val_loss, \"b\", label=\"Validation loss\")\n",
        "plt.title(\"Training and validation loss\")\n",
        "plt.legend()\n",
        "plt.show()"
      ],
      "metadata": {
        "colab": {
          "base_uri": "https://localhost:8080/",
          "height": 281
        },
        "id": "_l4Lh0-ryi8K",
        "outputId": "e02f0b3a-a693-40d4-899d-d6a6db3328e9"
      },
      "execution_count": 12,
      "outputs": [
        {
          "output_type": "display_data",
          "data": {
            "text/plain": [
              "<Figure size 432x288 with 1 Axes>"
            ],
            "image/png": "[encoded data removed]"
          },
          "metadata": {
            "needs_background": "light"
          }
        }
      ]
    },
    {
      "cell_type": "markdown",
      "source": [
        "# RUN THIS SECTION\n",
        "\n",
        "**This section evaluates the model and makes predictions.**"
      ],
      "metadata": {
        "id": "0owkl_Uq7SUz"
      }
    },
    {
      "cell_type": "markdown",
      "source": [
        "## Import Libraries"
      ],
      "metadata": {
        "id": "X3x05nQ_8KVh"
      }
    },
    {
      "cell_type": "code",
      "source": [
        "import pickle\n",
        "import tensorflow as tf\n",
        "import numpy as np\n",
        "from tensorflow import keras\n",
        "from tensorflow.keras import layers\n",
        "from matplotlib import pyplot as plt\n",
        "rng = np.random.default_rng()"
      ],
      "metadata": {
        "id": "Q8wvPLVU7R2d"
      },
      "execution_count": 13,
      "outputs": []
    },
    {
      "cell_type": "markdown",
      "source": [
        "## Encoder"
      ],
      "metadata": {
        "id": "dvZTQFAc8qrw"
      }
    },
    {
      "cell_type": "code",
      "source": [
        "class TransformerEncoder(layers.Layer):\n",
        "    def __init__(self, embed_dim, dense_dim, num_heads, **kwargs):\n",
        "        super().__init__(**kwargs)\n",
        "        self.embed_dim = embed_dim\n",
        "        self.dense_dim = dense_dim\n",
        "        self.num_heads = num_heads\n",
        "        self.attention = layers.MultiHeadAttention(\n",
        "            num_heads=num_heads, key_dim=embed_dim)\n",
        "        self.dense_proj = keras.Sequential(\n",
        "            [layers.Dense(dense_dim, activation=\"relu\"),\n",
        "             layers.Dense(embed_dim),]\n",
        "        )\n",
        "        self.layernorm_1 = layers.LayerNormalization()\n",
        "        self.layernorm_2 = layers.LayerNormalization()\n",
        "\n",
        "    def call(self, inputs, mask=None):\n",
        "        if mask is not None:\n",
        "            mask = mask[:, tf.newaxis, :]\n",
        "        attention_output = self.attention(\n",
        "            inputs, inputs, attention_mask=mask)\n",
        "        proj_input = self.layernorm_1(inputs + attention_output)\n",
        "        proj_output = self.dense_proj(proj_input)\n",
        "        return self.layernorm_2(proj_input + proj_output)\n",
        "\n",
        "    def get_config(self):\n",
        "        config = super().get_config()\n",
        "        config.update({\n",
        "            \"embed_dim\": self.embed_dim,\n",
        "            \"num_heads\": self.num_heads,\n",
        "            \"dense_dim\": self.dense_dim,\n",
        "        })\n",
        "        return config"
      ],
      "metadata": {
        "id": "BgYU3Q_09Bld"
      },
      "execution_count": 14,
      "outputs": []
    },
    {
      "cell_type": "markdown",
      "source": [
        "## Decoder"
      ],
      "metadata": {
        "id": "b8HkeaKW9QWD"
      }
    },
    {
      "cell_type": "code",
      "source": [
        "class TransformerDecoder(layers.Layer):\n",
        "    def __init__(self, embed_dim, dense_dim, num_heads, **kwargs):\n",
        "        super().__init__(**kwargs)\n",
        "        self.embed_dim = embed_dim\n",
        "        self.dense_dim = dense_dim\n",
        "        self.num_heads = num_heads\n",
        "        self.attention_1 = layers.MultiHeadAttention(\n",
        "            num_heads=num_heads, key_dim=embed_dim)\n",
        "        self.attention_2 = layers.MultiHeadAttention(\n",
        "            num_heads=num_heads, key_dim=embed_dim)\n",
        "        self.dense_proj = keras.Sequential(\n",
        "            [layers.Dense(dense_dim, activation=\"relu\"),\n",
        "             layers.Dense(embed_dim),]\n",
        "        )\n",
        "        self.layernorm_1 = layers.LayerNormalization()\n",
        "        self.layernorm_2 = layers.LayerNormalization()\n",
        "        self.layernorm_3 = layers.LayerNormalization()\n",
        "        self.supports_masking = True\n",
        "\n",
        "    def get_config(self):\n",
        "        config = super().get_config()\n",
        "        config.update({\n",
        "            \"embed_dim\": self.embed_dim,\n",
        "            \"num_heads\": self.num_heads,\n",
        "            \"dense_dim\": self.dense_dim,\n",
        "        })\n",
        "        return config\n",
        "\n",
        "    def get_causal_attention_mask(self, inputs):\n",
        "        input_shape = tf.shape(inputs)\n",
        "        batch_size, sequence_length = input_shape[0], input_shape[1]\n",
        "        i = tf.range(sequence_length)[:, tf.newaxis]\n",
        "        j = tf.range(sequence_length)\n",
        "        mask = tf.cast(i >= j, dtype=\"int32\")\n",
        "        mask = tf.reshape(mask, (1, input_shape[1], input_shape[1]))\n",
        "        mult = tf.concat(\n",
        "            [tf.expand_dims(batch_size, -1),\n",
        "             tf.constant([1, 1], dtype=tf.int32)], axis=0)\n",
        "        return tf.tile(mask, mult)\n",
        "\n",
        "    def call(self, inputs, encoder_outputs, mask=None):\n",
        "        causal_mask = self.get_causal_attention_mask(inputs)\n",
        "        if mask is not None:\n",
        "            padding_mask = tf.cast(\n",
        "                mask[:, tf.newaxis, :], dtype=\"int32\")\n",
        "            padding_mask = tf.minimum(padding_mask, causal_mask)\n",
        "        attention_output_1 = self.attention_1(\n",
        "            query=inputs,\n",
        "            value=inputs,\n",
        "            key=inputs,\n",
        "            attention_mask=causal_mask)\n",
        "        attention_output_1 = self.layernorm_1(inputs + attention_output_1)\n",
        "        attention_output_2 = self.attention_2(\n",
        "            query=attention_output_1,\n",
        "            value=encoder_outputs,\n",
        "            key=encoder_outputs,\n",
        "            attention_mask=padding_mask,\n",
        "        )\n",
        "        attention_output_2 = self.layernorm_2(\n",
        "            attention_output_1 + attention_output_2)\n",
        "        proj_output = self.dense_proj(attention_output_2)\n",
        "        return self.layernorm_3(attention_output_2 + proj_output)"
      ],
      "metadata": {
        "id": "QZIT2VWl82-B"
      },
      "execution_count": 15,
      "outputs": []
    },
    {
      "cell_type": "markdown",
      "source": [
        "## Positional Embedding"
      ],
      "metadata": {
        "id": "GR2Ll2Mg9TSA"
      }
    },
    {
      "cell_type": "code",
      "source": [
        "class PositionalEmbedding(layers.Layer):\n",
        "    def __init__(self, sequence_length, input_dim, output_dim, **kwargs):\n",
        "        super().__init__(**kwargs)\n",
        "        self.token_embeddings = layers.Embedding(\n",
        "            input_dim=input_dim, output_dim=output_dim)\n",
        "        self.position_embeddings = layers.Embedding(\n",
        "            input_dim=sequence_length, output_dim=output_dim)\n",
        "        self.sequence_length = sequence_length\n",
        "        self.input_dim = input_dim\n",
        "        self.output_dim = output_dim\n",
        "\n",
        "    def call(self, inputs):\n",
        "        length = tf.shape(inputs)[-1]\n",
        "        positions = tf.range(start=0, limit=length, delta=1)\n",
        "        embedded_tokens = self.token_embeddings(inputs)\n",
        "        embedded_positions = self.position_embeddings(positions)\n",
        "        return embedded_tokens + embedded_positions\n",
        "\n",
        "    def compute_mask(self, inputs, mask=None):\n",
        "        return tf.math.not_equal(inputs, 0)\n",
        "\n",
        "    def get_config(self):\n",
        "        config = super(PositionalEmbedding, self).get_config()\n",
        "        config.update({\n",
        "            \"output_dim\": self.output_dim,\n",
        "            \"sequence_length\": self.sequence_length,\n",
        "            \"input_dim\": self.input_dim,\n",
        "        })\n",
        "        return config"
      ],
      "metadata": {
        "id": "ZaNpKKMp63ya"
      },
      "execution_count": 16,
      "outputs": []
    },
    {
      "cell_type": "markdown",
      "source": [
        "## Vectorize vocabularies"
      ],
      "metadata": {
        "id": "zTS6ABbaGHVC"
      }
    },
    {
      "cell_type": "code",
      "source": [
        "encoder_vectorize = tf.keras.layers.TextVectorization(output_mode='int', output_sequence_length=200, vocabulary= ['', '[UNK]', 'a', 'b', 'c', 'e', 'g', 'd', 'f', 'k', 'i', 'j', 'h'])\n",
        "decoder_vectorize = tf.keras.layers.TextVectorization(output_mode='int', output_sequence_length=200, vocabulary= ['', '[UNK]', 'a', 'b', 'c', 'e', 'g', 'd', 'f', 'k', 'i', 'j', 'h', 'start', 'm', 'l', 'end', 'eh', 'eg', 'ef', 'ee', 'ed', 'ei', 'ej', 'ek', 'el', 'em', 'fd', 'fe', 'ff', 'fg', 'fh', 'fi', 'fj', 'fk', 'fl', 'fm', 'gd'])\n",
        "inverse_vectorize = dict(zip(range(38), ['', '[UNK]', 'a', 'b', 'c', 'e', 'g', 'd', 'f', 'k', 'i', 'j', 'h', 'start', 'm', 'l', 'end', 'eh', 'eg', 'ef', 'ee', 'ed', 'ei', 'ej', 'ek', 'el', 'em', 'fd', 'fe', 'ff', 'fg', 'fh', 'fi', 'fj', 'fk', 'fl', 'fm', 'gd']))"
      ],
      "metadata": {
        "id": "ukLDcQmh92VH"
      },
      "execution_count": 17,
      "outputs": []
    },
    {
      "cell_type": "markdown",
      "source": [
        "## Decode vocabulary"
      ],
      "metadata": {
        "id": "pWjNFOtaGSVB"
      }
    },
    {
      "cell_type": "code",
      "source": [
        "def decode_sequence(input_chunk):\n",
        "  encoded_chunk = encoder_path(input_chunk)\n",
        "  decoded_chunk = np.asarray([\"start\"])\n",
        "  decoded_chunk = np.repeat(decoded_chunk,input_chunk.shape[0])\n",
        "  for i in range(0, 200):\n",
        "    predictions = decoder_path([decoder_vectorize(decoded_chunk),encoded_chunk])\n",
        "    sampled_token_index = np.argmax(predictions[:, i, :], axis=1)\n",
        "    sampled_token = np.vectorize(inverse_vectorize.get)(sampled_token_index)\n",
        "    decoded_chunk = np.char.add(decoded_chunk, \" \")\n",
        "    decoded_chunk = np.char.add(decoded_chunk, sampled_token)\n",
        "  return decoded_chunk"
      ],
      "metadata": {
        "id": "E8skXYwz94vt"
      },
      "execution_count": 18,
      "outputs": []
    },
    {
      "cell_type": "markdown",
      "source": [
        "## Load transformer model"
      ],
      "metadata": {
        "id": "QA8rkIozAYc3"
      }
    },
    {
      "cell_type": "code",
      "source": [
        "transformer = keras.models.load_model(\n",
        "    \"/content/drive/MyDrive/Colab Notebooks/CSCE_636_Project_2/transformer.keras\",\n",
        "    custom_objects={\"TransformerEncoder\": TransformerEncoder,\n",
        "                    \"PositionalEmbedding\": PositionalEmbedding,\n",
        "                    \"TransformerDecoder\": TransformerDecoder})"
      ],
      "metadata": {
        "id": "Hf8ugB_jAbzA"
      },
      "execution_count": 19,
      "outputs": []
    },
    {
      "cell_type": "code",
      "source": [
        "test_input = encoder_vectorize(pickle.load(open(\"/content/drive/MyDrive/Colab Notebooks/CSCE_636_Project_2/DS_5_train_input\",'rb')))\n",
        "test_output = pickle.load(open(\"/content/drive/MyDrive/Colab Notebooks/CSCE_636_Project_2/DS_5_train_output\",'rb')) "
      ],
      "metadata": {
        "id": "nOpEkzE1AdAO"
      },
      "execution_count": 20,
      "outputs": []
    },
    {
      "cell_type": "code",
      "source": [
        "transformer.summary()\n",
        "tf.keras.utils.plot_model(transformer)"
      ],
      "metadata": {
        "colab": {
          "base_uri": "https://localhost:8080/",
          "height": 969
        },
        "id": "TjkQsP7DA1sp",
        "outputId": "9537109c-d98e-44c1-b99a-9d0b56e2348c"
      },
      "execution_count": 21,
      "outputs": [
        {
          "output_type": "stream",
          "name": "stdout",
          "text": [
            "Model: \"model\"\n",
            "__________________________________________________________________________________________________\n",
            " Layer (type)                   Output Shape         Param #     Connected to                     \n",
            "==================================================================================================\n",
            " input_1 (InputLayer)           [(None, None)]       0           []                               \n",
            "                                                                                                  \n",
            " input_2 (InputLayer)           [(None, None)]       0           []                               \n",
            "                                                                                                  \n",
            " positional_embedding (Position  (None, None, 256)   54528       ['input_1[0][0]']                \n",
            " alEmbedding)                                                                                     \n",
            "                                                                                                  \n",
            " positional_embedding_1 (Positi  (None, None, 256)   60928       ['input_2[0][0]']                \n",
            " onalEmbedding)                                                                                   \n",
            "                                                                                                  \n",
            " transformer_encoder (Transform  (None, None, 256)   2617832     ['positional_embedding[0][0]']   \n",
            " erEncoder)                                                                                       \n",
            "                                                                                                  \n",
            " transformer_decoder (Transform  (None, None, 256)   4721896     ['positional_embedding_1[0][0]', \n",
            " erDecoder)                                                       'transformer_encoder[0][0]']    \n",
            "                                                                                                  \n",
            " dropout (Dropout)              (None, None, 256)    0           ['transformer_decoder[0][0]']    \n",
            "                                                                                                  \n",
            " dense_4 (Dense)                (None, None, 38)     9766        ['dropout[0][0]']                \n",
            "                                                                                                  \n",
            "==================================================================================================\n",
            "Total params: 7,464,950\n",
            "Trainable params: 7,464,950\n",
            "Non-trainable params: 0\n",
            "__________________________________________________________________________________________________\n"
          ]
        },
        {
          "output_type": "execute_result",
          "data": {
            "text/plain": [
              "<IPython.core.display.Image object>"
            ],
            "image/png": "[encoded data removed]"
          },
          "metadata": {},
          "execution_count": 21
        }
      ]
    },
    {
      "cell_type": "code",
      "source": [
        "encoder_input = transformer.get_layer(\"input_1\").input\n",
        "encoder_ouput = transformer.get_layer(\"transformer_encoder\").output\n",
        "encoder_path = keras.Model(encoder_input,encoder_ouput)\n",
        "\n",
        "decoder_input = transformer.get_layer(\"input_2\").input\n",
        "x = transformer.get_layer(\"positional_embedding_1\")(decoder_input)\n",
        "encoder_output = transformer.get_layer(\"transformer_encoder\").output\n",
        "x = transformer.get_layer(\"transformer_decoder\")(x,encoder_output)\n",
        "x = transformer.get_layer(\"dropout\")(x)\n",
        "decoder_ouput = transformer.get_layer(\"dense_4\")(x)\n",
        "decoder_path = keras.Model([decoder_input,encoder_output],decoder_ouput)"
      ],
      "metadata": {
        "id": "KuQR1_TGBKcf"
      },
      "execution_count": 22,
      "outputs": []
    },
    {
      "cell_type": "markdown",
      "source": [
        "## Predict an example"
      ],
      "metadata": {
        "id": "pzuYL5uuKrxD"
      }
    },
    {
      "cell_type": "code",
      "source": [
        "i = 2\n",
        "ans = decode_sequence(test_input[0:100])"
      ],
      "metadata": {
        "id": "SnvGbvjiCj1P"
      },
      "execution_count": 26,
      "outputs": []
    },
    {
      "cell_type": "code",
      "source": [
        "print(test_output[i])\n",
        "print(ans[i][6:])"
      ],
      "metadata": {
        "colab": {
          "base_uri": "https://localhost:8080/"
        },
        "id": "uDK6Z4osDeVN",
        "outputId": "0499ebb0-8b3f-490a-d659-eee7bcddbdf8"
      },
      "execution_count": 27,
      "outputs": [
        {
          "output_type": "stream",
          "name": "stdout",
          "text": [
            "c f b e c d b f b e a k g h b e a k i j b d c d a h k l m c d a e ee a h f ed ef a g e eg b f a d eh ei a k d ej \n",
            "c f b e c d b f b e a k g h b e a k i j b d c d a h k l m c d a e ee a h f ed ef a g e eg b f a d eh ei a k d ej end e ek end el a end d em end fd a k d fe end ff a end d fg end fh a end d fi end fj a end fk a end d fl end end fm end d gd end end end end end end end end end fk end end end end end end end end end a k fe end g j d g j d g k g j fe end g j ff end c b b b b end end end a k g k g j d g j d e eh end c b b e ei end c b e ej end end b end end end end end end c end end end a e ei end end end end a e ej end end end i d g k g k g j d\n"
          ]
        }
      ]
    }
  ],
  "metadata": {
    "accelerator": "GPU",
    "colab": {
      "machine_shape": "hm",
      "name": "CSCE_636_HW04_Sol.ipynb",
      "provenance": [],
      "toc_visible": true
    },
    "interpreter": {
      "hash": "02de5609ef162b6bcc51dd429fd31b9a1f163c414526741362218fd7f2e354ad"
    },
    "kernelspec": {
      "display_name": "Python 3.9.7 64-bit",
      "language": "python",
      "name": "python3"
    },
    "language_info": {
      "codemirror_mode": {
        "name": "ipython",
        "version": 3
      },
      "file_extension": ".py",
      "mimetype": "text/x-python",
      "name": "python",
      "nbconvert_exporter": "python",
      "pygments_lexer": "ipython3",
      "version": "3.9.7"
    },
    "orig_nbformat": 4
  },
  "nbformat": 4,
  "nbformat_minor": 0
}