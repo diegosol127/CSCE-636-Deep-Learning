{
  "cells": [
    {
      "cell_type": "markdown",
      "metadata": {
        "id": "t_tfeI-D5ljr"
      },
      "source": [
        "# Project 02\n",
        "\n",
        "**Submitted by: Diego Sol**\n",
        "\n",
        "CSCE 636-600: Deep Learning\n",
        "\n",
        "Professor: Dr. Anxiao Jiang\n",
        "\n",
        "----------------\n",
        "\n",
        "**This project is on machine translation for two \"artificial\" languages: an \"Input Language\" and an \"Output Language\". We want to build a model to translate the texts in the \"Input Language\" to texts in the \"Output Language\". For example, a text in the \"Input Language\" can be \"a g b f a f a e a k a j c f b f c d a k a k c e b g a h a k b d b f b f b d c d \" , and its translation to the \"Output Language\" is \"b f c f b f c d a j e f g c e b g a k i j b d b f a k l m b f b d a h ed ee ef a k k eg a k h eh a e ei c d a f ej ek a g d el\".**"
      ]
    },
    {
      "cell_type": "markdown",
      "metadata": {
        "id": "G5MzwW8qy2rX"
      },
      "source": [
        "# Initialization\n",
        "\n",
        "**This section includes mounting the session to Google Drive, importing necessary packages to run the file, and downloading the training datasets.**"
      ]
    },
    {
      "cell_type": "markdown",
      "metadata": {
        "id": "a3AJEjfnn_cq"
      },
      "source": [
        "Mount Google Drive to this notebook to easily access training data"
      ]
    },
    {
      "cell_type": "code",
      "execution_count": 12,
      "metadata": {
        "colab": {
          "base_uri": "https://localhost:8080/"
        },
        "id": "cULh3hNhoV4r",
        "outputId": "c1152515-82e9-4363-c5f0-f94b73d71e00"
      },
      "outputs": [
        {
          "name": "stdout",
          "output_type": "stream",
          "text": [
            "Drive already mounted at /content/drive; to attempt to forcibly remount, call drive.mount(\"/content/drive\", force_remount=True).\n"
          ]
        }
      ],
      "source": [
        "from google.colab import drive\n",
        "drive.mount('/content/drive')"
      ]
    },
    {
      "cell_type": "markdown",
      "metadata": {
        "id": "RJPLra2ZJ1hF"
      },
      "source": [
        "Import packages"
      ]
    },
    {
      "cell_type": "code",
      "execution_count": 13,
      "metadata": {
        "id": "-72cuX2wJzxC"
      },
      "outputs": [],
      "source": [
        "import pickle\n",
        "import tensorflow as tf\n",
        "import numpy as np\n",
        "from tensorflow import keras\n",
        "from tensorflow.keras import layers\n",
        "from matplotlib import pyplot as plt"
      ]
    },
    {
      "cell_type": "markdown",
      "metadata": {
        "id": "unk0YCjqsBO4"
      },
      "source": [
        "Download training images and labels"
      ]
    },
    {
      "cell_type": "code",
      "execution_count": 14,
      "metadata": {
        "id": "VWM2jK5GpKxT"
      },
      "outputs": [],
      "source": [
        "train_input = pickle.load(open('/content/drive/MyDrive/Colab Notebooks/CSCE_636_Project_2/DS_5_train_input', 'rb'))\n",
        "train_output = pickle.load(open('/content/drive/MyDrive/Colab Notebooks/CSCE_636_Project_2/DS_5_train_output', 'rb'))"
      ]
    }
  ],
  "metadata": {
    "accelerator": "GPU",
    "colab": {
      "machine_shape": "hm",
      "name": "CSCE_636_HW04_Sol.ipynb",
      "provenance": []
    },
    "interpreter": {
      "hash": "02de5609ef162b6bcc51dd429fd31b9a1f163c414526741362218fd7f2e354ad"
    },
    "kernelspec": {
      "display_name": "Python 3.9.7 64-bit",
      "language": "python",
      "name": "python3"
    },
    "language_info": {
      "codemirror_mode": {
        "name": "ipython",
        "version": 3
      },
      "file_extension": ".py",
      "mimetype": "text/x-python",
      "name": "python",
      "nbconvert_exporter": "python",
      "pygments_lexer": "ipython3",
      "version": "3.9.7"
    },
    "orig_nbformat": 4
  },
  "nbformat": 4,
  "nbformat_minor": 0
}
