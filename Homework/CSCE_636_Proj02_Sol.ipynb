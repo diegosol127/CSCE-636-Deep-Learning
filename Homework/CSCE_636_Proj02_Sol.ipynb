{
  "cells": [
    {
      "cell_type": "markdown",
      "metadata": {
        "id": "t_tfeI-D5ljr"
      },
      "source": [
        "# Project 02\n",
        "\n",
        "**Submitted by: Diego Sol**\n",
        "\n",
        "CSCE 636-600: Deep Learning\n",
        "\n",
        "Professor: Dr. Anxiao Jiang\n",
        "\n",
        "----------------\n",
        "\n",
        "**This project is on machine translation for two \"artificial\" languages: an \"Input Language\" and an \"Output Language\". We want to build a model to translate the texts in the \"Input Language\" to texts in the \"Output Language\". For example, a text in the \"Input Language\" can be \"a g b f a f a e a k a j c f b f c d a k a k c e b g a h a k b d b f b f b d c d \" , and its translation to the \"Output Language\" is \"b f c f b f c d a j e f g c e b g a k i j b d b f a k l m b f b d a h ed ee ef a k k eg a k h eh a e ei c d a f ej ek a g d el\".**"
      ]
    },
    {
      "cell_type": "markdown",
      "metadata": {
        "id": "G5MzwW8qy2rX"
      },
      "source": [
        "# Initialization\n",
        "\n",
        "**This section includes mounting the session to Google Drive, importing necessary libraries to run the file, and downloading and reformatting the training datasets.**"
      ]
    },
    {
      "cell_type": "markdown",
      "metadata": {
        "id": "a3AJEjfnn_cq"
      },
      "source": [
        "## Mount Colab"
      ]
    },
    {
      "cell_type": "code",
      "execution_count": 1,
      "metadata": {
        "colab": {
          "base_uri": "https://localhost:8080/"
        },
        "id": "cULh3hNhoV4r",
        "outputId": "10b5491a-3b67-42e3-8019-0817e6ace008"
      },
      "outputs": [
        {
          "output_type": "stream",
          "name": "stdout",
          "text": [
            "Mounted at /content/drive\n"
          ]
        }
      ],
      "source": [
        "from google.colab import drive\n",
        "drive.mount('/content/drive')"
      ]
    },
    {
      "cell_type": "markdown",
      "metadata": {
        "id": "RJPLra2ZJ1hF"
      },
      "source": [
        "## Import Libraries"
      ]
    },
    {
      "cell_type": "code",
      "execution_count": 2,
      "metadata": {
        "id": "-72cuX2wJzxC"
      },
      "outputs": [],
      "source": [
        "import pickle\n",
        "import tensorflow as tf\n",
        "import numpy as np\n",
        "\n",
        "from tensorflow import keras\n",
        "from tensorflow.keras import layers\n",
        "from matplotlib import pyplot as plt\n",
        "\n",
        "rng = np.random.default_rng()"
      ]
    },
    {
      "cell_type": "markdown",
      "metadata": {
        "id": "unk0YCjqsBO4"
      },
      "source": [
        "## Import Data\n",
        "\n",
        "Download training inputs and outputs."
      ]
    },
    {
      "cell_type": "code",
      "execution_count": 73,
      "metadata": {
        "id": "VWM2jK5GpKxT"
      },
      "outputs": [],
      "source": [
        "train_input = pickle.load(open('/content/drive/MyDrive/Colab Notebooks/CSCE_636_Project_2/DS_5_train_input', 'rb'))\n",
        "train_output = pickle.load(open('/content/drive/MyDrive/Colab Notebooks/CSCE_636_Project_2/DS_5_train_output', 'rb'))"
      ]
    },
    {
      "cell_type": "markdown",
      "source": [
        "## Vectorize Data\n",
        "\n",
        "Convert strings of word elements into an integer token vector that indexes the word elements from the defined library of words."
      ],
      "metadata": {
        "id": "MBQGgIxDbYV3"
      }
    },
    {
      "cell_type": "code",
      "source": [
        "def vectorize_data(train_input,train_output):\n",
        "\n",
        "  train_output_start = []\n",
        "  train_output_end = []\n",
        "\n",
        "  for i in range(0,len(train_output)):\n",
        "    train_output_start.append(\"start \" + train_output[i])\n",
        "    train_output_end.append(train_output[i]+\"end\")\n",
        "    train_output[i] = \"start \" + train_output[i] + \"end\"\n",
        "\n",
        "  source_vectorization = layers.TextVectorization(output_sequence_length=200)\n",
        "  target_vectorization = layers.TextVectorization(output_sequence_length=200)\n",
        "  source_vectorization.adapt(train_input)\n",
        "  target_vectorization.adapt(train_output)\n",
        "\n",
        "  train_input = source_vectorization(train_input)\n",
        "  train_output = target_vectorization(train_output)\n",
        "  train_output_end = target_vectorization(train_output_end)\n",
        "  train_output_start = target_vectorization(train_output_start)\n",
        "\n",
        "  return train_input, train_output, train_output_end, train_output_start"
      ],
      "metadata": {
        "id": "EYNqvMk4ZqMH"
      },
      "execution_count": 75,
      "outputs": []
    },
    {
      "cell_type": "code",
      "source": [
        "train_input, train_output, train_output_end, train_output_start = vectorize_data(train_input,train_output)"
      ],
      "metadata": {
        "id": "jDlqmJwgZv7j"
      },
      "execution_count": 76,
      "outputs": []
    },
    {
      "cell_type": "markdown",
      "source": [
        "# Transformer Model"
      ],
      "metadata": {
        "id": "P-C8-3sTbj_e"
      }
    },
    {
      "cell_type": "markdown",
      "source": [
        "## Encoder"
      ],
      "metadata": {
        "id": "BdoFpTW4Fqm5"
      }
    },
    {
      "cell_type": "code",
      "source": [
        "class TransformerEncoder(layers.Layer):\n",
        "    def __init__(self, embed_dim, dense_dim, num_heads, **kwargs):\n",
        "        super().__init__(**kwargs)\n",
        "        self.embed_dim = embed_dim\n",
        "        self.dense_dim = dense_dim\n",
        "        self.num_heads = num_heads\n",
        "        self.attention = layers.MultiHeadAttention(\n",
        "            num_heads=num_heads, key_dim=embed_dim)\n",
        "        self.dense_proj = keras.Sequential(\n",
        "            [layers.Dense(dense_dim, activation=\"relu\"),\n",
        "             layers.Dense(embed_dim),]\n",
        "        )\n",
        "        self.layernorm_1 = layers.LayerNormalization()\n",
        "        self.layernorm_2 = layers.LayerNormalization()\n",
        "\n",
        "    def call(self, inputs, mask=None):\n",
        "        if mask is not None:\n",
        "            mask = mask[:, tf.newaxis, :]\n",
        "        attention_output = self.attention(\n",
        "            inputs, inputs, attention_mask=mask)\n",
        "        proj_input = self.layernorm_1(inputs + attention_output)\n",
        "        proj_output = self.dense_proj(proj_input)\n",
        "        return self.layernorm_2(proj_input + proj_output)\n",
        "\n",
        "    def get_config(self):\n",
        "        config = super().get_config()\n",
        "        config.update({\n",
        "            \"embed_dim\": self.embed_dim,\n",
        "            \"num_heads\": self.num_heads,\n",
        "            \"dense_dim\": self.dense_dim,\n",
        "        })\n",
        "        return config"
      ],
      "metadata": {
        "id": "EpiKXUN7EzNY"
      },
      "execution_count": 6,
      "outputs": []
    },
    {
      "cell_type": "markdown",
      "source": [
        "## Decoder"
      ],
      "metadata": {
        "id": "m3nDrGToSRQc"
      }
    },
    {
      "cell_type": "code",
      "source": [
        "class TransformerDecoder(layers.Layer):\n",
        "    def __init__(self, embed_dim, dense_dim, num_heads, **kwargs):\n",
        "        super().__init__(**kwargs)\n",
        "        self.embed_dim = embed_dim\n",
        "        self.dense_dim = dense_dim\n",
        "        self.num_heads = num_heads\n",
        "        self.attention_1 = layers.MultiHeadAttention(\n",
        "            num_heads=num_heads, key_dim=embed_dim)\n",
        "        self.attention_2 = layers.MultiHeadAttention(\n",
        "            num_heads=num_heads, key_dim=embed_dim)\n",
        "        self.dense_proj = keras.Sequential(\n",
        "            [layers.Dense(dense_dim, activation=\"relu\"),\n",
        "             layers.Dense(embed_dim),]\n",
        "        )\n",
        "        self.layernorm_1 = layers.LayerNormalization()\n",
        "        self.layernorm_2 = layers.LayerNormalization()\n",
        "        self.layernorm_3 = layers.LayerNormalization()\n",
        "        self.supports_masking = True\n",
        "\n",
        "    def get_config(self):\n",
        "        config = super().get_config()\n",
        "        config.update({\n",
        "            \"embed_dim\": self.embed_dim,\n",
        "            \"num_heads\": self.num_heads,\n",
        "            \"dense_dim\": self.dense_dim,\n",
        "        })\n",
        "        return config\n",
        "\n",
        "    def get_causal_attention_mask(self, inputs):\n",
        "        input_shape = tf.shape(inputs)\n",
        "        batch_size, sequence_length = input_shape[0], input_shape[1]\n",
        "        i = tf.range(sequence_length)[:, tf.newaxis]\n",
        "        j = tf.range(sequence_length)\n",
        "        mask = tf.cast(i >= j, dtype=\"int32\")\n",
        "        mask = tf.reshape(mask, (1, input_shape[1], input_shape[1]))\n",
        "        mult = tf.concat(\n",
        "            [tf.expand_dims(batch_size, -1),\n",
        "             tf.constant([1, 1], dtype=tf.int32)], axis=0)\n",
        "        return tf.tile(mask, mult)\n",
        "\n",
        "    def call(self, inputs, encoder_outputs, mask=None):\n",
        "        causal_mask = self.get_causal_attention_mask(inputs)\n",
        "        if mask is not None:\n",
        "            padding_mask = tf.cast(\n",
        "                mask[:, tf.newaxis, :], dtype=\"int32\")\n",
        "            padding_mask = tf.minimum(padding_mask, causal_mask)\n",
        "        attention_output_1 = self.attention_1(\n",
        "            query=inputs,\n",
        "            value=inputs,\n",
        "            key=inputs,\n",
        "            attention_mask=causal_mask)\n",
        "        attention_output_1 = self.layernorm_1(inputs + attention_output_1)\n",
        "        attention_output_2 = self.attention_2(\n",
        "            query=attention_output_1,\n",
        "            value=encoder_outputs,\n",
        "            key=encoder_outputs,\n",
        "            attention_mask=padding_mask,\n",
        "        )\n",
        "        attention_output_2 = self.layernorm_2(\n",
        "            attention_output_1 + attention_output_2)\n",
        "        proj_output = self.dense_proj(attention_output_2)\n",
        "        return self.layernorm_3(attention_output_2 + proj_output)"
      ],
      "metadata": {
        "id": "QVUFNr-kSHSd"
      },
      "execution_count": 7,
      "outputs": []
    },
    {
      "cell_type": "markdown",
      "source": [
        "## Positional Embedding"
      ],
      "metadata": {
        "id": "oPzBDP2qSTQV"
      }
    },
    {
      "cell_type": "code",
      "source": [
        "class PositionalEmbedding(layers.Layer):\n",
        "    def __init__(self, sequence_length, input_dim, output_dim, **kwargs):\n",
        "        super().__init__(**kwargs)\n",
        "        self.token_embeddings = layers.Embedding(\n",
        "            input_dim=input_dim, output_dim=output_dim)\n",
        "        self.position_embeddings = layers.Embedding(\n",
        "            input_dim=sequence_length, output_dim=output_dim)\n",
        "        self.sequence_length = sequence_length\n",
        "        self.input_dim = input_dim\n",
        "        self.output_dim = output_dim\n",
        "\n",
        "    def call(self, inputs):\n",
        "        length = tf.shape(inputs)[-1]\n",
        "        positions = tf.range(start=0, limit=length, delta=1)\n",
        "        embedded_tokens = self.token_embeddings(inputs)\n",
        "        embedded_positions = self.position_embeddings(positions)\n",
        "        return embedded_tokens + embedded_positions\n",
        "\n",
        "    def compute_mask(self, inputs, mask=None):\n",
        "        return tf.math.not_equal(inputs, 0)\n",
        "\n",
        "    def get_config(self):\n",
        "        config = super(PositionalEmbedding, self).get_config()\n",
        "        config.update({\n",
        "            \"output_dim\": self.output_dim,\n",
        "            \"sequence_length\": self.sequence_length,\n",
        "            \"input_dim\": self.input_dim,\n",
        "        })\n",
        "        return config"
      ],
      "metadata": {
        "id": "XU2AP3HsStEX"
      },
      "execution_count": 8,
      "outputs": []
    },
    {
      "cell_type": "markdown",
      "source": [
        "## Network Architecture"
      ],
      "metadata": {
        "id": "R08algqMWDUP"
      }
    },
    {
      "cell_type": "code",
      "source": [
        "embed_dim = 256\n",
        "num_heads = 8\n",
        "dense_dim = 1000\n",
        "\n",
        "vocab_size_source = 13\n",
        "vocab_size_output = 38\n",
        "sequence_length = 200\n",
        "\n",
        "encoder_inputs = keras.Input(shape=(None,))\n",
        "x = PositionalEmbedding(sequence_length, vocab_size_source, embed_dim)(encoder_inputs)\n",
        "encoder_outputs = TransformerEncoder(embed_dim, dense_dim, num_heads)(x)\n",
        "\n",
        "decoder_inputs = keras.Input(shape=(None,))\n",
        "x = PositionalEmbedding(sequence_length, vocab_size_output, embed_dim)(decoder_inputs)\n",
        "x = TransformerDecoder(embed_dim, dense_dim, num_heads)(x, encoder_outputs)\n",
        "\n",
        "x = layers.Dropout(0.5)(x)\n",
        "decoder_outputs = layers.Dense(vocab_size_output, activation=\"softmax\")(x)\n",
        "transformer = keras.Model([encoder_inputs, decoder_inputs], decoder_outputs)"
      ],
      "metadata": {
        "id": "QEK4_EcJWC94"
      },
      "execution_count": 9,
      "outputs": []
    },
    {
      "cell_type": "code",
      "source": [
        "transformer.summary()\n",
        "tf.keras.utils.plot_model(transformer, show_shapes=True)"
      ],
      "metadata": {
        "id": "LAC96WtOyS5u",
        "outputId": "1abb73a6-e351-4863-9d57-5d9f7ccbbd62",
        "colab": {
          "base_uri": "https://localhost:8080/",
          "height": 1000
        }
      },
      "execution_count": 10,
      "outputs": [
        {
          "output_type": "stream",
          "name": "stdout",
          "text": [
            "Model: \"model\"\n",
            "__________________________________________________________________________________________________\n",
            " Layer (type)                   Output Shape         Param #     Connected to                     \n",
            "==================================================================================================\n",
            " input_1 (InputLayer)           [(None, None)]       0           []                               \n",
            "                                                                                                  \n",
            " input_2 (InputLayer)           [(None, None)]       0           []                               \n",
            "                                                                                                  \n",
            " positional_embedding (Position  (None, None, 256)   54528       ['input_1[0][0]']                \n",
            " alEmbedding)                                                                                     \n",
            "                                                                                                  \n",
            " positional_embedding_1 (Positi  (None, None, 256)   60928       ['input_2[0][0]']                \n",
            " onalEmbedding)                                                                                   \n",
            "                                                                                                  \n",
            " transformer_encoder (Transform  (None, None, 256)   2630144     ['positional_embedding[0][0]']   \n",
            " erEncoder)                                                                                       \n",
            "                                                                                                  \n",
            " transformer_decoder (Transform  (None, None, 256)   4734208     ['positional_embedding_1[0][0]', \n",
            " erDecoder)                                                       'transformer_encoder[0][0]']    \n",
            "                                                                                                  \n",
            " dropout (Dropout)              (None, None, 256)    0           ['transformer_decoder[0][0]']    \n",
            "                                                                                                  \n",
            " dense_4 (Dense)                (None, None, 38)     9766        ['dropout[0][0]']                \n",
            "                                                                                                  \n",
            "==================================================================================================\n",
            "Total params: 7,489,574\n",
            "Trainable params: 7,489,574\n",
            "Non-trainable params: 0\n",
            "__________________________________________________________________________________________________\n"
          ]
        },
        {
          "output_type": "execute_result",
          "data": {
            "text/plain": [
              "<IPython.core.display.Image object>"
            ],
            "image/png": "[encoded data removed]"
          },
          "metadata": {},
          "execution_count": 10
        }
      ]
    },
    {
      "cell_type": "markdown",
      "source": [
        "## Compilation"
      ],
      "metadata": {
        "id": "UYGGS46cyZ3l"
      }
    },
    {
      "cell_type": "code",
      "source": [
        "transformer.compile(\n",
        "    optimizer=\"rmsprop\",\n",
        "    loss=\"sparse_categorical_crossentropy\",\n",
        "    metrics=[\"accuracy\"])\n",
        "\n",
        "callbacks = [\n",
        "    keras.callbacks.ModelCheckpoint(\n",
        "        filepath=\"/content/drive/MyDrive/Colab Notebooks/CSCE_636_Project_2/transformer.keras\",\n",
        "        save_best_only=True,\n",
        "        monitor=\"val_loss\"),\n",
        "    keras.callbacks.EarlyStopping(\n",
        "        monitor=\"val_loss\",\n",
        "        patience=10,\n",
        "        verbose=1,\n",
        "        restore_best_weights=True)\n",
        "]\n",
        "\n",
        "history = transformer.fit(x=[train_input,train_output_start],y=train_output_end,epochs=100,batch_size=64,validation_split=.2,callbacks=callbacks)"
      ],
      "metadata": {
        "id": "UdsJ9BibyUxa",
        "outputId": "d6a1fc9c-3c85-4af9-e967-31b825235ce9",
        "colab": {
          "base_uri": "https://localhost:8080/"
        }
      },
      "execution_count": 11,
      "outputs": [
        {
          "output_type": "stream",
          "name": "stdout",
          "text": [
            "Epoch 1/100\n",
            "63/63 [==============================] - 22s 234ms/step - loss: 1.1822 - accuracy: 0.1161 - val_loss: 0.7998 - val_accuracy: 0.1984\n",
            "Epoch 2/100\n",
            "63/63 [==============================] - 15s 242ms/step - loss: 0.7131 - accuracy: 0.2599 - val_loss: 0.5706 - val_accuracy: 0.3320\n",
            "Epoch 3/100\n",
            "63/63 [==============================] - 15s 237ms/step - loss: 0.5978 - accuracy: 0.3162 - val_loss: 0.5370 - val_accuracy: 0.3367\n",
            "Epoch 4/100\n",
            "63/63 [==============================] - 15s 238ms/step - loss: 0.5625 - accuracy: 0.3412 - val_loss: 0.5342 - val_accuracy: 0.3491\n",
            "Epoch 5/100\n",
            "63/63 [==============================] - 14s 219ms/step - loss: 0.5341 - accuracy: 0.3627 - val_loss: 0.6073 - val_accuracy: 0.3452\n",
            "Epoch 6/100\n",
            "63/63 [==============================] - 15s 238ms/step - loss: 0.5221 - accuracy: 0.3740 - val_loss: 0.5335 - val_accuracy: 0.3523\n",
            "Epoch 7/100\n",
            "63/63 [==============================] - 15s 237ms/step - loss: 0.4982 - accuracy: 0.3892 - val_loss: 0.4715 - val_accuracy: 0.4098\n",
            "Epoch 8/100\n",
            "63/63 [==============================] - 15s 240ms/step - loss: 0.4811 - accuracy: 0.4034 - val_loss: 0.4325 - val_accuracy: 0.4474\n",
            "Epoch 9/100\n",
            "63/63 [==============================] - 14s 220ms/step - loss: 0.4639 - accuracy: 0.4149 - val_loss: 0.4529 - val_accuracy: 0.4161\n",
            "Epoch 10/100\n",
            "63/63 [==============================] - 15s 237ms/step - loss: 0.4548 - accuracy: 0.4247 - val_loss: 0.4316 - val_accuracy: 0.4387\n",
            "Epoch 11/100\n",
            "63/63 [==============================] - 15s 238ms/step - loss: 0.4389 - accuracy: 0.4376 - val_loss: 0.4270 - val_accuracy: 0.4476\n",
            "Epoch 12/100\n",
            "63/63 [==============================] - 15s 238ms/step - loss: 0.4275 - accuracy: 0.4456 - val_loss: 0.3966 - val_accuracy: 0.4693\n",
            "Epoch 13/100\n",
            "63/63 [==============================] - 14s 220ms/step - loss: 0.4195 - accuracy: 0.4524 - val_loss: 0.3980 - val_accuracy: 0.4713\n",
            "Epoch 14/100\n",
            "63/63 [==============================] - 14s 219ms/step - loss: 0.4071 - accuracy: 0.4639 - val_loss: 0.4392 - val_accuracy: 0.4527\n",
            "Epoch 15/100\n",
            "63/63 [==============================] - 15s 237ms/step - loss: 0.3997 - accuracy: 0.4716 - val_loss: 0.3742 - val_accuracy: 0.4961\n",
            "Epoch 16/100\n",
            "63/63 [==============================] - 15s 236ms/step - loss: 0.3882 - accuracy: 0.4825 - val_loss: 0.3522 - val_accuracy: 0.5145\n",
            "Epoch 17/100\n",
            "63/63 [==============================] - 14s 220ms/step - loss: 0.3790 - accuracy: 0.4898 - val_loss: 0.3688 - val_accuracy: 0.4909\n",
            "Epoch 18/100\n",
            "63/63 [==============================] - 14s 220ms/step - loss: 0.3644 - accuracy: 0.5015 - val_loss: 0.4251 - val_accuracy: 0.4542\n",
            "Epoch 19/100\n",
            "63/63 [==============================] - 14s 219ms/step - loss: 0.3561 - accuracy: 0.5104 - val_loss: 0.3605 - val_accuracy: 0.5052\n",
            "Epoch 20/100\n",
            "63/63 [==============================] - 15s 236ms/step - loss: 0.3496 - accuracy: 0.5169 - val_loss: 0.3246 - val_accuracy: 0.5365\n",
            "Epoch 21/100\n",
            "63/63 [==============================] - 14s 220ms/step - loss: 0.3390 - accuracy: 0.5253 - val_loss: 0.3279 - val_accuracy: 0.5337\n",
            "Epoch 22/100\n",
            "63/63 [==============================] - 14s 220ms/step - loss: 0.3357 - accuracy: 0.5291 - val_loss: 0.3841 - val_accuracy: 0.4925\n",
            "Epoch 23/100\n",
            "63/63 [==============================] - 15s 237ms/step - loss: 0.3309 - accuracy: 0.5349 - val_loss: 0.3111 - val_accuracy: 0.5484\n",
            "Epoch 24/100\n",
            "63/63 [==============================] - 15s 236ms/step - loss: 0.3252 - accuracy: 0.5406 - val_loss: 0.3100 - val_accuracy: 0.5548\n",
            "Epoch 25/100\n",
            "63/63 [==============================] - 15s 237ms/step - loss: 0.3203 - accuracy: 0.5472 - val_loss: 0.3049 - val_accuracy: 0.5528\n",
            "Epoch 26/100\n",
            "63/63 [==============================] - 15s 236ms/step - loss: 0.3179 - accuracy: 0.5528 - val_loss: 0.3035 - val_accuracy: 0.5539\n",
            "Epoch 27/100\n",
            "63/63 [==============================] - 15s 238ms/step - loss: 0.3145 - accuracy: 0.5561 - val_loss: 0.2957 - val_accuracy: 0.5689\n",
            "Epoch 28/100\n",
            "63/63 [==============================] - 14s 220ms/step - loss: 0.3064 - accuracy: 0.5666 - val_loss: 0.3204 - val_accuracy: 0.5504\n",
            "Epoch 29/100\n",
            "63/63 [==============================] - 14s 219ms/step - loss: 0.3016 - accuracy: 0.5744 - val_loss: 0.3344 - val_accuracy: 0.5447\n",
            "Epoch 30/100\n",
            "63/63 [==============================] - 15s 239ms/step - loss: 0.2968 - accuracy: 0.5822 - val_loss: 0.2806 - val_accuracy: 0.6046\n",
            "Epoch 31/100\n",
            "63/63 [==============================] - 14s 220ms/step - loss: 0.2958 - accuracy: 0.5898 - val_loss: 0.2966 - val_accuracy: 0.5855\n",
            "Epoch 32/100\n",
            "63/63 [==============================] - 15s 236ms/step - loss: 0.2863 - accuracy: 0.6044 - val_loss: 0.2799 - val_accuracy: 0.6158\n",
            "Epoch 33/100\n",
            "63/63 [==============================] - 15s 239ms/step - loss: 0.2796 - accuracy: 0.6169 - val_loss: 0.2715 - val_accuracy: 0.6251\n",
            "Epoch 34/100\n",
            "63/63 [==============================] - 15s 238ms/step - loss: 0.2778 - accuracy: 0.6202 - val_loss: 0.2691 - val_accuracy: 0.6283\n",
            "Epoch 35/100\n",
            "63/63 [==============================] - 15s 239ms/step - loss: 0.2666 - accuracy: 0.6353 - val_loss: 0.2588 - val_accuracy: 0.6416\n",
            "Epoch 36/100\n",
            "63/63 [==============================] - 14s 219ms/step - loss: 0.2591 - accuracy: 0.6450 - val_loss: 0.3120 - val_accuracy: 0.6043\n",
            "Epoch 37/100\n",
            "63/63 [==============================] - 15s 236ms/step - loss: 0.2544 - accuracy: 0.6518 - val_loss: 0.2385 - val_accuracy: 0.6707\n",
            "Epoch 38/100\n",
            "63/63 [==============================] - 14s 219ms/step - loss: 0.2457 - accuracy: 0.6624 - val_loss: 0.2419 - val_accuracy: 0.6693\n",
            "Epoch 39/100\n",
            "63/63 [==============================] - 14s 219ms/step - loss: 0.2413 - accuracy: 0.6705 - val_loss: 0.2389 - val_accuracy: 0.6736\n",
            "Epoch 40/100\n",
            "63/63 [==============================] - 15s 240ms/step - loss: 0.2354 - accuracy: 0.6803 - val_loss: 0.2339 - val_accuracy: 0.6798\n",
            "Epoch 41/100\n",
            "63/63 [==============================] - 15s 235ms/step - loss: 0.2329 - accuracy: 0.6851 - val_loss: 0.2279 - val_accuracy: 0.6892\n",
            "Epoch 42/100\n",
            "63/63 [==============================] - 14s 219ms/step - loss: 0.2217 - accuracy: 0.6998 - val_loss: 0.2307 - val_accuracy: 0.6901\n",
            "Epoch 43/100\n",
            "63/63 [==============================] - 15s 236ms/step - loss: 0.2186 - accuracy: 0.7056 - val_loss: 0.2138 - val_accuracy: 0.7072\n",
            "Epoch 44/100\n",
            "63/63 [==============================] - 15s 238ms/step - loss: 0.2128 - accuracy: 0.7161 - val_loss: 0.1958 - val_accuracy: 0.7360\n",
            "Epoch 45/100\n",
            "63/63 [==============================] - 14s 219ms/step - loss: 0.2040 - accuracy: 0.7276 - val_loss: 0.2303 - val_accuracy: 0.6982\n",
            "Epoch 46/100\n",
            "63/63 [==============================] - 14s 219ms/step - loss: 0.1975 - accuracy: 0.7385 - val_loss: 0.2145 - val_accuracy: 0.7183\n",
            "Epoch 47/100\n",
            "63/63 [==============================] - 14s 219ms/step - loss: 0.1955 - accuracy: 0.7420 - val_loss: 0.2018 - val_accuracy: 0.7351\n",
            "Epoch 48/100\n",
            "63/63 [==============================] - 15s 237ms/step - loss: 0.1890 - accuracy: 0.7504 - val_loss: 0.1894 - val_accuracy: 0.7484\n",
            "Epoch 49/100\n",
            "63/63 [==============================] - 15s 239ms/step - loss: 0.1845 - accuracy: 0.7569 - val_loss: 0.1884 - val_accuracy: 0.7486\n",
            "Epoch 50/100\n",
            "63/63 [==============================] - 15s 239ms/step - loss: 0.1791 - accuracy: 0.7631 - val_loss: 0.1849 - val_accuracy: 0.7540\n",
            "Epoch 51/100\n",
            "63/63 [==============================] - 15s 239ms/step - loss: 0.1766 - accuracy: 0.7678 - val_loss: 0.1824 - val_accuracy: 0.7606\n",
            "Epoch 52/100\n",
            "63/63 [==============================] - 14s 219ms/step - loss: 0.1701 - accuracy: 0.7753 - val_loss: 0.1834 - val_accuracy: 0.7631\n",
            "Epoch 53/100\n",
            "63/63 [==============================] - 15s 237ms/step - loss: 0.1666 - accuracy: 0.7805 - val_loss: 0.1750 - val_accuracy: 0.7761\n",
            "Epoch 54/100\n",
            "63/63 [==============================] - 15s 236ms/step - loss: 0.1645 - accuracy: 0.7849 - val_loss: 0.1718 - val_accuracy: 0.7762\n",
            "Epoch 55/100\n",
            "63/63 [==============================] - 14s 219ms/step - loss: 0.1589 - accuracy: 0.7931 - val_loss: 0.1841 - val_accuracy: 0.7698\n",
            "Epoch 56/100\n",
            "63/63 [==============================] - 15s 237ms/step - loss: 0.1568 - accuracy: 0.7973 - val_loss: 0.1691 - val_accuracy: 0.7812\n",
            "Epoch 57/100\n",
            "63/63 [==============================] - 15s 239ms/step - loss: 0.1499 - accuracy: 0.8046 - val_loss: 0.1671 - val_accuracy: 0.7864\n",
            "Epoch 58/100\n",
            "63/63 [==============================] - 14s 219ms/step - loss: 0.1468 - accuracy: 0.8100 - val_loss: 0.1865 - val_accuracy: 0.7629\n",
            "Epoch 59/100\n",
            "63/63 [==============================] - 15s 236ms/step - loss: 0.1436 - accuracy: 0.8140 - val_loss: 0.1547 - val_accuracy: 0.7985\n",
            "Epoch 60/100\n",
            "63/63 [==============================] - 14s 219ms/step - loss: 0.1416 - accuracy: 0.8176 - val_loss: 0.1710 - val_accuracy: 0.7736\n",
            "Epoch 61/100\n",
            "63/63 [==============================] - 14s 219ms/step - loss: 0.1373 - accuracy: 0.8231 - val_loss: 0.1665 - val_accuracy: 0.7958\n",
            "Epoch 62/100\n",
            "63/63 [==============================] - 15s 239ms/step - loss: 0.1344 - accuracy: 0.8290 - val_loss: 0.1492 - val_accuracy: 0.8074\n",
            "Epoch 63/100\n",
            "63/63 [==============================] - 15s 240ms/step - loss: 0.1298 - accuracy: 0.8357 - val_loss: 0.1365 - val_accuracy: 0.8265\n",
            "Epoch 64/100\n",
            "63/63 [==============================] - 14s 219ms/step - loss: 0.1282 - accuracy: 0.8374 - val_loss: 0.1602 - val_accuracy: 0.8054\n",
            "Epoch 65/100\n",
            "63/63 [==============================] - 14s 219ms/step - loss: 0.1254 - accuracy: 0.8421 - val_loss: 0.1624 - val_accuracy: 0.8073\n",
            "Epoch 66/100\n",
            "63/63 [==============================] - 14s 219ms/step - loss: 0.1199 - accuracy: 0.8496 - val_loss: 0.1381 - val_accuracy: 0.8250\n",
            "Epoch 67/100\n",
            "63/63 [==============================] - 14s 219ms/step - loss: 0.1178 - accuracy: 0.8518 - val_loss: 0.1461 - val_accuracy: 0.8231\n",
            "Epoch 68/100\n",
            "63/63 [==============================] - 14s 219ms/step - loss: 0.1137 - accuracy: 0.8578 - val_loss: 0.1610 - val_accuracy: 0.8165\n",
            "Epoch 69/100\n",
            "63/63 [==============================] - 15s 236ms/step - loss: 0.1119 - accuracy: 0.8613 - val_loss: 0.1347 - val_accuracy: 0.8354\n",
            "Epoch 70/100\n",
            "63/63 [==============================] - 15s 237ms/step - loss: 0.1076 - accuracy: 0.8663 - val_loss: 0.1326 - val_accuracy: 0.8350\n",
            "Epoch 71/100\n",
            "63/63 [==============================] - 14s 219ms/step - loss: 0.1057 - accuracy: 0.8692 - val_loss: 0.1617 - val_accuracy: 0.8126\n",
            "Epoch 72/100\n",
            "63/63 [==============================] - 15s 237ms/step - loss: 0.1018 - accuracy: 0.8744 - val_loss: 0.1323 - val_accuracy: 0.8363\n",
            "Epoch 73/100\n",
            "63/63 [==============================] - 15s 234ms/step - loss: 0.0998 - accuracy: 0.8790 - val_loss: 0.1095 - val_accuracy: 0.8691\n",
            "Epoch 74/100\n",
            "63/63 [==============================] - 15s 237ms/step - loss: 0.0964 - accuracy: 0.8824 - val_loss: 0.1036 - val_accuracy: 0.8735\n",
            "Epoch 75/100\n",
            "63/63 [==============================] - 14s 219ms/step - loss: 0.0954 - accuracy: 0.8847 - val_loss: 0.1074 - val_accuracy: 0.8741\n",
            "Epoch 76/100\n",
            "63/63 [==============================] - 14s 219ms/step - loss: 0.0912 - accuracy: 0.8891 - val_loss: 0.1248 - val_accuracy: 0.8558\n",
            "Epoch 77/100\n",
            "63/63 [==============================] - 15s 236ms/step - loss: 0.0887 - accuracy: 0.8927 - val_loss: 0.0997 - val_accuracy: 0.8828\n",
            "Epoch 78/100\n",
            "63/63 [==============================] - 14s 219ms/step - loss: 0.0870 - accuracy: 0.8959 - val_loss: 0.1116 - val_accuracy: 0.8678\n",
            "Epoch 79/100\n",
            "63/63 [==============================] - 14s 219ms/step - loss: 0.0849 - accuracy: 0.8975 - val_loss: 0.1101 - val_accuracy: 0.8756\n",
            "Epoch 80/100\n",
            "63/63 [==============================] - 15s 240ms/step - loss: 0.0833 - accuracy: 0.9005 - val_loss: 0.0992 - val_accuracy: 0.8832\n",
            "Epoch 81/100\n",
            "63/63 [==============================] - 14s 220ms/step - loss: 0.0787 - accuracy: 0.9057 - val_loss: 0.1059 - val_accuracy: 0.8786\n",
            "Epoch 82/100\n",
            "63/63 [==============================] - 14s 220ms/step - loss: 0.0773 - accuracy: 0.9074 - val_loss: 0.1080 - val_accuracy: 0.8763\n",
            "Epoch 83/100\n",
            "63/63 [==============================] - 14s 219ms/step - loss: 0.0766 - accuracy: 0.9105 - val_loss: 0.1215 - val_accuracy: 0.8624\n",
            "Epoch 84/100\n",
            "63/63 [==============================] - 15s 238ms/step - loss: 0.0738 - accuracy: 0.9126 - val_loss: 0.0989 - val_accuracy: 0.8871\n",
            "Epoch 85/100\n",
            "63/63 [==============================] - 14s 219ms/step - loss: 0.0701 - accuracy: 0.9171 - val_loss: 0.1898 - val_accuracy: 0.8116\n",
            "Epoch 86/100\n",
            "63/63 [==============================] - 14s 220ms/step - loss: 0.0708 - accuracy: 0.9160 - val_loss: 0.1067 - val_accuracy: 0.8789\n",
            "Epoch 87/100\n",
            "63/63 [==============================] - 15s 237ms/step - loss: 0.0680 - accuracy: 0.9200 - val_loss: 0.0978 - val_accuracy: 0.8858\n",
            "Epoch 88/100\n",
            "63/63 [==============================] - 14s 220ms/step - loss: 0.0676 - accuracy: 0.9234 - val_loss: 0.1143 - val_accuracy: 0.8772\n",
            "Epoch 89/100\n",
            "63/63 [==============================] - 15s 236ms/step - loss: 0.0658 - accuracy: 0.9232 - val_loss: 0.0961 - val_accuracy: 0.8941\n",
            "Epoch 90/100\n",
            "63/63 [==============================] - 14s 219ms/step - loss: 0.0629 - accuracy: 0.9270 - val_loss: 0.1319 - val_accuracy: 0.8578\n",
            "Epoch 91/100\n",
            "63/63 [==============================] - 14s 219ms/step - loss: 0.0610 - accuracy: 0.9293 - val_loss: 0.0976 - val_accuracy: 0.8954\n",
            "Epoch 92/100\n",
            "63/63 [==============================] - 14s 220ms/step - loss: 0.0606 - accuracy: 0.9300 - val_loss: 0.1173 - val_accuracy: 0.8717\n",
            "Epoch 93/100\n",
            "63/63 [==============================] - 14s 219ms/step - loss: 0.0586 - accuracy: 0.9320 - val_loss: 0.1557 - val_accuracy: 0.8439\n",
            "Epoch 94/100\n",
            "63/63 [==============================] - 14s 219ms/step - loss: 0.0584 - accuracy: 0.9331 - val_loss: 0.1127 - val_accuracy: 0.8804\n",
            "Epoch 95/100\n",
            "63/63 [==============================] - 14s 219ms/step - loss: 0.0550 - accuracy: 0.9365 - val_loss: 0.1575 - val_accuracy: 0.8408\n",
            "Epoch 96/100\n",
            "63/63 [==============================] - 14s 219ms/step - loss: 0.0543 - accuracy: 0.9394 - val_loss: 0.0984 - val_accuracy: 0.9006\n",
            "Epoch 97/100\n",
            "63/63 [==============================] - 14s 219ms/step - loss: 0.0534 - accuracy: 0.9388 - val_loss: 0.1682 - val_accuracy: 0.8314\n",
            "Epoch 98/100\n",
            "63/63 [==============================] - 14s 219ms/step - loss: 0.0537 - accuracy: 0.9400 - val_loss: 0.1199 - val_accuracy: 0.8973\n",
            "Epoch 99/100\n",
            "63/63 [==============================] - ETA: 0s - loss: 0.0524 - accuracy: 0.9415Restoring model weights from the end of the best epoch: 89.\n",
            "63/63 [==============================] - 14s 220ms/step - loss: 0.0524 - accuracy: 0.9415 - val_loss: 0.1065 - val_accuracy: 0.8913\n",
            "Epoch 99: early stopping\n"
          ]
        }
      ]
    },
    {
      "cell_type": "markdown",
      "source": [
        "## Vizualize Loss"
      ],
      "metadata": {
        "id": "tQ-oeo2zykP3"
      }
    },
    {
      "cell_type": "code",
      "source": [
        "loss = history.history[\"loss\"]\n",
        "val_loss = history.history[\"val_loss\"]\n",
        "epochs = range(1, len(loss) + 1)\n",
        "plt.figure()\n",
        "plt.plot(epochs, loss, \"bo\", label=\"Training loss\")\n",
        "plt.plot(epochs, val_loss, \"b\", label=\"Validation loss\")\n",
        "plt.title(\"Training and validation loss\")\n",
        "plt.legend()\n",
        "plt.show()"
      ],
      "metadata": {
        "id": "_l4Lh0-ryi8K",
        "outputId": "3e2850f3-2bec-4355-d719-2cc093322330",
        "colab": {
          "base_uri": "https://localhost:8080/",
          "height": 281
        }
      },
      "execution_count": 12,
      "outputs": [
        {
          "output_type": "display_data",
          "data": {
            "text/plain": [
              "<Figure size 432x288 with 1 Axes>"
            ],
            "image/png": "[encoded data removed]"
          },
          "metadata": {
            "needs_background": "light"
          }
        }
      ]
    },
    {
      "cell_type": "markdown",
      "source": [
        "# RUN THIS SECTION\n",
        "\n",
        "**This section evaluates the model and makes predictions.**"
      ],
      "metadata": {
        "id": "0owkl_Uq7SUz"
      }
    },
    {
      "cell_type": "markdown",
      "source": [
        "## Import Libraries"
      ],
      "metadata": {
        "id": "X3x05nQ_8KVh"
      }
    },
    {
      "cell_type": "code",
      "source": [
        "import pickle\n",
        "import tensorflow as tf\n",
        "import numpy as np\n",
        "from tensorflow import keras\n",
        "from tensorflow.keras import layers\n",
        "from matplotlib import pyplot as plt\n",
        "rng = np.random.default_rng()"
      ],
      "metadata": {
        "id": "Q8wvPLVU7R2d"
      },
      "execution_count": 50,
      "outputs": []
    },
    {
      "cell_type": "markdown",
      "source": [
        "## Encoder"
      ],
      "metadata": {
        "id": "dvZTQFAc8qrw"
      }
    },
    {
      "cell_type": "code",
      "source": [
        "class TransformerEncoder(layers.Layer):\n",
        "    def __init__(self, embed_dim, dense_dim, num_heads, **kwargs):\n",
        "        super().__init__(**kwargs)\n",
        "        self.embed_dim = embed_dim\n",
        "        self.dense_dim = dense_dim\n",
        "        self.num_heads = num_heads\n",
        "        self.attention = layers.MultiHeadAttention(\n",
        "            num_heads=num_heads, key_dim=embed_dim)\n",
        "        self.dense_proj = keras.Sequential(\n",
        "            [layers.Dense(dense_dim, activation=\"relu\"),\n",
        "             layers.Dense(embed_dim),]\n",
        "        )\n",
        "        self.layernorm_1 = layers.LayerNormalization()\n",
        "        self.layernorm_2 = layers.LayerNormalization()\n",
        "\n",
        "    def call(self, inputs, mask=None):\n",
        "        if mask is not None:\n",
        "            mask = mask[:, tf.newaxis, :]\n",
        "        attention_output = self.attention(\n",
        "            inputs, inputs, attention_mask=mask)\n",
        "        proj_input = self.layernorm_1(inputs + attention_output)\n",
        "        proj_output = self.dense_proj(proj_input)\n",
        "        return self.layernorm_2(proj_input + proj_output)\n",
        "\n",
        "    def get_config(self):\n",
        "        config = super().get_config()\n",
        "        config.update({\n",
        "            \"embed_dim\": self.embed_dim,\n",
        "            \"num_heads\": self.num_heads,\n",
        "            \"dense_dim\": self.dense_dim,\n",
        "        })\n",
        "        return config"
      ],
      "metadata": {
        "id": "BgYU3Q_09Bld"
      },
      "execution_count": 51,
      "outputs": []
    },
    {
      "cell_type": "markdown",
      "source": [
        "## Decoder"
      ],
      "metadata": {
        "id": "b8HkeaKW9QWD"
      }
    },
    {
      "cell_type": "code",
      "source": [
        "class TransformerDecoder(layers.Layer):\n",
        "    def __init__(self, embed_dim, dense_dim, num_heads, **kwargs):\n",
        "        super().__init__(**kwargs)\n",
        "        self.embed_dim = embed_dim\n",
        "        self.dense_dim = dense_dim\n",
        "        self.num_heads = num_heads\n",
        "        self.attention_1 = layers.MultiHeadAttention(\n",
        "            num_heads=num_heads, key_dim=embed_dim)\n",
        "        self.attention_2 = layers.MultiHeadAttention(\n",
        "            num_heads=num_heads, key_dim=embed_dim)\n",
        "        self.dense_proj = keras.Sequential(\n",
        "            [layers.Dense(dense_dim, activation=\"relu\"),\n",
        "             layers.Dense(embed_dim),]\n",
        "        )\n",
        "        self.layernorm_1 = layers.LayerNormalization()\n",
        "        self.layernorm_2 = layers.LayerNormalization()\n",
        "        self.layernorm_3 = layers.LayerNormalization()\n",
        "        self.supports_masking = True\n",
        "\n",
        "    def get_config(self):\n",
        "        config = super().get_config()\n",
        "        config.update({\n",
        "            \"embed_dim\": self.embed_dim,\n",
        "            \"num_heads\": self.num_heads,\n",
        "            \"dense_dim\": self.dense_dim,\n",
        "        })\n",
        "        return config\n",
        "\n",
        "    def get_causal_attention_mask(self, inputs):\n",
        "        input_shape = tf.shape(inputs)\n",
        "        batch_size, sequence_length = input_shape[0], input_shape[1]\n",
        "        i = tf.range(sequence_length)[:, tf.newaxis]\n",
        "        j = tf.range(sequence_length)\n",
        "        mask = tf.cast(i >= j, dtype=\"int32\")\n",
        "        mask = tf.reshape(mask, (1, input_shape[1], input_shape[1]))\n",
        "        mult = tf.concat(\n",
        "            [tf.expand_dims(batch_size, -1),\n",
        "             tf.constant([1, 1], dtype=tf.int32)], axis=0)\n",
        "        return tf.tile(mask, mult)\n",
        "\n",
        "    def call(self, inputs, encoder_outputs, mask=None):\n",
        "        causal_mask = self.get_causal_attention_mask(inputs)\n",
        "        if mask is not None:\n",
        "            padding_mask = tf.cast(\n",
        "                mask[:, tf.newaxis, :], dtype=\"int32\")\n",
        "            padding_mask = tf.minimum(padding_mask, causal_mask)\n",
        "        attention_output_1 = self.attention_1(\n",
        "            query=inputs,\n",
        "            value=inputs,\n",
        "            key=inputs,\n",
        "            attention_mask=causal_mask)\n",
        "        attention_output_1 = self.layernorm_1(inputs + attention_output_1)\n",
        "        attention_output_2 = self.attention_2(\n",
        "            query=attention_output_1,\n",
        "            value=encoder_outputs,\n",
        "            key=encoder_outputs,\n",
        "            attention_mask=padding_mask,\n",
        "        )\n",
        "        attention_output_2 = self.layernorm_2(\n",
        "            attention_output_1 + attention_output_2)\n",
        "        proj_output = self.dense_proj(attention_output_2)\n",
        "        return self.layernorm_3(attention_output_2 + proj_output)"
      ],
      "metadata": {
        "id": "QZIT2VWl82-B"
      },
      "execution_count": 52,
      "outputs": []
    },
    {
      "cell_type": "markdown",
      "source": [
        "## Positional Embedding"
      ],
      "metadata": {
        "id": "GR2Ll2Mg9TSA"
      }
    },
    {
      "cell_type": "code",
      "source": [
        "class PositionalEmbedding(layers.Layer):\n",
        "    def __init__(self, sequence_length, input_dim, output_dim, **kwargs):\n",
        "        super().__init__(**kwargs)\n",
        "        self.token_embeddings = layers.Embedding(\n",
        "            input_dim=input_dim, output_dim=output_dim)\n",
        "        self.position_embeddings = layers.Embedding(\n",
        "            input_dim=sequence_length, output_dim=output_dim)\n",
        "        self.sequence_length = sequence_length\n",
        "        self.input_dim = input_dim\n",
        "        self.output_dim = output_dim\n",
        "\n",
        "    def call(self, inputs):\n",
        "        length = tf.shape(inputs)[-1]\n",
        "        positions = tf.range(start=0, limit=length, delta=1)\n",
        "        embedded_tokens = self.token_embeddings(inputs)\n",
        "        embedded_positions = self.position_embeddings(positions)\n",
        "        return embedded_tokens + embedded_positions\n",
        "\n",
        "    def compute_mask(self, inputs, mask=None):\n",
        "        return tf.math.not_equal(inputs, 0)\n",
        "\n",
        "    def get_config(self):\n",
        "        config = super(PositionalEmbedding, self).get_config()\n",
        "        config.update({\n",
        "            \"output_dim\": self.output_dim,\n",
        "            \"sequence_length\": self.sequence_length,\n",
        "            \"input_dim\": self.input_dim,\n",
        "        })\n",
        "        return config"
      ],
      "metadata": {
        "id": "ZaNpKKMp63ya"
      },
      "execution_count": 53,
      "outputs": []
    },
    {
      "cell_type": "code",
      "source": [
        "encoder_vectorize = tf.keras.layers.TextVectorization(output_mode='int', output_sequence_length=200, vocabulary= ['', '[UNK]', 'a', 'b', 'c', 'e', 'g', 'd', 'f', 'k', 'i', 'j', 'h'])\n",
        "decoder_vectorize = tf.keras.layers.TextVectorization(output_mode='int', output_sequence_length=200, vocabulary= ['', '[UNK]', 'a', 'b', 'c', 'e', 'g', 'd', 'f', 'k', 'i', 'j', 'h', 'start', 'm', 'l', 'end', 'eh', 'eg', 'ef', 'ee', 'ed', 'ei', 'ej', 'ek', 'el', 'em', 'fd', 'fe', 'ff', 'fg', 'fh', 'fi', 'fj', 'fk', 'fl', 'fm', 'gd'])\n",
        "inverse_vectorize = dict(zip(range(38), ['', '[UNK]', 'a', 'b', 'c', 'e', 'g', 'd', 'f', 'k', 'i', 'j', 'h', 'start', 'm', 'l', 'end', 'eh', 'eg', 'ef', 'ee', 'ed', 'ei', 'ej', 'ek', 'el', 'em', 'fd', 'fe', 'ff', 'fg', 'fh', 'fi', 'fj', 'fk', 'fl', 'fm', 'gd']))"
      ],
      "metadata": {
        "id": "ukLDcQmh92VH"
      },
      "execution_count": 54,
      "outputs": []
    },
    {
      "cell_type": "code",
      "source": [
        "def decode_sequence(input_chunk):\n",
        "  encoded_chunk = encoder_path(input_chunk)\n",
        "  decoded_chunk = np.asarray([\"start\"])\n",
        "  decoded_chunk = np.repeat(decoded_chunk,input_chunk.shape[0])\n",
        "  for i in range(0, 200):\n",
        "    predictions = decoder_path([decoder_vectorize(decoded_chunk),encoded_chunk])\n",
        "    sampled_token_index = np.argmax(predictions[:, i, :], axis=1)\n",
        "    sampled_token = np.vectorize(inverse_vectorize.get)(sampled_token_index)\n",
        "    decoded_chunk = np.char.add(decoded_chunk, \" \")\n",
        "    decoded_chunk = np.char.add(decoded_chunk, sampled_token)\n",
        "  return decoded_chunk"
      ],
      "metadata": {
        "id": "E8skXYwz94vt"
      },
      "execution_count": 55,
      "outputs": []
    },
    {
      "cell_type": "markdown",
      "source": [
        "## Load transformer model"
      ],
      "metadata": {
        "id": "QA8rkIozAYc3"
      }
    },
    {
      "cell_type": "code",
      "source": [
        "transformer = keras.models.load_model(\n",
        "    \"/content/drive/MyDrive/Colab Notebooks/CSCE_636_Project_2/transformer.keras\",\n",
        "    custom_objects={\"TransformerEncoder\": TransformerEncoder,\n",
        "                    \"PositionalEmbedding\": PositionalEmbedding,\n",
        "                    \"TransformerDecoder\": TransformerDecoder})"
      ],
      "metadata": {
        "id": "Hf8ugB_jAbzA"
      },
      "execution_count": 56,
      "outputs": []
    },
    {
      "cell_type": "code",
      "source": [
        "test_input = encoder_vectorize(pickle.load(open(\"/content/drive/MyDrive/Colab Notebooks/CSCE_636_Project_2/DS_5_train_input\",'rb')))\n",
        "test_output = pickle.load(open(\"/content/drive/MyDrive/Colab Notebooks/CSCE_636_Project_2/DS_5_train_output\",'rb')) "
      ],
      "metadata": {
        "id": "nOpEkzE1AdAO"
      },
      "execution_count": 77,
      "outputs": []
    },
    {
      "cell_type": "code",
      "source": [
        "transformer.summary()\n",
        "tf.keras.utils.plot_model(transformer)"
      ],
      "metadata": {
        "id": "TjkQsP7DA1sp",
        "outputId": "c40e6f22-42e0-41eb-83d6-5ad4121fbf17",
        "colab": {
          "base_uri": "https://localhost:8080/",
          "height": 969
        }
      },
      "execution_count": 78,
      "outputs": [
        {
          "output_type": "stream",
          "name": "stdout",
          "text": [
            "Model: \"model\"\n",
            "__________________________________________________________________________________________________\n",
            " Layer (type)                   Output Shape         Param #     Connected to                     \n",
            "==================================================================================================\n",
            " input_1 (InputLayer)           [(None, None)]       0           []                               \n",
            "                                                                                                  \n",
            " input_2 (InputLayer)           [(None, None)]       0           []                               \n",
            "                                                                                                  \n",
            " positional_embedding (Position  (None, None, 256)   54528       ['input_1[0][0]']                \n",
            " alEmbedding)                                                                                     \n",
            "                                                                                                  \n",
            " positional_embedding_1 (Positi  (None, None, 256)   60928       ['input_2[0][0]']                \n",
            " onalEmbedding)                                                                                   \n",
            "                                                                                                  \n",
            " transformer_encoder (Transform  (None, None, 256)   2630144     ['positional_embedding[0][0]']   \n",
            " erEncoder)                                                                                       \n",
            "                                                                                                  \n",
            " transformer_decoder (Transform  (None, None, 256)   4734208     ['positional_embedding_1[0][0]', \n",
            " erDecoder)                                                       'transformer_encoder[0][0]']    \n",
            "                                                                                                  \n",
            " dropout (Dropout)              (None, None, 256)    0           ['transformer_decoder[0][0]']    \n",
            "                                                                                                  \n",
            " dense_4 (Dense)                (None, None, 38)     9766        ['dropout[0][0]']                \n",
            "                                                                                                  \n",
            "==================================================================================================\n",
            "Total params: 7,489,574\n",
            "Trainable params: 7,489,574\n",
            "Non-trainable params: 0\n",
            "__________________________________________________________________________________________________\n"
          ]
        },
        {
          "output_type": "execute_result",
          "data": {
            "text/plain": [
              "<IPython.core.display.Image object>"
            ],
            "image/png": "[encoded data removed]"
          },
          "metadata": {},
          "execution_count": 78
        }
      ]
    },
    {
      "cell_type": "code",
      "source": [
        "encoder_input = transformer.get_layer(\"input_1\").input\n",
        "encoder_ouput = transformer.get_layer(\"transformer_encoder\").output\n",
        "encoder_path = keras.Model(encoder_input,encoder_ouput)\n",
        "\n",
        "decoder_input = transformer.get_layer(\"input_2\").input\n",
        "x = transformer.get_layer(\"positional_embedding_1\")(decoder_input)\n",
        "encoder_output = transformer.get_layer(\"transformer_encoder\").output\n",
        "x = transformer.get_layer(\"transformer_decoder\")(x,encoder_output)\n",
        "x = transformer.get_layer(\"dropout\")(x)\n",
        "decoder_ouput = transformer.get_layer(\"dense_4\")(x)\n",
        "decoder_path = keras.Model([decoder_input,encoder_output],decoder_ouput)"
      ],
      "metadata": {
        "id": "KuQR1_TGBKcf"
      },
      "execution_count": 79,
      "outputs": []
    },
    {
      "cell_type": "code",
      "source": [
        "i = 0\n",
        "ans = decode_sequence(test_input[0:100])"
      ],
      "metadata": {
        "id": "SnvGbvjiCj1P"
      },
      "execution_count": 80,
      "outputs": []
    },
    {
      "cell_type": "code",
      "source": [
        "print(test_output[i])\n",
        "print(ans[i][6:])"
      ],
      "metadata": {
        "id": "uDK6Z4osDeVN",
        "outputId": "42bc6db4-cd8b-476e-df4e-dcc1de08e0e0",
        "colab": {
          "base_uri": "https://localhost:8080/"
        }
      },
      "execution_count": 82,
      "outputs": [
        {
          "output_type": "stream",
          "name": "stdout",
          "text": [
            "b f c f b f c d a j e f g c e b g a k i j b d b f a k l m b f b d a h ed ee ef a k k eg a k h eh a e ei c d a f ej ek a g d el \n",
            "b f c f b d c f a j e f g c e b g a k i j b d b f a k l m b f b d a h ed ee ef a k k eg a k h eh a e ei c d a f ej ek a g d el end e em end end fd end end fe end end end end ff fg end end a g fh end end end a g fj fk end end fl end end fm end end gd end end end end a g a g a g a g a g a g a g a g a g a h d eg fl end a g a g a g a g a g a a a g f f f f f f f d f f ei end end end ed ek el end end end end end end e f d e f d ei end c e f c e f eh end c e a g c e h c e h c e h c e k c e ee fd fg end c e\n"
          ]
        }
      ]
    },
    {
      "cell_type": "code",
      "source": [
        "from operator import eq\n",
        "total = 0.0\n",
        "correct = 0.0\n",
        "for i in range(0, 100):\n",
        "  true = test_output[i].split()\n",
        "  test = ans[i].split()\n",
        "  correct = correct + sum(map(eq, true, test))\n",
        "  total = total + len(test)\n",
        "print(correct/total)"
      ],
      "metadata": {
        "id": "Ocft8Kz0C65R",
        "outputId": "25a150d8-a39f-4785-bdc1-21e6f3861683",
        "colab": {
          "base_uri": "https://localhost:8080/"
        }
      },
      "execution_count": 85,
      "outputs": [
        {
          "output_type": "stream",
          "name": "stdout",
          "text": [
            "0.01328358208955224\n"
          ]
        }
      ]
    }
  ],
  "metadata": {
    "accelerator": "GPU",
    "colab": {
      "machine_shape": "hm",
      "name": "CSCE_636_HW04_Sol.ipynb",
      "provenance": []
    },
    "interpreter": {
      "hash": "02de5609ef162b6bcc51dd429fd31b9a1f163c414526741362218fd7f2e354ad"
    },
    "kernelspec": {
      "display_name": "Python 3.9.7 64-bit",
      "language": "python",
      "name": "python3"
    },
    "language_info": {
      "codemirror_mode": {
        "name": "ipython",
        "version": 3
      },
      "file_extension": ".py",
      "mimetype": "text/x-python",
      "name": "python",
      "nbconvert_exporter": "python",
      "pygments_lexer": "ipython3",
      "version": "3.9.7"
    },
    "orig_nbformat": 4
  },
  "nbformat": 4,
  "nbformat_minor": 0
}