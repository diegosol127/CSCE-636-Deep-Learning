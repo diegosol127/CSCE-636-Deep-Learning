{
  "cells": [
    {
      "cell_type": "markdown",
      "metadata": {
        "id": "6VIavSB9FklF"
      },
      "source": [
        "# HOMEWORK 03\n",
        "\n",
        "**Submitted by: Diego Sol**\n",
        "\n",
        "CSCE 636-600: Deep Learning\n",
        "\n",
        "Professor: Dr. Anxiao Jiang"
      ]
    },
    {
      "cell_type": "markdown",
      "metadata": {
        "id": "byUhW1l5FklN"
      },
      "source": [
        "## Task 1\n",
        "\n",
        "**Check out the Jupyter notebook for Chapter 5 at https://github.com/fchollet/deep-learning-with-python-notebooks/blob/master/chapter05_fundamentals-of-ml.ipynb . Answer the question: what regularization techniques were mentioned in that Jupyter notebook? (5 points)**"
      ]
    },
    {
      "cell_type": "markdown",
      "metadata": {
        "id": "fllB0RugFklO"
      },
      "source": [
        "The Jupyter notebook for Chapter 5 mentions the following regularization techniques:\n",
        "- `L1 weight regularization`\n",
        "- `L2 weight regularization`\n",
        "- `Dropout regularization`"
      ]
    },
    {
      "cell_type": "markdown",
      "metadata": {
        "id": "ADuO2GbZFklP"
      },
      "source": [
        "## Task 2\n",
        "\n",
        "**The MNIST dataset has 60,000 training images and 10,000 test images. Each image is a 28x28 array, where each array element is between 0 and 255. The images have 10 labels: 0, 1, 2, 3, 4, 5, 6, 7, 8, 9.**\n",
        "\n",
        "**We now create a new dataset of 30,000 training images, 5,000 test images and 5 labels (which are 0, 1, 2, 3, 4) as follows. First, randomly pair up the training images of label 0 with the training images of label 1, to get 6,000 such pairs. Then, for each pair (A,B) where A is an image of label 0 and B is an image of label 1, we create a new image of size 28x28, where each element's value is the \"average\" of the two corresponding pixel values in A and B. (So the new image is a \"mixture\" of the two original images.) This way we create 6,000 new \"mixture\" images for training. In a similar way, we create 1,000 new \"mixture\" images for testing. We give all these 6,000+1,000=7,000 new \"mixture\" images the new label 0. Then, in the same way, we create 6,000 new training images and 1,000 new test images by mixing the original images of label \"2\" and \"3\", and give them the new label 1; create 6,000 new training images and 1,000 new test images by mixing the original images of label \"4\" and \"5\", and give them the new label 2; create 6,000 new training images and 1,000 new test images by mixing the original images of label \"6\" and \"7\", and give them the new label 3; create 6,000 new training images and 1,000 new test images by mixing the original images of label \"8\" and \"9\", and give them the new label 4.**   \n",
        "\n",
        "**Your task: submit your code that creates the above new dataset; then for each of the 5 new labels, randomly select 2 images of that label from your new dataset, and display them in your submitted Jupyter notebook. (5 points)**"
      ]
    },
    {
      "cell_type": "markdown",
      "source": [
        "Import packages"
      ],
      "metadata": {
        "id": "HyUA-GgqI7qz"
      }
    },
    {
      "cell_type": "code",
      "source": [
        "import numpy as np\n",
        "import tensorflow as tf\n",
        "import matplotlib.pyplot as plt\n",
        "\n",
        "from re import VERBOSE\n",
        "from tensorflow import keras\n",
        "from tensorflow.keras import layers\n",
        "from tensorflow.keras import regularizers\n",
        "from tensorflow.keras.datasets import mnist"
      ],
      "metadata": {
        "id": "luY-LZihI7MI"
      },
      "execution_count": 41,
      "outputs": []
    },
    {
      "cell_type": "markdown",
      "source": [
        "Load MNIST dataset"
      ],
      "metadata": {
        "id": "VtQZNoE9JLjn"
      }
    },
    {
      "cell_type": "code",
      "source": [
        "# load data\n",
        "(train_images, train_labels), (test_images, test_labels) = mnist.load_data()"
      ],
      "metadata": {
        "id": "JXB0sP_SGXz_"
      },
      "execution_count": 42,
      "outputs": []
    },
    {
      "cell_type": "markdown",
      "source": [
        "Create new images by averaging the pixel values of paired numbers"
      ],
      "metadata": {
        "id": "f5yb3RC3JWVt"
      }
    },
    {
      "cell_type": "code",
      "source": [
        "# number of labels\n",
        "nums = range(10)\n",
        "\n",
        "# find indices for the labels of each number\n",
        "train_labels_idx = [] # list of indices for each training label\n",
        "test_labels_idx = [] # list of indices for each testing label\n",
        "for ii in nums:\n",
        "  train_labels_idx.append(np.where(train_labels==ii)[0])\n",
        "  test_labels_idx.append(np.where(test_labels==ii)[0])\n",
        "\n",
        "# choose specified (6000 or 1000) elements from each label randomly\n",
        "train_labels_idx_rand = [] # list of randomized training label indices\n",
        "test_labels_idx_rand = [] # list of randomized testing label indices\n",
        "for jj in nums:\n",
        "  train_labels_idx_rand.append(np.random.choice(train_labels_idx[jj],6000))\n",
        "  test_labels_idx_rand.append(np.random.choice(test_labels_idx[jj],1000))\n",
        "\n",
        "# average values of images in pairs\n",
        "train_images_list = [] # list of new (mixed) training images\n",
        "test_images_list = [] # list of new (mixed) testing images\n",
        "for kk in nums[::2]:\n",
        "  train_images_list.append(train_images[train_labels_idx_rand[kk]]\n",
        "                           +train_images[train_labels_idx_rand[kk+1]]/2)\n",
        "  test_images_list.append(test_images[test_labels_idx_rand[kk]]\n",
        "                          +test_images[test_labels_idx_rand[kk+1]]/2)\n",
        "\n",
        "# concatenate arrays to create the new training and testing images\n",
        "train_images_new = np.vstack(train_images_list)\n",
        "test_images_new = np.vstack(test_images_list)"
      ],
      "metadata": {
        "id": "Npc94wAGbkJf"
      },
      "execution_count": 43,
      "outputs": []
    },
    {
      "cell_type": "markdown",
      "source": [
        "Create labels for the new images"
      ],
      "metadata": {
        "id": "mOaUvJzIK7FL"
      }
    },
    {
      "cell_type": "code",
      "source": [
        "# create lists of new labels\n",
        "train_labels_list = [] # list of arrays containing new training labels\n",
        "test_labels_list = [] # list of arrays containing new testing labels\n",
        "for ii in range(5):\n",
        "  train_labels_list.append(np.full((6000,),ii))\n",
        "  test_labels_list.append(np.full((1000,),ii))\n",
        "\n",
        "# concatenate arrays to create new training and testing labels\n",
        "train_labels_new = np.hstack(train_labels_list)\n",
        "test_labels_new = np.hstack(test_labels_list)"
      ],
      "metadata": {
        "id": "rpHEqv6pLMMX"
      },
      "execution_count": 44,
      "outputs": []
    },
    {
      "cell_type": "markdown",
      "source": [
        "Shuffle new images and labels to create a new dataset that is ready to be used for training"
      ],
      "metadata": {
        "id": "l50gJjV6O-TC"
      }
    },
    {
      "cell_type": "code",
      "source": [
        "# pair images and labels together\n",
        "train_data_paired = list(zip(train_images_new,train_labels_new))\n",
        "test_data_paired = list(zip(test_images_new,test_labels_new))\n",
        "\n",
        "# shuffle paired data\n",
        "np.random.shuffle(train_data_paired)\n",
        "np.random.shuffle(test_data_paired)\n",
        "\n",
        "# unzip shuffled data\n",
        "train_images_unzip, train_labels_unzip = zip(*train_data_paired)\n",
        "test_images_unzip, test_labels_unzip = zip(*test_data_paired)\n",
        "\n",
        "# convert unzipped data to nump.ndarray\n",
        "train_images_NEW = np.asarray(train_images_unzip)\n",
        "train_labels_NEW = np.asarray(train_labels_unzip)\n",
        "test_images_NEW = np.asarray(test_images_unzip)\n",
        "test_labels_NEW = np.asarray(test_labels_unzip)"
      ],
      "metadata": {
        "id": "mnulczNbPNNQ"
      },
      "execution_count": 45,
      "outputs": []
    },
    {
      "cell_type": "markdown",
      "source": [
        "Plot new training data examples at random"
      ],
      "metadata": {
        "id": "8601ikCLUJQx"
      }
    },
    {
      "cell_type": "code",
      "source": [
        "# create figure for training data\n",
        "fig1, ax1 = plt.subplots(2,5)\n",
        "\n",
        "# figure title\n",
        "fig1.suptitle(\"Images from the new training dataset\", fontweight=\"bold\")\n",
        "\n",
        "# plot the new images\n",
        "for ii in range(5):\n",
        "  ax1[0,ii].set_title(f\"Label {ii}\")\n",
        "\n",
        "  for jj in range(2):\n",
        "    ax1[jj,ii].imshow(train_images_NEW[np.random.choice(np.where(train_labels_NEW==ii)[0])], cmap=plt.cm.binary)\n",
        "    ax1[jj,ii].axis(\"off\")\n",
        "\n",
        "plt.show()"
      ],
      "metadata": {
        "colab": {
          "base_uri": "https://localhost:8080/",
          "height": 257
        },
        "id": "_k3Yy1l1UPxJ",
        "outputId": "58ccdc23-6cb4-4318-a76c-5e5f82f11b42"
      },
      "execution_count": 46,
      "outputs": [
        {
          "output_type": "display_data",
          "data": {
            "image/png": "[encoded data removed]",
            "text/plain": [
              "<Figure size 432x288 with 10 Axes>"
            ]
          },
          "metadata": {
            "needs_background": "light"
          }
        }
      ]
    },
    {
      "cell_type": "markdown",
      "source": [
        "Plot new testing data examples at random"
      ],
      "metadata": {
        "id": "gW5vNun1iG7N"
      }
    },
    {
      "cell_type": "code",
      "source": [
        "# create figure for testing data\n",
        "fig2, ax2 = plt.subplots(2,5)\n",
        "\n",
        "# figure title\n",
        "fig2.suptitle(\"Images from the new testing dataset\", fontweight=\"bold\")\n",
        "\n",
        "# plot the new images\n",
        "for ii in range(5):\n",
        "  ax2[0,ii].set_title(f\"Label {ii}\")\n",
        "\n",
        "  for jj in range(2):\n",
        "    ax2[jj,ii].imshow(test_images_NEW[np.random.choice(np.where(test_labels_NEW==ii)[0])], cmap=plt.cm.binary)\n",
        "    ax2[jj,ii].axis(\"off\")\n",
        "\n",
        "plt.show()"
      ],
      "metadata": {
        "colab": {
          "base_uri": "https://localhost:8080/",
          "height": 257
        },
        "id": "7d6YEe4AiDft",
        "outputId": "40bb5bb0-e4e4-497a-d529-8d9875a26d44"
      },
      "execution_count": 47,
      "outputs": [
        {
          "output_type": "display_data",
          "data": {
            "image/png": "[encoded data removed]",
            "text/plain": [
              "<Figure size 432x288 with 10 Axes>"
            ]
          },
          "metadata": {
            "needs_background": "light"
          }
        }
      ]
    },
    {
      "cell_type": "markdown",
      "source": [
        "## Task 3\n",
        "\n",
        "**Design a neural network model to classify the 5 classes in the new dataset, and optimize it by tuning its hyper-parameters and trying our learned regualization techniques (such as L1 regularization, L2 regularization, dropout).**\n",
        "\n",
        "**Your task: For your final (namely, optimized) neural network model, submit its code, and show the model's performance (including loss value and accuracy) for training, validation and testing. (For training performance and validation performance, illustrate them using figures, where the x-axis is the number of training epochs, and the y-axis is the loss or accuracy. For testing performance, just show the values of loss and accuracy.) Also, answer the questions: in this process of optimizing your model, did you observe underfitting? Did you observe overfitting? Did you try the reguliazation techniques? Did they help? (10 points)**"
      ],
      "metadata": {
        "id": "w5TdfFA7gReA"
      }
    },
    {
      "cell_type": "markdown",
      "source": [
        "Prepare the new image data"
      ],
      "metadata": {
        "id": "otFzbQViikAr"
      }
    },
    {
      "cell_type": "code",
      "source": [
        "# resize and normalize new image data\n",
        "train_images_NEW = train_images_NEW.reshape((30000, 28 * 28))\n",
        "train_images_NEW = train_images_NEW.astype(\"float32\") / 255\n",
        "test_images_NEW = test_images_NEW.reshape((5000, 28 * 28))\n",
        "test_images_NEW = test_images_NEW.astype(\"float32\") / 255"
      ],
      "metadata": {
        "id": "xiiyg36FgYsn"
      },
      "execution_count": 48,
      "outputs": []
    },
    {
      "cell_type": "markdown",
      "source": [
        "Network architecture"
      ],
      "metadata": {
        "id": "AF9AMG_ii9vI"
      }
    },
    {
      "cell_type": "code",
      "source": [
        "# sequential model\n",
        "model = keras.Sequential([\n",
        "  layers.Dense(128, activation=\"relu\"),\n",
        "  layers.Dense(128, activation=\"relu\"),\n",
        "  layers.Dropout(0.5),\n",
        "  layers.Dense(5, activation=\"softmax\")\n",
        "])\n",
        "\n",
        "# compilation\n",
        "model.compile(optimizer=\"rmsprop\",\n",
        "              loss=\"sparse_categorical_crossentropy\",\n",
        "              metrics=[\"accuracy\"])\n",
        "\n",
        "# train the model and record the progress\n",
        "history = model.fit(train_images_NEW, train_labels_NEW,\n",
        "                    epochs=50,\n",
        "                    batch_size=128,\n",
        "                    validation_split=0.4,\n",
        "                    verbose=0)"
      ],
      "metadata": {
        "id": "M-H-HxnYixm8"
      },
      "execution_count": 64,
      "outputs": []
    },
    {
      "cell_type": "markdown",
      "source": [
        "Extract loss and accuracy for training and validation data"
      ],
      "metadata": {
        "id": "0AdvjpRwmmc4"
      }
    },
    {
      "cell_type": "code",
      "source": [
        "# history data\n",
        "history_dict = history.history\n",
        "\n",
        "# training metric history\n",
        "train_loss_values = history_dict[\"loss\"]\n",
        "train_acc_values = history_dict[\"accuracy\"]\n",
        "\n",
        "# validation metric history\n",
        "val_loss_values = history_dict[\"val_loss\"]\n",
        "val_acc_values = history_dict[\"val_accuracy\"]\n",
        "\n",
        "# epochs\n",
        "epochs = range(1, len(train_loss_values) + 1)"
      ],
      "metadata": {
        "id": "V4LIHoAHmtTQ"
      },
      "execution_count": 65,
      "outputs": []
    },
    {
      "cell_type": "markdown",
      "source": [
        "Plot training and validation loss"
      ],
      "metadata": {
        "id": "wh1UzMi8xfkA"
      }
    },
    {
      "cell_type": "code",
      "source": [
        "# create figure for training data\n",
        "fig3, ax3 = plt.subplots()\n",
        "\n",
        "# plot\n",
        "ax3.plot(epochs, train_loss_values, \"bo\", label=\"Training Loss\")\n",
        "ax3.plot(epochs, val_loss_values, \"b\", label=\"Validation Loss\")\n",
        "ax3.set_title(\"Training and Validation Loss\")\n",
        "ax3.set_xlabel(\"Epochs\")\n",
        "ax3.set_ylabel(\"Loss\")\n",
        "ax3.legend()\n",
        "plt.show()"
      ],
      "metadata": {
        "colab": {
          "base_uri": "https://localhost:8080/",
          "height": 295
        },
        "id": "FL6d2KKGxs41",
        "outputId": "ee67e6f9-ab39-4bbb-d783-489c5ee0a518"
      },
      "execution_count": 66,
      "outputs": [
        {
          "output_type": "display_data",
          "data": {
            "image/png": "[encoded data removed]",
            "text/plain": [
              "<Figure size 432x288 with 1 Axes>"
            ]
          },
          "metadata": {
            "needs_background": "light"
          }
        }
      ]
    },
    {
      "cell_type": "markdown",
      "source": [
        "Plot training and validation accuracy"
      ],
      "metadata": {
        "id": "mMIidLVNzxk6"
      }
    },
    {
      "cell_type": "code",
      "source": [
        "# create figure for training data\n",
        "fig4, ax4 = plt.subplots()\n",
        "\n",
        "# plot\n",
        "ax4.plot(epochs, train_acc_values, \"bo\", label=\"Training Accuracy\")\n",
        "ax4.plot(epochs, val_acc_values, \"b\", label=\"Validation Accuracy\")\n",
        "ax4.set_title(\"Training and Accuracy Loss\")\n",
        "ax4.set_xlabel(\"Epochs\")\n",
        "ax4.set_ylabel(\"Accuracy\")\n",
        "ax4.legend()\n",
        "plt.show()"
      ],
      "metadata": {
        "colab": {
          "base_uri": "https://localhost:8080/",
          "height": 295
        },
        "id": "eZdtTI89zw9C",
        "outputId": "75795b78-016f-4321-867a-3f28b23cf59a"
      },
      "execution_count": 67,
      "outputs": [
        {
          "output_type": "display_data",
          "data": {
            "image/png": "[encoded data removed]",
            "text/plain": [
              "<Figure size 432x288 with 1 Axes>"
            ]
          },
          "metadata": {
            "needs_background": "light"
          }
        }
      ]
    },
    {
      "cell_type": "markdown",
      "source": [
        "Retrain the model from scratch"
      ],
      "metadata": {
        "id": "gp8FLxhj09zD"
      }
    },
    {
      "cell_type": "code",
      "source": [
        "# index the epoch where the maximum accuracy was achieved\n",
        "max_acc_idx = val_acc_values.index(max(val_acc_values))\n",
        "\n",
        "# sequential model\n",
        "model = keras.Sequential([\n",
        "  layers.Dense(128, activation=\"relu\"),\n",
        "  layers.Dense(128, activation=\"relu\"),\n",
        "  layers.Dropout(0.5),\n",
        "  layers.Dense(5, activation=\"softmax\")\n",
        "])\n",
        "\n",
        "# compilation\n",
        "model.compile(optimizer=\"rmsprop\",\n",
        "              loss=\"sparse_categorical_crossentropy\",\n",
        "              metrics=[\"accuracy\"])\n",
        "\n",
        "# train the model and record the progress\n",
        "history = model.fit(train_images_NEW, train_labels_NEW,\n",
        "                    epochs=13,\n",
        "                    batch_size=128,\n",
        "                    validation_split=0.4,\n",
        "                    verbose=0)"
      ],
      "metadata": {
        "id": "VXuymIN22Ayy"
      },
      "execution_count": 68,
      "outputs": []
    },
    {
      "cell_type": "markdown",
      "source": [
        "Final results"
      ],
      "metadata": {
        "id": "raQ-vQn_2X15"
      }
    },
    {
      "cell_type": "code",
      "source": [
        "# print final results\n",
        "results = model.evaluate(test_images_NEW, test_labels_NEW)\n",
        "print(f'Network loss:     {results[0]}')\n",
        "print(f'Network accuracy: {results[1]}')"
      ],
      "metadata": {
        "colab": {
          "base_uri": "https://localhost:8080/"
        },
        "id": "hBZeSp7l2ZWR",
        "outputId": "eac19319-906f-4189-b639-9c22c4de4eec"
      },
      "execution_count": 69,
      "outputs": [
        {
          "output_type": "stream",
          "name": "stdout",
          "text": [
            "157/157 [==============================] - 2s 12ms/step - loss: 0.0827 - accuracy: 0.9808\n",
            "Network loss:     0.08270721137523651\n",
            "Network accuracy: 0.9807999730110168\n"
          ]
        }
      ]
    },
    {
      "cell_type": "markdown",
      "source": [
        "### Baseline Model\n",
        "This is the first model that was fitted and evaluated. It consists of the following hyper-parameters:\n",
        "- `dense(16, activation='relu')`\n",
        "- `dense(16, activation='relu')`\n",
        "- `optimizer=rmsprop`\n",
        "- `loss=sparse_categorical_crossentropy`\n",
        "- `metrics=[accuracy]`\n",
        "- `batch_size=128`\n",
        "- `validation_split=0.4`\n",
        "\n",
        "After 8 epochs, this baseline model had the following results:\n",
        "- Loss: `0.10551436990499496`\n",
        "- Accuracy: `0.967199981212616`"
      ],
      "metadata": {
        "id": "4xvlr6485SpD"
      }
    },
    {
      "cell_type": "markdown",
      "source": [
        "### Optimization Process\n",
        "\n",
        "The baseline model already achieves a very high degree of accuracy after 8 epochs. The following approaches were implemented in various combinations to try to improve the performance of the network:\n",
        "- increasing the number of perceptrons in the hidden layers\n",
        "- adding dropout regularization (varying from 0.2 to 0.5) after the hidden layers\n",
        "- adding l1 and l2 weight regularization to the hidden layers\n",
        "- changing between various optimizers\n",
        "- changing the batch size"
      ],
      "metadata": {
        "id": "rgSTWYfF84hD"
      }
    },
    {
      "cell_type": "markdown",
      "source": [
        "### Conclusions\n",
        "\n",
        "Without any regularization techniques, underfitting occurred for approximately 8 epochs before reaching a robust fit that rapily begins to overfit after a few more iterations. Both weight regularization and dropout were found to prolong the onset of overfitting. However, this comes at the cost of slowing down the progress of optimization. After various iterations of combining hyper-paramters, it was shown that the following changes to the baseline model resulted in the optimal network configuration:\n",
        "- increasing the number of perceptrons in the hidden layers to 128\n",
        "- adding dropout regularization (0.5) after the second hidden layer\n",
        "\n",
        "This configuration had the following results after 13 epochs:\n",
        "- Loss: `0.08270721137523651`\n",
        "- Accuracy: `0.9807999730110168`"
      ],
      "metadata": {
        "id": "Eb1HgEN2Exk-"
      }
    }
  ],
  "metadata": {
    "interpreter": {
      "hash": "02de5609ef162b6bcc51dd429fd31b9a1f163c414526741362218fd7f2e354ad"
    },
    "kernelspec": {
      "display_name": "Python 3.9.7 64-bit",
      "language": "python",
      "name": "python3"
    },
    "language_info": {
      "name": "python",
      "version": "3.9.7"
    },
    "orig_nbformat": 4,
    "colab": {
      "name": "CSCE_636_HW03_Sol.ipynb",
      "provenance": []
    },
    "accelerator": "GPU"
  },
  "nbformat": 4,
  "nbformat_minor": 0
}