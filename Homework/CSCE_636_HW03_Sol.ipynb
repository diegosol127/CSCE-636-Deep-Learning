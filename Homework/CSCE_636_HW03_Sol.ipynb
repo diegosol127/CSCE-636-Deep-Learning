{
  "cells": [
    {
      "cell_type": "markdown",
      "metadata": {
        "id": "6VIavSB9FklF"
      },
      "source": [
        "# HOMEWORK 03\n",
        "\n",
        "**Submitted by: Diego Sol**\n",
        "\n",
        "CSCE 636-600: Deep Learning\n",
        "\n",
        "Professor: Dr. Anxiao Jiang"
      ]
    },
    {
      "cell_type": "markdown",
      "metadata": {
        "id": "byUhW1l5FklN"
      },
      "source": [
        "## Task 1\n",
        "\n",
        "**Check out the Jupyter notebook for Chapter 5 at https://github.com/fchollet/deep-learning-with-python-notebooks/blob/master/chapter05_fundamentals-of-ml.ipynb . Answer the question: what regularization techniques were mentioned in that Jupyter notebook? (5 points)**"
      ]
    },
    {
      "cell_type": "markdown",
      "metadata": {
        "id": "fllB0RugFklO"
      },
      "source": [
        "The Jupyter notebook for Chapter 5 mentions the following regularization techniques:\n",
        "- `L1 weight regularization`\n",
        "- `L2 weight regularization`\n",
        "- `Dropout regularization`"
      ]
    },
    {
      "cell_type": "markdown",
      "metadata": {
        "id": "ADuO2GbZFklP"
      },
      "source": [
        "## Task 2\n",
        "\n",
        "**The MNIST dataset has 60,000 training images and 10,000 test images. Each image is a 28x28 array, where each array element is between 0 and 255. The images have 10 labels: 0, 1, 2, 3, 4, 5, 6, 7, 8, 9.**\n",
        "\n",
        "**We now create a new dataset of 30,000 training images, 5,000 test images and 5 labels (which are 0, 1, 2, 3, 4) as follows. First, randomly pair up the training images of label 0 with the training images of label 1, to get 6,000 such pairs. Then, for each pair (A,B) where A is an image of label 0 and B is an image of label 1, we create a new image of size 28x28, where each element's value is the \"average\" of the two corresponding pixel values in A and B. (So the new image is a \"mixture\" of the two original images.) This way we create 6,000 new \"mixture\" images for training. In a similar way, we create 1,000 new \"mixture\" images for testing. We give all these 6,000+1,000=7,000 new \"mixture\" images the new label 0. Then, in the same way, we create 6,000 new training images and 1,000 new test images by mixing the original images of label \"2\" and \"3\", and give them the new label 1; create 6,000 new training images and 1,000 new test images by mixing the original images of label \"4\" and \"5\", and give them the new label 2; create 6,000 new training images and 1,000 new test images by mixing the original images of label \"6\" and \"7\", and give them the new label 3; create 6,000 new training images and 1,000 new test images by mixing the original images of label \"8\" and \"9\", and give them the new label 4.**   \n",
        "\n",
        "**Your task: submit your code that creates the above new dataset; then for each of the 5 new labels, randomly select 2 images of that label from your new dataset, and display them in your submitted Jupyter notebook. (5 points)**"
      ]
    },
    {
      "cell_type": "markdown",
      "source": [
        "Import packages"
      ],
      "metadata": {
        "id": "HyUA-GgqI7qz"
      }
    },
    {
      "cell_type": "code",
      "source": [
        "from tensorflow.keras.datasets import mnist\n",
        "import numpy as np\n",
        "import matplotlib.pyplot as plt"
      ],
      "metadata": {
        "id": "luY-LZihI7MI"
      },
      "execution_count": 1,
      "outputs": []
    },
    {
      "cell_type": "markdown",
      "source": [
        "Load MNIST dataset"
      ],
      "metadata": {
        "id": "VtQZNoE9JLjn"
      }
    },
    {
      "cell_type": "code",
      "source": [
        "# load data\n",
        "(train_images, train_labels), (test_images, test_labels) = mnist.load_data()"
      ],
      "metadata": {
        "id": "JXB0sP_SGXz_"
      },
      "execution_count": 2,
      "outputs": []
    },
    {
      "cell_type": "markdown",
      "source": [
        "Create new images by averaging the pixel values of paired numbers"
      ],
      "metadata": {
        "id": "f5yb3RC3JWVt"
      }
    },
    {
      "cell_type": "code",
      "source": [
        "# number of labels\n",
        "nums = range(10)\n",
        "\n",
        "# find indices for the labels of each number\n",
        "train_labels_idx = [] # list of indices for each training label\n",
        "test_labels_idx = [] # list of indices for each testing label\n",
        "for ii in nums:\n",
        "  train_labels_idx.append(np.where(train_labels==ii)[0])\n",
        "  test_labels_idx.append(np.where(test_labels==ii)[0])\n",
        "\n",
        "# choose specified (6000 or 1000) elements from each label randomly\n",
        "train_labels_idx_rand = [] # list of randomized training label indices\n",
        "test_labels_idx_rand = [] # list of randomized testing label indices\n",
        "for jj in nums:\n",
        "  train_labels_idx_rand.append(np.random.choice(train_labels_idx[jj],6000))\n",
        "  test_labels_idx_rand.append(np.random.choice(test_labels_idx[jj],1000))\n",
        "\n",
        "# average values of images in pairs\n",
        "train_images_list = [] # list of new (mixed) training images\n",
        "test_images_list = [] # list of new (mixed) testing images\n",
        "for kk in nums[::2]:\n",
        "  train_images_list.append(train_images[train_labels_idx_rand[kk]]\n",
        "                           +train_images[train_labels_idx_rand[kk+1]]/2)\n",
        "  test_images_list.append(test_images[test_labels_idx_rand[kk]]\n",
        "                          +test_images[test_labels_idx_rand[kk+1]]/2)\n",
        "\n",
        "# concatenate arrays to create the new training and testing images\n",
        "train_images_new = np.vstack(train_images_list)\n",
        "test_images_new = np.vstack(test_images_list)"
      ],
      "metadata": {
        "id": "Npc94wAGbkJf"
      },
      "execution_count": 3,
      "outputs": []
    },
    {
      "cell_type": "markdown",
      "source": [
        "Create labels for the new images"
      ],
      "metadata": {
        "id": "mOaUvJzIK7FL"
      }
    },
    {
      "cell_type": "code",
      "source": [
        "# create lists of new labels\n",
        "train_labels_list = [] # list of arrays containing new training labels\n",
        "test_labels_list = [] # list of arrays containing new testing labels\n",
        "for ii in range(5):\n",
        "  train_labels_list.append(np.full((6000,),ii))\n",
        "  test_labels_list.append(np.full((1000,),ii))\n",
        "\n",
        "# concatenate arrays to create new training and testing labels\n",
        "train_labels_new = np.hstack(train_labels_list)\n",
        "test_labels_new = np.hstack(test_labels_list)"
      ],
      "metadata": {
        "id": "rpHEqv6pLMMX"
      },
      "execution_count": 4,
      "outputs": []
    },
    {
      "cell_type": "markdown",
      "source": [
        "Shuffle new images and labels to create a new dataset that is ready to be used for training"
      ],
      "metadata": {
        "id": "l50gJjV6O-TC"
      }
    },
    {
      "cell_type": "code",
      "source": [
        "# pair images and labels together\n",
        "train_data_paired = list(zip(train_images_new,train_labels_new))\n",
        "test_data_paired = list(zip(test_images_new,test_labels_new))\n",
        "\n",
        "# shuffle paired data\n",
        "np.random.shuffle(train_data_paired)\n",
        "np.random.shuffle(test_data_paired)\n",
        "\n",
        "# unzip shuffled data\n",
        "train_images_unzip, train_labels_unzip = zip(*train_data_paired)\n",
        "test_images_unzip, test_labels_unzip = zip(*test_data_paired)\n",
        "\n",
        "# convert unzipped data to nump.ndarray\n",
        "train_images_NEW = np.asarray(train_images_unzip)\n",
        "train_labels_NEW = np.asarray(train_labels_unzip)\n",
        "test_images_NEW = np.asarray(test_images_unzip)\n",
        "test_labels_NEW = np.asarray(test_labels_unzip)"
      ],
      "metadata": {
        "id": "mnulczNbPNNQ"
      },
      "execution_count": 5,
      "outputs": []
    },
    {
      "cell_type": "markdown",
      "source": [
        "Randomly display 2 images from the new dataset"
      ],
      "metadata": {
        "id": "8601ikCLUJQx"
      }
    },
    {
      "cell_type": "code",
      "source": [
        "# create figure\n",
        "fig,axs = plt.subplots(2,5)\n",
        "\n",
        "# figure title\n",
        "fig.suptitle(\"Images from the new dataset\", fontweight=\"bold\")\n",
        "\n",
        "# plot the new images\n",
        "for ii in range(5):\n",
        "  axs[0,ii].set_title(f\"Label {ii}\")\n",
        "  \n",
        "  for jj in range(2):\n",
        "    axs[jj,ii].imshow(train_images_NEW[np.random.choice(np.where(train_labels_NEW==ii)[0])], cmap=plt.cm.binary)\n",
        "    axs[jj,ii].axis(\"off\")\n"
      ],
      "metadata": {
        "id": "_k3Yy1l1UPxJ",
        "outputId": "2fb4bbb0-8482-4395-a9ec-276b41d33425",
        "colab": {
          "base_uri": "https://localhost:8080/",
          "height": 257
        }
      },
      "execution_count": 6,
      "outputs": [
        {
          "output_type": "display_data",
          "data": {
            "image/png": "[encoded data removed]",
            "text/plain": [
              "<Figure size 432x288 with 10 Axes>"
            ]
          },
          "metadata": {
            "needs_background": "light"
          }
        }
      ]
    }
  ],
  "metadata": {
    "interpreter": {
      "hash": "02de5609ef162b6bcc51dd429fd31b9a1f163c414526741362218fd7f2e354ad"
    },
    "kernelspec": {
      "display_name": "Python 3.9.7 64-bit",
      "language": "python",
      "name": "python3"
    },
    "language_info": {
      "name": "python",
      "version": "3.9.7"
    },
    "orig_nbformat": 4,
    "colab": {
      "name": "CSCE_636_HW03_Sol.ipynb",
      "provenance": []
    },
    "accelerator": "GPU"
  },
  "nbformat": 4,
  "nbformat_minor": 0
}