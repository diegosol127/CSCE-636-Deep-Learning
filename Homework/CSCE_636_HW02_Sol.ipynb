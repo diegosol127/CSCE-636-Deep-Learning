{
  "cells": [
    {
      "cell_type": "markdown",
      "metadata": {
        "colab_type": "text",
        "id": "view-in-github"
      },
      "source": [
        "<a href=\"https://colab.research.google.com/github/diegosol127/CSCE-636-Deep-Learning/blob/main/Homework/CSCE_636_HW02_Sol.ipynb\" target=\"_parent\"><img src=\"https://colab.research.google.com/assets/colab-badge.svg\" alt=\"Open In Colab\"/></a>"
      ]
    },
    {
      "cell_type": "markdown",
      "metadata": {
        "id": "EInAM1mJ2HGP"
      },
      "source": [
        "# HOMEWORK 02\n",
        "\n",
        "**Submitted by: Diego Sol**\n",
        "\n",
        "CSCE 636-600: Deep Learning\n",
        "\n",
        "Professor: Dr. Anxiao Jiang"
      ]
    },
    {
      "cell_type": "markdown",
      "metadata": {
        "id": "tfsLmTr-2HGU"
      },
      "source": [
        "Import packages"
      ]
    },
    {
      "cell_type": "code",
      "execution_count": 1,
      "metadata": {
        "id": "k4M6mFW32Njt"
      },
      "outputs": [],
      "source": [
        "import tensorflow as tf\n",
        "import numpy as np\n",
        "import matplotlib.pyplot as plt\n",
        "\n",
        "from tensorflow import keras\n",
        "from tensorflow.keras.datasets import imdb\n",
        "from tensorflow.keras import layers\n",
        "from re import VERBOSE"
      ]
    },
    {
      "cell_type": "markdown",
      "metadata": {
        "id": "k9WhKfuv2qiU"
      },
      "source": [
        "## Task 1\n",
        "\n",
        "**Check out the Jupyter notebook for Chapter 3 at https://github.com/fchollet/deep-learning-with-python-notebooks/blob/master/chapter03_introduction-to-keras-and-tf.ipynb. Then, use the \"GraidentTape API\" to find the derivative of the function f(x) = sin(x) for x = 0, 0.1, 0.2 and 0.3. Submit your Jupyter notebook that shows both the code and the result you got. (10 points)**"
      ]
    },
    {
      "cell_type": "code",
      "execution_count": 2,
      "metadata": {
        "colab": {
          "base_uri": "https://localhost:8080/"
        },
        "id": "FrIDyXHP2xUl",
        "outputId": "b0e455f4-b742-40af-e856-f277e0bd9ca0"
      },
      "outputs": [
        {
          "name": "stdout",
          "output_type": "stream",
          "text": [
            "For the function f(x) = sin(x):\n",
            "df/dx at x = 0 is 1\n",
            "df/dx at x = 0.1 is 0.995004177\n",
            "df/dx at x = 0.2 is 0.980066597\n",
            "df/dx at x = 0.3 is 0.955336511\n"
          ]
        }
      ],
      "source": [
        "# values of x\n",
        "x0 = 0.0\n",
        "x1 = 0.1\n",
        "x2 = 0.2\n",
        "x3 = 0.3\n",
        "# create a 1-D tensor that contain the values of x\n",
        "input_var = tf.Variable(initial_value=[x0, x1, x2, x3])\n",
        "\n",
        "# use GradientTape to calculate the derivative\n",
        "with tf.GradientTape() as tape:\n",
        "  result = tf.sin(input_var)\n",
        "gradient = tape.gradient(result, input_var)\n",
        "\n",
        "# print the results\n",
        "tf.print('For the function f(x) = sin(x):')\n",
        "for ii in range(input_var.shape[0]):\n",
        "  tf.print('df/dx at x =', input_var[ii], 'is', gradient[ii])"
      ]
    },
    {
      "cell_type": "markdown",
      "metadata": {
        "id": "TeRbv6wV2X9J"
      },
      "source": [
        "## Task 2\n",
        "\n",
        "**Check out the Jupyter notebook for Chapter 4 at https://github.com/fchollet/deep-learning-with-python-notebooks/blob/master/chapter04_getting-started-with-neural-networks.ipynb. Then, for the task \"Classifying movie reviews: A binary classification example\", tune the hyper-parameters of the model (such as changing the number of layers, changing the sizes of layers, changing the optimizer, changing the learning rate, etc.), and see if you can improve the model's performance. Submit a Jupyter notebook where you clearly show the code with the best hyper-parameters that you have found, along with its performance on training, validation and test sets. (10 points)**"
      ]
    },
    {
      "cell_type": "markdown",
      "metadata": {
        "id": "-fA9AmjjMv_E"
      },
      "source": [
        "Load the IMBD dataset"
      ]
    },
    {
      "cell_type": "code",
      "execution_count": 3,
      "metadata": {
        "colab": {
          "base_uri": "https://localhost:8080/"
        },
        "id": "rIagbV7p2cJR",
        "outputId": "86846dea-3306-4a85-e3bc-70319a46a653"
      },
      "outputs": [
        {
          "name": "stdout",
          "output_type": "stream",
          "text": [
            "Downloading data from https://storage.googleapis.com/tensorflow/tf-keras-datasets/imdb.npz\n",
            "17465344/17464789 [==============================] - 0s 0us/step\n",
            "17473536/17464789 [==============================] - 0s 0us/step\n"
          ]
        }
      ],
      "source": [
        "(train_data, train_labels), (test_data, test_labels) = imdb.load_data(\n",
        "    num_words=10000)"
      ]
    },
    {
      "cell_type": "markdown",
      "metadata": {
        "id": "4igUqnMdM8UN"
      },
      "source": [
        "Multi-hot encode the integer sequences"
      ]
    },
    {
      "cell_type": "code",
      "execution_count": 4,
      "metadata": {
        "id": "3ucRKJCSNJ5f"
      },
      "outputs": [],
      "source": [
        "# function that turns lists into a vector of 0s and 1s\n",
        "def vectorize_sequences(sequences, dimension=10000):\n",
        "    results = np.zeros((len(sequences), dimension))\n",
        "    for i, sequence in enumerate(sequences):\n",
        "        for j in sequence:\n",
        "            results[i, j] = 1.\n",
        "    return results\n",
        "\n",
        "# vectorize data (inputs) for training and testing\n",
        "x_train = vectorize_sequences(train_data)\n",
        "x_test = vectorize_sequences(test_data)\n",
        "\n",
        "# vectorize labels (outputs) for training and testing\n",
        "y_train = np.asarray(train_labels).astype('float32')\n",
        "y_test = np.asarray(test_labels).astype('float32')"
      ]
    },
    {
      "cell_type": "markdown",
      "metadata": {
        "id": "-ZWcGAa7zgKC"
      },
      "source": [
        "Tune hyper-parameters"
      ]
    },
    {
      "cell_type": "code",
      "execution_count": 5,
      "metadata": {
        "id": "0DfUrHb-zjDu"
      },
      "outputs": [],
      "source": [
        "# number of nodes in each hidden layer\n",
        "nodes = np.array([16, 16, 16])\n",
        "\n",
        "# activation function in each hidden layer\n",
        "activations = ['relu', 'relu', 'relu']\n",
        "\n",
        "# batch size\n",
        "batch_size = 512\n",
        "\n",
        "# optimizer\n",
        "optimizer = 'rmsprop'\n",
        "\n",
        "# loss function\n",
        "loss = 'binary_crossentropy'\n",
        "\n",
        "# metric\n",
        "metrics = 'accuracy'\n",
        "\n",
        "# number of datapoints used for validation\n",
        "num_validation = 10000"
      ]
    },
    {
      "cell_type": "markdown",
      "metadata": {
        "id": "pncVchOIUw2c"
      },
      "source": [
        "Build the model"
      ]
    },
    {
      "cell_type": "code",
      "execution_count": 6,
      "metadata": {
        "id": "BSXg7udmU0VQ"
      },
      "outputs": [],
      "source": [
        "# model definition\n",
        "model = keras.Sequential()\n",
        "for ii in range(nodes.shape[0]):\n",
        "  model.add(layers.Dense(nodes[ii], activation = activations[ii]))\n",
        "\n",
        "model.add(layers.Dense(1, activation='sigmoid'))\n",
        "\n",
        "# compile the model\n",
        "model.compile(optimizer=optimizer,\n",
        "              loss=loss,\n",
        "              metrics=metrics)"
      ]
    },
    {
      "cell_type": "markdown",
      "metadata": {
        "id": "HOcHoZ5pVv5U"
      },
      "source": [
        "Create a validation set"
      ]
    },
    {
      "cell_type": "code",
      "execution_count": 7,
      "metadata": {
        "id": "T19yogOiVz5y"
      },
      "outputs": [],
      "source": [
        "x_val = x_train[:num_validation]\n",
        "partial_x_train = x_train[num_validation:]\n",
        "y_val = y_train[:num_validation]\n",
        "partial_y_train = y_train[num_validation:]"
      ]
    },
    {
      "cell_type": "markdown",
      "metadata": {
        "id": "DC54D34IV4Q3"
      },
      "source": [
        "Train the model"
      ]
    },
    {
      "cell_type": "code",
      "execution_count": 8,
      "metadata": {
        "id": "glljDzvjV798"
      },
      "outputs": [],
      "source": [
        "history = model.fit(partial_x_train,\n",
        "                    partial_y_train,\n",
        "                    epochs=20,\n",
        "                    batch_size=batch_size,\n",
        "                    validation_data=(x_val, y_val),\n",
        "                    verbose=0)"
      ]
    },
    {
      "cell_type": "markdown",
      "metadata": {
        "id": "tnavAlw-Wz1K"
      },
      "source": [
        "Plot the training and validation loss"
      ]
    },
    {
      "cell_type": "code",
      "execution_count": 9,
      "metadata": {
        "colab": {
          "base_uri": "https://localhost:8080/",
          "height": 295
        },
        "id": "BJJAEnWlW5Ep",
        "outputId": "7abc7a1d-a36f-453f-89de-1898fc9d945c"
      },
      "outputs": [
        {
          "data": {
            "image/png": "[encoded data removed]",
            "text/plain": [
              "<Figure size 432x288 with 1 Axes>"
            ]
          },
          "metadata": {
            "needs_background": "light"
          },
          "output_type": "display_data"
        }
      ],
      "source": [
        "history_dict = history.history\n",
        "loss_values = history_dict[\"loss\"]\n",
        "val_loss_values = history_dict[\"val_loss\"]\n",
        "epochs = range(1, len(loss_values) + 1)\n",
        "plt.plot(epochs, loss_values, \"bo\", label=\"Training loss\")\n",
        "plt.plot(epochs, val_loss_values, \"b\", label=\"Validation loss\")\n",
        "plt.title(\"Training and validation loss\")\n",
        "plt.xlabel(\"Epochs\")\n",
        "plt.ylabel(\"Loss\")\n",
        "plt.legend()\n",
        "plt.show()"
      ]
    },
    {
      "cell_type": "markdown",
      "metadata": {
        "id": "7fAsHoKJXaiR"
      },
      "source": [
        "Plot the training and validation accuracy"
      ]
    },
    {
      "cell_type": "code",
      "execution_count": 10,
      "metadata": {
        "colab": {
          "base_uri": "https://localhost:8080/",
          "height": 295
        },
        "id": "wotoJmD3XgSF",
        "outputId": "2e815ac7-cf46-4e16-c99e-40b8a9766519"
      },
      "outputs": [
        {
          "data": {
            "image/png": "[encoded data removed]",
            "text/plain": [
              "<Figure size 432x288 with 1 Axes>"
            ]
          },
          "metadata": {
            "needs_background": "light"
          },
          "output_type": "display_data"
        }
      ],
      "source": [
        "plt.clf()\n",
        "acc = history_dict[\"accuracy\"]\n",
        "val_acc = history_dict[\"val_accuracy\"]\n",
        "plt.plot(epochs, acc, \"bo\", label=\"Training acc\")\n",
        "plt.plot(epochs, val_acc, \"b\", label=\"Validation acc\")\n",
        "plt.title(\"Training and validation accuracy\")\n",
        "plt.xlabel(\"Epochs\")\n",
        "plt.ylabel(\"Accuracy\")\n",
        "plt.legend()\n",
        "plt.show()"
      ]
    },
    {
      "cell_type": "markdown",
      "metadata": {
        "id": "5MDeof8ONfsB"
      },
      "source": [
        "Retrain the model from scratch"
      ]
    },
    {
      "cell_type": "code",
      "execution_count": 11,
      "metadata": {
        "colab": {
          "base_uri": "https://localhost:8080/"
        },
        "id": "WKvmt7XSNjFb",
        "outputId": "c222058a-6d16-4f86-c076-878d8bbe7c6f"
      },
      "outputs": [
        {
          "name": "stdout",
          "output_type": "stream",
          "text": [
            "782/782 [==============================] - 2s 3ms/step - loss: 0.2844 - accuracy: 0.8878\n"
          ]
        }
      ],
      "source": [
        "model = keras.Sequential()\n",
        "for ii in range(nodes.shape[0]):\n",
        "  model.add(layers.Dense(nodes[ii], activation = activations[ii]))\n",
        "\n",
        "model.add(layers.Dense(1, activation='sigmoid'))\n",
        "\n",
        "model.compile(optimizer=optimizer,\n",
        "              loss=loss,\n",
        "              metrics=metrics)\n",
        "model.fit(x_train, y_train, epochs=3, batch_size=batch_size, verbose=0)\n",
        "results = model.evaluate(x_test, y_test)"
      ]
    },
    {
      "cell_type": "markdown",
      "metadata": {
        "id": "GY-7aF9Ja1O8"
      },
      "source": [
        "Print final results"
      ]
    },
    {
      "cell_type": "code",
      "execution_count": 12,
      "metadata": {
        "colab": {
          "base_uri": "https://localhost:8080/"
        },
        "id": "MyaveFa4a3Y7",
        "outputId": "5942bd96-5a1a-443f-e3ae-add42540583a"
      },
      "outputs": [
        {
          "name": "stdout",
          "output_type": "stream",
          "text": [
            "Network loss = 0.28443437814712524\n",
            "Network accuracy = 0.8877599835395813\n"
          ]
        }
      ],
      "source": [
        "# loss\n",
        "print(f'Network loss = {results[0]}')\n",
        "\n",
        "# accuracy\n",
        "print(f'Network accuracy = {results[1]}')"
      ]
    },
    {
      "cell_type": "markdown",
      "metadata": {
        "id": "ZCtFD-vJ3D6N"
      },
      "source": [
        "### Results\n",
        "\n",
        "This is a marginal improvement over the original network loss and accuracy which were `0.2957022190093994` and `0.8837599754333496`, respectively. Through experimentation, it was observed that the majority of changes to the hyper-parameters had minimal effects on the model, and the ones that did impact the model significantly did so in a negative fashion.\n",
        "\n",
        "To achieve these outputs, the hyper-parameters that were changed were the number of hidden layers (going from 2 to 3) and changing the number of neurons per layer (from 64 to 16). These changes can be seen above in the section titled \"Tune hyper-parameters\".\n",
        "\n",
        "*It can be noted that a non-negligible improvement in the accuracy and loss can be attributed to the stochastic nature of training the model mulitple times with the data organized randomly.*"
      ]
    }
  ],
  "metadata": {
    "accelerator": "GPU",
    "colab": {
      "collapsed_sections": [],
      "include_colab_link": true,
      "name": "CSCE_636_HW02_Sol.ipynb",
      "provenance": []
    },
    "interpreter": {
      "hash": "02de5609ef162b6bcc51dd429fd31b9a1f163c414526741362218fd7f2e354ad"
    },
    "kernelspec": {
      "display_name": "Python 3.9.7 64-bit",
      "language": "python",
      "name": "python3"
    },
    "language_info": {
      "codemirror_mode": {
        "name": "ipython",
        "version": 3
      },
      "file_extension": ".py",
      "mimetype": "text/x-python",
      "name": "python",
      "nbconvert_exporter": "python",
      "pygments_lexer": "ipython3",
      "version": "3.9.7"
    },
    "orig_nbformat": 4
  },
  "nbformat": 4,
  "nbformat_minor": 0
}
