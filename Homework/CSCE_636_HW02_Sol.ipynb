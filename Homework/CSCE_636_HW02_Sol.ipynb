{
  "cells": [
    {
      "cell_type": "markdown",
      "metadata": {
        "id": "view-in-github",
        "colab_type": "text"
      },
      "source": [
        "<a href=\"https://colab.research.google.com/github/diegosol127/CSCE-636-Deep-Learning/blob/main/Homework/CSCE_636_HW02_Sol.ipynb\" target=\"_parent\"><img src=\"https://colab.research.google.com/assets/colab-badge.svg\" alt=\"Open In Colab\"/></a>"
      ]
    },
    {
      "cell_type": "markdown",
      "metadata": {
        "id": "EInAM1mJ2HGP"
      },
      "source": [
        "# HOMEWORK 02\n",
        "\n",
        "**Submitted by: Diego Sol**\n",
        "\n",
        "CSCE 636-600: Deep Learning\n",
        "\n",
        "Professor: Dr. Anxiao Jiang\n",
        "\n",
        "Code modified from https://github.com/fchollet/deep-learning-with-python-notebooks/blob/master/chapter02_mathematical-building-blocks.ipynb\n"
      ]
    },
    {
      "cell_type": "markdown",
      "metadata": {
        "id": "tfsLmTr-2HGU"
      },
      "source": [
        "Import Packages"
      ]
    },
    {
      "cell_type": "code",
      "source": [
        "import tensorflow as tf\n",
        "\n",
        "from tensorflow import keras\n",
        "from tensorflow.keras import layers"
      ],
      "metadata": {
        "id": "k4M6mFW32Njt"
      },
      "execution_count": 2,
      "outputs": []
    },
    {
      "cell_type": "markdown",
      "source": [
        "## Task 1\n",
        "\n",
        "**Check out the Jupyter notebook for Chapter 3 at https://github.com/fchollet/deep-learning-with-python-notebooks/blob/master/chapter03_introduction-to-keras-and-tf.ipynb. Then, use the \"GraidentTape API\" to find the derivative of the function f(x) = sin(x) for x = 0, 0.1, 0.2 and 0.3. Submit your Jupyter notebook that shows both the code and the result you got. (10 points)**"
      ],
      "metadata": {
        "id": "k9WhKfuv2qiU"
      }
    },
    {
      "cell_type": "code",
      "source": [
        "# values of x\n",
        "x0 = 0.0\n",
        "x1 = 0.1\n",
        "x2 = 0.2\n",
        "# create a 1-D tensor that contain the values of x\n",
        "input_var = tf.Variable([x0, x1, x2])\n",
        "tf.print(f'{input_var[1]}')\n",
        "\n",
        "# use GradientTape to calculate the derivative\n",
        "with tf.GradientTape() as tape:\n",
        "  result = tf.sin(input_var)\n",
        "gradient = tape.gradient(result, input_var)\n",
        "\n",
        "# print the results\n",
        "tf.print('For the function f(x) = sin(x):')\n",
        "for ii in range(input_var.shape[0]):\n",
        "  tf.print('df/dx at x =', input_var[ii], 'is', result[ii])"
      ],
      "metadata": {
        "colab": {
          "base_uri": "https://localhost:8080/"
        },
        "id": "FrIDyXHP2xUl",
        "outputId": "76e46915-75e2-447b-9a6e-7973795fb265"
      },
      "execution_count": 50,
      "outputs": [
        {
          "output_type": "stream",
          "name": "stdout",
          "text": [
            "0.10000000149011612\n",
            "For the function f(x) = sin(x):\n",
            "df/dx at x = 0 is 0\n",
            "df/dx at x = 0.1 is 0.0998334214\n",
            "df/dx at x = 0.2 is 0.198669329\n"
          ]
        }
      ]
    }
  ],
  "metadata": {
    "interpreter": {
      "hash": "02de5609ef162b6bcc51dd429fd31b9a1f163c414526741362218fd7f2e354ad"
    },
    "kernelspec": {
      "display_name": "Python 3.9.7 64-bit",
      "language": "python",
      "name": "python3"
    },
    "language_info": {
      "codemirror_mode": {
        "name": "ipython",
        "version": 3
      },
      "file_extension": ".py",
      "mimetype": "text/x-python",
      "name": "python",
      "nbconvert_exporter": "python",
      "pygments_lexer": "ipython3",
      "version": "3.9.7"
    },
    "orig_nbformat": 4,
    "colab": {
      "name": "CSCE_636_HW02_Sol.ipynb",
      "provenance": [],
      "collapsed_sections": [],
      "include_colab_link": true
    },
    "accelerator": "GPU"
  },
  "nbformat": 4,
  "nbformat_minor": 0
}