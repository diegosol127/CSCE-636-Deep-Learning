{
  "cells": [
    {
      "cell_type": "markdown",
      "metadata": {
        "id": "view-in-github",
        "colab_type": "text"
      },
      "source": [
        "<a href=\"https://colab.research.google.com/github/diegosol127/CSCE-636-Deep-Learning/blob/main/Homework/CSCE_636_HW02_Sol.ipynb\" target=\"_parent\"><img src=\"https://colab.research.google.com/assets/colab-badge.svg\" alt=\"Open In Colab\"/></a>"
      ]
    },
    {
      "cell_type": "markdown",
      "metadata": {
        "id": "EInAM1mJ2HGP"
      },
      "source": [
        "# HOMEWORK 02\n",
        "\n",
        "**Submitted by: Diego Sol**\n",
        "\n",
        "CSCE 636-600: Deep Learning\n",
        "\n",
        "Professor: Dr. Anxiao Jiang"
      ]
    },
    {
      "cell_type": "markdown",
      "metadata": {
        "id": "tfsLmTr-2HGU"
      },
      "source": [
        "Import packages"
      ]
    },
    {
      "cell_type": "code",
      "source": [
        "import tensorflow as tf\n",
        "import matplotlib.pyplot as plt\n",
        "\n",
        "from tensorflow import keras\n",
        "from tensorflow.keras.datasets import imdb\n",
        "from tensorflow.keras import layers"
      ],
      "metadata": {
        "id": "k4M6mFW32Njt"
      },
      "execution_count": 43,
      "outputs": []
    },
    {
      "cell_type": "markdown",
      "source": [
        "## Task 1\n",
        "\n",
        "**Check out the Jupyter notebook for Chapter 3 at https://github.com/fchollet/deep-learning-with-python-notebooks/blob/master/chapter03_introduction-to-keras-and-tf.ipynb. Then, use the \"GraidentTape API\" to find the derivative of the function f(x) = sin(x) for x = 0, 0.1, 0.2 and 0.3. Submit your Jupyter notebook that shows both the code and the result you got. (10 points)**"
      ],
      "metadata": {
        "id": "k9WhKfuv2qiU"
      }
    },
    {
      "cell_type": "code",
      "source": [
        "# values of x\n",
        "x0 = 0.0\n",
        "x1 = 0.1\n",
        "x2 = 0.2\n",
        "x3 = 0.3\n",
        "# create a 1-D tensor that contain the values of x\n",
        "input_var = tf.Variable(initial_value=[x0, x1, x2, x3])\n",
        "\n",
        "# use GradientTape to calculate the derivative\n",
        "with tf.GradientTape() as tape:\n",
        "  result = tf.sin(input_var)\n",
        "gradient = tape.gradient(result, input_var)\n",
        "\n",
        "# print the results\n",
        "tf.print('For the function f(x) = sin(x):')\n",
        "for ii in range(input_var.shape[0]):\n",
        "  tf.print('df/dx at x =', input_var[ii], 'is', gradient[ii])"
      ],
      "metadata": {
        "colab": {
          "base_uri": "https://localhost:8080/"
        },
        "id": "FrIDyXHP2xUl",
        "outputId": "974e14b2-3f16-4e22-ad8b-029e690c019f"
      },
      "execution_count": 44,
      "outputs": [
        {
          "output_type": "stream",
          "name": "stdout",
          "text": [
            "For the function f(x) = sin(x):\n",
            "df/dx at x = 0 is 1\n",
            "df/dx at x = 0.1 is 0.995004177\n",
            "df/dx at x = 0.2 is 0.980066597\n",
            "df/dx at x = 0.3 is 0.955336511\n"
          ]
        }
      ]
    },
    {
      "cell_type": "markdown",
      "source": [
        "## Task 2\n",
        "\n",
        "**Check out the Jupyter notebook for Chapter 4 at https://github.com/fchollet/deep-learning-with-python-notebooks/blob/master/chapter04_getting-started-with-neural-networks.ipynb. Then, for the task \"Classifying movie reviews: A binary classification example\", tune the hyper-parameters of the model (such as changing the number of layers, changing the sizes of layers, changing the optimizer, changing the learning rate, etc.), and see if you can improve the model's performance. Submit a Jupyter notebook where you clearly show the code with the best hyper-parameters that you have found, along with its performance on training, validation and test sets. (10 points)**"
      ],
      "metadata": {
        "id": "TeRbv6wV2X9J"
      }
    },
    {
      "cell_type": "markdown",
      "source": [
        "Load the IMBD dataset"
      ],
      "metadata": {
        "id": "-fA9AmjjMv_E"
      }
    },
    {
      "cell_type": "code",
      "source": [
        "(train_data, train_labels), (test_data, test_labels) = imdb.load_data(\n",
        "    num_words=10000)"
      ],
      "metadata": {
        "id": "rIagbV7p2cJR"
      },
      "execution_count": 45,
      "outputs": []
    },
    {
      "cell_type": "markdown",
      "source": [
        "Multi-hot encode the integer sequences"
      ],
      "metadata": {
        "id": "4igUqnMdM8UN"
      }
    },
    {
      "cell_type": "code",
      "source": [
        "import numpy as np\n",
        "\n",
        "# function that turns lists into a vector of 0s and 1s\n",
        "def vectorize_sequences(sequences, dimension=10000):\n",
        "    results = np.zeros((len(sequences), dimension))\n",
        "    for i, sequence in enumerate(sequences):\n",
        "        for j in sequence:\n",
        "            results[i, j] = 1.\n",
        "    return results\n",
        "\n",
        "# vectorize data (inputs) for training and testing\n",
        "x_train = vectorize_sequences(train_data)\n",
        "x_test = vectorize_sequences(test_data)\n",
        "\n",
        "# vectorize labels (outputs) for training and testing\n",
        "y_train = np.asarray(train_labels).astype('float32')\n",
        "y_test = np.asarray(test_labels).astype('float32')"
      ],
      "metadata": {
        "id": "3ucRKJCSNJ5f"
      },
      "execution_count": 46,
      "outputs": []
    },
    {
      "cell_type": "markdown",
      "source": [
        "Build the model"
      ],
      "metadata": {
        "id": "pncVchOIUw2c"
      }
    },
    {
      "cell_type": "code",
      "source": [
        "# model definition\n",
        "model = keras.Sequential([\n",
        "    layers.Dense(16, activation='relu'),\n",
        "    layers.Dense(16, activation='relu'),\n",
        "    layers.Dense(1, activation='sigmoid')\n",
        "])\n",
        "\n",
        "# compile the model\n",
        "model.compile(optimizer=\"rmsprop\",\n",
        "              loss=\"binary_crossentropy\",\n",
        "              metrics=[\"accuracy\"])"
      ],
      "metadata": {
        "id": "BSXg7udmU0VQ"
      },
      "execution_count": 47,
      "outputs": []
    },
    {
      "cell_type": "markdown",
      "source": [
        "Create a validation set"
      ],
      "metadata": {
        "id": "HOcHoZ5pVv5U"
      }
    },
    {
      "cell_type": "code",
      "source": [
        "x_val = x_train[:10000]\n",
        "partial_x_train = x_train[10000:]\n",
        "y_val = y_train[:10000]\n",
        "partial_y_train = y_train[10000:]"
      ],
      "metadata": {
        "id": "T19yogOiVz5y"
      },
      "execution_count": 48,
      "outputs": []
    },
    {
      "cell_type": "markdown",
      "source": [
        "Train the model"
      ],
      "metadata": {
        "id": "DC54D34IV4Q3"
      }
    },
    {
      "cell_type": "code",
      "source": [
        "history = model.fit(partial_x_train,\n",
        "                    partial_y_train,\n",
        "                    epochs=20,\n",
        "                    batch_size=512,\n",
        "                    validation_data=(x_val, y_val))"
      ],
      "metadata": {
        "id": "glljDzvjV798",
        "outputId": "f2922858-5553-4863-a3a5-9af9c1ce112b",
        "colab": {
          "base_uri": "https://localhost:8080/"
        }
      },
      "execution_count": 49,
      "outputs": [
        {
          "output_type": "stream",
          "name": "stdout",
          "text": [
            "Epoch 1/20\n",
            "30/30 [==============================] - 2s 45ms/step - loss: 0.5195 - accuracy: 0.7797 - val_loss: 0.4018 - val_accuracy: 0.8456\n",
            "Epoch 2/20\n",
            "30/30 [==============================] - 1s 25ms/step - loss: 0.3067 - accuracy: 0.9035 - val_loss: 0.3035 - val_accuracy: 0.8885\n",
            "Epoch 3/20\n",
            "30/30 [==============================] - 1s 22ms/step - loss: 0.2209 - accuracy: 0.9281 - val_loss: 0.3350 - val_accuracy: 0.8605\n",
            "Epoch 4/20\n",
            "30/30 [==============================] - 1s 25ms/step - loss: 0.1757 - accuracy: 0.9445 - val_loss: 0.2738 - val_accuracy: 0.8884\n",
            "Epoch 5/20\n",
            "30/30 [==============================] - 1s 21ms/step - loss: 0.1393 - accuracy: 0.9553 - val_loss: 0.2993 - val_accuracy: 0.8833\n",
            "Epoch 6/20\n",
            "30/30 [==============================] - 1s 22ms/step - loss: 0.1147 - accuracy: 0.9647 - val_loss: 0.2975 - val_accuracy: 0.8832\n",
            "Epoch 7/20\n",
            "30/30 [==============================] - 1s 21ms/step - loss: 0.0953 - accuracy: 0.9709 - val_loss: 0.3282 - val_accuracy: 0.8800\n",
            "Epoch 8/20\n",
            "30/30 [==============================] - 1s 22ms/step - loss: 0.0791 - accuracy: 0.9768 - val_loss: 0.3850 - val_accuracy: 0.8693\n",
            "Epoch 9/20\n",
            "30/30 [==============================] - 1s 25ms/step - loss: 0.0595 - accuracy: 0.9861 - val_loss: 0.3713 - val_accuracy: 0.8762\n",
            "Epoch 10/20\n",
            "30/30 [==============================] - 1s 22ms/step - loss: 0.0569 - accuracy: 0.9837 - val_loss: 0.3939 - val_accuracy: 0.8778\n",
            "Epoch 11/20\n",
            "30/30 [==============================] - 1s 25ms/step - loss: 0.0378 - accuracy: 0.9916 - val_loss: 0.5294 - val_accuracy: 0.8531\n",
            "Epoch 12/20\n",
            "30/30 [==============================] - 1s 25ms/step - loss: 0.0349 - accuracy: 0.9915 - val_loss: 0.4567 - val_accuracy: 0.8737\n",
            "Epoch 13/20\n",
            "30/30 [==============================] - 1s 25ms/step - loss: 0.0236 - accuracy: 0.9957 - val_loss: 0.5364 - val_accuracy: 0.8647\n",
            "Epoch 14/20\n",
            "30/30 [==============================] - 1s 22ms/step - loss: 0.0248 - accuracy: 0.9946 - val_loss: 0.5275 - val_accuracy: 0.8699\n",
            "Epoch 15/20\n",
            "30/30 [==============================] - 1s 23ms/step - loss: 0.0130 - accuracy: 0.9990 - val_loss: 0.5678 - val_accuracy: 0.8678\n",
            "Epoch 16/20\n",
            "30/30 [==============================] - 1s 21ms/step - loss: 0.0154 - accuracy: 0.9971 - val_loss: 0.6070 - val_accuracy: 0.8684\n",
            "Epoch 17/20\n",
            "30/30 [==============================] - 1s 22ms/step - loss: 0.0114 - accuracy: 0.9979 - val_loss: 0.6507 - val_accuracy: 0.8690\n",
            "Epoch 18/20\n",
            "30/30 [==============================] - 1s 22ms/step - loss: 0.0059 - accuracy: 0.9997 - val_loss: 0.7297 - val_accuracy: 0.8591\n",
            "Epoch 19/20\n",
            "30/30 [==============================] - 1s 21ms/step - loss: 0.0106 - accuracy: 0.9980 - val_loss: 0.7063 - val_accuracy: 0.8658\n",
            "Epoch 20/20\n",
            "30/30 [==============================] - 1s 22ms/step - loss: 0.0034 - accuracy: 0.9999 - val_loss: 0.7299 - val_accuracy: 0.8648\n"
          ]
        }
      ]
    },
    {
      "cell_type": "markdown",
      "source": [
        "Plot the training and validation loss"
      ],
      "metadata": {
        "id": "tnavAlw-Wz1K"
      }
    },
    {
      "cell_type": "code",
      "source": [
        "history_dict = history.history\n",
        "loss_values = history_dict[\"loss\"]\n",
        "val_loss_values = history_dict[\"val_loss\"]\n",
        "epochs = range(1, len(loss_values) + 1)\n",
        "plt.plot(epochs, loss_values, \"bo\", label=\"Training loss\")\n",
        "plt.plot(epochs, val_loss_values, \"b\", label=\"Validation loss\")\n",
        "plt.title(\"Training and validation loss\")\n",
        "plt.xlabel(\"Epochs\")\n",
        "plt.ylabel(\"Loss\")\n",
        "plt.legend()\n",
        "plt.show()"
      ],
      "metadata": {
        "id": "BJJAEnWlW5Ep",
        "outputId": "d9c7d918-2b83-4c8a-d26a-480c3f34bbb1",
        "colab": {
          "base_uri": "https://localhost:8080/",
          "height": 295
        }
      },
      "execution_count": 50,
      "outputs": [
        {
          "output_type": "display_data",
          "data": {
            "image/png": "[encoded data removed]",
            "text/plain": [
              "<Figure size 432x288 with 1 Axes>"
            ]
          },
          "metadata": {
            "needs_background": "light"
          }
        }
      ]
    },
    {
      "cell_type": "markdown",
      "source": [
        "Plot the training and validation accuracy"
      ],
      "metadata": {
        "id": "7fAsHoKJXaiR"
      }
    },
    {
      "cell_type": "code",
      "source": [
        "plt.clf()\n",
        "acc = history_dict[\"accuracy\"]\n",
        "val_acc = history_dict[\"val_accuracy\"]\n",
        "plt.plot(epochs, acc, \"bo\", label=\"Training acc\")\n",
        "plt.plot(epochs, val_acc, \"b\", label=\"Validation acc\")\n",
        "plt.title(\"Training and validation accuracy\")\n",
        "plt.xlabel(\"Epochs\")\n",
        "plt.ylabel(\"Accuracy\")\n",
        "plt.legend()\n",
        "plt.show()"
      ],
      "metadata": {
        "id": "wotoJmD3XgSF",
        "outputId": "9bc59894-1234-44ef-e89e-022274e465df",
        "colab": {
          "base_uri": "https://localhost:8080/",
          "height": 295
        }
      },
      "execution_count": 51,
      "outputs": [
        {
          "output_type": "display_data",
          "data": {
            "image/png": "[encoded data removed]",
            "text/plain": [
              "<Figure size 432x288 with 1 Axes>"
            ]
          },
          "metadata": {
            "needs_background": "light"
          }
        }
      ]
    },
    {
      "cell_type": "markdown",
      "source": [
        "Retrain the model from scratch"
      ],
      "metadata": {
        "id": "5MDeof8ONfsB"
      }
    },
    {
      "cell_type": "code",
      "source": [
        "model = keras.Sequential([\n",
        "    layers.Dense(16, activation=\"relu\"),\n",
        "    layers.Dense(16, activation=\"relu\"),\n",
        "    layers.Dense(1, activation=\"sigmoid\")\n",
        "])\n",
        "model.compile(optimizer=\"rmsprop\",\n",
        "              loss=\"binary_crossentropy\",\n",
        "              metrics=[\"accuracy\"])\n",
        "model.fit(x_train, y_train, epochs=4, batch_size=512)\n",
        "results = model.evaluate(x_test, y_test)"
      ],
      "metadata": {
        "id": "WKvmt7XSNjFb",
        "outputId": "b1f89978-9b33-4582-c582-6751b099a565",
        "colab": {
          "base_uri": "https://localhost:8080/"
        }
      },
      "execution_count": 52,
      "outputs": [
        {
          "output_type": "stream",
          "name": "stdout",
          "text": [
            "Epoch 1/4\n",
            "49/49 [==============================] - 1s 13ms/step - loss: 0.4820 - accuracy: 0.8127\n",
            "Epoch 2/4\n",
            "49/49 [==============================] - 1s 14ms/step - loss: 0.2762 - accuracy: 0.9037\n",
            "Epoch 3/4\n",
            "49/49 [==============================] - 1s 14ms/step - loss: 0.2097 - accuracy: 0.9284\n",
            "Epoch 4/4\n",
            "49/49 [==============================] - 1s 14ms/step - loss: 0.1743 - accuracy: 0.9396\n",
            "782/782 [==============================] - 3s 4ms/step - loss: 0.2894 - accuracy: 0.8857\n"
          ]
        }
      ]
    }
  ],
  "metadata": {
    "interpreter": {
      "hash": "02de5609ef162b6bcc51dd429fd31b9a1f163c414526741362218fd7f2e354ad"
    },
    "kernelspec": {
      "display_name": "Python 3.9.7 64-bit",
      "language": "python",
      "name": "python3"
    },
    "language_info": {
      "codemirror_mode": {
        "name": "ipython",
        "version": 3
      },
      "file_extension": ".py",
      "mimetype": "text/x-python",
      "name": "python",
      "nbconvert_exporter": "python",
      "pygments_lexer": "ipython3",
      "version": "3.9.7"
    },
    "orig_nbformat": 4,
    "colab": {
      "name": "CSCE_636_HW02_Sol.ipynb",
      "provenance": [],
      "collapsed_sections": [],
      "include_colab_link": true
    },
    "accelerator": "GPU"
  },
  "nbformat": 4,
  "nbformat_minor": 0
}