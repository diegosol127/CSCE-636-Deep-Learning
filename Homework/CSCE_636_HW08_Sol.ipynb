{
  "cells": [
    {
      "cell_type": "markdown",
      "metadata": {
        "id": "t_tfeI-D5ljr"
      },
      "source": [
        "# Project 03\n",
        "\n",
        "**Submitted by: Diego Sol**\n",
        "\n",
        "CSCE 636-600: Deep Learning\n",
        "\n",
        "Professor: Dr. Anxiao Jiang\n",
        "\n",
        "----------------\n",
        "\n",
        "**This project is on language modeling for an artificial language. We want to build a model such that given a \"partial text\" in the artificial language, the model can predict the next word.**\n",
        "\n",
        "**Your task is to design and train a good model, which takes \"partial texts\" as input, and predicts the \"next word\" for each \"partial text\".**\n",
        "\n",
        "**Your trained model will be evaluated using a hold-out testing set. The testing set also consists of a list of \"partial texts\" (as the model's input) and a list of \"next word\" (to be compared to your model's output). In the list of \"partial texts\", each \"partial text\" is a list of words instead of a single string, just like the \"partial texts\" above that we have for the training set. The performance of your model will be measured by its \"accuracy for words\", defined as the fraction of \"next words\" that your model correctly predicts.**"
      ]
    },
    {
      "cell_type": "markdown",
      "metadata": {
        "id": "G5MzwW8qy2rX"
      },
      "source": [
        "# Initialization\n",
        "\n",
        "**This section includes mounting the session to Google Drive, importing necessary libraries to run the file, and downloading and reformatting the training datasets.**"
      ]
    },
    {
      "cell_type": "markdown",
      "metadata": {
        "id": "a3AJEjfnn_cq"
      },
      "source": [
        "## Mount Colab"
      ]
    },
    {
      "cell_type": "code",
      "execution_count": 3,
      "metadata": {
        "colab": {
          "base_uri": "https://localhost:8080/"
        },
        "id": "cULh3hNhoV4r",
        "outputId": "9154b652-679c-41d6-dab7-19fbceaad26c"
      },
      "outputs": [
        {
          "output_type": "stream",
          "name": "stdout",
          "text": [
            "Drive already mounted at /content/drive; to attempt to forcibly remount, call drive.mount(\"/content/drive\", force_remount=True).\n"
          ]
        }
      ],
      "source": [
        "from google.colab import drive\n",
        "drive.mount('/content/drive')"
      ]
    },
    {
      "cell_type": "markdown",
      "metadata": {
        "id": "RJPLra2ZJ1hF"
      },
      "source": [
        "## Import Libraries"
      ]
    },
    {
      "cell_type": "code",
      "execution_count": 2,
      "metadata": {
        "id": "-72cuX2wJzxC"
      },
      "outputs": [],
      "source": [
        "import pickle\n",
        "import tensorflow as tf\n",
        "import numpy as np\n",
        "\n",
        "from tensorflow import keras\n",
        "from tensorflow.keras import layers\n",
        "from matplotlib import pyplot as plt\n",
        "\n",
        "rng = np.random.default_rng()"
      ]
    },
    {
      "cell_type": "markdown",
      "metadata": {
        "id": "unk0YCjqsBO4"
      },
      "source": [
        "## Import Data\n",
        "\n",
        "Download training inputs and outputs."
      ]
    },
    {
      "cell_type": "code",
      "execution_count": null,
      "metadata": {
        "colab": {
          "base_uri": "https://localhost:8080/"
        },
        "id": "VWM2jK5GpKxT",
        "outputId": "6828f1ec-6f8d-4d4e-b193-dd1ae15b0676"
      },
      "outputs": [
        {
          "name": "stderr",
          "output_type": "stream",
          "text": [
            "/usr/local/lib/python3.7/dist-packages/ipykernel_launcher.py:2: VisibleDeprecationWarning: Creating an ndarray from ragged nested sequences (which is a list-or-tuple of lists-or-tuples-or ndarrays with different lengths or shapes) is deprecated. If you meant to do this, you must specify 'dtype=object' when creating the ndarray.\n",
            "  \n"
          ]
        }
      ],
      "source": [
        "raw_train_input = pickle.load(open('/content/drive/MyDrive/Colab Notebooks/CSCE_636_Project_3/DS_5_train_output', 'rb'))\n",
        "prefix_list = np.asarray(pickle.load(open('/content/drive/MyDrive/Colab Notebooks/CSCE_636_Project_3/DS_5_train_input_prefixList', 'rb')))\n",
        "nextWord_list = np.asarray(pickle.load(open('/content/drive/MyDrive/Colab Notebooks/CSCE_636_Project_3/DS_5_train_input_nextWord', 'rb')))"
      ]
    },
    {
      "cell_type": "markdown",
      "metadata": {
        "id": "MBQGgIxDbYV3"
      },
      "source": [
        "## Pre-process Data"
      ]
    },
    {
      "cell_type": "markdown",
      "metadata": {
        "id": "rAyCk4k21YvH"
      },
      "source": [
        "Remove spaces from the data the contains complete sentences. We see that the longest complete sentence contains 64 words."
      ]
    },
    {
      "cell_type": "code",
      "execution_count": null,
      "metadata": {
        "colab": {
          "base_uri": "https://localhost:8080/"
        },
        "id": "EYNqvMk4ZqMH",
        "outputId": "3955ba87-68d0-48da-87b3-5c97047f7f76"
      },
      "outputs": [
        {
          "data": {
            "text/plain": [
              "64"
            ]
          },
          "execution_count": 243,
          "metadata": {},
          "output_type": "execute_result"
        }
      ],
      "source": [
        "s = \" \"\n",
        "vocabulary = []\n",
        "\n",
        "for i, sentence in enumerate(raw_train_input):\n",
        "  vocabulary.append(sentence.replace(s, \"\"))\n",
        "\n",
        "len(max(vocabulary,key=len))"
      ]
    },
    {
      "cell_type": "markdown",
      "metadata": {
        "id": "tUAOzFM9OLnR"
      },
      "source": [
        "We also see that the longest string in the training set contains 48 words."
      ]
    },
    {
      "cell_type": "code",
      "execution_count": null,
      "metadata": {
        "colab": {
          "base_uri": "https://localhost:8080/"
        },
        "id": "GlLjRbPPzFHV",
        "outputId": "4a739134-52d7-4241-ac48-91fcbabd3eb7"
      },
      "outputs": [
        {
          "data": {
            "text/plain": [
              "48"
            ]
          },
          "execution_count": 244,
          "metadata": {},
          "output_type": "execute_result"
        }
      ],
      "source": [
        "len(max(prefix_list,key=len))"
      ]
    },
    {
      "cell_type": "markdown",
      "metadata": {
        "id": "obSwUvxr3ucp"
      },
      "source": [
        "Convert downloaded data into a list of padded strings of the same length for training."
      ]
    },
    {
      "cell_type": "code",
      "execution_count": null,
      "metadata": {
        "id": "kbWCDOu33nLi"
      },
      "outputs": [],
      "source": [
        "train_input = []\n",
        "\n",
        "for i, phrase in enumerate(prefix_list):\n",
        "  train_input.append(s.join(phrase))\n",
        "\n",
        "print(train_input[0])"
      ]
    },
    {
      "cell_type": "markdown",
      "metadata": {
        "id": "RiON5HIC5-WF"
      },
      "source": [
        "Pad the input data using the `TextVectorization` layer.\n"
      ]
    },
    {
      "cell_type": "code",
      "execution_count": null,
      "metadata": {
        "id": "At7ipKao6GcV"
      },
      "outputs": [],
      "source": [
        "input_vectorization = layers.TextVectorization(output_sequence_length=100)\n",
        "input_vectorization.adapt(train_input)\n",
        "\n",
        "output_vectorization = layers.TextVectorization(output_sequence_length=1)\n",
        "output_vectorization.adapt(nextWord_list)\n",
        "\n",
        "train_input_vec = input_vectorization(train_input)\n",
        "train_output_vec = output_vectorization(nextWord_list)\n",
        "\n",
        "print(train_input_vec[0])\n",
        "print(train_output_vec[0])"
      ]
    },
    {
      "cell_type": "code",
      "execution_count": null,
      "metadata": {
        "colab": {
          "base_uri": "https://localhost:8080/"
        },
        "id": "sofWb7Vt5ybU",
        "outputId": "0c562c65-a1eb-4dcf-bece-348c216bb00c"
      },
      "outputs": [
        {
          "data": {
            "text/plain": [
              "['', '[UNK]', 'a', 'b', 'c', 'e', 'd', 'f', 'g', 'k', 'i', 'j', 'h']"
            ]
          },
          "execution_count": 247,
          "metadata": {},
          "output_type": "execute_result"
        }
      ],
      "source": [
        "input_vectorization.get_vocabulary()"
      ]
    },
    {
      "cell_type": "code",
      "execution_count": null,
      "metadata": {
        "colab": {
          "base_uri": "https://localhost:8080/"
        },
        "id": "YWvXb-d553m6",
        "outputId": "6cf07d9e-7684-4e33-8993-ed557db8e388"
      },
      "outputs": [
        {
          "data": {
            "text/plain": [
              "['', '[UNK]', 'a', 'b', 'c', 'e', 'd', 'g', 'f', 'k', 'i', 'j', 'h']"
            ]
          },
          "execution_count": 248,
          "metadata": {},
          "output_type": "execute_result"
        }
      ],
      "source": [
        "output_vectorization.get_vocabulary()"
      ]
    },
    {
      "cell_type": "markdown",
      "metadata": {
        "id": "D4LdCyH_3waS"
      },
      "source": [
        "# Dense Model"
      ]
    },
    {
      "cell_type": "markdown",
      "metadata": {
        "id": "gpCT5H1J6cgT"
      },
      "source": [
        "## Network Architecture\n",
        "\n",
        "Consists of two dense layers and a droupout layer. This simple model is able to achieve a validation accuracy of about 30%."
      ]
    },
    {
      "cell_type": "code",
      "execution_count": null,
      "metadata": {
        "colab": {
          "base_uri": "https://localhost:8080/",
          "height": 862
        },
        "id": "RRUzr0p28VN4",
        "outputId": "1a21bf9d-75d8-402b-ade3-ee412553c4e4"
      },
      "outputs": [
        {
          "name": "stdout",
          "output_type": "stream",
          "text": [
            "Model: \"Dense_Model\"\n",
            "_________________________________________________________________\n",
            " Layer (type)                Output Shape              Param #   \n",
            "=================================================================\n",
            " input (InputLayer)          [(None, 100)]             0         \n",
            "                                                                 \n",
            " hidden_layer_1 (Dense)      (None, 64)                6464      \n",
            "                                                                 \n",
            " hidden_layer_2 (Dense)      (None, 64)                4160      \n",
            "                                                                 \n",
            " dropout_layer (Dropout)     (None, 64)                0         \n",
            "                                                                 \n",
            " output (Dense)              (None, 13)                845       \n",
            "                                                                 \n",
            "=================================================================\n",
            "Total params: 11,469\n",
            "Trainable params: 11,469\n",
            "Non-trainable params: 0\n",
            "_________________________________________________________________\n"
          ]
        },
        {
          "data": {
            "image/png": "[encoded data removed]",
            "text/plain": [
              "<IPython.core.display.Image object>"
            ]
          },
          "execution_count": 249,
          "metadata": {},
          "output_type": "execute_result"
        }
      ],
      "source": [
        "inputs = keras.Input(shape=(100), name=\"input\")\n",
        "x = layers.Dense(64, activation=\"relu\", name=\"hidden_layer_1\")(inputs)\n",
        "x = layers.Dense(64, activation=\"relu\", name=\"hidden_layer_2\")(x)\n",
        "x = layers.Dropout(0.5, name=\"dropout_layer\")(x)\n",
        "outputs = layers.Dense(13, activation=\"softmax\", name=\"output\")(x)\n",
        "\n",
        "dense_model = keras.Model(inputs, outputs, name=\"Dense_Model\")\n",
        "dense_model.summary()\n",
        "\n",
        "tf.keras.utils.plot_model(dense_model, show_shapes=True)"
      ]
    },
    {
      "cell_type": "markdown",
      "metadata": {
        "id": "lr_4DqxjB1v7"
      },
      "source": [
        "## Compile and Train"
      ]
    },
    {
      "cell_type": "code",
      "execution_count": null,
      "metadata": {
        "id": "CbNKEISm8X36"
      },
      "outputs": [],
      "source": [
        "dense_model.compile(\n",
        "    optimizer=\"rmsprop\",\n",
        "    loss=\"sparse_categorical_crossentropy\",\n",
        "    metrics=[\"accuracy\"])\n",
        "\n",
        "callbacks1 = [\n",
        "    keras.callbacks.ModelCheckpoint(\n",
        "        filepath = \"/content/drive/MyDrive/Colab Notebooks/CSCE_636_Project_3/Proj03_dense_model.keras\",\n",
        "        save_best_only=True,\n",
        "        monitor=\"val_loss\"),\n",
        "    keras.callbacks.EarlyStopping(\n",
        "        monitor=\"val_loss\",\n",
        "        patience=10,\n",
        "        verbose=1,\n",
        "        restore_best_weights=True)\n",
        "]"
      ]
    },
    {
      "cell_type": "code",
      "execution_count": null,
      "metadata": {
        "colab": {
          "base_uri": "https://localhost:8080/"
        },
        "id": "INSoeqwj3qif",
        "outputId": "aaf2f469-a5c3-4ab7-ae83-ddb6e8cb3c50"
      },
      "outputs": [
        {
          "name": "stdout",
          "output_type": "stream",
          "text": [
            "Epoch 1/50\n",
            "110/110 [==============================] - 2s 10ms/step - loss: 2.4889 - accuracy: 0.1531 - val_loss: 2.1727 - val_accuracy: 0.1913\n",
            "Epoch 2/50\n",
            "110/110 [==============================] - 0s 4ms/step - loss: 2.2184 - accuracy: 0.1843 - val_loss: 2.1213 - val_accuracy: 0.1973\n",
            "Epoch 3/50\n",
            "110/110 [==============================] - 0s 4ms/step - loss: 2.1468 - accuracy: 0.1960 - val_loss: 2.0984 - val_accuracy: 0.2133\n",
            "Epoch 4/50\n",
            "110/110 [==============================] - 0s 4ms/step - loss: 2.1130 - accuracy: 0.2057 - val_loss: 2.0595 - val_accuracy: 0.2227\n",
            "Epoch 5/50\n",
            "110/110 [==============================] - 0s 4ms/step - loss: 2.0685 - accuracy: 0.2200 - val_loss: 2.0505 - val_accuracy: 0.2220\n",
            "Epoch 6/50\n",
            "110/110 [==============================] - 0s 4ms/step - loss: 2.0277 - accuracy: 0.2260 - val_loss: 2.0176 - val_accuracy: 0.2227\n",
            "Epoch 7/50\n",
            "110/110 [==============================] - 0s 4ms/step - loss: 1.9824 - accuracy: 0.2349 - val_loss: 1.9721 - val_accuracy: 0.2347\n",
            "Epoch 8/50\n",
            "110/110 [==============================] - 0s 4ms/step - loss: 1.9475 - accuracy: 0.2403 - val_loss: 1.9346 - val_accuracy: 0.2487\n",
            "Epoch 9/50\n",
            "110/110 [==============================] - 0s 4ms/step - loss: 1.8878 - accuracy: 0.2651 - val_loss: 1.8868 - val_accuracy: 0.2513\n",
            "Epoch 10/50\n",
            "110/110 [==============================] - 0s 4ms/step - loss: 1.8581 - accuracy: 0.2551 - val_loss: 1.9690 - val_accuracy: 0.2487\n",
            "Epoch 11/50\n",
            "110/110 [==============================] - 0s 4ms/step - loss: 1.8259 - accuracy: 0.2689 - val_loss: 1.8140 - val_accuracy: 0.2807\n",
            "Epoch 12/50\n",
            "110/110 [==============================] - 0s 4ms/step - loss: 1.7890 - accuracy: 0.2846 - val_loss: 1.7932 - val_accuracy: 0.2687\n",
            "Epoch 13/50\n",
            "110/110 [==============================] - 0s 4ms/step - loss: 1.7562 - accuracy: 0.2814 - val_loss: 1.7668 - val_accuracy: 0.2900\n",
            "Epoch 14/50\n",
            "110/110 [==============================] - 0s 4ms/step - loss: 1.7211 - accuracy: 0.2966 - val_loss: 1.7777 - val_accuracy: 0.2760\n",
            "Epoch 15/50\n",
            "110/110 [==============================] - 0s 3ms/step - loss: 1.7005 - accuracy: 0.2977 - val_loss: 1.7936 - val_accuracy: 0.2580\n",
            "Epoch 16/50\n",
            "110/110 [==============================] - 0s 3ms/step - loss: 1.6819 - accuracy: 0.2977 - val_loss: 1.7827 - val_accuracy: 0.2807\n",
            "Epoch 17/50\n",
            "110/110 [==============================] - 0s 4ms/step - loss: 1.6572 - accuracy: 0.3131 - val_loss: 1.8076 - val_accuracy: 0.2740\n",
            "Epoch 18/50\n",
            "110/110 [==============================] - 0s 4ms/step - loss: 1.6428 - accuracy: 0.3091 - val_loss: 1.7132 - val_accuracy: 0.2853\n",
            "Epoch 19/50\n",
            "110/110 [==============================] - 0s 4ms/step - loss: 1.6271 - accuracy: 0.3177 - val_loss: 1.6822 - val_accuracy: 0.2987\n",
            "Epoch 20/50\n",
            "110/110 [==============================] - 0s 4ms/step - loss: 1.6107 - accuracy: 0.3106 - val_loss: 1.8498 - val_accuracy: 0.2707\n",
            "Epoch 21/50\n",
            "110/110 [==============================] - 0s 4ms/step - loss: 1.5968 - accuracy: 0.3129 - val_loss: 1.6599 - val_accuracy: 0.3087\n",
            "Epoch 22/50\n",
            "110/110 [==============================] - 0s 4ms/step - loss: 1.5739 - accuracy: 0.3266 - val_loss: 1.6511 - val_accuracy: 0.3053\n",
            "Epoch 23/50\n",
            "110/110 [==============================] - 0s 4ms/step - loss: 1.5596 - accuracy: 0.3377 - val_loss: 1.6489 - val_accuracy: 0.2953\n",
            "Epoch 24/50\n",
            "110/110 [==============================] - 0s 3ms/step - loss: 1.5470 - accuracy: 0.3343 - val_loss: 1.6555 - val_accuracy: 0.3113\n",
            "Epoch 25/50\n",
            "110/110 [==============================] - 0s 3ms/step - loss: 1.5300 - accuracy: 0.3286 - val_loss: 1.6865 - val_accuracy: 0.2907\n",
            "Epoch 26/50\n",
            "110/110 [==============================] - 0s 4ms/step - loss: 1.5381 - accuracy: 0.3286 - val_loss: 1.6353 - val_accuracy: 0.2947\n",
            "Epoch 27/50\n",
            "110/110 [==============================] - 0s 3ms/step - loss: 1.5134 - accuracy: 0.3314 - val_loss: 1.6417 - val_accuracy: 0.3080\n",
            "Epoch 28/50\n",
            "110/110 [==============================] - 0s 3ms/step - loss: 1.5083 - accuracy: 0.3377 - val_loss: 1.6831 - val_accuracy: 0.2960\n",
            "Epoch 29/50\n",
            "110/110 [==============================] - 0s 3ms/step - loss: 1.5024 - accuracy: 0.3380 - val_loss: 1.6747 - val_accuracy: 0.2973\n",
            "Epoch 30/50\n",
            "110/110 [==============================] - 0s 3ms/step - loss: 1.4856 - accuracy: 0.3503 - val_loss: 1.7820 - val_accuracy: 0.2760\n",
            "Epoch 31/50\n",
            "110/110 [==============================] - 0s 3ms/step - loss: 1.4791 - accuracy: 0.3457 - val_loss: 1.6732 - val_accuracy: 0.2987\n",
            "Epoch 32/50\n",
            "110/110 [==============================] - 0s 4ms/step - loss: 1.4720 - accuracy: 0.3497 - val_loss: 1.6350 - val_accuracy: 0.2967\n",
            "Epoch 33/50\n",
            "110/110 [==============================] - 0s 4ms/step - loss: 1.4578 - accuracy: 0.3503 - val_loss: 1.6338 - val_accuracy: 0.3160\n",
            "Epoch 34/50\n",
            "110/110 [==============================] - 0s 4ms/step - loss: 1.4641 - accuracy: 0.3483 - val_loss: 1.6253 - val_accuracy: 0.3073\n",
            "Epoch 35/50\n",
            "110/110 [==============================] - 0s 4ms/step - loss: 1.4521 - accuracy: 0.3489 - val_loss: 1.6324 - val_accuracy: 0.3000\n",
            "Epoch 36/50\n",
            "110/110 [==============================] - 0s 4ms/step - loss: 1.4497 - accuracy: 0.3529 - val_loss: 1.6414 - val_accuracy: 0.3020\n",
            "Epoch 37/50\n",
            "110/110 [==============================] - 0s 4ms/step - loss: 1.4410 - accuracy: 0.3520 - val_loss: 1.5993 - val_accuracy: 0.3113\n",
            "Epoch 38/50\n",
            "110/110 [==============================] - 0s 3ms/step - loss: 1.4406 - accuracy: 0.3594 - val_loss: 1.6559 - val_accuracy: 0.3027\n",
            "Epoch 39/50\n",
            "110/110 [==============================] - 0s 3ms/step - loss: 1.4308 - accuracy: 0.3460 - val_loss: 1.6424 - val_accuracy: 0.3087\n",
            "Epoch 40/50\n",
            "110/110 [==============================] - 0s 3ms/step - loss: 1.4183 - accuracy: 0.3580 - val_loss: 1.6507 - val_accuracy: 0.3147\n",
            "Epoch 41/50\n",
            "110/110 [==============================] - 0s 3ms/step - loss: 1.4215 - accuracy: 0.3663 - val_loss: 1.6686 - val_accuracy: 0.2987\n",
            "Epoch 42/50\n",
            "110/110 [==============================] - 0s 4ms/step - loss: 1.4199 - accuracy: 0.3554 - val_loss: 1.5893 - val_accuracy: 0.3120\n",
            "Epoch 43/50\n",
            "110/110 [==============================] - 0s 3ms/step - loss: 1.4082 - accuracy: 0.3697 - val_loss: 1.7000 - val_accuracy: 0.2960\n",
            "Epoch 44/50\n",
            "110/110 [==============================] - 0s 3ms/step - loss: 1.4135 - accuracy: 0.3663 - val_loss: 1.6652 - val_accuracy: 0.2800\n",
            "Epoch 45/50\n",
            "110/110 [==============================] - 0s 3ms/step - loss: 1.4114 - accuracy: 0.3743 - val_loss: 1.6654 - val_accuracy: 0.2967\n",
            "Epoch 46/50\n",
            "110/110 [==============================] - 0s 4ms/step - loss: 1.4002 - accuracy: 0.3609 - val_loss: 1.5898 - val_accuracy: 0.3140\n",
            "Epoch 47/50\n",
            "110/110 [==============================] - 0s 3ms/step - loss: 1.4046 - accuracy: 0.3583 - val_loss: 1.6588 - val_accuracy: 0.3053\n",
            "Epoch 48/50\n",
            "110/110 [==============================] - 0s 3ms/step - loss: 1.4093 - accuracy: 0.3574 - val_loss: 1.6008 - val_accuracy: 0.3060\n",
            "Epoch 49/50\n",
            "110/110 [==============================] - 0s 3ms/step - loss: 1.3939 - accuracy: 0.3683 - val_loss: 1.6339 - val_accuracy: 0.2967\n",
            "Epoch 50/50\n",
            "110/110 [==============================] - 0s 3ms/step - loss: 1.3864 - accuracy: 0.3700 - val_loss: 1.6394 - val_accuracy: 0.3153\n"
          ]
        }
      ],
      "source": [
        "history = dense_model.fit(\n",
        "    train_input_vec,train_output_vec,\n",
        "    validation_split=0.3,\n",
        "    callbacks=callbacks1,\n",
        "    epochs=50,\n",
        "    batch_size=32)"
      ]
    },
    {
      "cell_type": "markdown",
      "metadata": {
        "id": "uoZ8Mm7i6t3u"
      },
      "source": [
        "## Training History"
      ]
    },
    {
      "cell_type": "markdown",
      "metadata": {
        "id": "thhM4umz7Av_"
      },
      "source": [
        "Parse the training history data."
      ]
    },
    {
      "cell_type": "code",
      "execution_count": null,
      "metadata": {
        "id": "AW94DYUK416c"
      },
      "outputs": [],
      "source": [
        "# history data\n",
        "history_dict = history.history\n",
        "\n",
        "# training metric history\n",
        "train_loss_values = history_dict[\"loss\"]\n",
        "train_acc_values = history_dict[\"accuracy\"]\n",
        "\n",
        "# validation metric history\n",
        "val_loss_values = history_dict[\"val_loss\"]\n",
        "val_acc_values = history_dict[\"val_accuracy\"]\n",
        "\n",
        "# epochs\n",
        "epochs = range(1, len(train_loss_values) + 1)"
      ]
    },
    {
      "cell_type": "markdown",
      "metadata": {
        "id": "hjnKlGtN72Dm"
      },
      "source": [
        "## Loss"
      ]
    },
    {
      "cell_type": "code",
      "execution_count": null,
      "metadata": {
        "colab": {
          "base_uri": "https://localhost:8080/",
          "height": 295
        },
        "id": "Czm2GhM844US",
        "outputId": "433279ea-0edd-4358-d88a-af3898914030"
      },
      "outputs": [
        {
          "data": {
            "image/png": "[encoded data removed]",
            "text/plain": [
              "<Figure size 432x288 with 1 Axes>"
            ]
          },
          "metadata": {
            "needs_background": "light"
          },
          "output_type": "display_data"
        }
      ],
      "source": [
        "# create figure for training and validation loss\n",
        "fig1, ax1 = plt.subplots()\n",
        "\n",
        "# plot\n",
        "ax1.plot(epochs, train_loss_values, \"bo\", label=\"Training Loss\")\n",
        "ax1.plot(epochs, val_loss_values, \"b\", label=\"Validation Loss\")\n",
        "ax1.set_title(\"Training and Validation Loss\")\n",
        "ax1.set_xlabel(\"Epochs\")\n",
        "ax1.set_ylabel(\"Loss\")\n",
        "ax1.legend()\n",
        "plt.show()"
      ]
    },
    {
      "cell_type": "code",
      "execution_count": null,
      "metadata": {
        "colab": {
          "base_uri": "https://localhost:8080/"
        },
        "id": "7I0KPolD84nc",
        "outputId": "7a911865-1930-4d84-b8dc-6118d5e820e7"
      },
      "outputs": [
        {
          "name": "stdout",
          "output_type": "stream",
          "text": [
            "Loss: 1.5893007516860962\n"
          ]
        }
      ],
      "source": [
        "print(f\"Loss: {min(val_loss_values)}\")"
      ]
    },
    {
      "cell_type": "markdown",
      "metadata": {
        "id": "inGu0o2T74k3"
      },
      "source": [
        "## Accuracy"
      ]
    },
    {
      "cell_type": "code",
      "execution_count": null,
      "metadata": {
        "colab": {
          "base_uri": "https://localhost:8080/",
          "height": 295
        },
        "id": "gqCgYcf246JP",
        "outputId": "fc9a87b6-3986-484c-b8f6-6931b28d1849"
      },
      "outputs": [
        {
          "data": {
            "image/png": "[encoded data removed]",
            "text/plain": [
              "<Figure size 432x288 with 1 Axes>"
            ]
          },
          "metadata": {
            "needs_background": "light"
          },
          "output_type": "display_data"
        }
      ],
      "source": [
        "# create figure for training data\n",
        "fig2, ax2 = plt.subplots()\n",
        "\n",
        "# plot\n",
        "ax2.plot(epochs, train_acc_values, \"bo\", label=\"Training Accuracy\")\n",
        "ax2.plot(epochs, val_acc_values, \"b\", label=\"Validation Accuracy\")\n",
        "ax2.set_title(\"Training and Accuracy Loss\")\n",
        "ax2.set_xlabel(\"Epochs\")\n",
        "ax2.set_ylabel(\"Accuracy\")\n",
        "ax2.legend()\n",
        "plt.show()"
      ]
    },
    {
      "cell_type": "code",
      "execution_count": null,
      "metadata": {
        "colab": {
          "base_uri": "https://localhost:8080/"
        },
        "id": "N9yd0lVm-qdf",
        "outputId": "a5f4ee35-64b2-4b04-ffb1-391670178dbb"
      },
      "outputs": [
        {
          "name": "stdout",
          "output_type": "stream",
          "text": [
            "Accuracy: 0.3160000145435333\n"
          ]
        }
      ],
      "source": [
        "print(f\"Accuracy: {max(val_acc_values)}\")"
      ]
    },
    {
      "cell_type": "markdown",
      "metadata": {
        "id": "wmthRpE-_q9C"
      },
      "source": [
        "# LSTM Model"
      ]
    },
    {
      "cell_type": "markdown",
      "metadata": {
        "id": "-RWwb7P9AmoK"
      },
      "source": [
        "## Network Architecture\n",
        "\n",
        "This model consists of an word embedding layer, a bidirectional LSTM, a dense layer, and two dropout layers nested in between. This model is able to achieve a validation accuracy of about 34%."
      ]
    },
    {
      "cell_type": "code",
      "execution_count": null,
      "metadata": {
        "colab": {
          "base_uri": "https://localhost:8080/",
          "height": 1000
        },
        "id": "EMEGAzlZApfQ",
        "outputId": "9422ac51-e314-475d-fd33-ba162ac0a7ad"
      },
      "outputs": [
        {
          "name": "stdout",
          "output_type": "stream",
          "text": [
            "Model: \"Dense_Model\"\n",
            "_________________________________________________________________\n",
            " Layer (type)                Output Shape              Param #   \n",
            "=================================================================\n",
            " input (InputLayer)          [(None, None)]            0         \n",
            "                                                                 \n",
            " embedding_layer (Embedding)  (None, None, 64)         832       \n",
            "                                                                 \n",
            " bidirectional_LSTM_layer (B  (None, 128)              66048     \n",
            " idirectional)                                                   \n",
            "                                                                 \n",
            " dropout_layer_1 (Dropout)   (None, 128)               0         \n",
            "                                                                 \n",
            " hidden_layer (Dense)        (None, 64)                8256      \n",
            "                                                                 \n",
            " dropout_layer_2 (Dropout)   (None, 64)                0         \n",
            "                                                                 \n",
            " output (Dense)              (None, 13)                845       \n",
            "                                                                 \n",
            "=================================================================\n",
            "Total params: 75,981\n",
            "Trainable params: 75,981\n",
            "Non-trainable params: 0\n",
            "_________________________________________________________________\n"
          ]
        },
        {
          "data": {
            "image/png": "[encoded data removed]",
            "text/plain": [
              "<IPython.core.display.Image object>"
            ]
          },
          "execution_count": 257,
          "metadata": {},
          "output_type": "execute_result"
        }
      ],
      "source": [
        "inputs = keras.Input(shape=(None,), dtype=\"int64\", name=\"input\")\n",
        "embedded = layers.Embedding(input_dim=13, output_dim=64, mask_zero=True, name=\"embedding_layer\")(inputs)\n",
        "x = layers.Bidirectional(layers.LSTM(64), name=\"bidirectional_LSTM_layer\")(embedded)\n",
        "x = layers.Dropout(0.25, name=\"dropout_layer_1\")(x)\n",
        "x = layers.Dense(64, activation=\"relu\", name=\"hidden_layer\")(x)\n",
        "x = layers.Dropout(0.5, name=\"dropout_layer_2\")(x)\n",
        "outputs = layers.Dense(13, activation=\"softmax\", name=\"output\")(x)\n",
        "\n",
        "LSTM_model = keras.Model(inputs, outputs, name=\"Dense_Model\")\n",
        "LSTM_model.summary()\n",
        "\n",
        "tf.keras.utils.plot_model(LSTM_model, show_shapes=True)"
      ]
    },
    {
      "cell_type": "markdown",
      "metadata": {
        "id": "edvCcu0ZB8u_"
      },
      "source": [
        "## Compile and Train"
      ]
    },
    {
      "cell_type": "code",
      "execution_count": null,
      "metadata": {
        "id": "tEuy4KMdBwGU"
      },
      "outputs": [],
      "source": [
        "LSTM_model.compile(\n",
        "    optimizer=\"rmsprop\",\n",
        "    loss=\"sparse_categorical_crossentropy\",\n",
        "    metrics=[\"accuracy\"])\n",
        "\n",
        "callbacks2 = [\n",
        "    keras.callbacks.ModelCheckpoint(\n",
        "        filepath = \"/content/drive/MyDrive/Colab Notebooks/CSCE_636_Project_3/Proj03_LSTM_model.keras\",\n",
        "        save_best_only=True,\n",
        "        monitor=\"val_loss\"),\n",
        "    keras.callbacks.EarlyStopping(\n",
        "        monitor=\"val_loss\",\n",
        "        patience=10,\n",
        "        verbose=1,\n",
        "        restore_best_weights=True)\n",
        "]"
      ]
    },
    {
      "cell_type": "code",
      "execution_count": null,
      "metadata": {
        "colab": {
          "base_uri": "https://localhost:8080/"
        },
        "id": "kqr8CnZiCLFT",
        "outputId": "9c0b901b-143a-4625-d7f3-d94562f2882a"
      },
      "outputs": [
        {
          "name": "stdout",
          "output_type": "stream",
          "text": [
            "Epoch 1/50\n",
            "110/110 [==============================] - 12s 42ms/step - loss: 2.2518 - accuracy: 0.1843 - val_loss: 2.1506 - val_accuracy: 0.2233\n",
            "Epoch 2/50\n",
            "110/110 [==============================] - 2s 15ms/step - loss: 1.8943 - accuracy: 0.2494 - val_loss: 1.5087 - val_accuracy: 0.3347\n",
            "Epoch 3/50\n",
            "110/110 [==============================] - 2s 16ms/step - loss: 1.5551 - accuracy: 0.2900 - val_loss: 1.4283 - val_accuracy: 0.3273\n",
            "Epoch 4/50\n",
            "110/110 [==============================] - 2s 15ms/step - loss: 1.4715 - accuracy: 0.3037 - val_loss: 1.3916 - val_accuracy: 0.3167\n",
            "Epoch 5/50\n",
            "110/110 [==============================] - 2s 15ms/step - loss: 1.4285 - accuracy: 0.3234 - val_loss: 1.3739 - val_accuracy: 0.3320\n",
            "Epoch 6/50\n",
            "110/110 [==============================] - 2s 15ms/step - loss: 1.3993 - accuracy: 0.3149 - val_loss: 1.3591 - val_accuracy: 0.3273\n",
            "Epoch 7/50\n",
            "110/110 [==============================] - 2s 15ms/step - loss: 1.3843 - accuracy: 0.3237 - val_loss: 1.3576 - val_accuracy: 0.3380\n",
            "Epoch 8/50\n",
            "110/110 [==============================] - 2s 16ms/step - loss: 1.3713 - accuracy: 0.3354 - val_loss: 1.3497 - val_accuracy: 0.3293\n",
            "Epoch 9/50\n",
            "110/110 [==============================] - 2s 15ms/step - loss: 1.3639 - accuracy: 0.3466 - val_loss: 1.3502 - val_accuracy: 0.3367\n",
            "Epoch 10/50\n",
            "110/110 [==============================] - 2s 15ms/step - loss: 1.3555 - accuracy: 0.3443 - val_loss: 1.3704 - val_accuracy: 0.3140\n",
            "Epoch 11/50\n",
            "110/110 [==============================] - 2s 15ms/step - loss: 1.3532 - accuracy: 0.3449 - val_loss: 1.3420 - val_accuracy: 0.3453\n",
            "Epoch 12/50\n",
            "110/110 [==============================] - 2s 15ms/step - loss: 1.3487 - accuracy: 0.3360 - val_loss: 1.3400 - val_accuracy: 0.3420\n",
            "Epoch 13/50\n",
            "110/110 [==============================] - 2s 14ms/step - loss: 1.3471 - accuracy: 0.3403 - val_loss: 1.3418 - val_accuracy: 0.3247\n",
            "Epoch 14/50\n",
            "110/110 [==============================] - 2s 14ms/step - loss: 1.3384 - accuracy: 0.3589 - val_loss: 1.3443 - val_accuracy: 0.3233\n",
            "Epoch 15/50\n",
            "110/110 [==============================] - 2s 14ms/step - loss: 1.3410 - accuracy: 0.3414 - val_loss: 1.3528 - val_accuracy: 0.3360\n",
            "Epoch 16/50\n",
            "110/110 [==============================] - 2s 15ms/step - loss: 1.3369 - accuracy: 0.3446 - val_loss: 1.3592 - val_accuracy: 0.3287\n",
            "Epoch 17/50\n",
            "110/110 [==============================] - 2s 22ms/step - loss: 1.3330 - accuracy: 0.3503 - val_loss: 1.3394 - val_accuracy: 0.3300\n",
            "Epoch 18/50\n",
            "110/110 [==============================] - 2s 14ms/step - loss: 1.3346 - accuracy: 0.3500 - val_loss: 1.3400 - val_accuracy: 0.3233\n",
            "Epoch 19/50\n",
            "110/110 [==============================] - 2s 15ms/step - loss: 1.3288 - accuracy: 0.3560 - val_loss: 1.3461 - val_accuracy: 0.3240\n",
            "Epoch 20/50\n",
            "110/110 [==============================] - 2s 15ms/step - loss: 1.3235 - accuracy: 0.3591 - val_loss: 1.3446 - val_accuracy: 0.3280\n",
            "Epoch 21/50\n",
            "110/110 [==============================] - 2s 14ms/step - loss: 1.3258 - accuracy: 0.3566 - val_loss: 1.3644 - val_accuracy: 0.3353\n",
            "Epoch 22/50\n",
            "110/110 [==============================] - 2s 14ms/step - loss: 1.3233 - accuracy: 0.3629 - val_loss: 1.3521 - val_accuracy: 0.3360\n",
            "Epoch 23/50\n",
            "110/110 [==============================] - 2s 15ms/step - loss: 1.3252 - accuracy: 0.3597 - val_loss: 1.3401 - val_accuracy: 0.3353\n",
            "Epoch 24/50\n",
            "110/110 [==============================] - 2s 14ms/step - loss: 1.3218 - accuracy: 0.3637 - val_loss: 1.3800 - val_accuracy: 0.3133\n",
            "Epoch 25/50\n",
            "110/110 [==============================] - 2s 14ms/step - loss: 1.3220 - accuracy: 0.3611 - val_loss: 1.3398 - val_accuracy: 0.3347\n",
            "Epoch 26/50\n",
            "110/110 [==============================] - 2s 21ms/step - loss: 1.3146 - accuracy: 0.3600 - val_loss: 1.3372 - val_accuracy: 0.3420\n",
            "Epoch 27/50\n",
            "110/110 [==============================] - 2s 14ms/step - loss: 1.3122 - accuracy: 0.3743 - val_loss: 1.3439 - val_accuracy: 0.3387\n",
            "Epoch 28/50\n",
            "110/110 [==============================] - 2s 14ms/step - loss: 1.3138 - accuracy: 0.3591 - val_loss: 1.3392 - val_accuracy: 0.3293\n",
            "Epoch 29/50\n",
            "110/110 [==============================] - 2s 14ms/step - loss: 1.3107 - accuracy: 0.3594 - val_loss: 1.3759 - val_accuracy: 0.3280\n",
            "Epoch 30/50\n",
            "110/110 [==============================] - 2s 14ms/step - loss: 1.3052 - accuracy: 0.3700 - val_loss: 1.3661 - val_accuracy: 0.3393\n",
            "Epoch 31/50\n",
            "110/110 [==============================] - 2s 14ms/step - loss: 1.3049 - accuracy: 0.3654 - val_loss: 1.3487 - val_accuracy: 0.3480\n",
            "Epoch 32/50\n",
            "110/110 [==============================] - 2s 14ms/step - loss: 1.3037 - accuracy: 0.3754 - val_loss: 1.3447 - val_accuracy: 0.3433\n",
            "Epoch 33/50\n",
            "110/110 [==============================] - 2s 15ms/step - loss: 1.2997 - accuracy: 0.3689 - val_loss: 1.3532 - val_accuracy: 0.3367\n",
            "Epoch 34/50\n",
            "110/110 [==============================] - 2s 14ms/step - loss: 1.2967 - accuracy: 0.3786 - val_loss: 1.3459 - val_accuracy: 0.3487\n",
            "Epoch 35/50\n",
            "110/110 [==============================] - 2s 14ms/step - loss: 1.3051 - accuracy: 0.3851 - val_loss: 1.3443 - val_accuracy: 0.3400\n",
            "Epoch 36/50\n",
            "109/110 [============================>.] - ETA: 0s - loss: 1.2932 - accuracy: 0.3850Restoring model weights from the end of the best epoch: 26.\n",
            "110/110 [==============================] - 2s 15ms/step - loss: 1.2930 - accuracy: 0.3851 - val_loss: 1.3592 - val_accuracy: 0.3253\n",
            "Epoch 36: early stopping\n"
          ]
        }
      ],
      "source": [
        "history = LSTM_model.fit(\n",
        "    train_input_vec,train_output_vec,\n",
        "    validation_split=0.3,\n",
        "    callbacks=callbacks2,\n",
        "    epochs=50,\n",
        "    batch_size=32)"
      ]
    },
    {
      "cell_type": "markdown",
      "metadata": {
        "id": "2uVc2ufYBsot"
      },
      "source": [
        "## Training History"
      ]
    },
    {
      "cell_type": "markdown",
      "metadata": {
        "id": "GZlZkgp-Oiv6"
      },
      "source": [
        "Parse the training history data."
      ]
    },
    {
      "cell_type": "code",
      "execution_count": null,
      "metadata": {
        "id": "Yw7syWAnCeG8"
      },
      "outputs": [],
      "source": [
        "# history data\n",
        "history_dict = history.history\n",
        "\n",
        "# training metric history\n",
        "train_loss_values = history_dict[\"loss\"]\n",
        "train_acc_values = history_dict[\"accuracy\"]\n",
        "\n",
        "# validation metric history\n",
        "val_loss_values = history_dict[\"val_loss\"]\n",
        "val_acc_values = history_dict[\"val_accuracy\"]\n",
        "\n",
        "# epochs\n",
        "epochs = range(1, len(train_loss_values) + 1)"
      ]
    },
    {
      "cell_type": "markdown",
      "metadata": {
        "id": "NGgDX2TNCnTr"
      },
      "source": [
        "## Loss"
      ]
    },
    {
      "cell_type": "code",
      "execution_count": null,
      "metadata": {
        "colab": {
          "base_uri": "https://localhost:8080/",
          "height": 295
        },
        "id": "kYDn-AUjCotL",
        "outputId": "5ebaaf6d-c3d2-4316-a19a-980a1ca4f73c"
      },
      "outputs": [
        {
          "data": {
            "image/png": "[encoded data removed]",
            "text/plain": [
              "<Figure size 432x288 with 1 Axes>"
            ]
          },
          "metadata": {
            "needs_background": "light"
          },
          "output_type": "display_data"
        }
      ],
      "source": [
        "# create figure for training and validation loss\n",
        "fig1, ax1 = plt.subplots()\n",
        "\n",
        "# plot\n",
        "ax1.plot(epochs, train_loss_values, \"bo\", label=\"Training Loss\")\n",
        "ax1.plot(epochs, val_loss_values, \"b\", label=\"Validation Loss\")\n",
        "ax1.set_title(\"Training and Validation Loss\")\n",
        "ax1.set_xlabel(\"Epochs\")\n",
        "ax1.set_ylabel(\"Loss\")\n",
        "ax1.legend()\n",
        "plt.show()"
      ]
    },
    {
      "cell_type": "code",
      "execution_count": null,
      "metadata": {
        "colab": {
          "base_uri": "https://localhost:8080/"
        },
        "id": "jAI5EkZvCpuZ",
        "outputId": "d920c76a-169a-4ff2-b51c-fa769a259f11"
      },
      "outputs": [
        {
          "name": "stdout",
          "output_type": "stream",
          "text": [
            "Loss: 1.3371788263320923\n"
          ]
        }
      ],
      "source": [
        "print(f\"Loss: {min(val_loss_values)}\")"
      ]
    },
    {
      "cell_type": "markdown",
      "metadata": {
        "id": "fQRg2WuKCyDn"
      },
      "source": [
        "## Accuracy"
      ]
    },
    {
      "cell_type": "code",
      "execution_count": null,
      "metadata": {
        "colab": {
          "base_uri": "https://localhost:8080/",
          "height": 295
        },
        "id": "Yu7QSQttCwIK",
        "outputId": "48634608-4660-45bb-c428-ca2776548a13"
      },
      "outputs": [
        {
          "data": {
            "image/png": "[encoded data removed]",
            "text/plain": [
              "<Figure size 432x288 with 1 Axes>"
            ]
          },
          "metadata": {
            "needs_background": "light"
          },
          "output_type": "display_data"
        }
      ],
      "source": [
        "# create figure for training data\n",
        "fig2, ax2 = plt.subplots()\n",
        "\n",
        "# plot\n",
        "ax2.plot(epochs, train_acc_values, \"bo\", label=\"Training Accuracy\")\n",
        "ax2.plot(epochs, val_acc_values, \"b\", label=\"Validation Accuracy\")\n",
        "ax2.set_title(\"Training and Accuracy Loss\")\n",
        "ax2.set_xlabel(\"Epochs\")\n",
        "ax2.set_ylabel(\"Accuracy\")\n",
        "ax2.legend()\n",
        "plt.show()"
      ]
    },
    {
      "cell_type": "code",
      "execution_count": null,
      "metadata": {
        "colab": {
          "base_uri": "https://localhost:8080/"
        },
        "id": "Teh92rIPC1k1",
        "outputId": "683570c7-b097-47fe-b3cc-ebf24b966274"
      },
      "outputs": [
        {
          "name": "stdout",
          "output_type": "stream",
          "text": [
            "Accuracy: 0.3486666679382324\n"
          ]
        }
      ],
      "source": [
        "print(f\"Accuracy: {max(val_acc_values)}\")"
      ]
    },
    {
      "cell_type": "markdown",
      "source": [
        "# TEST THE MODEL"
      ],
      "metadata": {
        "id": "YceMsnYsRbtK"
      }
    },
    {
      "cell_type": "markdown",
      "source": [
        "## Import Libraries"
      ],
      "metadata": {
        "id": "PNop_Oe3TbCO"
      }
    },
    {
      "cell_type": "code",
      "source": [
        "import pickle\n",
        "import tensorflow as tf\n",
        "import numpy as np\n",
        "\n",
        "from tensorflow import keras\n",
        "from tensorflow.keras import layers\n",
        "from matplotlib import pyplot as plt\n",
        "\n",
        "rng = np.random.default_rng()"
      ],
      "metadata": {
        "id": "xH-hl3ItTanF"
      },
      "execution_count": 4,
      "outputs": []
    },
    {
      "cell_type": "markdown",
      "source": [
        "## Import Data"
      ],
      "metadata": {
        "id": "SsSoldamRm5-"
      }
    },
    {
      "cell_type": "code",
      "source": [
        "test_prefix_list = np.asarray(pickle.load(open('/content/drive/MyDrive/Colab Notebooks/CSCE_636_Project_3/DS_6_test_input_prefixList', 'rb')))"
      ],
      "metadata": {
        "id": "xyFxTxbfRltk",
        "outputId": "ef3e0cd7-6acc-4729-91c2-4cdc8167bd5b",
        "colab": {
          "base_uri": "https://localhost:8080/"
        }
      },
      "execution_count": 5,
      "outputs": [
        {
          "output_type": "stream",
          "name": "stderr",
          "text": [
            "/usr/local/lib/python3.7/dist-packages/ipykernel_launcher.py:1: VisibleDeprecationWarning: Creating an ndarray from ragged nested sequences (which is a list-or-tuple of lists-or-tuples-or ndarrays with different lengths or shapes) is deprecated. If you meant to do this, you must specify 'dtype=object' when creating the ndarray.\n",
            "  \"\"\"Entry point for launching an IPython kernel.\n"
          ]
        }
      ]
    },
    {
      "cell_type": "code",
      "source": [
        "LSTM_model = keras.models.load_model('/content/drive/MyDrive/Colab Notebooks/CSCE_636_Project_3/Proj03_LSTM_model.keras')"
      ],
      "metadata": {
        "id": "3gFixCVcRaW9"
      },
      "execution_count": 6,
      "outputs": []
    },
    {
      "cell_type": "markdown",
      "source": [
        "## Process Data"
      ],
      "metadata": {
        "id": "9uTiH9iITWWt"
      }
    },
    {
      "cell_type": "code",
      "source": [
        "s = \" \"\n",
        "\n",
        "test_input = []\n",
        "\n",
        "for i, phrase in enumerate(test_prefix_list):\n",
        "  test_input.append(s.join(phrase))"
      ],
      "metadata": {
        "id": "TUesq6hJTV4n"
      },
      "execution_count": 7,
      "outputs": []
    },
    {
      "cell_type": "code",
      "source": [
        "input_vectorization = layers.TextVectorization(output_sequence_length=100)\n",
        "input_vectorization.adapt(test_input)\n",
        "\n",
        "test_input_vec = input_vectorization(test_input)\n",
        "\n",
        "vocabulary = input_vectorization.get_vocabulary()"
      ],
      "metadata": {
        "id": "T3sx8hByTqB0"
      },
      "execution_count": 8,
      "outputs": []
    },
    {
      "cell_type": "code",
      "source": [
        "vocabulary"
      ],
      "metadata": {
        "id": "8w4i6rd0Wl2x",
        "outputId": "49b6727a-0bdd-4cff-8818-384b5420ce4f",
        "colab": {
          "base_uri": "https://localhost:8080/"
        }
      },
      "execution_count": 9,
      "outputs": [
        {
          "output_type": "execute_result",
          "data": {
            "text/plain": [
              "['', '[UNK]', 'a', 'c', 'b', 'e', 'f', 'g', 'd', 'k', 'h', 'j', 'i']"
            ]
          },
          "metadata": {},
          "execution_count": 9
        }
      ]
    },
    {
      "cell_type": "markdown",
      "source": [
        "## Make Predictions"
      ],
      "metadata": {
        "id": "hgOLKLVsXI1j"
      }
    },
    {
      "cell_type": "code",
      "source": [
        "test_output_vec = LSTM_model.predict(test_input_vec)"
      ],
      "metadata": {
        "id": "fwf2pFmRUWiF"
      },
      "execution_count": 10,
      "outputs": []
    },
    {
      "cell_type": "code",
      "source": [
        "test_output_tokens = np.zeros(len(test_output_vec))\n",
        "for ii in range(len(test_output_vec)):\n",
        "  test_output_tokens[ii] = test_output_vec[ii].argmax()"
      ],
      "metadata": {
        "id": "IZ9qVkxfd9xv"
      },
      "execution_count": 11,
      "outputs": []
    },
    {
      "cell_type": "code",
      "source": [
        "test_output = []\n",
        "\n",
        "for ii, phrase in enumerate(test_output_tokens):\n",
        "  pred_output = vocabulary[int(test_output_tokens[ii])]\n",
        "  test_output.append(pred_output)"
      ],
      "metadata": {
        "id": "TkBNp4f4gHqK"
      },
      "execution_count": 20,
      "outputs": []
    },
    {
      "cell_type": "code",
      "source": [
        "pickle.dump(test_output, open('/content/drive/MyDrive/Colab Notebooks/CSCE_636_Project_3/Proj03_test_output','wb'))"
      ],
      "metadata": {
        "id": "-uhJ2-nninVZ"
      },
      "execution_count": 22,
      "outputs": []
    }
  ],
  "metadata": {
    "accelerator": "GPU",
    "colab": {
      "machine_shape": "hm",
      "name": "CSCE_636_HW04_Sol.ipynb",
      "provenance": []
    },
    "interpreter": {
      "hash": "02de5609ef162b6bcc51dd429fd31b9a1f163c414526741362218fd7f2e354ad"
    },
    "kernelspec": {
      "display_name": "Python 3.9.7 64-bit",
      "language": "python",
      "name": "python3"
    },
    "language_info": {
      "codemirror_mode": {
        "name": "ipython",
        "version": 3
      },
      "file_extension": ".py",
      "mimetype": "text/x-python",
      "name": "python",
      "nbconvert_exporter": "python",
      "pygments_lexer": "ipython3",
      "version": "3.9.7"
    },
    "orig_nbformat": 4
  },
  "nbformat": 4,
  "nbformat_minor": 0
}