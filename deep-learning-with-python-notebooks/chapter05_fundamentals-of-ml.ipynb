{
  "cells": [
    {
      "cell_type": "markdown",
      "metadata": {
        "id": "qMhsH_ifimnz"
      },
      "source": [
        "This is a companion notebook for the book [Deep Learning with Python, Second Edition](https://www.manning.com/books/deep-learning-with-python-second-edition?a_aid=keras&a_bid=76564dff). For readability, it only contains runnable code blocks and section titles, and omits everything else in the book: text paragraphs, figures, and pseudocode.\n",
        "\n",
        "**If you want to be able to follow what's going on, I recommend reading the notebook side by side with your copy of the book.**\n",
        "\n",
        "This notebook was generated for TensorFlow 2.6."
      ]
    },
    {
      "cell_type": "markdown",
      "metadata": {
        "id": "fEiCvqOLimn3"
      },
      "source": [
        "# Fundamentals of machine learning"
      ]
    },
    {
      "cell_type": "markdown",
      "metadata": {
        "id": "Vs2hGwGkimn4"
      },
      "source": [
        "## Generalization: The goal of machine learning"
      ]
    },
    {
      "cell_type": "markdown",
      "metadata": {
        "id": "a12NcKPEimn4"
      },
      "source": [
        "### Underfitting and overfitting"
      ]
    },
    {
      "cell_type": "markdown",
      "metadata": {
        "id": "vlSUI410imn5"
      },
      "source": [
        "#### Noisy training data"
      ]
    },
    {
      "cell_type": "markdown",
      "metadata": {
        "id": "atnLwuyOimn5"
      },
      "source": [
        "#### Ambiguous features"
      ]
    },
    {
      "cell_type": "markdown",
      "metadata": {
        "id": "82wiTfbMimn6"
      },
      "source": [
        "#### Rare features and spurious correlations"
      ]
    },
    {
      "cell_type": "markdown",
      "metadata": {
        "id": "Zn_yLamDimn6"
      },
      "source": [
        "**Adding white-noise channels or all-zeros channels to MNIST**"
      ]
    },
    {
      "cell_type": "code",
      "execution_count": 1,
      "metadata": {
        "id": "dC4Nig-8imn7",
        "outputId": "145bb730-236b-4bc0-9504-271224c59cbb",
        "colab": {
          "base_uri": "https://localhost:8080/"
        }
      },
      "outputs": [
        {
          "output_type": "stream",
          "name": "stdout",
          "text": [
            "Downloading data from https://storage.googleapis.com/tensorflow/tf-keras-datasets/mnist.npz\n",
            "11493376/11490434 [==============================] - 0s 0us/step\n",
            "11501568/11490434 [==============================] - 0s 0us/step\n"
          ]
        }
      ],
      "source": [
        "from tensorflow.keras.datasets import mnist\n",
        "import numpy as np\n",
        "\n",
        "(train_images, train_labels), _ = mnist.load_data()\n",
        "train_images = train_images.reshape((60000, 28 * 28))\n",
        "train_images = train_images.astype(\"float32\") / 255\n",
        "\n",
        "train_images_with_noise_channels = np.concatenate(\n",
        "    [train_images, np.random.random((len(train_images), 784))], axis=1)\n",
        "\n",
        "train_images_with_zeros_channels = np.concatenate(\n",
        "    [train_images, np.zeros((len(train_images), 784))], axis=1)"
      ]
    },
    {
      "cell_type": "markdown",
      "metadata": {
        "id": "6gPzTTMiimn9"
      },
      "source": [
        "**Training the same model on MNIST data with noise channels or all-zero channels**"
      ]
    },
    {
      "cell_type": "code",
      "execution_count": 2,
      "metadata": {
        "id": "PsKAKewPimn9",
        "outputId": "5b3021c6-0998-4086-f31c-560fddfb0251",
        "colab": {
          "base_uri": "https://localhost:8080/"
        }
      },
      "outputs": [
        {
          "output_type": "stream",
          "name": "stdout",
          "text": [
            "Epoch 1/10\n",
            "375/375 [==============================] - 6s 6ms/step - loss: 0.6320 - accuracy: 0.8121 - val_loss: 0.2748 - val_accuracy: 0.9187\n",
            "Epoch 2/10\n",
            "375/375 [==============================] - 2s 5ms/step - loss: 0.2476 - accuracy: 0.9229 - val_loss: 0.1792 - val_accuracy: 0.9464\n",
            "Epoch 3/10\n",
            "375/375 [==============================] - 2s 5ms/step - loss: 0.1611 - accuracy: 0.9493 - val_loss: 0.1666 - val_accuracy: 0.9509\n",
            "Epoch 4/10\n",
            "375/375 [==============================] - 2s 5ms/step - loss: 0.1148 - accuracy: 0.9641 - val_loss: 0.1759 - val_accuracy: 0.9488\n",
            "Epoch 5/10\n",
            "375/375 [==============================] - 2s 5ms/step - loss: 0.0839 - accuracy: 0.9743 - val_loss: 0.1449 - val_accuracy: 0.9575\n",
            "Epoch 6/10\n",
            "375/375 [==============================] - 2s 5ms/step - loss: 0.0631 - accuracy: 0.9794 - val_loss: 0.1532 - val_accuracy: 0.9556\n",
            "Epoch 7/10\n",
            "375/375 [==============================] - 2s 5ms/step - loss: 0.0443 - accuracy: 0.9851 - val_loss: 0.1200 - val_accuracy: 0.9656\n",
            "Epoch 8/10\n",
            "375/375 [==============================] - 2s 5ms/step - loss: 0.0344 - accuracy: 0.9891 - val_loss: 0.1187 - val_accuracy: 0.9707\n",
            "Epoch 9/10\n",
            "375/375 [==============================] - 2s 5ms/step - loss: 0.0254 - accuracy: 0.9916 - val_loss: 0.2075 - val_accuracy: 0.9475\n",
            "Epoch 10/10\n",
            "375/375 [==============================] - 2s 5ms/step - loss: 0.0214 - accuracy: 0.9934 - val_loss: 0.1549 - val_accuracy: 0.9655\n",
            "Epoch 1/10\n",
            "375/375 [==============================] - 3s 6ms/step - loss: 0.2876 - accuracy: 0.9162 - val_loss: 0.1467 - val_accuracy: 0.9580\n",
            "Epoch 2/10\n",
            "375/375 [==============================] - 2s 5ms/step - loss: 0.1190 - accuracy: 0.9650 - val_loss: 0.1046 - val_accuracy: 0.9671\n",
            "Epoch 3/10\n",
            "375/375 [==============================] - 2s 5ms/step - loss: 0.0780 - accuracy: 0.9768 - val_loss: 0.0894 - val_accuracy: 0.9736\n",
            "Epoch 4/10\n",
            "375/375 [==============================] - 2s 5ms/step - loss: 0.0559 - accuracy: 0.9831 - val_loss: 0.0836 - val_accuracy: 0.9754\n",
            "Epoch 5/10\n",
            "375/375 [==============================] - 2s 5ms/step - loss: 0.0416 - accuracy: 0.9874 - val_loss: 0.0788 - val_accuracy: 0.9775\n",
            "Epoch 6/10\n",
            "375/375 [==============================] - 2s 5ms/step - loss: 0.0319 - accuracy: 0.9906 - val_loss: 0.0765 - val_accuracy: 0.9790\n",
            "Epoch 7/10\n",
            "375/375 [==============================] - 2s 5ms/step - loss: 0.0244 - accuracy: 0.9929 - val_loss: 0.0822 - val_accuracy: 0.9760\n",
            "Epoch 8/10\n",
            "375/375 [==============================] - 2s 5ms/step - loss: 0.0192 - accuracy: 0.9945 - val_loss: 0.0916 - val_accuracy: 0.9746\n",
            "Epoch 9/10\n",
            "375/375 [==============================] - 2s 5ms/step - loss: 0.0144 - accuracy: 0.9962 - val_loss: 0.0832 - val_accuracy: 0.9787\n",
            "Epoch 10/10\n",
            "375/375 [==============================] - 2s 5ms/step - loss: 0.0110 - accuracy: 0.9969 - val_loss: 0.0864 - val_accuracy: 0.9801\n"
          ]
        }
      ],
      "source": [
        "from tensorflow import keras\n",
        "from tensorflow.keras import layers\n",
        "\n",
        "def get_model():\n",
        "    model = keras.Sequential([\n",
        "        layers.Dense(512, activation=\"relu\"),\n",
        "        layers.Dense(10, activation=\"softmax\")\n",
        "    ])\n",
        "    model.compile(optimizer=\"rmsprop\",\n",
        "                  loss=\"sparse_categorical_crossentropy\",\n",
        "                  metrics=[\"accuracy\"])\n",
        "    return model\n",
        "\n",
        "model = get_model()\n",
        "history_noise = model.fit(\n",
        "    train_images_with_noise_channels, train_labels,\n",
        "    epochs=10,\n",
        "    batch_size=128,\n",
        "    validation_split=0.2)\n",
        "\n",
        "model = get_model()\n",
        "history_zeros = model.fit(\n",
        "    train_images_with_zeros_channels, train_labels,\n",
        "    epochs=10,\n",
        "    batch_size=128,\n",
        "    validation_split=0.2)"
      ]
    },
    {
      "cell_type": "markdown",
      "metadata": {
        "id": "-QGimXv-imn-"
      },
      "source": [
        "**Plotting a validation accuracy comparison**"
      ]
    },
    {
      "cell_type": "code",
      "execution_count": 3,
      "metadata": {
        "id": "apBo4D5aimn-",
        "outputId": "d8fd2db8-3b03-4b4d-9fc4-b216c384ac19",
        "colab": {
          "base_uri": "https://localhost:8080/",
          "height": 312
        }
      },
      "outputs": [
        {
          "output_type": "execute_result",
          "data": {
            "text/plain": [
              "<matplotlib.legend.Legend at 0x7f3eb00d0490>"
            ]
          },
          "metadata": {},
          "execution_count": 3
        },
        {
          "output_type": "display_data",
          "data": {
            "image/png": "[encoded data removed]",
            "text/plain": [
              "<Figure size 432x288 with 1 Axes>"
            ]
          },
          "metadata": {
            "needs_background": "light"
          }
        }
      ],
      "source": [
        "import matplotlib.pyplot as plt\n",
        "val_acc_noise = history_noise.history[\"val_accuracy\"]\n",
        "val_acc_zeros = history_zeros.history[\"val_accuracy\"]\n",
        "epochs = range(1, 11)\n",
        "plt.plot(epochs, val_acc_noise, \"b-\",\n",
        "         label=\"Validation accuracy with noise channels\")\n",
        "plt.plot(epochs, val_acc_zeros, \"b--\",\n",
        "         label=\"Validation accuracy with zeros channels\")\n",
        "plt.title(\"Effect of noise channels on validation accuracy\")\n",
        "plt.xlabel(\"Epochs\")\n",
        "plt.ylabel(\"Accuracy\")\n",
        "plt.legend()"
      ]
    },
    {
      "cell_type": "markdown",
      "metadata": {
        "id": "2Di6SDh0imn_"
      },
      "source": [
        "### The nature of generalization in deep learning"
      ]
    },
    {
      "cell_type": "markdown",
      "metadata": {
        "id": "hkpnKabmimoA"
      },
      "source": [
        "**Fitting a MNIST model with randomly shuffled labels**"
      ]
    },
    {
      "cell_type": "code",
      "execution_count": 4,
      "metadata": {
        "id": "YLsGLpt2imoA",
        "outputId": "12f4206e-5ee1-4c8f-ae8b-a24de5791d86",
        "colab": {
          "base_uri": "https://localhost:8080/"
        }
      },
      "outputs": [
        {
          "output_type": "stream",
          "name": "stdout",
          "text": [
            "Epoch 1/100\n",
            "375/375 [==============================] - 2s 5ms/step - loss: 2.3178 - accuracy: 0.1013 - val_loss: 2.3062 - val_accuracy: 0.1059\n",
            "Epoch 2/100\n",
            "375/375 [==============================] - 2s 4ms/step - loss: 2.3009 - accuracy: 0.1132 - val_loss: 2.3127 - val_accuracy: 0.1032\n",
            "Epoch 3/100\n",
            "375/375 [==============================] - 2s 4ms/step - loss: 2.2921 - accuracy: 0.1256 - val_loss: 2.3212 - val_accuracy: 0.1013\n",
            "Epoch 4/100\n",
            "375/375 [==============================] - 2s 4ms/step - loss: 2.2785 - accuracy: 0.1391 - val_loss: 2.3265 - val_accuracy: 0.1023\n",
            "Epoch 5/100\n",
            "375/375 [==============================] - 2s 4ms/step - loss: 2.2616 - accuracy: 0.1524 - val_loss: 2.3357 - val_accuracy: 0.1011\n",
            "Epoch 6/100\n",
            "375/375 [==============================] - 2s 5ms/step - loss: 2.2399 - accuracy: 0.1644 - val_loss: 2.3478 - val_accuracy: 0.1023\n",
            "Epoch 7/100\n",
            "375/375 [==============================] - 2s 5ms/step - loss: 2.2164 - accuracy: 0.1811 - val_loss: 2.3662 - val_accuracy: 0.1010\n",
            "Epoch 8/100\n",
            "375/375 [==============================] - 2s 4ms/step - loss: 2.1886 - accuracy: 0.1985 - val_loss: 2.3791 - val_accuracy: 0.1045\n",
            "Epoch 9/100\n",
            "375/375 [==============================] - 2s 4ms/step - loss: 2.1599 - accuracy: 0.2113 - val_loss: 2.3966 - val_accuracy: 0.1111\n",
            "Epoch 10/100\n",
            "375/375 [==============================] - 2s 5ms/step - loss: 2.1286 - accuracy: 0.2305 - val_loss: 2.4170 - val_accuracy: 0.1041\n",
            "Epoch 11/100\n",
            "375/375 [==============================] - 2s 4ms/step - loss: 2.0958 - accuracy: 0.2462 - val_loss: 2.4508 - val_accuracy: 0.1064\n",
            "Epoch 12/100\n",
            "375/375 [==============================] - 2s 4ms/step - loss: 2.0631 - accuracy: 0.2602 - val_loss: 2.4808 - val_accuracy: 0.1007\n",
            "Epoch 13/100\n",
            "375/375 [==============================] - 2s 5ms/step - loss: 2.0275 - accuracy: 0.2785 - val_loss: 2.4915 - val_accuracy: 0.1027\n",
            "Epoch 14/100\n",
            "375/375 [==============================] - 2s 5ms/step - loss: 1.9939 - accuracy: 0.2895 - val_loss: 2.5241 - val_accuracy: 0.1007\n",
            "Epoch 15/100\n",
            "375/375 [==============================] - 2s 4ms/step - loss: 1.9599 - accuracy: 0.3083 - val_loss: 2.5459 - val_accuracy: 0.1032\n",
            "Epoch 16/100\n",
            "375/375 [==============================] - 2s 5ms/step - loss: 1.9256 - accuracy: 0.3214 - val_loss: 2.5916 - val_accuracy: 0.1034\n",
            "Epoch 17/100\n",
            "375/375 [==============================] - 2s 4ms/step - loss: 1.8899 - accuracy: 0.3353 - val_loss: 2.6266 - val_accuracy: 0.1017\n",
            "Epoch 18/100\n",
            "375/375 [==============================] - 2s 5ms/step - loss: 1.8577 - accuracy: 0.3496 - val_loss: 2.6409 - val_accuracy: 0.1030\n",
            "Epoch 19/100\n",
            "375/375 [==============================] - 2s 5ms/step - loss: 1.8231 - accuracy: 0.3630 - val_loss: 2.7076 - val_accuracy: 0.1018\n",
            "Epoch 20/100\n",
            "375/375 [==============================] - 2s 5ms/step - loss: 1.7929 - accuracy: 0.3743 - val_loss: 2.7246 - val_accuracy: 0.1022\n",
            "Epoch 21/100\n",
            "375/375 [==============================] - 2s 5ms/step - loss: 1.7584 - accuracy: 0.3854 - val_loss: 2.7660 - val_accuracy: 0.1045\n",
            "Epoch 22/100\n",
            "375/375 [==============================] - 2s 5ms/step - loss: 1.7283 - accuracy: 0.3987 - val_loss: 2.7943 - val_accuracy: 0.1010\n",
            "Epoch 23/100\n",
            "375/375 [==============================] - 2s 5ms/step - loss: 1.6955 - accuracy: 0.4121 - val_loss: 2.8441 - val_accuracy: 0.1004\n",
            "Epoch 24/100\n",
            "375/375 [==============================] - 2s 5ms/step - loss: 1.6675 - accuracy: 0.4224 - val_loss: 2.8891 - val_accuracy: 0.1011\n",
            "Epoch 25/100\n",
            "375/375 [==============================] - 2s 5ms/step - loss: 1.6366 - accuracy: 0.4330 - val_loss: 2.9069 - val_accuracy: 0.1027\n",
            "Epoch 26/100\n",
            "375/375 [==============================] - 2s 5ms/step - loss: 1.6093 - accuracy: 0.4454 - val_loss: 2.9485 - val_accuracy: 0.0999\n",
            "Epoch 27/100\n",
            "375/375 [==============================] - 2s 4ms/step - loss: 1.5797 - accuracy: 0.4534 - val_loss: 3.0017 - val_accuracy: 0.1027\n",
            "Epoch 28/100\n",
            "375/375 [==============================] - 2s 5ms/step - loss: 1.5537 - accuracy: 0.4651 - val_loss: 3.0454 - val_accuracy: 0.1004\n",
            "Epoch 29/100\n",
            "375/375 [==============================] - 2s 4ms/step - loss: 1.5256 - accuracy: 0.4760 - val_loss: 3.0791 - val_accuracy: 0.1002\n",
            "Epoch 30/100\n",
            "375/375 [==============================] - 2s 5ms/step - loss: 1.5006 - accuracy: 0.4842 - val_loss: 3.1272 - val_accuracy: 0.0996\n",
            "Epoch 31/100\n",
            "375/375 [==============================] - 2s 5ms/step - loss: 1.4747 - accuracy: 0.4971 - val_loss: 3.1800 - val_accuracy: 0.1007\n",
            "Epoch 32/100\n",
            "375/375 [==============================] - 2s 4ms/step - loss: 1.4499 - accuracy: 0.5025 - val_loss: 3.2184 - val_accuracy: 0.0995\n",
            "Epoch 33/100\n",
            "375/375 [==============================] - 2s 4ms/step - loss: 1.4237 - accuracy: 0.5141 - val_loss: 3.2559 - val_accuracy: 0.1006\n",
            "Epoch 34/100\n",
            "375/375 [==============================] - 2s 5ms/step - loss: 1.4008 - accuracy: 0.5239 - val_loss: 3.2921 - val_accuracy: 0.0987\n",
            "Epoch 35/100\n",
            "375/375 [==============================] - 2s 5ms/step - loss: 1.3775 - accuracy: 0.5291 - val_loss: 3.3793 - val_accuracy: 0.0978\n",
            "Epoch 36/100\n",
            "375/375 [==============================] - 2s 4ms/step - loss: 1.3543 - accuracy: 0.5390 - val_loss: 3.3875 - val_accuracy: 0.0989\n",
            "Epoch 37/100\n",
            "375/375 [==============================] - 2s 5ms/step - loss: 1.3332 - accuracy: 0.5463 - val_loss: 3.4500 - val_accuracy: 0.1012\n",
            "Epoch 38/100\n",
            "375/375 [==============================] - 2s 5ms/step - loss: 1.3126 - accuracy: 0.5542 - val_loss: 3.4913 - val_accuracy: 0.0979\n",
            "Epoch 39/100\n",
            "375/375 [==============================] - 2s 4ms/step - loss: 1.2895 - accuracy: 0.5607 - val_loss: 3.5432 - val_accuracy: 0.1015\n",
            "Epoch 40/100\n",
            "375/375 [==============================] - 2s 4ms/step - loss: 1.2669 - accuracy: 0.5690 - val_loss: 3.6204 - val_accuracy: 0.1013\n",
            "Epoch 41/100\n",
            "375/375 [==============================] - 2s 4ms/step - loss: 1.2482 - accuracy: 0.5764 - val_loss: 3.6260 - val_accuracy: 0.1033\n",
            "Epoch 42/100\n",
            "375/375 [==============================] - 2s 5ms/step - loss: 1.2285 - accuracy: 0.5841 - val_loss: 3.6934 - val_accuracy: 0.0994\n",
            "Epoch 43/100\n",
            "375/375 [==============================] - 2s 4ms/step - loss: 1.2091 - accuracy: 0.5895 - val_loss: 3.7432 - val_accuracy: 0.1023\n",
            "Epoch 44/100\n",
            "375/375 [==============================] - 2s 4ms/step - loss: 1.1886 - accuracy: 0.5973 - val_loss: 3.8130 - val_accuracy: 0.0972\n",
            "Epoch 45/100\n",
            "375/375 [==============================] - 2s 5ms/step - loss: 1.1685 - accuracy: 0.6055 - val_loss: 3.8368 - val_accuracy: 0.1008\n",
            "Epoch 46/100\n",
            "375/375 [==============================] - 2s 5ms/step - loss: 1.1529 - accuracy: 0.6124 - val_loss: 3.8764 - val_accuracy: 0.1047\n",
            "Epoch 47/100\n",
            "375/375 [==============================] - 2s 4ms/step - loss: 1.1330 - accuracy: 0.6184 - val_loss: 3.9235 - val_accuracy: 0.1019\n",
            "Epoch 48/100\n",
            "375/375 [==============================] - 2s 5ms/step - loss: 1.1161 - accuracy: 0.6249 - val_loss: 3.9849 - val_accuracy: 0.1032\n",
            "Epoch 49/100\n",
            "375/375 [==============================] - 2s 4ms/step - loss: 1.0980 - accuracy: 0.6307 - val_loss: 4.0227 - val_accuracy: 0.1037\n",
            "Epoch 50/100\n",
            "375/375 [==============================] - 2s 4ms/step - loss: 1.0801 - accuracy: 0.6363 - val_loss: 4.0741 - val_accuracy: 0.1064\n",
            "Epoch 51/100\n",
            "375/375 [==============================] - 2s 5ms/step - loss: 1.0626 - accuracy: 0.6433 - val_loss: 4.1879 - val_accuracy: 0.1032\n",
            "Epoch 52/100\n",
            "375/375 [==============================] - 2s 4ms/step - loss: 1.0478 - accuracy: 0.6485 - val_loss: 4.1972 - val_accuracy: 0.1020\n",
            "Epoch 53/100\n",
            "375/375 [==============================] - 2s 5ms/step - loss: 1.0317 - accuracy: 0.6562 - val_loss: 4.2469 - val_accuracy: 0.1024\n",
            "Epoch 54/100\n",
            "375/375 [==============================] - 2s 4ms/step - loss: 1.0168 - accuracy: 0.6623 - val_loss: 4.2982 - val_accuracy: 0.1044\n",
            "Epoch 55/100\n",
            "375/375 [==============================] - 2s 5ms/step - loss: 1.0003 - accuracy: 0.6666 - val_loss: 4.3472 - val_accuracy: 0.1015\n",
            "Epoch 56/100\n",
            "375/375 [==============================] - 2s 5ms/step - loss: 0.9849 - accuracy: 0.6716 - val_loss: 4.4399 - val_accuracy: 0.1023\n",
            "Epoch 57/100\n",
            "375/375 [==============================] - 2s 5ms/step - loss: 0.9705 - accuracy: 0.6763 - val_loss: 4.4940 - val_accuracy: 0.1051\n",
            "Epoch 58/100\n",
            "375/375 [==============================] - 2s 5ms/step - loss: 0.9559 - accuracy: 0.6809 - val_loss: 4.5126 - val_accuracy: 0.1038\n",
            "Epoch 59/100\n",
            "375/375 [==============================] - 2s 4ms/step - loss: 0.9421 - accuracy: 0.6853 - val_loss: 4.5781 - val_accuracy: 0.1016\n",
            "Epoch 60/100\n",
            "375/375 [==============================] - 2s 4ms/step - loss: 0.9269 - accuracy: 0.6926 - val_loss: 4.6406 - val_accuracy: 0.1022\n",
            "Epoch 61/100\n",
            "375/375 [==============================] - 2s 4ms/step - loss: 0.9122 - accuracy: 0.6969 - val_loss: 4.6911 - val_accuracy: 0.1027\n",
            "Epoch 62/100\n",
            "375/375 [==============================] - 2s 5ms/step - loss: 0.8969 - accuracy: 0.7024 - val_loss: 4.7594 - val_accuracy: 0.1036\n",
            "Epoch 63/100\n",
            "375/375 [==============================] - 2s 4ms/step - loss: 0.8825 - accuracy: 0.7074 - val_loss: 4.8717 - val_accuracy: 0.1023\n",
            "Epoch 64/100\n",
            "375/375 [==============================] - 2s 4ms/step - loss: 0.8741 - accuracy: 0.7103 - val_loss: 4.8741 - val_accuracy: 0.1017\n",
            "Epoch 65/100\n",
            "375/375 [==============================] - 2s 5ms/step - loss: 0.8604 - accuracy: 0.7157 - val_loss: 4.8910 - val_accuracy: 0.1031\n",
            "Epoch 66/100\n",
            "375/375 [==============================] - 2s 4ms/step - loss: 0.8445 - accuracy: 0.7190 - val_loss: 4.9858 - val_accuracy: 0.1024\n",
            "Epoch 67/100\n",
            "375/375 [==============================] - 2s 5ms/step - loss: 0.8319 - accuracy: 0.7254 - val_loss: 5.0482 - val_accuracy: 0.1045\n",
            "Epoch 68/100\n",
            "375/375 [==============================] - 2s 4ms/step - loss: 0.8196 - accuracy: 0.7295 - val_loss: 5.1129 - val_accuracy: 0.1056\n",
            "Epoch 69/100\n",
            "375/375 [==============================] - 2s 5ms/step - loss: 0.8063 - accuracy: 0.7341 - val_loss: 5.1764 - val_accuracy: 0.1059\n",
            "Epoch 70/100\n",
            "375/375 [==============================] - 2s 4ms/step - loss: 0.7961 - accuracy: 0.7384 - val_loss: 5.2036 - val_accuracy: 0.1023\n",
            "Epoch 71/100\n",
            "375/375 [==============================] - 2s 5ms/step - loss: 0.7853 - accuracy: 0.7401 - val_loss: 5.2657 - val_accuracy: 0.1047\n",
            "Epoch 72/100\n",
            "375/375 [==============================] - 2s 5ms/step - loss: 0.7723 - accuracy: 0.7477 - val_loss: 5.3216 - val_accuracy: 0.1028\n",
            "Epoch 73/100\n",
            "375/375 [==============================] - 2s 4ms/step - loss: 0.7628 - accuracy: 0.7505 - val_loss: 5.4578 - val_accuracy: 0.1053\n",
            "Epoch 74/100\n",
            "375/375 [==============================] - 2s 5ms/step - loss: 0.7495 - accuracy: 0.7561 - val_loss: 5.5187 - val_accuracy: 0.1047\n",
            "Epoch 75/100\n",
            "375/375 [==============================] - 2s 4ms/step - loss: 0.7403 - accuracy: 0.7580 - val_loss: 5.5118 - val_accuracy: 0.1047\n",
            "Epoch 76/100\n",
            "375/375 [==============================] - 2s 4ms/step - loss: 0.7267 - accuracy: 0.7624 - val_loss: 5.5881 - val_accuracy: 0.1048\n",
            "Epoch 77/100\n",
            "375/375 [==============================] - 2s 5ms/step - loss: 0.7180 - accuracy: 0.7646 - val_loss: 5.6476 - val_accuracy: 0.1049\n",
            "Epoch 78/100\n",
            "375/375 [==============================] - 2s 5ms/step - loss: 0.7070 - accuracy: 0.7685 - val_loss: 5.7340 - val_accuracy: 0.1015\n",
            "Epoch 79/100\n",
            "375/375 [==============================] - 2s 4ms/step - loss: 0.6974 - accuracy: 0.7723 - val_loss: 5.7542 - val_accuracy: 0.1015\n",
            "Epoch 80/100\n",
            "375/375 [==============================] - 2s 5ms/step - loss: 0.6868 - accuracy: 0.7769 - val_loss: 5.8493 - val_accuracy: 0.1028\n",
            "Epoch 81/100\n",
            "375/375 [==============================] - 2s 5ms/step - loss: 0.6763 - accuracy: 0.7803 - val_loss: 5.9447 - val_accuracy: 0.1050\n",
            "Epoch 82/100\n",
            "375/375 [==============================] - 2s 5ms/step - loss: 0.6679 - accuracy: 0.7832 - val_loss: 5.9842 - val_accuracy: 0.1023\n",
            "Epoch 83/100\n",
            "375/375 [==============================] - 2s 4ms/step - loss: 0.6587 - accuracy: 0.7849 - val_loss: 6.0287 - val_accuracy: 0.1050\n",
            "Epoch 84/100\n",
            "375/375 [==============================] - 2s 4ms/step - loss: 0.6467 - accuracy: 0.7896 - val_loss: 6.1281 - val_accuracy: 0.1034\n",
            "Epoch 85/100\n",
            "375/375 [==============================] - 2s 5ms/step - loss: 0.6391 - accuracy: 0.7943 - val_loss: 6.2119 - val_accuracy: 0.0994\n",
            "Epoch 86/100\n",
            "375/375 [==============================] - 2s 5ms/step - loss: 0.6308 - accuracy: 0.7974 - val_loss: 6.2520 - val_accuracy: 0.1038\n",
            "Epoch 87/100\n",
            "375/375 [==============================] - 2s 5ms/step - loss: 0.6198 - accuracy: 0.8008 - val_loss: 6.3266 - val_accuracy: 0.1023\n",
            "Epoch 88/100\n",
            "375/375 [==============================] - 2s 5ms/step - loss: 0.6103 - accuracy: 0.8039 - val_loss: 6.3490 - val_accuracy: 0.1056\n",
            "Epoch 89/100\n",
            "375/375 [==============================] - 2s 4ms/step - loss: 0.6022 - accuracy: 0.8060 - val_loss: 6.4568 - val_accuracy: 0.1034\n",
            "Epoch 90/100\n",
            "375/375 [==============================] - 2s 5ms/step - loss: 0.5949 - accuracy: 0.8081 - val_loss: 6.5363 - val_accuracy: 0.1036\n",
            "Epoch 91/100\n",
            "375/375 [==============================] - 2s 5ms/step - loss: 0.5848 - accuracy: 0.8130 - val_loss: 6.5777 - val_accuracy: 0.1016\n",
            "Epoch 92/100\n",
            "375/375 [==============================] - 2s 5ms/step - loss: 0.5771 - accuracy: 0.8140 - val_loss: 6.6754 - val_accuracy: 0.1040\n",
            "Epoch 93/100\n",
            "375/375 [==============================] - 2s 5ms/step - loss: 0.5682 - accuracy: 0.8169 - val_loss: 6.7036 - val_accuracy: 0.1031\n",
            "Epoch 94/100\n",
            "375/375 [==============================] - 2s 5ms/step - loss: 0.5621 - accuracy: 0.8189 - val_loss: 6.7794 - val_accuracy: 0.1027\n",
            "Epoch 95/100\n",
            "375/375 [==============================] - 2s 4ms/step - loss: 0.5539 - accuracy: 0.8220 - val_loss: 6.7998 - val_accuracy: 0.1052\n",
            "Epoch 96/100\n",
            "375/375 [==============================] - 2s 4ms/step - loss: 0.5472 - accuracy: 0.8245 - val_loss: 6.9094 - val_accuracy: 0.1006\n",
            "Epoch 97/100\n",
            "375/375 [==============================] - 2s 5ms/step - loss: 0.5388 - accuracy: 0.8269 - val_loss: 6.9866 - val_accuracy: 0.1015\n",
            "Epoch 98/100\n",
            "375/375 [==============================] - 2s 5ms/step - loss: 0.5298 - accuracy: 0.8301 - val_loss: 7.0173 - val_accuracy: 0.1030\n",
            "Epoch 99/100\n",
            "375/375 [==============================] - 2s 4ms/step - loss: 0.5229 - accuracy: 0.8336 - val_loss: 7.1034 - val_accuracy: 0.1043\n",
            "Epoch 100/100\n",
            "375/375 [==============================] - 2s 5ms/step - loss: 0.5182 - accuracy: 0.8334 - val_loss: 7.1491 - val_accuracy: 0.1066\n"
          ]
        },
        {
          "output_type": "execute_result",
          "data": {
            "text/plain": [
              "<keras.callbacks.History at 0x7f3eb0066f10>"
            ]
          },
          "metadata": {},
          "execution_count": 4
        }
      ],
      "source": [
        "(train_images, train_labels), _ = mnist.load_data()\n",
        "train_images = train_images.reshape((60000, 28 * 28))\n",
        "train_images = train_images.astype(\"float32\") / 255\n",
        "\n",
        "random_train_labels = train_labels[:]\n",
        "np.random.shuffle(random_train_labels)\n",
        "\n",
        "model = keras.Sequential([\n",
        "    layers.Dense(512, activation=\"relu\"),\n",
        "    layers.Dense(10, activation=\"softmax\")\n",
        "])\n",
        "model.compile(optimizer=\"rmsprop\",\n",
        "              loss=\"sparse_categorical_crossentropy\",\n",
        "              metrics=[\"accuracy\"])\n",
        "model.fit(train_images, random_train_labels,\n",
        "          epochs=100,\n",
        "          batch_size=128,\n",
        "          validation_split=0.2)"
      ]
    },
    {
      "cell_type": "markdown",
      "metadata": {
        "id": "tn2h5BhAimoF"
      },
      "source": [
        "#### The manifold hypothesis"
      ]
    },
    {
      "cell_type": "markdown",
      "metadata": {
        "id": "oIQCCWFqimoF"
      },
      "source": [
        "#### Interpolation as a source of generalization"
      ]
    },
    {
      "cell_type": "markdown",
      "metadata": {
        "id": "2QcEcMNcimoF"
      },
      "source": [
        "#### Why deep learning works"
      ]
    },
    {
      "cell_type": "markdown",
      "metadata": {
        "id": "D9xnAEtFimoG"
      },
      "source": [
        "#### Training data is paramount"
      ]
    },
    {
      "cell_type": "markdown",
      "metadata": {
        "id": "2mRJF-XximoG"
      },
      "source": [
        "## Evaluating machine-learning models"
      ]
    },
    {
      "cell_type": "markdown",
      "metadata": {
        "id": "wf3yiWp9imoH"
      },
      "source": [
        "### Training, validation, and test sets"
      ]
    },
    {
      "cell_type": "markdown",
      "metadata": {
        "id": "qplqGvZmimoH"
      },
      "source": [
        "#### Simple hold-out validation"
      ]
    },
    {
      "cell_type": "markdown",
      "metadata": {
        "id": "u8h71BB4imoH"
      },
      "source": [
        "#### K-fold validation"
      ]
    },
    {
      "cell_type": "markdown",
      "metadata": {
        "id": "JI-eIm6nimoH"
      },
      "source": [
        "#### Iterated K-fold validation with shuffling"
      ]
    },
    {
      "cell_type": "markdown",
      "metadata": {
        "id": "Wv3QlE01imoI"
      },
      "source": [
        "### Beating a common-sense baseline"
      ]
    },
    {
      "cell_type": "markdown",
      "metadata": {
        "id": "qNjSkOScimoI"
      },
      "source": [
        "### Things to keep in mind about model evaluation"
      ]
    },
    {
      "cell_type": "markdown",
      "metadata": {
        "id": "nw8wr-loimoI"
      },
      "source": [
        "## Improving model fit"
      ]
    },
    {
      "cell_type": "markdown",
      "metadata": {
        "id": "SOvnXbynimoI"
      },
      "source": [
        "### Tuning key gradient descent parameters"
      ]
    },
    {
      "cell_type": "markdown",
      "metadata": {
        "id": "m3kPgBAKimoJ"
      },
      "source": [
        "**Training a MNIST model with an incorrectly high learning rate**"
      ]
    },
    {
      "cell_type": "code",
      "execution_count": 5,
      "metadata": {
        "id": "xGqgyfIAimoJ",
        "outputId": "fa2c0a8d-31ba-4be8-e158-0215799e63d2",
        "colab": {
          "base_uri": "https://localhost:8080/"
        }
      },
      "outputs": [
        {
          "output_type": "stream",
          "name": "stdout",
          "text": [
            "Epoch 1/10\n",
            "375/375 [==============================] - 4s 7ms/step - loss: 822.5166 - accuracy: 0.4086 - val_loss: 2.5804 - val_accuracy: 0.2938\n",
            "Epoch 2/10\n",
            "375/375 [==============================] - 2s 5ms/step - loss: 6.4220 - accuracy: 0.2858 - val_loss: 2.1905 - val_accuracy: 0.2485\n",
            "Epoch 3/10\n",
            "375/375 [==============================] - 2s 5ms/step - loss: 3.5839 - accuracy: 0.2698 - val_loss: 2.5473 - val_accuracy: 0.2741\n",
            "Epoch 4/10\n",
            "375/375 [==============================] - 2s 4ms/step - loss: 3.9952 - accuracy: 0.2795 - val_loss: 2.6821 - val_accuracy: 0.3246\n",
            "Epoch 5/10\n",
            "375/375 [==============================] - 2s 4ms/step - loss: 2.8050 - accuracy: 0.2845 - val_loss: 2.6318 - val_accuracy: 0.2908\n",
            "Epoch 6/10\n",
            "375/375 [==============================] - 2s 4ms/step - loss: 2.5931 - accuracy: 0.2664 - val_loss: 2.0814 - val_accuracy: 0.2934\n",
            "Epoch 7/10\n",
            "375/375 [==============================] - 2s 4ms/step - loss: 2.9940 - accuracy: 0.2952 - val_loss: 2.0524 - val_accuracy: 0.2837\n",
            "Epoch 8/10\n",
            "375/375 [==============================] - 2s 4ms/step - loss: 2.9298 - accuracy: 0.2969 - val_loss: 2.1531 - val_accuracy: 0.3007\n",
            "Epoch 9/10\n",
            "375/375 [==============================] - 2s 5ms/step - loss: 2.5417 - accuracy: 0.3071 - val_loss: 3.9670 - val_accuracy: 0.3103\n",
            "Epoch 10/10\n",
            "375/375 [==============================] - 2s 4ms/step - loss: 3.0176 - accuracy: 0.3167 - val_loss: 2.9422 - val_accuracy: 0.3406\n"
          ]
        },
        {
          "output_type": "execute_result",
          "data": {
            "text/plain": [
              "<keras.callbacks.History at 0x7f3eb02de2d0>"
            ]
          },
          "metadata": {},
          "execution_count": 5
        }
      ],
      "source": [
        "(train_images, train_labels), _ = mnist.load_data()\n",
        "train_images = train_images.reshape((60000, 28 * 28))\n",
        "train_images = train_images.astype(\"float32\") / 255\n",
        "\n",
        "model = keras.Sequential([\n",
        "    layers.Dense(512, activation=\"relu\"),\n",
        "    layers.Dense(10, activation=\"softmax\")\n",
        "])\n",
        "model.compile(optimizer=keras.optimizers.RMSprop(1.),\n",
        "              loss=\"sparse_categorical_crossentropy\",\n",
        "              metrics=[\"accuracy\"])\n",
        "model.fit(train_images, train_labels,\n",
        "          epochs=10,\n",
        "          batch_size=128,\n",
        "          validation_split=0.2)"
      ]
    },
    {
      "cell_type": "markdown",
      "metadata": {
        "id": "9tgrGPGqimoJ"
      },
      "source": [
        "**The same model with a more appropriate learning rate**"
      ]
    },
    {
      "cell_type": "code",
      "execution_count": 6,
      "metadata": {
        "id": "-6rfoyn8imoJ",
        "outputId": "56c01806-d1c9-4e2b-bef3-e66f55e7fdc0",
        "colab": {
          "base_uri": "https://localhost:8080/"
        }
      },
      "outputs": [
        {
          "output_type": "stream",
          "name": "stdout",
          "text": [
            "Epoch 1/10\n",
            "375/375 [==============================] - 3s 5ms/step - loss: 0.3549 - accuracy: 0.9133 - val_loss: 0.1684 - val_accuracy: 0.9558\n",
            "Epoch 2/10\n",
            "375/375 [==============================] - 2s 5ms/step - loss: 0.1420 - accuracy: 0.9626 - val_loss: 0.1416 - val_accuracy: 0.9684\n",
            "Epoch 3/10\n",
            "375/375 [==============================] - 2s 5ms/step - loss: 0.1125 - accuracy: 0.9734 - val_loss: 0.1725 - val_accuracy: 0.9666\n",
            "Epoch 4/10\n",
            "375/375 [==============================] - 2s 4ms/step - loss: 0.0976 - accuracy: 0.9778 - val_loss: 0.2446 - val_accuracy: 0.9606\n",
            "Epoch 5/10\n",
            "375/375 [==============================] - 2s 5ms/step - loss: 0.0884 - accuracy: 0.9819 - val_loss: 0.1909 - val_accuracy: 0.9723\n",
            "Epoch 6/10\n",
            "375/375 [==============================] - 2s 4ms/step - loss: 0.0752 - accuracy: 0.9851 - val_loss: 0.2425 - val_accuracy: 0.9712\n",
            "Epoch 7/10\n",
            "375/375 [==============================] - 2s 4ms/step - loss: 0.0749 - accuracy: 0.9862 - val_loss: 0.3253 - val_accuracy: 0.9618\n",
            "Epoch 8/10\n",
            "375/375 [==============================] - 2s 4ms/step - loss: 0.0671 - accuracy: 0.9875 - val_loss: 0.2457 - val_accuracy: 0.9735\n",
            "Epoch 9/10\n",
            "375/375 [==============================] - 2s 5ms/step - loss: 0.0585 - accuracy: 0.9895 - val_loss: 0.2929 - val_accuracy: 0.9710\n",
            "Epoch 10/10\n",
            "375/375 [==============================] - 2s 5ms/step - loss: 0.0550 - accuracy: 0.9904 - val_loss: 0.3599 - val_accuracy: 0.9709\n"
          ]
        },
        {
          "output_type": "execute_result",
          "data": {
            "text/plain": [
              "<keras.callbacks.History at 0x7f3e37870490>"
            ]
          },
          "metadata": {},
          "execution_count": 6
        }
      ],
      "source": [
        "model = keras.Sequential([\n",
        "    layers.Dense(512, activation=\"relu\"),\n",
        "    layers.Dense(10, activation=\"softmax\")\n",
        "])\n",
        "model.compile(optimizer=keras.optimizers.RMSprop(1e-2),\n",
        "              loss=\"sparse_categorical_crossentropy\",\n",
        "              metrics=[\"accuracy\"])\n",
        "model.fit(train_images, train_labels,\n",
        "          epochs=10,\n",
        "          batch_size=128,\n",
        "          validation_split=0.2)"
      ]
    },
    {
      "cell_type": "markdown",
      "metadata": {
        "id": "vwvYqz7nimoK"
      },
      "source": [
        "### Leveraging better architecture priors"
      ]
    },
    {
      "cell_type": "markdown",
      "metadata": {
        "id": "cDxNVVQRimoK"
      },
      "source": [
        "### Increasing model capacity"
      ]
    },
    {
      "cell_type": "markdown",
      "metadata": {
        "id": "dOcaMUyLimoK"
      },
      "source": [
        "**A simple logistic regression on MNIST**"
      ]
    },
    {
      "cell_type": "code",
      "execution_count": 7,
      "metadata": {
        "id": "SVKt_ZSKimoL",
        "outputId": "beaf766f-cbc1-4c07-893b-0aa603ae003b",
        "colab": {
          "base_uri": "https://localhost:8080/"
        }
      },
      "outputs": [
        {
          "output_type": "stream",
          "name": "stdout",
          "text": [
            "Epoch 1/20\n",
            "375/375 [==============================] - 2s 4ms/step - loss: 0.6658 - accuracy: 0.8386 - val_loss: 0.3596 - val_accuracy: 0.9024\n",
            "Epoch 2/20\n",
            "375/375 [==============================] - 1s 4ms/step - loss: 0.3510 - accuracy: 0.9042 - val_loss: 0.3071 - val_accuracy: 0.9135\n",
            "Epoch 3/20\n",
            "375/375 [==============================] - 1s 4ms/step - loss: 0.3155 - accuracy: 0.9115 - val_loss: 0.2890 - val_accuracy: 0.9206\n",
            "Epoch 4/20\n",
            "375/375 [==============================] - 1s 4ms/step - loss: 0.2996 - accuracy: 0.9163 - val_loss: 0.2815 - val_accuracy: 0.9215\n",
            "Epoch 5/20\n",
            "375/375 [==============================] - 1s 4ms/step - loss: 0.2901 - accuracy: 0.9191 - val_loss: 0.2744 - val_accuracy: 0.9244\n",
            "Epoch 6/20\n",
            "375/375 [==============================] - 1s 4ms/step - loss: 0.2830 - accuracy: 0.9205 - val_loss: 0.2728 - val_accuracy: 0.9257\n",
            "Epoch 7/20\n",
            "375/375 [==============================] - 2s 4ms/step - loss: 0.2778 - accuracy: 0.9217 - val_loss: 0.2702 - val_accuracy: 0.9251\n",
            "Epoch 8/20\n",
            "375/375 [==============================] - 2s 4ms/step - loss: 0.2748 - accuracy: 0.9229 - val_loss: 0.2693 - val_accuracy: 0.9256\n",
            "Epoch 9/20\n",
            "375/375 [==============================] - 1s 4ms/step - loss: 0.2711 - accuracy: 0.9248 - val_loss: 0.2667 - val_accuracy: 0.9258\n",
            "Epoch 10/20\n",
            "375/375 [==============================] - 1s 4ms/step - loss: 0.2688 - accuracy: 0.9253 - val_loss: 0.2633 - val_accuracy: 0.9291\n",
            "Epoch 11/20\n",
            "375/375 [==============================] - 1s 4ms/step - loss: 0.2666 - accuracy: 0.9268 - val_loss: 0.2641 - val_accuracy: 0.9283\n",
            "Epoch 12/20\n",
            "375/375 [==============================] - 1s 4ms/step - loss: 0.2647 - accuracy: 0.9263 - val_loss: 0.2645 - val_accuracy: 0.9281\n",
            "Epoch 13/20\n",
            "375/375 [==============================] - 2s 4ms/step - loss: 0.2630 - accuracy: 0.9279 - val_loss: 0.2613 - val_accuracy: 0.9306\n",
            "Epoch 14/20\n",
            "375/375 [==============================] - 2s 5ms/step - loss: 0.2614 - accuracy: 0.9283 - val_loss: 0.2611 - val_accuracy: 0.9293\n",
            "Epoch 15/20\n",
            "375/375 [==============================] - 2s 5ms/step - loss: 0.2605 - accuracy: 0.9279 - val_loss: 0.2612 - val_accuracy: 0.9310\n",
            "Epoch 16/20\n",
            "375/375 [==============================] - 1s 4ms/step - loss: 0.2591 - accuracy: 0.9292 - val_loss: 0.2614 - val_accuracy: 0.9309\n",
            "Epoch 17/20\n",
            "375/375 [==============================] - 1s 4ms/step - loss: 0.2585 - accuracy: 0.9294 - val_loss: 0.2622 - val_accuracy: 0.9302\n",
            "Epoch 18/20\n",
            "375/375 [==============================] - 1s 3ms/step - loss: 0.2570 - accuracy: 0.9300 - val_loss: 0.2628 - val_accuracy: 0.9305\n",
            "Epoch 19/20\n",
            "375/375 [==============================] - 1s 4ms/step - loss: 0.2563 - accuracy: 0.9300 - val_loss: 0.2612 - val_accuracy: 0.9307\n",
            "Epoch 20/20\n",
            "375/375 [==============================] - 1s 4ms/step - loss: 0.2553 - accuracy: 0.9302 - val_loss: 0.2605 - val_accuracy: 0.9308\n"
          ]
        }
      ],
      "source": [
        "model = keras.Sequential([layers.Dense(10, activation=\"softmax\")])\n",
        "model.compile(optimizer=\"rmsprop\",\n",
        "              loss=\"sparse_categorical_crossentropy\",\n",
        "              metrics=[\"accuracy\"])\n",
        "history_small_model = model.fit(\n",
        "    train_images, train_labels,\n",
        "    epochs=20,\n",
        "    batch_size=128,\n",
        "    validation_split=0.2)"
      ]
    },
    {
      "cell_type": "code",
      "execution_count": 8,
      "metadata": {
        "id": "p_JHt1rximoL",
        "outputId": "247a8661-df7e-4316-8e15-48fa32c78d5a",
        "colab": {
          "base_uri": "https://localhost:8080/",
          "height": 312
        }
      },
      "outputs": [
        {
          "output_type": "execute_result",
          "data": {
            "text/plain": [
              "<matplotlib.legend.Legend at 0x7f3e3567f850>"
            ]
          },
          "metadata": {},
          "execution_count": 8
        },
        {
          "output_type": "display_data",
          "data": {
            "image/png": "[encoded data removed]",
            "text/plain": [
              "<Figure size 432x288 with 1 Axes>"
            ]
          },
          "metadata": {
            "needs_background": "light"
          }
        }
      ],
      "source": [
        "import matplotlib.pyplot as plt\n",
        "val_loss = history_small_model.history[\"val_loss\"]\n",
        "epochs = range(1, 21)\n",
        "plt.plot(epochs, val_loss, \"b--\",\n",
        "         label=\"Validation loss\")\n",
        "plt.title(\"Effect of insufficient model capacity on validation loss\")\n",
        "plt.xlabel(\"Epochs\")\n",
        "plt.ylabel(\"Loss\")\n",
        "plt.legend()"
      ]
    },
    {
      "cell_type": "code",
      "execution_count": 9,
      "metadata": {
        "id": "yGjajI0limoM",
        "outputId": "cee23d02-b20d-4027-c59e-072b3ef96e73",
        "colab": {
          "base_uri": "https://localhost:8080/"
        }
      },
      "outputs": [
        {
          "output_type": "stream",
          "name": "stdout",
          "text": [
            "Epoch 1/20\n",
            "375/375 [==============================] - 2s 5ms/step - loss: 0.3607 - accuracy: 0.8952 - val_loss: 0.2064 - val_accuracy: 0.9386\n",
            "Epoch 2/20\n",
            "375/375 [==============================] - 2s 4ms/step - loss: 0.1591 - accuracy: 0.9523 - val_loss: 0.1295 - val_accuracy: 0.9617\n",
            "Epoch 3/20\n",
            "375/375 [==============================] - 2s 4ms/step - loss: 0.1110 - accuracy: 0.9672 - val_loss: 0.1394 - val_accuracy: 0.9589\n",
            "Epoch 4/20\n",
            "375/375 [==============================] - 2s 4ms/step - loss: 0.0866 - accuracy: 0.9732 - val_loss: 0.0996 - val_accuracy: 0.9697\n",
            "Epoch 5/20\n",
            "375/375 [==============================] - 2s 4ms/step - loss: 0.0684 - accuracy: 0.9794 - val_loss: 0.0932 - val_accuracy: 0.9739\n",
            "Epoch 6/20\n",
            "375/375 [==============================] - 2s 4ms/step - loss: 0.0563 - accuracy: 0.9826 - val_loss: 0.0936 - val_accuracy: 0.9737\n",
            "Epoch 7/20\n",
            "375/375 [==============================] - 2s 4ms/step - loss: 0.0461 - accuracy: 0.9859 - val_loss: 0.0938 - val_accuracy: 0.9726\n",
            "Epoch 8/20\n",
            "375/375 [==============================] - 2s 4ms/step - loss: 0.0387 - accuracy: 0.9880 - val_loss: 0.0894 - val_accuracy: 0.9750\n",
            "Epoch 9/20\n",
            "375/375 [==============================] - 2s 4ms/step - loss: 0.0325 - accuracy: 0.9900 - val_loss: 0.0907 - val_accuracy: 0.9772\n",
            "Epoch 10/20\n",
            "375/375 [==============================] - 2s 4ms/step - loss: 0.0280 - accuracy: 0.9914 - val_loss: 0.0902 - val_accuracy: 0.9772\n",
            "Epoch 11/20\n",
            "375/375 [==============================] - 2s 4ms/step - loss: 0.0224 - accuracy: 0.9930 - val_loss: 0.1130 - val_accuracy: 0.9721\n",
            "Epoch 12/20\n",
            "375/375 [==============================] - 2s 4ms/step - loss: 0.0193 - accuracy: 0.9937 - val_loss: 0.1081 - val_accuracy: 0.9747\n",
            "Epoch 13/20\n",
            "375/375 [==============================] - 2s 4ms/step - loss: 0.0168 - accuracy: 0.9944 - val_loss: 0.1076 - val_accuracy: 0.9750\n",
            "Epoch 14/20\n",
            "375/375 [==============================] - 2s 4ms/step - loss: 0.0147 - accuracy: 0.9952 - val_loss: 0.1114 - val_accuracy: 0.9748\n",
            "Epoch 15/20\n",
            "375/375 [==============================] - 2s 4ms/step - loss: 0.0117 - accuracy: 0.9965 - val_loss: 0.1072 - val_accuracy: 0.9783\n",
            "Epoch 16/20\n",
            "375/375 [==============================] - 2s 4ms/step - loss: 0.0097 - accuracy: 0.9972 - val_loss: 0.1093 - val_accuracy: 0.9779\n",
            "Epoch 17/20\n",
            "375/375 [==============================] - 2s 4ms/step - loss: 0.0087 - accuracy: 0.9975 - val_loss: 0.1274 - val_accuracy: 0.9750\n",
            "Epoch 18/20\n",
            "375/375 [==============================] - 2s 4ms/step - loss: 0.0069 - accuracy: 0.9979 - val_loss: 0.1394 - val_accuracy: 0.9737\n",
            "Epoch 19/20\n",
            "375/375 [==============================] - 2s 4ms/step - loss: 0.0068 - accuracy: 0.9979 - val_loss: 0.1414 - val_accuracy: 0.9757\n",
            "Epoch 20/20\n",
            "375/375 [==============================] - 2s 4ms/step - loss: 0.0066 - accuracy: 0.9981 - val_loss: 0.1314 - val_accuracy: 0.9778\n"
          ]
        }
      ],
      "source": [
        "model = keras.Sequential([\n",
        "    layers.Dense(96, activation=\"relu\"),\n",
        "    layers.Dense(96, activation=\"relu\"),\n",
        "    layers.Dense(10, activation=\"softmax\"),\n",
        "])\n",
        "model.compile(optimizer=\"rmsprop\",\n",
        "              loss=\"sparse_categorical_crossentropy\",\n",
        "              metrics=[\"accuracy\"])\n",
        "history_large_model = model.fit(\n",
        "    train_images, train_labels,\n",
        "    epochs=20,\n",
        "    batch_size=128,\n",
        "    validation_split=0.2)"
      ]
    },
    {
      "cell_type": "markdown",
      "metadata": {
        "id": "-1n5yYjjimoM"
      },
      "source": [
        "## Improving generalization"
      ]
    },
    {
      "cell_type": "markdown",
      "metadata": {
        "id": "W2-1Ui9wimoN"
      },
      "source": [
        "### Dataset curation"
      ]
    },
    {
      "cell_type": "markdown",
      "metadata": {
        "id": "cCGNwBbXimoN"
      },
      "source": [
        "### Feature engineering"
      ]
    },
    {
      "cell_type": "markdown",
      "metadata": {
        "id": "cQ6LlBbuimoN"
      },
      "source": [
        "### Using early stopping"
      ]
    },
    {
      "cell_type": "markdown",
      "metadata": {
        "id": "sHkLlWQHimoN"
      },
      "source": [
        "### Regularizing your model"
      ]
    },
    {
      "cell_type": "markdown",
      "metadata": {
        "id": "TZ8_sU2UimoN"
      },
      "source": [
        "#### Reducing the network's size"
      ]
    },
    {
      "cell_type": "markdown",
      "metadata": {
        "id": "1_NlsPlgimoO"
      },
      "source": [
        "**Original model**"
      ]
    },
    {
      "cell_type": "code",
      "execution_count": 10,
      "metadata": {
        "id": "9n5U2GlVimoO",
        "outputId": "f6075fa2-2075-41a8-d7c7-12913d0e8d2a",
        "colab": {
          "base_uri": "https://localhost:8080/"
        }
      },
      "outputs": [
        {
          "output_type": "stream",
          "name": "stdout",
          "text": [
            "Downloading data from https://storage.googleapis.com/tensorflow/tf-keras-datasets/imdb.npz\n",
            "17465344/17464789 [==============================] - 0s 0us/step\n",
            "17473536/17464789 [==============================] - 0s 0us/step\n",
            "Epoch 1/20\n",
            "30/30 [==============================] - 3s 41ms/step - loss: 0.5195 - accuracy: 0.7736 - val_loss: 0.3962 - val_accuracy: 0.8639\n",
            "Epoch 2/20\n",
            "30/30 [==============================] - 1s 21ms/step - loss: 0.3051 - accuracy: 0.9017 - val_loss: 0.2998 - val_accuracy: 0.8878\n",
            "Epoch 3/20\n",
            "30/30 [==============================] - 1s 20ms/step - loss: 0.2224 - accuracy: 0.9282 - val_loss: 0.3176 - val_accuracy: 0.8723\n",
            "Epoch 4/20\n",
            "30/30 [==============================] - 1s 21ms/step - loss: 0.1741 - accuracy: 0.9439 - val_loss: 0.2922 - val_accuracy: 0.8815\n",
            "Epoch 5/20\n",
            "30/30 [==============================] - 1s 21ms/step - loss: 0.1412 - accuracy: 0.9556 - val_loss: 0.3211 - val_accuracy: 0.8721\n",
            "Epoch 6/20\n",
            "30/30 [==============================] - 1s 31ms/step - loss: 0.1170 - accuracy: 0.9634 - val_loss: 0.2946 - val_accuracy: 0.8872\n",
            "Epoch 7/20\n",
            "30/30 [==============================] - 1s 31ms/step - loss: 0.0962 - accuracy: 0.9714 - val_loss: 0.3154 - val_accuracy: 0.8826\n",
            "Epoch 8/20\n",
            "30/30 [==============================] - 1s 22ms/step - loss: 0.0820 - accuracy: 0.9769 - val_loss: 0.3479 - val_accuracy: 0.8774\n",
            "Epoch 9/20\n",
            "30/30 [==============================] - 1s 21ms/step - loss: 0.0646 - accuracy: 0.9829 - val_loss: 0.3670 - val_accuracy: 0.8778\n",
            "Epoch 10/20\n",
            "30/30 [==============================] - 1s 21ms/step - loss: 0.0532 - accuracy: 0.9859 - val_loss: 0.3842 - val_accuracy: 0.8773\n",
            "Epoch 11/20\n",
            "30/30 [==============================] - 1s 24ms/step - loss: 0.0410 - accuracy: 0.9902 - val_loss: 0.4274 - val_accuracy: 0.8744\n",
            "Epoch 12/20\n",
            "30/30 [==============================] - 1s 21ms/step - loss: 0.0347 - accuracy: 0.9914 - val_loss: 0.4528 - val_accuracy: 0.8723\n",
            "Epoch 13/20\n",
            "30/30 [==============================] - 1s 25ms/step - loss: 0.0270 - accuracy: 0.9943 - val_loss: 0.5039 - val_accuracy: 0.8676\n",
            "Epoch 14/20\n",
            "30/30 [==============================] - 1s 22ms/step - loss: 0.0223 - accuracy: 0.9949 - val_loss: 0.5123 - val_accuracy: 0.8698\n",
            "Epoch 15/20\n",
            "30/30 [==============================] - 1s 24ms/step - loss: 0.0152 - accuracy: 0.9980 - val_loss: 0.5643 - val_accuracy: 0.8663\n",
            "Epoch 16/20\n",
            "30/30 [==============================] - 1s 22ms/step - loss: 0.0144 - accuracy: 0.9977 - val_loss: 0.5824 - val_accuracy: 0.8682\n",
            "Epoch 17/20\n",
            "30/30 [==============================] - 1s 22ms/step - loss: 0.0077 - accuracy: 0.9995 - val_loss: 0.6802 - val_accuracy: 0.8575\n",
            "Epoch 18/20\n",
            "30/30 [==============================] - 1s 21ms/step - loss: 0.0084 - accuracy: 0.9990 - val_loss: 0.6564 - val_accuracy: 0.8674\n",
            "Epoch 19/20\n",
            "30/30 [==============================] - 1s 22ms/step - loss: 0.0065 - accuracy: 0.9993 - val_loss: 0.6925 - val_accuracy: 0.8671\n",
            "Epoch 20/20\n",
            "30/30 [==============================] - 1s 25ms/step - loss: 0.0037 - accuracy: 0.9999 - val_loss: 0.7322 - val_accuracy: 0.8673\n"
          ]
        }
      ],
      "source": [
        "from tensorflow.keras.datasets import imdb\n",
        "(train_data, train_labels), _ = imdb.load_data(num_words=10000)\n",
        "\n",
        "def vectorize_sequences(sequences, dimension=10000):\n",
        "    results = np.zeros((len(sequences), dimension))\n",
        "    for i, sequence in enumerate(sequences):\n",
        "        results[i, sequence] = 1.\n",
        "    return results\n",
        "train_data = vectorize_sequences(train_data)\n",
        "\n",
        "model = keras.Sequential([\n",
        "    layers.Dense(16, activation=\"relu\"),\n",
        "    layers.Dense(16, activation=\"relu\"),\n",
        "    layers.Dense(1, activation=\"sigmoid\")\n",
        "])\n",
        "model.compile(optimizer=\"rmsprop\",\n",
        "              loss=\"binary_crossentropy\",\n",
        "              metrics=[\"accuracy\"])\n",
        "history_original = model.fit(train_data, train_labels,\n",
        "                             epochs=20, batch_size=512, validation_split=0.4)"
      ]
    },
    {
      "cell_type": "markdown",
      "metadata": {
        "id": "bdKuTBlJimoO"
      },
      "source": [
        "**Version of the model with lower capacity**"
      ]
    },
    {
      "cell_type": "code",
      "execution_count": 11,
      "metadata": {
        "id": "P_KLYMglimoO",
        "outputId": "c74cc1ad-9c7b-4b39-ecde-15e22628d431",
        "colab": {
          "base_uri": "https://localhost:8080/"
        }
      },
      "outputs": [
        {
          "output_type": "stream",
          "name": "stdout",
          "text": [
            "Epoch 1/20\n",
            "30/30 [==============================] - 2s 40ms/step - loss: 0.6091 - accuracy: 0.7360 - val_loss: 0.5227 - val_accuracy: 0.8442\n",
            "Epoch 2/20\n",
            "30/30 [==============================] - 1s 22ms/step - loss: 0.4599 - accuracy: 0.8733 - val_loss: 0.4282 - val_accuracy: 0.8692\n",
            "Epoch 3/20\n",
            "30/30 [==============================] - 1s 22ms/step - loss: 0.3686 - accuracy: 0.8986 - val_loss: 0.3714 - val_accuracy: 0.8736\n",
            "Epoch 4/20\n",
            "30/30 [==============================] - 1s 26ms/step - loss: 0.3041 - accuracy: 0.9143 - val_loss: 0.3263 - val_accuracy: 0.8847\n",
            "Epoch 5/20\n",
            "30/30 [==============================] - 1s 22ms/step - loss: 0.2566 - accuracy: 0.9253 - val_loss: 0.3014 - val_accuracy: 0.8879\n",
            "Epoch 6/20\n",
            "30/30 [==============================] - 1s 22ms/step - loss: 0.2200 - accuracy: 0.9355 - val_loss: 0.2864 - val_accuracy: 0.8898\n",
            "Epoch 7/20\n",
            "30/30 [==============================] - 1s 22ms/step - loss: 0.1923 - accuracy: 0.9432 - val_loss: 0.2787 - val_accuracy: 0.8898\n",
            "Epoch 8/20\n",
            "30/30 [==============================] - 1s 22ms/step - loss: 0.1690 - accuracy: 0.9508 - val_loss: 0.2728 - val_accuracy: 0.8916\n",
            "Epoch 9/20\n",
            "30/30 [==============================] - 1s 21ms/step - loss: 0.1499 - accuracy: 0.9583 - val_loss: 0.2742 - val_accuracy: 0.8902\n",
            "Epoch 10/20\n",
            "30/30 [==============================] - 1s 22ms/step - loss: 0.1336 - accuracy: 0.9619 - val_loss: 0.2752 - val_accuracy: 0.8902\n",
            "Epoch 11/20\n",
            "30/30 [==============================] - 1s 22ms/step - loss: 0.1194 - accuracy: 0.9659 - val_loss: 0.2805 - val_accuracy: 0.8886\n",
            "Epoch 12/20\n",
            "30/30 [==============================] - 1s 21ms/step - loss: 0.1064 - accuracy: 0.9705 - val_loss: 0.2899 - val_accuracy: 0.8883\n",
            "Epoch 13/20\n",
            "30/30 [==============================] - 1s 22ms/step - loss: 0.0953 - accuracy: 0.9753 - val_loss: 0.2960 - val_accuracy: 0.8860\n",
            "Epoch 14/20\n",
            "30/30 [==============================] - 1s 22ms/step - loss: 0.0857 - accuracy: 0.9781 - val_loss: 0.3093 - val_accuracy: 0.8843\n",
            "Epoch 15/20\n",
            "30/30 [==============================] - 1s 22ms/step - loss: 0.0766 - accuracy: 0.9811 - val_loss: 0.3155 - val_accuracy: 0.8850\n",
            "Epoch 16/20\n",
            "30/30 [==============================] - 1s 22ms/step - loss: 0.0689 - accuracy: 0.9835 - val_loss: 0.3283 - val_accuracy: 0.8848\n",
            "Epoch 17/20\n",
            "30/30 [==============================] - 1s 22ms/step - loss: 0.0614 - accuracy: 0.9868 - val_loss: 0.3428 - val_accuracy: 0.8830\n",
            "Epoch 18/20\n",
            "30/30 [==============================] - 1s 26ms/step - loss: 0.0543 - accuracy: 0.9882 - val_loss: 0.3548 - val_accuracy: 0.8826\n",
            "Epoch 19/20\n",
            "30/30 [==============================] - 1s 23ms/step - loss: 0.0492 - accuracy: 0.9894 - val_loss: 0.3704 - val_accuracy: 0.8817\n",
            "Epoch 20/20\n",
            "30/30 [==============================] - 1s 25ms/step - loss: 0.0434 - accuracy: 0.9909 - val_loss: 0.3871 - val_accuracy: 0.8797\n"
          ]
        }
      ],
      "source": [
        "model = keras.Sequential([\n",
        "    layers.Dense(4, activation=\"relu\"),\n",
        "    layers.Dense(4, activation=\"relu\"),\n",
        "    layers.Dense(1, activation=\"sigmoid\")\n",
        "])\n",
        "model.compile(optimizer=\"rmsprop\",\n",
        "              loss=\"binary_crossentropy\",\n",
        "              metrics=[\"accuracy\"])\n",
        "history_smaller_model = model.fit(\n",
        "    train_data, train_labels,\n",
        "    epochs=20, batch_size=512, validation_split=0.4)"
      ]
    },
    {
      "cell_type": "markdown",
      "metadata": {
        "id": "IP6By9otimoP"
      },
      "source": [
        "**Version of the model with higher capacity**"
      ]
    },
    {
      "cell_type": "code",
      "execution_count": 12,
      "metadata": {
        "id": "MWn22jIjimoP",
        "outputId": "36f25535-395a-426b-e71c-ea5ed1ba9949",
        "colab": {
          "base_uri": "https://localhost:8080/"
        }
      },
      "outputs": [
        {
          "output_type": "stream",
          "name": "stdout",
          "text": [
            "Epoch 1/20\n",
            "30/30 [==============================] - 2s 46ms/step - loss: 0.5435 - accuracy: 0.7500 - val_loss: 0.2962 - val_accuracy: 0.8882\n",
            "Epoch 2/20\n",
            "30/30 [==============================] - 1s 33ms/step - loss: 0.2444 - accuracy: 0.9035 - val_loss: 0.3169 - val_accuracy: 0.8600\n",
            "Epoch 3/20\n",
            "30/30 [==============================] - 1s 33ms/step - loss: 0.1534 - accuracy: 0.9419 - val_loss: 0.2727 - val_accuracy: 0.8909\n",
            "Epoch 4/20\n",
            "30/30 [==============================] - 1s 30ms/step - loss: 0.0838 - accuracy: 0.9722 - val_loss: 0.3524 - val_accuracy: 0.8905\n",
            "Epoch 5/20\n",
            "30/30 [==============================] - 1s 31ms/step - loss: 0.0126 - accuracy: 0.9971 - val_loss: 0.4738 - val_accuracy: 0.8881\n",
            "Epoch 6/20\n",
            "30/30 [==============================] - 1s 32ms/step - loss: 0.2127 - accuracy: 0.9716 - val_loss: 0.3777 - val_accuracy: 0.8803\n",
            "Epoch 7/20\n",
            "30/30 [==============================] - 1s 31ms/step - loss: 0.0040 - accuracy: 1.0000 - val_loss: 0.5195 - val_accuracy: 0.8871\n",
            "Epoch 8/20\n",
            "30/30 [==============================] - 1s 30ms/step - loss: 5.7925e-04 - accuracy: 1.0000 - val_loss: 0.6327 - val_accuracy: 0.8879\n",
            "Epoch 9/20\n",
            "30/30 [==============================] - 1s 31ms/step - loss: 1.2433e-04 - accuracy: 1.0000 - val_loss: 0.7350 - val_accuracy: 0.8873\n",
            "Epoch 10/20\n",
            "30/30 [==============================] - 1s 31ms/step - loss: 3.0751e-05 - accuracy: 1.0000 - val_loss: 0.8337 - val_accuracy: 0.8877\n",
            "Epoch 11/20\n",
            "30/30 [==============================] - 1s 32ms/step - loss: 6.9317e-06 - accuracy: 1.0000 - val_loss: 0.9477 - val_accuracy: 0.8862\n",
            "Epoch 12/20\n",
            "30/30 [==============================] - 1s 32ms/step - loss: 1.7411e-06 - accuracy: 1.0000 - val_loss: 1.0250 - val_accuracy: 0.8862\n",
            "Epoch 13/20\n",
            "30/30 [==============================] - 1s 30ms/step - loss: 5.9851e-07 - accuracy: 1.0000 - val_loss: 1.1160 - val_accuracy: 0.8854\n",
            "Epoch 14/20\n",
            "30/30 [==============================] - 1s 30ms/step - loss: 1.9345e-07 - accuracy: 1.0000 - val_loss: 1.1902 - val_accuracy: 0.8857\n",
            "Epoch 15/20\n",
            "30/30 [==============================] - 1s 30ms/step - loss: 7.5082e-08 - accuracy: 1.0000 - val_loss: 1.2562 - val_accuracy: 0.8855\n",
            "Epoch 16/20\n",
            "30/30 [==============================] - 1s 31ms/step - loss: 3.6345e-08 - accuracy: 1.0000 - val_loss: 1.2927 - val_accuracy: 0.8856\n",
            "Epoch 17/20\n",
            "30/30 [==============================] - 1s 30ms/step - loss: 2.2364e-08 - accuracy: 1.0000 - val_loss: 1.3219 - val_accuracy: 0.8853\n",
            "Epoch 18/20\n",
            "30/30 [==============================] - 1s 30ms/step - loss: 1.5914e-08 - accuracy: 1.0000 - val_loss: 1.3444 - val_accuracy: 0.8854\n",
            "Epoch 19/20\n",
            "30/30 [==============================] - 1s 31ms/step - loss: 1.2345e-08 - accuracy: 1.0000 - val_loss: 1.3585 - val_accuracy: 0.8855\n",
            "Epoch 20/20\n",
            "30/30 [==============================] - 1s 30ms/step - loss: 1.0102e-08 - accuracy: 1.0000 - val_loss: 1.3722 - val_accuracy: 0.8855\n"
          ]
        }
      ],
      "source": [
        "model = keras.Sequential([\n",
        "    layers.Dense(512, activation=\"relu\"),\n",
        "    layers.Dense(512, activation=\"relu\"),\n",
        "    layers.Dense(1, activation=\"sigmoid\")\n",
        "])\n",
        "model.compile(optimizer=\"rmsprop\",\n",
        "              loss=\"binary_crossentropy\",\n",
        "              metrics=[\"accuracy\"])\n",
        "history_larger_model = model.fit(\n",
        "    train_data, train_labels,\n",
        "    epochs=20, batch_size=512, validation_split=0.4)"
      ]
    },
    {
      "cell_type": "markdown",
      "metadata": {
        "id": "mLoaFgp7imoP"
      },
      "source": [
        "#### Adding weight regularization"
      ]
    },
    {
      "cell_type": "markdown",
      "metadata": {
        "id": "3I-BGS10imoP"
      },
      "source": [
        "**Adding L2 weight regularization to the model**"
      ]
    },
    {
      "cell_type": "code",
      "execution_count": 13,
      "metadata": {
        "id": "219AaW6yimoQ",
        "outputId": "bb17ff09-3bf3-4dd5-90f9-3685034b08c0",
        "colab": {
          "base_uri": "https://localhost:8080/"
        }
      },
      "outputs": [
        {
          "output_type": "stream",
          "name": "stdout",
          "text": [
            "Epoch 1/20\n",
            "30/30 [==============================] - 2s 37ms/step - loss: 0.5794 - accuracy: 0.7871 - val_loss: 0.4475 - val_accuracy: 0.8755\n",
            "Epoch 2/20\n",
            "30/30 [==============================] - 1s 21ms/step - loss: 0.3889 - accuracy: 0.8974 - val_loss: 0.3812 - val_accuracy: 0.8847\n",
            "Epoch 3/20\n",
            "30/30 [==============================] - 1s 23ms/step - loss: 0.3228 - accuracy: 0.9181 - val_loss: 0.3627 - val_accuracy: 0.8902\n",
            "Epoch 4/20\n",
            "30/30 [==============================] - 1s 21ms/step - loss: 0.2933 - accuracy: 0.9266 - val_loss: 0.3581 - val_accuracy: 0.8907\n",
            "Epoch 5/20\n",
            "30/30 [==============================] - 1s 25ms/step - loss: 0.2701 - accuracy: 0.9373 - val_loss: 0.3595 - val_accuracy: 0.8872\n",
            "Epoch 6/20\n",
            "30/30 [==============================] - 1s 22ms/step - loss: 0.2615 - accuracy: 0.9381 - val_loss: 0.3746 - val_accuracy: 0.8812\n",
            "Epoch 7/20\n",
            "30/30 [==============================] - 1s 21ms/step - loss: 0.2547 - accuracy: 0.9409 - val_loss: 0.3737 - val_accuracy: 0.8823\n",
            "Epoch 8/20\n",
            "30/30 [==============================] - 1s 22ms/step - loss: 0.2421 - accuracy: 0.9464 - val_loss: 0.3959 - val_accuracy: 0.8764\n",
            "Epoch 9/20\n",
            "30/30 [==============================] - 1s 21ms/step - loss: 0.2343 - accuracy: 0.9493 - val_loss: 0.4024 - val_accuracy: 0.8735\n",
            "Epoch 10/20\n",
            "30/30 [==============================] - 1s 21ms/step - loss: 0.2327 - accuracy: 0.9496 - val_loss: 0.3817 - val_accuracy: 0.8802\n",
            "Epoch 11/20\n",
            "30/30 [==============================] - 1s 21ms/step - loss: 0.2294 - accuracy: 0.9474 - val_loss: 0.3872 - val_accuracy: 0.8792\n",
            "Epoch 12/20\n",
            "30/30 [==============================] - 1s 22ms/step - loss: 0.2222 - accuracy: 0.9521 - val_loss: 0.4258 - val_accuracy: 0.8707\n",
            "Epoch 13/20\n",
            "30/30 [==============================] - 1s 21ms/step - loss: 0.2173 - accuracy: 0.9562 - val_loss: 0.3957 - val_accuracy: 0.8801\n",
            "Epoch 14/20\n",
            "30/30 [==============================] - 1s 21ms/step - loss: 0.2159 - accuracy: 0.9543 - val_loss: 0.4786 - val_accuracy: 0.8578\n",
            "Epoch 15/20\n",
            "30/30 [==============================] - 1s 21ms/step - loss: 0.2152 - accuracy: 0.9538 - val_loss: 0.4057 - val_accuracy: 0.8776\n",
            "Epoch 16/20\n",
            "30/30 [==============================] - 1s 21ms/step - loss: 0.2096 - accuracy: 0.9571 - val_loss: 0.4510 - val_accuracy: 0.8663\n",
            "Epoch 17/20\n",
            "30/30 [==============================] - 1s 21ms/step - loss: 0.2081 - accuracy: 0.9580 - val_loss: 0.4120 - val_accuracy: 0.8765\n",
            "Epoch 18/20\n",
            "30/30 [==============================] - 1s 22ms/step - loss: 0.2088 - accuracy: 0.9569 - val_loss: 0.4140 - val_accuracy: 0.8765\n",
            "Epoch 19/20\n",
            "30/30 [==============================] - 1s 25ms/step - loss: 0.1989 - accuracy: 0.9616 - val_loss: 0.4233 - val_accuracy: 0.8747\n",
            "Epoch 20/20\n",
            "30/30 [==============================] - 1s 22ms/step - loss: 0.2103 - accuracy: 0.9542 - val_loss: 0.4336 - val_accuracy: 0.8733\n"
          ]
        }
      ],
      "source": [
        "from tensorflow.keras import regularizers\n",
        "model = keras.Sequential([\n",
        "    layers.Dense(16,\n",
        "                 kernel_regularizer=regularizers.l2(0.002),\n",
        "                 activation=\"relu\"),\n",
        "    layers.Dense(16,\n",
        "                 kernel_regularizer=regularizers.l2(0.002),\n",
        "                 activation=\"relu\"),\n",
        "    layers.Dense(1, activation=\"sigmoid\")\n",
        "])\n",
        "model.compile(optimizer=\"rmsprop\",\n",
        "              loss=\"binary_crossentropy\",\n",
        "              metrics=[\"accuracy\"])\n",
        "history_l2_reg = model.fit(\n",
        "    train_data, train_labels,\n",
        "    epochs=20, batch_size=512, validation_split=0.4)"
      ]
    },
    {
      "cell_type": "markdown",
      "metadata": {
        "id": "OiXm3kJsimoQ"
      },
      "source": [
        "**Different weight regularizers available in Keras**"
      ]
    },
    {
      "cell_type": "code",
      "execution_count": 14,
      "metadata": {
        "id": "2P4T6xqlimoQ",
        "outputId": "f28f126d-bf44-498d-93c2-f1b3c3735c61",
        "colab": {
          "base_uri": "https://localhost:8080/"
        }
      },
      "outputs": [
        {
          "output_type": "execute_result",
          "data": {
            "text/plain": [
              "<keras.regularizers.L1L2 at 0x7f3e2da6a310>"
            ]
          },
          "metadata": {},
          "execution_count": 14
        }
      ],
      "source": [
        "from tensorflow.keras import regularizers\n",
        "regularizers.l1(0.001)\n",
        "regularizers.l1_l2(l1=0.001, l2=0.001)"
      ]
    },
    {
      "cell_type": "markdown",
      "metadata": {
        "id": "pHMqG4YUimoR"
      },
      "source": [
        "#### Adding dropout"
      ]
    },
    {
      "cell_type": "markdown",
      "metadata": {
        "id": "kOyY5j1YimoR"
      },
      "source": [
        "**Adding dropout to the IMDB model**"
      ]
    },
    {
      "cell_type": "code",
      "execution_count": 15,
      "metadata": {
        "id": "8umsatyRimoR",
        "outputId": "8088d740-3641-4a1d-e219-01e4c8e90409",
        "colab": {
          "base_uri": "https://localhost:8080/"
        }
      },
      "outputs": [
        {
          "output_type": "stream",
          "name": "stdout",
          "text": [
            "Epoch 1/20\n",
            "30/30 [==============================] - 2s 38ms/step - loss: 0.6421 - accuracy: 0.6231 - val_loss: 0.5395 - val_accuracy: 0.8379\n",
            "Epoch 2/20\n",
            "30/30 [==============================] - 1s 22ms/step - loss: 0.5281 - accuracy: 0.7587 - val_loss: 0.4292 - val_accuracy: 0.8746\n",
            "Epoch 3/20\n",
            "30/30 [==============================] - 1s 22ms/step - loss: 0.4395 - accuracy: 0.8222 - val_loss: 0.3533 - val_accuracy: 0.8772\n",
            "Epoch 4/20\n",
            "30/30 [==============================] - 1s 21ms/step - loss: 0.3792 - accuracy: 0.8601 - val_loss: 0.3114 - val_accuracy: 0.8881\n",
            "Epoch 5/20\n",
            "30/30 [==============================] - 1s 22ms/step - loss: 0.3262 - accuracy: 0.8857 - val_loss: 0.2896 - val_accuracy: 0.8941\n",
            "Epoch 6/20\n",
            "30/30 [==============================] - 1s 23ms/step - loss: 0.2815 - accuracy: 0.9085 - val_loss: 0.2883 - val_accuracy: 0.8864\n",
            "Epoch 7/20\n",
            "30/30 [==============================] - 1s 22ms/step - loss: 0.2532 - accuracy: 0.9199 - val_loss: 0.2904 - val_accuracy: 0.8873\n",
            "Epoch 8/20\n",
            "30/30 [==============================] - 1s 25ms/step - loss: 0.2219 - accuracy: 0.9328 - val_loss: 0.2829 - val_accuracy: 0.8939\n",
            "Epoch 9/20\n",
            "30/30 [==============================] - 1s 25ms/step - loss: 0.1995 - accuracy: 0.9401 - val_loss: 0.2865 - val_accuracy: 0.8902\n",
            "Epoch 10/20\n",
            "30/30 [==============================] - 1s 25ms/step - loss: 0.1761 - accuracy: 0.9517 - val_loss: 0.3259 - val_accuracy: 0.8875\n",
            "Epoch 11/20\n",
            "30/30 [==============================] - 1s 21ms/step - loss: 0.1640 - accuracy: 0.9535 - val_loss: 0.3222 - val_accuracy: 0.8910\n",
            "Epoch 12/20\n",
            "30/30 [==============================] - 1s 26ms/step - loss: 0.1453 - accuracy: 0.9576 - val_loss: 0.3457 - val_accuracy: 0.8863\n",
            "Epoch 13/20\n",
            "30/30 [==============================] - 1s 25ms/step - loss: 0.1312 - accuracy: 0.9635 - val_loss: 0.3874 - val_accuracy: 0.8864\n",
            "Epoch 14/20\n",
            "30/30 [==============================] - 1s 25ms/step - loss: 0.1160 - accuracy: 0.9672 - val_loss: 0.3905 - val_accuracy: 0.8889\n",
            "Epoch 15/20\n",
            "30/30 [==============================] - 1s 22ms/step - loss: 0.1136 - accuracy: 0.9693 - val_loss: 0.4019 - val_accuracy: 0.8865\n",
            "Epoch 16/20\n",
            "30/30 [==============================] - 1s 21ms/step - loss: 0.1015 - accuracy: 0.9725 - val_loss: 0.4386 - val_accuracy: 0.8887\n",
            "Epoch 17/20\n",
            "30/30 [==============================] - 1s 22ms/step - loss: 0.0935 - accuracy: 0.9759 - val_loss: 0.4942 - val_accuracy: 0.8874\n",
            "Epoch 18/20\n",
            "30/30 [==============================] - 1s 22ms/step - loss: 0.0875 - accuracy: 0.9762 - val_loss: 0.4828 - val_accuracy: 0.8829\n",
            "Epoch 19/20\n",
            "30/30 [==============================] - 1s 22ms/step - loss: 0.0818 - accuracy: 0.9790 - val_loss: 0.5363 - val_accuracy: 0.8863\n",
            "Epoch 20/20\n",
            "30/30 [==============================] - 1s 21ms/step - loss: 0.0826 - accuracy: 0.9792 - val_loss: 0.5450 - val_accuracy: 0.8857\n"
          ]
        }
      ],
      "source": [
        "model = keras.Sequential([\n",
        "    layers.Dense(16, activation=\"relu\"),\n",
        "    layers.Dropout(0.5),\n",
        "    layers.Dense(16, activation=\"relu\"),\n",
        "    layers.Dropout(0.5),\n",
        "    layers.Dense(1, activation=\"sigmoid\")\n",
        "])\n",
        "model.compile(optimizer=\"rmsprop\",\n",
        "              loss=\"binary_crossentropy\",\n",
        "              metrics=[\"accuracy\"])\n",
        "history_dropout = model.fit(\n",
        "    train_data, train_labels,\n",
        "    epochs=20, batch_size=512, validation_split=0.4)"
      ]
    },
    {
      "cell_type": "markdown",
      "metadata": {
        "id": "VEzF0mxDimoS"
      },
      "source": [
        "## Summary"
      ]
    }
  ],
  "metadata": {
    "colab": {
      "collapsed_sections": [],
      "name": "chapter05_fundamentals-of-ml.i",
      "provenance": []
    },
    "kernelspec": {
      "display_name": "Python 3",
      "language": "python",
      "name": "python3"
    },
    "language_info": {
      "codemirror_mode": {
        "name": "ipython",
        "version": 3
      },
      "file_extension": ".py",
      "mimetype": "text/x-python",
      "name": "python",
      "nbconvert_exporter": "python",
      "pygments_lexer": "ipython3",
      "version": "3.7.0"
    },
    "accelerator": "GPU"
  },
  "nbformat": 4,
  "nbformat_minor": 0
}