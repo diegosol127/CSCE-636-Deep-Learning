{
  "cells": [
    {
      "cell_type": "markdown",
      "metadata": {
        "id": "e2jcq1lNfY1K"
      },
      "source": [
        "This is a companion notebook for the book [Deep Learning with Python, Second Edition](https://www.manning.com/books/deep-learning-with-python-second-edition?a_aid=keras&a_bid=76564dff). For readability, it only contains runnable code blocks and section titles, and omits everything else in the book: text paragraphs, figures, and pseudocode.\n",
        "\n",
        "**If you want to be able to follow what's going on, I recommend reading the notebook side by side with your copy of the book.**\n",
        "\n",
        "This notebook was generated for TensorFlow 2.6."
      ]
    },
    {
      "cell_type": "markdown",
      "metadata": {
        "id": "V5R8kizwfY1R"
      },
      "source": [
        "## Modern convnet architecture patterns"
      ]
    },
    {
      "cell_type": "markdown",
      "metadata": {
        "id": "RzVq98kdfY1S"
      },
      "source": [
        "### Modularity, hierarchy, and reuse"
      ]
    },
    {
      "cell_type": "markdown",
      "metadata": {
        "id": "2iTlCrq_fY1T"
      },
      "source": [
        "### Residual connections"
      ]
    },
    {
      "cell_type": "markdown",
      "metadata": {
        "id": "c7A3N2u-fY1T"
      },
      "source": [
        "**Residual block where the number of filters changes**"
      ]
    },
    {
      "cell_type": "code",
      "execution_count": 3,
      "metadata": {
        "id": "RrsUhCFhfY1U"
      },
      "outputs": [],
      "source": [
        "from tensorflow import keras\n",
        "from tensorflow.keras import layers\n",
        "\n",
        "inputs = keras.Input(shape=(32, 32, 3))\n",
        "x = layers.Conv2D(32, 3, activation=\"relu\")(inputs)\n",
        "residual = x\n",
        "x = layers.Conv2D(64, 3, activation=\"relu\", padding=\"same\")(x)\n",
        "residual = layers.Conv2D(64, 1)(residual)\n",
        "x = layers.add([x, residual])"
      ]
    },
    {
      "cell_type": "markdown",
      "metadata": {
        "id": "RNjZ3UjwfY1V"
      },
      "source": [
        "**Case where target block includes a max pooling layer**"
      ]
    },
    {
      "cell_type": "code",
      "execution_count": 4,
      "metadata": {
        "id": "k3zECqPVfY1W"
      },
      "outputs": [],
      "source": [
        "inputs = keras.Input(shape=(32, 32, 3))\n",
        "x = layers.Conv2D(32, 3, activation=\"relu\")(inputs)\n",
        "residual = x\n",
        "x = layers.Conv2D(64, 3, activation=\"relu\", padding=\"same\")(x)\n",
        "x = layers.MaxPooling2D(2, padding=\"same\")(x)\n",
        "residual = layers.Conv2D(64, 1, strides=2)(residual)\n",
        "x = layers.add([x, residual])"
      ]
    },
    {
      "cell_type": "code",
      "execution_count": 5,
      "metadata": {
        "id": "k2FBoFp5fY1X",
        "outputId": "2c409043-1323-4982-d742-58071d452020",
        "colab": {
          "base_uri": "https://localhost:8080/"
        }
      },
      "outputs": [
        {
          "output_type": "stream",
          "name": "stdout",
          "text": [
            "Model: \"model\"\n",
            "__________________________________________________________________________________________________\n",
            " Layer (type)                   Output Shape         Param #     Connected to                     \n",
            "==================================================================================================\n",
            " input_5 (InputLayer)           [(None, 32, 32, 3)]  0           []                               \n",
            "                                                                                                  \n",
            " rescaling (Rescaling)          (None, 32, 32, 3)    0           ['input_5[0][0]']                \n",
            "                                                                                                  \n",
            " conv2d_12 (Conv2D)             (None, 32, 32, 32)   896         ['rescaling[0][0]']              \n",
            "                                                                                                  \n",
            " conv2d_13 (Conv2D)             (None, 32, 32, 32)   9248        ['conv2d_12[0][0]']              \n",
            "                                                                                                  \n",
            " max_pooling2d_2 (MaxPooling2D)  (None, 16, 16, 32)  0           ['conv2d_13[0][0]']              \n",
            "                                                                                                  \n",
            " conv2d_14 (Conv2D)             (None, 16, 16, 32)   128         ['rescaling[0][0]']              \n",
            "                                                                                                  \n",
            " add_4 (Add)                    (None, 16, 16, 32)   0           ['max_pooling2d_2[0][0]',        \n",
            "                                                                  'conv2d_14[0][0]']              \n",
            "                                                                                                  \n",
            " conv2d_15 (Conv2D)             (None, 16, 16, 64)   18496       ['add_4[0][0]']                  \n",
            "                                                                                                  \n",
            " conv2d_16 (Conv2D)             (None, 16, 16, 64)   36928       ['conv2d_15[0][0]']              \n",
            "                                                                                                  \n",
            " max_pooling2d_3 (MaxPooling2D)  (None, 8, 8, 64)    0           ['conv2d_16[0][0]']              \n",
            "                                                                                                  \n",
            " conv2d_17 (Conv2D)             (None, 8, 8, 64)     2112        ['add_4[0][0]']                  \n",
            "                                                                                                  \n",
            " add_5 (Add)                    (None, 8, 8, 64)     0           ['max_pooling2d_3[0][0]',        \n",
            "                                                                  'conv2d_17[0][0]']              \n",
            "                                                                                                  \n",
            " conv2d_18 (Conv2D)             (None, 8, 8, 128)    73856       ['add_5[0][0]']                  \n",
            "                                                                                                  \n",
            " conv2d_19 (Conv2D)             (None, 8, 8, 128)    147584      ['conv2d_18[0][0]']              \n",
            "                                                                                                  \n",
            " conv2d_20 (Conv2D)             (None, 8, 8, 128)    8320        ['add_5[0][0]']                  \n",
            "                                                                                                  \n",
            " add_6 (Add)                    (None, 8, 8, 128)    0           ['conv2d_19[0][0]',              \n",
            "                                                                  'conv2d_20[0][0]']              \n",
            "                                                                                                  \n",
            " global_average_pooling2d (Glob  (None, 128)         0           ['add_6[0][0]']                  \n",
            " alAveragePooling2D)                                                                              \n",
            "                                                                                                  \n",
            " dense (Dense)                  (None, 1)            129         ['global_average_pooling2d[0][0]'\n",
            "                                                                 ]                                \n",
            "                                                                                                  \n",
            "==================================================================================================\n",
            "Total params: 297,697\n",
            "Trainable params: 297,697\n",
            "Non-trainable params: 0\n",
            "__________________________________________________________________________________________________\n"
          ]
        }
      ],
      "source": [
        "inputs = keras.Input(shape=(32, 32, 3))\n",
        "x = layers.Rescaling(1./255)(inputs)\n",
        "\n",
        "def residual_block(x, filters, pooling=False):\n",
        "    residual = x\n",
        "    x = layers.Conv2D(filters, 3, activation=\"relu\", padding=\"same\")(x)\n",
        "    x = layers.Conv2D(filters, 3, activation=\"relu\", padding=\"same\")(x)\n",
        "    if pooling:\n",
        "        x = layers.MaxPooling2D(2, padding=\"same\")(x)\n",
        "        residual = layers.Conv2D(filters, 1, strides=2)(residual)\n",
        "    elif filters != residual.shape[-1]:\n",
        "        residual = layers.Conv2D(filters, 1)(residual)\n",
        "    x = layers.add([x, residual])\n",
        "    return x\n",
        "\n",
        "x = residual_block(x, filters=32, pooling=True)\n",
        "x = residual_block(x, filters=64, pooling=True)\n",
        "x = residual_block(x, filters=128, pooling=False)\n",
        "\n",
        "x = layers.GlobalAveragePooling2D()(x)\n",
        "outputs = layers.Dense(1, activation=\"sigmoid\")(x)\n",
        "model = keras.Model(inputs=inputs, outputs=outputs)\n",
        "model.summary()"
      ]
    },
    {
      "cell_type": "markdown",
      "metadata": {
        "id": "2U60S8z2fY1Y"
      },
      "source": [
        "### Batch normalization"
      ]
    },
    {
      "cell_type": "markdown",
      "metadata": {
        "id": "U4KRfxeGfY1Z"
      },
      "source": [
        "### Depthwise separable convolutions"
      ]
    },
    {
      "cell_type": "markdown",
      "metadata": {
        "id": "h19DL6lxfY1Z"
      },
      "source": [
        "### Putting it together: A mini Xception-like model"
      ]
    },
    {
      "cell_type": "code",
      "execution_count": 7,
      "metadata": {
        "id": "GeYVMUyUfY1a",
        "outputId": "54ea4732-4df4-4c02-ec58-1f6094510acf",
        "colab": {
          "resources": {
            "http://localhost:8080/nbextensions/google.colab/files.js": {
              "data": "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",
              "ok": true,
              "headers": [
                [
                  "content-type",
                  "application/javascript"
                ]
              ],
              "status": 200,
              "status_text": ""
            }
          },
          "base_uri": "https://localhost:8080/",
          "height": 90
        }
      },
      "outputs": [
        {
          "output_type": "display_data",
          "data": {
            "text/plain": [
              "<IPython.core.display.HTML object>"
            ],
            "text/html": [
              "\n",
              "     <input type=\"file\" id=\"files-1f823376-ef70-498e-aef1-a58e3974080c\" name=\"files[]\" multiple disabled\n",
              "        style=\"border:none\" />\n",
              "     <output id=\"result-1f823376-ef70-498e-aef1-a58e3974080c\">\n",
              "      Upload widget is only available when the cell has been executed in the\n",
              "      current browser session. Please rerun this cell to enable.\n",
              "      </output>\n",
              "      <script src=\"/nbextensions/google.colab/files.js\"></script> "
            ]
          },
          "metadata": {}
        },
        {
          "output_type": "stream",
          "name": "stdout",
          "text": [
            "Saving kaggle.json to kaggle.json\n"
          ]
        },
        {
          "output_type": "execute_result",
          "data": {
            "text/plain": [
              "{'kaggle.json': b'{\"username\":\"diegosol\",\"key\":\"f60bcb6235ead4cd779aa85e779457cc\"}'}"
            ]
          },
          "metadata": {},
          "execution_count": 7
        }
      ],
      "source": [
        "from google.colab import files\n",
        "files.upload()"
      ]
    },
    {
      "cell_type": "code",
      "execution_count": 8,
      "metadata": {
        "id": "6uUk_EDHfY1a",
        "outputId": "6c2f5169-8746-418c-8d08-6279f3db8e2a",
        "colab": {
          "base_uri": "https://localhost:8080/"
        }
      },
      "outputs": [
        {
          "output_type": "stream",
          "name": "stdout",
          "text": [
            "Downloading dogs-vs-cats.zip to /content\n",
            " 99% 808M/812M [00:25<00:00, 58.9MB/s]\n",
            "100% 812M/812M [00:25<00:00, 33.9MB/s]\n"
          ]
        }
      ],
      "source": [
        "!mkdir ~/.kaggle\n",
        "!cp kaggle.json ~/.kaggle/\n",
        "!chmod 600 ~/.kaggle/kaggle.json\n",
        "!kaggle competitions download -c dogs-vs-cats\n",
        "!unzip -qq dogs-vs-cats.zip\n",
        "!unzip -qq train.zip"
      ]
    },
    {
      "cell_type": "code",
      "execution_count": 9,
      "metadata": {
        "id": "Y-5IzpmIfY1a",
        "outputId": "20dbcb06-dd19-494f-d767-f678d8c06653",
        "colab": {
          "base_uri": "https://localhost:8080/"
        }
      },
      "outputs": [
        {
          "output_type": "stream",
          "name": "stdout",
          "text": [
            "Found 2000 files belonging to 2 classes.\n",
            "Found 1000 files belonging to 2 classes.\n",
            "Found 2000 files belonging to 2 classes.\n"
          ]
        }
      ],
      "source": [
        "import os, shutil, pathlib\n",
        "from tensorflow.keras.utils import image_dataset_from_directory\n",
        "\n",
        "original_dir = pathlib.Path(\"train\")\n",
        "new_base_dir = pathlib.Path(\"cats_vs_dogs_small\")\n",
        "\n",
        "def make_subset(subset_name, start_index, end_index):\n",
        "    for category in (\"cat\", \"dog\"):\n",
        "        dir = new_base_dir / subset_name / category\n",
        "        os.makedirs(dir)\n",
        "        fnames = [f\"{category}.{i}.jpg\" for i in range(start_index, end_index)]\n",
        "        for fname in fnames:\n",
        "            shutil.copyfile(src=original_dir / fname,\n",
        "                            dst=dir / fname)\n",
        "\n",
        "make_subset(\"train\", start_index=0, end_index=1000)\n",
        "make_subset(\"validation\", start_index=1000, end_index=1500)\n",
        "make_subset(\"test\", start_index=1500, end_index=2500)\n",
        "\n",
        "train_dataset = image_dataset_from_directory(\n",
        "    new_base_dir / \"train\",\n",
        "    image_size=(180, 180),\n",
        "    batch_size=32)\n",
        "validation_dataset = image_dataset_from_directory(\n",
        "    new_base_dir / \"validation\",\n",
        "    image_size=(180, 180),\n",
        "    batch_size=32)\n",
        "test_dataset = image_dataset_from_directory(\n",
        "    new_base_dir / \"test\",\n",
        "    image_size=(180, 180),\n",
        "    batch_size=32)"
      ]
    },
    {
      "cell_type": "code",
      "execution_count": 10,
      "metadata": {
        "id": "AuSoUEG5fY1b"
      },
      "outputs": [],
      "source": [
        "data_augmentation = keras.Sequential(\n",
        "    [\n",
        "        layers.RandomFlip(\"horizontal\"),\n",
        "        layers.RandomRotation(0.1),\n",
        "        layers.RandomZoom(0.2),\n",
        "    ]\n",
        ")"
      ]
    },
    {
      "cell_type": "code",
      "execution_count": 11,
      "metadata": {
        "id": "lvM5er10fY1c"
      },
      "outputs": [],
      "source": [
        "inputs = keras.Input(shape=(180, 180, 3))\n",
        "x = data_augmentation(inputs)\n",
        "\n",
        "x = layers.Rescaling(1./255)(x)\n",
        "x = layers.Conv2D(filters=32, kernel_size=5, use_bias=False)(x)\n",
        "\n",
        "for size in [32, 64, 128, 256, 512]:\n",
        "    residual = x\n",
        "\n",
        "    x = layers.BatchNormalization()(x)\n",
        "    x = layers.Activation(\"relu\")(x)\n",
        "    x = layers.SeparableConv2D(size, 3, padding=\"same\", use_bias=False)(x)\n",
        "\n",
        "    x = layers.BatchNormalization()(x)\n",
        "    x = layers.Activation(\"relu\")(x)\n",
        "    x = layers.SeparableConv2D(size, 3, padding=\"same\", use_bias=False)(x)\n",
        "\n",
        "    x = layers.MaxPooling2D(3, strides=2, padding=\"same\")(x)\n",
        "\n",
        "    residual = layers.Conv2D(\n",
        "        size, 1, strides=2, padding=\"same\", use_bias=False)(residual)\n",
        "    x = layers.add([x, residual])\n",
        "\n",
        "x = layers.GlobalAveragePooling2D()(x)\n",
        "x = layers.Dropout(0.5)(x)\n",
        "outputs = layers.Dense(1, activation=\"sigmoid\")(x)\n",
        "model = keras.Model(inputs=inputs, outputs=outputs)"
      ]
    },
    {
      "cell_type": "code",
      "execution_count": 12,
      "metadata": {
        "id": "wwdHEv_qfY1c",
        "outputId": "c0cd93be-dc48-4dff-a4f6-c3ff2d5bb69c",
        "colab": {
          "base_uri": "https://localhost:8080/"
        }
      },
      "outputs": [
        {
          "output_type": "stream",
          "name": "stdout",
          "text": [
            "Epoch 1/100\n",
            "63/63 [==============================] - 41s 450ms/step - loss: 0.7017 - accuracy: 0.5610 - val_loss: 0.6935 - val_accuracy: 0.5010\n",
            "Epoch 2/100\n",
            "63/63 [==============================] - 28s 436ms/step - loss: 0.6612 - accuracy: 0.6020 - val_loss: 0.6924 - val_accuracy: 0.5300\n",
            "Epoch 3/100\n",
            "63/63 [==============================] - 28s 443ms/step - loss: 0.6415 - accuracy: 0.6335 - val_loss: 0.6938 - val_accuracy: 0.5050\n",
            "Epoch 4/100\n",
            "63/63 [==============================] - 28s 441ms/step - loss: 0.6259 - accuracy: 0.6555 - val_loss: 0.7181 - val_accuracy: 0.5000\n",
            "Epoch 5/100\n",
            "63/63 [==============================] - 28s 437ms/step - loss: 0.5977 - accuracy: 0.6820 - val_loss: 0.7324 - val_accuracy: 0.5000\n",
            "Epoch 6/100\n",
            "63/63 [==============================] - 28s 440ms/step - loss: 0.5927 - accuracy: 0.6775 - val_loss: 0.7194 - val_accuracy: 0.5000\n",
            "Epoch 7/100\n",
            "63/63 [==============================] - 28s 438ms/step - loss: 0.5689 - accuracy: 0.7160 - val_loss: 0.7748 - val_accuracy: 0.5070\n",
            "Epoch 8/100\n",
            "63/63 [==============================] - 28s 437ms/step - loss: 0.5486 - accuracy: 0.7230 - val_loss: 0.9502 - val_accuracy: 0.5150\n",
            "Epoch 9/100\n",
            "63/63 [==============================] - 28s 442ms/step - loss: 0.5295 - accuracy: 0.7400 - val_loss: 0.6118 - val_accuracy: 0.6610\n",
            "Epoch 10/100\n",
            "63/63 [==============================] - 28s 441ms/step - loss: 0.5017 - accuracy: 0.7595 - val_loss: 0.6317 - val_accuracy: 0.6630\n",
            "Epoch 11/100\n",
            "63/63 [==============================] - 28s 440ms/step - loss: 0.5087 - accuracy: 0.7485 - val_loss: 0.5735 - val_accuracy: 0.7040\n",
            "Epoch 12/100\n",
            "63/63 [==============================] - 28s 438ms/step - loss: 0.4853 - accuracy: 0.7690 - val_loss: 0.6883 - val_accuracy: 0.6850\n",
            "Epoch 13/100\n",
            "63/63 [==============================] - 28s 438ms/step - loss: 0.4762 - accuracy: 0.7780 - val_loss: 0.6932 - val_accuracy: 0.6310\n",
            "Epoch 14/100\n",
            "63/63 [==============================] - 28s 443ms/step - loss: 0.4574 - accuracy: 0.7845 - val_loss: 0.8780 - val_accuracy: 0.6470\n",
            "Epoch 15/100\n",
            "63/63 [==============================] - 28s 440ms/step - loss: 0.4488 - accuracy: 0.7950 - val_loss: 0.7325 - val_accuracy: 0.7040\n",
            "Epoch 16/100\n",
            "63/63 [==============================] - 28s 440ms/step - loss: 0.4346 - accuracy: 0.8035 - val_loss: 1.6557 - val_accuracy: 0.5470\n",
            "Epoch 17/100\n",
            "63/63 [==============================] - 28s 437ms/step - loss: 0.4354 - accuracy: 0.8115 - val_loss: 0.6345 - val_accuracy: 0.6980\n",
            "Epoch 18/100\n",
            "63/63 [==============================] - 28s 441ms/step - loss: 0.4202 - accuracy: 0.8100 - val_loss: 0.5600 - val_accuracy: 0.7440\n",
            "Epoch 19/100\n",
            "63/63 [==============================] - 28s 438ms/step - loss: 0.4144 - accuracy: 0.8135 - val_loss: 0.5670 - val_accuracy: 0.7260\n",
            "Epoch 20/100\n",
            "63/63 [==============================] - 28s 442ms/step - loss: 0.4021 - accuracy: 0.8195 - val_loss: 0.7347 - val_accuracy: 0.7020\n",
            "Epoch 21/100\n",
            "63/63 [==============================] - 28s 432ms/step - loss: 0.3923 - accuracy: 0.8340 - val_loss: 0.4370 - val_accuracy: 0.7960\n",
            "Epoch 22/100\n",
            "63/63 [==============================] - 28s 434ms/step - loss: 0.3711 - accuracy: 0.8355 - val_loss: 0.4610 - val_accuracy: 0.8050\n",
            "Epoch 23/100\n",
            "63/63 [==============================] - 28s 442ms/step - loss: 0.3598 - accuracy: 0.8405 - val_loss: 1.0795 - val_accuracy: 0.6150\n",
            "Epoch 24/100\n",
            "63/63 [==============================] - 28s 440ms/step - loss: 0.3669 - accuracy: 0.8370 - val_loss: 0.5218 - val_accuracy: 0.7760\n",
            "Epoch 25/100\n",
            "63/63 [==============================] - 28s 441ms/step - loss: 0.3541 - accuracy: 0.8440 - val_loss: 0.4492 - val_accuracy: 0.8090\n",
            "Epoch 26/100\n",
            "63/63 [==============================] - 28s 436ms/step - loss: 0.3464 - accuracy: 0.8365 - val_loss: 0.4533 - val_accuracy: 0.7970\n",
            "Epoch 27/100\n",
            "63/63 [==============================] - 28s 438ms/step - loss: 0.3253 - accuracy: 0.8540 - val_loss: 0.5579 - val_accuracy: 0.7950\n",
            "Epoch 28/100\n",
            "63/63 [==============================] - 28s 439ms/step - loss: 0.3204 - accuracy: 0.8615 - val_loss: 0.5696 - val_accuracy: 0.7490\n",
            "Epoch 29/100\n",
            "63/63 [==============================] - 28s 435ms/step - loss: 0.3090 - accuracy: 0.8600 - val_loss: 0.6959 - val_accuracy: 0.7370\n",
            "Epoch 30/100\n",
            "63/63 [==============================] - 28s 436ms/step - loss: 0.3112 - accuracy: 0.8790 - val_loss: 0.4717 - val_accuracy: 0.7950\n",
            "Epoch 31/100\n",
            "63/63 [==============================] - 28s 434ms/step - loss: 0.2950 - accuracy: 0.8810 - val_loss: 0.5280 - val_accuracy: 0.7640\n",
            "Epoch 32/100\n",
            "63/63 [==============================] - 28s 438ms/step - loss: 0.2852 - accuracy: 0.8680 - val_loss: 1.1424 - val_accuracy: 0.6290\n",
            "Epoch 33/100\n",
            "63/63 [==============================] - 28s 436ms/step - loss: 0.2932 - accuracy: 0.8785 - val_loss: 0.6044 - val_accuracy: 0.7790\n",
            "Epoch 34/100\n",
            "63/63 [==============================] - 28s 436ms/step - loss: 0.2962 - accuracy: 0.8750 - val_loss: 0.4172 - val_accuracy: 0.8430\n",
            "Epoch 35/100\n",
            "63/63 [==============================] - 28s 437ms/step - loss: 0.2781 - accuracy: 0.8755 - val_loss: 0.4215 - val_accuracy: 0.8320\n",
            "Epoch 36/100\n",
            "63/63 [==============================] - 28s 440ms/step - loss: 0.2549 - accuracy: 0.8880 - val_loss: 0.4248 - val_accuracy: 0.8360\n",
            "Epoch 37/100\n",
            "63/63 [==============================] - 28s 440ms/step - loss: 0.2640 - accuracy: 0.8860 - val_loss: 0.8163 - val_accuracy: 0.7640\n",
            "Epoch 38/100\n",
            "63/63 [==============================] - 28s 441ms/step - loss: 0.2512 - accuracy: 0.8920 - val_loss: 0.5839 - val_accuracy: 0.8060\n",
            "Epoch 39/100\n",
            "63/63 [==============================] - 28s 441ms/step - loss: 0.2518 - accuracy: 0.8950 - val_loss: 0.4170 - val_accuracy: 0.8360\n",
            "Epoch 40/100\n",
            "63/63 [==============================] - 28s 442ms/step - loss: 0.2426 - accuracy: 0.8915 - val_loss: 0.4941 - val_accuracy: 0.8080\n",
            "Epoch 41/100\n",
            "63/63 [==============================] - 28s 441ms/step - loss: 0.2459 - accuracy: 0.8950 - val_loss: 0.5806 - val_accuracy: 0.7990\n",
            "Epoch 42/100\n",
            "63/63 [==============================] - 28s 442ms/step - loss: 0.2384 - accuracy: 0.9020 - val_loss: 0.5899 - val_accuracy: 0.7910\n",
            "Epoch 43/100\n",
            "63/63 [==============================] - 28s 440ms/step - loss: 0.2273 - accuracy: 0.9035 - val_loss: 0.5098 - val_accuracy: 0.8350\n",
            "Epoch 44/100\n",
            "63/63 [==============================] - 28s 444ms/step - loss: 0.2186 - accuracy: 0.9140 - val_loss: 0.3879 - val_accuracy: 0.8430\n",
            "Epoch 45/100\n",
            "63/63 [==============================] - 28s 440ms/step - loss: 0.2217 - accuracy: 0.9030 - val_loss: 0.3800 - val_accuracy: 0.8480\n",
            "Epoch 46/100\n",
            "63/63 [==============================] - 28s 435ms/step - loss: 0.2083 - accuracy: 0.9150 - val_loss: 0.3547 - val_accuracy: 0.8710\n",
            "Epoch 47/100\n",
            "63/63 [==============================] - 28s 438ms/step - loss: 0.1988 - accuracy: 0.9125 - val_loss: 0.4202 - val_accuracy: 0.8440\n",
            "Epoch 48/100\n",
            "63/63 [==============================] - 28s 435ms/step - loss: 0.1941 - accuracy: 0.9190 - val_loss: 0.4697 - val_accuracy: 0.8570\n",
            "Epoch 49/100\n",
            "63/63 [==============================] - 28s 439ms/step - loss: 0.2082 - accuracy: 0.9150 - val_loss: 0.5594 - val_accuracy: 0.8260\n",
            "Epoch 50/100\n",
            "63/63 [==============================] - 28s 438ms/step - loss: 0.2075 - accuracy: 0.9165 - val_loss: 0.4111 - val_accuracy: 0.8390\n",
            "Epoch 51/100\n",
            "63/63 [==============================] - 28s 438ms/step - loss: 0.1729 - accuracy: 0.9245 - val_loss: 0.4145 - val_accuracy: 0.8550\n",
            "Epoch 52/100\n",
            "63/63 [==============================] - 28s 438ms/step - loss: 0.1983 - accuracy: 0.9210 - val_loss: 0.6473 - val_accuracy: 0.8180\n",
            "Epoch 53/100\n",
            "63/63 [==============================] - 28s 436ms/step - loss: 0.1798 - accuracy: 0.9310 - val_loss: 0.3700 - val_accuracy: 0.8640\n",
            "Epoch 54/100\n",
            "63/63 [==============================] - 28s 445ms/step - loss: 0.1658 - accuracy: 0.9325 - val_loss: 0.3892 - val_accuracy: 0.8520\n",
            "Epoch 55/100\n",
            "63/63 [==============================] - 28s 435ms/step - loss: 0.1974 - accuracy: 0.9205 - val_loss: 0.3714 - val_accuracy: 0.8660\n",
            "Epoch 56/100\n",
            "63/63 [==============================] - 28s 437ms/step - loss: 0.1605 - accuracy: 0.9365 - val_loss: 0.4805 - val_accuracy: 0.8400\n",
            "Epoch 57/100\n",
            "63/63 [==============================] - 28s 435ms/step - loss: 0.1821 - accuracy: 0.9305 - val_loss: 0.5282 - val_accuracy: 0.8240\n",
            "Epoch 58/100\n",
            "63/63 [==============================] - 28s 442ms/step - loss: 0.1688 - accuracy: 0.9380 - val_loss: 0.3872 - val_accuracy: 0.8610\n",
            "Epoch 59/100\n",
            "63/63 [==============================] - 28s 443ms/step - loss: 0.1655 - accuracy: 0.9300 - val_loss: 0.6872 - val_accuracy: 0.8080\n",
            "Epoch 60/100\n",
            "63/63 [==============================] - 28s 436ms/step - loss: 0.1673 - accuracy: 0.9330 - val_loss: 0.4326 - val_accuracy: 0.8620\n",
            "Epoch 61/100\n",
            "63/63 [==============================] - 28s 440ms/step - loss: 0.1570 - accuracy: 0.9400 - val_loss: 0.7020 - val_accuracy: 0.7620\n",
            "Epoch 62/100\n",
            "63/63 [==============================] - 28s 441ms/step - loss: 0.1546 - accuracy: 0.9350 - val_loss: 0.4110 - val_accuracy: 0.8580\n",
            "Epoch 63/100\n",
            "63/63 [==============================] - 28s 446ms/step - loss: 0.1600 - accuracy: 0.9360 - val_loss: 0.3623 - val_accuracy: 0.8590\n",
            "Epoch 64/100\n",
            "63/63 [==============================] - 28s 440ms/step - loss: 0.1628 - accuracy: 0.9365 - val_loss: 0.3372 - val_accuracy: 0.8810\n",
            "Epoch 65/100\n",
            "63/63 [==============================] - 28s 439ms/step - loss: 0.1469 - accuracy: 0.9410 - val_loss: 0.8447 - val_accuracy: 0.7990\n",
            "Epoch 66/100\n",
            "63/63 [==============================] - 28s 444ms/step - loss: 0.1582 - accuracy: 0.9320 - val_loss: 2.0357 - val_accuracy: 0.6410\n",
            "Epoch 67/100\n",
            "63/63 [==============================] - 28s 441ms/step - loss: 0.1525 - accuracy: 0.9370 - val_loss: 0.4536 - val_accuracy: 0.8550\n",
            "Epoch 68/100\n",
            "63/63 [==============================] - 28s 440ms/step - loss: 0.1393 - accuracy: 0.9455 - val_loss: 0.4867 - val_accuracy: 0.8580\n",
            "Epoch 69/100\n",
            "63/63 [==============================] - 28s 441ms/step - loss: 0.1553 - accuracy: 0.9335 - val_loss: 0.3635 - val_accuracy: 0.8730\n",
            "Epoch 70/100\n",
            "63/63 [==============================] - 28s 435ms/step - loss: 0.1319 - accuracy: 0.9445 - val_loss: 0.3673 - val_accuracy: 0.8730\n",
            "Epoch 71/100\n",
            "63/63 [==============================] - 28s 442ms/step - loss: 0.1347 - accuracy: 0.9470 - val_loss: 0.6253 - val_accuracy: 0.8120\n",
            "Epoch 72/100\n",
            "63/63 [==============================] - 28s 437ms/step - loss: 0.1439 - accuracy: 0.9475 - val_loss: 0.6469 - val_accuracy: 0.8170\n",
            "Epoch 73/100\n",
            "63/63 [==============================] - 28s 437ms/step - loss: 0.1376 - accuracy: 0.9490 - val_loss: 0.2937 - val_accuracy: 0.8980\n",
            "Epoch 74/100\n",
            "63/63 [==============================] - 28s 438ms/step - loss: 0.1188 - accuracy: 0.9525 - val_loss: 0.4480 - val_accuracy: 0.8650\n",
            "Epoch 75/100\n",
            "63/63 [==============================] - 28s 443ms/step - loss: 0.1399 - accuracy: 0.9450 - val_loss: 0.5129 - val_accuracy: 0.8070\n",
            "Epoch 76/100\n",
            "63/63 [==============================] - 28s 440ms/step - loss: 0.1556 - accuracy: 0.9355 - val_loss: 0.3429 - val_accuracy: 0.8740\n",
            "Epoch 77/100\n",
            "63/63 [==============================] - 28s 437ms/step - loss: 0.1262 - accuracy: 0.9485 - val_loss: 0.5274 - val_accuracy: 0.8660\n",
            "Epoch 78/100\n",
            "63/63 [==============================] - 28s 439ms/step - loss: 0.1242 - accuracy: 0.9490 - val_loss: 1.2863 - val_accuracy: 0.7350\n",
            "Epoch 79/100\n",
            "63/63 [==============================] - 28s 440ms/step - loss: 0.1094 - accuracy: 0.9540 - val_loss: 0.4568 - val_accuracy: 0.8680\n",
            "Epoch 80/100\n",
            "63/63 [==============================] - 28s 445ms/step - loss: 0.1212 - accuracy: 0.9525 - val_loss: 0.5235 - val_accuracy: 0.8440\n",
            "Epoch 81/100\n",
            "63/63 [==============================] - 28s 441ms/step - loss: 0.1314 - accuracy: 0.9520 - val_loss: 0.3810 - val_accuracy: 0.8910\n",
            "Epoch 82/100\n",
            "63/63 [==============================] - 28s 436ms/step - loss: 0.1200 - accuracy: 0.9540 - val_loss: 0.3629 - val_accuracy: 0.8950\n",
            "Epoch 83/100\n",
            "63/63 [==============================] - 28s 440ms/step - loss: 0.1407 - accuracy: 0.9445 - val_loss: 0.6520 - val_accuracy: 0.7810\n",
            "Epoch 84/100\n",
            "63/63 [==============================] - 28s 438ms/step - loss: 0.1079 - accuracy: 0.9590 - val_loss: 0.6734 - val_accuracy: 0.8400\n",
            "Epoch 85/100\n",
            "63/63 [==============================] - 28s 445ms/step - loss: 0.1251 - accuracy: 0.9520 - val_loss: 0.4385 - val_accuracy: 0.8590\n",
            "Epoch 86/100\n",
            "63/63 [==============================] - 28s 437ms/step - loss: 0.1187 - accuracy: 0.9545 - val_loss: 0.8172 - val_accuracy: 0.8220\n",
            "Epoch 87/100\n",
            "63/63 [==============================] - 28s 438ms/step - loss: 0.1165 - accuracy: 0.9555 - val_loss: 0.3782 - val_accuracy: 0.8750\n",
            "Epoch 88/100\n",
            "63/63 [==============================] - 28s 444ms/step - loss: 0.1182 - accuracy: 0.9595 - val_loss: 0.3066 - val_accuracy: 0.8940\n",
            "Epoch 89/100\n",
            "63/63 [==============================] - 28s 442ms/step - loss: 0.1299 - accuracy: 0.9525 - val_loss: 0.5814 - val_accuracy: 0.8280\n",
            "Epoch 90/100\n",
            "63/63 [==============================] - 28s 443ms/step - loss: 0.0953 - accuracy: 0.9625 - val_loss: 0.3594 - val_accuracy: 0.8900\n",
            "Epoch 91/100\n",
            "63/63 [==============================] - 28s 437ms/step - loss: 0.1072 - accuracy: 0.9560 - val_loss: 0.6311 - val_accuracy: 0.8520\n",
            "Epoch 92/100\n",
            "63/63 [==============================] - 28s 437ms/step - loss: 0.1019 - accuracy: 0.9635 - val_loss: 0.4989 - val_accuracy: 0.8800\n",
            "Epoch 93/100\n",
            "63/63 [==============================] - 28s 436ms/step - loss: 0.1144 - accuracy: 0.9585 - val_loss: 0.3521 - val_accuracy: 0.8920\n",
            "Epoch 94/100\n",
            "63/63 [==============================] - 28s 444ms/step - loss: 0.1078 - accuracy: 0.9595 - val_loss: 0.3594 - val_accuracy: 0.8880\n",
            "Epoch 95/100\n",
            "63/63 [==============================] - 28s 445ms/step - loss: 0.1047 - accuracy: 0.9610 - val_loss: 0.4089 - val_accuracy: 0.8660\n",
            "Epoch 96/100\n",
            "63/63 [==============================] - 28s 444ms/step - loss: 0.0865 - accuracy: 0.9675 - val_loss: 0.4804 - val_accuracy: 0.8770\n",
            "Epoch 97/100\n",
            "63/63 [==============================] - 27s 427ms/step - loss: 0.1024 - accuracy: 0.9625 - val_loss: 0.8142 - val_accuracy: 0.8310\n",
            "Epoch 98/100\n",
            "63/63 [==============================] - 28s 442ms/step - loss: 0.1021 - accuracy: 0.9605 - val_loss: 0.5253 - val_accuracy: 0.8560\n",
            "Epoch 99/100\n",
            "63/63 [==============================] - 28s 442ms/step - loss: 0.0941 - accuracy: 0.9665 - val_loss: 0.4239 - val_accuracy: 0.8740\n",
            "Epoch 100/100\n",
            "63/63 [==============================] - 28s 442ms/step - loss: 0.0975 - accuracy: 0.9625 - val_loss: 0.5168 - val_accuracy: 0.8680\n"
          ]
        }
      ],
      "source": [
        "model.compile(loss=\"binary_crossentropy\",\n",
        "              optimizer=\"rmsprop\",\n",
        "              metrics=[\"accuracy\"])\n",
        "history = model.fit(\n",
        "    train_dataset,\n",
        "    epochs=100,\n",
        "    validation_data=validation_dataset)"
      ]
    }
  ],
  "metadata": {
    "colab": {
      "collapsed_sections": [],
      "name": "chapter09_part02_modern-convnet-architecture-patterns.i",
      "provenance": [],
      "toc_visible": true
    },
    "kernelspec": {
      "display_name": "Python 3",
      "language": "python",
      "name": "python3"
    },
    "language_info": {
      "codemirror_mode": {
        "name": "ipython",
        "version": 3
      },
      "file_extension": ".py",
      "mimetype": "text/x-python",
      "name": "python",
      "nbconvert_exporter": "python",
      "pygments_lexer": "ipython3",
      "version": "3.7.0"
    },
    "accelerator": "GPU"
  },
  "nbformat": 4,
  "nbformat_minor": 0
}