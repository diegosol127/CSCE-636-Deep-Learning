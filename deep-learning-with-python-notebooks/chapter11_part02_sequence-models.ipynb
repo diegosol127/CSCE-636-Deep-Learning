{
  "cells": [
    {
      "cell_type": "markdown",
      "metadata": {
        "id": "u7jKiSTkVQo9"
      },
      "source": [
        "This is a companion notebook for the book [Deep Learning with Python, Second Edition](https://www.manning.com/books/deep-learning-with-python-second-edition?a_aid=keras&a_bid=76564dff). For readability, it only contains runnable code blocks and section titles, and omits everything else in the book: text paragraphs, figures, and pseudocode.\n",
        "\n",
        "**If you want to be able to follow what's going on, I recommend reading the notebook side by side with your copy of the book.**\n",
        "\n",
        "This notebook was generated for TensorFlow 2.6."
      ]
    },
    {
      "cell_type": "markdown",
      "metadata": {
        "id": "K1-6iFWYVQpG"
      },
      "source": [
        "### Processing words as a sequence: The sequence model approach"
      ]
    },
    {
      "cell_type": "markdown",
      "metadata": {
        "id": "27ZKbvXQVQpI"
      },
      "source": [
        "#### A first practical example"
      ]
    },
    {
      "cell_type": "markdown",
      "metadata": {
        "id": "umRJcMP2VQpJ"
      },
      "source": [
        "**Downloading the data**"
      ]
    },
    {
      "cell_type": "code",
      "execution_count": 1,
      "metadata": {
        "id": "XxEEFII5VQpK",
        "outputId": "c0180f49-7ec0-4a45-9d61-4d1dbcce4b2a",
        "colab": {
          "base_uri": "https://localhost:8080/"
        }
      },
      "outputs": [
        {
          "output_type": "stream",
          "name": "stdout",
          "text": [
            "  % Total    % Received % Xferd  Average Speed   Time    Time     Time  Current\n",
            "                                 Dload  Upload   Total   Spent    Left  Speed\n",
            "100 80.2M  100 80.2M    0     0  11.7M      0  0:00:06  0:00:06 --:--:-- 17.7M\n"
          ]
        }
      ],
      "source": [
        "!curl -O https://ai.stanford.edu/~amaas/data/sentiment/aclImdb_v1.tar.gz\n",
        "!tar -xf aclImdb_v1.tar.gz\n",
        "!rm -r aclImdb/train/unsup"
      ]
    },
    {
      "cell_type": "markdown",
      "metadata": {
        "id": "IcnFhZKUVQpM"
      },
      "source": [
        "**Preparing the data**"
      ]
    },
    {
      "cell_type": "code",
      "execution_count": 2,
      "metadata": {
        "id": "jv3zLMHEVQpN",
        "outputId": "8625a499-a3c4-4a42-d929-7bf8d5853085",
        "colab": {
          "base_uri": "https://localhost:8080/"
        }
      },
      "outputs": [
        {
          "output_type": "stream",
          "name": "stdout",
          "text": [
            "Found 20000 files belonging to 2 classes.\n",
            "Found 5000 files belonging to 2 classes.\n",
            "Found 25000 files belonging to 2 classes.\n"
          ]
        }
      ],
      "source": [
        "import os, pathlib, shutil, random\n",
        "from tensorflow import keras\n",
        "batch_size = 32\n",
        "base_dir = pathlib.Path(\"aclImdb\")\n",
        "val_dir = base_dir / \"val\"\n",
        "train_dir = base_dir / \"train\"\n",
        "for category in (\"neg\", \"pos\"):\n",
        "    os.makedirs(val_dir / category)\n",
        "    files = os.listdir(train_dir / category)\n",
        "    random.Random(1337).shuffle(files)\n",
        "    num_val_samples = int(0.2 * len(files))\n",
        "    val_files = files[-num_val_samples:]\n",
        "    for fname in val_files:\n",
        "        shutil.move(train_dir / category / fname,\n",
        "                    val_dir / category / fname)\n",
        "\n",
        "train_ds = keras.utils.text_dataset_from_directory(\n",
        "    \"aclImdb/train\", batch_size=batch_size\n",
        ")\n",
        "val_ds = keras.utils.text_dataset_from_directory(\n",
        "    \"aclImdb/val\", batch_size=batch_size\n",
        ")\n",
        "test_ds = keras.utils.text_dataset_from_directory(\n",
        "    \"aclImdb/test\", batch_size=batch_size\n",
        ")\n",
        "text_only_train_ds = train_ds.map(lambda x, y: x)"
      ]
    },
    {
      "cell_type": "markdown",
      "metadata": {
        "id": "87Y4BSOpVQpQ"
      },
      "source": [
        "**Preparing integer sequence datasets**"
      ]
    },
    {
      "cell_type": "code",
      "execution_count": 3,
      "metadata": {
        "id": "gA_p7OEMVQpR"
      },
      "outputs": [],
      "source": [
        "from tensorflow.keras import layers\n",
        "\n",
        "max_length = 600\n",
        "max_tokens = 20000\n",
        "text_vectorization = layers.TextVectorization(\n",
        "    max_tokens=max_tokens,\n",
        "    output_mode=\"int\",\n",
        "    output_sequence_length=max_length,\n",
        ")\n",
        "text_vectorization.adapt(text_only_train_ds)\n",
        "\n",
        "int_train_ds = train_ds.map(\n",
        "    lambda x, y: (text_vectorization(x), y),\n",
        "    num_parallel_calls=4)\n",
        "int_val_ds = val_ds.map(\n",
        "    lambda x, y: (text_vectorization(x), y),\n",
        "    num_parallel_calls=4)\n",
        "int_test_ds = test_ds.map(\n",
        "    lambda x, y: (text_vectorization(x), y),\n",
        "    num_parallel_calls=4)"
      ]
    },
    {
      "cell_type": "markdown",
      "metadata": {
        "id": "zVXQKttuVQpT"
      },
      "source": [
        "**A sequence model built on one-hot encoded vector sequences**"
      ]
    },
    {
      "cell_type": "code",
      "execution_count": 4,
      "metadata": {
        "id": "deFxuy4gVQpU",
        "outputId": "119a982b-e2ff-454f-984e-d0c154901620",
        "colab": {
          "base_uri": "https://localhost:8080/"
        }
      },
      "outputs": [
        {
          "output_type": "stream",
          "name": "stdout",
          "text": [
            "Model: \"model\"\n",
            "_________________________________________________________________\n",
            " Layer (type)                Output Shape              Param #   \n",
            "=================================================================\n",
            " input_1 (InputLayer)        [(None, None)]            0         \n",
            "                                                                 \n",
            " tf.one_hot (TFOpLambda)     (None, None, 20000)       0         \n",
            "                                                                 \n",
            " bidirectional (Bidirectiona  (None, 64)               5128448   \n",
            " l)                                                              \n",
            "                                                                 \n",
            " dropout (Dropout)           (None, 64)                0         \n",
            "                                                                 \n",
            " dense (Dense)               (None, 1)                 65        \n",
            "                                                                 \n",
            "=================================================================\n",
            "Total params: 5,128,513\n",
            "Trainable params: 5,128,513\n",
            "Non-trainable params: 0\n",
            "_________________________________________________________________\n"
          ]
        }
      ],
      "source": [
        "import tensorflow as tf\n",
        "inputs = keras.Input(shape=(None,), dtype=\"int64\")\n",
        "embedded = tf.one_hot(inputs, depth=max_tokens)\n",
        "x = layers.Bidirectional(layers.LSTM(32))(embedded)\n",
        "x = layers.Dropout(0.5)(x)\n",
        "outputs = layers.Dense(1, activation=\"sigmoid\")(x)\n",
        "model = keras.Model(inputs, outputs)\n",
        "model.compile(optimizer=\"rmsprop\",\n",
        "              loss=\"binary_crossentropy\",\n",
        "              metrics=[\"accuracy\"])\n",
        "model.summary()"
      ]
    },
    {
      "cell_type": "markdown",
      "metadata": {
        "id": "H4_6MZUWVQpV"
      },
      "source": [
        "**Training a first basic sequence model**"
      ]
    },
    {
      "cell_type": "code",
      "execution_count": 5,
      "metadata": {
        "id": "jzH0gltqVQpW",
        "outputId": "fd49e9e1-fd22-402c-8752-d5352fc8b55a",
        "colab": {
          "base_uri": "https://localhost:8080/"
        }
      },
      "outputs": [
        {
          "output_type": "stream",
          "name": "stdout",
          "text": [
            "Epoch 1/10\n",
            "625/625 [==============================] - 172s 261ms/step - loss: 0.5285 - accuracy: 0.7461 - val_loss: 0.5125 - val_accuracy: 0.7526\n",
            "Epoch 2/10\n",
            "625/625 [==============================] - 169s 270ms/step - loss: 0.3380 - accuracy: 0.8807 - val_loss: 0.3114 - val_accuracy: 0.8864\n",
            "Epoch 3/10\n",
            "625/625 [==============================] - 170s 272ms/step - loss: 0.2759 - accuracy: 0.9051 - val_loss: 0.3476 - val_accuracy: 0.8770\n",
            "Epoch 4/10\n",
            "625/625 [==============================] - 171s 274ms/step - loss: 0.2253 - accuracy: 0.9222 - val_loss: 0.3604 - val_accuracy: 0.8798\n",
            "Epoch 5/10\n",
            "625/625 [==============================] - 172s 275ms/step - loss: 0.1930 - accuracy: 0.9355 - val_loss: 0.3108 - val_accuracy: 0.8914\n",
            "Epoch 6/10\n",
            "625/625 [==============================] - 172s 275ms/step - loss: 0.1818 - accuracy: 0.9397 - val_loss: 0.3152 - val_accuracy: 0.8692\n",
            "Epoch 7/10\n",
            "625/625 [==============================] - 172s 275ms/step - loss: 0.1618 - accuracy: 0.9467 - val_loss: 0.3199 - val_accuracy: 0.8738\n",
            "Epoch 8/10\n",
            "625/625 [==============================] - 171s 274ms/step - loss: 0.1369 - accuracy: 0.9528 - val_loss: 0.3804 - val_accuracy: 0.8624\n",
            "Epoch 9/10\n",
            "625/625 [==============================] - 171s 274ms/step - loss: 0.1255 - accuracy: 0.9599 - val_loss: 0.4288 - val_accuracy: 0.8724\n",
            "Epoch 10/10\n",
            "625/625 [==============================] - 170s 273ms/step - loss: 0.1075 - accuracy: 0.9658 - val_loss: 0.3844 - val_accuracy: 0.8688\n",
            "782/782 [==============================] - 98s 124ms/step - loss: 0.3403 - accuracy: 0.8792\n",
            "Test acc: 0.879\n"
          ]
        }
      ],
      "source": [
        "callbacks = [\n",
        "    keras.callbacks.ModelCheckpoint(\"one_hot_bidir_lstm.keras\",\n",
        "                                    save_best_only=True)\n",
        "]\n",
        "model.fit(int_train_ds, validation_data=int_val_ds, epochs=10, callbacks=callbacks)\n",
        "model = keras.models.load_model(\"one_hot_bidir_lstm.keras\")\n",
        "print(f\"Test acc: {model.evaluate(int_test_ds)[1]:.3f}\")"
      ]
    },
    {
      "cell_type": "markdown",
      "metadata": {
        "id": "Ow4QPpFRVQpX"
      },
      "source": [
        "#### Understanding word embeddings"
      ]
    },
    {
      "cell_type": "markdown",
      "metadata": {
        "id": "19h6-CVKVQpY"
      },
      "source": [
        "#### Learning word embeddings with the Embedding layer"
      ]
    },
    {
      "cell_type": "markdown",
      "metadata": {
        "id": "_rSzp1mPVQpY"
      },
      "source": [
        "**Instantiating an `Embedding` layer**"
      ]
    },
    {
      "cell_type": "code",
      "execution_count": 6,
      "metadata": {
        "id": "Q9tSilUVVQpZ"
      },
      "outputs": [],
      "source": [
        "embedding_layer = layers.Embedding(input_dim=max_tokens, output_dim=256)"
      ]
    },
    {
      "cell_type": "markdown",
      "metadata": {
        "id": "Qjy0D_T4VQpa"
      },
      "source": [
        "**Model that uses an `Embedding` layer trained from scratch**"
      ]
    },
    {
      "cell_type": "code",
      "execution_count": 7,
      "metadata": {
        "id": "uINOztBxVQpa",
        "outputId": "78c96069-124d-4e8b-e53a-c0036fa2437f",
        "colab": {
          "base_uri": "https://localhost:8080/"
        }
      },
      "outputs": [
        {
          "output_type": "stream",
          "name": "stdout",
          "text": [
            "Model: \"model_1\"\n",
            "_________________________________________________________________\n",
            " Layer (type)                Output Shape              Param #   \n",
            "=================================================================\n",
            " input_2 (InputLayer)        [(None, None)]            0         \n",
            "                                                                 \n",
            " embedding_1 (Embedding)     (None, None, 256)         5120000   \n",
            "                                                                 \n",
            " bidirectional_1 (Bidirectio  (None, 64)               73984     \n",
            " nal)                                                            \n",
            "                                                                 \n",
            " dropout_1 (Dropout)         (None, 64)                0         \n",
            "                                                                 \n",
            " dense_1 (Dense)             (None, 1)                 65        \n",
            "                                                                 \n",
            "=================================================================\n",
            "Total params: 5,194,049\n",
            "Trainable params: 5,194,049\n",
            "Non-trainable params: 0\n",
            "_________________________________________________________________\n",
            "Epoch 1/10\n",
            "625/625 [==============================] - 32s 47ms/step - loss: 0.4661 - accuracy: 0.7907 - val_loss: 0.3598 - val_accuracy: 0.8558\n",
            "Epoch 2/10\n",
            "625/625 [==============================] - 28s 45ms/step - loss: 0.3026 - accuracy: 0.8913 - val_loss: 0.3136 - val_accuracy: 0.8764\n",
            "Epoch 3/10\n",
            "625/625 [==============================] - 28s 44ms/step - loss: 0.2384 - accuracy: 0.9144 - val_loss: 0.3211 - val_accuracy: 0.8792\n",
            "Epoch 4/10\n",
            "625/625 [==============================] - 28s 44ms/step - loss: 0.1963 - accuracy: 0.9319 - val_loss: 0.3335 - val_accuracy: 0.8852\n",
            "Epoch 5/10\n",
            "625/625 [==============================] - 27s 44ms/step - loss: 0.1650 - accuracy: 0.9456 - val_loss: 0.3754 - val_accuracy: 0.8630\n",
            "Epoch 6/10\n",
            "625/625 [==============================] - 27s 43ms/step - loss: 0.1369 - accuracy: 0.9543 - val_loss: 0.3710 - val_accuracy: 0.8774\n",
            "Epoch 7/10\n",
            "625/625 [==============================] - 27s 43ms/step - loss: 0.1130 - accuracy: 0.9628 - val_loss: 0.3600 - val_accuracy: 0.8810\n",
            "Epoch 8/10\n",
            "625/625 [==============================] - 27s 43ms/step - loss: 0.0909 - accuracy: 0.9702 - val_loss: 0.4397 - val_accuracy: 0.8730\n",
            "Epoch 9/10\n",
            "625/625 [==============================] - 27s 43ms/step - loss: 0.0733 - accuracy: 0.9758 - val_loss: 0.4484 - val_accuracy: 0.8734\n",
            "Epoch 10/10\n",
            "625/625 [==============================] - 27s 42ms/step - loss: 0.0634 - accuracy: 0.9804 - val_loss: 0.4417 - val_accuracy: 0.8644\n",
            "782/782 [==============================] - 17s 20ms/step - loss: 0.3378 - accuracy: 0.8660\n",
            "Test acc: 0.866\n"
          ]
        }
      ],
      "source": [
        "inputs = keras.Input(shape=(None,), dtype=\"int64\")\n",
        "embedded = layers.Embedding(input_dim=max_tokens, output_dim=256)(inputs)\n",
        "x = layers.Bidirectional(layers.LSTM(32))(embedded)\n",
        "x = layers.Dropout(0.5)(x)\n",
        "outputs = layers.Dense(1, activation=\"sigmoid\")(x)\n",
        "model = keras.Model(inputs, outputs)\n",
        "model.compile(optimizer=\"rmsprop\",\n",
        "              loss=\"binary_crossentropy\",\n",
        "              metrics=[\"accuracy\"])\n",
        "model.summary()\n",
        "\n",
        "callbacks = [\n",
        "    keras.callbacks.ModelCheckpoint(\"embeddings_bidir_gru.keras\",\n",
        "                                    save_best_only=True)\n",
        "]\n",
        "model.fit(int_train_ds, validation_data=int_val_ds, epochs=10, callbacks=callbacks)\n",
        "model = keras.models.load_model(\"embeddings_bidir_gru.keras\")\n",
        "print(f\"Test acc: {model.evaluate(int_test_ds)[1]:.3f}\")"
      ]
    },
    {
      "cell_type": "markdown",
      "metadata": {
        "id": "RnVazaHXVQpb"
      },
      "source": [
        "#### Understanding padding and masking"
      ]
    },
    {
      "cell_type": "markdown",
      "metadata": {
        "id": "QNnLki9JVQpb"
      },
      "source": [
        "**Using an `Embedding` layer with masking enabled**"
      ]
    },
    {
      "cell_type": "code",
      "execution_count": 8,
      "metadata": {
        "id": "7Qy1kKQdVQpc",
        "outputId": "446169a8-85b0-4190-85c9-ac6c6d04b5fa",
        "colab": {
          "base_uri": "https://localhost:8080/"
        }
      },
      "outputs": [
        {
          "output_type": "stream",
          "name": "stdout",
          "text": [
            "Model: \"model_2\"\n",
            "_________________________________________________________________\n",
            " Layer (type)                Output Shape              Param #   \n",
            "=================================================================\n",
            " input_3 (InputLayer)        [(None, None)]            0         \n",
            "                                                                 \n",
            " embedding_2 (Embedding)     (None, None, 256)         5120000   \n",
            "                                                                 \n",
            " bidirectional_2 (Bidirectio  (None, 64)               73984     \n",
            " nal)                                                            \n",
            "                                                                 \n",
            " dropout_2 (Dropout)         (None, 64)                0         \n",
            "                                                                 \n",
            " dense_2 (Dense)             (None, 1)                 65        \n",
            "                                                                 \n",
            "=================================================================\n",
            "Total params: 5,194,049\n",
            "Trainable params: 5,194,049\n",
            "Non-trainable params: 0\n",
            "_________________________________________________________________\n",
            "Epoch 1/10\n",
            "625/625 [==============================] - 38s 51ms/step - loss: 0.3973 - accuracy: 0.8207 - val_loss: 0.2864 - val_accuracy: 0.8868\n",
            "Epoch 2/10\n",
            "625/625 [==============================] - 30s 47ms/step - loss: 0.2302 - accuracy: 0.9112 - val_loss: 0.2854 - val_accuracy: 0.8802\n",
            "Epoch 3/10\n",
            "625/625 [==============================] - 29s 46ms/step - loss: 0.1688 - accuracy: 0.9369 - val_loss: 0.2964 - val_accuracy: 0.8962\n",
            "Epoch 4/10\n",
            "625/625 [==============================] - 29s 46ms/step - loss: 0.1309 - accuracy: 0.9524 - val_loss: 0.3990 - val_accuracy: 0.8506\n",
            "Epoch 5/10\n",
            "625/625 [==============================] - 29s 46ms/step - loss: 0.0984 - accuracy: 0.9658 - val_loss: 0.3342 - val_accuracy: 0.8804\n",
            "Epoch 6/10\n",
            "625/625 [==============================] - 29s 47ms/step - loss: 0.0777 - accuracy: 0.9735 - val_loss: 0.3480 - val_accuracy: 0.8840\n",
            "Epoch 7/10\n",
            "625/625 [==============================] - 30s 47ms/step - loss: 0.0565 - accuracy: 0.9815 - val_loss: 0.4115 - val_accuracy: 0.8808\n",
            "Epoch 8/10\n",
            "625/625 [==============================] - 29s 46ms/step - loss: 0.0454 - accuracy: 0.9854 - val_loss: 0.4172 - val_accuracy: 0.8740\n",
            "Epoch 9/10\n",
            "625/625 [==============================] - 29s 46ms/step - loss: 0.0340 - accuracy: 0.9894 - val_loss: 0.4307 - val_accuracy: 0.8768\n",
            "Epoch 10/10\n",
            "625/625 [==============================] - 29s 47ms/step - loss: 0.0252 - accuracy: 0.9923 - val_loss: 0.6299 - val_accuracy: 0.8560\n",
            "782/782 [==============================] - 19s 21ms/step - loss: 0.3021 - accuracy: 0.8699\n",
            "Test acc: 0.870\n"
          ]
        }
      ],
      "source": [
        "inputs = keras.Input(shape=(None,), dtype=\"int64\")\n",
        "embedded = layers.Embedding(\n",
        "    input_dim=max_tokens, output_dim=256, mask_zero=True)(inputs)\n",
        "x = layers.Bidirectional(layers.LSTM(32))(embedded)\n",
        "x = layers.Dropout(0.5)(x)\n",
        "outputs = layers.Dense(1, activation=\"sigmoid\")(x)\n",
        "model = keras.Model(inputs, outputs)\n",
        "model.compile(optimizer=\"rmsprop\",\n",
        "              loss=\"binary_crossentropy\",\n",
        "              metrics=[\"accuracy\"])\n",
        "model.summary()\n",
        "\n",
        "callbacks = [\n",
        "    keras.callbacks.ModelCheckpoint(\"embeddings_bidir_gru_with_masking.keras\",\n",
        "                                    save_best_only=True)\n",
        "]\n",
        "model.fit(int_train_ds, validation_data=int_val_ds, epochs=10, callbacks=callbacks)\n",
        "model = keras.models.load_model(\"embeddings_bidir_gru_with_masking.keras\")\n",
        "print(f\"Test acc: {model.evaluate(int_test_ds)[1]:.3f}\")"
      ]
    },
    {
      "cell_type": "markdown",
      "metadata": {
        "id": "kMX2auvYVQpc"
      },
      "source": [
        "#### Using pretrained word embeddings"
      ]
    },
    {
      "cell_type": "code",
      "execution_count": 9,
      "metadata": {
        "id": "90zqsL1oVQpd",
        "outputId": "a46ce61f-76dc-44be-ff95-ab826920220e",
        "colab": {
          "base_uri": "https://localhost:8080/"
        }
      },
      "outputs": [
        {
          "output_type": "stream",
          "name": "stdout",
          "text": [
            "--2022-04-22 04:23:47--  http://nlp.stanford.edu/data/glove.6B.zip\n",
            "Resolving nlp.stanford.edu (nlp.stanford.edu)... 171.64.67.140\n",
            "Connecting to nlp.stanford.edu (nlp.stanford.edu)|171.64.67.140|:80... connected.\n",
            "HTTP request sent, awaiting response... 302 Found\n",
            "Location: https://nlp.stanford.edu/data/glove.6B.zip [following]\n",
            "--2022-04-22 04:23:47--  https://nlp.stanford.edu/data/glove.6B.zip\n",
            "Connecting to nlp.stanford.edu (nlp.stanford.edu)|171.64.67.140|:443... connected.\n",
            "HTTP request sent, awaiting response... 301 Moved Permanently\n",
            "Location: http://downloads.cs.stanford.edu/nlp/data/glove.6B.zip [following]\n",
            "--2022-04-22 04:23:48--  http://downloads.cs.stanford.edu/nlp/data/glove.6B.zip\n",
            "Resolving downloads.cs.stanford.edu (downloads.cs.stanford.edu)... 171.64.64.22\n",
            "Connecting to downloads.cs.stanford.edu (downloads.cs.stanford.edu)|171.64.64.22|:80... connected.\n",
            "HTTP request sent, awaiting response... 200 OK\n",
            "Length: 862182613 (822M) [application/zip]\n",
            "Saving to: ‘glove.6B.zip’\n",
            "\n",
            "glove.6B.zip        100%[===================>] 822.24M  5.25MB/s    in 2m 41s  \n",
            "\n",
            "2022-04-22 04:26:29 (5.10 MB/s) - ‘glove.6B.zip’ saved [862182613/862182613]\n",
            "\n"
          ]
        }
      ],
      "source": [
        "!wget http://nlp.stanford.edu/data/glove.6B.zip\n",
        "!unzip -q glove.6B.zip"
      ]
    },
    {
      "cell_type": "markdown",
      "metadata": {
        "id": "VBuxMFEaVQpe"
      },
      "source": [
        "**Parsing the GloVe word-embeddings file**"
      ]
    },
    {
      "cell_type": "code",
      "execution_count": 10,
      "metadata": {
        "id": "fEEaPYRjVQpe",
        "outputId": "95aab569-5146-443e-99cb-d8b8d7ce47fc",
        "colab": {
          "base_uri": "https://localhost:8080/"
        }
      },
      "outputs": [
        {
          "output_type": "stream",
          "name": "stdout",
          "text": [
            "Found 400000 word vectors.\n"
          ]
        }
      ],
      "source": [
        "import numpy as np\n",
        "path_to_glove_file = \"glove.6B.100d.txt\"\n",
        "\n",
        "embeddings_index = {}\n",
        "with open(path_to_glove_file) as f:\n",
        "    for line in f:\n",
        "        word, coefs = line.split(maxsplit=1)\n",
        "        coefs = np.fromstring(coefs, \"f\", sep=\" \")\n",
        "        embeddings_index[word] = coefs\n",
        "\n",
        "print(f\"Found {len(embeddings_index)} word vectors.\")"
      ]
    },
    {
      "cell_type": "markdown",
      "metadata": {
        "id": "55HZvi8GVQpf"
      },
      "source": [
        "**Preparing the GloVe word-embeddings matrix**"
      ]
    },
    {
      "cell_type": "code",
      "execution_count": 11,
      "metadata": {
        "id": "ocdZIIU7VQpf"
      },
      "outputs": [],
      "source": [
        "embedding_dim = 100\n",
        "\n",
        "vocabulary = text_vectorization.get_vocabulary()\n",
        "word_index = dict(zip(vocabulary, range(len(vocabulary))))\n",
        "\n",
        "embedding_matrix = np.zeros((max_tokens, embedding_dim))\n",
        "for word, i in word_index.items():\n",
        "    if i < max_tokens:\n",
        "        embedding_vector = embeddings_index.get(word)\n",
        "    if embedding_vector is not None:\n",
        "        embedding_matrix[i] = embedding_vector"
      ]
    },
    {
      "cell_type": "code",
      "execution_count": 12,
      "metadata": {
        "id": "mcx7FvonVQpg"
      },
      "outputs": [],
      "source": [
        "embedding_layer = layers.Embedding(\n",
        "    max_tokens,\n",
        "    embedding_dim,\n",
        "    embeddings_initializer=keras.initializers.Constant(embedding_matrix),\n",
        "    trainable=False,\n",
        "    mask_zero=True,\n",
        ")"
      ]
    },
    {
      "cell_type": "markdown",
      "metadata": {
        "id": "eu1DpOeOVQpg"
      },
      "source": [
        "**Model that uses a pretrained Embedding layer**"
      ]
    },
    {
      "cell_type": "code",
      "execution_count": 13,
      "metadata": {
        "id": "CKaO4d-HVQph",
        "outputId": "5d3ce8f3-8c3b-408e-c3dc-053202da030b",
        "colab": {
          "base_uri": "https://localhost:8080/"
        }
      },
      "outputs": [
        {
          "output_type": "stream",
          "name": "stdout",
          "text": [
            "Model: \"model_3\"\n",
            "_________________________________________________________________\n",
            " Layer (type)                Output Shape              Param #   \n",
            "=================================================================\n",
            " input_4 (InputLayer)        [(None, None)]            0         \n",
            "                                                                 \n",
            " embedding_3 (Embedding)     (None, None, 100)         2000000   \n",
            "                                                                 \n",
            " bidirectional_3 (Bidirectio  (None, 64)               34048     \n",
            " nal)                                                            \n",
            "                                                                 \n",
            " dropout_3 (Dropout)         (None, 64)                0         \n",
            "                                                                 \n",
            " dense_3 (Dense)             (None, 1)                 65        \n",
            "                                                                 \n",
            "=================================================================\n",
            "Total params: 2,034,113\n",
            "Trainable params: 34,113\n",
            "Non-trainable params: 2,000,000\n",
            "_________________________________________________________________\n",
            "Epoch 1/10\n",
            "625/625 [==============================] - 38s 50ms/step - loss: 0.5660 - accuracy: 0.6973 - val_loss: 0.4626 - val_accuracy: 0.7810\n",
            "Epoch 2/10\n",
            "625/625 [==============================] - 29s 46ms/step - loss: 0.4479 - accuracy: 0.7969 - val_loss: 0.4226 - val_accuracy: 0.8190\n",
            "Epoch 3/10\n",
            "625/625 [==============================] - 29s 46ms/step - loss: 0.3949 - accuracy: 0.8267 - val_loss: 0.3940 - val_accuracy: 0.8146\n",
            "Epoch 4/10\n",
            "625/625 [==============================] - 29s 46ms/step - loss: 0.3677 - accuracy: 0.8415 - val_loss: 0.3502 - val_accuracy: 0.8506\n",
            "Epoch 5/10\n",
            "625/625 [==============================] - 28s 45ms/step - loss: 0.3437 - accuracy: 0.8553 - val_loss: 0.3454 - val_accuracy: 0.8546\n",
            "Epoch 6/10\n",
            "625/625 [==============================] - 29s 46ms/step - loss: 0.3198 - accuracy: 0.8648 - val_loss: 0.3215 - val_accuracy: 0.8652\n",
            "Epoch 7/10\n",
            "625/625 [==============================] - 29s 46ms/step - loss: 0.3050 - accuracy: 0.8716 - val_loss: 0.3138 - val_accuracy: 0.8722\n",
            "Epoch 8/10\n",
            "625/625 [==============================] - 29s 46ms/step - loss: 0.2877 - accuracy: 0.8831 - val_loss: 0.3044 - val_accuracy: 0.8738\n",
            "Epoch 9/10\n",
            "625/625 [==============================] - 27s 43ms/step - loss: 0.2752 - accuracy: 0.8892 - val_loss: 0.3060 - val_accuracy: 0.8706\n",
            "Epoch 10/10\n",
            "625/625 [==============================] - 27s 43ms/step - loss: 0.2638 - accuracy: 0.8935 - val_loss: 0.3276 - val_accuracy: 0.8628\n",
            "782/782 [==============================] - 18s 20ms/step - loss: 0.3027 - accuracy: 0.8694\n",
            "Test acc: 0.869\n"
          ]
        }
      ],
      "source": [
        "inputs = keras.Input(shape=(None,), dtype=\"int64\")\n",
        "embedded = embedding_layer(inputs)\n",
        "x = layers.Bidirectional(layers.LSTM(32))(embedded)\n",
        "x = layers.Dropout(0.5)(x)\n",
        "outputs = layers.Dense(1, activation=\"sigmoid\")(x)\n",
        "model = keras.Model(inputs, outputs)\n",
        "model.compile(optimizer=\"rmsprop\",\n",
        "              loss=\"binary_crossentropy\",\n",
        "              metrics=[\"accuracy\"])\n",
        "model.summary()\n",
        "\n",
        "callbacks = [\n",
        "    keras.callbacks.ModelCheckpoint(\"glove_embeddings_sequence_model.keras\",\n",
        "                                    save_best_only=True)\n",
        "]\n",
        "model.fit(int_train_ds, validation_data=int_val_ds, epochs=10, callbacks=callbacks)\n",
        "model = keras.models.load_model(\"glove_embeddings_sequence_model.keras\")\n",
        "print(f\"Test acc: {model.evaluate(int_test_ds)[1]:.3f}\")"
      ]
    }
  ],
  "metadata": {
    "colab": {
      "collapsed_sections": [],
      "name": "chapter11_part02_sequence-models.i",
      "provenance": [],
      "toc_visible": true,
      "machine_shape": "hm"
    },
    "kernelspec": {
      "display_name": "Python 3",
      "language": "python",
      "name": "python3"
    },
    "language_info": {
      "codemirror_mode": {
        "name": "ipython",
        "version": 3
      },
      "file_extension": ".py",
      "mimetype": "text/x-python",
      "name": "python",
      "nbconvert_exporter": "python",
      "pygments_lexer": "ipython3",
      "version": "3.7.0"
    },
    "accelerator": "GPU"
  },
  "nbformat": 4,
  "nbformat_minor": 0
}