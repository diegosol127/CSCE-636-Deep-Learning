{
  "cells": [
    {
      "cell_type": "markdown",
      "metadata": {
        "id": "view-in-github",
        "colab_type": "text"
      },
      "source": [
        "<a href=\"https://colab.research.google.com/github/diegosol127/CSCE-636-Deep-Learning/blob/main/other/Project2.ipynb\" target=\"_parent\"><img src=\"https://colab.research.google.com/assets/colab-badge.svg\" alt=\"Open In Colab\"/></a>"
      ]
    },
    {
      "cell_type": "markdown",
      "metadata": {
        "id": "mMsPEiVOljkc"
      },
      "source": [
        "## Libraries"
      ]
    },
    {
      "cell_type": "code",
      "execution_count": null,
      "metadata": {
        "id": "NFUhge-uZiWy"
      },
      "outputs": [],
      "source": [
        "import pickle\n",
        "import tensorflow as tf\n",
        "import numpy as np\n",
        "from tensorflow import keras\n",
        "from tensorflow.keras import layers\n",
        "from matplotlib import pyplot as plt\n",
        "rng = np.random.default_rng()"
      ]
    },
    {
      "cell_type": "markdown",
      "metadata": {
        "id": "zbxrckpmlZdY"
      },
      "source": [
        "## Load Data"
      ]
    },
    {
      "cell_type": "code",
      "execution_count": null,
      "metadata": {
        "id": "rjsBnYI_BUhs"
      },
      "outputs": [],
      "source": [
        "train_input = pickle.load(open(\"/content/drive/MyDrive/Colab Notebooks/DS_5_train_input\",'rb'))\n",
        "train_output = pickle.load(open(\"/content/drive/MyDrive/Colab Notebooks/DS_5_train_output\",'rb')) "
      ]
    },
    {
      "cell_type": "code",
      "execution_count": null,
      "metadata": {
        "colab": {
          "base_uri": "https://localhost:8080/"
        },
        "id": "Ak6WPCqPAWIH",
        "outputId": "8b5a0c0a-1a9e-4f57-bffd-9f94aca4944a"
      },
      "outputs": [
        {
          "output_type": "execute_result",
          "data": {
            "text/plain": [
              "'a g b f a f a e a k a j c f b f c d a k a k c e b g a h a k b d b f b f b d c d '"
            ],
            "application/vnd.google.colaboratory.intrinsic+json": {
              "type": "string"
            }
          },
          "metadata": {},
          "execution_count": 4
        }
      ],
      "source": [
        "train_input[0]"
      ]
    },
    {
      "cell_type": "code",
      "execution_count": null,
      "metadata": {
        "colab": {
          "base_uri": "https://localhost:8080/"
        },
        "id": "Ki2BJ-D_AYKa",
        "outputId": "c3de74ba-4cda-4063-d7cd-a14dfb0c23d0"
      },
      "outputs": [
        {
          "output_type": "execute_result",
          "data": {
            "text/plain": [
              "'b f c f b f c d a j e f g c e b g a k i j b d b f a k l m b f b d a h ed ee ef a k k eg a k h eh a e ei c d a f ej ek a g d el '"
            ],
            "application/vnd.google.colaboratory.intrinsic+json": {
              "type": "string"
            }
          },
          "metadata": {},
          "execution_count": 5
        }
      ],
      "source": [
        "train_output[0]"
      ]
    },
    {
      "cell_type": "markdown",
      "metadata": {
        "id": "PkSTLzXmBXJE"
      },
      "source": [
        "## Vectorize Data"
      ]
    },
    {
      "cell_type": "code",
      "execution_count": null,
      "metadata": {
        "id": "8r5DNrLUZAT5"
      },
      "outputs": [],
      "source": [
        "train_output_start = []\n",
        "train_output_end = []\n",
        "\n",
        "for i in range(0,len(train_output)):\n",
        "  train_output_start.append(\"start \" + train_output[i])\n",
        "  train_output_end.append(train_output[i]+\"end\")\n",
        "  train_output[i] = \"start \" + train_output[i] + \"end\"\n",
        "\n",
        "source_vectorization = layers.TextVectorization(output_sequence_length=200)\n",
        "target_vectorization = layers.TextVectorization(output_sequence_length=200)\n",
        "source_vectorization.adapt(train_input)\n",
        "target_vectorization.adapt(train_output)\n",
        "\n",
        "train_input = source_vectorization(train_input)\n",
        "train_output = target_vectorization(train_output)\n",
        "train_output_end = target_vectorization(train_output_end)\n",
        "train_output_start = target_vectorization(train_output_start)"
      ]
    },
    {
      "cell_type": "code",
      "execution_count": null,
      "metadata": {
        "colab": {
          "base_uri": "https://localhost:8080/"
        },
        "id": "teIyilkGAf9B",
        "outputId": "f9f2774d-9a4e-47b8-804f-7e544b253e51"
      },
      "outputs": [
        {
          "output_type": "execute_result",
          "data": {
            "text/plain": [
              "['', '[UNK]', 'a', 'b', 'c', 'e', 'g', 'd', 'f', 'k', 'i', 'j', 'h']"
            ]
          },
          "metadata": {},
          "execution_count": 7
        }
      ],
      "source": [
        "source_vectorization.get_vocabulary()"
      ]
    },
    {
      "cell_type": "code",
      "execution_count": null,
      "metadata": {
        "colab": {
          "base_uri": "https://localhost:8080/"
        },
        "id": "6IEIGtWJAr_O",
        "outputId": "f1cf1889-65eb-476e-e28f-63ab86068f04"
      },
      "outputs": [
        {
          "output_type": "execute_result",
          "data": {
            "text/plain": [
              "['',\n",
              " '[UNK]',\n",
              " 'a',\n",
              " 'b',\n",
              " 'c',\n",
              " 'e',\n",
              " 'g',\n",
              " 'd',\n",
              " 'f',\n",
              " 'k',\n",
              " 'i',\n",
              " 'j',\n",
              " 'h',\n",
              " 'start',\n",
              " 'm',\n",
              " 'l',\n",
              " 'end',\n",
              " 'eh',\n",
              " 'eg',\n",
              " 'ef',\n",
              " 'ee',\n",
              " 'ed',\n",
              " 'ei',\n",
              " 'ej',\n",
              " 'ek',\n",
              " 'el',\n",
              " 'em',\n",
              " 'fd',\n",
              " 'fe',\n",
              " 'ff',\n",
              " 'fg',\n",
              " 'fh',\n",
              " 'fi',\n",
              " 'fj',\n",
              " 'fk',\n",
              " 'fl',\n",
              " 'fm',\n",
              " 'gd']"
            ]
          },
          "metadata": {},
          "execution_count": 8
        }
      ],
      "source": [
        "target_vectorization.get_vocabulary()"
      ]
    },
    {
      "cell_type": "code",
      "execution_count": null,
      "metadata": {
        "colab": {
          "base_uri": "https://localhost:8080/"
        },
        "id": "2PSaC02LA8Pf",
        "outputId": "996f0087-fc7c-4008-eec8-292b24af83ee"
      },
      "outputs": [
        {
          "output_type": "execute_result",
          "data": {
            "text/plain": [
              "<tf.Tensor: shape=(200,), dtype=int64, numpy=\n",
              "array([ 2,  6,  3,  8,  2,  8,  2,  5,  2,  9,  2, 11,  4,  8,  3,  8,  4,\n",
              "        7,  2,  9,  2,  9,  4,  5,  3,  6,  2, 12,  2,  9,  3,  7,  3,  8,\n",
              "        3,  8,  3,  7,  4,  7,  0,  0,  0,  0,  0,  0,  0,  0,  0,  0,  0,\n",
              "        0,  0,  0,  0,  0,  0,  0,  0,  0,  0,  0,  0,  0,  0,  0,  0,  0,\n",
              "        0,  0,  0,  0,  0,  0,  0,  0,  0,  0,  0,  0,  0,  0,  0,  0,  0,\n",
              "        0,  0,  0,  0,  0,  0,  0,  0,  0,  0,  0,  0,  0,  0,  0,  0,  0,\n",
              "        0,  0,  0,  0,  0,  0,  0,  0,  0,  0,  0,  0,  0,  0,  0,  0,  0,\n",
              "        0,  0,  0,  0,  0,  0,  0,  0,  0,  0,  0,  0,  0,  0,  0,  0,  0,\n",
              "        0,  0,  0,  0,  0,  0,  0,  0,  0,  0,  0,  0,  0,  0,  0,  0,  0,\n",
              "        0,  0,  0,  0,  0,  0,  0,  0,  0,  0,  0,  0,  0,  0,  0,  0,  0,\n",
              "        0,  0,  0,  0,  0,  0,  0,  0,  0,  0,  0,  0,  0,  0,  0,  0,  0,\n",
              "        0,  0,  0,  0,  0,  0,  0,  0,  0,  0,  0,  0,  0])>"
            ]
          },
          "metadata": {},
          "execution_count": 9
        }
      ],
      "source": [
        "train_input[0]"
      ]
    },
    {
      "cell_type": "code",
      "execution_count": null,
      "metadata": {
        "colab": {
          "base_uri": "https://localhost:8080/"
        },
        "id": "Lf95LJhbA-7A",
        "outputId": "f476ddfb-0027-4769-c92e-123752b629b0"
      },
      "outputs": [
        {
          "output_type": "execute_result",
          "data": {
            "text/plain": [
              "<tf.Tensor: shape=(200,), dtype=int64, numpy=\n",
              "array([13,  3,  8,  4,  8,  3,  8,  4,  7,  2, 11,  5,  8,  6,  4,  5,  3,\n",
              "        6,  2,  9, 10, 11,  3,  7,  3,  8,  2,  9, 15, 14,  3,  8,  3,  7,\n",
              "        2, 12, 21, 20, 19,  2,  9,  9, 18,  2,  9, 12, 17,  2,  5, 22,  4,\n",
              "        7,  2,  8, 23, 24,  2,  6,  7, 25, 16,  0,  0,  0,  0,  0,  0,  0,\n",
              "        0,  0,  0,  0,  0,  0,  0,  0,  0,  0,  0,  0,  0,  0,  0,  0,  0,\n",
              "        0,  0,  0,  0,  0,  0,  0,  0,  0,  0,  0,  0,  0,  0,  0,  0,  0,\n",
              "        0,  0,  0,  0,  0,  0,  0,  0,  0,  0,  0,  0,  0,  0,  0,  0,  0,\n",
              "        0,  0,  0,  0,  0,  0,  0,  0,  0,  0,  0,  0,  0,  0,  0,  0,  0,\n",
              "        0,  0,  0,  0,  0,  0,  0,  0,  0,  0,  0,  0,  0,  0,  0,  0,  0,\n",
              "        0,  0,  0,  0,  0,  0,  0,  0,  0,  0,  0,  0,  0,  0,  0,  0,  0,\n",
              "        0,  0,  0,  0,  0,  0,  0,  0,  0,  0,  0,  0,  0,  0,  0,  0,  0,\n",
              "        0,  0,  0,  0,  0,  0,  0,  0,  0,  0,  0,  0,  0])>"
            ]
          },
          "metadata": {},
          "execution_count": 10
        }
      ],
      "source": [
        "train_output[0]"
      ]
    },
    {
      "cell_type": "code",
      "execution_count": null,
      "metadata": {
        "colab": {
          "base_uri": "https://localhost:8080/"
        },
        "id": "xVsJDr73BD9R",
        "outputId": "b1b32b70-e7e8-4548-cd6f-77f38d9fbd08"
      },
      "outputs": [
        {
          "output_type": "execute_result",
          "data": {
            "text/plain": [
              "<tf.Tensor: shape=(200,), dtype=int64, numpy=\n",
              "array([13,  3,  8,  4,  8,  3,  8,  4,  7,  2, 11,  5,  8,  6,  4,  5,  3,\n",
              "        6,  2,  9, 10, 11,  3,  7,  3,  8,  2,  9, 15, 14,  3,  8,  3,  7,\n",
              "        2, 12, 21, 20, 19,  2,  9,  9, 18,  2,  9, 12, 17,  2,  5, 22,  4,\n",
              "        7,  2,  8, 23, 24,  2,  6,  7, 25,  0,  0,  0,  0,  0,  0,  0,  0,\n",
              "        0,  0,  0,  0,  0,  0,  0,  0,  0,  0,  0,  0,  0,  0,  0,  0,  0,\n",
              "        0,  0,  0,  0,  0,  0,  0,  0,  0,  0,  0,  0,  0,  0,  0,  0,  0,\n",
              "        0,  0,  0,  0,  0,  0,  0,  0,  0,  0,  0,  0,  0,  0,  0,  0,  0,\n",
              "        0,  0,  0,  0,  0,  0,  0,  0,  0,  0,  0,  0,  0,  0,  0,  0,  0,\n",
              "        0,  0,  0,  0,  0,  0,  0,  0,  0,  0,  0,  0,  0,  0,  0,  0,  0,\n",
              "        0,  0,  0,  0,  0,  0,  0,  0,  0,  0,  0,  0,  0,  0,  0,  0,  0,\n",
              "        0,  0,  0,  0,  0,  0,  0,  0,  0,  0,  0,  0,  0,  0,  0,  0,  0,\n",
              "        0,  0,  0,  0,  0,  0,  0,  0,  0,  0,  0,  0,  0])>"
            ]
          },
          "metadata": {},
          "execution_count": 11
        }
      ],
      "source": [
        "train_output_start[0]"
      ]
    },
    {
      "cell_type": "code",
      "execution_count": null,
      "metadata": {
        "colab": {
          "base_uri": "https://localhost:8080/"
        },
        "id": "6pQtplbDBG20",
        "outputId": "f1a6c857-32e8-44de-9d70-a67533604f56"
      },
      "outputs": [
        {
          "output_type": "execute_result",
          "data": {
            "text/plain": [
              "<tf.Tensor: shape=(200,), dtype=int64, numpy=\n",
              "array([ 3,  8,  4,  8,  3,  8,  4,  7,  2, 11,  5,  8,  6,  4,  5,  3,  6,\n",
              "        2,  9, 10, 11,  3,  7,  3,  8,  2,  9, 15, 14,  3,  8,  3,  7,  2,\n",
              "       12, 21, 20, 19,  2,  9,  9, 18,  2,  9, 12, 17,  2,  5, 22,  4,  7,\n",
              "        2,  8, 23, 24,  2,  6,  7, 25, 16,  0,  0,  0,  0,  0,  0,  0,  0,\n",
              "        0,  0,  0,  0,  0,  0,  0,  0,  0,  0,  0,  0,  0,  0,  0,  0,  0,\n",
              "        0,  0,  0,  0,  0,  0,  0,  0,  0,  0,  0,  0,  0,  0,  0,  0,  0,\n",
              "        0,  0,  0,  0,  0,  0,  0,  0,  0,  0,  0,  0,  0,  0,  0,  0,  0,\n",
              "        0,  0,  0,  0,  0,  0,  0,  0,  0,  0,  0,  0,  0,  0,  0,  0,  0,\n",
              "        0,  0,  0,  0,  0,  0,  0,  0,  0,  0,  0,  0,  0,  0,  0,  0,  0,\n",
              "        0,  0,  0,  0,  0,  0,  0,  0,  0,  0,  0,  0,  0,  0,  0,  0,  0,\n",
              "        0,  0,  0,  0,  0,  0,  0,  0,  0,  0,  0,  0,  0,  0,  0,  0,  0,\n",
              "        0,  0,  0,  0,  0,  0,  0,  0,  0,  0,  0,  0,  0])>"
            ]
          },
          "metadata": {},
          "execution_count": 12
        }
      ],
      "source": [
        "train_output_end[0]"
      ]
    },
    {
      "cell_type": "markdown",
      "metadata": {
        "id": "wPOpXelWlurO"
      },
      "source": [
        "# RNN"
      ]
    },
    {
      "cell_type": "markdown",
      "metadata": {
        "id": "2-7VaVAf-juu"
      },
      "source": [
        "Encoder"
      ]
    },
    {
      "cell_type": "code",
      "execution_count": null,
      "metadata": {
        "id": "Oq8DBkbof66b"
      },
      "outputs": [],
      "source": [
        "embed_dim = 256\n",
        "latent_dim = 1024\n",
        "\n",
        "source = keras.Input(shape=(None,), dtype=\"int64\")\n",
        "x = layers.Embedding(train_input.shape[-1], embed_dim, mask_zero=True)(source)\n",
        "encoded_source = layers.Bidirectional(\n",
        "    layers.GRU(latent_dim), merge_mode=\"sum\")(x)"
      ]
    },
    {
      "cell_type": "markdown",
      "metadata": {
        "id": "J851Ub3a-mCF"
      },
      "source": [
        "Decoder Section"
      ]
    },
    {
      "cell_type": "code",
      "execution_count": null,
      "metadata": {
        "id": "hXDTgcgzikgy"
      },
      "outputs": [],
      "source": [
        "past_target = keras.Input(shape=(None,), dtype=\"int64\")\n",
        "x = layers.Embedding(train_output_start.shape[-1], embed_dim, mask_zero=True)(past_target)\n",
        "decoder_gru = layers.GRU(latent_dim, return_sequences=True)\n",
        "x = decoder_gru(x, initial_state=encoded_source)\n",
        "x = layers.Dropout(0.5)(x)\n",
        "target_next_step = layers.Dense(train_output_start.shape[-1], activation=\"softmax\")(x)\n",
        "seq2seq_rnn = keras.Model([source, past_target], target_next_step)"
      ]
    },
    {
      "cell_type": "code",
      "execution_count": null,
      "metadata": {
        "id": "7Jg-dazNjCgM"
      },
      "outputs": [],
      "source": [
        "seq2seq_rnn.summary()\n",
        "tf.keras.utils.plot_model(seq2seq_rnn, show_shapes=True)"
      ]
    },
    {
      "cell_type": "code",
      "execution_count": null,
      "metadata": {
        "id": "gCw82JINjFDy"
      },
      "outputs": [],
      "source": [
        "seq2seq_rnn.compile(\n",
        "    optimizer=\"rmsprop\",\n",
        "    loss=\"sparse_categorical_crossentropy\",\n",
        "    metrics=[\"accuracy\"])\n",
        "\n",
        "callbacks = [\n",
        "    keras.callbacks.ModelCheckpoint(\n",
        "        filepath=\"seq2seq_rnn.keras\",\n",
        "        save_best_only=True,\n",
        "        monitor=\"val_loss\")\n",
        "]\n",
        "\n",
        "history = seq2seq_rnn.fit(x=[train_input,train_output_start],y=train_output_end,epochs=50,batch_size=64,validation_split=.2,callbacks=callbacks)"
      ]
    },
    {
      "cell_type": "code",
      "execution_count": null,
      "metadata": {
        "id": "S-SqhNIjwiX_"
      },
      "outputs": [],
      "source": [
        "loss = history.history[\"loss\"]\n",
        "val_loss = history.history[\"val_loss\"]\n",
        "epochs = range(1, len(loss) + 1)\n",
        "plt.figure()\n",
        "plt.plot(epochs, loss, \"bo\", label=\"Training loss\")\n",
        "plt.plot(epochs, val_loss, \"b\", label=\"Validation loss\")\n",
        "plt.title(\"Training and validation loss\")\n",
        "plt.legend()\n",
        "plt.show()"
      ]
    },
    {
      "cell_type": "markdown",
      "metadata": {
        "id": "GPqjuAifdl33"
      },
      "source": [
        "# Transformer"
      ]
    },
    {
      "cell_type": "markdown",
      "metadata": {
        "id": "alsqL5Zrd6di"
      },
      "source": [
        "## Encoder"
      ]
    },
    {
      "cell_type": "code",
      "execution_count": null,
      "metadata": {
        "id": "EASBBwlddQa3"
      },
      "outputs": [],
      "source": [
        "class TransformerEncoder(layers.Layer):\n",
        "    def __init__(self, embed_dim, dense_dim, num_heads, **kwargs):\n",
        "        super().__init__(**kwargs)\n",
        "        self.embed_dim = embed_dim\n",
        "        self.dense_dim = dense_dim\n",
        "        self.num_heads = num_heads\n",
        "        self.attention = layers.MultiHeadAttention(\n",
        "            num_heads=num_heads, key_dim=embed_dim)\n",
        "        self.dense_proj = keras.Sequential(\n",
        "            [layers.Dense(dense_dim, activation=\"relu\"),\n",
        "             layers.Dense(embed_dim),]\n",
        "        )\n",
        "        self.layernorm_1 = layers.LayerNormalization()\n",
        "        self.layernorm_2 = layers.LayerNormalization()\n",
        "\n",
        "    def call(self, inputs, mask=None):\n",
        "        if mask is not None:\n",
        "            mask = mask[:, tf.newaxis, :]\n",
        "        attention_output = self.attention(\n",
        "            inputs, inputs, attention_mask=mask)\n",
        "        proj_input = self.layernorm_1(inputs + attention_output)\n",
        "        proj_output = self.dense_proj(proj_input)\n",
        "        return self.layernorm_2(proj_input + proj_output)\n",
        "\n",
        "    def get_config(self):\n",
        "        config = super().get_config()\n",
        "        config.update({\n",
        "            \"embed_dim\": self.embed_dim,\n",
        "            \"num_heads\": self.num_heads,\n",
        "            \"dense_dim\": self.dense_dim,\n",
        "        })\n",
        "        return config"
      ]
    },
    {
      "cell_type": "markdown",
      "metadata": {
        "id": "tmuwaekdd-V9"
      },
      "source": [
        "## Decoder"
      ]
    },
    {
      "cell_type": "code",
      "execution_count": null,
      "metadata": {
        "id": "2A95cScXdx8w"
      },
      "outputs": [],
      "source": [
        "class TransformerDecoder(layers.Layer):\n",
        "    def __init__(self, embed_dim, dense_dim, num_heads, **kwargs):\n",
        "        super().__init__(**kwargs)\n",
        "        self.embed_dim = embed_dim\n",
        "        self.dense_dim = dense_dim\n",
        "        self.num_heads = num_heads\n",
        "        self.attention_1 = layers.MultiHeadAttention(\n",
        "            num_heads=num_heads, key_dim=embed_dim)\n",
        "        self.attention_2 = layers.MultiHeadAttention(\n",
        "            num_heads=num_heads, key_dim=embed_dim)\n",
        "        self.dense_proj = keras.Sequential(\n",
        "            [layers.Dense(dense_dim, activation=\"relu\"),\n",
        "             layers.Dense(embed_dim),]\n",
        "        )\n",
        "        self.layernorm_1 = layers.LayerNormalization()\n",
        "        self.layernorm_2 = layers.LayerNormalization()\n",
        "        self.layernorm_3 = layers.LayerNormalization()\n",
        "        self.supports_masking = True\n",
        "\n",
        "    def get_config(self):\n",
        "        config = super().get_config()\n",
        "        config.update({\n",
        "            \"embed_dim\": self.embed_dim,\n",
        "            \"num_heads\": self.num_heads,\n",
        "            \"dense_dim\": self.dense_dim,\n",
        "        })\n",
        "        return config\n",
        "\n",
        "    def get_causal_attention_mask(self, inputs):\n",
        "        input_shape = tf.shape(inputs)\n",
        "        batch_size, sequence_length = input_shape[0], input_shape[1]\n",
        "        i = tf.range(sequence_length)[:, tf.newaxis]\n",
        "        j = tf.range(sequence_length)\n",
        "        mask = tf.cast(i >= j, dtype=\"int32\")\n",
        "        mask = tf.reshape(mask, (1, input_shape[1], input_shape[1]))\n",
        "        mult = tf.concat(\n",
        "            [tf.expand_dims(batch_size, -1),\n",
        "             tf.constant([1, 1], dtype=tf.int32)], axis=0)\n",
        "        return tf.tile(mask, mult)\n",
        "\n",
        "    def call(self, inputs, encoder_outputs, mask=None):\n",
        "        causal_mask = self.get_causal_attention_mask(inputs)\n",
        "        if mask is not None:\n",
        "            padding_mask = tf.cast(\n",
        "                mask[:, tf.newaxis, :], dtype=\"int32\")\n",
        "            padding_mask = tf.minimum(padding_mask, causal_mask)\n",
        "        attention_output_1 = self.attention_1(\n",
        "            query=inputs,\n",
        "            value=inputs,\n",
        "            key=inputs,\n",
        "            attention_mask=causal_mask)\n",
        "        attention_output_1 = self.layernorm_1(inputs + attention_output_1)\n",
        "        attention_output_2 = self.attention_2(\n",
        "            query=attention_output_1,\n",
        "            value=encoder_outputs,\n",
        "            key=encoder_outputs,\n",
        "            attention_mask=padding_mask,\n",
        "        )\n",
        "        attention_output_2 = self.layernorm_2(\n",
        "            attention_output_1 + attention_output_2)\n",
        "        proj_output = self.dense_proj(attention_output_2)\n",
        "        return self.layernorm_3(attention_output_2 + proj_output)"
      ]
    },
    {
      "cell_type": "markdown",
      "metadata": {
        "id": "K0hKeX6IeFea"
      },
      "source": [
        "## PositionalEmbedding"
      ]
    },
    {
      "cell_type": "code",
      "execution_count": null,
      "metadata": {
        "id": "bBGV2zfoeE_T"
      },
      "outputs": [],
      "source": [
        "class PositionalEmbedding(layers.Layer):\n",
        "    def __init__(self, sequence_length, input_dim, output_dim, **kwargs):\n",
        "        super().__init__(**kwargs)\n",
        "        self.token_embeddings = layers.Embedding(\n",
        "            input_dim=input_dim, output_dim=output_dim)\n",
        "        self.position_embeddings = layers.Embedding(\n",
        "            input_dim=sequence_length, output_dim=output_dim)\n",
        "        self.sequence_length = sequence_length\n",
        "        self.input_dim = input_dim\n",
        "        self.output_dim = output_dim\n",
        "\n",
        "    def call(self, inputs):\n",
        "        length = tf.shape(inputs)[-1]\n",
        "        positions = tf.range(start=0, limit=length, delta=1)\n",
        "        embedded_tokens = self.token_embeddings(inputs)\n",
        "        embedded_positions = self.position_embeddings(positions)\n",
        "        return embedded_tokens + embedded_positions\n",
        "\n",
        "    # Always called, return None for no mask\n",
        "    def compute_mask(self, inputs, mask=None):\n",
        "        return tf.math.not_equal(inputs, 0)\n",
        "\n",
        "    def get_config(self):\n",
        "        config = super(PositionalEmbedding, self).get_config()\n",
        "        config.update({\n",
        "            \"output_dim\": self.output_dim,\n",
        "            \"sequence_length\": self.sequence_length,\n",
        "            \"input_dim\": self.input_dim,\n",
        "        })\n",
        "        return config"
      ]
    },
    {
      "cell_type": "markdown",
      "metadata": {
        "id": "dgulvyR5eNUm"
      },
      "source": [
        "## End to End"
      ]
    },
    {
      "cell_type": "code",
      "execution_count": null,
      "metadata": {
        "id": "4tELnPyqeLF3"
      },
      "outputs": [],
      "source": [
        "embed_dim = 256\n",
        "num_heads = 8\n",
        "dense_dim = 1024\n",
        "\n",
        "vocab_size_source = 13\n",
        "vocab_size_output = 38\n",
        "sequence_length = 200\n",
        "\n",
        "encoder_inputs = keras.Input(shape=(None,))\n",
        "x = PositionalEmbedding(sequence_length, vocab_size_source, embed_dim)(encoder_inputs)\n",
        "encoder_outputs = TransformerEncoder(embed_dim, dense_dim, num_heads)(x)\n",
        "\n",
        "decoder_inputs = keras.Input(shape=(None,))\n",
        "x = PositionalEmbedding(sequence_length, vocab_size_output, embed_dim)(decoder_inputs)\n",
        "x = TransformerDecoder(embed_dim, dense_dim, num_heads)(x, encoder_outputs)\n",
        "\n",
        "x = layers.Dropout(0.5)(x)\n",
        "decoder_outputs = layers.Dense(vocab_size_output, activation=\"softmax\")(x)\n",
        "transformer = keras.Model([encoder_inputs, decoder_inputs], decoder_outputs)"
      ]
    },
    {
      "cell_type": "code",
      "execution_count": null,
      "metadata": {
        "colab": {
          "base_uri": "https://localhost:8080/",
          "height": 1000
        },
        "id": "wXjU1zj2hjVj",
        "outputId": "5aba3de2-02f4-45b0-c7f5-6554c6b08ce8"
      },
      "outputs": [
        {
          "name": "stdout",
          "output_type": "stream",
          "text": [
            "Model: \"model_1\"\n",
            "__________________________________________________________________________________________________\n",
            " Layer (type)                   Output Shape         Param #     Connected to                     \n",
            "==================================================================================================\n",
            " input_3 (InputLayer)           [(None, None)]       0           []                               \n",
            "                                                                                                  \n",
            " input_4 (InputLayer)           [(None, None)]       0           []                               \n",
            "                                                                                                  \n",
            " positional_embedding_2 (Positi  (None, None, 256)   54528       ['input_3[0][0]']                \n",
            " onalEmbedding)                                                                                   \n",
            "                                                                                                  \n",
            " positional_embedding_3 (Positi  (None, None, 256)   60928       ['input_4[0][0]']                \n",
            " onalEmbedding)                                                                                   \n",
            "                                                                                                  \n",
            " transformer_encoder_1 (Transfo  (None, None, 256)   2630144     ['positional_embedding_2[0][0]'] \n",
            " rmerEncoder)                                                                                     \n",
            "                                                                                                  \n",
            " transformer_decoder_1 (Transfo  (None, None, 256)   4734208     ['positional_embedding_3[0][0]', \n",
            " rmerDecoder)                                                     'transformer_encoder_1[0][0]']  \n",
            "                                                                                                  \n",
            " dropout_1 (Dropout)            (None, None, 256)    0           ['transformer_decoder_1[0][0]']  \n",
            "                                                                                                  \n",
            " dense_9 (Dense)                (None, None, 38)     9766        ['dropout_1[0][0]']              \n",
            "                                                                                                  \n",
            "==================================================================================================\n",
            "Total params: 7,489,574\n",
            "Trainable params: 7,489,574\n",
            "Non-trainable params: 0\n",
            "__________________________________________________________________________________________________\n"
          ]
        },
        {
          "data": {
            "image/png": "[encoded data removed]",
            "text/plain": [
              "<IPython.core.display.Image object>"
            ]
          },
          "execution_count": 17,
          "metadata": {},
          "output_type": "execute_result"
        }
      ],
      "source": [
        "transformer.summary()\n",
        "tf.keras.utils.plot_model(transformer, show_shapes=True)"
      ]
    },
    {
      "cell_type": "code",
      "execution_count": null,
      "metadata": {
        "colab": {
          "background_save": true,
          "base_uri": "https://localhost:8080/"
        },
        "id": "8kV2ZLNteTV5",
        "outputId": "86255b81-5fce-4c50-940b-9db219a16dfa"
      },
      "outputs": [
        {
          "name": "stdout",
          "output_type": "stream",
          "text": [
            "Epoch 1/100\n",
            "63/63 [==============================] - 22s 235ms/step - loss: 1.1711 - accuracy: 0.1217 - val_loss: 0.7446 - val_accuracy: 0.2118\n",
            "Epoch 2/100\n",
            "63/63 [==============================] - 15s 232ms/step - loss: 0.6861 - accuracy: 0.2719 - val_loss: 0.5573 - val_accuracy: 0.3369\n",
            "Epoch 3/100\n",
            "63/63 [==============================] - 15s 231ms/step - loss: 0.5919 - accuracy: 0.3188 - val_loss: 0.5481 - val_accuracy: 0.3585\n",
            "Epoch 4/100\n",
            "63/63 [==============================] - 15s 232ms/step - loss: 0.5495 - accuracy: 0.3488 - val_loss: 0.5118 - val_accuracy: 0.3682\n",
            "Epoch 5/100\n",
            "63/63 [==============================] - 14s 221ms/step - loss: 0.5231 - accuracy: 0.3699 - val_loss: 0.5280 - val_accuracy: 0.3634\n",
            "Epoch 6/100\n",
            "63/63 [==============================] - 15s 234ms/step - loss: 0.5035 - accuracy: 0.3841 - val_loss: 0.4464 - val_accuracy: 0.4337\n",
            "Epoch 7/100\n",
            "63/63 [==============================] - 14s 220ms/step - loss: 0.4905 - accuracy: 0.3959 - val_loss: 0.4732 - val_accuracy: 0.4044\n",
            "Epoch 8/100\n",
            "63/63 [==============================] - 14s 220ms/step - loss: 0.4714 - accuracy: 0.4095 - val_loss: 0.4483 - val_accuracy: 0.4258\n",
            "Epoch 9/100\n",
            "63/63 [==============================] - 15s 233ms/step - loss: 0.4618 - accuracy: 0.4186 - val_loss: 0.4284 - val_accuracy: 0.4441\n",
            "Epoch 10/100\n",
            "63/63 [==============================] - 14s 230ms/step - loss: 0.4503 - accuracy: 0.4281 - val_loss: 0.4052 - val_accuracy: 0.4633\n",
            "Epoch 11/100\n",
            "63/63 [==============================] - 15s 232ms/step - loss: 0.4375 - accuracy: 0.4377 - val_loss: 0.4047 - val_accuracy: 0.4610\n",
            "Epoch 12/100\n",
            "63/63 [==============================] - 15s 232ms/step - loss: 0.4260 - accuracy: 0.4475 - val_loss: 0.3871 - val_accuracy: 0.4769\n",
            "Epoch 13/100\n",
            "63/63 [==============================] - 15s 231ms/step - loss: 0.4177 - accuracy: 0.4559 - val_loss: 0.3851 - val_accuracy: 0.4868\n",
            "Epoch 14/100\n",
            "63/63 [==============================] - 15s 232ms/step - loss: 0.4078 - accuracy: 0.4633 - val_loss: 0.3755 - val_accuracy: 0.4888\n",
            "Epoch 15/100\n",
            "63/63 [==============================] - 15s 232ms/step - loss: 0.3983 - accuracy: 0.4736 - val_loss: 0.3671 - val_accuracy: 0.4977\n",
            "Epoch 16/100\n",
            "63/63 [==============================] - 15s 232ms/step - loss: 0.3849 - accuracy: 0.4852 - val_loss: 0.3594 - val_accuracy: 0.5125\n",
            "Epoch 17/100\n",
            "63/63 [==============================] - 15s 232ms/step - loss: 0.3761 - accuracy: 0.4959 - val_loss: 0.3490 - val_accuracy: 0.5137\n",
            "Epoch 18/100\n",
            "63/63 [==============================] - 14s 230ms/step - loss: 0.3643 - accuracy: 0.5060 - val_loss: 0.3322 - val_accuracy: 0.5372\n",
            "Epoch 19/100\n",
            "63/63 [==============================] - 14s 230ms/step - loss: 0.3541 - accuracy: 0.5181 - val_loss: 0.3249 - val_accuracy: 0.5431\n",
            "Epoch 20/100\n",
            "63/63 [==============================] - 15s 233ms/step - loss: 0.3459 - accuracy: 0.5233 - val_loss: 0.3154 - val_accuracy: 0.5538\n",
            "Epoch 21/100\n",
            "63/63 [==============================] - 15s 232ms/step - loss: 0.3382 - accuracy: 0.5344 - val_loss: 0.3137 - val_accuracy: 0.5603\n",
            "Epoch 22/100\n",
            "63/63 [==============================] - 14s 220ms/step - loss: 0.3296 - accuracy: 0.5410 - val_loss: 0.3942 - val_accuracy: 0.4912\n",
            "Epoch 23/100\n",
            "63/63 [==============================] - 15s 232ms/step - loss: 0.3250 - accuracy: 0.5466 - val_loss: 0.3052 - val_accuracy: 0.5609\n",
            "Epoch 24/100\n",
            "63/63 [==============================] - 14s 220ms/step - loss: 0.3225 - accuracy: 0.5513 - val_loss: 0.4223 - val_accuracy: 0.4943\n",
            "Epoch 25/100\n",
            "63/63 [==============================] - 14s 220ms/step - loss: 0.3147 - accuracy: 0.5626 - val_loss: 0.3750 - val_accuracy: 0.4995\n",
            "Epoch 26/100\n",
            "63/63 [==============================] - 15s 232ms/step - loss: 0.3158 - accuracy: 0.5666 - val_loss: 0.2992 - val_accuracy: 0.5826\n",
            "Epoch 27/100\n",
            "63/63 [==============================] - 14s 220ms/step - loss: 0.3048 - accuracy: 0.5797 - val_loss: 0.3006 - val_accuracy: 0.5703\n",
            "Epoch 28/100\n",
            "63/63 [==============================] - 15s 232ms/step - loss: 0.3029 - accuracy: 0.5880 - val_loss: 0.2968 - val_accuracy: 0.5937\n",
            "Epoch 29/100\n",
            "63/63 [==============================] - 14s 230ms/step - loss: 0.2888 - accuracy: 0.6069 - val_loss: 0.2735 - val_accuracy: 0.6219\n",
            "Epoch 30/100\n",
            "63/63 [==============================] - 14s 220ms/step - loss: 0.2817 - accuracy: 0.6207 - val_loss: 0.3323 - val_accuracy: 0.5910\n",
            "Epoch 31/100\n",
            "63/63 [==============================] - 14s 220ms/step - loss: 0.2740 - accuracy: 0.6367 - val_loss: 0.2753 - val_accuracy: 0.6398\n",
            "Epoch 32/100\n",
            "63/63 [==============================] - 15s 233ms/step - loss: 0.2658 - accuracy: 0.6490 - val_loss: 0.2651 - val_accuracy: 0.6523\n",
            "Epoch 33/100\n",
            "63/63 [==============================] - 15s 231ms/step - loss: 0.2565 - accuracy: 0.6632 - val_loss: 0.2476 - val_accuracy: 0.6676\n",
            "Epoch 34/100\n",
            "63/63 [==============================] - 15s 231ms/step - loss: 0.2529 - accuracy: 0.6706 - val_loss: 0.2331 - val_accuracy: 0.6899\n",
            "Epoch 35/100\n",
            "63/63 [==============================] - 14s 230ms/step - loss: 0.2414 - accuracy: 0.6831 - val_loss: 0.2287 - val_accuracy: 0.6975\n",
            "Epoch 36/100\n",
            "63/63 [==============================] - 14s 220ms/step - loss: 0.2334 - accuracy: 0.6919 - val_loss: 0.2584 - val_accuracy: 0.6737\n",
            "Epoch 37/100\n",
            "63/63 [==============================] - 14s 220ms/step - loss: 0.2313 - accuracy: 0.6967 - val_loss: 0.2405 - val_accuracy: 0.6884\n",
            "Epoch 38/100\n",
            "63/63 [==============================] - 15s 233ms/step - loss: 0.2246 - accuracy: 0.7063 - val_loss: 0.2194 - val_accuracy: 0.7112\n",
            "Epoch 39/100\n",
            "63/63 [==============================] - 14s 220ms/step - loss: 0.2176 - accuracy: 0.7151 - val_loss: 0.2209 - val_accuracy: 0.7069\n",
            "Epoch 40/100\n",
            "63/63 [==============================] - 15s 232ms/step - loss: 0.2129 - accuracy: 0.7199 - val_loss: 0.2124 - val_accuracy: 0.7232\n",
            "Epoch 41/100\n",
            "63/63 [==============================] - 14s 220ms/step - loss: 0.2051 - accuracy: 0.7300 - val_loss: 0.2386 - val_accuracy: 0.6998\n",
            "Epoch 42/100\n",
            "63/63 [==============================] - 15s 232ms/step - loss: 0.2037 - accuracy: 0.7345 - val_loss: 0.2072 - val_accuracy: 0.7352\n",
            "Epoch 43/100\n",
            "63/63 [==============================] - 15s 231ms/step - loss: 0.1960 - accuracy: 0.7444 - val_loss: 0.1929 - val_accuracy: 0.7436\n",
            "Epoch 44/100\n",
            "63/63 [==============================] - 15s 231ms/step - loss: 0.1916 - accuracy: 0.7505 - val_loss: 0.1826 - val_accuracy: 0.7629\n",
            "Epoch 45/100\n",
            "63/63 [==============================] - 14s 219ms/step - loss: 0.1849 - accuracy: 0.7597 - val_loss: 0.1883 - val_accuracy: 0.7519\n",
            "Epoch 46/100\n",
            "63/63 [==============================] - 14s 219ms/step - loss: 0.1782 - accuracy: 0.7668 - val_loss: 0.1857 - val_accuracy: 0.7567\n",
            "Epoch 47/100\n",
            "63/63 [==============================] - 15s 236ms/step - loss: 0.1788 - accuracy: 0.7695 - val_loss: 0.1802 - val_accuracy: 0.7675\n",
            "Epoch 48/100\n",
            "63/63 [==============================] - 15s 238ms/step - loss: 0.1688 - accuracy: 0.7808 - val_loss: 0.1792 - val_accuracy: 0.7671\n",
            "Epoch 49/100\n",
            "63/63 [==============================] - 14s 230ms/step - loss: 0.1658 - accuracy: 0.7865 - val_loss: 0.1762 - val_accuracy: 0.7732\n",
            "Epoch 50/100\n",
            "63/63 [==============================] - 15s 231ms/step - loss: 0.1618 - accuracy: 0.7910 - val_loss: 0.1641 - val_accuracy: 0.7907\n",
            "Epoch 51/100\n",
            "63/63 [==============================] - 14s 220ms/step - loss: 0.1545 - accuracy: 0.7998 - val_loss: 0.1688 - val_accuracy: 0.7856\n",
            "Epoch 52/100\n",
            "63/63 [==============================] - 15s 233ms/step - loss: 0.1532 - accuracy: 0.8046 - val_loss: 0.1569 - val_accuracy: 0.7974\n",
            "Epoch 53/100\n",
            "63/63 [==============================] - 14s 220ms/step - loss: 0.1456 - accuracy: 0.8126 - val_loss: 0.1607 - val_accuracy: 0.7928\n",
            "Epoch 54/100\n",
            "63/63 [==============================] - 15s 232ms/step - loss: 0.1427 - accuracy: 0.8179 - val_loss: 0.1481 - val_accuracy: 0.8126\n",
            "Epoch 55/100\n",
            "63/63 [==============================] - 14s 219ms/step - loss: 0.1378 - accuracy: 0.8245 - val_loss: 0.1584 - val_accuracy: 0.7977\n",
            "Epoch 56/100\n",
            "63/63 [==============================] - 14s 219ms/step - loss: 0.1376 - accuracy: 0.8282 - val_loss: 0.1621 - val_accuracy: 0.7944\n",
            "Epoch 57/100\n",
            "63/63 [==============================] - 14s 220ms/step - loss: 0.1292 - accuracy: 0.8364 - val_loss: 0.1614 - val_accuracy: 0.8105\n",
            "Epoch 58/100\n",
            "63/63 [==============================] - 15s 232ms/step - loss: 0.1277 - accuracy: 0.8395 - val_loss: 0.1377 - val_accuracy: 0.8326\n",
            "Epoch 59/100\n",
            "63/63 [==============================] - 14s 219ms/step - loss: 0.1237 - accuracy: 0.8452 - val_loss: 0.1598 - val_accuracy: 0.8173\n",
            "Epoch 60/100\n",
            "63/63 [==============================] - 14s 219ms/step - loss: 0.1200 - accuracy: 0.8506 - val_loss: 0.1443 - val_accuracy: 0.8214\n",
            "Epoch 61/100\n",
            "63/63 [==============================] - 15s 232ms/step - loss: 0.1146 - accuracy: 0.8574 - val_loss: 0.1228 - val_accuracy: 0.8492\n",
            "Epoch 62/100\n",
            "63/63 [==============================] - 15s 231ms/step - loss: 0.1109 - accuracy: 0.8617 - val_loss: 0.1138 - val_accuracy: 0.8638\n",
            "Epoch 63/100\n",
            "63/63 [==============================] - 14s 220ms/step - loss: 0.1086 - accuracy: 0.8663 - val_loss: 0.1265 - val_accuracy: 0.8490\n",
            "Epoch 64/100\n",
            "63/63 [==============================] - 14s 220ms/step - loss: 0.1035 - accuracy: 0.8716 - val_loss: 0.1689 - val_accuracy: 0.8202\n",
            "Epoch 65/100\n",
            "63/63 [==============================] - 14s 220ms/step - loss: 0.1014 - accuracy: 0.8772 - val_loss: 0.1279 - val_accuracy: 0.8417\n",
            "Epoch 66/100\n",
            "63/63 [==============================] - 14s 220ms/step - loss: 0.0991 - accuracy: 0.8800 - val_loss: 0.1444 - val_accuracy: 0.8281\n",
            "Epoch 67/100\n",
            "63/63 [==============================] - 15s 232ms/step - loss: 0.0951 - accuracy: 0.8850 - val_loss: 0.1009 - val_accuracy: 0.8803\n",
            "Epoch 68/100\n",
            "63/63 [==============================] - 14s 219ms/step - loss: 0.0909 - accuracy: 0.8898 - val_loss: 0.1025 - val_accuracy: 0.8765\n",
            "Epoch 69/100\n",
            "63/63 [==============================] - 15s 233ms/step - loss: 0.0897 - accuracy: 0.8930 - val_loss: 0.0919 - val_accuracy: 0.8894\n",
            "Epoch 70/100\n",
            "63/63 [==============================] - 14s 220ms/step - loss: 0.0846 - accuracy: 0.8983 - val_loss: 0.1408 - val_accuracy: 0.8559\n",
            "Epoch 71/100\n",
            "63/63 [==============================] - 15s 232ms/step - loss: 0.0834 - accuracy: 0.9010 - val_loss: 0.0891 - val_accuracy: 0.8933\n",
            "Epoch 72/100\n",
            "63/63 [==============================] - 14s 219ms/step - loss: 0.0792 - accuracy: 0.9062 - val_loss: 0.0892 - val_accuracy: 0.8928\n",
            "Epoch 73/100\n",
            "63/63 [==============================] - 14s 220ms/step - loss: 0.0770 - accuracy: 0.9090 - val_loss: 0.1034 - val_accuracy: 0.8834\n",
            "Epoch 74/100\n",
            "63/63 [==============================] - 14s 220ms/step - loss: 0.0757 - accuracy: 0.9103 - val_loss: 0.0941 - val_accuracy: 0.8898\n",
            "Epoch 75/100\n",
            "63/63 [==============================] - 14s 220ms/step - loss: 0.0728 - accuracy: 0.9147 - val_loss: 0.0906 - val_accuracy: 0.8949\n",
            "Epoch 76/100\n",
            "63/63 [==============================] - 15s 232ms/step - loss: 0.0696 - accuracy: 0.9172 - val_loss: 0.0818 - val_accuracy: 0.9058\n",
            "Epoch 77/100\n",
            "63/63 [==============================] - 14s 220ms/step - loss: 0.0679 - accuracy: 0.9198 - val_loss: 0.0944 - val_accuracy: 0.8934\n",
            "Epoch 78/100\n",
            "63/63 [==============================] - 14s 220ms/step - loss: 0.0664 - accuracy: 0.9239 - val_loss: 0.1027 - val_accuracy: 0.8865\n",
            "Epoch 79/100\n",
            "63/63 [==============================] - 14s 220ms/step - loss: 0.0644 - accuracy: 0.9242 - val_loss: 0.0984 - val_accuracy: 0.8860\n",
            "Epoch 80/100\n",
            "63/63 [==============================] - 14s 219ms/step - loss: 0.0616 - accuracy: 0.9285 - val_loss: 0.1133 - val_accuracy: 0.8796\n",
            "Epoch 81/100\n",
            "63/63 [==============================] - 14s 219ms/step - loss: 0.0596 - accuracy: 0.9304 - val_loss: 0.0874 - val_accuracy: 0.9027\n",
            "Epoch 82/100\n",
            "63/63 [==============================] - 14s 220ms/step - loss: 0.0590 - accuracy: 0.9324 - val_loss: 0.0965 - val_accuracy: 0.8951\n",
            "Epoch 83/100\n",
            "63/63 [==============================] - 14s 220ms/step - loss: 0.0597 - accuracy: 0.9320 - val_loss: 0.1325 - val_accuracy: 0.8682\n",
            "Epoch 84/100\n",
            "63/63 [==============================] - 15s 232ms/step - loss: 0.0532 - accuracy: 0.9393 - val_loss: 0.0773 - val_accuracy: 0.9140\n",
            "Epoch 85/100\n",
            "63/63 [==============================] - 14s 220ms/step - loss: 0.0534 - accuracy: 0.9386 - val_loss: 0.0935 - val_accuracy: 0.8971\n",
            "Epoch 86/100\n",
            "63/63 [==============================] - 15s 231ms/step - loss: 0.0538 - accuracy: 0.9397 - val_loss: 0.0730 - val_accuracy: 0.9172\n",
            "Epoch 87/100\n",
            "63/63 [==============================] - 14s 220ms/step - loss: 0.0522 - accuracy: 0.9421 - val_loss: 0.0802 - val_accuracy: 0.9133\n",
            "Epoch 88/100\n",
            "63/63 [==============================] - 14s 219ms/step - loss: 0.0506 - accuracy: 0.9431 - val_loss: 0.0835 - val_accuracy: 0.9095\n",
            "Epoch 89/100\n",
            "63/63 [==============================] - 14s 220ms/step - loss: 0.0476 - accuracy: 0.9459 - val_loss: 0.0746 - val_accuracy: 0.9203\n",
            "Epoch 90/100\n",
            "63/63 [==============================] - 15s 231ms/step - loss: 0.0477 - accuracy: 0.9465 - val_loss: 0.0695 - val_accuracy: 0.9252\n",
            "Epoch 91/100\n",
            "63/63 [==============================] - 15s 233ms/step - loss: 0.0455 - accuracy: 0.9478 - val_loss: 0.0667 - val_accuracy: 0.9262\n",
            "Epoch 92/100\n",
            "63/63 [==============================] - 15s 232ms/step - loss: 0.0448 - accuracy: 0.9500 - val_loss: 0.0613 - val_accuracy: 0.9332\n",
            "Epoch 93/100\n",
            "63/63 [==============================] - 14s 219ms/step - loss: 0.0428 - accuracy: 0.9518 - val_loss: 0.1129 - val_accuracy: 0.8848\n",
            "Epoch 94/100\n",
            "63/63 [==============================] - 14s 220ms/step - loss: 0.0434 - accuracy: 0.9524 - val_loss: 0.1155 - val_accuracy: 0.8852\n",
            "Epoch 95/100\n",
            "63/63 [==============================] - 14s 220ms/step - loss: 0.0421 - accuracy: 0.9525 - val_loss: 0.0643 - val_accuracy: 0.9307\n",
            "Epoch 96/100\n",
            "63/63 [==============================] - 14s 220ms/step - loss: 0.0391 - accuracy: 0.9562 - val_loss: 0.0735 - val_accuracy: 0.9263\n",
            "Epoch 97/100\n",
            "63/63 [==============================] - 14s 220ms/step - loss: 0.0405 - accuracy: 0.9550 - val_loss: 0.0645 - val_accuracy: 0.9319\n",
            "Epoch 98/100\n",
            "63/63 [==============================] - 14s 219ms/step - loss: 0.0396 - accuracy: 0.9572 - val_loss: 0.0653 - val_accuracy: 0.9305\n",
            "Epoch 99/100\n",
            "63/63 [==============================] - 14s 220ms/step - loss: 0.0374 - accuracy: 0.9596 - val_loss: 0.0631 - val_accuracy: 0.9356\n",
            "Epoch 100/100\n",
            "63/63 [==============================] - 14s 219ms/step - loss: 0.0357 - accuracy: 0.9608 - val_loss: 0.0665 - val_accuracy: 0.9327\n"
          ]
        }
      ],
      "source": [
        "transformer.compile(\n",
        "    optimizer=\"rmsprop\",\n",
        "    loss=\"sparse_categorical_crossentropy\",\n",
        "    metrics=[\"accuracy\"])\n",
        "\n",
        "callbacks = [\n",
        "    keras.callbacks.ModelCheckpoint(\n",
        "        filepath=\"/content/drive/MyDrive/Colab Notebooks/transformer.keras\",\n",
        "        save_best_only=True,\n",
        "        monitor=\"val_loss\"),\n",
        "    keras.callbacks.EarlyStopping(\n",
        "        monitor=\"val_loss\",\n",
        "        patience=10,\n",
        "        verbose=1,\n",
        "        restore_best_weights=True)\n",
        "]\n",
        "\n",
        "history = transformer.fit(x=[train_input,train_output_start],y=train_output_end,epochs=100,batch_size=64,validation_split=.2,callbacks=callbacks)"
      ]
    },
    {
      "cell_type": "code",
      "execution_count": null,
      "metadata": {
        "colab": {
          "background_save": true
        },
        "id": "q_zm5Y36nsdx",
        "outputId": "19e3c1d2-fd91-4a3b-ee5f-3d9c730be7a7"
      },
      "outputs": [
        {
          "data": {
            "image/png": "[encoded data removed]",
            "text/plain": [
              "<Figure size 432x288 with 1 Axes>"
            ]
          },
          "metadata": {},
          "output_type": "display_data"
        }
      ],
      "source": [
        "loss = history.history[\"loss\"]\n",
        "val_loss = history.history[\"val_loss\"]\n",
        "epochs = range(1, len(loss) + 1)\n",
        "plt.figure()\n",
        "plt.plot(epochs, loss, \"bo\", label=\"Training loss\")\n",
        "plt.plot(epochs, val_loss, \"b\", label=\"Validation loss\")\n",
        "plt.title(\"Training and validation loss\")\n",
        "plt.legend()\n",
        "plt.show()"
      ]
    },
    {
      "cell_type": "markdown",
      "metadata": {
        "id": "e1Y6lJypc2Bn"
      },
      "source": [
        "# Inference/Test"
      ]
    },
    {
      "cell_type": "markdown",
      "source": [
        "## Load Libraries/Classes/Methods"
      ],
      "metadata": {
        "id": "pmW7-cZYzPS1"
      }
    },
    {
      "cell_type": "code",
      "source": [
        "import pickle\n",
        "import tensorflow as tf\n",
        "import numpy as np\n",
        "from tensorflow import keras\n",
        "from tensorflow.keras import layers\n",
        "from matplotlib import pyplot as plt\n",
        "rng = np.random.default_rng()\n",
        "\n",
        "class TransformerEncoder(layers.Layer):\n",
        "    def __init__(self, embed_dim, dense_dim, num_heads, **kwargs):\n",
        "        super().__init__(**kwargs)\n",
        "        self.embed_dim = embed_dim\n",
        "        self.dense_dim = dense_dim\n",
        "        self.num_heads = num_heads\n",
        "        self.attention = layers.MultiHeadAttention(\n",
        "            num_heads=num_heads, key_dim=embed_dim)\n",
        "        self.dense_proj = keras.Sequential(\n",
        "            [layers.Dense(dense_dim, activation=\"relu\"),\n",
        "             layers.Dense(embed_dim),]\n",
        "        )\n",
        "        self.layernorm_1 = layers.LayerNormalization()\n",
        "        self.layernorm_2 = layers.LayerNormalization()\n",
        "\n",
        "    def call(self, inputs, mask=None):\n",
        "        if mask is not None:\n",
        "            mask = mask[:, tf.newaxis, :]\n",
        "        attention_output = self.attention(\n",
        "            inputs, inputs, attention_mask=mask)\n",
        "        proj_input = self.layernorm_1(inputs + attention_output)\n",
        "        proj_output = self.dense_proj(proj_input)\n",
        "        return self.layernorm_2(proj_input + proj_output)\n",
        "\n",
        "    def get_config(self):\n",
        "        config = super().get_config()\n",
        "        config.update({\n",
        "            \"embed_dim\": self.embed_dim,\n",
        "            \"num_heads\": self.num_heads,\n",
        "            \"dense_dim\": self.dense_dim,\n",
        "        })\n",
        "        return config\n",
        "\n",
        "class TransformerDecoder(layers.Layer):\n",
        "    def __init__(self, embed_dim, dense_dim, num_heads, **kwargs):\n",
        "        super().__init__(**kwargs)\n",
        "        self.embed_dim = embed_dim\n",
        "        self.dense_dim = dense_dim\n",
        "        self.num_heads = num_heads\n",
        "        self.attention_1 = layers.MultiHeadAttention(\n",
        "            num_heads=num_heads, key_dim=embed_dim)\n",
        "        self.attention_2 = layers.MultiHeadAttention(\n",
        "            num_heads=num_heads, key_dim=embed_dim)\n",
        "        self.dense_proj = keras.Sequential(\n",
        "            [layers.Dense(dense_dim, activation=\"relu\"),\n",
        "             layers.Dense(embed_dim),]\n",
        "        )\n",
        "        self.layernorm_1 = layers.LayerNormalization()\n",
        "        self.layernorm_2 = layers.LayerNormalization()\n",
        "        self.layernorm_3 = layers.LayerNormalization()\n",
        "        self.supports_masking = True\n",
        "\n",
        "    def get_config(self):\n",
        "        config = super().get_config()\n",
        "        config.update({\n",
        "            \"embed_dim\": self.embed_dim,\n",
        "            \"num_heads\": self.num_heads,\n",
        "            \"dense_dim\": self.dense_dim,\n",
        "        })\n",
        "        return config\n",
        "\n",
        "    def get_causal_attention_mask(self, inputs):\n",
        "        input_shape = tf.shape(inputs)\n",
        "        batch_size, sequence_length = input_shape[0], input_shape[1]\n",
        "        i = tf.range(sequence_length)[:, tf.newaxis]\n",
        "        j = tf.range(sequence_length)\n",
        "        mask = tf.cast(i >= j, dtype=\"int32\")\n",
        "        mask = tf.reshape(mask, (1, input_shape[1], input_shape[1]))\n",
        "        mult = tf.concat(\n",
        "            [tf.expand_dims(batch_size, -1),\n",
        "             tf.constant([1, 1], dtype=tf.int32)], axis=0)\n",
        "        return tf.tile(mask, mult)\n",
        "\n",
        "    def call(self, inputs, encoder_outputs, mask=None):\n",
        "        causal_mask = self.get_causal_attention_mask(inputs)\n",
        "        if mask is not None:\n",
        "            padding_mask = tf.cast(\n",
        "                mask[:, tf.newaxis, :], dtype=\"int32\")\n",
        "            padding_mask = tf.minimum(padding_mask, causal_mask)\n",
        "        attention_output_1 = self.attention_1(\n",
        "            query=inputs,\n",
        "            value=inputs,\n",
        "            key=inputs,\n",
        "            attention_mask=causal_mask)\n",
        "        attention_output_1 = self.layernorm_1(inputs + attention_output_1)\n",
        "        attention_output_2 = self.attention_2(\n",
        "            query=attention_output_1,\n",
        "            value=encoder_outputs,\n",
        "            key=encoder_outputs,\n",
        "            attention_mask=padding_mask,\n",
        "        )\n",
        "        attention_output_2 = self.layernorm_2(\n",
        "            attention_output_1 + attention_output_2)\n",
        "        proj_output = self.dense_proj(attention_output_2)\n",
        "        return self.layernorm_3(attention_output_2 + proj_output)\n",
        "\n",
        "class PositionalEmbedding(layers.Layer):\n",
        "    def __init__(self, sequence_length, input_dim, output_dim, **kwargs):\n",
        "        super().__init__(**kwargs)\n",
        "        self.token_embeddings = layers.Embedding(\n",
        "            input_dim=input_dim, output_dim=output_dim)\n",
        "        self.position_embeddings = layers.Embedding(\n",
        "            input_dim=sequence_length, output_dim=output_dim)\n",
        "        self.sequence_length = sequence_length\n",
        "        self.input_dim = input_dim\n",
        "        self.output_dim = output_dim\n",
        "\n",
        "    def call(self, inputs):\n",
        "        length = tf.shape(inputs)[-1]\n",
        "        positions = tf.range(start=0, limit=length, delta=1)\n",
        "        embedded_tokens = self.token_embeddings(inputs)\n",
        "        embedded_positions = self.position_embeddings(positions)\n",
        "        return embedded_tokens + embedded_positions\n",
        "\n",
        "    # Always called, return None for no mask\n",
        "    def compute_mask(self, inputs, mask=None):\n",
        "        return tf.math.not_equal(inputs, 0)\n",
        "\n",
        "    def get_config(self):\n",
        "        config = super(PositionalEmbedding, self).get_config()\n",
        "        config.update({\n",
        "            \"output_dim\": self.output_dim,\n",
        "            \"sequence_length\": self.sequence_length,\n",
        "            \"input_dim\": self.input_dim,\n",
        "        })\n",
        "        return config\n",
        "\n",
        "encoder_vectorize = tf.keras.layers.TextVectorization(output_mode='int', output_sequence_length=200, vocabulary= ['', '[UNK]', 'a', 'b', 'c', 'e', 'g', 'd', 'f', 'k', 'i', 'j', 'h'])\n",
        "decoder_vectorize = tf.keras.layers.TextVectorization(output_mode='int', output_sequence_length=200, vocabulary= ['', '[UNK]', 'a', 'b', 'c', 'e', 'g', 'd', 'f', 'k', 'i', 'j', 'h', 'start', 'm', 'l', 'end', 'eh', 'eg', 'ef', 'ee', 'ed', 'ei', 'ej', 'ek', 'el', 'em', 'fd', 'fe', 'ff', 'fg', 'fh', 'fi', 'fj', 'fk', 'fl', 'fm', 'gd'])\n",
        "inverse_vectorize = dict(zip(range(38), ['', '[UNK]', 'a', 'b', 'c', 'e', 'g', 'd', 'f', 'k', 'i', 'j', 'h', 'start', 'm', 'l', 'end', 'eh', 'eg', 'ef', 'ee', 'ed', 'ei', 'ej', 'ek', 'el', 'em', 'fd', 'fe', 'ff', 'fg', 'fh', 'fi', 'fj', 'fk', 'fl', 'fm', 'gd']))\n",
        "\n",
        "# def decode_sequence(input_sentence):\n",
        "#   outputs = []\n",
        "#   for j in range(0, input_sentence.shape[0]):\n",
        "#       decoded_sentence = np.asarray([\"start\"])\n",
        "#       for i in range(0, 200):\n",
        "#           predictions = transformer([input_sentence[j:j+1], decoder_vectorize(decoded_sentence)])\n",
        "#           sampled_token_index = np.argmax(predictions[0, i, :])\n",
        "#           sampled_token = inverse_vectorize[sampled_token_index]\n",
        "#           if sampled_token == \"end\":\n",
        "#             break\n",
        "#           decoded_sentence = np.char.add(decoded_sentence, \" \")\n",
        "#           decoded_sentence = np.char.add(decoded_sentence, sampled_token)\n",
        "#       outputs.append(decoded_sentence[0][6:])\n",
        "#   return outputs\n",
        "\n",
        "# def decode_sequence(input_sentence):\n",
        "#   outputs = []\n",
        "#   for j in range(0, input_sentence.shape[0]):\n",
        "#       decoded_sentence = np.asarray([\"start\"])\n",
        "#       temp = encoder_path(input_sentence[j:j+1])\n",
        "#       for i in range(0, 200):\n",
        "#           predictions = decoder_path([decoder_vectorize(decoded_sentence),temp])\n",
        "#           sampled_token_index = np.argmax(predictions[0, i, :])\n",
        "#           sampled_token = inverse_vectorize[sampled_token_index]\n",
        "#           if sampled_token == \"end\":\n",
        "#             break\n",
        "#           decoded_sentence = np.char.add(decoded_sentence, \" \")\n",
        "#           decoded_sentence = np.char.add(decoded_sentence, sampled_token)\n",
        "#       outputs.append(decoded_sentence[0][6:])\n",
        "#   return outputs\n",
        "\n",
        "# def decode_sequence(input_sentence):\n",
        "#   outputs = []\n",
        "#   temp = encoder_path(input_sentence)\n",
        "#   for j in range(0, input_sentence.shape[0]):\n",
        "#       decoded_sentence = np.asarray([\"start\"])\n",
        "#       for i in range(0, 200):\n",
        "#           predictions = decoder_path([decoder_vectorize(decoded_sentence),temp[j:j+1]])\n",
        "#           sampled_token_index = np.argmax(predictions[0, i, :])\n",
        "#           sampled_token = inverse_vectorize[sampled_token_index]\n",
        "#           if sampled_token == \"end\":\n",
        "#             break\n",
        "#           decoded_sentence = np.char.add(decoded_sentence, \" \")\n",
        "#           decoded_sentence = np.char.add(decoded_sentence, sampled_token)\n",
        "#       outputs.append(decoded_sentence[0][6:])\n",
        "#   return outputs\n",
        "\n",
        "def decode_sequence(input_chunk):\n",
        "  encoded_chunk = encoder_path(input_chunk)\n",
        "  decoded_chunk = np.asarray([\"start\"])\n",
        "  decoded_chunk = np.repeat(decoded_chunk,input_chunk.shape[0])\n",
        "  for i in range(0, 200):\n",
        "    predictions = decoder_path([decoder_vectorize(decoded_chunk),encoded_chunk])\n",
        "    sampled_token_index = np.argmax(predictions[:, i, :], axis=1)\n",
        "    sampled_token = np.vectorize(inverse_vectorize.get)(sampled_token_index)\n",
        "    decoded_chunk = np.char.add(decoded_chunk, \" \")\n",
        "    decoded_chunk = np.char.add(decoded_chunk, sampled_token)\n",
        "  return decoded_chunk"
      ],
      "metadata": {
        "id": "t-FC4FuLzDe0"
      },
      "execution_count": null,
      "outputs": []
    },
    {
      "cell_type": "code",
      "source": [
        "temp = encoder_path(test_input[0:100])\n",
        "temp.shape"
      ],
      "metadata": {
        "colab": {
          "base_uri": "https://localhost:8080/"
        },
        "id": "7C6ri2w1fgcA",
        "outputId": "776b30dd-d62b-487e-aa25-8157879849b1"
      },
      "execution_count": null,
      "outputs": [
        {
          "output_type": "execute_result",
          "data": {
            "text/plain": [
              "TensorShape([100, 200, 256])"
            ]
          },
          "metadata": {},
          "execution_count": 31
        }
      ]
    },
    {
      "cell_type": "code",
      "source": [
        "decoded_sentence = np.asarray([\"start\"])\n",
        "decoded_sentence = np.repeat(decoded_sentence,test_input[0:100].shape[0])\n",
        "decoded_sentence.shape"
      ],
      "metadata": {
        "colab": {
          "base_uri": "https://localhost:8080/"
        },
        "id": "-FNmMJhigdmy",
        "outputId": "ee1e2c07-57e6-418a-aa5e-d043c85de219"
      },
      "execution_count": null,
      "outputs": [
        {
          "output_type": "execute_result",
          "data": {
            "text/plain": [
              "(100,)"
            ]
          },
          "metadata": {},
          "execution_count": 32
        }
      ]
    },
    {
      "cell_type": "code",
      "source": [
        "predictions = decoder_path([decoder_vectorize(decoded_sentence),temp])\n",
        "predictions.shape"
      ],
      "metadata": {
        "colab": {
          "base_uri": "https://localhost:8080/"
        },
        "id": "cnFwDnAOg3BT",
        "outputId": "ab967efd-6092-47b8-a109-7682550f7251"
      },
      "execution_count": null,
      "outputs": [
        {
          "output_type": "execute_result",
          "data": {
            "text/plain": [
              "TensorShape([100, 200, 38])"
            ]
          },
          "metadata": {},
          "execution_count": 33
        }
      ]
    },
    {
      "cell_type": "code",
      "source": [
        "sampled_token_index = np.argmax(predictions[:, 0, :], axis=1)\n",
        "sampled_token_index.shape"
      ],
      "metadata": {
        "colab": {
          "base_uri": "https://localhost:8080/"
        },
        "id": "Kyv79bg4hccH",
        "outputId": "8dc88f36-ef2c-4b6b-9adf-29bdf3ef6a32"
      },
      "execution_count": null,
      "outputs": [
        {
          "output_type": "execute_result",
          "data": {
            "text/plain": [
              "(100,)"
            ]
          },
          "metadata": {},
          "execution_count": 34
        }
      ]
    },
    {
      "cell_type": "code",
      "source": [
        "sampled_token_index"
      ],
      "metadata": {
        "colab": {
          "base_uri": "https://localhost:8080/"
        },
        "id": "bjBdwjADhoQh",
        "outputId": "2f98d2d9-2171-48db-c352-8c3b652c2322"
      },
      "execution_count": null,
      "outputs": [
        {
          "output_type": "execute_result",
          "data": {
            "text/plain": [
              "array([3, 3, 4, 3, 3, 4, 4, 4, 3, 3, 3, 4, 3, 4, 3, 3, 3, 4, 4, 4, 3, 3,\n",
              "       3, 3, 3, 3, 4, 4, 3, 3, 4, 4, 4, 4, 4, 3, 3, 4, 3, 3, 3, 3, 3, 3,\n",
              "       4, 3, 4, 4, 3, 4, 4, 3, 4, 3, 4, 4, 3, 4, 3, 3, 3, 4, 3, 4, 3, 4,\n",
              "       4, 4, 4, 4, 4, 3, 3, 3, 4, 3, 4, 3, 3, 4, 3, 4, 3, 3, 4, 3, 4, 3,\n",
              "       3, 3, 3, 3, 3, 4, 3, 4, 4, 4, 3, 4])"
            ]
          },
          "metadata": {},
          "execution_count": 35
        }
      ]
    },
    {
      "cell_type": "code",
      "source": [
        "sampled_token = np.vectorize(inverse_vectorize.get)(sampled_token_index)\n",
        "sampled_token.shape\n"
      ],
      "metadata": {
        "colab": {
          "base_uri": "https://localhost:8080/"
        },
        "id": "PQkqIC6Ch05d",
        "outputId": "5c44d9ab-9451-4817-f101-37f0cf494210"
      },
      "execution_count": null,
      "outputs": [
        {
          "output_type": "execute_result",
          "data": {
            "text/plain": [
              "(100,)"
            ]
          },
          "metadata": {},
          "execution_count": 36
        }
      ]
    },
    {
      "cell_type": "code",
      "source": [
        "sampled_token"
      ],
      "metadata": {
        "colab": {
          "base_uri": "https://localhost:8080/"
        },
        "id": "u0cOLpjMiPjC",
        "outputId": "690a7409-7a4e-46f6-9948-80ab7492b477"
      },
      "execution_count": null,
      "outputs": [
        {
          "output_type": "execute_result",
          "data": {
            "text/plain": [
              "array(['b', 'b', 'c', 'b', 'b', 'c', 'c', 'c', 'b', 'b', 'b', 'c', 'b',\n",
              "       'c', 'b', 'b', 'b', 'c', 'c', 'c', 'b', 'b', 'b', 'b', 'b', 'b',\n",
              "       'c', 'c', 'b', 'b', 'c', 'c', 'c', 'c', 'c', 'b', 'b', 'c', 'b',\n",
              "       'b', 'b', 'b', 'b', 'b', 'c', 'b', 'c', 'c', 'b', 'c', 'c', 'b',\n",
              "       'c', 'b', 'c', 'c', 'b', 'c', 'b', 'b', 'b', 'c', 'b', 'c', 'b',\n",
              "       'c', 'c', 'c', 'c', 'c', 'c', 'b', 'b', 'b', 'c', 'b', 'c', 'b',\n",
              "       'b', 'c', 'b', 'c', 'b', 'b', 'c', 'b', 'c', 'b', 'b', 'b', 'b',\n",
              "       'b', 'b', 'c', 'b', 'c', 'c', 'c', 'b', 'c'], dtype='<U1')"
            ]
          },
          "metadata": {},
          "execution_count": 37
        }
      ]
    },
    {
      "cell_type": "code",
      "source": [
        "decoded_sentence"
      ],
      "metadata": {
        "colab": {
          "base_uri": "https://localhost:8080/"
        },
        "id": "xDXdDhdQtAaC",
        "outputId": "f8ed4630-b423-46e8-b9fb-649f276c8119"
      },
      "execution_count": null,
      "outputs": [
        {
          "output_type": "execute_result",
          "data": {
            "text/plain": [
              "array(['start', 'start', 'start', 'start', 'start', 'start', 'start',\n",
              "       'start', 'start', 'start', 'start', 'start', 'start', 'start',\n",
              "       'start', 'start', 'start', 'start', 'start', 'start', 'start',\n",
              "       'start', 'start', 'start', 'start', 'start', 'start', 'start',\n",
              "       'start', 'start', 'start', 'start', 'start', 'start', 'start',\n",
              "       'start', 'start', 'start', 'start', 'start', 'start', 'start',\n",
              "       'start', 'start', 'start', 'start', 'start', 'start', 'start',\n",
              "       'start', 'start', 'start', 'start', 'start', 'start', 'start',\n",
              "       'start', 'start', 'start', 'start', 'start', 'start', 'start',\n",
              "       'start', 'start', 'start', 'start', 'start', 'start', 'start',\n",
              "       'start', 'start', 'start', 'start', 'start', 'start', 'start',\n",
              "       'start', 'start', 'start', 'start', 'start', 'start', 'start',\n",
              "       'start', 'start', 'start', 'start', 'start', 'start', 'start',\n",
              "       'start', 'start', 'start', 'start', 'start', 'start', 'start',\n",
              "       'start', 'start'], dtype='<U5')"
            ]
          },
          "metadata": {},
          "execution_count": 38
        }
      ]
    },
    {
      "cell_type": "code",
      "source": [
        "decoded_sentence = np.char.add(decoded_sentence, \" \")\n",
        "decoded_sentence = np.char.add(decoded_sentence, sampled_token)\n"
      ],
      "metadata": {
        "id": "qFM_5Btrsobf"
      },
      "execution_count": null,
      "outputs": []
    },
    {
      "cell_type": "code",
      "source": [
        "decoded_sentence"
      ],
      "metadata": {
        "colab": {
          "base_uri": "https://localhost:8080/"
        },
        "id": "5Te1_8fkt7Tj",
        "outputId": "9c4e0998-1b71-48ea-e9e3-3455b544d678"
      },
      "execution_count": null,
      "outputs": [
        {
          "output_type": "execute_result",
          "data": {
            "text/plain": [
              "array(['start b', 'start b', 'start c', 'start b', 'start b', 'start c',\n",
              "       'start c', 'start c', 'start b', 'start b', 'start b', 'start c',\n",
              "       'start b', 'start c', 'start b', 'start b', 'start b', 'start c',\n",
              "       'start c', 'start c', 'start b', 'start b', 'start b', 'start b',\n",
              "       'start b', 'start b', 'start c', 'start c', 'start b', 'start b',\n",
              "       'start c', 'start c', 'start c', 'start c', 'start c', 'start b',\n",
              "       'start b', 'start c', 'start b', 'start b', 'start b', 'start b',\n",
              "       'start b', 'start b', 'start c', 'start b', 'start c', 'start c',\n",
              "       'start b', 'start c', 'start c', 'start b', 'start c', 'start b',\n",
              "       'start c', 'start c', 'start b', 'start c', 'start b', 'start b',\n",
              "       'start b', 'start c', 'start b', 'start c', 'start b', 'start c',\n",
              "       'start c', 'start c', 'start c', 'start c', 'start c', 'start b',\n",
              "       'start b', 'start b', 'start c', 'start b', 'start c', 'start b',\n",
              "       'start b', 'start c', 'start b', 'start c', 'start b', 'start b',\n",
              "       'start c', 'start b', 'start c', 'start b', 'start b', 'start b',\n",
              "       'start b', 'start b', 'start b', 'start c', 'start b', 'start c',\n",
              "       'start c', 'start c', 'start b', 'start c'], dtype='<U7')"
            ]
          },
          "metadata": {},
          "execution_count": 40
        }
      ]
    },
    {
      "cell_type": "markdown",
      "source": [
        "## Load Model/Test Data "
      ],
      "metadata": {
        "id": "EvtSmqgmzWOj"
      }
    },
    {
      "cell_type": "code",
      "source": [
        "# ------------------------------------------------------------------------------\n",
        "# Load \"transformer.keras\"\n",
        "transformer = keras.models.load_model(\n",
        "    \"/content/drive/MyDrive/Colab Notebooks/transformer.keras\",\n",
        "    custom_objects={\"TransformerEncoder\": TransformerEncoder,\n",
        "                    \"PositionalEmbedding\": PositionalEmbedding,\n",
        "                    \"TransformerDecoder\": TransformerDecoder})\n",
        "# Load \"transformer.keras\"\n",
        "# ------------------------------------------------------------------------------\n",
        "\n",
        "# ------------------------------------------------------------------------------\n",
        "# Load test input\n",
        "test_input = encoder_vectorize(pickle.load(open(\"/content/drive/MyDrive/Colab Notebooks/DS_5_train_input\",'rb')))\n",
        "# Load test input\n",
        "# ------------------------------------------------------------------------------\n",
        "\n",
        "transformer.summary()\n",
        "tf.keras.utils.plot_model(transformer)"
      ],
      "metadata": {
        "colab": {
          "base_uri": "https://localhost:8080/",
          "height": 969
        },
        "id": "nOwrzW9Ny_rH",
        "outputId": "9c5eb88b-54ec-4104-d35b-499420f41803"
      },
      "execution_count": null,
      "outputs": [
        {
          "output_type": "stream",
          "name": "stdout",
          "text": [
            "Model: \"model_1\"\n",
            "__________________________________________________________________________________________________\n",
            " Layer (type)                   Output Shape         Param #     Connected to                     \n",
            "==================================================================================================\n",
            " input_3 (InputLayer)           [(None, None)]       0           []                               \n",
            "                                                                                                  \n",
            " input_4 (InputLayer)           [(None, None)]       0           []                               \n",
            "                                                                                                  \n",
            " positional_embedding_2 (Positi  (None, None, 256)   54528       ['input_3[0][0]']                \n",
            " onalEmbedding)                                                                                   \n",
            "                                                                                                  \n",
            " positional_embedding_3 (Positi  (None, None, 256)   60928       ['input_4[0][0]']                \n",
            " onalEmbedding)                                                                                   \n",
            "                                                                                                  \n",
            " transformer_encoder_1 (Transfo  (None, None, 256)   2630144     ['positional_embedding_2[0][0]'] \n",
            " rmerEncoder)                                                                                     \n",
            "                                                                                                  \n",
            " transformer_decoder_1 (Transfo  (None, None, 256)   4734208     ['positional_embedding_3[0][0]', \n",
            " rmerDecoder)                                                     'transformer_encoder_1[0][0]']  \n",
            "                                                                                                  \n",
            " dropout_1 (Dropout)            (None, None, 256)    0           ['transformer_decoder_1[0][0]']  \n",
            "                                                                                                  \n",
            " dense_9 (Dense)                (None, None, 38)     9766        ['dropout_1[0][0]']              \n",
            "                                                                                                  \n",
            "==================================================================================================\n",
            "Total params: 7,489,574\n",
            "Trainable params: 7,489,574\n",
            "Non-trainable params: 0\n",
            "__________________________________________________________________________________________________\n"
          ]
        },
        {
          "output_type": "execute_result",
          "data": {
            "text/plain": [
              "<IPython.core.display.Image object>"
            ],
            "image/png": "[encoded data removed]"
          },
          "metadata": {},
          "execution_count": 2
        }
      ]
    },
    {
      "cell_type": "code",
      "source": [
        "encoder_input = transformer.get_layer(\"input_3\").input\n",
        "encoder_ouput = transformer.get_layer(\"transformer_encoder_1\").output\n",
        "encoder_path = keras.Model(encoder_input,encoder_ouput)\n",
        "encoder_path.summary()\n",
        "tf.keras.utils.plot_model(encoder_path)"
      ],
      "metadata": {
        "colab": {
          "base_uri": "https://localhost:8080/",
          "height": 567
        },
        "id": "ZWO1Px6YCPov",
        "outputId": "a7caa020-3398-49fe-8d5b-cedc0e058751"
      },
      "execution_count": null,
      "outputs": [
        {
          "output_type": "stream",
          "name": "stdout",
          "text": [
            "Model: \"model\"\n",
            "_________________________________________________________________\n",
            " Layer (type)                Output Shape              Param #   \n",
            "=================================================================\n",
            " input_3 (InputLayer)        [(None, None)]            0         \n",
            "                                                                 \n",
            " positional_embedding_2 (Pos  (None, None, 256)        54528     \n",
            " itionalEmbedding)                                               \n",
            "                                                                 \n",
            " transformer_encoder_1 (Tran  (None, None, 256)        2630144   \n",
            " sformerEncoder)                                                 \n",
            "                                                                 \n",
            "=================================================================\n",
            "Total params: 2,684,672\n",
            "Trainable params: 2,684,672\n",
            "Non-trainable params: 0\n",
            "_________________________________________________________________\n"
          ]
        },
        {
          "output_type": "execute_result",
          "data": {
            "text/plain": [
              "<IPython.core.display.Image object>"
            ],
            "image/png": "[encoded data removed]"
          },
          "metadata": {},
          "execution_count": 3
        }
      ]
    },
    {
      "cell_type": "code",
      "source": [
        "decoder_input = transformer.get_layer(\"input_4\").input\n",
        "x = transformer.get_layer(\"positional_embedding_3\")(decoder_input)\n",
        "encoder_output = transformer.get_layer(\"transformer_encoder_1\").output\n",
        "x = transformer.get_layer(\"transformer_decoder_1\")(x,encoder_output)\n",
        "x = transformer.get_layer(\"dropout_1\")(x)\n",
        "decoder_ouput = transformer.get_layer(\"dense_9\")(x)\n",
        "decoder_path = keras.Model([decoder_input,encoder_output],decoder_ouput)\n",
        "\n",
        "decoder_path.summary()\n",
        "tf.keras.utils.plot_model(decoder_path)"
      ],
      "metadata": {
        "colab": {
          "base_uri": "https://localhost:8080/",
          "height": 865
        },
        "id": "K6PHhQIFC3Ja",
        "outputId": "0f3a2bdc-8fac-462f-a9a6-c4f33e6f8e1f"
      },
      "execution_count": null,
      "outputs": [
        {
          "output_type": "stream",
          "name": "stdout",
          "text": [
            "Model: \"model_1\"\n",
            "__________________________________________________________________________________________________\n",
            " Layer (type)                   Output Shape         Param #     Connected to                     \n",
            "==================================================================================================\n",
            " input_4 (InputLayer)           [(None, None)]       0           []                               \n",
            "                                                                                                  \n",
            " positional_embedding_3 (Positi  (None, None, 256)   60928       ['input_4[0][0]']                \n",
            " onalEmbedding)                                                                                   \n",
            "                                                                                                  \n",
            " input_1 (InputLayer)           [(None, None, 256)]  0           []                               \n",
            "                                                                                                  \n",
            " transformer_decoder_1 (Transfo  (None, None, 256)   4734208     ['positional_embedding_3[2][0]', \n",
            " rmerDecoder)                                                     'input_1[0][0]']                \n",
            "                                                                                                  \n",
            " dropout_1 (Dropout)            (None, None, 256)    0           ['transformer_decoder_1[2][0]']  \n",
            "                                                                                                  \n",
            " dense_9 (Dense)                (None, None, 38)     9766        ['dropout_1[2][0]']              \n",
            "                                                                                                  \n",
            "==================================================================================================\n",
            "Total params: 4,804,902\n",
            "Trainable params: 4,804,902\n",
            "Non-trainable params: 0\n",
            "__________________________________________________________________________________________________\n"
          ]
        },
        {
          "output_type": "execute_result",
          "data": {
            "text/plain": [
              "<IPython.core.display.Image object>"
            ],
            "image/png": "[encoded data removed]"
          },
          "metadata": {},
          "execution_count": 4
        }
      ]
    },
    {
      "cell_type": "markdown",
      "source": [
        "## Test"
      ],
      "metadata": {
        "id": "lqVJHgdv4DOZ"
      }
    },
    {
      "cell_type": "markdown",
      "source": [
        "3 second / sentence"
      ],
      "metadata": {
        "id": "eyFy_YWB8A2Z"
      }
    },
    {
      "cell_type": "markdown",
      "source": [
        "214.8389937877655"
      ],
      "metadata": {
        "id": "ETVNe5d_JHu0"
      }
    },
    {
      "cell_type": "markdown",
      "source": [
        "144.35569739341736\n"
      ],
      "metadata": {
        "id": "6p8o1SVdKOqC"
      }
    },
    {
      "cell_type": "code",
      "source": [
        "import time\n",
        "start = time.time()\n",
        "ans = decode_sequence(test_input[0:100])\n",
        "end = time.time()\n",
        "print(end - start)"
      ],
      "metadata": {
        "colab": {
          "base_uri": "https://localhost:8080/"
        },
        "id": "FIUWcaPVwQMQ",
        "outputId": "bf759beb-e6bc-46c3-8b13-f73e3fca43c5"
      },
      "execution_count": null,
      "outputs": [
        {
          "output_type": "stream",
          "name": "stdout",
          "text": [
            "20.29936122894287\n"
          ]
        }
      ]
    },
    {
      "cell_type": "code",
      "source": [
        "i = 0\n",
        "print(test_output[i])\n",
        "print(ans[i][6:])"
      ],
      "metadata": {
        "colab": {
          "base_uri": "https://localhost:8080/"
        },
        "id": "9z2uNjtg3zhr",
        "outputId": "a66fc1c1-7675-47fc-ac3c-05955715eb2b"
      },
      "execution_count": null,
      "outputs": [
        {
          "output_type": "stream",
          "name": "stdout",
          "text": [
            "b f c f b f c d a j e f g c e b g a k i j b d b f a k l m b f b d a h ed ee ef a k k eg a k h eh a e ei c d a f ej ek a g d el \n",
            "b f c f b f c d a j e f g c e b g a k i j b d b f a k l m b f b d a h ed ee ef a k k eg a k h eh a e ei c d a f ej ek a g d el end e em end a f d fd a g d ff end e fg end a f d fh a g d fj end e fk end e fl end e fm end e gd end a g a g a g a g h a g a g a f k d a g a g d d d e ej end e k a g a f d d a g a e k d d a g a e l e k c e ej end c e el end a f d a e k a e fj end c e el end c e h c e l c f d d ei end c e el end a f d d d d a f d d a f eh end a f a\n"
          ]
        }
      ]
    },
    {
      "cell_type": "code",
      "source": [
        "from operator import eq\n",
        "total = 0.0\n",
        "correct = 0.0\n",
        "for i in range(0, 100):\n",
        "  true = test_output[i].split()\n",
        "  test = ans[i].split()\n",
        "  correct = correct + sum(map(eq, true, test))\n",
        "  total = total + len(test)\n",
        "print(correct/total)"
      ],
      "metadata": {
        "colab": {
          "base_uri": "https://localhost:8080/"
        },
        "id": "aqb6Q84e9R-q",
        "outputId": "372a070d-2dde-4fe8-a78c-4dee89bf8db3"
      },
      "execution_count": null,
      "outputs": [
        {
          "output_type": "stream",
          "name": "stdout",
          "text": [
            "0.7187198456095207\n"
          ]
        }
      ]
    },
    {
      "cell_type": "code",
      "source": [
        "test_output = pickle.load(open(\"/content/drive/MyDrive/Colab Notebooks/DS_5_train_output\",'rb')) "
      ],
      "metadata": {
        "id": "b2UueMehIMaV"
      },
      "execution_count": null,
      "outputs": []
    }
  ],
  "metadata": {
    "accelerator": "GPU",
    "colab": {
      "collapsed_sections": [
        "mMsPEiVOljkc",
        "zbxrckpmlZdY",
        "PkSTLzXmBXJE",
        "wPOpXelWlurO",
        "alsqL5Zrd6di",
        "tmuwaekdd-V9",
        "K0hKeX6IeFea",
        "dgulvyR5eNUm",
        "EvtSmqgmzWOj"
      ],
      "machine_shape": "hm",
      "name": "Project2.ipynb",
      "provenance": [],
      "include_colab_link": true
    },
    "kernelspec": {
      "display_name": "Python 3",
      "name": "python3"
    },
    "language_info": {
      "name": "python"
    }
  },
  "nbformat": 4,
  "nbformat_minor": 0
}